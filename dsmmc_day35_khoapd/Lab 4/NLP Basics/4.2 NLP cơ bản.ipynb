{
 "nbformat": 4,
 "nbformat_minor": 0,
 "metadata": {
  "kernelspec": {
   "display_name": "Python 3",
   "language": "python",
   "name": "python3"
  },
  "language_info": {
   "codemirror_mode": {
    "name": "ipython",
    "version": 3
   },
   "file_extension": ".py",
   "mimetype": "text/x-python",
   "name": "python",
   "nbconvert_exporter": "python",
   "pygments_lexer": "ipython3",
   "version": "3.7.6"
  },
  "colab": {
   "name": "4.2 NLP cơ bản.ipynb",
   "provenance": [],
   "collapsed_sections": []
  }
 },
 "cells": [
  {
   "cell_type": "markdown",
   "metadata": {
    "id": "GabAdPu0M2fN"
   },
   "source": [
    "# NLP cơ bản"
   ]
  },
  {
   "cell_type": "markdown",
   "metadata": {
    "id": "l5yQpQkWM2fa"
   },
   "source": [
    "Ở notebook này, chúng ta sẽ sử dụng truyện ngắn [_An Occurrence at Owl Creek Bridge_](https://en.wikipedia.org/wiki/An_Occurrence_at_Owl_Creek_Bridge) của Ambrose Bierce (1890). <br>Truyện này thuộc phạm vi công cộng; file text được lấy từ [Project Gutenberg](https://www.gutenberg.org/ebooks/375.txt.utf-8)."
   ]
  },
  {
   "metadata": {
    "ExecuteTime": {
     "end_time": "2024-11-26T03:05:49.503783Z",
     "start_time": "2024-11-26T03:05:38.793641Z"
    }
   },
   "cell_type": "code",
   "source": "!python -m spacy download en_core_web_sm",
   "outputs": [
    {
     "name": "stdout",
     "output_type": "stream",
     "text": [
      "Collecting en-core-web-sm==3.8.0\n",
      "  Downloading https://github.com/explosion/spacy-models/releases/download/en_core_web_sm-3.8.0/en_core_web_sm-3.8.0-py3-none-any.whl (12.8 MB)\n",
      "     ---------------------------------------- 0.0/12.8 MB ? eta -:--:--\n",
      "     ---------------------------------------- 0.0/12.8 MB ? eta -:--:--\n",
      "     ---------------------------------------- 0.0/12.8 MB ? eta -:--:--\n",
      "     - -------------------------------------- 0.5/12.8 MB 1.5 MB/s eta 0:00:09\n",
      "     -- ------------------------------------- 0.8/12.8 MB 1.3 MB/s eta 0:00:09\n",
      "     -- ------------------------------------- 0.8/12.8 MB 1.3 MB/s eta 0:00:09\n",
      "     ---- ----------------------------------- 1.3/12.8 MB 1.4 MB/s eta 0:00:09\n",
      "     ----- ---------------------------------- 1.8/12.8 MB 1.6 MB/s eta 0:00:07\n",
      "     ------ --------------------------------- 2.1/12.8 MB 1.6 MB/s eta 0:00:07\n",
      "     -------- ------------------------------- 2.6/12.8 MB 1.8 MB/s eta 0:00:06\n",
      "     --------- ------------------------------ 3.1/12.8 MB 1.9 MB/s eta 0:00:06\n",
      "     ----------- ---------------------------- 3.7/12.8 MB 1.9 MB/s eta 0:00:05\n",
      "     ------------- -------------------------- 4.5/12.8 MB 2.1 MB/s eta 0:00:04\n",
      "     --------------- ------------------------ 5.0/12.8 MB 2.1 MB/s eta 0:00:04\n",
      "     ----------------- ---------------------- 5.5/12.8 MB 2.2 MB/s eta 0:00:04\n",
      "     ------------------ --------------------- 6.0/12.8 MB 2.2 MB/s eta 0:00:04\n",
      "     --------------------- ------------------ 6.8/12.8 MB 2.3 MB/s eta 0:00:03\n",
      "     ----------------------- ---------------- 7.6/12.8 MB 2.4 MB/s eta 0:00:03\n",
      "     -------------------------- ------------- 8.4/12.8 MB 2.5 MB/s eta 0:00:02\n",
      "     --------------------------- ------------ 8.9/12.8 MB 2.6 MB/s eta 0:00:02\n",
      "     ------------------------------ --------- 9.7/12.8 MB 2.6 MB/s eta 0:00:02\n",
      "     -------------------------------- ------- 10.5/12.8 MB 2.7 MB/s eta 0:00:01\n",
      "     ----------------------------------- ---- 11.3/12.8 MB 2.7 MB/s eta 0:00:01\n",
      "     ------------------------------------ --- 11.8/12.8 MB 2.7 MB/s eta 0:00:01\n",
      "     ---------------------------------------  12.6/12.8 MB 2.8 MB/s eta 0:00:01\n",
      "     ---------------------------------------- 12.8/12.8 MB 2.7 MB/s eta 0:00:00\n",
      "Installing collected packages: en-core-web-sm\n",
      "Successfully installed en-core-web-sm-3.8.0\n",
      "\u001B[38;5;2m[+] Download and installation successful\u001B[0m\n",
      "You can now load the package via spacy.load('en_core_web_sm')\n"
     ]
    }
   ],
   "execution_count": 2
  },
  {
   "cell_type": "code",
   "metadata": {
    "id": "hq8OBNgnM2fc",
    "ExecuteTime": {
     "end_time": "2024-11-26T08:22:24.747522Z",
     "start_time": "2024-11-26T08:22:21.376616Z"
    }
   },
   "source": [
    "# CHẠY CELL NÀY để thực hiện các import tiêu chuẩn:\n",
    "import spacy\n",
    "\n",
    "nlp = spacy.load('en_core_web_sm')"
   ],
   "outputs": [],
   "execution_count": 1
  },
  {
   "cell_type": "markdown",
   "metadata": {
    "id": "aPDpPQqEM2fd"
   },
   "source": [
    "**1. Tạo đối tượng Doc từ file `owlcreek.txt`**<br> \n",
    "> GỢI Ý: Dùng `with open('../TextFiles/owlcreek.txt') as f:`"
   ]
  },
  {
   "cell_type": "code",
   "metadata": {
    "id": "pfqeNwpmM2fe",
    "ExecuteTime": {
     "end_time": "2024-11-26T08:22:26.804963Z",
     "start_time": "2024-11-26T08:22:26.682140Z"
    }
   },
   "source": [
    "# Nhập code ở đây:\n",
    "with open(\"../TextFiles/owlcreek.txt\") as f:\n",
    "\tdoc = nlp.make_doc(f.read())"
   ],
   "outputs": [],
   "execution_count": 2
  },
  {
   "cell_type": "code",
   "metadata": {
    "id": "QP4ixS1jM2fe",
    "outputId": "2b3b4154-f285-49d1-f0ff-5d5f9919743f",
    "ExecuteTime": {
     "end_time": "2024-11-26T08:22:28.334040Z",
     "start_time": "2024-11-26T08:22:28.321041Z"
    }
   },
   "source": [
    "# Chạy cell này để xác minh là nó hoạt động:\n",
    "\n",
    "doc[:36]"
   ],
   "outputs": [
    {
     "data": {
      "text/plain": [
       "AN OCCURRENCE AT OWL CREEK BRIDGE\n",
       "\n",
       "by Ambrose Bierce\n",
       "\n",
       "I\n",
       "\n",
       "A man stood upon a railroad bridge in northern Alabama, looking down\n",
       "into the swift water twenty feet below.  "
      ]
     },
     "execution_count": 3,
     "metadata": {},
     "output_type": "execute_result"
    }
   ],
   "execution_count": 3
  },
  {
   "cell_type": "markdown",
   "metadata": {
    "id": "CrNY2D99M2fi"
   },
   "source": [
    "**2. File có chứa bao nhiêu token?**"
   ]
  },
  {
   "cell_type": "code",
   "metadata": {
    "id": "zqds3nY9M2fi",
    "outputId": "26768b71-6083-469c-f600-621f655453bc",
    "ExecuteTime": {
     "end_time": "2024-11-26T08:22:30.304422Z",
     "start_time": "2024-11-26T08:22:30.290427Z"
    }
   },
   "source": [
    "num_tokens = len(doc)\n",
    "num_tokens"
   ],
   "outputs": [
    {
     "data": {
      "text/plain": [
       "4835"
      ]
     },
     "execution_count": 4,
     "metadata": {},
     "output_type": "execute_result"
    }
   ],
   "execution_count": 4
  },
  {
   "cell_type": "markdown",
   "metadata": {
    "id": "eivAulVOM2fj"
   },
   "source": [
    "**3. File có bao nhiêu câu?**<br>GỢI Ý: Bạn sẽ cần tạo một list trước tiên!"
   ]
  },
  {
   "cell_type": "code",
   "metadata": {
    "id": "Yx-HNiQVM2fj",
    "outputId": "acbed26a-0e0d-4ff0-fdbd-2246adf7df59",
    "ExecuteTime": {
     "end_time": "2024-11-26T08:22:33.107077Z",
     "start_time": "2024-11-26T08:22:32.032451Z"
    }
   },
   "source": [
    "import pypdf\n",
    "\n",
    "with open(\"../TextFiles/owlcreek.txt\", 'r', encoding = 'utf-8') as f:\n",
    "\tall_text = f.read()\n",
    "\n",
    "doc = nlp(all_text)\n",
    "\n",
    "# Đếm số lượng câu\n",
    "num_sentences = len(list(doc.sents))\n",
    "print(f\"Số lượng câu trong file PDF: {num_sentences}\")\n"
   ],
   "outputs": [
    {
     "name": "stdout",
     "output_type": "stream",
     "text": [
      "Số lượng câu trong file PDF: 204\n"
     ]
    }
   ],
   "execution_count": 5
  },
  {
   "cell_type": "markdown",
   "metadata": {
    "id": "3AdtBpp0M2fk"
   },
   "source": [
    "**4. In ra câu thứ ba trong tài liệu**<br> GỢI Ý:  Lập chỉ mục bắt đầu từ 0 và tiêu đề chính là câu đầu tiên."
   ]
  },
  {
   "cell_type": "code",
   "metadata": {
    "id": "Jo0qaoh_M2fl",
    "outputId": "9307b27f-991c-4434-db05-89a8795467d7",
    "ExecuteTime": {
     "end_time": "2024-11-26T08:22:44.163987Z",
     "start_time": "2024-11-26T08:22:44.154966Z"
    }
   },
   "source": "print(list(doc.sents)[2])",
   "outputs": [
    {
     "name": "stdout",
     "output_type": "stream",
     "text": [
      "A rope closely encircled his\n",
      "neck.  \n"
     ]
    }
   ],
   "execution_count": 6
  },
  {
   "cell_type": "markdown",
   "metadata": {
    "id": "Su7PsfvWM2fl"
   },
   "source": [
    "**5. Với mỗi token ở câu trên, hãy in ra `text`, tag `POS`, tag `dep` và `lemma`<br>\n",
    "THỬ THÁCH: Sắp các giá trị thành hàng trong các cột và in ra kết quả.**"
   ]
  },
  {
   "metadata": {
    "ExecuteTime": {
     "end_time": "2024-11-26T08:22:47.362736Z",
     "start_time": "2024-11-26T08:22:47.350736Z"
    }
   },
   "cell_type": "code",
   "source": [
    "sentences = list(doc.sents)\n",
    "third_sentence = sentences[2]\n",
    "for token in third_sentence:\n",
    "\tprint(f\"{token.text:<15}{token.pos_:<10}{token.dep_:<15}{token.lemma_:<15}\")"
   ],
   "outputs": [
    {
     "name": "stdout",
     "output_type": "stream",
     "text": [
      "A              DET       det            a              \n",
      "rope           NOUN      nsubj          rope           \n",
      "closely        ADV       advmod         closely        \n",
      "encircled      VERB      ROOT           encircle       \n",
      "his            PRON      poss           his            \n",
      "\n",
      "              SPACE     dep            \n",
      "              \n",
      "neck           NOUN      dobj           neck           \n",
      ".              PUNCT     punct          .              \n",
      "               SPACE     dep                           \n"
     ]
    }
   ],
   "execution_count": 7
  },
  {
   "cell_type": "code",
   "metadata": {
    "id": "VpH7JxizM2fl",
    "outputId": "564485af-f2dc-403f-c0ad-919a073122b6"
   },
   "source": [
    "# GIẢI PHÁP THÔNG THƯỜNG:\n",
    "sentences = list(doc.sents)\n",
    "third_sentence = sentences[2]\n",
    "for token in third_sentence:\n",
    "\tprint(f\"{token.text:<15}{token.pos_:<10}{token.dep_:<15}{token.lemma_:<15}\")"
   ],
   "execution_count": null,
   "outputs": [
    {
     "name": "stdout",
     "output_type": "stream",
     "text": [
      "A DET det a\n",
      "man NOUN nsubj man\n",
      "stood VERB ROOT stand\n",
      "upon ADP prep upon\n",
      "a DET det a\n",
      "railroad NOUN compound railroad\n",
      "bridge NOUN pobj bridge\n",
      "in ADP prep in\n",
      "northern ADJ amod northern\n",
      "Alabama PROPN pobj alabama\n",
      ", PUNCT punct ,\n",
      "looking VERB advcl look\n",
      "down PART prt down\n",
      "\n",
      " SPACE  \n",
      "\n",
      "into ADP prep into\n",
      "the DET det the\n",
      "swift ADJ amod swift\n",
      "water NOUN pobj water\n",
      "twenty NUM nummod twenty\n",
      "feet NOUN npadvmod foot\n",
      "below ADV advmod below\n",
      ". PUNCT punct .\n",
      "  SPACE   \n"
     ]
    }
   ]
  },
  {
   "cell_type": "code",
   "metadata": {
    "id": "TdYEX23cM2fm",
    "outputId": "db4b7c49-8e82-4002-babd-fee6e2a97c35"
   },
   "source": [
    "# GIẢI PHÁP NÂNG CAO:\n",
    "\n"
   ],
   "execution_count": null,
   "outputs": [
    {
     "name": "stdout",
     "output_type": "stream",
     "text": [
      "A               DET   det        a              \n",
      "man             NOUN  nsubj      man            \n",
      "stood           VERB  ROOT       stand          \n",
      "upon            ADP   prep       upon           \n",
      "a               DET   det        a              \n",
      "railroad        NOUN  compound   railroad       \n",
      "bridge          NOUN  pobj       bridge         \n",
      "in              ADP   prep       in             \n",
      "northern        ADJ   amod       northern       \n",
      "Alabama         PROPN pobj       alabama        \n",
      ",               PUNCT punct      ,              \n",
      "looking         VERB  advcl      look           \n",
      "down            PART  prt        down           \n",
      "\n",
      "               SPACE            \n",
      "              \n",
      "into            ADP   prep       into           \n",
      "the             DET   det        the            \n",
      "swift           ADJ   amod       swift          \n",
      "water           NOUN  pobj       water          \n",
      "twenty          NUM   nummod     twenty         \n",
      "feet            NOUN  npadvmod   foot           \n",
      "below           ADV   advmod     below          \n",
      ".               PUNCT punct      .              \n",
      "                SPACE                           \n"
     ]
    }
   ]
  },
  {
   "cell_type": "markdown",
   "metadata": {
    "id": "6Q-EHGhKM2fm"
   },
   "source": [
    "**6. Viết một matcher tên là 'Swimming' để tìm cả hai lần xuất hiện của cụm \"swimming vigorously\" trong text**<br> \n",
    "GỢI Ý: Nên kèm pattern `'IS_SPACE': True` giữa hai từ!"
   ]
  },
  {
   "cell_type": "code",
   "metadata": {
    "id": "HnHDFX6jM2fm",
    "ExecuteTime": {
     "end_time": "2024-11-26T08:29:12.959832Z",
     "start_time": "2024-11-26T08:29:12.947831Z"
    }
   },
   "source": [
    "# Import thư viện Matcher:\n",
    "\n",
    "from spacy.matcher import Matcher\n",
    "\n",
    "matcher = Matcher(nlp.vocab)"
   ],
   "outputs": [],
   "execution_count": 8
  },
  {
   "cell_type": "code",
   "metadata": {
    "id": "wOnvh247M2fn",
    "ExecuteTime": {
     "end_time": "2024-11-26T08:30:04.976862Z",
     "start_time": "2024-11-26T08:30:04.963848Z"
    }
   },
   "source": [
    "# Tạo một pattern và thêm nó vào matcher:\n",
    "\n",
    "pattern = [\n",
    "\t{\"LOWER\": \"swimming\"},\n",
    "\t{\"IS_SPACE\": True, \"OP\": \"*\"},  # Cho phép khoảng trắng hoặc không có\n",
    "\t{\"LOWER\": \"vigorously\"}\n",
    "]\n",
    "matcher.add(\"Swimming\", [pattern])\n",
    "matches = matcher(doc)\n",
    "\n",
    "print(f\"Số lần xuất hiện của cụm 'swimming vigorously': {len(matches)}\")\n",
    "for match_id, start, end in matches:\n",
    "\tmatched_span = doc[start:end]\n",
    "\tprint(f\"Vị trí: {start}-{end}, Cụm: {matched_span.text}\")"
   ],
   "outputs": [
    {
     "name": "stdout",
     "output_type": "stream",
     "text": [
      "Số lần xuất hiện của cụm 'swimming vigorously': 2\n",
      "Vị trí: 1274-1277, Cụm: swimming\n",
      "vigorously\n",
      "Vị trí: 3609-3612, Cụm: swimming\n",
      "vigorously\n"
     ]
    }
   ],
   "execution_count": 9
  },
  {
   "cell_type": "code",
   "metadata": {
    "id": "jV8ljYbzM2fn",
    "outputId": "492261be-0251-4101-ad10-126ae956e63b"
   },
   "source": [
    "# Tạo một list các matches gọi là \"found_matches\" và in ra list:\n",
    "\n",
    "\n"
   ],
   "execution_count": null,
   "outputs": [
    {
     "name": "stdout",
     "output_type": "stream",
     "text": [
      "[(12881893835109366681, 1274, 1277), (12881893835109366681, 3607, 3610)]\n"
     ]
    }
   ]
  },
  {
   "cell_type": "markdown",
   "metadata": {
    "id": "jByMYtM1M2fn"
   },
   "source": "**7. In ra text quanh mỗi match được tìm thấy**"
  },
  {
   "metadata": {
    "ExecuteTime": {
     "end_time": "2024-11-26T08:58:33.567722Z",
     "start_time": "2024-11-26T08:58:33.555720Z"
    }
   },
   "cell_type": "code",
   "source": [
    "print(f\"Số lần xuất hiện của cụm 'swimming vigorously': {len(matches)}\")\n",
    "for match_id, start, end in matches:\n",
    "\tmatched_span = doc[start:end]\n",
    "\tsentence = matched_span.sent  # Lấy câu chứa cụm từ\n",
    "\tprint(f\"\\nCụm: {matched_span.text}\")\n",
    "\tprint(f\"Câu: {sentence.text}\")"
   ],
   "outputs": [
    {
     "name": "stdout",
     "output_type": "stream",
     "text": [
      "Số lần xuất hiện của cụm 'swimming vigorously': 2\n",
      "\n",
      "Cụm: swimming\n",
      "vigorously\n",
      "Câu: By diving I could evade the bullets and, swimming\n",
      "vigorously, reach the bank, take to the woods and get away home.  \n",
      "\n",
      "Cụm: swimming\n",
      "vigorously\n",
      "Câu: The hunted man saw all this over his shoulder; he was now swimming\n",
      "vigorously with the current.  \n"
     ]
    }
   ],
   "execution_count": 10
  },
  {
   "cell_type": "code",
   "metadata": {
    "id": "JvH7yoKLM2fo",
    "outputId": "5568391b-936b-4721-8287-a3aa0b4c983f"
   },
   "source": [
    ""
   ],
   "execution_count": null,
   "outputs": [
    {
     "name": "stdout",
     "output_type": "stream",
     "text": [
      "By diving I could evade the bullets and, swimming\n",
      "vigorously, reach the bank, take to the woods and get away home\n"
     ]
    }
   ]
  },
  {
   "cell_type": "code",
   "metadata": {
    "id": "Js141UcHM2fo",
    "outputId": "3cc95499-737b-48e9-9135-133d5ebfe84a"
   },
   "source": [
    ""
   ],
   "execution_count": null,
   "outputs": [
    {
     "name": "stdout",
     "output_type": "stream",
     "text": [
      "over his shoulder; he was now swimming\n",
      "vigorously with the current.  \n"
     ]
    }
   ]
  },
  {
   "cell_type": "markdown",
   "metadata": {
    "id": "Xeewp8kZM2fo"
   },
   "source": [
    "**EXTRA CREDIT:<br>In ra *câu* chứa mỗi match được tìm thấy**"
   ]
  },
  {
   "cell_type": "code",
   "metadata": {
    "id": "Rv8hn32XM2fo",
    "outputId": "a2d09343-84db-4a56-c834-4e81fd51c88c"
   },
   "source": [
    "\n",
    "\n",
    "\n"
   ],
   "execution_count": null,
   "outputs": [
    {
     "name": "stdout",
     "output_type": "stream",
     "text": [
      "By diving I could evade the bullets and, swimming\n",
      "vigorously, reach the bank, take to the woods and get away home.  \n"
     ]
    }
   ]
  },
  {
   "cell_type": "code",
   "metadata": {
    "id": "QMnrqy4qM2fp",
    "outputId": "f2336e7a-f67b-4b89-8c3e-e7ba4be8127c"
   },
   "source": [
    "\n",
    "\n",
    "\n"
   ],
   "execution_count": null,
   "outputs": [
    {
     "name": "stdout",
     "output_type": "stream",
     "text": [
      "The hunted man saw all this over his shoulder; he was now swimming\n",
      "vigorously with the current.  \n"
     ]
    }
   ]
  }
 ]
}
