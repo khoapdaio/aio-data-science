{
 "nbformat": 4,
 "nbformat_minor": 0,
 "metadata": {
  "anaconda-cloud": {},
  "kernelspec": {
   "display_name": "Python [default]",
   "language": "python",
   "name": "python3"
  },
  "language_info": {
   "codemirror_mode": {
    "name": "ipython",
    "version": 3
   },
   "file_extension": ".py",
   "mimetype": "text/x-python",
   "name": "python",
   "nbconvert_exporter": "python",
   "pygments_lexer": "ipython3",
   "version": "3.5.2"
  },
  "toc": {
   "colors": {
    "hover_highlight": "#DAA520",
    "running_highlight": "#FF0000",
    "selected_highlight": "#FFD700"
   },
   "moveMenuLeft": true,
   "nav_menu": {
    "height": "58px",
    "width": "252px"
   },
   "navigate_menu": true,
   "number_sections": true,
   "sideBar": true,
   "threshold": 4,
   "toc_cell": false,
   "toc_section_display": "block",
   "toc_window_display": false,
   "widenNotebook": false
  },
  "colab": {
   "name": "Lab_2_4_Sound_Magician.ipynb",
   "provenance": [],
   "collapsed_sections": []
  }
 },
 "cells": [
  {
   "cell_type": "markdown",
   "metadata": {
    "id": "CtpmzhmaTg_C"
   },
   "source": [
    "# Sound Magician\n",
    "\n",
    "Thời lượng ước tính: **120** phút\n",
    "\n",
    "## Giới thiệu lab\n",
    "Nâng cao! Có thể bạn đã từng xem một bộ phim hoặc chương trình truyền hình mà các điệp viên siêu hạng sử dụng một số kỹ thuật khó tin để nâng cao hình ảnh pixelated hoặc khôi phục một số dữ liệu bị mất. Trong lab này, bạn sẽ thực hiện điều tương tự — lần này mục tiêu của bạn là sử dụng hồi quy tuyến tính để khôi phục hoặc 'điền vào' phần bị xóa hoàn toàn của một tệp âm thanh!\n",
    "\n",
    "Để hoàn thành lab này, bạn sẽ sử dụng FSDD (Free-Spoken-Digits-Dataset), một tập dữ liệu âm thanh do Zohar Jackson tổng hợp lại khi anh ấy nhận thấy không có nhiều âm thanh được làm sạch (không có khoảng trống, độ dài tương đương, cùng bitrate, cùng tỷ lệ mẫu trên giây, ...) thư viện âm thanh sẵn sàng cho machine learning."
   ]
  },
  {
   "cell_type": "code",
   "metadata": {
    "id": "UPQa1SVTTg_G",
    "ExecuteTime": {
     "end_time": "2024-06-25T08:58:54.205612Z",
     "start_time": "2024-06-25T08:58:53.875472Z"
    }
   },
   "source": [
    "import numpy as np\n",
    "import pandas as pd\n",
    "import scipy.io.wavfile as wavfile\n",
    "from sklearn.linear_model import LinearRegression\n",
    "from sklearn.utils.validation import check_random_state"
   ],
   "outputs": [],
   "execution_count": 47
  },
  {
   "cell_type": "markdown",
   "metadata": {
    "id": "FIJAy5U0Tg_T"
   },
   "source": [
    "### Về Âm thanh"
   ]
  },
  {
   "cell_type": "markdown",
   "metadata": {
    "id": "y9lY3g5oTg_U"
   },
   "source": [
    "Mẫu là các quan sát. Mỗi tệp âm thanh sẽ là một mẫu duy nhất trong tập dữ liệu.\n",
    "\n",
    "Tìm thêm thông tin về [Mẫu âm thanh tại đây] (https://en.wikipedia.org/wiki/Sampling_(signal_processing)).\n",
    "\n",
    "Mỗi tệp .wav thực sự chỉ là một loạt các mẫu số, được lấy mẫu từ tín hiệu analog. Sampling (Lấy mẫu) là một kiểu rời rạc. Khi chúng ta đề cập đến các 'sample (mẫu)', tức là các quan sát. Khi đề cập đến 'audio sample', chúng ta muốn nói đến \"feature (thuộc tính)\" thực sự của tệp âm thanh.\n",
    "\n",
    "Mục tiêu của lab này là sử dụng hồi quy tuyến tính, đa mục tiêu để tạo ra bằng phép ngoại suy phần bị thiếu của tệp âm thanh thử nghiệm.\n",
    "\n",
    "Mỗi một thuộc tính audio_sample sẽ là đầu ra của một phương trình, là một hàm của phần được cung cấp của audio_samples:\n",
    "\n",
    "    missing_samples = f(provided_samples)\n",
    "\n",
    "Bạn có thể thử với lượng âm thanh bạn muốn cắt và để máy tính tạo ra bằng tham số Provided_Portion."
   ]
  },
  {
   "cell_type": "markdown",
   "metadata": {
    "collapsed": false,
    "id": "ayulRqRrTg_W"
   },
   "source": [
    "Hãy sử dụng cái này. Đây là lượng tệp âm thanh sẽ được cung cấp, tính bằng phần trăm. Phần trăm còn lại của tệp sẽ được tạo thông qua phép ngoại suy tuyến tính."
   ]
  },
  {
   "cell_type": "code",
   "metadata": {
    "id": "i7chXL5DTg_X",
    "ExecuteTime": {
     "end_time": "2024-06-25T07:21:55.153636Z",
     "start_time": "2024-06-25T07:21:55.148630Z"
    }
   },
   "source": [
    "Provided_Portion = 0.25"
   ],
   "outputs": [],
   "execution_count": 2
  },
  {
   "cell_type": "markdown",
   "metadata": {
    "collapsed": true,
    "id": "CvGpdC1RTg_d"
   },
   "source": [
    "## 1. Chuẩn bị dữ liệu"
   ]
  },
  {
   "cell_type": "markdown",
   "metadata": {
    "id": "KMngCekmTg_f"
   },
   "source": [
    "Bắt đầu bằng cách tạo một list Python thông thường là `zero`:"
   ]
  },
  {
   "cell_type": "code",
   "metadata": {
    "id": "14JWhfK6Tg_g",
    "ExecuteTime": {
     "end_time": "2024-06-25T08:58:20.035826Z",
     "start_time": "2024-06-25T08:58:20.032024Z"
    }
   },
   "source": [
    "# Nhập code của bạn ở đây\n",
    "zero = list()"
   ],
   "outputs": [],
   "execution_count": 42
  },
  {
   "cell_type": "markdown",
   "metadata": {
    "id": "lJTKO612Tg_m"
   },
   "source": [
    "Lặp qua tập dữ liệu và tải lên tất cả 50 tệp `0_jackson*.wav` bằng phương thức `wavfile.read()`: https://docs.scipy.org/doc/scipy-0.14.0/reference/generated/scipy.io.wavfile.read.html từ thư mục [data](https://drive.google.com/drive/folders/1UDAvuRfXzcOcpI84neQAmAeffIrJKKBi?usp=sharing).\n",
    "\n",
    "Hãy cẩn thận! `.read()` trả về một tuple và bạn chỉ quan tâm đến dữ liệu âm thanh chứ không phải sample_rate tại thời điểm này. Bên trong vòng lặp for, chỉ cần nối dữ liệu âm thanh đã tải vào list Python `zero`:"
   ]
  },
  {
   "cell_type": "code",
   "metadata": {
    "id": "DUwnRGm-Tg_n",
    "ExecuteTime": {
     "end_time": "2024-06-25T08:58:22.886851Z",
     "start_time": "2024-06-25T08:58:22.427304Z"
    }
   },
   "source": [
    "# Nhập code của bạn ở đây\n",
    "\n",
    "for i in range(50):\n",
    "\tzero.append(wavfile.read(f\"data/0_jackson_{i}.wav\")[1])\n",
    "zero"
   ],
   "outputs": [
    {
     "data": {
      "text/plain": [
       "[array([-369, -431, -475, ...,  301,  324,  304], dtype=int16),\n",
       " array([-311,  -91, -140, ...,  378,  357,  333], dtype=int16),\n",
       " array([-361, -226, -238, ..., -286, -311, -343], dtype=int16),\n",
       " array([ 323,  338,  357, ..., -246, -280, -301], dtype=int16),\n",
       " array([-302, -312, -103, ..., -338, -333, -348], dtype=int16),\n",
       " array([ 305,  365,  419, ..., -313, -342, -346], dtype=int16),\n",
       " array([ 364,  420,  469, ..., -326, -334, -351], dtype=int16),\n",
       " array([-417,  152,  168, ...,  312,  316,  309], dtype=int16),\n",
       " array([ 330,  382,  389, ..., -410, -400, -385], dtype=int16),\n",
       " array([-312, -335, -338, ...,  384,  371,  345], dtype=int16),\n",
       " array([-314, -303, -332, ..., -355, -343, -322], dtype=int16),\n",
       " array([347, 351, 462, ..., 365, 338, 302], dtype=int16),\n",
       " array([-336,  160,   65, ..., -315, -343, -319], dtype=int16),\n",
       " array([ 354,  442,  610, ..., -312, -336, -333], dtype=int16),\n",
       " array([ 397,  531,  638, ..., -357, -386, -353], dtype=int16),\n",
       " array([ 382,  459,  530, ..., -254, -301, -309], dtype=int16),\n",
       " array([-393,   54,  -71, ...,  319,  340,  313], dtype=int16),\n",
       " array([-311, -363, -318, ..., -239, -305, -304], dtype=int16),\n",
       " array([-316, -336, -342, ..., -442, -424, -310], dtype=int16),\n",
       " array([ 335,  392,  481, ..., -302, -314, -304], dtype=int16),\n",
       " array([-309, -323, -333, ..., -301, -300, -304], dtype=int16),\n",
       " array([ 305,  305,  294, ..., -379, -342, -300], dtype=int16),\n",
       " array([ 342,  452,  546, ..., -356, -353, -332], dtype=int16),\n",
       " array([-350, -391, -371, ..., -454, -416, -358], dtype=int16),\n",
       " array([-358, -447, -533, ..., -313, -261, -310], dtype=int16),\n",
       " array([-313, -347, -332, ..., -317, -350, -331], dtype=int16),\n",
       " array([ 332,    0,  -58, ..., -473, -511, -418], dtype=int16),\n",
       " array([-304, -319, -377, ..., -438, -457, -425], dtype=int16),\n",
       " array([-332, -396, -502, ..., -267, -274, -322], dtype=int16),\n",
       " array([-317, -346, -377, ...,  451,  432,  351], dtype=int16),\n",
       " array([-328, -401, -471, ..., -213, -274, -360], dtype=int16),\n",
       " array([-328, -372, -403, ...,  219,  298,  329], dtype=int16),\n",
       " array([-310, -377, -502, ...,  294,  351,  323], dtype=int16),\n",
       " array([ 310,  339,  351, ..., -327, -351, -311], dtype=int16),\n",
       " array([-309, -385, -459, ...,  363,  364,  306], dtype=int16),\n",
       " array([303, 348, 354, ..., 135, 186, 302], dtype=int16),\n",
       " array([-348, -418, -431, ...,  329,  357,  354], dtype=int16),\n",
       " array([ 306,  399,  455, ..., -228, -345, -344], dtype=int16),\n",
       " array([-326, -362, -376, ..., -315, -321, -316], dtype=int16),\n",
       " array([-317, -199, -303, ...,  393,  409,  384], dtype=int16),\n",
       " array([ 322,  395,  470, ..., -344, -343, -319], dtype=int16),\n",
       " array([355, 425, 481, ..., 398, 372, 332], dtype=int16),\n",
       " array([ 331,  404,  490, ..., -297, -307, -318], dtype=int16),\n",
       " array([-307, -334, -336, ...,  354,  328,  312], dtype=int16),\n",
       " array([-316, -377, -435, ..., -325, -311, -301], dtype=int16),\n",
       " array([ 301,  394,  507, ..., -423, -401, -329], dtype=int16),\n",
       " array([343, 404, 454, ..., 420, 377, 345], dtype=int16),\n",
       " array([ 320,  372,  421, ..., -234, -264, -302], dtype=int16),\n",
       " array([-439, -572, -656, ...,  425,  343,  310], dtype=int16),\n",
       " array([-302, -337, -371, ...,   59, -180, -352], dtype=int16)]"
      ]
     },
     "execution_count": 43,
     "metadata": {},
     "output_type": "execute_result"
    }
   ],
   "execution_count": 43
  },
  {
   "cell_type": "markdown",
   "metadata": {
    "collapsed": false,
    "id": "dzHr1FEzTg_u"
   },
   "source": [
    "Hãy dành một chút thời gian để chuyển 0 thành một khung dữ liệu (DataFrame). Khi bạn làm như vậy, hãy đặt `dtype` thành `np.int16`, vì các tệp âm thanh đầu vào là 16 bit cho mỗi mẫu. Nếu bạn không biết cách thực hiện việc này, hãy đọc tài liệu tại đây: http://pandas.pydata.org/pandas-docs/stable/generated/pandas.DataFrame.html\n",
    "\n",
    "Tiếc là những đoạn âm thanh này không được chuẩn hóa độ dài nên chúng ta sẽ phải chia nhỏ chúng để tất cả có cùng độ dài. Vì Pandas sẽ chèn các NAN tại bất kỳ vị trí nào để tạo thành mảng [n_observed_samples, n_audio_samples] hình chữ nhật hoàn hảo nên hãy thực hiện một `dropna` trên trục Y ở đây. Sau đó, chuyển đổi 1 trở lại thành NDArray bằng `yourarrayname.values`:"
   ]
  },
  {
   "cell_type": "code",
   "metadata": {
    "id": "HzG76oSaTg_v",
    "ExecuteTime": {
     "end_time": "2024-06-25T08:58:27.644522Z",
     "start_time": "2024-06-25T08:58:26.073658Z"
    }
   },
   "source": [
    "# Nhập code của bạn ở đây\n",
    "\n",
    "zero = pd.DataFrame(zero)\n",
    "zero = zero.transpose()\n",
    "zero = zero.dropna(axis = 0).astype(np.int16)\n",
    "zero.head()"
   ],
   "outputs": [
    {
     "data": {
      "text/plain": [
       "    0    1    2    3    4    5    6    7    8    9   ...   40   41   42   43  \\\n",
       "0 -369 -311 -361  323 -302  305  364 -417  330 -312  ...  322  355  331 -307   \n",
       "1 -431  -91 -226  338 -312  365  420  152  382 -335  ...  395  425  404 -334   \n",
       "2 -475 -140 -238  357 -103  419  469  168  389 -338  ...  470  481  490 -336   \n",
       "3 -543 -182 -478  388 -305  486  529 -176  401 -344  ...  529  505  557 -325   \n",
       "4 -571 -271 -425  381 -145  540  557  -48  429 -338  ...  559  529  617 -339   \n",
       "\n",
       "    44   45   46   47   48   49  \n",
       "0 -316  301  343  320 -439 -302  \n",
       "1 -377  394  404  372 -572 -337  \n",
       "2 -435  507  454  421 -656 -371  \n",
       "3 -504  602  477  468 -709 -416  \n",
       "4 -547  685  477  514 -743 -463  \n",
       "\n",
       "[5 rows x 50 columns]"
      ],
      "text/html": [
       "<div>\n",
       "<style scoped>\n",
       "    .dataframe tbody tr th:only-of-type {\n",
       "        vertical-align: middle;\n",
       "    }\n",
       "\n",
       "    .dataframe tbody tr th {\n",
       "        vertical-align: top;\n",
       "    }\n",
       "\n",
       "    .dataframe thead th {\n",
       "        text-align: right;\n",
       "    }\n",
       "</style>\n",
       "<table border=\"1\" class=\"dataframe\">\n",
       "  <thead>\n",
       "    <tr style=\"text-align: right;\">\n",
       "      <th></th>\n",
       "      <th>0</th>\n",
       "      <th>1</th>\n",
       "      <th>2</th>\n",
       "      <th>3</th>\n",
       "      <th>4</th>\n",
       "      <th>5</th>\n",
       "      <th>6</th>\n",
       "      <th>7</th>\n",
       "      <th>8</th>\n",
       "      <th>9</th>\n",
       "      <th>...</th>\n",
       "      <th>40</th>\n",
       "      <th>41</th>\n",
       "      <th>42</th>\n",
       "      <th>43</th>\n",
       "      <th>44</th>\n",
       "      <th>45</th>\n",
       "      <th>46</th>\n",
       "      <th>47</th>\n",
       "      <th>48</th>\n",
       "      <th>49</th>\n",
       "    </tr>\n",
       "  </thead>\n",
       "  <tbody>\n",
       "    <tr>\n",
       "      <th>0</th>\n",
       "      <td>-369</td>\n",
       "      <td>-311</td>\n",
       "      <td>-361</td>\n",
       "      <td>323</td>\n",
       "      <td>-302</td>\n",
       "      <td>305</td>\n",
       "      <td>364</td>\n",
       "      <td>-417</td>\n",
       "      <td>330</td>\n",
       "      <td>-312</td>\n",
       "      <td>...</td>\n",
       "      <td>322</td>\n",
       "      <td>355</td>\n",
       "      <td>331</td>\n",
       "      <td>-307</td>\n",
       "      <td>-316</td>\n",
       "      <td>301</td>\n",
       "      <td>343</td>\n",
       "      <td>320</td>\n",
       "      <td>-439</td>\n",
       "      <td>-302</td>\n",
       "    </tr>\n",
       "    <tr>\n",
       "      <th>1</th>\n",
       "      <td>-431</td>\n",
       "      <td>-91</td>\n",
       "      <td>-226</td>\n",
       "      <td>338</td>\n",
       "      <td>-312</td>\n",
       "      <td>365</td>\n",
       "      <td>420</td>\n",
       "      <td>152</td>\n",
       "      <td>382</td>\n",
       "      <td>-335</td>\n",
       "      <td>...</td>\n",
       "      <td>395</td>\n",
       "      <td>425</td>\n",
       "      <td>404</td>\n",
       "      <td>-334</td>\n",
       "      <td>-377</td>\n",
       "      <td>394</td>\n",
       "      <td>404</td>\n",
       "      <td>372</td>\n",
       "      <td>-572</td>\n",
       "      <td>-337</td>\n",
       "    </tr>\n",
       "    <tr>\n",
       "      <th>2</th>\n",
       "      <td>-475</td>\n",
       "      <td>-140</td>\n",
       "      <td>-238</td>\n",
       "      <td>357</td>\n",
       "      <td>-103</td>\n",
       "      <td>419</td>\n",
       "      <td>469</td>\n",
       "      <td>168</td>\n",
       "      <td>389</td>\n",
       "      <td>-338</td>\n",
       "      <td>...</td>\n",
       "      <td>470</td>\n",
       "      <td>481</td>\n",
       "      <td>490</td>\n",
       "      <td>-336</td>\n",
       "      <td>-435</td>\n",
       "      <td>507</td>\n",
       "      <td>454</td>\n",
       "      <td>421</td>\n",
       "      <td>-656</td>\n",
       "      <td>-371</td>\n",
       "    </tr>\n",
       "    <tr>\n",
       "      <th>3</th>\n",
       "      <td>-543</td>\n",
       "      <td>-182</td>\n",
       "      <td>-478</td>\n",
       "      <td>388</td>\n",
       "      <td>-305</td>\n",
       "      <td>486</td>\n",
       "      <td>529</td>\n",
       "      <td>-176</td>\n",
       "      <td>401</td>\n",
       "      <td>-344</td>\n",
       "      <td>...</td>\n",
       "      <td>529</td>\n",
       "      <td>505</td>\n",
       "      <td>557</td>\n",
       "      <td>-325</td>\n",
       "      <td>-504</td>\n",
       "      <td>602</td>\n",
       "      <td>477</td>\n",
       "      <td>468</td>\n",
       "      <td>-709</td>\n",
       "      <td>-416</td>\n",
       "    </tr>\n",
       "    <tr>\n",
       "      <th>4</th>\n",
       "      <td>-571</td>\n",
       "      <td>-271</td>\n",
       "      <td>-425</td>\n",
       "      <td>381</td>\n",
       "      <td>-145</td>\n",
       "      <td>540</td>\n",
       "      <td>557</td>\n",
       "      <td>-48</td>\n",
       "      <td>429</td>\n",
       "      <td>-338</td>\n",
       "      <td>...</td>\n",
       "      <td>559</td>\n",
       "      <td>529</td>\n",
       "      <td>617</td>\n",
       "      <td>-339</td>\n",
       "      <td>-547</td>\n",
       "      <td>685</td>\n",
       "      <td>477</td>\n",
       "      <td>514</td>\n",
       "      <td>-743</td>\n",
       "      <td>-463</td>\n",
       "    </tr>\n",
       "  </tbody>\n",
       "</table>\n",
       "<p>5 rows × 50 columns</p>\n",
       "</div>"
      ]
     },
     "execution_count": 44,
     "metadata": {},
     "output_type": "execute_result"
    }
   ],
   "execution_count": 44
  },
  {
   "cell_type": "markdown",
   "metadata": {
    "id": "litpLIunTg_2"
   },
   "source": [
    "Điều quan trọng là phải biết  (bao nhiêu mẫu audio_samples) độ dài dữ liệu hiện có.\n",
    "\n",
    "`zero` hiện có shape giống như` [n_samples, n_audio_samples] `, vì vậy hãy lấy số lượng` n_audio_samples` và lưu trữ nó trong biến `n_audio_samples`:"
   ]
  },
  {
   "cell_type": "code",
   "metadata": {
    "id": "BJT-HkwsTg_4",
    "ExecuteTime": {
     "end_time": "2024-06-25T08:58:32.429469Z",
     "start_time": "2024-06-25T08:58:32.424468Z"
    }
   },
   "source": [
    "# Nhập code của bạn ở đây\n",
    "\n",
    "n_audio_samples = zero.shape[0]\n",
    "zero.shape"
   ],
   "outputs": [
    {
     "data": {
      "text/plain": [
       "(4087, 50)"
      ]
     },
     "execution_count": 45,
     "metadata": {},
     "output_type": "execute_result"
    }
   ],
   "execution_count": 45
  },
  {
   "cell_type": "markdown",
   "metadata": {
    "id": "X_o9dFonajuZ"
   },
   "source": [
    "## 2. Huấn luyện mô hình"
   ]
  },
  {
   "cell_type": "markdown",
   "metadata": {
    "id": "OKs-DpagTg__"
   },
   "source": [
    "Tạo mô hình hồi quy tuyến tính của bạn tại đây và lưu trữ nó trong biến `model`. Đừng vội huấn luyện hoặc làm bất cứ điều gì khác với nó:"
   ]
  },
  {
   "cell_type": "code",
   "metadata": {
    "id": "YYi87mhQThAA",
    "ExecuteTime": {
     "end_time": "2024-06-25T08:58:59.394560Z",
     "start_time": "2024-06-25T08:58:59.390943Z"
    }
   },
   "source": [
    "# Nhập code của bạn ở đây\n",
    "model = LinearRegression()"
   ],
   "outputs": [],
   "execution_count": 48
  },
  {
   "cell_type": "markdown",
   "metadata": {
    "id": "Q1sUz2UwThAF"
   },
   "source": [
    "Có 50 bản ghi mỗi clip. Bạn chỉ muốn lấy ngẫu nhiên một trong số chúng ra và cái đó sẽ KHÔNG được sử dụng trong quá trình huấn luyện mô hình. Nói cách khác, tệp mà chúng ta sẽ kiểm tra/chấm điểm sẽ là một mẫu không nhìn thấy, độc lập với phần còn lại của training set:"
   ]
  },
  {
   "cell_type": "code",
   "metadata": {
    "id": "8ewvSE_1ThAG",
    "ExecuteTime": {
     "end_time": "2024-06-25T08:59:02.627579Z",
     "start_time": "2024-06-25T08:59:02.622139Z"
    }
   },
   "source": [
    "# Hãy để nguyên dòng này cho đến khi bạn đã submit bài Lab của mình:\n",
    "rng = check_random_state(7)\n",
    "\n",
    "random_idx = rng.randint(zero.shape[1])\n",
    "test = zero[random_idx]\n",
    "train = np.delete(zero, [random_idx], axis = 0)"
   ],
   "outputs": [],
   "execution_count": 49
  },
  {
   "cell_type": "markdown",
   "metadata": {
    "id": "l-ft2fTvThAO"
   },
   "source": [
    "In ra shape của `train` và `test`.\n",
    "\n",
    "`train` sẽ có dạng:`[n_samples, n_audio_samples]`, trong đó `n_audio_samples` là 'features' (thuộc tính) của tệp âm thanh\n",
    "\n",
    "`test` sẽ có dạng `[n_audio_features]`, vì nó là mẫu duy nhất (tệp âm thanh, ví dụ: quan sát)."
   ]
  },
  {
   "cell_type": "code",
   "metadata": {
    "id": "Soc8ciucThAP",
    "ExecuteTime": {
     "end_time": "2024-06-25T08:59:53.143516Z",
     "start_time": "2024-06-25T08:59:53.135948Z"
    }
   },
   "source": [
    "# Nhập code của bạn ở đây\n",
    "print(f\"train.shape=>{train.shape}\")\n",
    "print(f\"test.shape=>{test.shape}\")\n",
    "test"
   ],
   "outputs": [
    {
     "name": "stdout",
     "output_type": "stream",
     "text": [
      "train.shape=>(4086, 50)\n",
      "test.shape=>(4087,)\n"
     ]
    },
    {
     "data": {
      "text/plain": [
       "0        320\n",
       "1        372\n",
       "2        421\n",
       "3        468\n",
       "4        514\n",
       "        ... \n",
       "4082      70\n",
       "4083     965\n",
       "4084    1433\n",
       "4085    1616\n",
       "4086    1427\n",
       "Name: 47, Length: 4087, dtype: int16"
      ]
     },
     "execution_count": 53,
     "metadata": {},
     "output_type": "execute_result"
    }
   ],
   "execution_count": 53
  },
  {
   "cell_type": "markdown",
   "metadata": {
    "collapsed": true,
    "id": "xIoIIWN-ThAb"
   },
   "source": [
    "Dữ liệu thử nghiệm sẽ có hai phần, `X_test` và` y_test`.\n",
    "\n",
    "`X_test` là phần đầu tiên của tệp âm thanh thử nghiệm mà chúng ta sẽ cung cấp cho máy tính làm input.\n",
    "\n",
    "`y_test`,\"nhãn\" sẽ là phần còn lại của tệp âm thanh. Như vậy, máy tính sẽ sử dụng hồi quy tuyến tính để lấy ra phần bị thiếu của tệp âm thanh dựa trên dữ liệu huấn luyện mà nó nhận được!\n",
    "\n",
    "Hãy lưu clip `test` ban đầu, clip mà bạn sắp xóa một nửa vào thư mục hiện tại để bạn có thể so sánh nó với clip 'đã vá' sau khi tạo. Bạn hẳn đã có `sample_rate` khi tải lên các tệp .wav: "
   ]
  },
  {
   "cell_type": "code",
   "metadata": {
    "id": "zxPW90H9ThAd",
    "ExecuteTime": {
     "end_time": "2024-06-25T09:01:29.273201Z",
     "start_time": "2024-06-25T09:01:29.268873Z"
    }
   },
   "source": [
    "sample_rate = 44100\n",
    "wavfile.write('Original Test Clip.wav', sample_rate, test.to_numpy())"
   ],
   "outputs": [],
   "execution_count": 55
  },
  {
   "cell_type": "markdown",
   "metadata": {
    "id": "rIkmkMqNThAk"
   },
   "source": [
    "Chuẩn bị dữ liệu TEST bằng cách tạo lát `X_test`. Nó phải có các thuộc tính mẫu âm thanh `Provided_Portion` * `n_audio_samples`, được lấy từ tệp âm thanh thử nghiệm, hiện được lưu trữ trong biến `test`. Nói cách khác, lấy các thuộc tính âm thanh `Provided_Portion` * `n_audio_samples` ĐẦU TIÊN từ `test` và lưu trữ nó trong` X_test`. Điều này sẽ được thực hiện bằng cách sử dụng lập chỉ mục:"
   ]
  },
  {
   "cell_type": "code",
   "metadata": {
    "id": "IECZK7pGThAl"
   },
   "source": [
    "# Nhập code của bạn ở đây\n",
    "Provided_Portion = 0.1\n"
   ],
   "execution_count": null,
   "outputs": []
  },
  {
   "cell_type": "markdown",
   "metadata": {
    "collapsed": false,
    "id": "Pt50X7z-ThAw"
   },
   "source": [
    "Nếu các thuộc tính `Provided_Portion` * `n_audio_samples` đầu tiên được lưu trữ trong `X_test`, thì chúng ta cũng cần lấy các thuộc tính âm thanh _còn lại_ và lưu trữ chúng trong` y_test`. Với các thuộc tính còn lại được lưu trữ trong đó, chúng ta sẽ có thể R ^ 2 \"chấm điểm\" thuật toán đã làm tốt như thế nào trong việc hoàn thành tệp âm thanh."
   ]
  },
  {
   "cell_type": "code",
   "metadata": {
    "id": "AbbmCXo9ThAx"
   },
   "source": [
    "# Nhập code của bạn ở đây"
   ],
   "execution_count": null,
   "outputs": []
  },
  {
   "cell_type": "markdown",
   "metadata": {
    "id": "W0DXxAEhThBA"
   },
   "source": [
    "Lặp lại quy trình tương tự cho `X_train`, `y_train`. Sự khác biệt duy nhất là:\n",
    "\n",
    "1. Bạn sẽ nhận được dữ liệu âm thanh từ `train` thay vì từ `test`\n",
    "2. Bạn có nhớ shape của `train` mà bạn đã in ra trước đó không? Bạn muốn thực hiện việc cắt này nhưng đối với TẤT CẢ các mẫu (quan sát). Đối với mỗ quan sát, bạn muốn chia các thuộc tính âm thanh `Provided_Portion` * `n_audio_samples` đầu tiên thành `X_train`, và phần còn lại chuyển vào `y_train`. Có thể thực hiện tất cả những điều này bằng lập chỉ mục thông thường ở 2 dòng code:"
   ]
  },
  {
   "cell_type": "code",
   "metadata": {
    "id": "8CgSV4-IThBC"
   },
   "source": [
    "# Nhập code của bạn ở đây"
   ],
   "execution_count": null,
   "outputs": []
  },
  {
   "cell_type": "markdown",
   "metadata": {
    "id": "gVZG3AQwThBN"
   },
   "source": [
    "SciKit-Learn sẽ 'tức giận' nếu bạn không cung cấp dữ liệu huấn luyện dưới dạng khung dữ liệu 2D có shape `[n_samples, n_features]`.\n",
    "\n",
    "Vì vậy, nếu bạn chỉ có một MẪU, chẳng hạn như trường hợp của chúng ta với `X_test` và `y_test` thì bằng cách gọi `.reshape(1, -1)`, bạn có thể biến `[n_features]` thành `[1, n_features] `để đáp ứng SciKit-Learn.\n",
    "\n",
    "Mặt khác, nếu bạn chỉ có một THUỘC TÍNH, bạn có thể gọi `.reshape (-1, 1)` trên dữ liệu của mình để biến `[n_samples]` thành `[n_samples, 1]`.\n",
    "\n",
    "Định hình lại X_test và y_test thành [1, n_features]:"
   ]
  },
  {
   "cell_type": "code",
   "metadata": {
    "id": "ovi6Z4vAThBO"
   },
   "source": [
    "# Nhập code của bạn ở đây"
   ],
   "execution_count": null,
   "outputs": []
  },
  {
   "cell_type": "markdown",
   "metadata": {
    "id": "pveoa3OSThBV"
   },
   "source": [
    "Điều chỉnh mô hình của bạn bằng cách sử dụng dữ liệu huấn luyện và nhãn:"
   ]
  },
  {
   "cell_type": "code",
   "metadata": {
    "id": "aWrzESmWThBW"
   },
   "source": [
    "# Nhập code của bạn ở đây"
   ],
   "execution_count": null,
   "outputs": []
  },
  {
   "cell_type": "markdown",
   "metadata": {
    "id": "beK3QB4Ha1SW"
   },
   "source": [
    "## 3. Đánh giá mô hình"
   ]
  },
  {
   "cell_type": "markdown",
   "metadata": {
    "id": "xkUDZHtkThBd"
   },
   "source": [
    "Sử dụng mô hình để dự đoán `label` của `X_test`. Lưu trữ dự đoán kết quả trong biến `y_test_prediction`:"
   ]
  },
  {
   "cell_type": "code",
   "metadata": {
    "id": "ShxFfA0IThBe"
   },
   "source": [
    "# Nhập code của bạn ở đây"
   ],
   "execution_count": null,
   "outputs": []
  },
  {
   "cell_type": "markdown",
   "metadata": {
    "id": "9oSFOALZThBi"
   },
   "source": [
    "SciKit-Learn sẽ sử dụng float64 để tạo các dự đoán của bạn, vì vậy hãy đưa các giá trị đó trở lại int16, đó là những gì tệp .wav cần:"
   ]
  },
  {
   "cell_type": "code",
   "metadata": {
    "id": "wbnClMVCThBj"
   },
   "source": "y_test_prediction = y_test_prediction.astype(dtype = np.int16)",
   "execution_count": null,
   "outputs": []
  },
  {
   "cell_type": "markdown",
   "metadata": {
    "id": "oYqV-K4IThBo"
   },
   "source": [
    "Chấm điểm dự đoán của bạn sẽ hoạt động tốt như thế nào bằng cách truyền dữ liệu và nhãn thử nghiệm `y_test`:"
   ]
  },
  {
   "cell_type": "code",
   "metadata": {
    "id": "qF-R89wLThBp"
   },
   "source": [
    "# Nhập code của bạn ở đây"
   ],
   "execution_count": null,
   "outputs": []
  },
  {
   "cell_type": "code",
   "metadata": {
    "id": "uAwVxcTOThBu"
   },
   "source": [
    "print(\"Extrapolation R^2 Score: \", score)"
   ],
   "execution_count": null,
   "outputs": []
  },
  {
   "cell_type": "markdown",
   "metadata": {
    "id": "Qxlg7hWRThB1"
   },
   "source": [
    "Hãy lấy phần `Provided_Portion` đầu tiên của clip thử nghiệm, phần mà bạn đã đưa vào mô hình hồi quy tuyến tính. Sau đó, kết hợp điều đó với thứ mà mô hình dự đoán đã tạo cho bạn và sau đó lưu đoạn âm thanh đã hoàn thành:"
   ]
  },
  {
   "cell_type": "code",
   "metadata": {
    "id": "co0UKuZ0ThB2"
   },
   "source": [
    "completed_clip = np.hstack((X_test, y_test_prediction))\n",
    "wavfile.write('Extrapolated Clip.wav', sample_rate, completed_clip[0])"
   ],
   "execution_count": null,
   "outputs": []
  }
 ]
}
