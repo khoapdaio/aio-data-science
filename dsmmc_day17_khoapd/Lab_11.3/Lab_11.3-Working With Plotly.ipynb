{
 "nbformat": 4,
 "nbformat_minor": 0,
 "metadata": {
  "kernelspec": {
   "display_name": "Python 3",
   "language": "python",
   "name": "python3"
  },
  "language_info": {
   "codemirror_mode": {
    "name": "ipython",
    "version": 3
   },
   "file_extension": ".py",
   "mimetype": "text/x-python",
   "name": "python",
   "nbconvert_exporter": "python",
   "pygments_lexer": "ipython3",
   "version": "3.7.6"
  },
  "colab": {
   "name": "VN_Working With Plotly.ipynb",
   "provenance": [],
   "collapsed_sections": []
  }
 },
 "cells": [
  {
   "cell_type": "markdown",
   "metadata": {
    "id": "iKWkOwVc25K5"
   },
   "source": [
    "# Thực hành với Plotly"
   ]
  },
  {
   "cell_type": "code",
   "metadata": {
    "id": "uKjEUako25K_",
    "outputId": "6c45ed5e-f1df-4cb6-ee44-494c88e50694",
    "ExecuteTime": {
     "end_time": "2024-06-11T14:41:06.506337Z",
     "start_time": "2024-06-11T14:41:06.486399Z"
    }
   },
   "source": [
    "#import\n",
    "from plotly import __version__\n",
    "\n",
    "print(__version__)\n",
    "from plotly.offline import init_notebook_mode, iplot"
   ],
   "outputs": [
    {
     "name": "stdout",
     "output_type": "stream",
     "text": [
      "5.22.0\n"
     ]
    }
   ],
   "execution_count": 1
  },
  {
   "cell_type": "code",
   "metadata": {
    "id": "JcZ_EVeX25LB",
    "outputId": "d9074a62-cea6-41d3-e44f-c9f7715e0709",
    "ExecuteTime": {
     "end_time": "2024-06-11T14:46:12.799207Z",
     "start_time": "2024-06-11T14:46:12.499304Z"
    }
   },
   "source": [
    "#Jupyter setup\n",
    "init_notebook_mode(connected = True)"
   ],
   "outputs": [
    {
     "data": {
      "text/html": [
       "        <script type=\"text/javascript\">\n",
       "        window.PlotlyConfig = {MathJaxConfig: 'local'};\n",
       "        if (window.MathJax && window.MathJax.Hub && window.MathJax.Hub.Config) {window.MathJax.Hub.Config({SVG: {font: \"STIX-Web\"}});}\n",
       "        if (typeof require !== 'undefined') {\n",
       "        require.undef(\"plotly\");\n",
       "        requirejs.config({\n",
       "            paths: {\n",
       "                'plotly': ['https://cdn.plot.ly/plotly-2.32.0.min']\n",
       "            }\n",
       "        });\n",
       "        require(['plotly'], function(Plotly) {\n",
       "            window._Plotly = Plotly;\n",
       "        });\n",
       "        }\n",
       "        </script>\n",
       "        "
      ]
     },
     "metadata": {},
     "output_type": "display_data"
    }
   ],
   "execution_count": 2
  },
  {
   "cell_type": "markdown",
   "metadata": {
    "id": "1UTWSgDM25LB"
   },
   "source": [
    "<br>\n",
    "\n",
    "Để lưu biểu đồ trong Plotly Cloud hoặc Plotly Enterprise, hãy sử dụng `plotly.plotly.iplot`.\n",
    "\n",
    "Sử dụng py.plot() để trả về url duy nhất và mở url (tự chọn).\n",
    "\n",
    "Sử dụng py.iplot() khi hoạt động trong Jupyter Notebook để hiển thị plot trong notebook.\n",
    "\n",
    "<br>"
   ]
  },
  {
   "cell_type": "code",
   "metadata": {
    "id": "hQgLqbPF25LC",
    "ExecuteTime": {
     "end_time": "2024-06-11T14:46:20.170145Z",
     "start_time": "2024-06-11T14:46:19.987354Z"
    }
   },
   "source": [
    "iplot([{\"x\": [1, 2, 3, 4, 5], \"y\": [1, 2, 6, 4, 1]}])"
   ],
   "outputs": [
    {
     "data": {
      "application/vnd.plotly.v1+json": {
       "data": [
        {
         "x": [
          1,
          2,
          3,
          4,
          5
         ],
         "y": [
          1,
          2,
          6,
          4,
          1
         ],
         "type": "scatter"
        }
       ],
       "layout": {
        "template": {
         "data": {
          "barpolar": [
           {
            "marker": {
             "line": {
              "color": "rgb(17,17,17)",
              "width": 0.5
             },
             "pattern": {
              "fillmode": "overlay",
              "size": 10,
              "solidity": 0.2
             }
            },
            "type": "barpolar"
           }
          ],
          "bar": [
           {
            "error_x": {
             "color": "#f2f5fa"
            },
            "error_y": {
             "color": "#f2f5fa"
            },
            "marker": {
             "line": {
              "color": "rgb(17,17,17)",
              "width": 0.5
             },
             "pattern": {
              "fillmode": "overlay",
              "size": 10,
              "solidity": 0.2
             }
            },
            "type": "bar"
           }
          ],
          "carpet": [
           {
            "aaxis": {
             "endlinecolor": "#A2B1C6",
             "gridcolor": "#506784",
             "linecolor": "#506784",
             "minorgridcolor": "#506784",
             "startlinecolor": "#A2B1C6"
            },
            "baxis": {
             "endlinecolor": "#A2B1C6",
             "gridcolor": "#506784",
             "linecolor": "#506784",
             "minorgridcolor": "#506784",
             "startlinecolor": "#A2B1C6"
            },
            "type": "carpet"
           }
          ],
          "choropleth": [
           {
            "colorbar": {
             "outlinewidth": 0,
             "ticks": ""
            },
            "type": "choropleth"
           }
          ],
          "contourcarpet": [
           {
            "colorbar": {
             "outlinewidth": 0,
             "ticks": ""
            },
            "type": "contourcarpet"
           }
          ],
          "contour": [
           {
            "colorbar": {
             "outlinewidth": 0,
             "ticks": ""
            },
            "colorscale": [
             [
              0.0,
              "#0d0887"
             ],
             [
              0.1111111111111111,
              "#46039f"
             ],
             [
              0.2222222222222222,
              "#7201a8"
             ],
             [
              0.3333333333333333,
              "#9c179e"
             ],
             [
              0.4444444444444444,
              "#bd3786"
             ],
             [
              0.5555555555555556,
              "#d8576b"
             ],
             [
              0.6666666666666666,
              "#ed7953"
             ],
             [
              0.7777777777777778,
              "#fb9f3a"
             ],
             [
              0.8888888888888888,
              "#fdca26"
             ],
             [
              1.0,
              "#f0f921"
             ]
            ],
            "type": "contour"
           }
          ],
          "heatmapgl": [
           {
            "colorbar": {
             "outlinewidth": 0,
             "ticks": ""
            },
            "colorscale": [
             [
              0.0,
              "#0d0887"
             ],
             [
              0.1111111111111111,
              "#46039f"
             ],
             [
              0.2222222222222222,
              "#7201a8"
             ],
             [
              0.3333333333333333,
              "#9c179e"
             ],
             [
              0.4444444444444444,
              "#bd3786"
             ],
             [
              0.5555555555555556,
              "#d8576b"
             ],
             [
              0.6666666666666666,
              "#ed7953"
             ],
             [
              0.7777777777777778,
              "#fb9f3a"
             ],
             [
              0.8888888888888888,
              "#fdca26"
             ],
             [
              1.0,
              "#f0f921"
             ]
            ],
            "type": "heatmapgl"
           }
          ],
          "heatmap": [
           {
            "colorbar": {
             "outlinewidth": 0,
             "ticks": ""
            },
            "colorscale": [
             [
              0.0,
              "#0d0887"
             ],
             [
              0.1111111111111111,
              "#46039f"
             ],
             [
              0.2222222222222222,
              "#7201a8"
             ],
             [
              0.3333333333333333,
              "#9c179e"
             ],
             [
              0.4444444444444444,
              "#bd3786"
             ],
             [
              0.5555555555555556,
              "#d8576b"
             ],
             [
              0.6666666666666666,
              "#ed7953"
             ],
             [
              0.7777777777777778,
              "#fb9f3a"
             ],
             [
              0.8888888888888888,
              "#fdca26"
             ],
             [
              1.0,
              "#f0f921"
             ]
            ],
            "type": "heatmap"
           }
          ],
          "histogram2dcontour": [
           {
            "colorbar": {
             "outlinewidth": 0,
             "ticks": ""
            },
            "colorscale": [
             [
              0.0,
              "#0d0887"
             ],
             [
              0.1111111111111111,
              "#46039f"
             ],
             [
              0.2222222222222222,
              "#7201a8"
             ],
             [
              0.3333333333333333,
              "#9c179e"
             ],
             [
              0.4444444444444444,
              "#bd3786"
             ],
             [
              0.5555555555555556,
              "#d8576b"
             ],
             [
              0.6666666666666666,
              "#ed7953"
             ],
             [
              0.7777777777777778,
              "#fb9f3a"
             ],
             [
              0.8888888888888888,
              "#fdca26"
             ],
             [
              1.0,
              "#f0f921"
             ]
            ],
            "type": "histogram2dcontour"
           }
          ],
          "histogram2d": [
           {
            "colorbar": {
             "outlinewidth": 0,
             "ticks": ""
            },
            "colorscale": [
             [
              0.0,
              "#0d0887"
             ],
             [
              0.1111111111111111,
              "#46039f"
             ],
             [
              0.2222222222222222,
              "#7201a8"
             ],
             [
              0.3333333333333333,
              "#9c179e"
             ],
             [
              0.4444444444444444,
              "#bd3786"
             ],
             [
              0.5555555555555556,
              "#d8576b"
             ],
             [
              0.6666666666666666,
              "#ed7953"
             ],
             [
              0.7777777777777778,
              "#fb9f3a"
             ],
             [
              0.8888888888888888,
              "#fdca26"
             ],
             [
              1.0,
              "#f0f921"
             ]
            ],
            "type": "histogram2d"
           }
          ],
          "histogram": [
           {
            "marker": {
             "pattern": {
              "fillmode": "overlay",
              "size": 10,
              "solidity": 0.2
             }
            },
            "type": "histogram"
           }
          ],
          "mesh3d": [
           {
            "colorbar": {
             "outlinewidth": 0,
             "ticks": ""
            },
            "type": "mesh3d"
           }
          ],
          "parcoords": [
           {
            "line": {
             "colorbar": {
              "outlinewidth": 0,
              "ticks": ""
             }
            },
            "type": "parcoords"
           }
          ],
          "pie": [
           {
            "automargin": true,
            "type": "pie"
           }
          ],
          "scatter3d": [
           {
            "line": {
             "colorbar": {
              "outlinewidth": 0,
              "ticks": ""
             }
            },
            "marker": {
             "colorbar": {
              "outlinewidth": 0,
              "ticks": ""
             }
            },
            "type": "scatter3d"
           }
          ],
          "scattercarpet": [
           {
            "marker": {
             "colorbar": {
              "outlinewidth": 0,
              "ticks": ""
             }
            },
            "type": "scattercarpet"
           }
          ],
          "scattergeo": [
           {
            "marker": {
             "colorbar": {
              "outlinewidth": 0,
              "ticks": ""
             }
            },
            "type": "scattergeo"
           }
          ],
          "scattergl": [
           {
            "marker": {
             "line": {
              "color": "#283442"
             }
            },
            "type": "scattergl"
           }
          ],
          "scattermapbox": [
           {
            "marker": {
             "colorbar": {
              "outlinewidth": 0,
              "ticks": ""
             }
            },
            "type": "scattermapbox"
           }
          ],
          "scatterpolargl": [
           {
            "marker": {
             "colorbar": {
              "outlinewidth": 0,
              "ticks": ""
             }
            },
            "type": "scatterpolargl"
           }
          ],
          "scatterpolar": [
           {
            "marker": {
             "colorbar": {
              "outlinewidth": 0,
              "ticks": ""
             }
            },
            "type": "scatterpolar"
           }
          ],
          "scatter": [
           {
            "marker": {
             "line": {
              "color": "#283442"
             }
            },
            "type": "scatter"
           }
          ],
          "scatterternary": [
           {
            "marker": {
             "colorbar": {
              "outlinewidth": 0,
              "ticks": ""
             }
            },
            "type": "scatterternary"
           }
          ],
          "surface": [
           {
            "colorbar": {
             "outlinewidth": 0,
             "ticks": ""
            },
            "colorscale": [
             [
              0.0,
              "#0d0887"
             ],
             [
              0.1111111111111111,
              "#46039f"
             ],
             [
              0.2222222222222222,
              "#7201a8"
             ],
             [
              0.3333333333333333,
              "#9c179e"
             ],
             [
              0.4444444444444444,
              "#bd3786"
             ],
             [
              0.5555555555555556,
              "#d8576b"
             ],
             [
              0.6666666666666666,
              "#ed7953"
             ],
             [
              0.7777777777777778,
              "#fb9f3a"
             ],
             [
              0.8888888888888888,
              "#fdca26"
             ],
             [
              1.0,
              "#f0f921"
             ]
            ],
            "type": "surface"
           }
          ],
          "table": [
           {
            "cells": {
             "fill": {
              "color": "#506784"
             },
             "line": {
              "color": "rgb(17,17,17)"
             }
            },
            "header": {
             "fill": {
              "color": "#2a3f5f"
             },
             "line": {
              "color": "rgb(17,17,17)"
             }
            },
            "type": "table"
           }
          ]
         },
         "layout": {
          "annotationdefaults": {
           "arrowcolor": "#f2f5fa",
           "arrowhead": 0,
           "arrowwidth": 1
          },
          "autotypenumbers": "strict",
          "coloraxis": {
           "colorbar": {
            "outlinewidth": 0,
            "ticks": ""
           }
          },
          "colorscale": {
           "diverging": [
            [
             0,
             "#8e0152"
            ],
            [
             0.1,
             "#c51b7d"
            ],
            [
             0.2,
             "#de77ae"
            ],
            [
             0.3,
             "#f1b6da"
            ],
            [
             0.4,
             "#fde0ef"
            ],
            [
             0.5,
             "#f7f7f7"
            ],
            [
             0.6,
             "#e6f5d0"
            ],
            [
             0.7,
             "#b8e186"
            ],
            [
             0.8,
             "#7fbc41"
            ],
            [
             0.9,
             "#4d9221"
            ],
            [
             1,
             "#276419"
            ]
           ],
           "sequential": [
            [
             0.0,
             "#0d0887"
            ],
            [
             0.1111111111111111,
             "#46039f"
            ],
            [
             0.2222222222222222,
             "#7201a8"
            ],
            [
             0.3333333333333333,
             "#9c179e"
            ],
            [
             0.4444444444444444,
             "#bd3786"
            ],
            [
             0.5555555555555556,
             "#d8576b"
            ],
            [
             0.6666666666666666,
             "#ed7953"
            ],
            [
             0.7777777777777778,
             "#fb9f3a"
            ],
            [
             0.8888888888888888,
             "#fdca26"
            ],
            [
             1.0,
             "#f0f921"
            ]
           ],
           "sequentialminus": [
            [
             0.0,
             "#0d0887"
            ],
            [
             0.1111111111111111,
             "#46039f"
            ],
            [
             0.2222222222222222,
             "#7201a8"
            ],
            [
             0.3333333333333333,
             "#9c179e"
            ],
            [
             0.4444444444444444,
             "#bd3786"
            ],
            [
             0.5555555555555556,
             "#d8576b"
            ],
            [
             0.6666666666666666,
             "#ed7953"
            ],
            [
             0.7777777777777778,
             "#fb9f3a"
            ],
            [
             0.8888888888888888,
             "#fdca26"
            ],
            [
             1.0,
             "#f0f921"
            ]
           ]
          },
          "colorway": [
           "#636efa",
           "#EF553B",
           "#00cc96",
           "#ab63fa",
           "#FFA15A",
           "#19d3f3",
           "#FF6692",
           "#B6E880",
           "#FF97FF",
           "#FECB52"
          ],
          "font": {
           "color": "#f2f5fa"
          },
          "geo": {
           "bgcolor": "rgb(17,17,17)",
           "lakecolor": "rgb(17,17,17)",
           "landcolor": "rgb(17,17,17)",
           "showlakes": true,
           "showland": true,
           "subunitcolor": "#506784"
          },
          "hoverlabel": {
           "align": "left"
          },
          "hovermode": "closest",
          "mapbox": {
           "style": "dark"
          },
          "paper_bgcolor": "rgb(17,17,17)",
          "plot_bgcolor": "rgb(17,17,17)",
          "polar": {
           "angularaxis": {
            "gridcolor": "#506784",
            "linecolor": "#506784",
            "ticks": ""
           },
           "bgcolor": "rgb(17,17,17)",
           "radialaxis": {
            "gridcolor": "#506784",
            "linecolor": "#506784",
            "ticks": ""
           }
          },
          "scene": {
           "xaxis": {
            "backgroundcolor": "rgb(17,17,17)",
            "gridcolor": "#506784",
            "gridwidth": 2,
            "linecolor": "#506784",
            "showbackground": true,
            "ticks": "",
            "zerolinecolor": "#C8D4E3"
           },
           "yaxis": {
            "backgroundcolor": "rgb(17,17,17)",
            "gridcolor": "#506784",
            "gridwidth": 2,
            "linecolor": "#506784",
            "showbackground": true,
            "ticks": "",
            "zerolinecolor": "#C8D4E3"
           },
           "zaxis": {
            "backgroundcolor": "rgb(17,17,17)",
            "gridcolor": "#506784",
            "gridwidth": 2,
            "linecolor": "#506784",
            "showbackground": true,
            "ticks": "",
            "zerolinecolor": "#C8D4E3"
           }
          },
          "shapedefaults": {
           "line": {
            "color": "#f2f5fa"
           }
          },
          "sliderdefaults": {
           "bgcolor": "#C8D4E3",
           "bordercolor": "rgb(17,17,17)",
           "borderwidth": 1,
           "tickwidth": 0
          },
          "ternary": {
           "aaxis": {
            "gridcolor": "#506784",
            "linecolor": "#506784",
            "ticks": ""
           },
           "baxis": {
            "gridcolor": "#506784",
            "linecolor": "#506784",
            "ticks": ""
           },
           "bgcolor": "rgb(17,17,17)",
           "caxis": {
            "gridcolor": "#506784",
            "linecolor": "#506784",
            "ticks": ""
           }
          },
          "title": {
           "x": 0.05
          },
          "updatemenudefaults": {
           "bgcolor": "#506784",
           "borderwidth": 0
          },
          "xaxis": {
           "automargin": true,
           "gridcolor": "#283442",
           "linecolor": "#506784",
           "ticks": "",
           "title": {
            "standoff": 15
           },
           "zerolinecolor": "#283442",
           "zerolinewidth": 2
          },
          "yaxis": {
           "automargin": true,
           "gridcolor": "#283442",
           "linecolor": "#506784",
           "ticks": "",
           "title": {
            "standoff": 15
           },
           "zerolinecolor": "#283442",
           "zerolinewidth": 2
          }
         }
        }
       },
       "config": {
        "showLink": false,
        "linkText": "Export to plot.ly",
        "plotlyServerURL": "https://plot.ly"
       }
      },
      "text/html": [
       "<div>                            <div id=\"c1c256a2-8b8b-4b7c-8135-0de011246210\" class=\"plotly-graph-div\" style=\"height:525px; width:100%;\"></div>            <script type=\"text/javascript\">                require([\"plotly\"], function(Plotly) {                    window.PLOTLYENV=window.PLOTLYENV || {};                                    if (document.getElementById(\"c1c256a2-8b8b-4b7c-8135-0de011246210\")) {                    Plotly.newPlot(                        \"c1c256a2-8b8b-4b7c-8135-0de011246210\",                        [{\"x\":[1,2,3,4,5],\"y\":[1,2,6,4,1],\"type\":\"scatter\"}],                        {\"template\":{\"data\":{\"barpolar\":[{\"marker\":{\"line\":{\"color\":\"rgb(17,17,17)\",\"width\":0.5},\"pattern\":{\"fillmode\":\"overlay\",\"size\":10,\"solidity\":0.2}},\"type\":\"barpolar\"}],\"bar\":[{\"error_x\":{\"color\":\"#f2f5fa\"},\"error_y\":{\"color\":\"#f2f5fa\"},\"marker\":{\"line\":{\"color\":\"rgb(17,17,17)\",\"width\":0.5},\"pattern\":{\"fillmode\":\"overlay\",\"size\":10,\"solidity\":0.2}},\"type\":\"bar\"}],\"carpet\":[{\"aaxis\":{\"endlinecolor\":\"#A2B1C6\",\"gridcolor\":\"#506784\",\"linecolor\":\"#506784\",\"minorgridcolor\":\"#506784\",\"startlinecolor\":\"#A2B1C6\"},\"baxis\":{\"endlinecolor\":\"#A2B1C6\",\"gridcolor\":\"#506784\",\"linecolor\":\"#506784\",\"minorgridcolor\":\"#506784\",\"startlinecolor\":\"#A2B1C6\"},\"type\":\"carpet\"}],\"choropleth\":[{\"colorbar\":{\"outlinewidth\":0,\"ticks\":\"\"},\"type\":\"choropleth\"}],\"contourcarpet\":[{\"colorbar\":{\"outlinewidth\":0,\"ticks\":\"\"},\"type\":\"contourcarpet\"}],\"contour\":[{\"colorbar\":{\"outlinewidth\":0,\"ticks\":\"\"},\"colorscale\":[[0.0,\"#0d0887\"],[0.1111111111111111,\"#46039f\"],[0.2222222222222222,\"#7201a8\"],[0.3333333333333333,\"#9c179e\"],[0.4444444444444444,\"#bd3786\"],[0.5555555555555556,\"#d8576b\"],[0.6666666666666666,\"#ed7953\"],[0.7777777777777778,\"#fb9f3a\"],[0.8888888888888888,\"#fdca26\"],[1.0,\"#f0f921\"]],\"type\":\"contour\"}],\"heatmapgl\":[{\"colorbar\":{\"outlinewidth\":0,\"ticks\":\"\"},\"colorscale\":[[0.0,\"#0d0887\"],[0.1111111111111111,\"#46039f\"],[0.2222222222222222,\"#7201a8\"],[0.3333333333333333,\"#9c179e\"],[0.4444444444444444,\"#bd3786\"],[0.5555555555555556,\"#d8576b\"],[0.6666666666666666,\"#ed7953\"],[0.7777777777777778,\"#fb9f3a\"],[0.8888888888888888,\"#fdca26\"],[1.0,\"#f0f921\"]],\"type\":\"heatmapgl\"}],\"heatmap\":[{\"colorbar\":{\"outlinewidth\":0,\"ticks\":\"\"},\"colorscale\":[[0.0,\"#0d0887\"],[0.1111111111111111,\"#46039f\"],[0.2222222222222222,\"#7201a8\"],[0.3333333333333333,\"#9c179e\"],[0.4444444444444444,\"#bd3786\"],[0.5555555555555556,\"#d8576b\"],[0.6666666666666666,\"#ed7953\"],[0.7777777777777778,\"#fb9f3a\"],[0.8888888888888888,\"#fdca26\"],[1.0,\"#f0f921\"]],\"type\":\"heatmap\"}],\"histogram2dcontour\":[{\"colorbar\":{\"outlinewidth\":0,\"ticks\":\"\"},\"colorscale\":[[0.0,\"#0d0887\"],[0.1111111111111111,\"#46039f\"],[0.2222222222222222,\"#7201a8\"],[0.3333333333333333,\"#9c179e\"],[0.4444444444444444,\"#bd3786\"],[0.5555555555555556,\"#d8576b\"],[0.6666666666666666,\"#ed7953\"],[0.7777777777777778,\"#fb9f3a\"],[0.8888888888888888,\"#fdca26\"],[1.0,\"#f0f921\"]],\"type\":\"histogram2dcontour\"}],\"histogram2d\":[{\"colorbar\":{\"outlinewidth\":0,\"ticks\":\"\"},\"colorscale\":[[0.0,\"#0d0887\"],[0.1111111111111111,\"#46039f\"],[0.2222222222222222,\"#7201a8\"],[0.3333333333333333,\"#9c179e\"],[0.4444444444444444,\"#bd3786\"],[0.5555555555555556,\"#d8576b\"],[0.6666666666666666,\"#ed7953\"],[0.7777777777777778,\"#fb9f3a\"],[0.8888888888888888,\"#fdca26\"],[1.0,\"#f0f921\"]],\"type\":\"histogram2d\"}],\"histogram\":[{\"marker\":{\"pattern\":{\"fillmode\":\"overlay\",\"size\":10,\"solidity\":0.2}},\"type\":\"histogram\"}],\"mesh3d\":[{\"colorbar\":{\"outlinewidth\":0,\"ticks\":\"\"},\"type\":\"mesh3d\"}],\"parcoords\":[{\"line\":{\"colorbar\":{\"outlinewidth\":0,\"ticks\":\"\"}},\"type\":\"parcoords\"}],\"pie\":[{\"automargin\":true,\"type\":\"pie\"}],\"scatter3d\":[{\"line\":{\"colorbar\":{\"outlinewidth\":0,\"ticks\":\"\"}},\"marker\":{\"colorbar\":{\"outlinewidth\":0,\"ticks\":\"\"}},\"type\":\"scatter3d\"}],\"scattercarpet\":[{\"marker\":{\"colorbar\":{\"outlinewidth\":0,\"ticks\":\"\"}},\"type\":\"scattercarpet\"}],\"scattergeo\":[{\"marker\":{\"colorbar\":{\"outlinewidth\":0,\"ticks\":\"\"}},\"type\":\"scattergeo\"}],\"scattergl\":[{\"marker\":{\"line\":{\"color\":\"#283442\"}},\"type\":\"scattergl\"}],\"scattermapbox\":[{\"marker\":{\"colorbar\":{\"outlinewidth\":0,\"ticks\":\"\"}},\"type\":\"scattermapbox\"}],\"scatterpolargl\":[{\"marker\":{\"colorbar\":{\"outlinewidth\":0,\"ticks\":\"\"}},\"type\":\"scatterpolargl\"}],\"scatterpolar\":[{\"marker\":{\"colorbar\":{\"outlinewidth\":0,\"ticks\":\"\"}},\"type\":\"scatterpolar\"}],\"scatter\":[{\"marker\":{\"line\":{\"color\":\"#283442\"}},\"type\":\"scatter\"}],\"scatterternary\":[{\"marker\":{\"colorbar\":{\"outlinewidth\":0,\"ticks\":\"\"}},\"type\":\"scatterternary\"}],\"surface\":[{\"colorbar\":{\"outlinewidth\":0,\"ticks\":\"\"},\"colorscale\":[[0.0,\"#0d0887\"],[0.1111111111111111,\"#46039f\"],[0.2222222222222222,\"#7201a8\"],[0.3333333333333333,\"#9c179e\"],[0.4444444444444444,\"#bd3786\"],[0.5555555555555556,\"#d8576b\"],[0.6666666666666666,\"#ed7953\"],[0.7777777777777778,\"#fb9f3a\"],[0.8888888888888888,\"#fdca26\"],[1.0,\"#f0f921\"]],\"type\":\"surface\"}],\"table\":[{\"cells\":{\"fill\":{\"color\":\"#506784\"},\"line\":{\"color\":\"rgb(17,17,17)\"}},\"header\":{\"fill\":{\"color\":\"#2a3f5f\"},\"line\":{\"color\":\"rgb(17,17,17)\"}},\"type\":\"table\"}]},\"layout\":{\"annotationdefaults\":{\"arrowcolor\":\"#f2f5fa\",\"arrowhead\":0,\"arrowwidth\":1},\"autotypenumbers\":\"strict\",\"coloraxis\":{\"colorbar\":{\"outlinewidth\":0,\"ticks\":\"\"}},\"colorscale\":{\"diverging\":[[0,\"#8e0152\"],[0.1,\"#c51b7d\"],[0.2,\"#de77ae\"],[0.3,\"#f1b6da\"],[0.4,\"#fde0ef\"],[0.5,\"#f7f7f7\"],[0.6,\"#e6f5d0\"],[0.7,\"#b8e186\"],[0.8,\"#7fbc41\"],[0.9,\"#4d9221\"],[1,\"#276419\"]],\"sequential\":[[0.0,\"#0d0887\"],[0.1111111111111111,\"#46039f\"],[0.2222222222222222,\"#7201a8\"],[0.3333333333333333,\"#9c179e\"],[0.4444444444444444,\"#bd3786\"],[0.5555555555555556,\"#d8576b\"],[0.6666666666666666,\"#ed7953\"],[0.7777777777777778,\"#fb9f3a\"],[0.8888888888888888,\"#fdca26\"],[1.0,\"#f0f921\"]],\"sequentialminus\":[[0.0,\"#0d0887\"],[0.1111111111111111,\"#46039f\"],[0.2222222222222222,\"#7201a8\"],[0.3333333333333333,\"#9c179e\"],[0.4444444444444444,\"#bd3786\"],[0.5555555555555556,\"#d8576b\"],[0.6666666666666666,\"#ed7953\"],[0.7777777777777778,\"#fb9f3a\"],[0.8888888888888888,\"#fdca26\"],[1.0,\"#f0f921\"]]},\"colorway\":[\"#636efa\",\"#EF553B\",\"#00cc96\",\"#ab63fa\",\"#FFA15A\",\"#19d3f3\",\"#FF6692\",\"#B6E880\",\"#FF97FF\",\"#FECB52\"],\"font\":{\"color\":\"#f2f5fa\"},\"geo\":{\"bgcolor\":\"rgb(17,17,17)\",\"lakecolor\":\"rgb(17,17,17)\",\"landcolor\":\"rgb(17,17,17)\",\"showlakes\":true,\"showland\":true,\"subunitcolor\":\"#506784\"},\"hoverlabel\":{\"align\":\"left\"},\"hovermode\":\"closest\",\"mapbox\":{\"style\":\"dark\"},\"paper_bgcolor\":\"rgb(17,17,17)\",\"plot_bgcolor\":\"rgb(17,17,17)\",\"polar\":{\"angularaxis\":{\"gridcolor\":\"#506784\",\"linecolor\":\"#506784\",\"ticks\":\"\"},\"bgcolor\":\"rgb(17,17,17)\",\"radialaxis\":{\"gridcolor\":\"#506784\",\"linecolor\":\"#506784\",\"ticks\":\"\"}},\"scene\":{\"xaxis\":{\"backgroundcolor\":\"rgb(17,17,17)\",\"gridcolor\":\"#506784\",\"gridwidth\":2,\"linecolor\":\"#506784\",\"showbackground\":true,\"ticks\":\"\",\"zerolinecolor\":\"#C8D4E3\"},\"yaxis\":{\"backgroundcolor\":\"rgb(17,17,17)\",\"gridcolor\":\"#506784\",\"gridwidth\":2,\"linecolor\":\"#506784\",\"showbackground\":true,\"ticks\":\"\",\"zerolinecolor\":\"#C8D4E3\"},\"zaxis\":{\"backgroundcolor\":\"rgb(17,17,17)\",\"gridcolor\":\"#506784\",\"gridwidth\":2,\"linecolor\":\"#506784\",\"showbackground\":true,\"ticks\":\"\",\"zerolinecolor\":\"#C8D4E3\"}},\"shapedefaults\":{\"line\":{\"color\":\"#f2f5fa\"}},\"sliderdefaults\":{\"bgcolor\":\"#C8D4E3\",\"bordercolor\":\"rgb(17,17,17)\",\"borderwidth\":1,\"tickwidth\":0},\"ternary\":{\"aaxis\":{\"gridcolor\":\"#506784\",\"linecolor\":\"#506784\",\"ticks\":\"\"},\"baxis\":{\"gridcolor\":\"#506784\",\"linecolor\":\"#506784\",\"ticks\":\"\"},\"bgcolor\":\"rgb(17,17,17)\",\"caxis\":{\"gridcolor\":\"#506784\",\"linecolor\":\"#506784\",\"ticks\":\"\"}},\"title\":{\"x\":0.05},\"updatemenudefaults\":{\"bgcolor\":\"#506784\",\"borderwidth\":0},\"xaxis\":{\"automargin\":true,\"gridcolor\":\"#283442\",\"linecolor\":\"#506784\",\"ticks\":\"\",\"title\":{\"standoff\":15},\"zerolinecolor\":\"#283442\",\"zerolinewidth\":2},\"yaxis\":{\"automargin\":true,\"gridcolor\":\"#283442\",\"linecolor\":\"#506784\",\"ticks\":\"\",\"title\":{\"standoff\":15},\"zerolinecolor\":\"#283442\",\"zerolinewidth\":2}}}},                        {\"responsive\": true}                    ).then(function(){\n",
       "                            \n",
       "var gd = document.getElementById('c1c256a2-8b8b-4b7c-8135-0de011246210');\n",
       "var x = new MutationObserver(function (mutations, observer) {{\n",
       "        var display = window.getComputedStyle(gd).display;\n",
       "        if (!display || display === 'none') {{\n",
       "            console.log([gd, 'removed!']);\n",
       "            Plotly.purge(gd);\n",
       "            observer.disconnect();\n",
       "        }}\n",
       "}});\n",
       "\n",
       "// Listen for the removal of the full notebook cells\n",
       "var notebookContainer = gd.closest('#notebook-container');\n",
       "if (notebookContainer) {{\n",
       "    x.observe(notebookContainer, {childList: true});\n",
       "}}\n",
       "\n",
       "// Listen for the clearing of the current output cell\n",
       "var outputEl = gd.closest('.output');\n",
       "if (outputEl) {{\n",
       "    x.observe(outputEl, {childList: true});\n",
       "}}\n",
       "\n",
       "                        })                };                });            </script>        </div>"
      ]
     },
     "metadata": {},
     "output_type": "display_data"
    }
   ],
   "execution_count": 3
  },
  {
   "cell_type": "code",
   "metadata": {
    "id": "EVFmJ-mf25LC",
    "outputId": "c612787f-2a18-4023-d39e-128d849f5dfb",
    "ExecuteTime": {
     "end_time": "2024-06-11T14:46:24.375367Z",
     "start_time": "2024-06-11T14:46:24.277573Z"
    }
   },
   "source": [
    "import plotly.graph_objs as go\n",
    "import numpy as np\n",
    "\n",
    "x = np.random.randn(2000)\n",
    "y = np.random.randn(2000)\n",
    "iplot([go.Histogram2dContour(x = x, y = y, contours = dict(coloring = 'heatmap')),\n",
    "       go.Scatter(x = x, y = y, mode = 'markers', marker = dict(color = 'white', size = 3, opacity = 0.3))],\n",
    "      show_link = False)"
   ],
   "outputs": [
    {
     "data": {
      "application/vnd.plotly.v1+json": {
       "data": [
        {
         "contours": {
          "coloring": "heatmap"
         },
         "x": [
          0.8183767418642214,
          -0.904632137532501,
          -0.9052738265850118,
          -0.1122565066537986,
          0.37983196869412655,
          0.9075131629898451,
          0.9714647702599836,
          -0.8210426991283154,
          0.08546032573095717,
          -1.203683260848751,
          -1.610510516811745,
          1.4813992788276373,
          1.034600648194733,
          -0.2542376915471831,
          -0.6112793177155122,
          0.3718664193140843,
          0.664849910325608,
          0.6994178334482352,
          -0.5758630685070693,
          1.402203240190303,
          0.3936109670558614,
          0.5507839274900883,
          -1.0139726243708118,
          -0.24306166236748408,
          0.8343784650406452,
          1.1254835498315618,
          -0.07167218227541314,
          -0.8028983423391642,
          1.1231449400664892,
          0.40559083087484554,
          -0.25668774377981085,
          -0.5917308749654944,
          -0.71102617636189,
          -0.8842847977280001,
          0.04399289970291188,
          1.8136754906370913,
          0.815628422126326,
          -2.612250900037809,
          0.09877644507306549,
          -1.1649675841713747,
          -1.0573450399582287,
          -1.2783242566808035,
          -0.10735549441626879,
          -1.1125820646328797,
          1.2453934698676385,
          0.7160785216130826,
          0.3233576884316986,
          -0.5144131558011664,
          0.604681117671026,
          -0.3363372354420574,
          -1.2718558317244644,
          0.8364640782603221,
          0.4104837376988082,
          -1.3238199654712683,
          -0.8361422220425716,
          -1.2440624829566367,
          1.0451951216104178,
          -0.18613522635820615,
          0.1877635471862442,
          0.5750282501413564,
          -0.8428788052868292,
          -0.49013489128663784,
          1.0966288783103169,
          -0.6690926056466724,
          1.4549497354118475,
          1.9656277910158015,
          0.03947251719561727,
          0.6732318983560894,
          1.1567468023674399,
          -1.1096322006665105,
          -0.3239167630600358,
          -2.3409301482575575,
          -1.6334218148547106,
          0.7614711627406886,
          0.5341059862262472,
          0.4896280616975065,
          1.0624639358284607,
          1.823188928990934,
          -0.6674626359014727,
          -1.4538818600509837,
          -0.36843892689644114,
          0.08754336235641669,
          -0.11443129352412039,
          1.1548672429838485,
          -0.5301856539057999,
          0.3675541884666414,
          -0.11203878488693307,
          -1.1163640806911348,
          0.603987238938682,
          -1.816113815748894,
          1.4631836769371438,
          -0.5849627357172635,
          0.9811769567656998,
          -0.77376155531462,
          0.7564212639612904,
          0.01481213329034058,
          -0.9088319878853226,
          0.8005034940226528,
          0.17620292376554159,
          0.3262940584197073,
          0.05917214715595883,
          -0.4740472591974709,
          1.2602961000182369,
          0.8853329670502044,
          2.725811395414939,
          1.2084463355289705,
          -1.3469933000473961,
          0.4306821121983913,
          -0.020776011354101908,
          -0.18119723099432558,
          -0.7683738144028766,
          1.1545705303474902,
          0.41311176435776753,
          0.7845268457031948,
          0.2651493242381734,
          -0.6353059648096492,
          -0.024303889875740756,
          0.730283703625377,
          1.9830342966058523,
          -0.66016454314517,
          1.341938661836088,
          -0.0032652445265887245,
          1.0808559074120248,
          1.269052311030781,
          -0.3247813403987269,
          1.7855082908202733,
          -1.1256225376792408,
          1.379765808233107,
          1.6590391996168623,
          -0.1412018359905396,
          0.6443376297059441,
          -0.5335014192035361,
          1.003078156788907,
          -0.29368788800868334,
          2.4027308479942566,
          -0.5846882517975579,
          0.45692479461989094,
          -1.0781327556765858,
          -0.3147157066850079,
          0.5522384528255205,
          -0.40871090400245436,
          0.8944491291192995,
          -0.507302021043044,
          -0.14701451762397577,
          -0.9241150076581672,
          0.18550479144747906,
          0.33103300266986946,
          -0.3507535812333713,
          -1.4685252215257378,
          0.2453413490500275,
          -0.36285335322842166,
          -1.143544632768679,
          -0.458019355493733,
          -0.015299510892446072,
          -0.6808865459247712,
          -0.2624393999971806,
          0.4726594581145756,
          1.5207800776506346,
          0.7312351496743599,
          0.6721719418378236,
          -0.05493348668113123,
          0.2564398064284397,
          0.08816031954134539,
          0.3640726747125939,
          1.202874619613393,
          -0.07645168301305984,
          -1.3828195928729905,
          -0.7349109012847399,
          -1.8920065773250356,
          0.40150120720349997,
          1.3445387951602186,
          -1.5672240603638974,
          1.544537196123668,
          1.2326746126406445,
          -0.49572894200098216,
          0.2819019911421531,
          0.42480582152309754,
          -0.044217835665995193,
          -0.41654988505237683,
          -0.302154164966333,
          3.2058119255438924,
          0.7643407130321325,
          -0.7011956079010058,
          2.562550606546992,
          0.13094294358699368,
          1.0503140177200267,
          0.23715786623355192,
          -0.2640851497840333,
          0.8562183518000542,
          -0.9601737798925608,
          -2.3686992321985096,
          0.9976914231017762,
          0.7756216838272096,
          -0.9062836389479061,
          -0.07592957685883983,
          1.6116315340713354,
          1.4798916530781345,
          -0.764182228613587,
          -0.966579221418806,
          0.6646874291432587,
          0.46169161396612685,
          -0.06956987140211586,
          -1.0391901697414396,
          -0.747479812041099,
          -0.3517646781586577,
          0.05121673097251431,
          1.2188452738894768,
          -0.91972593039404,
          0.5943430087042074,
          1.2165131462737475,
          -0.6827377978165837,
          -1.2597580892570284,
          1.777861031983746,
          0.0683116323730365,
          0.4516614501479779,
          0.0088339623040651,
          -0.1742381498969198,
          -0.3850106607348161,
          -0.9042010644494348,
          1.4426887024318378,
          0.5203938022895621,
          -0.44886515494754825,
          0.6504296620395311,
          1.4827207250979517,
          2.8728078598194955,
          0.962212607301922,
          0.06357459369017035,
          -1.0982989128034044,
          0.20004268644394912,
          0.4393322229281665,
          1.0345292414498952,
          -0.9813023401218742,
          0.5819939005654123,
          1.3637954016610583,
          -0.29037251489072186,
          -1.0243189341805339,
          0.9732517929957705,
          0.9676159502400985,
          -0.08524014598848204,
          -0.801636870299914,
          0.3642576572979748,
          0.2052032341657319,
          1.0976958295033474,
          -0.10899511105674094,
          0.3920112942830074,
          1.3981908644004677,
          -0.12398983376697881,
          1.2940372377968279,
          -0.9375633531891666,
          -0.028831263321174673,
          0.44429263700614635,
          1.3500647937234587,
          -0.5553144189235024,
          -0.33374571473913933,
          0.5566869657131639,
          1.1861764117792981,
          1.757146544895226,
          0.079420713161769,
          0.4527382852811027,
          -0.8190086633455972,
          1.5637382850670631,
          -1.1223125039184654,
          0.3917069097916516,
          -0.648577531212409,
          2.075008964930654,
          -2.0407821316893795,
          0.6747376883133572,
          -2.1811905427631246,
          -0.4529334828159892,
          1.688049822250391,
          -2.1339569996291847,
          0.24734101565850394,
          -0.7021457005542784,
          2.0087677134394863,
          0.6440325093780901,
          0.005183174014203155,
          -0.8963606455453562,
          -0.4168475093934061,
          0.039873594480333834,
          -0.26994591045878225,
          -1.6170192436407358,
          1.8414117239145538,
          -0.9077751663400858,
          -0.6398845284308511,
          0.6370242417376824,
          -1.5563899138038613,
          0.9985472143481463,
          -2.809023419683735,
          -1.862313152759082,
          0.1945314537471692,
          -0.31290478216301776,
          -0.21705518803463067,
          0.25439298408135386,
          -0.9058227248819368,
          0.0959882758772234,
          -0.6078335449698985,
          -0.6239643685199143,
          1.2054261126212764,
          0.28303908142409384,
          1.3031522120900483,
          -0.5795723858507895,
          -0.2242418748788311,
          1.0183793765564564,
          -1.5081231871622094,
          1.4943752742582783,
          1.8643640007535192,
          1.2628087193059447,
          -0.5996482002827782,
          0.10212966732669451,
          0.967073984675713,
          -1.5816747052452844,
          -1.1106162593065658,
          -0.8604942830176076,
          0.06612488209070666,
          -0.6368714138647591,
          0.43859090242804294,
          -1.811697378023956,
          -0.4322469614264913,
          -0.24247715660621422,
          0.7750531751623976,
          -0.7764193457726211,
          0.33546350880228354,
          -0.19017943459777292,
          0.2396595761365167,
          -0.5118934909316057,
          -1.405634610230818,
          -0.9885348157211524,
          0.5202023267246088,
          -0.4247543181550149,
          0.4132694736784141,
          -1.3260722634123239,
          -0.09892754653209819,
          -0.19120223698317587,
          0.5661061447512932,
          -0.24039365604098548,
          0.6049814204462193,
          -0.5369670435229726,
          -1.6876947472995587,
          0.5138605259736804,
          0.5714606173627113,
          -1.869895873971195,
          0.23279145944510832,
          0.8898487765211661,
          1.165982372047187,
          -0.6929085285465751,
          0.030144536181778356,
          0.16473460838545836,
          -1.898203776768204,
          0.5090900777715234,
          1.435853174081051,
          0.7876620244168812,
          0.015502466133066392,
          -0.3012748665387752,
          0.0013811933884732618,
          -1.089902364522226,
          1.9351594198166469,
          -1.1733526773619711,
          1.7328153125076176,
          0.6035325098881059,
          -0.4284709043616795,
          0.25407514881602894,
          0.8589267177483926,
          0.6579407726787082,
          1.8948997972485337,
          1.538260540989219,
          0.30566339862761355,
          -0.3737978544463823,
          -0.9099496180342703,
          -2.5512984622785777,
          0.6886263048213888,
          -0.5475912953772377,
          1.4766462681154293,
          -0.3516308086227499,
          0.5704693336807554,
          1.1457260335035264,
          -0.20628568853218968,
          0.09245411178610591,
          -0.24458073043026035,
          -0.6206367093863251,
          1.1853285874219839,
          -1.4082687379488128,
          0.8472771800159928,
          -0.9647931217670724,
          -0.7561776946152076,
          0.33275295996029614,
          0.1998378395195374,
          -0.27474907117515773,
          2.1171620562621936,
          -1.5135251027119998,
          0.2596105073814751,
          -1.536220169343863,
          0.3744149817688157,
          -0.747207453181603,
          1.105329950067495,
          -1.513721699211213,
          -0.8647535714591129,
          -0.4110786374637257,
          0.5975148185350236,
          -1.1012599743698712,
          -0.10488769368967917,
          -0.13726453483086556,
          0.6810209276719938,
          0.010435410024844901,
          0.09079427526655236,
          -1.7861886307643644,
          0.011021134444087786,
          1.2361699355639628,
          0.18871723763488943,
          -0.574918735197712,
          -0.038823040283314805,
          -0.8369530711191724,
          1.5149813286404656,
          0.9000423786319194,
          1.9536085013507922,
          0.6044246127905651,
          0.38297266277079056,
          1.4127048108682518,
          1.1756149570053023,
          -0.2631993862578719,
          0.41773851898111414,
          -1.9775890923932122,
          -0.4890405739787727,
          -0.2404052771281344,
          -1.0373211219324139,
          -0.8774473609948341,
          2.239208457039055,
          1.1958323883010173,
          -0.13914721651517298,
          -0.729927821513757,
          0.4536965454928725,
          -0.7189137164049251,
          0.011786112736705752,
          1.566650057879409,
          -0.5705536823232548,
          0.13339901122791703,
          1.228059263151269,
          0.35158966658393975,
          -0.8623903627502418,
          -1.4796912917223177,
          0.7538180231932569,
          0.7211911789949009,
          -0.054691046658192084,
          0.8567913578819996,
          0.8898310370141715,
          0.5209853903308123,
          -1.1368801848707804,
          -0.6953397621937557,
          0.9511962493789554,
          1.2342679569073847,
          1.699248444909784,
          1.464888938722906,
          -0.057371061156215694,
          0.28058957439990617,
          1.1400870227801032,
          0.25323289706390956,
          1.7914636515565348,
          -0.486550968875988,
          -0.07304063091764995,
          -0.4128817720275725,
          0.5971914149528095,
          -0.1080624569728887,
          1.0692902301652418,
          0.6780321670056554,
          1.0604829186068427,
          -0.5310907552681278,
          -0.4931777115432904,
          0.7733806844932617,
          -0.014689468306795074,
          -2.0958293895791518,
          0.15418733650757951,
          1.6847228891426345,
          0.35046650164169874,
          -3.3411283624265735,
          0.22920586482661034,
          -1.0694676269620436,
          0.14003574352308285,
          1.7043085431317244,
          0.8612087094700668,
          -0.01428199462078313,
          0.6349756929397077,
          1.147109840357326,
          0.6416949227161574,
          0.4200017050720574,
          -1.2506386294718674,
          0.09104470288614988,
          -0.1412726732582315,
          1.171919716691683,
          -0.1715596578651143,
          0.19180277268725754,
          0.32272234001610917,
          0.4003162895124687,
          0.7860990755647796,
          -2.6256347822003274,
          0.8015568211270089,
          0.9415614028358075,
          0.9832411320881994,
          0.023162558640103352,
          -0.47317361645349393,
          0.2454645809322216,
          -0.5720474117286738,
          0.033188603678658786,
          -0.6049357882835025,
          1.6027494479789985,
          0.3148799003643594,
          -0.06260298590826043,
          0.74717474614403,
          -0.5306162381145229,
          0.9521712177581495,
          -0.6153206786132969,
          0.30949161889522886,
          1.6941641501630416,
          0.12025003219109691,
          0.6105826078242348,
          1.1231796603720645,
          -0.14273990546714294,
          0.5293621936400947,
          -2.1566876574730633,
          -0.37853407485813423,
          0.2463476487204739,
          0.4205757482626188,
          0.64118303042978,
          0.29673800161691805,
          0.24086552690325505,
          -0.039222501970341675,
          -0.08192821854588345,
          -0.7409092771856396,
          -0.21969767103370963,
          0.06120264898714527,
          1.804395602541501,
          -0.14072914756013397,
          -0.17594653704523763,
          -0.2125036382619405,
          -2.2725950460927513,
          -0.6956687195745307,
          -0.530206169895819,
          0.0467840891568003,
          -1.7779369679987762,
          1.937203728827786,
          1.001393978509251,
          -0.676019526474157,
          -0.7693365288200146,
          -0.9586337798407456,
          -1.2448523952735346,
          0.9682410638665176,
          -0.06143995284911356,
          -0.3940594948460579,
          -0.9499570555662463,
          0.2345446032458739,
          0.5921268703483801,
          0.9584762647986094,
          0.42029430379203614,
          1.2351462359505787,
          -1.4463333917478955,
          -2.1461179067129237,
          -1.50912058151522,
          0.056168113839525614,
          -0.23771846053229806,
          -0.5854836694078351,
          1.6017451935160045,
          0.7765292598489579,
          -1.4017327110223028,
          1.141597208105219,
          -1.9482083609940717,
          0.030343602044078467,
          1.0454381169798994,
          -0.7867271198594183,
          0.5544353046811948,
          -0.7108494415269389,
          0.5970835405521008,
          -0.1902509683254913,
          0.5811884690229864,
          -0.5246477650212542,
          -0.2774385791604429,
          1.0436610448957988,
          -2.042307566450464,
          1.1796044758054962,
          1.1249921295435847,
          -0.4165246430945581,
          0.30969756400993903,
          -0.14737665148959772,
          1.4734318569800002,
          0.1841856666625654,
          0.1466860723274363,
          -1.3466213961955948,
          -1.159780246913309,
          -0.7195534405220176,
          0.42436381925804506,
          -0.7929334250825423,
          -0.48497537038310623,
          0.24247892457996625,
          -0.5538596554885981,
          0.9363538525802063,
          0.3181520241123855,
          -0.11579412154952382,
          -0.45144892313083124,
          1.2237630623807512,
          0.5936148788717068,
          0.46867415212097857,
          0.023385187395280674,
          -0.221571759209523,
          -0.5739073141477734,
          1.255699656399125,
          -1.3869181380681326,
          -1.3554748129457042,
          0.5243679173017446,
          -0.4169727643984386,
          -0.8620116039041159,
          0.11127935148563677,
          0.07857219856980373,
          -0.4292506693350768,
          0.2563563685315494,
          -0.7682842454586732,
          1.7380409342914453,
          -0.9611319153426526,
          0.5356925725783718,
          -1.5953410415764209,
          0.10926295255755804,
          1.6786692083561592,
          -0.22078656333202462,
          -0.41577548562551936,
          -0.7138178966257277,
          0.2575194186599579,
          -0.2420814820416194,
          0.6420859706237393,
          -0.8039305479318286,
          2.2317689286894113,
          0.27968320527994145,
          -2.4846835515422367,
          -1.4557373804338987,
          0.8822486864614429,
          -0.3677697256188221,
          -0.7678008251972223,
          1.575132134092297,
          2.000516022329388,
          -0.19484029579711493,
          -1.2020671311708808,
          0.5916627298073512,
          0.17242282612022738,
          0.23061890768185256,
          -0.24860352501953872,
          -1.8822341342519389,
          -0.09665323808035026,
          2.120670012150519,
          1.8060034642609415,
          0.610789775038754,
          -0.2756231717840071,
          -2.090981132271045,
          -1.2373804611720873,
          -0.2042908024776001,
          0.6826206784997569,
          1.582251336542477,
          2.5180504614554926,
          0.3981454240587477,
          0.9706975179496613,
          -0.9510461823180318,
          0.777839589160646,
          0.31565672771843006,
          0.9674358727327573,
          -1.5733850865737524,
          -0.36641687524467,
          1.388615789262303,
          -0.5003803167547828,
          -0.6842018352900783,
          0.8780211313497773,
          1.1834203125269624,
          0.21802727644978415,
          1.470022495905428,
          0.433073239685941,
          -0.01627944740312335,
          -0.9818152257734138,
          1.256770659845766,
          0.7197111676898515,
          1.0815168346196362,
          -0.41752895034122156,
          0.07558973321053927,
          0.9808777513467694,
          0.5757743360493786,
          0.3420643049114192,
          -0.7011387708772893,
          0.5356187942205289,
          -0.43998492186422355,
          -0.19008965081534435,
          0.12030439803434226,
          0.5067136010485475,
          0.4058777246225931,
          0.7465327768807644,
          1.7048161687642116,
          -0.29969762238467146,
          -0.3714856194171236,
          1.391331948992246,
          -0.21796221119850287,
          -0.44733136091630016,
          -1.3107280722396188,
          0.0175986871630621,
          0.33972315136016207,
          0.32830627519037686,
          1.3315391665322436,
          0.15782492239340778,
          -0.12399518750087306,
          -0.6685414575334134,
          -1.549257401606623,
          -1.3361680800078233,
          1.2145767980765831,
          0.07069661107854754,
          -1.7686372709397609,
          0.11852446595127566,
          1.0042143864444217,
          0.36081303584417895,
          0.11950327245007343,
          -0.4946790684966181,
          -0.0813693284784447,
          -0.9116531182224039,
          0.8029765551528104,
          0.43360632609878824,
          0.5836999156343946,
          -0.15604290700816895,
          -0.9789589229885675,
          0.6660922474355191,
          -1.3158166083569884,
          -1.1200329193275238,
          -1.110484993343083,
          0.901356757237866,
          0.7058290654315102,
          0.10869974110220981,
          -1.0932208653040245,
          0.14599940259629637,
          -0.6295515649487564,
          -2.464910979797669,
          0.5633245294945507,
          -0.11192528010754044,
          -0.07306507381536213,
          1.6945706162084855,
          -0.9264764521836198,
          0.47396013301895523,
          0.3113191326233906,
          1.3069218549352057,
          -1.5553804356204737,
          -0.07569407392902502,
          -0.84938425646213,
          0.027318905187247465,
          1.0876013342075466,
          0.46007163196953504,
          0.333496155939723,
          0.8659188166566721,
          0.25373284494940096,
          0.5916201328606289,
          -0.4784579069296663,
          0.4671351617753888,
          0.7574777556893182,
          -0.26852758335773314,
          -0.6561595211052726,
          -1.1461602839328167,
          -2.338906922990229,
          0.9262773150622714,
          0.9091901495349674,
          -0.30073249039805966,
          1.145827111339423,
          -0.846276650016837,
          -0.5706377868530095,
          1.2784372818060108,
          0.2667568293039213,
          1.6854380083663854,
          -0.022038389593226907,
          0.9224851541517965,
          -0.21117684490486013,
          -0.6051021662599859,
          -2.34566547147648,
          -0.21505364978664,
          2.475725592319553,
          -0.3705498159954561,
          2.038197738499054,
          -0.16797022683932805,
          -0.8948788642912373,
          -0.46169895198028127,
          -1.158381002530012,
          -0.14564792933450083,
          -1.1105938807095397,
          -0.9816765051871441,
          1.5185668845592675,
          -0.977736489574859,
          -0.06250985307103347,
          0.703474651288776,
          0.4318968356808007,
          -0.9137761202998996,
          -1.6941256401808944,
          -0.6634006430444603,
          -0.7045759071200473,
          0.7900907838989584,
          -0.8039604358489678,
          1.4695775955525796,
          0.0496662979929106,
          -0.15219547342990503,
          -1.58605145080772,
          0.9362687541251528,
          1.0896497836580576,
          1.6719408749035436,
          -0.35673301510324745,
          -0.9152984838060324,
          -1.156191322846413,
          -0.4186590572362273,
          0.7238602759044849,
          1.0987888717473853,
          0.6688369474213792,
          -0.8547958187935323,
          0.6576824458026849,
          0.5334113582745675,
          -0.5356899035179324,
          0.3319581232880187,
          0.721332211142646,
          0.12255762205673887,
          2.4596695381249485,
          1.9367926088945777,
          0.044691612664665856,
          -0.3719606403634157,
          -0.6537082513782306,
          -0.4054086654884587,
          0.4119286086925009,
          -0.49053202336833757,
          -0.08395414045865214,
          0.0058779570684939,
          0.38358941201637736,
          0.623058971126672,
          0.07201559150153446,
          0.5571772733722206,
          -0.2106768984960501,
          0.5643500303631103,
          -0.3506433802134231,
          1.494176945732363,
          -1.7090054784465296,
          0.8015697427354365,
          -0.8834125171450128,
          1.0419325685032843,
          -1.7888925618979536,
          -0.14224501026395056,
          -0.35365760514321243,
          0.034053949232714965,
          1.3963148695592063,
          -2.0506495691954263,
          -0.3869401453342958,
          0.12887820157048577,
          -0.787393555810629,
          0.9216457758829352,
          0.8402177094563933,
          0.5167592102199501,
          0.6054975079748695,
          -0.42097714564899585,
          -1.4203918856556808,
          0.6457958761414575,
          1.4830526221860862,
          -0.3602793871461031,
          0.9919830642130284,
          -0.27397256054020575,
          0.09893517521822623,
          -1.3004672376580066,
          0.18010625953378895,
          -0.07003681324280309,
          0.8357757871386988,
          1.9509515894063483,
          -1.165607062685746,
          1.1922442858762212,
          0.4226563180926341,
          -0.9299169091009072,
          -0.49370041244467233,
          -0.6840657164287544,
          0.12975018514530712,
          0.20256655678100888,
          -1.0927509307136276,
          -0.7195418972788782,
          -1.18188304584993,
          -2.0872809998224557,
          1.1665301330632736,
          -0.1315887828029183,
          1.9189064329565402,
          -0.614832024990322,
          0.8938102262199435,
          -0.3669892143607835,
          -0.842330738352714,
          -0.9377926054354787,
          -1.9107281818903803,
          -1.4554982849168971,
          0.010151605646460933,
          0.21782245317734125,
          -0.05790049166335385,
          1.6911485618614173,
          0.5318326858640485,
          -0.009076388728396386,
          0.026538816189919188,
          -1.261434648286671,
          0.890888400264452,
          -0.46341706483062084,
          -1.1979388108734865,
          0.9786469406187857,
          -0.5947667165976644,
          0.33446925966538227,
          -0.7864668892853991,
          0.4735323157745096,
          -0.37287553164189224,
          -0.9931620821325099,
          -1.1736494149145902,
          1.29450641739442,
          -0.0015433594743733989,
          -1.8708614531308057,
          -1.0886068330780383,
          0.5160379191768563,
          0.2644740286814375,
          -0.6553557197545535,
          1.8327940773873481,
          0.900330636415273,
          0.4792890502717675,
          -1.0263932806515335,
          -0.4583522704064492,
          -0.2786958522545884,
          0.649610917007562,
          -0.5278793182923832,
          1.305323646985029,
          0.8660665402492083,
          -1.1286920997989172,
          -0.3440382718024146,
          -0.21833405366141562,
          -1.1172453688154595,
          0.8884871935419246,
          0.5642515520948287,
          -0.5738766922666044,
          -0.7139556576163714,
          -0.6384890578416648,
          0.6778873279189529,
          -0.301179280601092,
          0.2512236688070458,
          0.8346901445151946,
          -1.6080728561330757,
          -2.1461552750241992,
          -0.20934597583217068,
          1.5555220091129858,
          2.176591536726978,
          0.9101186089849616,
          0.29594926096366847,
          -1.1510751662588483,
          -0.5568223364140349,
          0.23856823692712717,
          0.5542084346349797,
          -0.6378516638877466,
          0.04358032508881485,
          1.9009763797992758,
          -0.08954683406852748,
          -0.3177954727448387,
          1.3524126103830367,
          1.1135686225904189,
          -0.26399924625524424,
          0.27066825154801477,
          -1.1572462273440391,
          0.4087678829356423,
          0.16742013001786524,
          0.07602199242095349,
          1.0029392637415726,
          -0.4093353150076279,
          -0.4599706769691494,
          -0.7406317865045895,
          -1.6120038933315157,
          -0.4668009849718624,
          -0.5416937721015166,
          0.1763438821778448,
          -0.677373096819784,
          0.2987227221763854,
          -0.6206863621171886,
          -0.6471390995293053,
          0.5977323059211186,
          1.549476411298454,
          -0.07933400661076109,
          -0.588725593935225,
          0.4915719974781649,
          -0.5220807250076578,
          -0.2564066630750713,
          -0.6585722962666186,
          1.2252903227864276,
          0.37840610795613705,
          -0.5519870885858994,
          -0.4615161486782769,
          0.6998824061514047,
          -1.928352217911727,
          1.3031686412846812,
          0.5605534750330587,
          -0.7340819397375926,
          -1.850142566027814,
          0.025907449159111525,
          1.5969884670376275,
          -1.0333661340052467,
          -0.9499668510877817,
          1.5362963806520717,
          -0.0263321781628739,
          0.24004011461487038,
          -0.16159704969889743,
          -1.4153065768660331,
          0.8539043191754562,
          0.10473983121654445,
          0.8393138640976241,
          -0.38781482946878276,
          0.12256237328051071,
          0.3991502043268965,
          -0.17139082547409948,
          -1.7093285922130073,
          1.1736124759237667,
          -1.468329660582022,
          1.369378215459843,
          1.0973659900754478,
          -0.24935877668183393,
          -0.8007321246211229,
          -1.7024231970484416,
          1.1439598520934566,
          0.6220533232616785,
          0.8281221829354797,
          -0.1637424153011318,
          1.150324606656476,
          0.18082985023565148,
          0.16299124278675203,
          -0.34761553161250797,
          0.5509331417171669,
          -0.9507531637851874,
          0.49987022360421307,
          -0.6865777382316314,
          -2.857238271624099,
          0.737629329338438,
          -0.8360508063695867,
          -2.458853275930166,
          0.4512309620528133,
          -0.6800446351781027,
          0.8147920613508679,
          1.7238373516398418,
          0.7160052572546597,
          0.9952173872579624,
          -0.32204642406803424,
          -0.868715767216681,
          0.9215150691719436,
          0.4875787532724101,
          -0.13500743568242224,
          0.9545993185424912,
          -0.6321203931064331,
          0.981085222178803,
          1.6293250816657472,
          0.8791818160253031,
          -1.1704120496780988,
          1.337727166678439,
          -1.3040876000934025,
          1.50804446717375,
          -1.5996553197394634,
          -0.45701110537586986,
          0.923642889276649,
          2.5643577743413384,
          -0.18035210033311985,
          0.9604093548100197,
          -1.3392458072771825,
          -0.3998489791309894,
          0.4079565327240594,
          0.15887462357263826,
          0.18582454289013084,
          0.03884573921205932,
          -0.21775591914594228,
          -0.49925756528026244,
          0.8272605237541469,
          0.60972568539915,
          1.0079588215538435,
          0.32302188721412384,
          0.11243439869833556,
          1.4410743864415472,
          0.1647665527547031,
          -0.5868864843945426,
          -0.05530353092472993,
          0.6621585049781015,
          -0.5186407866705371,
          0.5348704133216935,
          0.0595884697527733,
          1.0947373483176883,
          -2.045196602384083,
          -0.7199867009661185,
          0.24282822856497033,
          -0.31877259085577553,
          -0.4846842908742281,
          0.9118294165763078,
          0.34797145776218924,
          0.022740347006596474,
          0.31762062901323584,
          -0.6809350494582804,
          -0.35376219346166876,
          -0.2955992300943294,
          2.0161414282058905,
          0.5250300648010279,
          0.30153326284781246,
          0.8949651298326755,
          -0.3463029596340668,
          0.0319132906458177,
          1.0914840360804094,
          -0.9760539759378869,
          1.7815156375804055,
          -0.5667147189548842,
          -0.6669576556105672,
          -0.7613130877950095,
          -0.5454563441504942,
          0.8410981708429117,
          0.12394759697703932,
          0.8243332688239793,
          -0.7021658218877836,
          0.8624455077627871,
          -0.22040198744991413,
          0.2404070932840441,
          0.365920148969975,
          1.9180863299571314,
          -0.2287306429915951,
          0.038418342358140414,
          0.7462979058542079,
          1.0592868301215295,
          1.1814170212258945,
          -0.27612809909698355,
          0.1580999473986819,
          0.26284932448022236,
          0.8751408332224524,
          0.16631562324728344,
          0.7533027210819265,
          1.3160131355321618,
          0.33400489594558985,
          0.35846007479498354,
          0.03597802689162634,
          0.47079410959530843,
          0.4453558078456415,
          -0.034295781379434044,
          0.8309946664100243,
          -0.5716442389831806,
          1.0884824677994098,
          0.07799338065522292,
          -0.4592200490635677,
          -1.0304639893082048,
          0.2711468520802762,
          -0.1802876357543979,
          1.0621728171407714,
          2.9132061037011097,
          0.8549754349703542,
          1.4845776873840122,
          1.9101635445292438,
          0.006082620192125023,
          0.3676120707474988,
          -1.2716861149162235,
          0.4263882686192512,
          1.3380468771175904,
          -0.7829706307624308,
          -0.5891194142118725,
          -0.28884837003768,
          -2.675919069351076,
          0.30345963434539996,
          1.6474236814770076,
          0.46691695274580425,
          1.5699008564065988,
          -0.29891172743711886,
          -0.3261959076571825,
          0.7043380139057795,
          1.653362462112757,
          1.492580498816348,
          -0.9902043689112808,
          -1.933908265384813,
          -0.3054506352641244,
          1.3156637238860434,
          1.1515135576020488,
          0.9061662448623473,
          -0.9904536873141447,
          0.4284796863663686,
          1.1078405936079847,
          1.0100892302028566,
          0.18698181602239863,
          -0.0647007923647756,
          0.6171866516406219,
          0.3298337457881262,
          0.5601152508239198,
          0.11893994867584244,
          -0.07320716974241533,
          0.01372179953065922,
          0.4319580733339452,
          -0.6428360833303158,
          1.9612673602962927,
          -1.0930825246776,
          -1.6448318215769342,
          -1.0099127302125581,
          0.15451698632056782,
          0.21961364592038116,
          1.3066776758774323,
          -0.6890374235029341,
          0.6086431011396404,
          1.0535609094782892,
          0.1428250132612812,
          -0.05978859693185771,
          -0.8412121447083246,
          0.7391638065108648,
          -1.102578578289345,
          -0.42905984774360684,
          -0.3578474399876029,
          -1.4916518711721407,
          1.367933531447935,
          0.08077564739175143,
          -0.48944117862504155,
          -0.8204756765453877,
          -1.5248912495843678,
          -1.1229270683941144,
          0.15321939536304888,
          -0.417277998926906,
          0.07695293028588639,
          -0.0617542617194571,
          -0.18469046880672083,
          0.005708215224674415,
          1.1703339552350878,
          0.12826400080824,
          -1.229888629845502,
          0.43574141458623394,
          -1.1007296588796447,
          -1.7529493340850808,
          -0.3954056004254396,
          0.417924945187886,
          -0.1621673079782557,
          -0.9548404622130181,
          -1.165286089084461,
          2.1443839429001477,
          -0.09142742715477419,
          -1.2655828940140534,
          -1.2122114067668117,
          -1.2127356232651203,
          -0.14476703847403163,
          1.327479184330564,
          2.6099096120676046,
          0.3067647085814626,
          0.016188283185045373,
          0.11302966895024895,
          2.099626785101761,
          -0.46492130939323745,
          -0.9510682553832965,
          0.1371358574487453,
          -1.5979292750827203,
          0.6270022069650841,
          -0.39055367767191457,
          -0.3999476254106718,
          -1.3040800220921303,
          0.4080140252037286,
          -0.20597524970251083,
          0.6204622970412728,
          0.1765909051763221,
          0.614997681860459,
          0.6120343554114412,
          0.08673710942726053,
          2.6047985394086575,
          0.7797278925600206,
          -1.0133903156215955,
          -0.7753071140189292,
          0.615339437106879,
          -0.6027783114319756,
          0.5895858638028085,
          -0.19740989420874305,
          0.25026077508823447,
          -1.7490762564187832,
          0.39099455598868404,
          0.9216882136229179,
          0.7937783229534985,
          -0.8466552700556749,
          -0.46041354412203317,
          -0.7050853644069583,
          -0.24776427702463866,
          0.4746405840639194,
          1.8015139753211944,
          0.2624238810433535,
          -0.8692840809529239,
          -0.3443830057637477,
          0.04889357052543875,
          -1.1547854895078151,
          -0.6527620684931577,
          -0.6838975668502939,
          -0.2873097416800264,
          -0.3855305122814716,
          0.23993764117796165,
          0.5930563740226202,
          1.0311559734413984,
          -0.3996566132095019,
          0.4534468894996605,
          1.469832230594126,
          -2.7634430838587067,
          1.0046181574433843,
          -1.8548080282400774,
          -0.742171725928069,
          0.874492405870071,
          1.6885665594927055,
          -0.4413437023251299,
          -0.6388217661867461,
          0.33883616272046874,
          1.3037707945996408,
          -1.5236283422224217,
          0.6297507058661238,
          1.9240236122045489,
          -0.4560467476939952,
          -0.7543022659651958,
          1.9220704590652216,
          0.4845832393304567,
          1.021181558695436,
          1.900416219286375,
          0.11623388628371595,
          -0.5309694478921376,
          -1.1195907437974646,
          0.08098796655206554,
          -0.20755010182545652,
          1.8097725288191953,
          1.4147749594979726,
          1.443980362503277,
          -0.6617160779851591,
          -0.582874828448966,
          -0.13533001571930975,
          1.737435722507186,
          0.30743549655677754,
          -0.7735358115438918,
          2.1272855526086083,
          1.197122994506877,
          -0.2935002710106467,
          -1.0204125943470828,
          0.20131698431358763,
          0.2593043364811785,
          0.5056084732738445,
          0.47822499399220614,
          0.8321996567041603,
          -0.746441017597339,
          -0.021444931466788723,
          -0.5464501060247777,
          -0.1975372616769076,
          -0.21353344338046973,
          -1.1120275994078805,
          -0.9262540398954786,
          0.9005961253413927,
          0.7412276609100763,
          0.3714989517837426,
          -1.0483294365616438,
          -0.5602046235257289,
          -1.3124766627787434,
          -0.13909027215616024,
          -0.29906970475987904,
          0.3825937370281807,
          0.025454210154518132,
          0.6821420851127892,
          -1.1889169174823229,
          -0.25591987901675645,
          0.826505069772817,
          1.4796528774158333,
          -0.9377014466388963,
          -0.6075132576097408,
          -1.4192007503824469,
          1.9766519461128829,
          0.0661188182651184,
          -2.234858024437459,
          1.369702004413947,
          0.4010555989448251,
          0.4345511468372239,
          0.2855351255140726,
          0.511512127891109,
          0.9829365805256627,
          -0.043628335020331845,
          -0.8514458689258614,
          -0.6042134612681291,
          0.5778383416315216,
          0.011241639870466499,
          -0.6936211580750263,
          0.5235415304579569,
          -1.0699746589592287,
          -1.134697356122416,
          -0.7687148702578516,
          -0.5029337927136683,
          0.1860479029959951,
          0.35650140032603705,
          -0.19673173705988062,
          -0.10430304565907489,
          -1.0087641425937848,
          -0.14624930825909854,
          0.26109822598452653,
          0.2863043150239143,
          -0.4851163300611216,
          0.9035820745372101,
          0.26829519409029196,
          0.11484069215881165,
          0.2849965811326413,
          1.158540155827536,
          0.23494831543594236,
          0.9436449359398579,
          -1.9577445568738303,
          -0.09192042914844407,
          -1.4019406335312057,
          0.10085345308759819,
          -0.5687107794439299,
          -1.7234727005416768,
          1.9547665152932445,
          0.11224532299528481,
          0.8381745058793904,
          0.8658579477686846,
          0.4855607802896385,
          0.09987058850674087,
          0.3330227733265742,
          -0.2415672357484315,
          0.030516165284316568,
          -1.124750605499003,
          0.4962549476805582,
          -0.571759786735856,
          0.2032926196320629,
          -0.6334643702767061,
          -0.7332382802658104,
          1.3620054434993163,
          -0.23542842230249944,
          -1.5763788888997534,
          0.8207976184715824,
          1.35235682672863,
          -1.0038047353243922,
          1.179539224644645,
          1.3790186562301088,
          -0.26952641770435004,
          1.9959508938992463,
          0.6444399910217946,
          0.6945503003313463,
          0.3167575811172884,
          0.6091773142829351,
          -0.0640747274228036,
          -0.4997218587387198,
          -1.3113985453929973,
          -1.0698346066853266,
          -0.4977143222330345,
          -0.494150888114294,
          -1.154695726891835,
          -2.1237139227971924,
          0.7049408808973748,
          -0.6575270073933634,
          -0.037868754745048964,
          -0.17115696301932232,
          0.7693678758256446,
          0.25120778740209987,
          0.05665813252451871,
          -0.7341796805084138,
          0.15516365186145412,
          1.6013363884413638,
          0.593768902414357,
          -0.582133873883208,
          -1.3846457907588312,
          0.14523604110935528,
          0.7156480118893636,
          -0.8868367083522594,
          2.026753986806863,
          -0.22138336115058146,
          0.034397595774648335,
          -0.9534095663972516,
          -1.2192675044097423,
          -0.8064841053115517,
          -2.0652255471321888,
          0.7834397069082545,
          1.0075759705625702,
          1.0711401963866272,
          -0.7002065600158883,
          -0.2525152263941168,
          -1.0007604138533408,
          -0.5596032727929209,
          1.0429656831347989,
          -1.4089286579789129,
          -0.09284796051202342,
          0.2985379649340494,
          -2.6316391106615455,
          -0.5349508336826462,
          -0.23290524907116716,
          -0.33251870909235254,
          -0.8831061028735983,
          -0.6652898933187674,
          -1.5223996958267547,
          0.5863906419723568,
          -0.05361207892733568,
          1.553169172095347,
          -0.20728284356943066,
          -1.0755866512349097,
          1.697357757476165,
          -1.2536777615380446,
          -1.9160371370920042,
          -1.1608332058538668,
          0.5044009741859043,
          1.1932532742645046,
          -0.10004632403967442,
          -1.1442405156135407,
          -0.32591627226948383,
          1.4734535311923307,
          0.26386154590796695,
          0.5634066093663129,
          1.341410282585341,
          -1.3034303206123894,
          0.31627751276003946,
          0.4578451206122118,
          -0.24086861418368244,
          0.2200783159036365,
          -0.36709275937305624,
          -0.13271319718363286,
          0.536340296879977,
          0.5851003101548564,
          1.047771117651857,
          -2.237945937529692,
          0.4354197046836851,
          -0.4780049610503694,
          -0.9720839674229693,
          -2.030452465194817,
          -0.35904308741953417,
          -0.15345179905989953,
          0.5229626173048881,
          0.8289847375749471,
          -0.8234317389097179,
          0.07398726034563333,
          0.27601059679873424,
          -0.6314856747007146,
          -0.6321743474466933,
          -0.20004550883756786,
          0.1232312746359758,
          0.5553918897168015,
          -0.7312573837530957,
          -1.0423692882462765,
          -0.8959552935431834,
          1.2866741987117563,
          0.27858081752209907,
          0.9337806722331731,
          -1.0262687526889929,
          1.1764934445174047,
          -0.20822299998502708,
          1.150379187253254,
          -0.787244173685121,
          -0.47999981808504294,
          -0.16148308992637184,
          -1.7137627789794583,
          1.1377799567577958,
          -0.05511228603370407,
          0.7967145435992463,
          -0.7307920928812159,
          0.44985325608320853,
          0.05635659251241051,
          1.315330694974713,
          -0.22874372806824292,
          0.09834078184500947,
          0.3006834797702368,
          -1.7085804616186746,
          1.4350466340535484,
          -0.8787939903600603,
          -0.5371833703804808,
          -0.22385265889789124,
          -0.8962029649286339,
          -0.7881720462393011,
          0.17981631323534508,
          -0.1824740406710834,
          -1.4367749483448256,
          -0.2144984338372505,
          -0.40829450402408646,
          -1.09200861762908,
          -1.4024984835056158,
          0.39387145631974874,
          -0.14293838464979097,
          2.0719945979132213,
          -1.4044066349554103,
          -0.3984217610828383,
          -0.07925040618393364,
          0.5964905677605798,
          -0.839657759664009,
          2.506992572279868,
          -0.32217673844266803,
          -0.76296426562482,
          -1.2905266350679034,
          -0.6761690895629854,
          1.3007070042776825,
          -0.44538936443020605,
          -0.1504890068445204,
          -0.678132316483577,
          -1.7016038385102565,
          1.44376348818266,
          -0.7106810800055384,
          1.1475925026379044,
          -0.2809011206293351,
          -0.10107439226966478,
          1.6370867299303806,
          -0.22291258375028558,
          0.47495270942050494,
          -1.774580471183596,
          -0.586526241542251,
          0.364680002815513,
          0.7018344986039504,
          -0.511400560683771,
          -0.6907082363971773,
          -1.3898669828311137,
          1.7540965673706785,
          1.3077761088449158,
          0.3820179590170616,
          1.020242056121743,
          -1.4084196896549743,
          -0.6869031007489854,
          0.8593920885072593,
          -2.084696003702122,
          -0.6820392485641267,
          -0.22884343541395802,
          0.11552225191027485,
          0.11053745834581576,
          1.5988099703947658,
          -1.265440678019791,
          0.45340297683325304,
          -0.6139675105981132,
          0.37665180544288945,
          -0.11647529795290289,
          0.9356071682941469,
          -2.155449105531072,
          0.21165271299658267,
          0.4082963360473591,
          -0.3372315074962779,
          1.5673790261437055,
          1.4935166240908393,
          -0.7430651653543807,
          0.11649754413639248,
          0.07466248865314841,
          -0.9687998894497774,
          1.9125316737962457,
          -2.114742325334127,
          0.755988368304696,
          -0.6811260141530389,
          -0.292035325038255,
          -0.7482183431126613,
          -0.31522118148736766,
          -0.4230245518417627,
          -1.9332629417588973,
          -0.8638843109099228,
          -0.33939471260734766,
          -0.6172979002369684,
          -0.6715344696250286,
          0.8788998205671219,
          0.15656619886502438,
          -0.7363594140587397,
          0.6160345589234624,
          0.6962036993478066,
          -0.3183467562690302,
          -2.568292652972008,
          -0.43701643276639557,
          0.13154897180443348,
          -0.3369678612844289,
          0.419709788325883,
          0.9951957737422454,
          0.24986705410405058,
          0.6921811891475402,
          -0.7197329330249448,
          -0.10713937190003424,
          -0.7618517138939468,
          1.3894422073442154,
          -1.4679013210092329,
          -1.7947364850123935,
          0.632818699738033,
          -0.8409277357130174,
          0.9899356587237872,
          -2.2071526152347216,
          0.5469141718246889,
          0.058112161401981714,
          0.281336900493633,
          -0.23300018710708773,
          1.004467198158206,
          -0.2040038309518576,
          -0.8112372705870591,
          -0.4742620383070538,
          1.5843892265445687,
          1.240426608900151,
          0.1467649327448839,
          1.1235948393478763,
          -0.6227902621323059,
          -1.3075617604041625,
          -0.8808785731419619,
          0.6109335708135897,
          1.4931768047967122,
          0.25012382239903846,
          1.4270149099753495,
          0.9198181546379772,
          0.3381244931335454,
          1.2092903414926068,
          -1.3451839748454641,
          1.4574564816887514,
          0.15900216453630764,
          0.5050943189370936,
          -1.287269144875931,
          1.4810375421149187,
          -1.0963281974187549,
          0.026457838581111982,
          -0.6367510950876145,
          -1.0419782431450844,
          -0.8320446570925812,
          -1.4375999326947875,
          -0.6434721163357823,
          0.09244454730902829,
          -0.5719264728357545,
          0.7871710251977266,
          1.0627915428783206,
          -0.4694822562350079,
          -0.05048627546942882,
          -0.8693331865902336,
          -0.7320611113282116,
          0.5694997616506734,
          -1.134304215236341,
          0.6476461034308943,
          -0.7222474731907352,
          0.5467989516330236,
          -0.16017455353578383,
          2.017735251503749,
          0.6015851492294754,
          0.11797323363242035,
          2.10751143710673,
          0.7688243109578753,
          -0.33799458752919875,
          -0.9059717356325719,
          0.5554222687663798,
          0.038498992911683634,
          -0.0896055594332062,
          -0.7757569465002706,
          0.4059023415400387,
          0.010481936179908398,
          0.9995838229451343,
          -0.3898561951939272,
          -1.2185134238437796,
          0.3361734085359072,
          0.47086555283823633,
          -0.7334566797960992,
          0.09938155744398822,
          1.1883053932769498,
          0.710758370979131,
          0.6846833981140504,
          0.27449086509841225,
          -0.9863979868766944,
          -0.7429001099434901,
          0.9532912824838539,
          0.5339477961677156,
          0.8129707127876835,
          -1.880052050795554,
          -1.7854300794723321,
          -0.3172582498279827,
          -0.6294971727493108,
          -1.0472051267461302,
          -0.599387208421141,
          1.0962368030609737,
          -0.044803782790095364,
          0.4380489436685633,
          -0.5325187951294588,
          0.6298285234379689,
          0.630171095334989,
          0.9302131303711659,
          -0.9827443150143733,
          -2.2372873138682396,
          0.5962110935032121,
          -0.4849469254650963,
          -1.1534871304876608,
          0.10520768456096655,
          1.5263374729251658,
          -1.3780144099463207,
          -0.7200765587748941,
          0.0551539497129977,
          0.5545161134418779,
          -0.9873471055047867,
          1.6829612421318139,
          0.5339792383771905,
          -1.076526525438403,
          -0.7972219240704097,
          0.6380894169546353,
          1.3483526220217585,
          0.9603910813927328,
          -0.11678204106448652,
          0.317859884271089,
          0.6537245190208754,
          -0.6573311595573303,
          0.06790920966263841,
          0.48676723280015255,
          0.8465285601775142,
          0.26997485939449467,
          0.47998528121628503,
          -0.38920416351672826,
          0.1288322479549278,
          -2.98505503436591,
          -0.04796103794822307,
          -0.21878099872880885,
          -0.020701624143153022,
          -0.9362628017337934,
          0.15799296308633695,
          -0.2634921051880338,
          -0.639086957340322,
          0.20234906931526742,
          0.2709296796888627,
          1.314442375560927,
          -0.7850317006093248,
          -0.6642893518160675,
          -1.9859369502772606,
          0.29905309574181366,
          0.5940380954049947,
          -0.11723507325117563,
          -1.4663844619877717,
          -1.4775710251952339,
          0.745289320369611,
          -0.7770717425786428,
          0.63495784054775,
          -0.6423461870171885,
          1.7556811575799225,
          0.25350510228445355,
          -1.6628940521099111,
          -1.4969035736862804,
          1.2375551673664866,
          -0.8517210302593786,
          -0.9627902750672842,
          1.7536158953982581,
          -0.1767046724719851,
          -0.5971397603649234,
          0.6688732249138578,
          0.9591430166293005,
          0.09769873045702035,
          1.0919826547023144,
          -0.8627958368472124,
          -0.3741936672032248,
          1.6176384088364588,
          0.3651339874479183,
          -0.30359416983673626,
          0.4416930496776868,
          0.23348586838626978,
          -0.0931215954904188,
          0.7340238958015425,
          0.6538673070060534,
          1.2815224869231419,
          -0.03435841552020093,
          -0.37109847761514514,
          0.1611081835369367,
          -1.1455528286846308,
          0.8085936716204916,
          1.5470278027734718,
          -0.4670863957545627,
          -0.6188974663253156,
          0.33087517106192893,
          0.5772872039774596,
          -0.7399804244921754,
          -0.668629523027817,
          1.3398859531456897,
          -0.6200778034643298,
          0.0032123160211170697,
          0.001802945013849694,
          0.1035991086347217,
          0.35058848799078823,
          0.1987087819238513,
          -1.656924316949533,
          1.421491090078848,
          0.1282426242001262,
          0.13243626631245267,
          -0.012459106515961863,
          0.31145898980401643,
          0.10915004696977722,
          -0.4447121327886365,
          1.6006362184857807,
          -1.0212038266868675,
          -3.0784715323772933,
          0.8853506685462347,
          -0.3149980129229866,
          0.015125723324167534,
          -1.8165783160439641,
          -0.2926505170800037,
          -1.036212502347319,
          0.7483152944023626,
          0.05158216237945027,
          0.09502909797198963,
          0.5445337731836806,
          0.6978803231586925,
          0.308243483583185,
          1.124646499352191,
          -0.9300028829456694,
          -1.748784756700256,
          0.05787976952421548,
          -0.5800284125400081,
          -0.7867173609093073,
          0.2686632744823778,
          -2.1926763119683312,
          -0.9189053965114147,
          0.9295193920490009,
          -0.9236208490191492,
          0.4694273010856197,
          1.9613482724466773,
          0.7551284609274787,
          1.0605657716659747,
          -0.5745985507268063,
          0.05055671745239344,
          0.14427663338869373,
          -1.031555615878662,
          -0.9972923143693536,
          -2.1470682482795884,
          1.2446501722283514,
          -1.1612487442285484,
          -0.2831506594987311,
          -1.7769202450148078,
          -1.6831831979522494,
          0.43988379925234194,
          0.6260323627865629,
          0.04638682549923703,
          0.05799773613565565,
          -0.5331432539023657,
          -0.3233499179857586,
          0.28483749166751354,
          -0.06815073379557532,
          -1.3271259679833936,
          -0.13390438711602853,
          0.845168418734274,
          -0.6012000586090785,
          0.38482964447767376,
          -0.08378877290542346,
          -0.7174903068237065,
          0.9711044488375481,
          -1.8409856338141923,
          -1.3010940749124416,
          0.6056214604854466,
          0.26068748833670047,
          0.8283318290753261,
          -1.5835704942148807,
          0.14825301020101447,
          0.42660734613341916,
          0.8535367664732031,
          0.6637448096805438,
          -0.24187938460079975,
          -0.48415314672714116,
          1.6082170754736995,
          2.0297493266478224,
          -0.11222837633127164,
          -0.6333486857400965,
          -0.8023809425292536,
          0.27529258073734214,
          -0.22657469602011138,
          -0.09020507978750551,
          -0.48193932159724207,
          -0.9251817080915974,
          -1.5599105406637646,
          1.9868240937549275,
          1.8262964226110712,
          0.16809557928903368,
          0.2521654945361544,
          1.5139658705445136,
          -0.5558488378148364,
          -0.6325948214187472,
          0.6343162097344502,
          0.9052883430135645,
          2.1040664950304513,
          1.154727005124736,
          1.4388424441473346,
          0.5942765634384741,
          0.19626479081842982,
          -1.1061771663571474,
          2.314806082168074,
          -1.203896907192434,
          0.49081749843530537,
          0.805157222058241,
          0.12003052925468836,
          0.7648887620398254,
          -0.8736819456784775,
          -0.8957343229957698,
          -0.7205802415254927,
          0.1790936357398359,
          -0.21234439573530378,
          -0.6485949332849897,
          -0.4516994937147761,
          -1.3595199635491406,
          -1.3235845848076389,
          0.980543960134917,
          0.3649476339770272,
          -2.037749926812055,
          0.5222420875513167,
          0.7782844068559986,
          -0.8182258058329434,
          1.3012564883218727,
          0.0644060343115089,
          -3.3341715869483323E-4,
          -0.050324777922867686,
          1.259351112625028,
          1.0215993709685935,
          -0.22608177674320568,
          0.09237971934658157,
          0.6567622220509499,
          -1.185113871713112,
          -0.091013144220472,
          1.0684940084255603,
          0.2395614792191904,
          -0.17737906333261302,
          -1.65779771309791,
          -0.6874760403732589,
          -0.49436444860305806,
          -0.45524753413708746,
          -0.2416880674490538,
          -2.0386172899161457,
          -0.38298539565454076,
          1.8944387555345652,
          0.5744708866565245,
          0.20106416294651988,
          0.5893619371234382,
          -0.5183354285773891,
          0.03794233307112121,
          0.3220828830478416,
          0.10908200514743521,
          0.04778039669204081,
          0.7781927764201252,
          -0.8275064655224573,
          -0.11111846101429128,
          -1.5648490021046195,
          1.5992120267601233,
          -1.4758722098127997,
          -1.9454958892581944,
          -0.9343110626749805,
          0.7687903189637285,
          -1.3211666070089978,
          0.5574989273413042,
          1.027193544610335,
          0.030734960328428748
         ],
         "y": [
          -0.9190838198604627,
          1.3208421614135264,
          -0.4128026982370254,
          -0.09805950262092199,
          0.22783659232671127,
          -0.12826667903611572,
          0.7307578719737915,
          -0.12185368479077767,
          -0.7421189389761077,
          -1.2885479454233053,
          0.7363897981214784,
          -2.703582135752486,
          1.542266735638156,
          1.0879408844601044,
          -1.126332313387995,
          -1.5274376137785437,
          -0.8757186237795989,
          0.8553501600820327,
          -0.6478269524800769,
          0.06604108036550099,
          0.5692068075414385,
          0.29331448766878904,
          -4.3148798337731744E-4,
          0.2069239111382321,
          -0.8840690830823442,
          -1.3388497270250426,
          1.4061584919717285,
          0.5531940540834531,
          -0.10423188560386669,
          0.43968239495170175,
          0.5079542874015871,
          1.2163533831470819,
          -1.0919120854494349,
          0.06961338234592111,
          0.2949371853125892,
          -2.1064593525180584,
          -0.11382598555632704,
          1.023168960080993,
          -0.2213412340361104,
          -1.056470761287061,
          0.5133718141176054,
          -1.0882696717046747,
          0.19079289175176045,
          -0.2968754041142897,
          -0.1471281360238286,
          -0.33918431264713783,
          0.47699230235028633,
          0.24207632713272792,
          0.3897632664876892,
          1.5304340031829236,
          0.2918511922918235,
          0.0634194801645915,
          1.4241529257259655,
          0.5952517093764562,
          0.8788087113802158,
          -0.8793303713840498,
          0.5851648687100494,
          0.612533673873765,
          1.2274941629735912,
          0.5802340801383263,
          -0.7528915035905865,
          2.116800603474077,
          -0.15059547102093526,
          -1.3600907719679367,
          2.5125323669657984,
          0.443649309591613,
          0.7795996807030765,
          0.8415799362623042,
          -0.15010904789209922,
          -0.36828775747348746,
          0.3150050849227244,
          -0.7693772514183709,
          -0.6149625773965189,
          -0.4118058143422926,
          -2.6202593296323577,
          1.0281496266264813,
          0.06704839909682678,
          1.209200652105284,
          -0.18037889828320264,
          0.6224029376557116,
          -1.1254808274343442,
          -0.2503690699092278,
          2.644155534135086,
          1.3091229103539432,
          0.26172574747055743,
          -0.891116328412359,
          0.5991102029598001,
          0.6771904960724978,
          -0.020988822546128962,
          0.15930001950365028,
          -0.38183850937775915,
          0.2964300040220997,
          0.5131183422819414,
          0.33496771802022957,
          2.811659054844461,
          1.3184237387625066,
          -0.13347522257569527,
          -1.9749139978518606,
          -2.6588578459056205,
          -0.5354320233414213,
          1.7266417181865499,
          0.6150079501402652,
          0.3244258116179008,
          0.8505954507702873,
          -1.6025322951897487,
          -0.03902651669024044,
          -0.5134957953724266,
          0.8809101431772557,
          -0.08779389297783288,
          1.4813539635909139,
          -1.7436810199809039,
          0.03178895597149376,
          0.368132768709492,
          0.4535212345013096,
          0.10261705362852844,
          -1.0201267888688992,
          -0.5636742672058126,
          -0.19596326059150454,
          0.17347681865198453,
          -0.23847836460906094,
          -0.4007972899672026,
          0.13195240100612718,
          -0.1027961432187651,
          1.7305739697302651,
          -1.0636758617864104,
          0.9911592540718106,
          0.6388542525554676,
          1.0951037234858731,
          0.044277161766582286,
          0.08865233302369406,
          1.3145031104598877,
          0.1468046638791238,
          2.252954483340205,
          -0.2889736993443624,
          -0.2902652939780682,
          1.3905806399963354,
          0.3453882891089486,
          -1.1730568845035256,
          0.0987691441687299,
          -0.5495910596726385,
          -0.28303155697323584,
          -0.39964009723442095,
          0.5107595403469506,
          -0.4795924495974069,
          -0.575796556906175,
          -0.862272797755453,
          0.552687838743211,
          -0.8448372690541104,
          -0.1599682755144104,
          -0.6891933007452617,
          0.3468941129649909,
          -0.775309154191228,
          0.9229043163449177,
          1.4413234270070179,
          0.6021573175082413,
          -0.4428181714200917,
          -0.7774278612191078,
          0.9653353226580325,
          -0.4841241878236618,
          1.6037764598213193,
          0.7547891451214592,
          -0.12007891717127486,
          0.6032210944839003,
          -0.9925203380046574,
          -1.469904367309593,
          -1.2314695513821272,
          0.4430255589118849,
          -1.3970289250981305,
          -2.180360594608714,
          0.6695336663966711,
          0.022192202852247368,
          0.334533719462524,
          0.3534591280592279,
          -1.5261106607400778,
          -1.446927428374595,
          1.0314787580057254,
          -1.3992253338698508,
          -0.7689853086203323,
          -0.14480325787851475,
          0.18476007213427367,
          -2.371186451959899,
          -0.6973000549745526,
          1.2584205023613355,
          0.5790468202934219,
          1.7391791803271415,
          -0.5056965574648841,
          0.6420596528428021,
          1.0337691467507597,
          -0.2990396672439388,
          -0.2941923804075905,
          -0.6771055054207792,
          0.5252841447872568,
          -1.726065249170485,
          -1.765557747555495,
          0.3061181588659005,
          -0.6207856486570416,
          1.8077872769451029,
          -1.1419897244937076,
          0.8436106015753999,
          -0.3959149221851877,
          1.1049120497088898,
          0.11587714478147093,
          -0.43031053725774476,
          1.4067279909332617,
          -0.5710948223128953,
          0.9590823106828312,
          1.145444380603691,
          -1.0936307262214235,
          0.9142808882595049,
          -0.7991942837620366,
          0.9485661634097291,
          0.8178082938789536,
          -0.03919239288807832,
          0.8676899395602234,
          0.4121600599536054,
          -0.7229526379323878,
          0.22666608202430008,
          -1.676717584964369,
          -1.9641527504528773,
          -0.4499825647771574,
          0.08851908423956194,
          -0.28857126492669744,
          -0.9875462678829983,
          0.22021103055022787,
          -0.423420082103694,
          -1.1898755252482807,
          -0.05706190738107156,
          1.2134768548711712,
          -0.009350637255166532,
          0.26848066081817606,
          0.0035595288021151496,
          1.7065412716581165,
          0.003778101473982306,
          -0.5829228888327331,
          0.7251138691438007,
          1.479127012217987,
          -0.29430713306023354,
          0.8493228275755248,
          0.11162165694391979,
          -1.1419274506254986,
          -0.5336924536882639,
          1.0258682259985012,
          -0.37721827096926125,
          -0.46257251475585115,
          0.5064545815743492,
          -0.8997359191334501,
          -0.25207627929674,
          0.41441711956586896,
          -1.6185043262513517,
          1.0949647992450877,
          -1.2604758781630034,
          1.7222285523277816,
          -0.10846918195684149,
          0.1892466934220958,
          2.026931948758712,
          0.07395147479160152,
          0.10185753756285938,
          -0.4315318027179303,
          -0.38594958760562814,
          -1.3219597873819473,
          0.5683441163567255,
          -0.7367657669223198,
          -0.6996308687616174,
          1.9243511381165932,
          1.6237443943871945,
          0.6578950842178866,
          0.7349231890581664,
          -1.1133568403377414,
          -1.4508224422529497,
          -0.31104376974601705,
          -0.5019988787340817,
          1.1052654773638482,
          0.7672283608642183,
          -1.1144301098806086,
          -0.6227892873223291,
          -1.282472414536918,
          0.5081435673790563,
          0.2802909630020107,
          0.38648671684393177,
          -0.180609410578509,
          0.9749438395102497,
          -1.1349578919328402,
          0.09025355479105375,
          0.5726349660132358,
          -0.12616393125181186,
          1.3715964052142553,
          0.8265089761707926,
          -0.33798352883728605,
          -0.5889942235635908,
          1.784651311888104,
          0.45188261807942437,
          1.4081148492415212,
          -1.1031199763152448,
          -2.3175429073963913,
          -1.909993352960287,
          0.7222121935832364,
          1.251994430879749,
          0.046524725970339804,
          0.8866198195390603,
          -1.7959422810181522,
          -0.7196838940382011,
          -0.960395760034302,
          -0.8485904139091682,
          -0.9095024712971806,
          0.49953606317335747,
          -0.46720463896374054,
          0.1056017946392871,
          -1.2631783463960564,
          1.5887396419861926,
          -0.6011194193551176,
          -1.5478430384162694,
          1.7100826651898537,
          -1.0826637701756565,
          2.534569342982177,
          0.004139302195490077,
          -0.7158859056827457,
          -0.3123537449348961,
          -0.5191856154548136,
          0.32368842815531684,
          -0.8509136207024323,
          -1.6936924312137853,
          0.7959894078451144,
          0.28787593856180055,
          0.07451948565838941,
          -0.8617578301333116,
          -0.6149294302758135,
          1.067652260589054,
          0.9955749857998706,
          0.6589302507121261,
          1.5545178564224027,
          -0.8943615952668982,
          1.253492424138465,
          0.10406917222314199,
          -2.1193933354436583,
          -1.294801173194879,
          -0.9053353659417995,
          -1.850901168801077,
          0.8867327314921124,
          0.7211543537842108,
          -0.19286196825064197,
          -0.8885648184296939,
          1.3290258783640045,
          -0.3083245551154958,
          0.10153709253383189,
          -1.269836900083992,
          -0.8582965855701333,
          0.07858225933440682,
          0.1273421232209127,
          1.0838430413107143,
          0.31545948509382704,
          -0.5708318827141802,
          -0.714365423920485,
          0.8474873963505086,
          -0.16885664068030154,
          -0.5714586807663435,
          -0.6257144409836634,
          -0.7115508949781875,
          0.10445116642841663,
          0.31705455185710757,
          0.15987403723600827,
          0.4129758761795959,
          1.8062729333103495,
          0.2657486951162724,
          0.6684438475551082,
          -1.4257012563476097,
          0.15073041123632389,
          0.6864356281975015,
          -1.6154665881600703,
          -0.213201845307358,
          2.355659862013952,
          -0.4253480226750238,
          -0.5761169360925111,
          -0.8602308033952698,
          0.7516786218886614,
          0.49414644043254013,
          -1.4715142331806816,
          0.9998022703200812,
          0.18204466450342455,
          1.4943065310194477,
          0.0699299901533018,
          -0.792990821714386,
          0.3417485719773871,
          -1.423976337284603,
          1.0797859146302573,
          0.5897872705561874,
          -0.5991460944536937,
          -1.3046433014007777,
          -0.8440935613983778,
          -0.24683059851521255,
          -1.2362560064997716,
          1.8332028206396291,
          -0.453607417095177,
          -0.8025444975759223,
          -0.5417832679501302,
          0.5777742054653972,
          -0.12080485912038126,
          -1.5917005619887314,
          0.6040841333868657,
          0.40730869944573994,
          -1.5836683518248873,
          -1.481159318516843,
          0.209620924022113,
          -0.4983717876852801,
          -1.4506712685398169,
          -0.11719363893880139,
          0.6946168770407505,
          1.3393264840742112,
          0.8946522335005045,
          0.34437876271366313,
          0.4826670327581724,
          0.6352078469529134,
          0.0047934710429133704,
          -0.24232302040612172,
          -1.1367677115398533,
          0.2655214564185806,
          0.057926035300451366,
          1.7709323469721525,
          -1.2409033111923469,
          0.19500975927052885,
          0.25573010914355127,
          2.2553081596775777,
          -0.3905226571677062,
          -1.357343632011541,
          -0.9903120150724437,
          0.5154069827048464,
          0.9279237730362255,
          0.7351947496087168,
          -0.6012306280713811,
          -0.3886139131915235,
          0.14214964116848502,
          -1.4578436457836026,
          -0.3207435767448378,
          -0.8556872975540849,
          -0.3349077777040119,
          -0.5200357494405969,
          0.10544061647848334,
          -0.2609224946974617,
          0.1094958055263628,
          -0.5617364396369902,
          0.2915744804435018,
          -0.014223956079919773,
          -1.4463439936071203,
          0.8810956580696584,
          1.442344125009558,
          0.7854817618813718,
          -0.0856032052460315,
          0.305091145964979,
          0.5090417450671306,
          -0.7256326637634312,
          -0.42754512554043617,
          -0.7707859833806974,
          0.017188152479012248,
          -0.5124902307681036,
          -0.4658906399781594,
          -1.7036847560674035,
          0.05646908963882141,
          -0.21673243197648231,
          -0.3459406321085718,
          0.10928927333688823,
          -1.681897777471505,
          -1.4954265431875824,
          -0.7750865063565662,
          -1.7351796870992897,
          2.148632041429172,
          1.7821321685278335,
          -1.0125153059415497,
          0.9700054365278958,
          1.2927064092233536,
          0.045097978875855906,
          0.6337421924053852,
          0.08628796033904579,
          -0.45701767885787764,
          -0.5295748857585934,
          0.19527537130427408,
          -0.7147667205232406,
          1.073734104388608,
          -0.3613684057301627,
          -0.9584422215593563,
          1.1027610522146705,
          0.5342940351878437,
          -1.0404103856110758,
          0.9859499994037985,
          1.5232240767865286,
          0.05252742618661555,
          0.15853601359746003,
          -0.3542370013071206,
          -0.6017117164139001,
          0.23131347861708215,
          -2.906762848799527,
          -0.983038608591725,
          0.49026307182762435,
          0.002858913563669518,
          -1.938848161963451,
          -0.9556384255402529,
          2.253694177285718,
          -1.1007225965577512,
          -0.4708937258191323,
          2.4765723404547293,
          1.1061849021974302,
          -0.6659709739070409,
          -1.4248388153682354,
          0.8096886456390897,
          0.5776460525858258,
          1.3253494098318197,
          1.8497207409175995,
          0.8250992654579072,
          0.2827936309370265,
          -0.07191512810826352,
          -1.5095030810645296,
          -1.2787884853804306,
          -1.4689091681097868,
          0.8932036880682473,
          -0.6351972963819915,
          -0.4790343677682761,
          -0.22914538917645685,
          -1.80938888963836,
          0.384478019290561,
          -0.4038422061364838,
          -1.0967726871681347,
          -0.13958477717897702,
          -2.5460830542973474,
          -1.2795766787621448,
          0.9846395658704735,
          0.9905890440952596,
          -1.0420886637593518,
          -1.177368349939541,
          -0.6303332410963604,
          -0.35454261676198945,
          -0.11177217085202276,
          0.3616427303242198,
          -0.22408640505862032,
          0.6547052258497151,
          0.02496679990372069,
          -0.19774555210993264,
          1.0789517365198518,
          -0.036990844437467287,
          0.46234388532028436,
          -1.4512970133881324,
          -2.4588631871867155,
          -0.2549800390788698,
          0.9892466474994661,
          -0.37404177375887077,
          -0.9523645866975897,
          -0.9033756445028812,
          0.40194729957225345,
          0.40212208807738586,
          -0.03829723129043385,
          0.892192246186004,
          0.6870237827592334,
          -0.9427874886131811,
          -0.5357366860066874,
          -0.4470017266512514,
          -0.356733300044032,
          1.1104057492575918,
          0.9579306509076397,
          0.3514129549527874,
          -0.3889098091079763,
          0.057617516853668345,
          0.9599319791751196,
          -0.589609178020985,
          -0.46250881320034587,
          -0.6533992640001011,
          0.45851556314121655,
          -0.41292018851897705,
          -0.489750360248884,
          0.712539515475177,
          0.7827401560898991,
          -0.4965657784278938,
          -0.3715692763947017,
          0.3432344229217201,
          1.107611862716346,
          0.9195823089824388,
          -0.8277864720110776,
          -2.4003262428655083,
          -1.5439311962907838,
          0.9883750463388749,
          0.4024263342383215,
          1.7712908761894484,
          0.6342192252882459,
          1.205828646054021,
          -0.5528116238310439,
          0.03131483558776788,
          0.22258760703850067,
          -0.19805723165706757,
          1.0829295643705483,
          -1.4043369380267239,
          -1.8553818115153446,
          0.48859801478603115,
          -0.15553551214941083,
          0.27897404848085544,
          1.3538032436126153,
          -0.916830878579308,
          0.8447626420301168,
          -1.357348477341707,
          -1.2466696884514392,
          0.8644654686742806,
          0.0749486928832397,
          1.3109200007092692,
          0.02398349450405295,
          -1.040576304745086,
          0.5554697210227029,
          0.14560278626053783,
          0.2949855827965243,
          0.2229334307777606,
          -0.541470857589659,
          -0.39898723422741317,
          -0.40169481601627516,
          -1.9001931906945841,
          0.4743132122509133,
          -0.5484773572230562,
          -0.2881761393618988,
          0.8347570057207555,
          0.5703902523580898,
          0.6920429238943301,
          -0.969811519114877,
          0.46128375228422525,
          1.2835687295541685,
          1.8792524414126515,
          -0.1461013023123789,
          1.2428043364620536,
          -0.37258198334141607,
          -0.5434868802208276,
          -1.4373071049775914,
          -0.005447148548775546,
          0.2687360366124685,
          -0.05542184013087273,
          -1.1502088606254184,
          -0.8026997798970874,
          -1.2635050511545924,
          0.364715506253113,
          0.8933330161569839,
          -1.7003623580068103,
          -0.4461170266603634,
          -1.0283359658778533,
          -0.7718428879871304,
          0.0764021413100514,
          -0.7058931871810455,
          1.6035507207398345,
          -1.116604735165188,
          0.45862208463146564,
          1.5577897767306923,
          -1.5264539524572776,
          0.035921816604453004,
          0.8314806839939125,
          -0.7836286889819074,
          -1.1957461231271251,
          -2.7182665788141813,
          -1.2107192270793572,
          -0.48902927114681705,
          0.8749051793587835,
          -0.6446122967109112,
          1.0454590894944809,
          0.8838705603705096,
          0.3765940952544159,
          -0.3114530000318667,
          -0.08111223229582874,
          0.23768764770891143,
          -0.11780774533349218,
          -1.5020739826955085,
          0.4570967179792009,
          0.6047121427630515,
          -1.5773641345829148,
          0.4948151728521615,
          -0.3068774652475723,
          0.41014791507813453,
          0.9709433116245071,
          -0.3247723240842189,
          -0.061985415774728575,
          1.1393876278415127,
          -1.7245076469871818,
          1.4455298550914393,
          0.6939784470407242,
          0.5177170624092512,
          0.7982038333779933,
          1.7553488961419113,
          1.0442599964728791,
          -0.27084272992086245,
          -1.8943442552675571,
          0.35194095861884084,
          0.6519203358246544,
          -0.4471294484024219,
          0.7431766185560358,
          0.985165394515105,
          -0.3005573117989929,
          0.9666851189213064,
          -0.40960164196783816,
          -1.3838429060908775,
          0.7638370587565299,
          0.11428040781426321,
          -1.034437599023973,
          -0.41035429846548166,
          0.35655970043528984,
          0.7122032712465804,
          -0.8504106730729503,
          -1.169400946791193,
          1.5692595316495763,
          0.3658220411374863,
          0.32301910474313583,
          -0.43766650802757684,
          -0.05376274489619832,
          -0.1766545772332382,
          -0.049174221025238475,
          2.512777244879293,
          -0.4744110676849834,
          0.2788752493741063,
          0.22492055773831973,
          -1.6604878995165007,
          0.5153450520537233,
          0.43180450764416806,
          -0.7933676061535674,
          0.6832917106504947,
          0.5545874522949156,
          0.3642373517061653,
          0.6522482261539073,
          1.488592366697961,
          -1.1821577737174425,
          -0.8424929902554137,
          -1.0476749093434243,
          -2.2040522233629125,
          0.571657843877597,
          1.0564067144286269,
          -0.7465901276496598,
          0.38393543654018875,
          -1.5725926441474396,
          0.2273723347611945,
          -0.0879688575777503,
          0.3850256418536166,
          0.10769288254658015,
          -1.4656375912714004,
          0.43130569284371517,
          1.2837245273307296,
          -0.007040050126154018,
          0.4501803787591195,
          1.0739588979671044,
          2.0293264130109185,
          0.2594437166071403,
          -0.22545789737420704,
          -0.825891508919521,
          0.5974953086540744,
          0.24100413759274625,
          -1.0923811659588947,
          1.06501495534091,
          0.5851615259383297,
          0.7006406428647016,
          1.9250307545696348,
          -1.631865297971302,
          0.6656756798147743,
          0.5828618503978498,
          1.598299263122417,
          -0.4229091405101068,
          0.045829157234919225,
          0.06360284395236657,
          0.8915520432363577,
          -0.93517781724799,
          -1.0543990421113847,
          0.8053591690337374,
          0.3180421858448654,
          0.5673445952386696,
          0.34849231611750403,
          0.8222775080193253,
          2.3388142268531578,
          0.3371316929477436,
          1.0363513081481759,
          -0.1496241901613579,
          -0.20413836388575693,
          -0.8471228185638777,
          -0.7760827421436415,
          -0.3218223385211875,
          1.0091578149774816,
          -0.25834833583199207,
          0.2661188374595707,
          -1.1548300538220972,
          0.7508880563459432,
          -1.1503662019416756,
          0.7451633533914122,
          1.0524924220179368,
          -1.5485893756575455,
          -1.2922505495424588,
          2.6281483703467656,
          -0.5839490370365567,
          -0.35785797082255344,
          1.0402376533827982,
          0.42354859293729524,
          -1.817128806738012,
          1.166061268238308,
          0.4165507853566917,
          0.8221920026653967,
          -0.5888119796713812,
          1.4762559182896213,
          0.932302872332593,
          -0.2735223410667564,
          -0.26480895789133707,
          0.6888939054894949,
          0.1260646795370393,
          -0.4488500919277051,
          -2.2019659953984188,
          -0.11349646953888876,
          0.013461083938828854,
          0.04231148257093233,
          -0.05818491430589912,
          -0.0695807473212561,
          1.4886601359767981,
          -0.06962296869816101,
          -1.1086159826225772,
          -0.46091703672558737,
          -0.6497905526109407,
          1.0962745982786115,
          -0.4576623053621756,
          1.4654451578115748,
          0.2507942125573935,
          -1.4330840758798122,
          0.6803057765056542,
          -0.08743861881141839,
          1.0781711853987546,
          2.0309550932493665,
          -0.5712851574856919,
          0.945201339919042,
          -0.0999643304495272,
          -1.0327288798924492,
          0.318618328393027,
          0.8759372045985067,
          0.6155570633493237,
          0.6284415345280924,
          1.4880737483640445,
          -0.39732118805852046,
          0.144131098629642,
          -0.2809742938942254,
          0.65418058318633,
          0.8266132287619544,
          -1.0009005372304325,
          0.39046207601102734,
          2.2755876462678386,
          -1.2083742142192018,
          1.047128992732105,
          -0.1425865211428286,
          0.20302013689642454,
          0.2654175120886378,
          -1.8057745367496159,
          -1.9691893280859836,
          0.06371335244625882,
          0.6002101689222247,
          0.6340152140340594,
          -0.6364847132229654,
          1.2979265220611487,
          -0.7518976571417426,
          -0.21637483911048483,
          0.7701314136195875,
          0.6979609516494675,
          -1.2582000276018925,
          -0.6037957738043507,
          -1.3997136486008135,
          -3.5404119731800376,
          0.4039694493724574,
          1.1849462196995513,
          0.624908492941061,
          0.016494047772423064,
          0.2790805813885961,
          -1.33043614303372,
          0.23119423062849548,
          -0.1478152045461757,
          -0.7615528453872643,
          0.6360614954483269,
          -0.21536177044083274,
          -0.9397368027691114,
          0.21458028039722424,
          -0.11515224616222937,
          -1.2478050527242532,
          1.1918007406106514,
          -1.1249877984056262,
          -0.1379401931109072,
          -0.28238374159025564,
          0.4079441467460013,
          0.02774708600048291,
          0.9919496245143339,
          0.1723627109390814,
          0.3671230304774893,
          0.08450869628628245,
          -0.0762492166093508,
          0.5062734685475629,
          -0.7647906431974482,
          -0.8852482416235058,
          -0.7644952736887067,
          0.8832248587847001,
          -0.0014810385041499929,
          0.5631416566946356,
          -1.4290122407970849,
          -0.16480188405883517,
          -0.5329329158799481,
          -0.806673976053208,
          0.5689473276441708,
          -1.225951882782016,
          1.9189751895859914,
          0.6813205999383121,
          -1.1976835213176276,
          -0.45549334698222,
          -1.1866662182676353,
          -1.2802388674091891,
          2.131038636708258,
          0.6694674373297702,
          0.012990348447588538,
          -0.6561058807221581,
          1.248318595426435,
          0.6552772623224052,
          0.6700588367809979,
          -2.762558130884367,
          1.511126878780515,
          -0.67319369074023,
          1.2462297003148122,
          -0.2430793759137185,
          -1.9610058419635312,
          0.6979963327084523,
          1.89716395639147,
          -0.29424116735508465,
          -1.5033187528531318,
          -1.454242724289921,
          -0.7304006274150527,
          0.02810977127831086,
          1.0295595351220383,
          0.925016965365241,
          0.14867734837211424,
          2.7540147006019575,
          0.6447431051000309,
          0.48707951121997317,
          0.9343008647922484,
          1.0775665343501852,
          1.6607137076568659,
          0.07553068081186605,
          -1.5976024219384162,
          1.3366070110162804,
          -0.3566927910572487,
          1.0588513505192516,
          -0.107085317506338,
          0.17600261320367644,
          0.8692087362393793,
          -0.4287231928028051,
          -1.222430115237249,
          -0.585995212013645,
          -1.3424441614563032,
          0.9806855438279289,
          -1.5991001016154451,
          0.18896286681191976,
          -0.8822983353930014,
          0.7115238294946147,
          0.4032703192624475,
          0.27160930054932386,
          -0.5411915655108741,
          -1.0813426661545043,
          1.323945189962163,
          -0.20270268623992332,
          0.17049856859682214,
          -0.40752273774067854,
          -0.5404017074391128,
          0.7956952389316572,
          0.022402119770925284,
          1.2478053314519193,
          -0.13768116848580422,
          -0.28692905502648036,
          -0.996021846170004,
          -0.8720639976637142,
          -0.5232088502923492,
          -0.0337488082097837,
          -0.7423882386179099,
          0.25005681443933675,
          -1.064574605707507,
          1.1243926159516657,
          0.02992748259830223,
          0.11621203264293686,
          -1.6451023725749252,
          0.49735571810256857,
          0.3869604755186404,
          0.07198045620655504,
          1.7623730267299893,
          -1.0499643862803925,
          0.7486211845686301,
          -0.3954388751664263,
          0.23883666621563016,
          0.5909202641873934,
          0.5799533349531607,
          1.327450617819819,
          -0.03883420153819895,
          -0.10999122269710226,
          1.3375054631598848,
          0.2084412048005676,
          0.360463706221893,
          -0.29671329857646,
          0.551346247866094,
          -1.4727241808051565,
          -0.42452768995775597,
          -1.637955364456447,
          -0.24840606690466588,
          -0.9860822858150037,
          -0.5634573310767677,
          0.46819196905988875,
          -1.066164957190505,
          0.8224024972963371,
          -0.19639260610504441,
          -0.03978045841442449,
          -0.19271931087071054,
          0.01974378474698242,
          -0.3268837356281862,
          -1.3716759046857208,
          -0.5685498565631283,
          -0.45013827026332276,
          0.49749097351926524,
          -0.38375620122043974,
          -1.2262510803403623,
          0.579447080200313,
          0.8359102016028573,
          0.9152510284464866,
          2.0941864447953136,
          0.024141768721826634,
          0.11092521301443721,
          -0.5160157711865384,
          -0.4992101251597045,
          -1.057382477647116,
          -0.9785038907518596,
          0.5937975324442611,
          -0.06232187016268903,
          0.238428353282157,
          1.07633677733881,
          -0.6904392395091069,
          -0.2700807964007605,
          -0.8368326629788155,
          0.16856031903234323,
          -1.8700698882650142,
          0.29753789116175805,
          -0.061709318277751966,
          -0.5172133079452155,
          1.6544954399655796,
          1.8559681533761174,
          0.18241678059783967,
          -1.1701332266036744,
          0.48780915567974314,
          0.015207353741148531,
          1.216802334548999,
          0.28793309477911405,
          -0.8378158839789726,
          0.6302109316931845,
          -0.18103027527987314,
          1.584299443054854,
          -0.3045563558345789,
          0.295482643312569,
          0.727971061332374,
          0.1530384618120578,
          0.07176418230072486,
          -0.12741508529147785,
          1.0566060284381482,
          -0.2889011054501259,
          1.2242844841659566,
          -1.465107339600731,
          -0.20016150096964974,
          -1.9778316005274397,
          1.7458534710897746,
          3.1822025367922007,
          0.22628042098591838,
          1.3500752710189363,
          0.9052834773534703,
          -0.3388086352751587,
          -0.5606463530616672,
          -2.0680816810539993,
          0.06788347429866178,
          1.018813756824033,
          -0.4274676686725206,
          1.3980746508150645,
          -1.47121686418231,
          -2.338254637920864,
          1.046621701523665,
          1.3217650569622883,
          -1.8862869566841902,
          0.44709287568447015,
          1.9509829185803562,
          0.10847068998941178,
          0.5686797907168198,
          0.4595523842051956,
          -1.064359869075884,
          -1.4077586088761298,
          -0.32725377596195804,
          0.8590272102266283,
          0.6547664439059764,
          0.7463511611078468,
          -0.27988425626379265,
          -0.5277101978416918,
          0.2478495577624007,
          1.405778722430837,
          1.1770642137818628,
          0.07256416036394003,
          1.044179821066277,
          -1.9721182371534223,
          1.1383607059394154,
          -0.19210823824298628,
          0.14782734107348158,
          0.8997612861156681,
          0.2871980762796133,
          -0.8006082079748861,
          0.15511107544308442,
          -0.8627969231074532,
          1.1598712029267808,
          1.352549651873356,
          0.1362059927358401,
          -1.652568847451319,
          0.383663958237778,
          -0.5312894082237718,
          -0.0882672058092996,
          -0.6662286355172073,
          -0.2623043065427486,
          -1.6195941214789662,
          -1.6127222890261077,
          -1.394057378609335,
          0.038291502579429454,
          -0.4101142237461424,
          -0.36671099402146823,
          0.46370310495590455,
          1.8645668279207486,
          0.5854828609041931,
          -0.42757937930446593,
          -0.8524991709003977,
          -0.11163427159190524,
          -0.49418853645220717,
          -0.16019117105498354,
          -0.4495784687760963,
          -0.9906218808287001,
          0.12432862270476779,
          0.6157896761690493,
          -0.3002710216334505,
          -1.2374209868749595,
          -1.0703486529116852,
          -0.585974047937012,
          -1.1359917543751419,
          -0.5333051675680712,
          -0.153416688700053,
          0.5381575454368479,
          0.8345581959227805,
          -0.767018462388328,
          -1.537313741019269,
          1.5790387175165284,
          -0.8977033199996987,
          -2.2955312364255955,
          0.703191245819965,
          -0.7955305142501717,
          0.19185868181185864,
          -0.5283130398930556,
          0.6873776356353567,
          -1.1376618459721106,
          0.2158462877285708,
          -0.7406606913991296,
          0.08166007535828562,
          1.2912126449811667,
          0.8651554807159405,
          1.2608177197390047,
          0.197535234516562,
          0.19942319482281776,
          -0.21420646581891783,
          0.11872410708402067,
          0.3555878905907472,
          0.5304652014965914,
          -0.35723653234747055,
          -0.4819848910137972,
          1.0811535586965064,
          1.1870645268577606,
          -0.043411783676667835,
          2.2879482243975473,
          1.2316395380770306,
          0.9127830757683028,
          0.09908484200027597,
          -0.45603647966077404,
          -2.4328439357930653,
          -0.3777198150368638,
          -0.377334950089107,
          -1.159753200804004,
          -0.13886158340269167,
          1.4165777918321698,
          0.7541774532617415,
          -0.19745678983455947,
          -0.4531621929288135,
          1.0286967054122556,
          -0.42025201515089666,
          1.1193712111310319,
          -0.013579296436470914,
          0.03332375617796069,
          -0.08960929773937572,
          -0.43857791958460784,
          -0.8081858472257779,
          -1.24632922123619,
          0.14087858573389556,
          1.1638406728308526,
          0.0544653270095516,
          1.8431102411909925,
          -1.1378229678288854,
          -0.8549734849626828,
          -0.3343282856659249,
          -1.3382815367460494,
          0.8156217638114952,
          -1.5372492638051554,
          -0.9239137663934769,
          1.0624187581236164,
          -0.010491924240471422,
          -0.8968345202800773,
          -0.5895057971122615,
          0.3950612740757721,
          -0.2017182335945794,
          0.13235856968211474,
          -0.16227695476170892,
          -0.8784557653330104,
          0.41009306495617415,
          -0.4444664942416288,
          -1.0199198395804723,
          -0.9853389514684586,
          -0.17443564160303013,
          0.7273875290181456,
          0.6482677276274367,
          -1.6912310344417154,
          -0.26883065577762316,
          -0.1101761839011304,
          0.5347307858078547,
          -0.7108935535183962,
          0.2417167665809351,
          -1.4910466594966743,
          -0.7547504917208469,
          0.6478490266419618,
          -0.8148007911198529,
          -0.2286298854893602,
          0.12928327189151662,
          0.09768009344221958,
          -0.059318227787946064,
          -1.2279034985299258,
          1.427709180258051,
          0.5454007857558769,
          0.2807516899663241,
          0.031811246732839006,
          -2.517582897942963,
          -0.37169776120132864,
          1.1683969028366554,
          -0.5002566806002757,
          -1.4496474860253084,
          -0.011970399076508762,
          1.1518792936454731,
          0.13648136963329496,
          0.45686741334382147,
          -0.871066664070265,
          0.3005131019560846,
          1.5047585823559928,
          -0.29459769656407453,
          1.0986429161309124,
          1.2403022035010762,
          -0.672144268289416,
          -0.02585406106101689,
          -0.08263078754596602,
          -0.3240285248179066,
          0.6797162751697114,
          1.014254521068074,
          2.018235247808883,
          1.337095301533968,
          0.7747953453716127,
          -0.6101765762785164,
          -1.0065320651144758,
          -2.14664575021958,
          1.3987789799363384,
          0.3776091062053355,
          0.47226150300868047,
          1.7642122303802121,
          -2.9881958827111923,
          0.07674552725191519,
          -3.018284635904598,
          1.3157118192929016,
          -1.0158011132094888,
          -0.44806532415538025,
          -0.40979631725809246,
          -0.10604090214440666,
          -0.15377662185425342,
          -0.6113739513429872,
          -0.2525170057680976,
          1.198099422010153,
          -2.420715455383342,
          0.05736985280675883,
          0.8524247365454044,
          -0.9361248636804387,
          -0.27815162171618035,
          0.1473474927482495,
          -0.3249765981028664,
          0.4940282568531022,
          0.2557091931621439,
          1.3294064021249525,
          -0.06435786162145622,
          0.1980932492675745,
          0.423813351672523,
          -0.5932777527547431,
          0.9100223747429432,
          0.026495844266443764,
          -0.23828251847194465,
          0.8082253637802638,
          0.6934870270778067,
          0.8634196766139736,
          -1.2179010676002897,
          0.2834309002876337,
          0.8948956744877656,
          -1.30356487252695,
          -1.2968330274118995,
          0.699827405044098,
          -0.5331209298057771,
          0.20338286413444792,
          -0.09483256367543029,
          0.14487478677465992,
          -1.145956468906865,
          -1.0096489331342522,
          2.7235810478288496,
          0.7230798762210167,
          0.36637828092645586,
          0.3824751444012189,
          -0.4771753148293888,
          -0.23880788152758672,
          -0.23675212947117918,
          0.35450495900878654,
          1.3821257998586214,
          -0.21801087105219963,
          -0.23892188708736517,
          -1.0820963995637012,
          1.0353922554972796,
          -1.6753925619126213,
          -0.14586308505643314,
          -2.6932600334091004,
          -0.3966076514227479,
          -0.018171523206488415,
          1.2982766268916575,
          0.7977117418471062,
          1.4796251459723333,
          1.5804102390628305,
          -0.32566714943985337,
          0.7505371939330214,
          -0.9676034039161822,
          0.4547238158524972,
          -0.9912449985687016,
          0.05649351754155199,
          -0.31264221355266264,
          0.12439089321526037,
          0.41215756303026274,
          0.5310076219750527,
          -0.9260673713953751,
          1.922537315499645,
          -0.9148390912502061,
          -0.7522921431990193,
          -0.4062041221624942,
          0.47152002365519685,
          -1.4769332918988862,
          0.5869056511492168,
          -1.6605351458110913,
          0.6709769880285684,
          0.8718040345163046,
          0.9855255065536371,
          -2.088038722408449,
          0.3190891545528441,
          0.20903181242053206,
          0.945422707389203,
          -0.3501446073833473,
          -0.09154883444674115,
          2.12346888729147,
          -0.3351270960328092,
          0.7462405177150161,
          -0.36930048550444405,
          -0.2798185861142901,
          0.9079362331477797,
          1.1054251822796346,
          -1.0485748590921795,
          1.068617672045287,
          -2.468951667910874,
          0.5258409661781563,
          -0.4625587366913264,
          -1.0413152672007193,
          0.024813044674829244,
          0.6868064855978327,
          0.6277295452076832,
          0.27567176630746476,
          2.0877729810932837,
          1.0425996429059985,
          1.7217841884667608,
          -0.5366654966063733,
          -0.19581923950357494,
          -0.23866576704590703,
          -0.05784077101888566,
          -0.9435487477342211,
          1.4426515707431526,
          0.9951322946771781,
          -0.36406404128696335,
          0.4415320488567082,
          -0.7881163641659811,
          -0.8141730837136472,
          -1.1718480763681731,
          -0.6643078461282697,
          -0.11733264045572266,
          -0.29061381793034946,
          -1.7228143300980678,
          0.7934230028875502,
          0.43867826335344506,
          -0.6051760563097341,
          1.0222469289762326,
          -0.3590358266065542,
          0.6029898216266133,
          0.58834540267267,
          -0.5801792495615153,
          0.5133984566568032,
          -0.5153840616567436,
          -1.2622263599582197,
          1.649597881496929,
          0.3881510792077216,
          -0.9575780211474415,
          -0.8939624270717299,
          -0.16457063543567355,
          -1.7893767977147026,
          0.06507411063282174,
          -1.8025418119814671,
          -0.3845359307528859,
          -0.729618113050469,
          -0.7648288385828927,
          0.6705221959606151,
          1.058661733061116,
          1.4781451681681277,
          -0.07667306205752887,
          -0.03123248711665538,
          1.7623392524895678,
          -1.4414653605825212,
          -0.16321372779559354,
          -0.07618430293113614,
          0.40647997283127024,
          0.130631013653203,
          0.1412683164846294,
          -0.9454678485895891,
          -0.865314198323327,
          -0.2736292804155548,
          -2.3366121461734335,
          0.014769255692546546,
          0.14481575590245874,
          -0.24469743133561733,
          -1.086427634816239,
          0.2955953775757649,
          -0.6995019150584614,
          -0.8604472478866654,
          -1.741050926342162,
          -0.3388796173368562,
          -1.540069325496402,
          -2.02787082525411,
          -0.3324249869316638,
          0.9203942886570539,
          -1.1366796452181982,
          -1.2452711274407107,
          6.520532636549648E-4,
          0.01504875922487291,
          1.059145727866162,
          0.7762855957362111,
          -0.36253642215984094,
          3.00385873729103,
          1.1123871261755174,
          -0.820516357128807,
          1.5439679652032468,
          -0.5554339314828479,
          1.1509472927009865,
          0.4667558783306509,
          0.39448232280282536,
          0.7288443550849253,
          1.2422362143422627,
          0.5573006874833207,
          1.4451520579821087,
          0.6477289415419428,
          0.5303052398992534,
          -0.20627868041452035,
          1.0852079544596696,
          -0.11758888739497139,
          2.0710890789675536,
          0.8917822633743847,
          1.0899248289432053,
          0.3540083049129394,
          0.9282122798472323,
          0.02865672495855394,
          -1.0058956138737485,
          -1.1237709738760522,
          1.0619807975238094,
          -0.03827497216950371,
          -1.2921167368719535,
          0.41840610349712354,
          0.24814237919549154,
          0.6797805962211205,
          0.11144893666066132,
          -0.7906836702283669,
          0.22164622176480214,
          0.6394430440757211,
          1.2411997974313007,
          0.42444111384412153,
          -0.21835153040523594,
          -0.043422788517753025,
          2.4127660496483623,
          2.2279703863208646,
          -1.0188109861730144,
          -1.5145927934645405,
          1.2249630386162071,
          -0.0893860335959736,
          -0.6320540125563787,
          0.20254469056977834,
          0.022586580004581375,
          -0.5243610568303415,
          0.4818453622373488,
          -1.818257561727649,
          -1.0707243909997135,
          1.6968133318820793,
          0.33720913309035466,
          0.9000673515602935,
          -0.2152696875763765,
          0.6785610547951081,
          0.41729511421917415,
          0.17110126745244184,
          -0.7576757467931131,
          0.6879334611124126,
          -0.45983576214690014,
          1.7200359673199308,
          0.4883687215660006,
          -0.2992335920157859,
          -0.3806539164536784,
          0.7956197664196519,
          1.473372125373202,
          -0.24988466418268568,
          -0.7416900905218365,
          -0.8009027816397831,
          -0.6177135224953085,
          0.03764642560100799,
          -0.0793794115301828,
          -0.6415348749009123,
          -0.9337066416328765,
          -0.8886144270593828,
          1.013687296671459,
          0.518101497290956,
          1.053095716178292,
          -0.4793046989333108,
          -0.52303421818226,
          -0.20397210955979628,
          -0.8912648384610851,
          -0.7610292850453448,
          -0.07233713911549328,
          -2.1779557919587766,
          0.7540145064329692,
          -2.3952079560729542,
          -1.557477274393798,
          -0.502860203595678,
          -0.7714820366389086,
          -0.6368147910938273,
          0.6318045110592021,
          0.12816783099637666,
          0.11756364654559202,
          -1.0804221872349196,
          0.8550219136763243,
          -0.249344409167404,
          -0.44081425484276976,
          1.1369420256959961,
          -1.100784246902189,
          -0.9117025052569999,
          -1.0552884196993262,
          2.0642621132985712,
          0.12386573719287677,
          -0.4238814759623262,
          -0.5995193570340916,
          1.537654266898892,
          1.2343167212352395,
          2.519816136513974,
          -1.4282939131519876,
          -0.5194194639988508,
          -1.3716560617631608,
          1.0498666884355818,
          -0.03129516050859914,
          -0.015152988481458523,
          -0.6393602445613116,
          1.0064754888186922,
          -1.0855812088101455,
          -0.20577457746611566,
          0.020745779421440715,
          -0.9648979391287349,
          0.08636095506858055,
          -0.4713232620442721,
          -0.2116929818884058,
          0.3762900942065543,
          0.5161170554455505,
          0.5724845539367599,
          0.8189132556559467,
          0.6982524046595566,
          -1.447324888540125,
          -0.7024977873690387,
          -0.894038138976911,
          -1.6935893079408322,
          -1.0543169686856073,
          -0.4561975729323769,
          1.7187761478349315,
          -2.390467922354969,
          0.696973888374147,
          -0.07592491929435641,
          -1.1526784446417149,
          -0.17378625767910869,
          -0.8482797412748987,
          0.5227824357395531,
          0.9525671494546794,
          1.6023983960463748,
          -0.4096752162102867,
          -1.4033909742353932,
          -0.9649027927822695,
          -1.4727951564869444,
          -1.1103781777160806,
          -0.4748280506920923,
          -0.44464445874463165,
          -1.7217992022509079,
          0.034544742458897035,
          0.9386810926936371,
          -0.8434960500415332,
          0.5405408008693879,
          -2.36575957205908,
          -0.21253300776565776,
          -0.9220246766252007,
          0.31635447753489715,
          -1.2833128680556845,
          -0.03611226992135713,
          -0.5034807072906776,
          1.4320044230573934,
          -0.26730960258752956,
          0.34457727242828695,
          0.009709703440878579,
          0.3587208036644048,
          -0.6728878662321977,
          1.5178224070225865,
          1.4454113713559733,
          -0.31426783227779237,
          0.3591922506437417,
          0.6598433257170686,
          0.497301892296288,
          1.3051410132296457,
          -1.042690423169446,
          -0.2970379821086623,
          -1.381106388002623,
          -0.17047672053199373,
          -0.9204266691044205,
          0.9245476558133714,
          0.28199660509657715,
          0.059900653720408384,
          0.29446622612577306,
          1.3778209798632504,
          1.066065112035847,
          0.37844960415651435,
          0.36435211087697794,
          0.011744087254896639,
          -0.19202151864308722,
          0.2294170231365576,
          1.0381983042636365,
          2.2167308854718852,
          -2.247052964715862,
          1.0374044150962787,
          0.38287830046628707,
          -0.9680508272612783,
          1.0547006629388957,
          1.2890226944748258,
          0.8273580085283452,
          -0.2061636454674416,
          -0.979075466193238,
          -0.8713020761796477,
          0.12213704890551941,
          -0.3746903629452642,
          1.264929640533172,
          -0.6830819704594638,
          0.6175498952238551,
          0.8022505904892878,
          1.565418527001438,
          -0.19711300401269202,
          -0.6576877687120064,
          -1.5024549449194384,
          -2.3725362716036846,
          0.0812137624025922,
          0.6381418515135018,
          0.42111259622561514,
          0.7121869298538384,
          1.5818808366043657,
          -0.11736411268335468,
          -0.39020123247005506,
          -0.902768251549054,
          0.7779432915696638,
          0.6537669102497505,
          2.0194608917821997,
          -0.39286139351498534,
          0.7712755637547347,
          0.26786319528271496,
          -1.2490630879873297,
          0.9180627037421818,
          -0.27194859296127605,
          1.3407490423845638,
          0.23556226172283967,
          0.5825492501880999,
          -1.3165207595914727,
          0.313268045719396,
          -0.897776812061626,
          -1.1674660699838701,
          0.12145962846947306,
          0.04641529229996417,
          -0.5745655137665586,
          -0.3972241940473,
          -0.1733960821169999,
          -0.8163136302409,
          -1.0495613204635557,
          -0.9336404745166367,
          -0.29719970197603374,
          -1.7856857483292525,
          -0.549409416624984,
          0.9659626895449634,
          1.840663142272621,
          0.38867763745704936,
          -0.8628738145553394,
          1.3095100747057868,
          -0.8353751300320285,
          -0.05250803383050579,
          -0.8770432289793753,
          -0.5224835170879161,
          -1.3093212373740615,
          0.40070773724453074,
          -0.5215981160393366,
          0.2512936874885431,
          -1.0840949810461527,
          0.08780400023379809,
          0.4818607001666043,
          0.724165624196415,
          2.170372178224528,
          1.9360443970106969,
          -0.15672508422765605,
          -0.3285943639227735,
          -0.07484725516272416,
          -0.5831973889874679,
          -0.21832571831229308,
          -1.8091901196138114,
          2.089186733401834,
          -2.129215329852196,
          0.9177371720076535,
          0.023866629049282374,
          -0.2987913281626994,
          -0.24292098340796045,
          0.46406972100524946,
          -0.7662039339751593,
          1.5805573573239735,
          -0.19077875351310403,
          -0.22395721535218813,
          -0.7022232569577145,
          -1.3910512735783787,
          -0.4028508766093123,
          0.6474273825385669,
          0.029673170205336195,
          -1.2645943012344052,
          0.23897616359630233,
          -0.8030224180189948,
          -1.5629054181697521,
          -1.957866973836427,
          -0.2343872648864634,
          -1.0977412869210792,
          0.24285300742113283,
          1.729594687594331,
          0.988064591903751,
          0.46263142235612525,
          -2.3841448290654585,
          -0.1988532022157612,
          0.28538904487805294,
          1.3026027489156382,
          0.3654737740987931,
          -0.3577236680282056,
          0.24874598011307714,
          1.07712086375942,
          0.1625470868940437,
          1.2308498156288759,
          -1.4311015010699777,
          2.330775095973659,
          0.16696227817198986,
          -0.4552646282872465,
          1.5568375268293946,
          -0.6489772037874912,
          0.7383766114342262,
          0.10423947663712109,
          1.8381627907217029,
          1.3339773771265813,
          1.7678806398492848,
          2.9735561213342634,
          -0.600079812220367,
          -0.34238435245999116,
          0.020041147690400024,
          -0.25010392632307843,
          0.8633374985788366,
          2.640429639299448,
          -0.9717292267777936,
          -0.9658210276640046,
          2.066591478782952,
          1.9705467125042753,
          0.1292489716872637,
          2.0836054964596653,
          -0.6039853764395454,
          0.6165296751574006,
          0.5399800116993207,
          -0.09823399283167189,
          0.2584633261786241,
          -0.09738383187438977,
          -2.3060699133868425,
          0.8736160305425749,
          0.5103657050597528,
          -0.7957880297577715,
          1.540236007914707,
          0.42805392971162787,
          0.2435180422315857,
          -0.31146150392047733,
          0.8095268986024129,
          -0.8396973387132768,
          -1.4758431775900809,
          -1.0965517749231843,
          -0.16277225160205658,
          0.7141835023081088,
          1.0180308491692671,
          0.46561717219010584,
          0.40036578607102424,
          0.8463216623784025,
          -1.0986270209482545,
          0.7455545471932248,
          0.23979330206800145,
          1.2894773499470176,
          1.0738360588934357,
          0.2237187914866292,
          0.749519050051599,
          0.7908752034621632,
          -2.0386502482138678,
          2.098082102144056,
          2.1814839934165495,
          0.02472332534499268,
          -0.24085757443771785,
          0.764641436819659,
          -0.03785423207577485,
          1.2587624168979201,
          -0.5107450673313391,
          -1.5272121356613935,
          0.7036554218597163,
          0.5583822516029906,
          -1.5393439558347637,
          1.169735146213016,
          -0.25840880359371926,
          0.6621302750468522,
          -0.3625336424218688,
          -0.3918697583092604,
          0.3542261676635382,
          0.8032199692263007,
          -0.44912669644351627,
          -0.26908310084901627,
          -1.228198218517266,
          -1.5766393652481794,
          0.42198484115200946,
          -1.2613080757560786,
          0.6333056998684345,
          1.0829365919138394,
          -0.4010399895780338,
          1.6145847593994873,
          -0.9638945046470484,
          -1.289268124866735,
          1.302434188481903,
          0.26162707849566513,
          1.9846255689648704,
          1.3196160873189566,
          1.3622508330584762,
          -0.4766246850437113,
          -1.0559045222298267,
          0.2851746558027198,
          -0.13482434895600215,
          1.4127000504611211,
          2.3410058415435437,
          1.3436404647612032,
          -0.8744686915142215,
          -0.7397074757791368,
          -1.1647498553205622,
          2.4109749580412454,
          -1.6120763501966564,
          -0.8553362667929906,
          -1.3330064871518075,
          -0.35044564666323963,
          -0.5776284141198976,
          -1.7655425138770717,
          0.15148163367363202,
          -0.3111135161250492,
          -1.0933077810748224,
          0.6670855572900339,
          -1.757932984881405,
          -1.3879952712614705,
          0.017463264087910796,
          -0.8212619188940323,
          -2.9675820161454673,
          0.9080983839227028,
          0.5573314660957208,
          -0.8761477596108432,
          -0.9032993826139767,
          1.2602275681123298,
          0.07451146292337643,
          -0.28843419924114,
          0.15869450510855554,
          -0.12205613247976832,
          -0.11719334589922413,
          -0.13481483528955726,
          -0.8747839018029182,
          -1.5060406347253046,
          0.9502117713525976,
          -0.4831550770297156,
          -1.4147806501693923,
          0.7281967283441438,
          -0.6653801895252196,
          -0.06995752307106584,
          -0.1514120224659725,
          0.9673892141531186,
          1.085635580291791,
          0.9806767651070125,
          -0.7819294128508731,
          0.34056589212576466,
          0.725282677772755,
          0.07930553799592421,
          0.8858399678296554,
          -0.348908001631651,
          -0.5350980221080694,
          2.052630453496609,
          -0.6738517712255732,
          -0.7654367339624668,
          -1.2529899364002106,
          -0.9191544235623437,
          2.362882001089888,
          -1.7085635662658274,
          0.46166978743885084,
          1.9783343264088373,
          0.14766460802151082,
          1.7680253582617016,
          -0.5575573639905074,
          0.7241711261332836,
          0.13181018839906342,
          -2.4903672405246793,
          -1.2407600357344648,
          -0.47534582582895485,
          -0.16829646161925943,
          1.0874079861174326,
          -0.657346828552294,
          -0.9514835781498506,
          0.05963078729949551,
          0.127409166345389,
          0.48459647805977757,
          0.7922260757463543,
          0.9774765220100644,
          -0.735467631679118,
          -0.2413237216290448,
          0.45532007062056684,
          -1.4445401490316516,
          0.3080782508884654,
          -0.14688542727005102,
          -0.3813439971010816,
          0.14792032049665527,
          1.3708439350645498,
          -1.3791134791514834,
          -0.5810987807348368,
          1.314672956353295,
          0.5280860902352292,
          1.7883556559900176,
          0.7822501117875937,
          -0.5692944994787109,
          -2.070423923731955,
          -0.9293488584800355,
          0.7010359971615093,
          0.9615589876844971,
          0.35298882718757546,
          -0.8215554870930506,
          0.3484897885673781,
          0.7125421533275365,
          0.8267049008190679,
          0.064336730315617,
          -0.0013897561279067334,
          -1.5492561073503512,
          0.07601714632640219,
          -1.1639599330451014,
          -0.11229094921902398,
          -0.5639422078989877,
          -0.078930649389571,
          -0.7876694555976117,
          1.1946657618976955,
          0.5591817085586722,
          -0.061540524592334014,
          0.7693622558547917,
          -1.129045700626107,
          0.8630667453568127,
          -1.6470442721592466,
          -1.4964298384178014,
          0.3815816501970968,
          1.0806027299644207,
          0.7114052202583124,
          -2.026285772441306,
          -0.12314446918236581,
          0.47806801921570546,
          0.44891408066684313,
          0.9136181074717837,
          -1.2183574041130776,
          0.3115542192223112,
          -0.7676023686192129,
          1.9445234399051088,
          1.786384802149813,
          0.7680695917286238,
          -0.4796907158341781,
          -0.1926927412079232,
          1.250371992393799,
          -1.2749086343102967,
          -0.7180140987346126,
          -0.6313401910674521
         ],
         "type": "histogram2dcontour"
        },
        {
         "marker": {
          "color": "white",
          "opacity": 0.3,
          "size": 3
         },
         "mode": "markers",
         "x": [
          0.8183767418642214,
          -0.904632137532501,
          -0.9052738265850118,
          -0.1122565066537986,
          0.37983196869412655,
          0.9075131629898451,
          0.9714647702599836,
          -0.8210426991283154,
          0.08546032573095717,
          -1.203683260848751,
          -1.610510516811745,
          1.4813992788276373,
          1.034600648194733,
          -0.2542376915471831,
          -0.6112793177155122,
          0.3718664193140843,
          0.664849910325608,
          0.6994178334482352,
          -0.5758630685070693,
          1.402203240190303,
          0.3936109670558614,
          0.5507839274900883,
          -1.0139726243708118,
          -0.24306166236748408,
          0.8343784650406452,
          1.1254835498315618,
          -0.07167218227541314,
          -0.8028983423391642,
          1.1231449400664892,
          0.40559083087484554,
          -0.25668774377981085,
          -0.5917308749654944,
          -0.71102617636189,
          -0.8842847977280001,
          0.04399289970291188,
          1.8136754906370913,
          0.815628422126326,
          -2.612250900037809,
          0.09877644507306549,
          -1.1649675841713747,
          -1.0573450399582287,
          -1.2783242566808035,
          -0.10735549441626879,
          -1.1125820646328797,
          1.2453934698676385,
          0.7160785216130826,
          0.3233576884316986,
          -0.5144131558011664,
          0.604681117671026,
          -0.3363372354420574,
          -1.2718558317244644,
          0.8364640782603221,
          0.4104837376988082,
          -1.3238199654712683,
          -0.8361422220425716,
          -1.2440624829566367,
          1.0451951216104178,
          -0.18613522635820615,
          0.1877635471862442,
          0.5750282501413564,
          -0.8428788052868292,
          -0.49013489128663784,
          1.0966288783103169,
          -0.6690926056466724,
          1.4549497354118475,
          1.9656277910158015,
          0.03947251719561727,
          0.6732318983560894,
          1.1567468023674399,
          -1.1096322006665105,
          -0.3239167630600358,
          -2.3409301482575575,
          -1.6334218148547106,
          0.7614711627406886,
          0.5341059862262472,
          0.4896280616975065,
          1.0624639358284607,
          1.823188928990934,
          -0.6674626359014727,
          -1.4538818600509837,
          -0.36843892689644114,
          0.08754336235641669,
          -0.11443129352412039,
          1.1548672429838485,
          -0.5301856539057999,
          0.3675541884666414,
          -0.11203878488693307,
          -1.1163640806911348,
          0.603987238938682,
          -1.816113815748894,
          1.4631836769371438,
          -0.5849627357172635,
          0.9811769567656998,
          -0.77376155531462,
          0.7564212639612904,
          0.01481213329034058,
          -0.9088319878853226,
          0.8005034940226528,
          0.17620292376554159,
          0.3262940584197073,
          0.05917214715595883,
          -0.4740472591974709,
          1.2602961000182369,
          0.8853329670502044,
          2.725811395414939,
          1.2084463355289705,
          -1.3469933000473961,
          0.4306821121983913,
          -0.020776011354101908,
          -0.18119723099432558,
          -0.7683738144028766,
          1.1545705303474902,
          0.41311176435776753,
          0.7845268457031948,
          0.2651493242381734,
          -0.6353059648096492,
          -0.024303889875740756,
          0.730283703625377,
          1.9830342966058523,
          -0.66016454314517,
          1.341938661836088,
          -0.0032652445265887245,
          1.0808559074120248,
          1.269052311030781,
          -0.3247813403987269,
          1.7855082908202733,
          -1.1256225376792408,
          1.379765808233107,
          1.6590391996168623,
          -0.1412018359905396,
          0.6443376297059441,
          -0.5335014192035361,
          1.003078156788907,
          -0.29368788800868334,
          2.4027308479942566,
          -0.5846882517975579,
          0.45692479461989094,
          -1.0781327556765858,
          -0.3147157066850079,
          0.5522384528255205,
          -0.40871090400245436,
          0.8944491291192995,
          -0.507302021043044,
          -0.14701451762397577,
          -0.9241150076581672,
          0.18550479144747906,
          0.33103300266986946,
          -0.3507535812333713,
          -1.4685252215257378,
          0.2453413490500275,
          -0.36285335322842166,
          -1.143544632768679,
          -0.458019355493733,
          -0.015299510892446072,
          -0.6808865459247712,
          -0.2624393999971806,
          0.4726594581145756,
          1.5207800776506346,
          0.7312351496743599,
          0.6721719418378236,
          -0.05493348668113123,
          0.2564398064284397,
          0.08816031954134539,
          0.3640726747125939,
          1.202874619613393,
          -0.07645168301305984,
          -1.3828195928729905,
          -0.7349109012847399,
          -1.8920065773250356,
          0.40150120720349997,
          1.3445387951602186,
          -1.5672240603638974,
          1.544537196123668,
          1.2326746126406445,
          -0.49572894200098216,
          0.2819019911421531,
          0.42480582152309754,
          -0.044217835665995193,
          -0.41654988505237683,
          -0.302154164966333,
          3.2058119255438924,
          0.7643407130321325,
          -0.7011956079010058,
          2.562550606546992,
          0.13094294358699368,
          1.0503140177200267,
          0.23715786623355192,
          -0.2640851497840333,
          0.8562183518000542,
          -0.9601737798925608,
          -2.3686992321985096,
          0.9976914231017762,
          0.7756216838272096,
          -0.9062836389479061,
          -0.07592957685883983,
          1.6116315340713354,
          1.4798916530781345,
          -0.764182228613587,
          -0.966579221418806,
          0.6646874291432587,
          0.46169161396612685,
          -0.06956987140211586,
          -1.0391901697414396,
          -0.747479812041099,
          -0.3517646781586577,
          0.05121673097251431,
          1.2188452738894768,
          -0.91972593039404,
          0.5943430087042074,
          1.2165131462737475,
          -0.6827377978165837,
          -1.2597580892570284,
          1.777861031983746,
          0.0683116323730365,
          0.4516614501479779,
          0.0088339623040651,
          -0.1742381498969198,
          -0.3850106607348161,
          -0.9042010644494348,
          1.4426887024318378,
          0.5203938022895621,
          -0.44886515494754825,
          0.6504296620395311,
          1.4827207250979517,
          2.8728078598194955,
          0.962212607301922,
          0.06357459369017035,
          -1.0982989128034044,
          0.20004268644394912,
          0.4393322229281665,
          1.0345292414498952,
          -0.9813023401218742,
          0.5819939005654123,
          1.3637954016610583,
          -0.29037251489072186,
          -1.0243189341805339,
          0.9732517929957705,
          0.9676159502400985,
          -0.08524014598848204,
          -0.801636870299914,
          0.3642576572979748,
          0.2052032341657319,
          1.0976958295033474,
          -0.10899511105674094,
          0.3920112942830074,
          1.3981908644004677,
          -0.12398983376697881,
          1.2940372377968279,
          -0.9375633531891666,
          -0.028831263321174673,
          0.44429263700614635,
          1.3500647937234587,
          -0.5553144189235024,
          -0.33374571473913933,
          0.5566869657131639,
          1.1861764117792981,
          1.757146544895226,
          0.079420713161769,
          0.4527382852811027,
          -0.8190086633455972,
          1.5637382850670631,
          -1.1223125039184654,
          0.3917069097916516,
          -0.648577531212409,
          2.075008964930654,
          -2.0407821316893795,
          0.6747376883133572,
          -2.1811905427631246,
          -0.4529334828159892,
          1.688049822250391,
          -2.1339569996291847,
          0.24734101565850394,
          -0.7021457005542784,
          2.0087677134394863,
          0.6440325093780901,
          0.005183174014203155,
          -0.8963606455453562,
          -0.4168475093934061,
          0.039873594480333834,
          -0.26994591045878225,
          -1.6170192436407358,
          1.8414117239145538,
          -0.9077751663400858,
          -0.6398845284308511,
          0.6370242417376824,
          -1.5563899138038613,
          0.9985472143481463,
          -2.809023419683735,
          -1.862313152759082,
          0.1945314537471692,
          -0.31290478216301776,
          -0.21705518803463067,
          0.25439298408135386,
          -0.9058227248819368,
          0.0959882758772234,
          -0.6078335449698985,
          -0.6239643685199143,
          1.2054261126212764,
          0.28303908142409384,
          1.3031522120900483,
          -0.5795723858507895,
          -0.2242418748788311,
          1.0183793765564564,
          -1.5081231871622094,
          1.4943752742582783,
          1.8643640007535192,
          1.2628087193059447,
          -0.5996482002827782,
          0.10212966732669451,
          0.967073984675713,
          -1.5816747052452844,
          -1.1106162593065658,
          -0.8604942830176076,
          0.06612488209070666,
          -0.6368714138647591,
          0.43859090242804294,
          -1.811697378023956,
          -0.4322469614264913,
          -0.24247715660621422,
          0.7750531751623976,
          -0.7764193457726211,
          0.33546350880228354,
          -0.19017943459777292,
          0.2396595761365167,
          -0.5118934909316057,
          -1.405634610230818,
          -0.9885348157211524,
          0.5202023267246088,
          -0.4247543181550149,
          0.4132694736784141,
          -1.3260722634123239,
          -0.09892754653209819,
          -0.19120223698317587,
          0.5661061447512932,
          -0.24039365604098548,
          0.6049814204462193,
          -0.5369670435229726,
          -1.6876947472995587,
          0.5138605259736804,
          0.5714606173627113,
          -1.869895873971195,
          0.23279145944510832,
          0.8898487765211661,
          1.165982372047187,
          -0.6929085285465751,
          0.030144536181778356,
          0.16473460838545836,
          -1.898203776768204,
          0.5090900777715234,
          1.435853174081051,
          0.7876620244168812,
          0.015502466133066392,
          -0.3012748665387752,
          0.0013811933884732618,
          -1.089902364522226,
          1.9351594198166469,
          -1.1733526773619711,
          1.7328153125076176,
          0.6035325098881059,
          -0.4284709043616795,
          0.25407514881602894,
          0.8589267177483926,
          0.6579407726787082,
          1.8948997972485337,
          1.538260540989219,
          0.30566339862761355,
          -0.3737978544463823,
          -0.9099496180342703,
          -2.5512984622785777,
          0.6886263048213888,
          -0.5475912953772377,
          1.4766462681154293,
          -0.3516308086227499,
          0.5704693336807554,
          1.1457260335035264,
          -0.20628568853218968,
          0.09245411178610591,
          -0.24458073043026035,
          -0.6206367093863251,
          1.1853285874219839,
          -1.4082687379488128,
          0.8472771800159928,
          -0.9647931217670724,
          -0.7561776946152076,
          0.33275295996029614,
          0.1998378395195374,
          -0.27474907117515773,
          2.1171620562621936,
          -1.5135251027119998,
          0.2596105073814751,
          -1.536220169343863,
          0.3744149817688157,
          -0.747207453181603,
          1.105329950067495,
          -1.513721699211213,
          -0.8647535714591129,
          -0.4110786374637257,
          0.5975148185350236,
          -1.1012599743698712,
          -0.10488769368967917,
          -0.13726453483086556,
          0.6810209276719938,
          0.010435410024844901,
          0.09079427526655236,
          -1.7861886307643644,
          0.011021134444087786,
          1.2361699355639628,
          0.18871723763488943,
          -0.574918735197712,
          -0.038823040283314805,
          -0.8369530711191724,
          1.5149813286404656,
          0.9000423786319194,
          1.9536085013507922,
          0.6044246127905651,
          0.38297266277079056,
          1.4127048108682518,
          1.1756149570053023,
          -0.2631993862578719,
          0.41773851898111414,
          -1.9775890923932122,
          -0.4890405739787727,
          -0.2404052771281344,
          -1.0373211219324139,
          -0.8774473609948341,
          2.239208457039055,
          1.1958323883010173,
          -0.13914721651517298,
          -0.729927821513757,
          0.4536965454928725,
          -0.7189137164049251,
          0.011786112736705752,
          1.566650057879409,
          -0.5705536823232548,
          0.13339901122791703,
          1.228059263151269,
          0.35158966658393975,
          -0.8623903627502418,
          -1.4796912917223177,
          0.7538180231932569,
          0.7211911789949009,
          -0.054691046658192084,
          0.8567913578819996,
          0.8898310370141715,
          0.5209853903308123,
          -1.1368801848707804,
          -0.6953397621937557,
          0.9511962493789554,
          1.2342679569073847,
          1.699248444909784,
          1.464888938722906,
          -0.057371061156215694,
          0.28058957439990617,
          1.1400870227801032,
          0.25323289706390956,
          1.7914636515565348,
          -0.486550968875988,
          -0.07304063091764995,
          -0.4128817720275725,
          0.5971914149528095,
          -0.1080624569728887,
          1.0692902301652418,
          0.6780321670056554,
          1.0604829186068427,
          -0.5310907552681278,
          -0.4931777115432904,
          0.7733806844932617,
          -0.014689468306795074,
          -2.0958293895791518,
          0.15418733650757951,
          1.6847228891426345,
          0.35046650164169874,
          -3.3411283624265735,
          0.22920586482661034,
          -1.0694676269620436,
          0.14003574352308285,
          1.7043085431317244,
          0.8612087094700668,
          -0.01428199462078313,
          0.6349756929397077,
          1.147109840357326,
          0.6416949227161574,
          0.4200017050720574,
          -1.2506386294718674,
          0.09104470288614988,
          -0.1412726732582315,
          1.171919716691683,
          -0.1715596578651143,
          0.19180277268725754,
          0.32272234001610917,
          0.4003162895124687,
          0.7860990755647796,
          -2.6256347822003274,
          0.8015568211270089,
          0.9415614028358075,
          0.9832411320881994,
          0.023162558640103352,
          -0.47317361645349393,
          0.2454645809322216,
          -0.5720474117286738,
          0.033188603678658786,
          -0.6049357882835025,
          1.6027494479789985,
          0.3148799003643594,
          -0.06260298590826043,
          0.74717474614403,
          -0.5306162381145229,
          0.9521712177581495,
          -0.6153206786132969,
          0.30949161889522886,
          1.6941641501630416,
          0.12025003219109691,
          0.6105826078242348,
          1.1231796603720645,
          -0.14273990546714294,
          0.5293621936400947,
          -2.1566876574730633,
          -0.37853407485813423,
          0.2463476487204739,
          0.4205757482626188,
          0.64118303042978,
          0.29673800161691805,
          0.24086552690325505,
          -0.039222501970341675,
          -0.08192821854588345,
          -0.7409092771856396,
          -0.21969767103370963,
          0.06120264898714527,
          1.804395602541501,
          -0.14072914756013397,
          -0.17594653704523763,
          -0.2125036382619405,
          -2.2725950460927513,
          -0.6956687195745307,
          -0.530206169895819,
          0.0467840891568003,
          -1.7779369679987762,
          1.937203728827786,
          1.001393978509251,
          -0.676019526474157,
          -0.7693365288200146,
          -0.9586337798407456,
          -1.2448523952735346,
          0.9682410638665176,
          -0.06143995284911356,
          -0.3940594948460579,
          -0.9499570555662463,
          0.2345446032458739,
          0.5921268703483801,
          0.9584762647986094,
          0.42029430379203614,
          1.2351462359505787,
          -1.4463333917478955,
          -2.1461179067129237,
          -1.50912058151522,
          0.056168113839525614,
          -0.23771846053229806,
          -0.5854836694078351,
          1.6017451935160045,
          0.7765292598489579,
          -1.4017327110223028,
          1.141597208105219,
          -1.9482083609940717,
          0.030343602044078467,
          1.0454381169798994,
          -0.7867271198594183,
          0.5544353046811948,
          -0.7108494415269389,
          0.5970835405521008,
          -0.1902509683254913,
          0.5811884690229864,
          -0.5246477650212542,
          -0.2774385791604429,
          1.0436610448957988,
          -2.042307566450464,
          1.1796044758054962,
          1.1249921295435847,
          -0.4165246430945581,
          0.30969756400993903,
          -0.14737665148959772,
          1.4734318569800002,
          0.1841856666625654,
          0.1466860723274363,
          -1.3466213961955948,
          -1.159780246913309,
          -0.7195534405220176,
          0.42436381925804506,
          -0.7929334250825423,
          -0.48497537038310623,
          0.24247892457996625,
          -0.5538596554885981,
          0.9363538525802063,
          0.3181520241123855,
          -0.11579412154952382,
          -0.45144892313083124,
          1.2237630623807512,
          0.5936148788717068,
          0.46867415212097857,
          0.023385187395280674,
          -0.221571759209523,
          -0.5739073141477734,
          1.255699656399125,
          -1.3869181380681326,
          -1.3554748129457042,
          0.5243679173017446,
          -0.4169727643984386,
          -0.8620116039041159,
          0.11127935148563677,
          0.07857219856980373,
          -0.4292506693350768,
          0.2563563685315494,
          -0.7682842454586732,
          1.7380409342914453,
          -0.9611319153426526,
          0.5356925725783718,
          -1.5953410415764209,
          0.10926295255755804,
          1.6786692083561592,
          -0.22078656333202462,
          -0.41577548562551936,
          -0.7138178966257277,
          0.2575194186599579,
          -0.2420814820416194,
          0.6420859706237393,
          -0.8039305479318286,
          2.2317689286894113,
          0.27968320527994145,
          -2.4846835515422367,
          -1.4557373804338987,
          0.8822486864614429,
          -0.3677697256188221,
          -0.7678008251972223,
          1.575132134092297,
          2.000516022329388,
          -0.19484029579711493,
          -1.2020671311708808,
          0.5916627298073512,
          0.17242282612022738,
          0.23061890768185256,
          -0.24860352501953872,
          -1.8822341342519389,
          -0.09665323808035026,
          2.120670012150519,
          1.8060034642609415,
          0.610789775038754,
          -0.2756231717840071,
          -2.090981132271045,
          -1.2373804611720873,
          -0.2042908024776001,
          0.6826206784997569,
          1.582251336542477,
          2.5180504614554926,
          0.3981454240587477,
          0.9706975179496613,
          -0.9510461823180318,
          0.777839589160646,
          0.31565672771843006,
          0.9674358727327573,
          -1.5733850865737524,
          -0.36641687524467,
          1.388615789262303,
          -0.5003803167547828,
          -0.6842018352900783,
          0.8780211313497773,
          1.1834203125269624,
          0.21802727644978415,
          1.470022495905428,
          0.433073239685941,
          -0.01627944740312335,
          -0.9818152257734138,
          1.256770659845766,
          0.7197111676898515,
          1.0815168346196362,
          -0.41752895034122156,
          0.07558973321053927,
          0.9808777513467694,
          0.5757743360493786,
          0.3420643049114192,
          -0.7011387708772893,
          0.5356187942205289,
          -0.43998492186422355,
          -0.19008965081534435,
          0.12030439803434226,
          0.5067136010485475,
          0.4058777246225931,
          0.7465327768807644,
          1.7048161687642116,
          -0.29969762238467146,
          -0.3714856194171236,
          1.391331948992246,
          -0.21796221119850287,
          -0.44733136091630016,
          -1.3107280722396188,
          0.0175986871630621,
          0.33972315136016207,
          0.32830627519037686,
          1.3315391665322436,
          0.15782492239340778,
          -0.12399518750087306,
          -0.6685414575334134,
          -1.549257401606623,
          -1.3361680800078233,
          1.2145767980765831,
          0.07069661107854754,
          -1.7686372709397609,
          0.11852446595127566,
          1.0042143864444217,
          0.36081303584417895,
          0.11950327245007343,
          -0.4946790684966181,
          -0.0813693284784447,
          -0.9116531182224039,
          0.8029765551528104,
          0.43360632609878824,
          0.5836999156343946,
          -0.15604290700816895,
          -0.9789589229885675,
          0.6660922474355191,
          -1.3158166083569884,
          -1.1200329193275238,
          -1.110484993343083,
          0.901356757237866,
          0.7058290654315102,
          0.10869974110220981,
          -1.0932208653040245,
          0.14599940259629637,
          -0.6295515649487564,
          -2.464910979797669,
          0.5633245294945507,
          -0.11192528010754044,
          -0.07306507381536213,
          1.6945706162084855,
          -0.9264764521836198,
          0.47396013301895523,
          0.3113191326233906,
          1.3069218549352057,
          -1.5553804356204737,
          -0.07569407392902502,
          -0.84938425646213,
          0.027318905187247465,
          1.0876013342075466,
          0.46007163196953504,
          0.333496155939723,
          0.8659188166566721,
          0.25373284494940096,
          0.5916201328606289,
          -0.4784579069296663,
          0.4671351617753888,
          0.7574777556893182,
          -0.26852758335773314,
          -0.6561595211052726,
          -1.1461602839328167,
          -2.338906922990229,
          0.9262773150622714,
          0.9091901495349674,
          -0.30073249039805966,
          1.145827111339423,
          -0.846276650016837,
          -0.5706377868530095,
          1.2784372818060108,
          0.2667568293039213,
          1.6854380083663854,
          -0.022038389593226907,
          0.9224851541517965,
          -0.21117684490486013,
          -0.6051021662599859,
          -2.34566547147648,
          -0.21505364978664,
          2.475725592319553,
          -0.3705498159954561,
          2.038197738499054,
          -0.16797022683932805,
          -0.8948788642912373,
          -0.46169895198028127,
          -1.158381002530012,
          -0.14564792933450083,
          -1.1105938807095397,
          -0.9816765051871441,
          1.5185668845592675,
          -0.977736489574859,
          -0.06250985307103347,
          0.703474651288776,
          0.4318968356808007,
          -0.9137761202998996,
          -1.6941256401808944,
          -0.6634006430444603,
          -0.7045759071200473,
          0.7900907838989584,
          -0.8039604358489678,
          1.4695775955525796,
          0.0496662979929106,
          -0.15219547342990503,
          -1.58605145080772,
          0.9362687541251528,
          1.0896497836580576,
          1.6719408749035436,
          -0.35673301510324745,
          -0.9152984838060324,
          -1.156191322846413,
          -0.4186590572362273,
          0.7238602759044849,
          1.0987888717473853,
          0.6688369474213792,
          -0.8547958187935323,
          0.6576824458026849,
          0.5334113582745675,
          -0.5356899035179324,
          0.3319581232880187,
          0.721332211142646,
          0.12255762205673887,
          2.4596695381249485,
          1.9367926088945777,
          0.044691612664665856,
          -0.3719606403634157,
          -0.6537082513782306,
          -0.4054086654884587,
          0.4119286086925009,
          -0.49053202336833757,
          -0.08395414045865214,
          0.0058779570684939,
          0.38358941201637736,
          0.623058971126672,
          0.07201559150153446,
          0.5571772733722206,
          -0.2106768984960501,
          0.5643500303631103,
          -0.3506433802134231,
          1.494176945732363,
          -1.7090054784465296,
          0.8015697427354365,
          -0.8834125171450128,
          1.0419325685032843,
          -1.7888925618979536,
          -0.14224501026395056,
          -0.35365760514321243,
          0.034053949232714965,
          1.3963148695592063,
          -2.0506495691954263,
          -0.3869401453342958,
          0.12887820157048577,
          -0.787393555810629,
          0.9216457758829352,
          0.8402177094563933,
          0.5167592102199501,
          0.6054975079748695,
          -0.42097714564899585,
          -1.4203918856556808,
          0.6457958761414575,
          1.4830526221860862,
          -0.3602793871461031,
          0.9919830642130284,
          -0.27397256054020575,
          0.09893517521822623,
          -1.3004672376580066,
          0.18010625953378895,
          -0.07003681324280309,
          0.8357757871386988,
          1.9509515894063483,
          -1.165607062685746,
          1.1922442858762212,
          0.4226563180926341,
          -0.9299169091009072,
          -0.49370041244467233,
          -0.6840657164287544,
          0.12975018514530712,
          0.20256655678100888,
          -1.0927509307136276,
          -0.7195418972788782,
          -1.18188304584993,
          -2.0872809998224557,
          1.1665301330632736,
          -0.1315887828029183,
          1.9189064329565402,
          -0.614832024990322,
          0.8938102262199435,
          -0.3669892143607835,
          -0.842330738352714,
          -0.9377926054354787,
          -1.9107281818903803,
          -1.4554982849168971,
          0.010151605646460933,
          0.21782245317734125,
          -0.05790049166335385,
          1.6911485618614173,
          0.5318326858640485,
          -0.009076388728396386,
          0.026538816189919188,
          -1.261434648286671,
          0.890888400264452,
          -0.46341706483062084,
          -1.1979388108734865,
          0.9786469406187857,
          -0.5947667165976644,
          0.33446925966538227,
          -0.7864668892853991,
          0.4735323157745096,
          -0.37287553164189224,
          -0.9931620821325099,
          -1.1736494149145902,
          1.29450641739442,
          -0.0015433594743733989,
          -1.8708614531308057,
          -1.0886068330780383,
          0.5160379191768563,
          0.2644740286814375,
          -0.6553557197545535,
          1.8327940773873481,
          0.900330636415273,
          0.4792890502717675,
          -1.0263932806515335,
          -0.4583522704064492,
          -0.2786958522545884,
          0.649610917007562,
          -0.5278793182923832,
          1.305323646985029,
          0.8660665402492083,
          -1.1286920997989172,
          -0.3440382718024146,
          -0.21833405366141562,
          -1.1172453688154595,
          0.8884871935419246,
          0.5642515520948287,
          -0.5738766922666044,
          -0.7139556576163714,
          -0.6384890578416648,
          0.6778873279189529,
          -0.301179280601092,
          0.2512236688070458,
          0.8346901445151946,
          -1.6080728561330757,
          -2.1461552750241992,
          -0.20934597583217068,
          1.5555220091129858,
          2.176591536726978,
          0.9101186089849616,
          0.29594926096366847,
          -1.1510751662588483,
          -0.5568223364140349,
          0.23856823692712717,
          0.5542084346349797,
          -0.6378516638877466,
          0.04358032508881485,
          1.9009763797992758,
          -0.08954683406852748,
          -0.3177954727448387,
          1.3524126103830367,
          1.1135686225904189,
          -0.26399924625524424,
          0.27066825154801477,
          -1.1572462273440391,
          0.4087678829356423,
          0.16742013001786524,
          0.07602199242095349,
          1.0029392637415726,
          -0.4093353150076279,
          -0.4599706769691494,
          -0.7406317865045895,
          -1.6120038933315157,
          -0.4668009849718624,
          -0.5416937721015166,
          0.1763438821778448,
          -0.677373096819784,
          0.2987227221763854,
          -0.6206863621171886,
          -0.6471390995293053,
          0.5977323059211186,
          1.549476411298454,
          -0.07933400661076109,
          -0.588725593935225,
          0.4915719974781649,
          -0.5220807250076578,
          -0.2564066630750713,
          -0.6585722962666186,
          1.2252903227864276,
          0.37840610795613705,
          -0.5519870885858994,
          -0.4615161486782769,
          0.6998824061514047,
          -1.928352217911727,
          1.3031686412846812,
          0.5605534750330587,
          -0.7340819397375926,
          -1.850142566027814,
          0.025907449159111525,
          1.5969884670376275,
          -1.0333661340052467,
          -0.9499668510877817,
          1.5362963806520717,
          -0.0263321781628739,
          0.24004011461487038,
          -0.16159704969889743,
          -1.4153065768660331,
          0.8539043191754562,
          0.10473983121654445,
          0.8393138640976241,
          -0.38781482946878276,
          0.12256237328051071,
          0.3991502043268965,
          -0.17139082547409948,
          -1.7093285922130073,
          1.1736124759237667,
          -1.468329660582022,
          1.369378215459843,
          1.0973659900754478,
          -0.24935877668183393,
          -0.8007321246211229,
          -1.7024231970484416,
          1.1439598520934566,
          0.6220533232616785,
          0.8281221829354797,
          -0.1637424153011318,
          1.150324606656476,
          0.18082985023565148,
          0.16299124278675203,
          -0.34761553161250797,
          0.5509331417171669,
          -0.9507531637851874,
          0.49987022360421307,
          -0.6865777382316314,
          -2.857238271624099,
          0.737629329338438,
          -0.8360508063695867,
          -2.458853275930166,
          0.4512309620528133,
          -0.6800446351781027,
          0.8147920613508679,
          1.7238373516398418,
          0.7160052572546597,
          0.9952173872579624,
          -0.32204642406803424,
          -0.868715767216681,
          0.9215150691719436,
          0.4875787532724101,
          -0.13500743568242224,
          0.9545993185424912,
          -0.6321203931064331,
          0.981085222178803,
          1.6293250816657472,
          0.8791818160253031,
          -1.1704120496780988,
          1.337727166678439,
          -1.3040876000934025,
          1.50804446717375,
          -1.5996553197394634,
          -0.45701110537586986,
          0.923642889276649,
          2.5643577743413384,
          -0.18035210033311985,
          0.9604093548100197,
          -1.3392458072771825,
          -0.3998489791309894,
          0.4079565327240594,
          0.15887462357263826,
          0.18582454289013084,
          0.03884573921205932,
          -0.21775591914594228,
          -0.49925756528026244,
          0.8272605237541469,
          0.60972568539915,
          1.0079588215538435,
          0.32302188721412384,
          0.11243439869833556,
          1.4410743864415472,
          0.1647665527547031,
          -0.5868864843945426,
          -0.05530353092472993,
          0.6621585049781015,
          -0.5186407866705371,
          0.5348704133216935,
          0.0595884697527733,
          1.0947373483176883,
          -2.045196602384083,
          -0.7199867009661185,
          0.24282822856497033,
          -0.31877259085577553,
          -0.4846842908742281,
          0.9118294165763078,
          0.34797145776218924,
          0.022740347006596474,
          0.31762062901323584,
          -0.6809350494582804,
          -0.35376219346166876,
          -0.2955992300943294,
          2.0161414282058905,
          0.5250300648010279,
          0.30153326284781246,
          0.8949651298326755,
          -0.3463029596340668,
          0.0319132906458177,
          1.0914840360804094,
          -0.9760539759378869,
          1.7815156375804055,
          -0.5667147189548842,
          -0.6669576556105672,
          -0.7613130877950095,
          -0.5454563441504942,
          0.8410981708429117,
          0.12394759697703932,
          0.8243332688239793,
          -0.7021658218877836,
          0.8624455077627871,
          -0.22040198744991413,
          0.2404070932840441,
          0.365920148969975,
          1.9180863299571314,
          -0.2287306429915951,
          0.038418342358140414,
          0.7462979058542079,
          1.0592868301215295,
          1.1814170212258945,
          -0.27612809909698355,
          0.1580999473986819,
          0.26284932448022236,
          0.8751408332224524,
          0.16631562324728344,
          0.7533027210819265,
          1.3160131355321618,
          0.33400489594558985,
          0.35846007479498354,
          0.03597802689162634,
          0.47079410959530843,
          0.4453558078456415,
          -0.034295781379434044,
          0.8309946664100243,
          -0.5716442389831806,
          1.0884824677994098,
          0.07799338065522292,
          -0.4592200490635677,
          -1.0304639893082048,
          0.2711468520802762,
          -0.1802876357543979,
          1.0621728171407714,
          2.9132061037011097,
          0.8549754349703542,
          1.4845776873840122,
          1.9101635445292438,
          0.006082620192125023,
          0.3676120707474988,
          -1.2716861149162235,
          0.4263882686192512,
          1.3380468771175904,
          -0.7829706307624308,
          -0.5891194142118725,
          -0.28884837003768,
          -2.675919069351076,
          0.30345963434539996,
          1.6474236814770076,
          0.46691695274580425,
          1.5699008564065988,
          -0.29891172743711886,
          -0.3261959076571825,
          0.7043380139057795,
          1.653362462112757,
          1.492580498816348,
          -0.9902043689112808,
          -1.933908265384813,
          -0.3054506352641244,
          1.3156637238860434,
          1.1515135576020488,
          0.9061662448623473,
          -0.9904536873141447,
          0.4284796863663686,
          1.1078405936079847,
          1.0100892302028566,
          0.18698181602239863,
          -0.0647007923647756,
          0.6171866516406219,
          0.3298337457881262,
          0.5601152508239198,
          0.11893994867584244,
          -0.07320716974241533,
          0.01372179953065922,
          0.4319580733339452,
          -0.6428360833303158,
          1.9612673602962927,
          -1.0930825246776,
          -1.6448318215769342,
          -1.0099127302125581,
          0.15451698632056782,
          0.21961364592038116,
          1.3066776758774323,
          -0.6890374235029341,
          0.6086431011396404,
          1.0535609094782892,
          0.1428250132612812,
          -0.05978859693185771,
          -0.8412121447083246,
          0.7391638065108648,
          -1.102578578289345,
          -0.42905984774360684,
          -0.3578474399876029,
          -1.4916518711721407,
          1.367933531447935,
          0.08077564739175143,
          -0.48944117862504155,
          -0.8204756765453877,
          -1.5248912495843678,
          -1.1229270683941144,
          0.15321939536304888,
          -0.417277998926906,
          0.07695293028588639,
          -0.0617542617194571,
          -0.18469046880672083,
          0.005708215224674415,
          1.1703339552350878,
          0.12826400080824,
          -1.229888629845502,
          0.43574141458623394,
          -1.1007296588796447,
          -1.7529493340850808,
          -0.3954056004254396,
          0.417924945187886,
          -0.1621673079782557,
          -0.9548404622130181,
          -1.165286089084461,
          2.1443839429001477,
          -0.09142742715477419,
          -1.2655828940140534,
          -1.2122114067668117,
          -1.2127356232651203,
          -0.14476703847403163,
          1.327479184330564,
          2.6099096120676046,
          0.3067647085814626,
          0.016188283185045373,
          0.11302966895024895,
          2.099626785101761,
          -0.46492130939323745,
          -0.9510682553832965,
          0.1371358574487453,
          -1.5979292750827203,
          0.6270022069650841,
          -0.39055367767191457,
          -0.3999476254106718,
          -1.3040800220921303,
          0.4080140252037286,
          -0.20597524970251083,
          0.6204622970412728,
          0.1765909051763221,
          0.614997681860459,
          0.6120343554114412,
          0.08673710942726053,
          2.6047985394086575,
          0.7797278925600206,
          -1.0133903156215955,
          -0.7753071140189292,
          0.615339437106879,
          -0.6027783114319756,
          0.5895858638028085,
          -0.19740989420874305,
          0.25026077508823447,
          -1.7490762564187832,
          0.39099455598868404,
          0.9216882136229179,
          0.7937783229534985,
          -0.8466552700556749,
          -0.46041354412203317,
          -0.7050853644069583,
          -0.24776427702463866,
          0.4746405840639194,
          1.8015139753211944,
          0.2624238810433535,
          -0.8692840809529239,
          -0.3443830057637477,
          0.04889357052543875,
          -1.1547854895078151,
          -0.6527620684931577,
          -0.6838975668502939,
          -0.2873097416800264,
          -0.3855305122814716,
          0.23993764117796165,
          0.5930563740226202,
          1.0311559734413984,
          -0.3996566132095019,
          0.4534468894996605,
          1.469832230594126,
          -2.7634430838587067,
          1.0046181574433843,
          -1.8548080282400774,
          -0.742171725928069,
          0.874492405870071,
          1.6885665594927055,
          -0.4413437023251299,
          -0.6388217661867461,
          0.33883616272046874,
          1.3037707945996408,
          -1.5236283422224217,
          0.6297507058661238,
          1.9240236122045489,
          -0.4560467476939952,
          -0.7543022659651958,
          1.9220704590652216,
          0.4845832393304567,
          1.021181558695436,
          1.900416219286375,
          0.11623388628371595,
          -0.5309694478921376,
          -1.1195907437974646,
          0.08098796655206554,
          -0.20755010182545652,
          1.8097725288191953,
          1.4147749594979726,
          1.443980362503277,
          -0.6617160779851591,
          -0.582874828448966,
          -0.13533001571930975,
          1.737435722507186,
          0.30743549655677754,
          -0.7735358115438918,
          2.1272855526086083,
          1.197122994506877,
          -0.2935002710106467,
          -1.0204125943470828,
          0.20131698431358763,
          0.2593043364811785,
          0.5056084732738445,
          0.47822499399220614,
          0.8321996567041603,
          -0.746441017597339,
          -0.021444931466788723,
          -0.5464501060247777,
          -0.1975372616769076,
          -0.21353344338046973,
          -1.1120275994078805,
          -0.9262540398954786,
          0.9005961253413927,
          0.7412276609100763,
          0.3714989517837426,
          -1.0483294365616438,
          -0.5602046235257289,
          -1.3124766627787434,
          -0.13909027215616024,
          -0.29906970475987904,
          0.3825937370281807,
          0.025454210154518132,
          0.6821420851127892,
          -1.1889169174823229,
          -0.25591987901675645,
          0.826505069772817,
          1.4796528774158333,
          -0.9377014466388963,
          -0.6075132576097408,
          -1.4192007503824469,
          1.9766519461128829,
          0.0661188182651184,
          -2.234858024437459,
          1.369702004413947,
          0.4010555989448251,
          0.4345511468372239,
          0.2855351255140726,
          0.511512127891109,
          0.9829365805256627,
          -0.043628335020331845,
          -0.8514458689258614,
          -0.6042134612681291,
          0.5778383416315216,
          0.011241639870466499,
          -0.6936211580750263,
          0.5235415304579569,
          -1.0699746589592287,
          -1.134697356122416,
          -0.7687148702578516,
          -0.5029337927136683,
          0.1860479029959951,
          0.35650140032603705,
          -0.19673173705988062,
          -0.10430304565907489,
          -1.0087641425937848,
          -0.14624930825909854,
          0.26109822598452653,
          0.2863043150239143,
          -0.4851163300611216,
          0.9035820745372101,
          0.26829519409029196,
          0.11484069215881165,
          0.2849965811326413,
          1.158540155827536,
          0.23494831543594236,
          0.9436449359398579,
          -1.9577445568738303,
          -0.09192042914844407,
          -1.4019406335312057,
          0.10085345308759819,
          -0.5687107794439299,
          -1.7234727005416768,
          1.9547665152932445,
          0.11224532299528481,
          0.8381745058793904,
          0.8658579477686846,
          0.4855607802896385,
          0.09987058850674087,
          0.3330227733265742,
          -0.2415672357484315,
          0.030516165284316568,
          -1.124750605499003,
          0.4962549476805582,
          -0.571759786735856,
          0.2032926196320629,
          -0.6334643702767061,
          -0.7332382802658104,
          1.3620054434993163,
          -0.23542842230249944,
          -1.5763788888997534,
          0.8207976184715824,
          1.35235682672863,
          -1.0038047353243922,
          1.179539224644645,
          1.3790186562301088,
          -0.26952641770435004,
          1.9959508938992463,
          0.6444399910217946,
          0.6945503003313463,
          0.3167575811172884,
          0.6091773142829351,
          -0.0640747274228036,
          -0.4997218587387198,
          -1.3113985453929973,
          -1.0698346066853266,
          -0.4977143222330345,
          -0.494150888114294,
          -1.154695726891835,
          -2.1237139227971924,
          0.7049408808973748,
          -0.6575270073933634,
          -0.037868754745048964,
          -0.17115696301932232,
          0.7693678758256446,
          0.25120778740209987,
          0.05665813252451871,
          -0.7341796805084138,
          0.15516365186145412,
          1.6013363884413638,
          0.593768902414357,
          -0.582133873883208,
          -1.3846457907588312,
          0.14523604110935528,
          0.7156480118893636,
          -0.8868367083522594,
          2.026753986806863,
          -0.22138336115058146,
          0.034397595774648335,
          -0.9534095663972516,
          -1.2192675044097423,
          -0.8064841053115517,
          -2.0652255471321888,
          0.7834397069082545,
          1.0075759705625702,
          1.0711401963866272,
          -0.7002065600158883,
          -0.2525152263941168,
          -1.0007604138533408,
          -0.5596032727929209,
          1.0429656831347989,
          -1.4089286579789129,
          -0.09284796051202342,
          0.2985379649340494,
          -2.6316391106615455,
          -0.5349508336826462,
          -0.23290524907116716,
          -0.33251870909235254,
          -0.8831061028735983,
          -0.6652898933187674,
          -1.5223996958267547,
          0.5863906419723568,
          -0.05361207892733568,
          1.553169172095347,
          -0.20728284356943066,
          -1.0755866512349097,
          1.697357757476165,
          -1.2536777615380446,
          -1.9160371370920042,
          -1.1608332058538668,
          0.5044009741859043,
          1.1932532742645046,
          -0.10004632403967442,
          -1.1442405156135407,
          -0.32591627226948383,
          1.4734535311923307,
          0.26386154590796695,
          0.5634066093663129,
          1.341410282585341,
          -1.3034303206123894,
          0.31627751276003946,
          0.4578451206122118,
          -0.24086861418368244,
          0.2200783159036365,
          -0.36709275937305624,
          -0.13271319718363286,
          0.536340296879977,
          0.5851003101548564,
          1.047771117651857,
          -2.237945937529692,
          0.4354197046836851,
          -0.4780049610503694,
          -0.9720839674229693,
          -2.030452465194817,
          -0.35904308741953417,
          -0.15345179905989953,
          0.5229626173048881,
          0.8289847375749471,
          -0.8234317389097179,
          0.07398726034563333,
          0.27601059679873424,
          -0.6314856747007146,
          -0.6321743474466933,
          -0.20004550883756786,
          0.1232312746359758,
          0.5553918897168015,
          -0.7312573837530957,
          -1.0423692882462765,
          -0.8959552935431834,
          1.2866741987117563,
          0.27858081752209907,
          0.9337806722331731,
          -1.0262687526889929,
          1.1764934445174047,
          -0.20822299998502708,
          1.150379187253254,
          -0.787244173685121,
          -0.47999981808504294,
          -0.16148308992637184,
          -1.7137627789794583,
          1.1377799567577958,
          -0.05511228603370407,
          0.7967145435992463,
          -0.7307920928812159,
          0.44985325608320853,
          0.05635659251241051,
          1.315330694974713,
          -0.22874372806824292,
          0.09834078184500947,
          0.3006834797702368,
          -1.7085804616186746,
          1.4350466340535484,
          -0.8787939903600603,
          -0.5371833703804808,
          -0.22385265889789124,
          -0.8962029649286339,
          -0.7881720462393011,
          0.17981631323534508,
          -0.1824740406710834,
          -1.4367749483448256,
          -0.2144984338372505,
          -0.40829450402408646,
          -1.09200861762908,
          -1.4024984835056158,
          0.39387145631974874,
          -0.14293838464979097,
          2.0719945979132213,
          -1.4044066349554103,
          -0.3984217610828383,
          -0.07925040618393364,
          0.5964905677605798,
          -0.839657759664009,
          2.506992572279868,
          -0.32217673844266803,
          -0.76296426562482,
          -1.2905266350679034,
          -0.6761690895629854,
          1.3007070042776825,
          -0.44538936443020605,
          -0.1504890068445204,
          -0.678132316483577,
          -1.7016038385102565,
          1.44376348818266,
          -0.7106810800055384,
          1.1475925026379044,
          -0.2809011206293351,
          -0.10107439226966478,
          1.6370867299303806,
          -0.22291258375028558,
          0.47495270942050494,
          -1.774580471183596,
          -0.586526241542251,
          0.364680002815513,
          0.7018344986039504,
          -0.511400560683771,
          -0.6907082363971773,
          -1.3898669828311137,
          1.7540965673706785,
          1.3077761088449158,
          0.3820179590170616,
          1.020242056121743,
          -1.4084196896549743,
          -0.6869031007489854,
          0.8593920885072593,
          -2.084696003702122,
          -0.6820392485641267,
          -0.22884343541395802,
          0.11552225191027485,
          0.11053745834581576,
          1.5988099703947658,
          -1.265440678019791,
          0.45340297683325304,
          -0.6139675105981132,
          0.37665180544288945,
          -0.11647529795290289,
          0.9356071682941469,
          -2.155449105531072,
          0.21165271299658267,
          0.4082963360473591,
          -0.3372315074962779,
          1.5673790261437055,
          1.4935166240908393,
          -0.7430651653543807,
          0.11649754413639248,
          0.07466248865314841,
          -0.9687998894497774,
          1.9125316737962457,
          -2.114742325334127,
          0.755988368304696,
          -0.6811260141530389,
          -0.292035325038255,
          -0.7482183431126613,
          -0.31522118148736766,
          -0.4230245518417627,
          -1.9332629417588973,
          -0.8638843109099228,
          -0.33939471260734766,
          -0.6172979002369684,
          -0.6715344696250286,
          0.8788998205671219,
          0.15656619886502438,
          -0.7363594140587397,
          0.6160345589234624,
          0.6962036993478066,
          -0.3183467562690302,
          -2.568292652972008,
          -0.43701643276639557,
          0.13154897180443348,
          -0.3369678612844289,
          0.419709788325883,
          0.9951957737422454,
          0.24986705410405058,
          0.6921811891475402,
          -0.7197329330249448,
          -0.10713937190003424,
          -0.7618517138939468,
          1.3894422073442154,
          -1.4679013210092329,
          -1.7947364850123935,
          0.632818699738033,
          -0.8409277357130174,
          0.9899356587237872,
          -2.2071526152347216,
          0.5469141718246889,
          0.058112161401981714,
          0.281336900493633,
          -0.23300018710708773,
          1.004467198158206,
          -0.2040038309518576,
          -0.8112372705870591,
          -0.4742620383070538,
          1.5843892265445687,
          1.240426608900151,
          0.1467649327448839,
          1.1235948393478763,
          -0.6227902621323059,
          -1.3075617604041625,
          -0.8808785731419619,
          0.6109335708135897,
          1.4931768047967122,
          0.25012382239903846,
          1.4270149099753495,
          0.9198181546379772,
          0.3381244931335454,
          1.2092903414926068,
          -1.3451839748454641,
          1.4574564816887514,
          0.15900216453630764,
          0.5050943189370936,
          -1.287269144875931,
          1.4810375421149187,
          -1.0963281974187549,
          0.026457838581111982,
          -0.6367510950876145,
          -1.0419782431450844,
          -0.8320446570925812,
          -1.4375999326947875,
          -0.6434721163357823,
          0.09244454730902829,
          -0.5719264728357545,
          0.7871710251977266,
          1.0627915428783206,
          -0.4694822562350079,
          -0.05048627546942882,
          -0.8693331865902336,
          -0.7320611113282116,
          0.5694997616506734,
          -1.134304215236341,
          0.6476461034308943,
          -0.7222474731907352,
          0.5467989516330236,
          -0.16017455353578383,
          2.017735251503749,
          0.6015851492294754,
          0.11797323363242035,
          2.10751143710673,
          0.7688243109578753,
          -0.33799458752919875,
          -0.9059717356325719,
          0.5554222687663798,
          0.038498992911683634,
          -0.0896055594332062,
          -0.7757569465002706,
          0.4059023415400387,
          0.010481936179908398,
          0.9995838229451343,
          -0.3898561951939272,
          -1.2185134238437796,
          0.3361734085359072,
          0.47086555283823633,
          -0.7334566797960992,
          0.09938155744398822,
          1.1883053932769498,
          0.710758370979131,
          0.6846833981140504,
          0.27449086509841225,
          -0.9863979868766944,
          -0.7429001099434901,
          0.9532912824838539,
          0.5339477961677156,
          0.8129707127876835,
          -1.880052050795554,
          -1.7854300794723321,
          -0.3172582498279827,
          -0.6294971727493108,
          -1.0472051267461302,
          -0.599387208421141,
          1.0962368030609737,
          -0.044803782790095364,
          0.4380489436685633,
          -0.5325187951294588,
          0.6298285234379689,
          0.630171095334989,
          0.9302131303711659,
          -0.9827443150143733,
          -2.2372873138682396,
          0.5962110935032121,
          -0.4849469254650963,
          -1.1534871304876608,
          0.10520768456096655,
          1.5263374729251658,
          -1.3780144099463207,
          -0.7200765587748941,
          0.0551539497129977,
          0.5545161134418779,
          -0.9873471055047867,
          1.6829612421318139,
          0.5339792383771905,
          -1.076526525438403,
          -0.7972219240704097,
          0.6380894169546353,
          1.3483526220217585,
          0.9603910813927328,
          -0.11678204106448652,
          0.317859884271089,
          0.6537245190208754,
          -0.6573311595573303,
          0.06790920966263841,
          0.48676723280015255,
          0.8465285601775142,
          0.26997485939449467,
          0.47998528121628503,
          -0.38920416351672826,
          0.1288322479549278,
          -2.98505503436591,
          -0.04796103794822307,
          -0.21878099872880885,
          -0.020701624143153022,
          -0.9362628017337934,
          0.15799296308633695,
          -0.2634921051880338,
          -0.639086957340322,
          0.20234906931526742,
          0.2709296796888627,
          1.314442375560927,
          -0.7850317006093248,
          -0.6642893518160675,
          -1.9859369502772606,
          0.29905309574181366,
          0.5940380954049947,
          -0.11723507325117563,
          -1.4663844619877717,
          -1.4775710251952339,
          0.745289320369611,
          -0.7770717425786428,
          0.63495784054775,
          -0.6423461870171885,
          1.7556811575799225,
          0.25350510228445355,
          -1.6628940521099111,
          -1.4969035736862804,
          1.2375551673664866,
          -0.8517210302593786,
          -0.9627902750672842,
          1.7536158953982581,
          -0.1767046724719851,
          -0.5971397603649234,
          0.6688732249138578,
          0.9591430166293005,
          0.09769873045702035,
          1.0919826547023144,
          -0.8627958368472124,
          -0.3741936672032248,
          1.6176384088364588,
          0.3651339874479183,
          -0.30359416983673626,
          0.4416930496776868,
          0.23348586838626978,
          -0.0931215954904188,
          0.7340238958015425,
          0.6538673070060534,
          1.2815224869231419,
          -0.03435841552020093,
          -0.37109847761514514,
          0.1611081835369367,
          -1.1455528286846308,
          0.8085936716204916,
          1.5470278027734718,
          -0.4670863957545627,
          -0.6188974663253156,
          0.33087517106192893,
          0.5772872039774596,
          -0.7399804244921754,
          -0.668629523027817,
          1.3398859531456897,
          -0.6200778034643298,
          0.0032123160211170697,
          0.001802945013849694,
          0.1035991086347217,
          0.35058848799078823,
          0.1987087819238513,
          -1.656924316949533,
          1.421491090078848,
          0.1282426242001262,
          0.13243626631245267,
          -0.012459106515961863,
          0.31145898980401643,
          0.10915004696977722,
          -0.4447121327886365,
          1.6006362184857807,
          -1.0212038266868675,
          -3.0784715323772933,
          0.8853506685462347,
          -0.3149980129229866,
          0.015125723324167534,
          -1.8165783160439641,
          -0.2926505170800037,
          -1.036212502347319,
          0.7483152944023626,
          0.05158216237945027,
          0.09502909797198963,
          0.5445337731836806,
          0.6978803231586925,
          0.308243483583185,
          1.124646499352191,
          -0.9300028829456694,
          -1.748784756700256,
          0.05787976952421548,
          -0.5800284125400081,
          -0.7867173609093073,
          0.2686632744823778,
          -2.1926763119683312,
          -0.9189053965114147,
          0.9295193920490009,
          -0.9236208490191492,
          0.4694273010856197,
          1.9613482724466773,
          0.7551284609274787,
          1.0605657716659747,
          -0.5745985507268063,
          0.05055671745239344,
          0.14427663338869373,
          -1.031555615878662,
          -0.9972923143693536,
          -2.1470682482795884,
          1.2446501722283514,
          -1.1612487442285484,
          -0.2831506594987311,
          -1.7769202450148078,
          -1.6831831979522494,
          0.43988379925234194,
          0.6260323627865629,
          0.04638682549923703,
          0.05799773613565565,
          -0.5331432539023657,
          -0.3233499179857586,
          0.28483749166751354,
          -0.06815073379557532,
          -1.3271259679833936,
          -0.13390438711602853,
          0.845168418734274,
          -0.6012000586090785,
          0.38482964447767376,
          -0.08378877290542346,
          -0.7174903068237065,
          0.9711044488375481,
          -1.8409856338141923,
          -1.3010940749124416,
          0.6056214604854466,
          0.26068748833670047,
          0.8283318290753261,
          -1.5835704942148807,
          0.14825301020101447,
          0.42660734613341916,
          0.8535367664732031,
          0.6637448096805438,
          -0.24187938460079975,
          -0.48415314672714116,
          1.6082170754736995,
          2.0297493266478224,
          -0.11222837633127164,
          -0.6333486857400965,
          -0.8023809425292536,
          0.27529258073734214,
          -0.22657469602011138,
          -0.09020507978750551,
          -0.48193932159724207,
          -0.9251817080915974,
          -1.5599105406637646,
          1.9868240937549275,
          1.8262964226110712,
          0.16809557928903368,
          0.2521654945361544,
          1.5139658705445136,
          -0.5558488378148364,
          -0.6325948214187472,
          0.6343162097344502,
          0.9052883430135645,
          2.1040664950304513,
          1.154727005124736,
          1.4388424441473346,
          0.5942765634384741,
          0.19626479081842982,
          -1.1061771663571474,
          2.314806082168074,
          -1.203896907192434,
          0.49081749843530537,
          0.805157222058241,
          0.12003052925468836,
          0.7648887620398254,
          -0.8736819456784775,
          -0.8957343229957698,
          -0.7205802415254927,
          0.1790936357398359,
          -0.21234439573530378,
          -0.6485949332849897,
          -0.4516994937147761,
          -1.3595199635491406,
          -1.3235845848076389,
          0.980543960134917,
          0.3649476339770272,
          -2.037749926812055,
          0.5222420875513167,
          0.7782844068559986,
          -0.8182258058329434,
          1.3012564883218727,
          0.0644060343115089,
          -3.3341715869483323E-4,
          -0.050324777922867686,
          1.259351112625028,
          1.0215993709685935,
          -0.22608177674320568,
          0.09237971934658157,
          0.6567622220509499,
          -1.185113871713112,
          -0.091013144220472,
          1.0684940084255603,
          0.2395614792191904,
          -0.17737906333261302,
          -1.65779771309791,
          -0.6874760403732589,
          -0.49436444860305806,
          -0.45524753413708746,
          -0.2416880674490538,
          -2.0386172899161457,
          -0.38298539565454076,
          1.8944387555345652,
          0.5744708866565245,
          0.20106416294651988,
          0.5893619371234382,
          -0.5183354285773891,
          0.03794233307112121,
          0.3220828830478416,
          0.10908200514743521,
          0.04778039669204081,
          0.7781927764201252,
          -0.8275064655224573,
          -0.11111846101429128,
          -1.5648490021046195,
          1.5992120267601233,
          -1.4758722098127997,
          -1.9454958892581944,
          -0.9343110626749805,
          0.7687903189637285,
          -1.3211666070089978,
          0.5574989273413042,
          1.027193544610335,
          0.030734960328428748
         ],
         "y": [
          -0.9190838198604627,
          1.3208421614135264,
          -0.4128026982370254,
          -0.09805950262092199,
          0.22783659232671127,
          -0.12826667903611572,
          0.7307578719737915,
          -0.12185368479077767,
          -0.7421189389761077,
          -1.2885479454233053,
          0.7363897981214784,
          -2.703582135752486,
          1.542266735638156,
          1.0879408844601044,
          -1.126332313387995,
          -1.5274376137785437,
          -0.8757186237795989,
          0.8553501600820327,
          -0.6478269524800769,
          0.06604108036550099,
          0.5692068075414385,
          0.29331448766878904,
          -4.3148798337731744E-4,
          0.2069239111382321,
          -0.8840690830823442,
          -1.3388497270250426,
          1.4061584919717285,
          0.5531940540834531,
          -0.10423188560386669,
          0.43968239495170175,
          0.5079542874015871,
          1.2163533831470819,
          -1.0919120854494349,
          0.06961338234592111,
          0.2949371853125892,
          -2.1064593525180584,
          -0.11382598555632704,
          1.023168960080993,
          -0.2213412340361104,
          -1.056470761287061,
          0.5133718141176054,
          -1.0882696717046747,
          0.19079289175176045,
          -0.2968754041142897,
          -0.1471281360238286,
          -0.33918431264713783,
          0.47699230235028633,
          0.24207632713272792,
          0.3897632664876892,
          1.5304340031829236,
          0.2918511922918235,
          0.0634194801645915,
          1.4241529257259655,
          0.5952517093764562,
          0.8788087113802158,
          -0.8793303713840498,
          0.5851648687100494,
          0.612533673873765,
          1.2274941629735912,
          0.5802340801383263,
          -0.7528915035905865,
          2.116800603474077,
          -0.15059547102093526,
          -1.3600907719679367,
          2.5125323669657984,
          0.443649309591613,
          0.7795996807030765,
          0.8415799362623042,
          -0.15010904789209922,
          -0.36828775747348746,
          0.3150050849227244,
          -0.7693772514183709,
          -0.6149625773965189,
          -0.4118058143422926,
          -2.6202593296323577,
          1.0281496266264813,
          0.06704839909682678,
          1.209200652105284,
          -0.18037889828320264,
          0.6224029376557116,
          -1.1254808274343442,
          -0.2503690699092278,
          2.644155534135086,
          1.3091229103539432,
          0.26172574747055743,
          -0.891116328412359,
          0.5991102029598001,
          0.6771904960724978,
          -0.020988822546128962,
          0.15930001950365028,
          -0.38183850937775915,
          0.2964300040220997,
          0.5131183422819414,
          0.33496771802022957,
          2.811659054844461,
          1.3184237387625066,
          -0.13347522257569527,
          -1.9749139978518606,
          -2.6588578459056205,
          -0.5354320233414213,
          1.7266417181865499,
          0.6150079501402652,
          0.3244258116179008,
          0.8505954507702873,
          -1.6025322951897487,
          -0.03902651669024044,
          -0.5134957953724266,
          0.8809101431772557,
          -0.08779389297783288,
          1.4813539635909139,
          -1.7436810199809039,
          0.03178895597149376,
          0.368132768709492,
          0.4535212345013096,
          0.10261705362852844,
          -1.0201267888688992,
          -0.5636742672058126,
          -0.19596326059150454,
          0.17347681865198453,
          -0.23847836460906094,
          -0.4007972899672026,
          0.13195240100612718,
          -0.1027961432187651,
          1.7305739697302651,
          -1.0636758617864104,
          0.9911592540718106,
          0.6388542525554676,
          1.0951037234858731,
          0.044277161766582286,
          0.08865233302369406,
          1.3145031104598877,
          0.1468046638791238,
          2.252954483340205,
          -0.2889736993443624,
          -0.2902652939780682,
          1.3905806399963354,
          0.3453882891089486,
          -1.1730568845035256,
          0.0987691441687299,
          -0.5495910596726385,
          -0.28303155697323584,
          -0.39964009723442095,
          0.5107595403469506,
          -0.4795924495974069,
          -0.575796556906175,
          -0.862272797755453,
          0.552687838743211,
          -0.8448372690541104,
          -0.1599682755144104,
          -0.6891933007452617,
          0.3468941129649909,
          -0.775309154191228,
          0.9229043163449177,
          1.4413234270070179,
          0.6021573175082413,
          -0.4428181714200917,
          -0.7774278612191078,
          0.9653353226580325,
          -0.4841241878236618,
          1.6037764598213193,
          0.7547891451214592,
          -0.12007891717127486,
          0.6032210944839003,
          -0.9925203380046574,
          -1.469904367309593,
          -1.2314695513821272,
          0.4430255589118849,
          -1.3970289250981305,
          -2.180360594608714,
          0.6695336663966711,
          0.022192202852247368,
          0.334533719462524,
          0.3534591280592279,
          -1.5261106607400778,
          -1.446927428374595,
          1.0314787580057254,
          -1.3992253338698508,
          -0.7689853086203323,
          -0.14480325787851475,
          0.18476007213427367,
          -2.371186451959899,
          -0.6973000549745526,
          1.2584205023613355,
          0.5790468202934219,
          1.7391791803271415,
          -0.5056965574648841,
          0.6420596528428021,
          1.0337691467507597,
          -0.2990396672439388,
          -0.2941923804075905,
          -0.6771055054207792,
          0.5252841447872568,
          -1.726065249170485,
          -1.765557747555495,
          0.3061181588659005,
          -0.6207856486570416,
          1.8077872769451029,
          -1.1419897244937076,
          0.8436106015753999,
          -0.3959149221851877,
          1.1049120497088898,
          0.11587714478147093,
          -0.43031053725774476,
          1.4067279909332617,
          -0.5710948223128953,
          0.9590823106828312,
          1.145444380603691,
          -1.0936307262214235,
          0.9142808882595049,
          -0.7991942837620366,
          0.9485661634097291,
          0.8178082938789536,
          -0.03919239288807832,
          0.8676899395602234,
          0.4121600599536054,
          -0.7229526379323878,
          0.22666608202430008,
          -1.676717584964369,
          -1.9641527504528773,
          -0.4499825647771574,
          0.08851908423956194,
          -0.28857126492669744,
          -0.9875462678829983,
          0.22021103055022787,
          -0.423420082103694,
          -1.1898755252482807,
          -0.05706190738107156,
          1.2134768548711712,
          -0.009350637255166532,
          0.26848066081817606,
          0.0035595288021151496,
          1.7065412716581165,
          0.003778101473982306,
          -0.5829228888327331,
          0.7251138691438007,
          1.479127012217987,
          -0.29430713306023354,
          0.8493228275755248,
          0.11162165694391979,
          -1.1419274506254986,
          -0.5336924536882639,
          1.0258682259985012,
          -0.37721827096926125,
          -0.46257251475585115,
          0.5064545815743492,
          -0.8997359191334501,
          -0.25207627929674,
          0.41441711956586896,
          -1.6185043262513517,
          1.0949647992450877,
          -1.2604758781630034,
          1.7222285523277816,
          -0.10846918195684149,
          0.1892466934220958,
          2.026931948758712,
          0.07395147479160152,
          0.10185753756285938,
          -0.4315318027179303,
          -0.38594958760562814,
          -1.3219597873819473,
          0.5683441163567255,
          -0.7367657669223198,
          -0.6996308687616174,
          1.9243511381165932,
          1.6237443943871945,
          0.6578950842178866,
          0.7349231890581664,
          -1.1133568403377414,
          -1.4508224422529497,
          -0.31104376974601705,
          -0.5019988787340817,
          1.1052654773638482,
          0.7672283608642183,
          -1.1144301098806086,
          -0.6227892873223291,
          -1.282472414536918,
          0.5081435673790563,
          0.2802909630020107,
          0.38648671684393177,
          -0.180609410578509,
          0.9749438395102497,
          -1.1349578919328402,
          0.09025355479105375,
          0.5726349660132358,
          -0.12616393125181186,
          1.3715964052142553,
          0.8265089761707926,
          -0.33798352883728605,
          -0.5889942235635908,
          1.784651311888104,
          0.45188261807942437,
          1.4081148492415212,
          -1.1031199763152448,
          -2.3175429073963913,
          -1.909993352960287,
          0.7222121935832364,
          1.251994430879749,
          0.046524725970339804,
          0.8866198195390603,
          -1.7959422810181522,
          -0.7196838940382011,
          -0.960395760034302,
          -0.8485904139091682,
          -0.9095024712971806,
          0.49953606317335747,
          -0.46720463896374054,
          0.1056017946392871,
          -1.2631783463960564,
          1.5887396419861926,
          -0.6011194193551176,
          -1.5478430384162694,
          1.7100826651898537,
          -1.0826637701756565,
          2.534569342982177,
          0.004139302195490077,
          -0.7158859056827457,
          -0.3123537449348961,
          -0.5191856154548136,
          0.32368842815531684,
          -0.8509136207024323,
          -1.6936924312137853,
          0.7959894078451144,
          0.28787593856180055,
          0.07451948565838941,
          -0.8617578301333116,
          -0.6149294302758135,
          1.067652260589054,
          0.9955749857998706,
          0.6589302507121261,
          1.5545178564224027,
          -0.8943615952668982,
          1.253492424138465,
          0.10406917222314199,
          -2.1193933354436583,
          -1.294801173194879,
          -0.9053353659417995,
          -1.850901168801077,
          0.8867327314921124,
          0.7211543537842108,
          -0.19286196825064197,
          -0.8885648184296939,
          1.3290258783640045,
          -0.3083245551154958,
          0.10153709253383189,
          -1.269836900083992,
          -0.8582965855701333,
          0.07858225933440682,
          0.1273421232209127,
          1.0838430413107143,
          0.31545948509382704,
          -0.5708318827141802,
          -0.714365423920485,
          0.8474873963505086,
          -0.16885664068030154,
          -0.5714586807663435,
          -0.6257144409836634,
          -0.7115508949781875,
          0.10445116642841663,
          0.31705455185710757,
          0.15987403723600827,
          0.4129758761795959,
          1.8062729333103495,
          0.2657486951162724,
          0.6684438475551082,
          -1.4257012563476097,
          0.15073041123632389,
          0.6864356281975015,
          -1.6154665881600703,
          -0.213201845307358,
          2.355659862013952,
          -0.4253480226750238,
          -0.5761169360925111,
          -0.8602308033952698,
          0.7516786218886614,
          0.49414644043254013,
          -1.4715142331806816,
          0.9998022703200812,
          0.18204466450342455,
          1.4943065310194477,
          0.0699299901533018,
          -0.792990821714386,
          0.3417485719773871,
          -1.423976337284603,
          1.0797859146302573,
          0.5897872705561874,
          -0.5991460944536937,
          -1.3046433014007777,
          -0.8440935613983778,
          -0.24683059851521255,
          -1.2362560064997716,
          1.8332028206396291,
          -0.453607417095177,
          -0.8025444975759223,
          -0.5417832679501302,
          0.5777742054653972,
          -0.12080485912038126,
          -1.5917005619887314,
          0.6040841333868657,
          0.40730869944573994,
          -1.5836683518248873,
          -1.481159318516843,
          0.209620924022113,
          -0.4983717876852801,
          -1.4506712685398169,
          -0.11719363893880139,
          0.6946168770407505,
          1.3393264840742112,
          0.8946522335005045,
          0.34437876271366313,
          0.4826670327581724,
          0.6352078469529134,
          0.0047934710429133704,
          -0.24232302040612172,
          -1.1367677115398533,
          0.2655214564185806,
          0.057926035300451366,
          1.7709323469721525,
          -1.2409033111923469,
          0.19500975927052885,
          0.25573010914355127,
          2.2553081596775777,
          -0.3905226571677062,
          -1.357343632011541,
          -0.9903120150724437,
          0.5154069827048464,
          0.9279237730362255,
          0.7351947496087168,
          -0.6012306280713811,
          -0.3886139131915235,
          0.14214964116848502,
          -1.4578436457836026,
          -0.3207435767448378,
          -0.8556872975540849,
          -0.3349077777040119,
          -0.5200357494405969,
          0.10544061647848334,
          -0.2609224946974617,
          0.1094958055263628,
          -0.5617364396369902,
          0.2915744804435018,
          -0.014223956079919773,
          -1.4463439936071203,
          0.8810956580696584,
          1.442344125009558,
          0.7854817618813718,
          -0.0856032052460315,
          0.305091145964979,
          0.5090417450671306,
          -0.7256326637634312,
          -0.42754512554043617,
          -0.7707859833806974,
          0.017188152479012248,
          -0.5124902307681036,
          -0.4658906399781594,
          -1.7036847560674035,
          0.05646908963882141,
          -0.21673243197648231,
          -0.3459406321085718,
          0.10928927333688823,
          -1.681897777471505,
          -1.4954265431875824,
          -0.7750865063565662,
          -1.7351796870992897,
          2.148632041429172,
          1.7821321685278335,
          -1.0125153059415497,
          0.9700054365278958,
          1.2927064092233536,
          0.045097978875855906,
          0.6337421924053852,
          0.08628796033904579,
          -0.45701767885787764,
          -0.5295748857585934,
          0.19527537130427408,
          -0.7147667205232406,
          1.073734104388608,
          -0.3613684057301627,
          -0.9584422215593563,
          1.1027610522146705,
          0.5342940351878437,
          -1.0404103856110758,
          0.9859499994037985,
          1.5232240767865286,
          0.05252742618661555,
          0.15853601359746003,
          -0.3542370013071206,
          -0.6017117164139001,
          0.23131347861708215,
          -2.906762848799527,
          -0.983038608591725,
          0.49026307182762435,
          0.002858913563669518,
          -1.938848161963451,
          -0.9556384255402529,
          2.253694177285718,
          -1.1007225965577512,
          -0.4708937258191323,
          2.4765723404547293,
          1.1061849021974302,
          -0.6659709739070409,
          -1.4248388153682354,
          0.8096886456390897,
          0.5776460525858258,
          1.3253494098318197,
          1.8497207409175995,
          0.8250992654579072,
          0.2827936309370265,
          -0.07191512810826352,
          -1.5095030810645296,
          -1.2787884853804306,
          -1.4689091681097868,
          0.8932036880682473,
          -0.6351972963819915,
          -0.4790343677682761,
          -0.22914538917645685,
          -1.80938888963836,
          0.384478019290561,
          -0.4038422061364838,
          -1.0967726871681347,
          -0.13958477717897702,
          -2.5460830542973474,
          -1.2795766787621448,
          0.9846395658704735,
          0.9905890440952596,
          -1.0420886637593518,
          -1.177368349939541,
          -0.6303332410963604,
          -0.35454261676198945,
          -0.11177217085202276,
          0.3616427303242198,
          -0.22408640505862032,
          0.6547052258497151,
          0.02496679990372069,
          -0.19774555210993264,
          1.0789517365198518,
          -0.036990844437467287,
          0.46234388532028436,
          -1.4512970133881324,
          -2.4588631871867155,
          -0.2549800390788698,
          0.9892466474994661,
          -0.37404177375887077,
          -0.9523645866975897,
          -0.9033756445028812,
          0.40194729957225345,
          0.40212208807738586,
          -0.03829723129043385,
          0.892192246186004,
          0.6870237827592334,
          -0.9427874886131811,
          -0.5357366860066874,
          -0.4470017266512514,
          -0.356733300044032,
          1.1104057492575918,
          0.9579306509076397,
          0.3514129549527874,
          -0.3889098091079763,
          0.057617516853668345,
          0.9599319791751196,
          -0.589609178020985,
          -0.46250881320034587,
          -0.6533992640001011,
          0.45851556314121655,
          -0.41292018851897705,
          -0.489750360248884,
          0.712539515475177,
          0.7827401560898991,
          -0.4965657784278938,
          -0.3715692763947017,
          0.3432344229217201,
          1.107611862716346,
          0.9195823089824388,
          -0.8277864720110776,
          -2.4003262428655083,
          -1.5439311962907838,
          0.9883750463388749,
          0.4024263342383215,
          1.7712908761894484,
          0.6342192252882459,
          1.205828646054021,
          -0.5528116238310439,
          0.03131483558776788,
          0.22258760703850067,
          -0.19805723165706757,
          1.0829295643705483,
          -1.4043369380267239,
          -1.8553818115153446,
          0.48859801478603115,
          -0.15553551214941083,
          0.27897404848085544,
          1.3538032436126153,
          -0.916830878579308,
          0.8447626420301168,
          -1.357348477341707,
          -1.2466696884514392,
          0.8644654686742806,
          0.0749486928832397,
          1.3109200007092692,
          0.02398349450405295,
          -1.040576304745086,
          0.5554697210227029,
          0.14560278626053783,
          0.2949855827965243,
          0.2229334307777606,
          -0.541470857589659,
          -0.39898723422741317,
          -0.40169481601627516,
          -1.9001931906945841,
          0.4743132122509133,
          -0.5484773572230562,
          -0.2881761393618988,
          0.8347570057207555,
          0.5703902523580898,
          0.6920429238943301,
          -0.969811519114877,
          0.46128375228422525,
          1.2835687295541685,
          1.8792524414126515,
          -0.1461013023123789,
          1.2428043364620536,
          -0.37258198334141607,
          -0.5434868802208276,
          -1.4373071049775914,
          -0.005447148548775546,
          0.2687360366124685,
          -0.05542184013087273,
          -1.1502088606254184,
          -0.8026997798970874,
          -1.2635050511545924,
          0.364715506253113,
          0.8933330161569839,
          -1.7003623580068103,
          -0.4461170266603634,
          -1.0283359658778533,
          -0.7718428879871304,
          0.0764021413100514,
          -0.7058931871810455,
          1.6035507207398345,
          -1.116604735165188,
          0.45862208463146564,
          1.5577897767306923,
          -1.5264539524572776,
          0.035921816604453004,
          0.8314806839939125,
          -0.7836286889819074,
          -1.1957461231271251,
          -2.7182665788141813,
          -1.2107192270793572,
          -0.48902927114681705,
          0.8749051793587835,
          -0.6446122967109112,
          1.0454590894944809,
          0.8838705603705096,
          0.3765940952544159,
          -0.3114530000318667,
          -0.08111223229582874,
          0.23768764770891143,
          -0.11780774533349218,
          -1.5020739826955085,
          0.4570967179792009,
          0.6047121427630515,
          -1.5773641345829148,
          0.4948151728521615,
          -0.3068774652475723,
          0.41014791507813453,
          0.9709433116245071,
          -0.3247723240842189,
          -0.061985415774728575,
          1.1393876278415127,
          -1.7245076469871818,
          1.4455298550914393,
          0.6939784470407242,
          0.5177170624092512,
          0.7982038333779933,
          1.7553488961419113,
          1.0442599964728791,
          -0.27084272992086245,
          -1.8943442552675571,
          0.35194095861884084,
          0.6519203358246544,
          -0.4471294484024219,
          0.7431766185560358,
          0.985165394515105,
          -0.3005573117989929,
          0.9666851189213064,
          -0.40960164196783816,
          -1.3838429060908775,
          0.7638370587565299,
          0.11428040781426321,
          -1.034437599023973,
          -0.41035429846548166,
          0.35655970043528984,
          0.7122032712465804,
          -0.8504106730729503,
          -1.169400946791193,
          1.5692595316495763,
          0.3658220411374863,
          0.32301910474313583,
          -0.43766650802757684,
          -0.05376274489619832,
          -0.1766545772332382,
          -0.049174221025238475,
          2.512777244879293,
          -0.4744110676849834,
          0.2788752493741063,
          0.22492055773831973,
          -1.6604878995165007,
          0.5153450520537233,
          0.43180450764416806,
          -0.7933676061535674,
          0.6832917106504947,
          0.5545874522949156,
          0.3642373517061653,
          0.6522482261539073,
          1.488592366697961,
          -1.1821577737174425,
          -0.8424929902554137,
          -1.0476749093434243,
          -2.2040522233629125,
          0.571657843877597,
          1.0564067144286269,
          -0.7465901276496598,
          0.38393543654018875,
          -1.5725926441474396,
          0.2273723347611945,
          -0.0879688575777503,
          0.3850256418536166,
          0.10769288254658015,
          -1.4656375912714004,
          0.43130569284371517,
          1.2837245273307296,
          -0.007040050126154018,
          0.4501803787591195,
          1.0739588979671044,
          2.0293264130109185,
          0.2594437166071403,
          -0.22545789737420704,
          -0.825891508919521,
          0.5974953086540744,
          0.24100413759274625,
          -1.0923811659588947,
          1.06501495534091,
          0.5851615259383297,
          0.7006406428647016,
          1.9250307545696348,
          -1.631865297971302,
          0.6656756798147743,
          0.5828618503978498,
          1.598299263122417,
          -0.4229091405101068,
          0.045829157234919225,
          0.06360284395236657,
          0.8915520432363577,
          -0.93517781724799,
          -1.0543990421113847,
          0.8053591690337374,
          0.3180421858448654,
          0.5673445952386696,
          0.34849231611750403,
          0.8222775080193253,
          2.3388142268531578,
          0.3371316929477436,
          1.0363513081481759,
          -0.1496241901613579,
          -0.20413836388575693,
          -0.8471228185638777,
          -0.7760827421436415,
          -0.3218223385211875,
          1.0091578149774816,
          -0.25834833583199207,
          0.2661188374595707,
          -1.1548300538220972,
          0.7508880563459432,
          -1.1503662019416756,
          0.7451633533914122,
          1.0524924220179368,
          -1.5485893756575455,
          -1.2922505495424588,
          2.6281483703467656,
          -0.5839490370365567,
          -0.35785797082255344,
          1.0402376533827982,
          0.42354859293729524,
          -1.817128806738012,
          1.166061268238308,
          0.4165507853566917,
          0.8221920026653967,
          -0.5888119796713812,
          1.4762559182896213,
          0.932302872332593,
          -0.2735223410667564,
          -0.26480895789133707,
          0.6888939054894949,
          0.1260646795370393,
          -0.4488500919277051,
          -2.2019659953984188,
          -0.11349646953888876,
          0.013461083938828854,
          0.04231148257093233,
          -0.05818491430589912,
          -0.0695807473212561,
          1.4886601359767981,
          -0.06962296869816101,
          -1.1086159826225772,
          -0.46091703672558737,
          -0.6497905526109407,
          1.0962745982786115,
          -0.4576623053621756,
          1.4654451578115748,
          0.2507942125573935,
          -1.4330840758798122,
          0.6803057765056542,
          -0.08743861881141839,
          1.0781711853987546,
          2.0309550932493665,
          -0.5712851574856919,
          0.945201339919042,
          -0.0999643304495272,
          -1.0327288798924492,
          0.318618328393027,
          0.8759372045985067,
          0.6155570633493237,
          0.6284415345280924,
          1.4880737483640445,
          -0.39732118805852046,
          0.144131098629642,
          -0.2809742938942254,
          0.65418058318633,
          0.8266132287619544,
          -1.0009005372304325,
          0.39046207601102734,
          2.2755876462678386,
          -1.2083742142192018,
          1.047128992732105,
          -0.1425865211428286,
          0.20302013689642454,
          0.2654175120886378,
          -1.8057745367496159,
          -1.9691893280859836,
          0.06371335244625882,
          0.6002101689222247,
          0.6340152140340594,
          -0.6364847132229654,
          1.2979265220611487,
          -0.7518976571417426,
          -0.21637483911048483,
          0.7701314136195875,
          0.6979609516494675,
          -1.2582000276018925,
          -0.6037957738043507,
          -1.3997136486008135,
          -3.5404119731800376,
          0.4039694493724574,
          1.1849462196995513,
          0.624908492941061,
          0.016494047772423064,
          0.2790805813885961,
          -1.33043614303372,
          0.23119423062849548,
          -0.1478152045461757,
          -0.7615528453872643,
          0.6360614954483269,
          -0.21536177044083274,
          -0.9397368027691114,
          0.21458028039722424,
          -0.11515224616222937,
          -1.2478050527242532,
          1.1918007406106514,
          -1.1249877984056262,
          -0.1379401931109072,
          -0.28238374159025564,
          0.4079441467460013,
          0.02774708600048291,
          0.9919496245143339,
          0.1723627109390814,
          0.3671230304774893,
          0.08450869628628245,
          -0.0762492166093508,
          0.5062734685475629,
          -0.7647906431974482,
          -0.8852482416235058,
          -0.7644952736887067,
          0.8832248587847001,
          -0.0014810385041499929,
          0.5631416566946356,
          -1.4290122407970849,
          -0.16480188405883517,
          -0.5329329158799481,
          -0.806673976053208,
          0.5689473276441708,
          -1.225951882782016,
          1.9189751895859914,
          0.6813205999383121,
          -1.1976835213176276,
          -0.45549334698222,
          -1.1866662182676353,
          -1.2802388674091891,
          2.131038636708258,
          0.6694674373297702,
          0.012990348447588538,
          -0.6561058807221581,
          1.248318595426435,
          0.6552772623224052,
          0.6700588367809979,
          -2.762558130884367,
          1.511126878780515,
          -0.67319369074023,
          1.2462297003148122,
          -0.2430793759137185,
          -1.9610058419635312,
          0.6979963327084523,
          1.89716395639147,
          -0.29424116735508465,
          -1.5033187528531318,
          -1.454242724289921,
          -0.7304006274150527,
          0.02810977127831086,
          1.0295595351220383,
          0.925016965365241,
          0.14867734837211424,
          2.7540147006019575,
          0.6447431051000309,
          0.48707951121997317,
          0.9343008647922484,
          1.0775665343501852,
          1.6607137076568659,
          0.07553068081186605,
          -1.5976024219384162,
          1.3366070110162804,
          -0.3566927910572487,
          1.0588513505192516,
          -0.107085317506338,
          0.17600261320367644,
          0.8692087362393793,
          -0.4287231928028051,
          -1.222430115237249,
          -0.585995212013645,
          -1.3424441614563032,
          0.9806855438279289,
          -1.5991001016154451,
          0.18896286681191976,
          -0.8822983353930014,
          0.7115238294946147,
          0.4032703192624475,
          0.27160930054932386,
          -0.5411915655108741,
          -1.0813426661545043,
          1.323945189962163,
          -0.20270268623992332,
          0.17049856859682214,
          -0.40752273774067854,
          -0.5404017074391128,
          0.7956952389316572,
          0.022402119770925284,
          1.2478053314519193,
          -0.13768116848580422,
          -0.28692905502648036,
          -0.996021846170004,
          -0.8720639976637142,
          -0.5232088502923492,
          -0.0337488082097837,
          -0.7423882386179099,
          0.25005681443933675,
          -1.064574605707507,
          1.1243926159516657,
          0.02992748259830223,
          0.11621203264293686,
          -1.6451023725749252,
          0.49735571810256857,
          0.3869604755186404,
          0.07198045620655504,
          1.7623730267299893,
          -1.0499643862803925,
          0.7486211845686301,
          -0.3954388751664263,
          0.23883666621563016,
          0.5909202641873934,
          0.5799533349531607,
          1.327450617819819,
          -0.03883420153819895,
          -0.10999122269710226,
          1.3375054631598848,
          0.2084412048005676,
          0.360463706221893,
          -0.29671329857646,
          0.551346247866094,
          -1.4727241808051565,
          -0.42452768995775597,
          -1.637955364456447,
          -0.24840606690466588,
          -0.9860822858150037,
          -0.5634573310767677,
          0.46819196905988875,
          -1.066164957190505,
          0.8224024972963371,
          -0.19639260610504441,
          -0.03978045841442449,
          -0.19271931087071054,
          0.01974378474698242,
          -0.3268837356281862,
          -1.3716759046857208,
          -0.5685498565631283,
          -0.45013827026332276,
          0.49749097351926524,
          -0.38375620122043974,
          -1.2262510803403623,
          0.579447080200313,
          0.8359102016028573,
          0.9152510284464866,
          2.0941864447953136,
          0.024141768721826634,
          0.11092521301443721,
          -0.5160157711865384,
          -0.4992101251597045,
          -1.057382477647116,
          -0.9785038907518596,
          0.5937975324442611,
          -0.06232187016268903,
          0.238428353282157,
          1.07633677733881,
          -0.6904392395091069,
          -0.2700807964007605,
          -0.8368326629788155,
          0.16856031903234323,
          -1.8700698882650142,
          0.29753789116175805,
          -0.061709318277751966,
          -0.5172133079452155,
          1.6544954399655796,
          1.8559681533761174,
          0.18241678059783967,
          -1.1701332266036744,
          0.48780915567974314,
          0.015207353741148531,
          1.216802334548999,
          0.28793309477911405,
          -0.8378158839789726,
          0.6302109316931845,
          -0.18103027527987314,
          1.584299443054854,
          -0.3045563558345789,
          0.295482643312569,
          0.727971061332374,
          0.1530384618120578,
          0.07176418230072486,
          -0.12741508529147785,
          1.0566060284381482,
          -0.2889011054501259,
          1.2242844841659566,
          -1.465107339600731,
          -0.20016150096964974,
          -1.9778316005274397,
          1.7458534710897746,
          3.1822025367922007,
          0.22628042098591838,
          1.3500752710189363,
          0.9052834773534703,
          -0.3388086352751587,
          -0.5606463530616672,
          -2.0680816810539993,
          0.06788347429866178,
          1.018813756824033,
          -0.4274676686725206,
          1.3980746508150645,
          -1.47121686418231,
          -2.338254637920864,
          1.046621701523665,
          1.3217650569622883,
          -1.8862869566841902,
          0.44709287568447015,
          1.9509829185803562,
          0.10847068998941178,
          0.5686797907168198,
          0.4595523842051956,
          -1.064359869075884,
          -1.4077586088761298,
          -0.32725377596195804,
          0.8590272102266283,
          0.6547664439059764,
          0.7463511611078468,
          -0.27988425626379265,
          -0.5277101978416918,
          0.2478495577624007,
          1.405778722430837,
          1.1770642137818628,
          0.07256416036394003,
          1.044179821066277,
          -1.9721182371534223,
          1.1383607059394154,
          -0.19210823824298628,
          0.14782734107348158,
          0.8997612861156681,
          0.2871980762796133,
          -0.8006082079748861,
          0.15511107544308442,
          -0.8627969231074532,
          1.1598712029267808,
          1.352549651873356,
          0.1362059927358401,
          -1.652568847451319,
          0.383663958237778,
          -0.5312894082237718,
          -0.0882672058092996,
          -0.6662286355172073,
          -0.2623043065427486,
          -1.6195941214789662,
          -1.6127222890261077,
          -1.394057378609335,
          0.038291502579429454,
          -0.4101142237461424,
          -0.36671099402146823,
          0.46370310495590455,
          1.8645668279207486,
          0.5854828609041931,
          -0.42757937930446593,
          -0.8524991709003977,
          -0.11163427159190524,
          -0.49418853645220717,
          -0.16019117105498354,
          -0.4495784687760963,
          -0.9906218808287001,
          0.12432862270476779,
          0.6157896761690493,
          -0.3002710216334505,
          -1.2374209868749595,
          -1.0703486529116852,
          -0.585974047937012,
          -1.1359917543751419,
          -0.5333051675680712,
          -0.153416688700053,
          0.5381575454368479,
          0.8345581959227805,
          -0.767018462388328,
          -1.537313741019269,
          1.5790387175165284,
          -0.8977033199996987,
          -2.2955312364255955,
          0.703191245819965,
          -0.7955305142501717,
          0.19185868181185864,
          -0.5283130398930556,
          0.6873776356353567,
          -1.1376618459721106,
          0.2158462877285708,
          -0.7406606913991296,
          0.08166007535828562,
          1.2912126449811667,
          0.8651554807159405,
          1.2608177197390047,
          0.197535234516562,
          0.19942319482281776,
          -0.21420646581891783,
          0.11872410708402067,
          0.3555878905907472,
          0.5304652014965914,
          -0.35723653234747055,
          -0.4819848910137972,
          1.0811535586965064,
          1.1870645268577606,
          -0.043411783676667835,
          2.2879482243975473,
          1.2316395380770306,
          0.9127830757683028,
          0.09908484200027597,
          -0.45603647966077404,
          -2.4328439357930653,
          -0.3777198150368638,
          -0.377334950089107,
          -1.159753200804004,
          -0.13886158340269167,
          1.4165777918321698,
          0.7541774532617415,
          -0.19745678983455947,
          -0.4531621929288135,
          1.0286967054122556,
          -0.42025201515089666,
          1.1193712111310319,
          -0.013579296436470914,
          0.03332375617796069,
          -0.08960929773937572,
          -0.43857791958460784,
          -0.8081858472257779,
          -1.24632922123619,
          0.14087858573389556,
          1.1638406728308526,
          0.0544653270095516,
          1.8431102411909925,
          -1.1378229678288854,
          -0.8549734849626828,
          -0.3343282856659249,
          -1.3382815367460494,
          0.8156217638114952,
          -1.5372492638051554,
          -0.9239137663934769,
          1.0624187581236164,
          -0.010491924240471422,
          -0.8968345202800773,
          -0.5895057971122615,
          0.3950612740757721,
          -0.2017182335945794,
          0.13235856968211474,
          -0.16227695476170892,
          -0.8784557653330104,
          0.41009306495617415,
          -0.4444664942416288,
          -1.0199198395804723,
          -0.9853389514684586,
          -0.17443564160303013,
          0.7273875290181456,
          0.6482677276274367,
          -1.6912310344417154,
          -0.26883065577762316,
          -0.1101761839011304,
          0.5347307858078547,
          -0.7108935535183962,
          0.2417167665809351,
          -1.4910466594966743,
          -0.7547504917208469,
          0.6478490266419618,
          -0.8148007911198529,
          -0.2286298854893602,
          0.12928327189151662,
          0.09768009344221958,
          -0.059318227787946064,
          -1.2279034985299258,
          1.427709180258051,
          0.5454007857558769,
          0.2807516899663241,
          0.031811246732839006,
          -2.517582897942963,
          -0.37169776120132864,
          1.1683969028366554,
          -0.5002566806002757,
          -1.4496474860253084,
          -0.011970399076508762,
          1.1518792936454731,
          0.13648136963329496,
          0.45686741334382147,
          -0.871066664070265,
          0.3005131019560846,
          1.5047585823559928,
          -0.29459769656407453,
          1.0986429161309124,
          1.2403022035010762,
          -0.672144268289416,
          -0.02585406106101689,
          -0.08263078754596602,
          -0.3240285248179066,
          0.6797162751697114,
          1.014254521068074,
          2.018235247808883,
          1.337095301533968,
          0.7747953453716127,
          -0.6101765762785164,
          -1.0065320651144758,
          -2.14664575021958,
          1.3987789799363384,
          0.3776091062053355,
          0.47226150300868047,
          1.7642122303802121,
          -2.9881958827111923,
          0.07674552725191519,
          -3.018284635904598,
          1.3157118192929016,
          -1.0158011132094888,
          -0.44806532415538025,
          -0.40979631725809246,
          -0.10604090214440666,
          -0.15377662185425342,
          -0.6113739513429872,
          -0.2525170057680976,
          1.198099422010153,
          -2.420715455383342,
          0.05736985280675883,
          0.8524247365454044,
          -0.9361248636804387,
          -0.27815162171618035,
          0.1473474927482495,
          -0.3249765981028664,
          0.4940282568531022,
          0.2557091931621439,
          1.3294064021249525,
          -0.06435786162145622,
          0.1980932492675745,
          0.423813351672523,
          -0.5932777527547431,
          0.9100223747429432,
          0.026495844266443764,
          -0.23828251847194465,
          0.8082253637802638,
          0.6934870270778067,
          0.8634196766139736,
          -1.2179010676002897,
          0.2834309002876337,
          0.8948956744877656,
          -1.30356487252695,
          -1.2968330274118995,
          0.699827405044098,
          -0.5331209298057771,
          0.20338286413444792,
          -0.09483256367543029,
          0.14487478677465992,
          -1.145956468906865,
          -1.0096489331342522,
          2.7235810478288496,
          0.7230798762210167,
          0.36637828092645586,
          0.3824751444012189,
          -0.4771753148293888,
          -0.23880788152758672,
          -0.23675212947117918,
          0.35450495900878654,
          1.3821257998586214,
          -0.21801087105219963,
          -0.23892188708736517,
          -1.0820963995637012,
          1.0353922554972796,
          -1.6753925619126213,
          -0.14586308505643314,
          -2.6932600334091004,
          -0.3966076514227479,
          -0.018171523206488415,
          1.2982766268916575,
          0.7977117418471062,
          1.4796251459723333,
          1.5804102390628305,
          -0.32566714943985337,
          0.7505371939330214,
          -0.9676034039161822,
          0.4547238158524972,
          -0.9912449985687016,
          0.05649351754155199,
          -0.31264221355266264,
          0.12439089321526037,
          0.41215756303026274,
          0.5310076219750527,
          -0.9260673713953751,
          1.922537315499645,
          -0.9148390912502061,
          -0.7522921431990193,
          -0.4062041221624942,
          0.47152002365519685,
          -1.4769332918988862,
          0.5869056511492168,
          -1.6605351458110913,
          0.6709769880285684,
          0.8718040345163046,
          0.9855255065536371,
          -2.088038722408449,
          0.3190891545528441,
          0.20903181242053206,
          0.945422707389203,
          -0.3501446073833473,
          -0.09154883444674115,
          2.12346888729147,
          -0.3351270960328092,
          0.7462405177150161,
          -0.36930048550444405,
          -0.2798185861142901,
          0.9079362331477797,
          1.1054251822796346,
          -1.0485748590921795,
          1.068617672045287,
          -2.468951667910874,
          0.5258409661781563,
          -0.4625587366913264,
          -1.0413152672007193,
          0.024813044674829244,
          0.6868064855978327,
          0.6277295452076832,
          0.27567176630746476,
          2.0877729810932837,
          1.0425996429059985,
          1.7217841884667608,
          -0.5366654966063733,
          -0.19581923950357494,
          -0.23866576704590703,
          -0.05784077101888566,
          -0.9435487477342211,
          1.4426515707431526,
          0.9951322946771781,
          -0.36406404128696335,
          0.4415320488567082,
          -0.7881163641659811,
          -0.8141730837136472,
          -1.1718480763681731,
          -0.6643078461282697,
          -0.11733264045572266,
          -0.29061381793034946,
          -1.7228143300980678,
          0.7934230028875502,
          0.43867826335344506,
          -0.6051760563097341,
          1.0222469289762326,
          -0.3590358266065542,
          0.6029898216266133,
          0.58834540267267,
          -0.5801792495615153,
          0.5133984566568032,
          -0.5153840616567436,
          -1.2622263599582197,
          1.649597881496929,
          0.3881510792077216,
          -0.9575780211474415,
          -0.8939624270717299,
          -0.16457063543567355,
          -1.7893767977147026,
          0.06507411063282174,
          -1.8025418119814671,
          -0.3845359307528859,
          -0.729618113050469,
          -0.7648288385828927,
          0.6705221959606151,
          1.058661733061116,
          1.4781451681681277,
          -0.07667306205752887,
          -0.03123248711665538,
          1.7623392524895678,
          -1.4414653605825212,
          -0.16321372779559354,
          -0.07618430293113614,
          0.40647997283127024,
          0.130631013653203,
          0.1412683164846294,
          -0.9454678485895891,
          -0.865314198323327,
          -0.2736292804155548,
          -2.3366121461734335,
          0.014769255692546546,
          0.14481575590245874,
          -0.24469743133561733,
          -1.086427634816239,
          0.2955953775757649,
          -0.6995019150584614,
          -0.8604472478866654,
          -1.741050926342162,
          -0.3388796173368562,
          -1.540069325496402,
          -2.02787082525411,
          -0.3324249869316638,
          0.9203942886570539,
          -1.1366796452181982,
          -1.2452711274407107,
          6.520532636549648E-4,
          0.01504875922487291,
          1.059145727866162,
          0.7762855957362111,
          -0.36253642215984094,
          3.00385873729103,
          1.1123871261755174,
          -0.820516357128807,
          1.5439679652032468,
          -0.5554339314828479,
          1.1509472927009865,
          0.4667558783306509,
          0.39448232280282536,
          0.7288443550849253,
          1.2422362143422627,
          0.5573006874833207,
          1.4451520579821087,
          0.6477289415419428,
          0.5303052398992534,
          -0.20627868041452035,
          1.0852079544596696,
          -0.11758888739497139,
          2.0710890789675536,
          0.8917822633743847,
          1.0899248289432053,
          0.3540083049129394,
          0.9282122798472323,
          0.02865672495855394,
          -1.0058956138737485,
          -1.1237709738760522,
          1.0619807975238094,
          -0.03827497216950371,
          -1.2921167368719535,
          0.41840610349712354,
          0.24814237919549154,
          0.6797805962211205,
          0.11144893666066132,
          -0.7906836702283669,
          0.22164622176480214,
          0.6394430440757211,
          1.2411997974313007,
          0.42444111384412153,
          -0.21835153040523594,
          -0.043422788517753025,
          2.4127660496483623,
          2.2279703863208646,
          -1.0188109861730144,
          -1.5145927934645405,
          1.2249630386162071,
          -0.0893860335959736,
          -0.6320540125563787,
          0.20254469056977834,
          0.022586580004581375,
          -0.5243610568303415,
          0.4818453622373488,
          -1.818257561727649,
          -1.0707243909997135,
          1.6968133318820793,
          0.33720913309035466,
          0.9000673515602935,
          -0.2152696875763765,
          0.6785610547951081,
          0.41729511421917415,
          0.17110126745244184,
          -0.7576757467931131,
          0.6879334611124126,
          -0.45983576214690014,
          1.7200359673199308,
          0.4883687215660006,
          -0.2992335920157859,
          -0.3806539164536784,
          0.7956197664196519,
          1.473372125373202,
          -0.24988466418268568,
          -0.7416900905218365,
          -0.8009027816397831,
          -0.6177135224953085,
          0.03764642560100799,
          -0.0793794115301828,
          -0.6415348749009123,
          -0.9337066416328765,
          -0.8886144270593828,
          1.013687296671459,
          0.518101497290956,
          1.053095716178292,
          -0.4793046989333108,
          -0.52303421818226,
          -0.20397210955979628,
          -0.8912648384610851,
          -0.7610292850453448,
          -0.07233713911549328,
          -2.1779557919587766,
          0.7540145064329692,
          -2.3952079560729542,
          -1.557477274393798,
          -0.502860203595678,
          -0.7714820366389086,
          -0.6368147910938273,
          0.6318045110592021,
          0.12816783099637666,
          0.11756364654559202,
          -1.0804221872349196,
          0.8550219136763243,
          -0.249344409167404,
          -0.44081425484276976,
          1.1369420256959961,
          -1.100784246902189,
          -0.9117025052569999,
          -1.0552884196993262,
          2.0642621132985712,
          0.12386573719287677,
          -0.4238814759623262,
          -0.5995193570340916,
          1.537654266898892,
          1.2343167212352395,
          2.519816136513974,
          -1.4282939131519876,
          -0.5194194639988508,
          -1.3716560617631608,
          1.0498666884355818,
          -0.03129516050859914,
          -0.015152988481458523,
          -0.6393602445613116,
          1.0064754888186922,
          -1.0855812088101455,
          -0.20577457746611566,
          0.020745779421440715,
          -0.9648979391287349,
          0.08636095506858055,
          -0.4713232620442721,
          -0.2116929818884058,
          0.3762900942065543,
          0.5161170554455505,
          0.5724845539367599,
          0.8189132556559467,
          0.6982524046595566,
          -1.447324888540125,
          -0.7024977873690387,
          -0.894038138976911,
          -1.6935893079408322,
          -1.0543169686856073,
          -0.4561975729323769,
          1.7187761478349315,
          -2.390467922354969,
          0.696973888374147,
          -0.07592491929435641,
          -1.1526784446417149,
          -0.17378625767910869,
          -0.8482797412748987,
          0.5227824357395531,
          0.9525671494546794,
          1.6023983960463748,
          -0.4096752162102867,
          -1.4033909742353932,
          -0.9649027927822695,
          -1.4727951564869444,
          -1.1103781777160806,
          -0.4748280506920923,
          -0.44464445874463165,
          -1.7217992022509079,
          0.034544742458897035,
          0.9386810926936371,
          -0.8434960500415332,
          0.5405408008693879,
          -2.36575957205908,
          -0.21253300776565776,
          -0.9220246766252007,
          0.31635447753489715,
          -1.2833128680556845,
          -0.03611226992135713,
          -0.5034807072906776,
          1.4320044230573934,
          -0.26730960258752956,
          0.34457727242828695,
          0.009709703440878579,
          0.3587208036644048,
          -0.6728878662321977,
          1.5178224070225865,
          1.4454113713559733,
          -0.31426783227779237,
          0.3591922506437417,
          0.6598433257170686,
          0.497301892296288,
          1.3051410132296457,
          -1.042690423169446,
          -0.2970379821086623,
          -1.381106388002623,
          -0.17047672053199373,
          -0.9204266691044205,
          0.9245476558133714,
          0.28199660509657715,
          0.059900653720408384,
          0.29446622612577306,
          1.3778209798632504,
          1.066065112035847,
          0.37844960415651435,
          0.36435211087697794,
          0.011744087254896639,
          -0.19202151864308722,
          0.2294170231365576,
          1.0381983042636365,
          2.2167308854718852,
          -2.247052964715862,
          1.0374044150962787,
          0.38287830046628707,
          -0.9680508272612783,
          1.0547006629388957,
          1.2890226944748258,
          0.8273580085283452,
          -0.2061636454674416,
          -0.979075466193238,
          -0.8713020761796477,
          0.12213704890551941,
          -0.3746903629452642,
          1.264929640533172,
          -0.6830819704594638,
          0.6175498952238551,
          0.8022505904892878,
          1.565418527001438,
          -0.19711300401269202,
          -0.6576877687120064,
          -1.5024549449194384,
          -2.3725362716036846,
          0.0812137624025922,
          0.6381418515135018,
          0.42111259622561514,
          0.7121869298538384,
          1.5818808366043657,
          -0.11736411268335468,
          -0.39020123247005506,
          -0.902768251549054,
          0.7779432915696638,
          0.6537669102497505,
          2.0194608917821997,
          -0.39286139351498534,
          0.7712755637547347,
          0.26786319528271496,
          -1.2490630879873297,
          0.9180627037421818,
          -0.27194859296127605,
          1.3407490423845638,
          0.23556226172283967,
          0.5825492501880999,
          -1.3165207595914727,
          0.313268045719396,
          -0.897776812061626,
          -1.1674660699838701,
          0.12145962846947306,
          0.04641529229996417,
          -0.5745655137665586,
          -0.3972241940473,
          -0.1733960821169999,
          -0.8163136302409,
          -1.0495613204635557,
          -0.9336404745166367,
          -0.29719970197603374,
          -1.7856857483292525,
          -0.549409416624984,
          0.9659626895449634,
          1.840663142272621,
          0.38867763745704936,
          -0.8628738145553394,
          1.3095100747057868,
          -0.8353751300320285,
          -0.05250803383050579,
          -0.8770432289793753,
          -0.5224835170879161,
          -1.3093212373740615,
          0.40070773724453074,
          -0.5215981160393366,
          0.2512936874885431,
          -1.0840949810461527,
          0.08780400023379809,
          0.4818607001666043,
          0.724165624196415,
          2.170372178224528,
          1.9360443970106969,
          -0.15672508422765605,
          -0.3285943639227735,
          -0.07484725516272416,
          -0.5831973889874679,
          -0.21832571831229308,
          -1.8091901196138114,
          2.089186733401834,
          -2.129215329852196,
          0.9177371720076535,
          0.023866629049282374,
          -0.2987913281626994,
          -0.24292098340796045,
          0.46406972100524946,
          -0.7662039339751593,
          1.5805573573239735,
          -0.19077875351310403,
          -0.22395721535218813,
          -0.7022232569577145,
          -1.3910512735783787,
          -0.4028508766093123,
          0.6474273825385669,
          0.029673170205336195,
          -1.2645943012344052,
          0.23897616359630233,
          -0.8030224180189948,
          -1.5629054181697521,
          -1.957866973836427,
          -0.2343872648864634,
          -1.0977412869210792,
          0.24285300742113283,
          1.729594687594331,
          0.988064591903751,
          0.46263142235612525,
          -2.3841448290654585,
          -0.1988532022157612,
          0.28538904487805294,
          1.3026027489156382,
          0.3654737740987931,
          -0.3577236680282056,
          0.24874598011307714,
          1.07712086375942,
          0.1625470868940437,
          1.2308498156288759,
          -1.4311015010699777,
          2.330775095973659,
          0.16696227817198986,
          -0.4552646282872465,
          1.5568375268293946,
          -0.6489772037874912,
          0.7383766114342262,
          0.10423947663712109,
          1.8381627907217029,
          1.3339773771265813,
          1.7678806398492848,
          2.9735561213342634,
          -0.600079812220367,
          -0.34238435245999116,
          0.020041147690400024,
          -0.25010392632307843,
          0.8633374985788366,
          2.640429639299448,
          -0.9717292267777936,
          -0.9658210276640046,
          2.066591478782952,
          1.9705467125042753,
          0.1292489716872637,
          2.0836054964596653,
          -0.6039853764395454,
          0.6165296751574006,
          0.5399800116993207,
          -0.09823399283167189,
          0.2584633261786241,
          -0.09738383187438977,
          -2.3060699133868425,
          0.8736160305425749,
          0.5103657050597528,
          -0.7957880297577715,
          1.540236007914707,
          0.42805392971162787,
          0.2435180422315857,
          -0.31146150392047733,
          0.8095268986024129,
          -0.8396973387132768,
          -1.4758431775900809,
          -1.0965517749231843,
          -0.16277225160205658,
          0.7141835023081088,
          1.0180308491692671,
          0.46561717219010584,
          0.40036578607102424,
          0.8463216623784025,
          -1.0986270209482545,
          0.7455545471932248,
          0.23979330206800145,
          1.2894773499470176,
          1.0738360588934357,
          0.2237187914866292,
          0.749519050051599,
          0.7908752034621632,
          -2.0386502482138678,
          2.098082102144056,
          2.1814839934165495,
          0.02472332534499268,
          -0.24085757443771785,
          0.764641436819659,
          -0.03785423207577485,
          1.2587624168979201,
          -0.5107450673313391,
          -1.5272121356613935,
          0.7036554218597163,
          0.5583822516029906,
          -1.5393439558347637,
          1.169735146213016,
          -0.25840880359371926,
          0.6621302750468522,
          -0.3625336424218688,
          -0.3918697583092604,
          0.3542261676635382,
          0.8032199692263007,
          -0.44912669644351627,
          -0.26908310084901627,
          -1.228198218517266,
          -1.5766393652481794,
          0.42198484115200946,
          -1.2613080757560786,
          0.6333056998684345,
          1.0829365919138394,
          -0.4010399895780338,
          1.6145847593994873,
          -0.9638945046470484,
          -1.289268124866735,
          1.302434188481903,
          0.26162707849566513,
          1.9846255689648704,
          1.3196160873189566,
          1.3622508330584762,
          -0.4766246850437113,
          -1.0559045222298267,
          0.2851746558027198,
          -0.13482434895600215,
          1.4127000504611211,
          2.3410058415435437,
          1.3436404647612032,
          -0.8744686915142215,
          -0.7397074757791368,
          -1.1647498553205622,
          2.4109749580412454,
          -1.6120763501966564,
          -0.8553362667929906,
          -1.3330064871518075,
          -0.35044564666323963,
          -0.5776284141198976,
          -1.7655425138770717,
          0.15148163367363202,
          -0.3111135161250492,
          -1.0933077810748224,
          0.6670855572900339,
          -1.757932984881405,
          -1.3879952712614705,
          0.017463264087910796,
          -0.8212619188940323,
          -2.9675820161454673,
          0.9080983839227028,
          0.5573314660957208,
          -0.8761477596108432,
          -0.9032993826139767,
          1.2602275681123298,
          0.07451146292337643,
          -0.28843419924114,
          0.15869450510855554,
          -0.12205613247976832,
          -0.11719334589922413,
          -0.13481483528955726,
          -0.8747839018029182,
          -1.5060406347253046,
          0.9502117713525976,
          -0.4831550770297156,
          -1.4147806501693923,
          0.7281967283441438,
          -0.6653801895252196,
          -0.06995752307106584,
          -0.1514120224659725,
          0.9673892141531186,
          1.085635580291791,
          0.9806767651070125,
          -0.7819294128508731,
          0.34056589212576466,
          0.725282677772755,
          0.07930553799592421,
          0.8858399678296554,
          -0.348908001631651,
          -0.5350980221080694,
          2.052630453496609,
          -0.6738517712255732,
          -0.7654367339624668,
          -1.2529899364002106,
          -0.9191544235623437,
          2.362882001089888,
          -1.7085635662658274,
          0.46166978743885084,
          1.9783343264088373,
          0.14766460802151082,
          1.7680253582617016,
          -0.5575573639905074,
          0.7241711261332836,
          0.13181018839906342,
          -2.4903672405246793,
          -1.2407600357344648,
          -0.47534582582895485,
          -0.16829646161925943,
          1.0874079861174326,
          -0.657346828552294,
          -0.9514835781498506,
          0.05963078729949551,
          0.127409166345389,
          0.48459647805977757,
          0.7922260757463543,
          0.9774765220100644,
          -0.735467631679118,
          -0.2413237216290448,
          0.45532007062056684,
          -1.4445401490316516,
          0.3080782508884654,
          -0.14688542727005102,
          -0.3813439971010816,
          0.14792032049665527,
          1.3708439350645498,
          -1.3791134791514834,
          -0.5810987807348368,
          1.314672956353295,
          0.5280860902352292,
          1.7883556559900176,
          0.7822501117875937,
          -0.5692944994787109,
          -2.070423923731955,
          -0.9293488584800355,
          0.7010359971615093,
          0.9615589876844971,
          0.35298882718757546,
          -0.8215554870930506,
          0.3484897885673781,
          0.7125421533275365,
          0.8267049008190679,
          0.064336730315617,
          -0.0013897561279067334,
          -1.5492561073503512,
          0.07601714632640219,
          -1.1639599330451014,
          -0.11229094921902398,
          -0.5639422078989877,
          -0.078930649389571,
          -0.7876694555976117,
          1.1946657618976955,
          0.5591817085586722,
          -0.061540524592334014,
          0.7693622558547917,
          -1.129045700626107,
          0.8630667453568127,
          -1.6470442721592466,
          -1.4964298384178014,
          0.3815816501970968,
          1.0806027299644207,
          0.7114052202583124,
          -2.026285772441306,
          -0.12314446918236581,
          0.47806801921570546,
          0.44891408066684313,
          0.9136181074717837,
          -1.2183574041130776,
          0.3115542192223112,
          -0.7676023686192129,
          1.9445234399051088,
          1.786384802149813,
          0.7680695917286238,
          -0.4796907158341781,
          -0.1926927412079232,
          1.250371992393799,
          -1.2749086343102967,
          -0.7180140987346126,
          -0.6313401910674521
         ],
         "type": "scatter"
        }
       ],
       "layout": {
        "template": {
         "data": {
          "barpolar": [
           {
            "marker": {
             "line": {
              "color": "rgb(17,17,17)",
              "width": 0.5
             },
             "pattern": {
              "fillmode": "overlay",
              "size": 10,
              "solidity": 0.2
             }
            },
            "type": "barpolar"
           }
          ],
          "bar": [
           {
            "error_x": {
             "color": "#f2f5fa"
            },
            "error_y": {
             "color": "#f2f5fa"
            },
            "marker": {
             "line": {
              "color": "rgb(17,17,17)",
              "width": 0.5
             },
             "pattern": {
              "fillmode": "overlay",
              "size": 10,
              "solidity": 0.2
             }
            },
            "type": "bar"
           }
          ],
          "carpet": [
           {
            "aaxis": {
             "endlinecolor": "#A2B1C6",
             "gridcolor": "#506784",
             "linecolor": "#506784",
             "minorgridcolor": "#506784",
             "startlinecolor": "#A2B1C6"
            },
            "baxis": {
             "endlinecolor": "#A2B1C6",
             "gridcolor": "#506784",
             "linecolor": "#506784",
             "minorgridcolor": "#506784",
             "startlinecolor": "#A2B1C6"
            },
            "type": "carpet"
           }
          ],
          "choropleth": [
           {
            "colorbar": {
             "outlinewidth": 0,
             "ticks": ""
            },
            "type": "choropleth"
           }
          ],
          "contourcarpet": [
           {
            "colorbar": {
             "outlinewidth": 0,
             "ticks": ""
            },
            "type": "contourcarpet"
           }
          ],
          "contour": [
           {
            "colorbar": {
             "outlinewidth": 0,
             "ticks": ""
            },
            "colorscale": [
             [
              0.0,
              "#0d0887"
             ],
             [
              0.1111111111111111,
              "#46039f"
             ],
             [
              0.2222222222222222,
              "#7201a8"
             ],
             [
              0.3333333333333333,
              "#9c179e"
             ],
             [
              0.4444444444444444,
              "#bd3786"
             ],
             [
              0.5555555555555556,
              "#d8576b"
             ],
             [
              0.6666666666666666,
              "#ed7953"
             ],
             [
              0.7777777777777778,
              "#fb9f3a"
             ],
             [
              0.8888888888888888,
              "#fdca26"
             ],
             [
              1.0,
              "#f0f921"
             ]
            ],
            "type": "contour"
           }
          ],
          "heatmapgl": [
           {
            "colorbar": {
             "outlinewidth": 0,
             "ticks": ""
            },
            "colorscale": [
             [
              0.0,
              "#0d0887"
             ],
             [
              0.1111111111111111,
              "#46039f"
             ],
             [
              0.2222222222222222,
              "#7201a8"
             ],
             [
              0.3333333333333333,
              "#9c179e"
             ],
             [
              0.4444444444444444,
              "#bd3786"
             ],
             [
              0.5555555555555556,
              "#d8576b"
             ],
             [
              0.6666666666666666,
              "#ed7953"
             ],
             [
              0.7777777777777778,
              "#fb9f3a"
             ],
             [
              0.8888888888888888,
              "#fdca26"
             ],
             [
              1.0,
              "#f0f921"
             ]
            ],
            "type": "heatmapgl"
           }
          ],
          "heatmap": [
           {
            "colorbar": {
             "outlinewidth": 0,
             "ticks": ""
            },
            "colorscale": [
             [
              0.0,
              "#0d0887"
             ],
             [
              0.1111111111111111,
              "#46039f"
             ],
             [
              0.2222222222222222,
              "#7201a8"
             ],
             [
              0.3333333333333333,
              "#9c179e"
             ],
             [
              0.4444444444444444,
              "#bd3786"
             ],
             [
              0.5555555555555556,
              "#d8576b"
             ],
             [
              0.6666666666666666,
              "#ed7953"
             ],
             [
              0.7777777777777778,
              "#fb9f3a"
             ],
             [
              0.8888888888888888,
              "#fdca26"
             ],
             [
              1.0,
              "#f0f921"
             ]
            ],
            "type": "heatmap"
           }
          ],
          "histogram2dcontour": [
           {
            "colorbar": {
             "outlinewidth": 0,
             "ticks": ""
            },
            "colorscale": [
             [
              0.0,
              "#0d0887"
             ],
             [
              0.1111111111111111,
              "#46039f"
             ],
             [
              0.2222222222222222,
              "#7201a8"
             ],
             [
              0.3333333333333333,
              "#9c179e"
             ],
             [
              0.4444444444444444,
              "#bd3786"
             ],
             [
              0.5555555555555556,
              "#d8576b"
             ],
             [
              0.6666666666666666,
              "#ed7953"
             ],
             [
              0.7777777777777778,
              "#fb9f3a"
             ],
             [
              0.8888888888888888,
              "#fdca26"
             ],
             [
              1.0,
              "#f0f921"
             ]
            ],
            "type": "histogram2dcontour"
           }
          ],
          "histogram2d": [
           {
            "colorbar": {
             "outlinewidth": 0,
             "ticks": ""
            },
            "colorscale": [
             [
              0.0,
              "#0d0887"
             ],
             [
              0.1111111111111111,
              "#46039f"
             ],
             [
              0.2222222222222222,
              "#7201a8"
             ],
             [
              0.3333333333333333,
              "#9c179e"
             ],
             [
              0.4444444444444444,
              "#bd3786"
             ],
             [
              0.5555555555555556,
              "#d8576b"
             ],
             [
              0.6666666666666666,
              "#ed7953"
             ],
             [
              0.7777777777777778,
              "#fb9f3a"
             ],
             [
              0.8888888888888888,
              "#fdca26"
             ],
             [
              1.0,
              "#f0f921"
             ]
            ],
            "type": "histogram2d"
           }
          ],
          "histogram": [
           {
            "marker": {
             "pattern": {
              "fillmode": "overlay",
              "size": 10,
              "solidity": 0.2
             }
            },
            "type": "histogram"
           }
          ],
          "mesh3d": [
           {
            "colorbar": {
             "outlinewidth": 0,
             "ticks": ""
            },
            "type": "mesh3d"
           }
          ],
          "parcoords": [
           {
            "line": {
             "colorbar": {
              "outlinewidth": 0,
              "ticks": ""
             }
            },
            "type": "parcoords"
           }
          ],
          "pie": [
           {
            "automargin": true,
            "type": "pie"
           }
          ],
          "scatter3d": [
           {
            "line": {
             "colorbar": {
              "outlinewidth": 0,
              "ticks": ""
             }
            },
            "marker": {
             "colorbar": {
              "outlinewidth": 0,
              "ticks": ""
             }
            },
            "type": "scatter3d"
           }
          ],
          "scattercarpet": [
           {
            "marker": {
             "colorbar": {
              "outlinewidth": 0,
              "ticks": ""
             }
            },
            "type": "scattercarpet"
           }
          ],
          "scattergeo": [
           {
            "marker": {
             "colorbar": {
              "outlinewidth": 0,
              "ticks": ""
             }
            },
            "type": "scattergeo"
           }
          ],
          "scattergl": [
           {
            "marker": {
             "line": {
              "color": "#283442"
             }
            },
            "type": "scattergl"
           }
          ],
          "scattermapbox": [
           {
            "marker": {
             "colorbar": {
              "outlinewidth": 0,
              "ticks": ""
             }
            },
            "type": "scattermapbox"
           }
          ],
          "scatterpolargl": [
           {
            "marker": {
             "colorbar": {
              "outlinewidth": 0,
              "ticks": ""
             }
            },
            "type": "scatterpolargl"
           }
          ],
          "scatterpolar": [
           {
            "marker": {
             "colorbar": {
              "outlinewidth": 0,
              "ticks": ""
             }
            },
            "type": "scatterpolar"
           }
          ],
          "scatter": [
           {
            "marker": {
             "line": {
              "color": "#283442"
             }
            },
            "type": "scatter"
           }
          ],
          "scatterternary": [
           {
            "marker": {
             "colorbar": {
              "outlinewidth": 0,
              "ticks": ""
             }
            },
            "type": "scatterternary"
           }
          ],
          "surface": [
           {
            "colorbar": {
             "outlinewidth": 0,
             "ticks": ""
            },
            "colorscale": [
             [
              0.0,
              "#0d0887"
             ],
             [
              0.1111111111111111,
              "#46039f"
             ],
             [
              0.2222222222222222,
              "#7201a8"
             ],
             [
              0.3333333333333333,
              "#9c179e"
             ],
             [
              0.4444444444444444,
              "#bd3786"
             ],
             [
              0.5555555555555556,
              "#d8576b"
             ],
             [
              0.6666666666666666,
              "#ed7953"
             ],
             [
              0.7777777777777778,
              "#fb9f3a"
             ],
             [
              0.8888888888888888,
              "#fdca26"
             ],
             [
              1.0,
              "#f0f921"
             ]
            ],
            "type": "surface"
           }
          ],
          "table": [
           {
            "cells": {
             "fill": {
              "color": "#506784"
             },
             "line": {
              "color": "rgb(17,17,17)"
             }
            },
            "header": {
             "fill": {
              "color": "#2a3f5f"
             },
             "line": {
              "color": "rgb(17,17,17)"
             }
            },
            "type": "table"
           }
          ]
         },
         "layout": {
          "annotationdefaults": {
           "arrowcolor": "#f2f5fa",
           "arrowhead": 0,
           "arrowwidth": 1
          },
          "autotypenumbers": "strict",
          "coloraxis": {
           "colorbar": {
            "outlinewidth": 0,
            "ticks": ""
           }
          },
          "colorscale": {
           "diverging": [
            [
             0,
             "#8e0152"
            ],
            [
             0.1,
             "#c51b7d"
            ],
            [
             0.2,
             "#de77ae"
            ],
            [
             0.3,
             "#f1b6da"
            ],
            [
             0.4,
             "#fde0ef"
            ],
            [
             0.5,
             "#f7f7f7"
            ],
            [
             0.6,
             "#e6f5d0"
            ],
            [
             0.7,
             "#b8e186"
            ],
            [
             0.8,
             "#7fbc41"
            ],
            [
             0.9,
             "#4d9221"
            ],
            [
             1,
             "#276419"
            ]
           ],
           "sequential": [
            [
             0.0,
             "#0d0887"
            ],
            [
             0.1111111111111111,
             "#46039f"
            ],
            [
             0.2222222222222222,
             "#7201a8"
            ],
            [
             0.3333333333333333,
             "#9c179e"
            ],
            [
             0.4444444444444444,
             "#bd3786"
            ],
            [
             0.5555555555555556,
             "#d8576b"
            ],
            [
             0.6666666666666666,
             "#ed7953"
            ],
            [
             0.7777777777777778,
             "#fb9f3a"
            ],
            [
             0.8888888888888888,
             "#fdca26"
            ],
            [
             1.0,
             "#f0f921"
            ]
           ],
           "sequentialminus": [
            [
             0.0,
             "#0d0887"
            ],
            [
             0.1111111111111111,
             "#46039f"
            ],
            [
             0.2222222222222222,
             "#7201a8"
            ],
            [
             0.3333333333333333,
             "#9c179e"
            ],
            [
             0.4444444444444444,
             "#bd3786"
            ],
            [
             0.5555555555555556,
             "#d8576b"
            ],
            [
             0.6666666666666666,
             "#ed7953"
            ],
            [
             0.7777777777777778,
             "#fb9f3a"
            ],
            [
             0.8888888888888888,
             "#fdca26"
            ],
            [
             1.0,
             "#f0f921"
            ]
           ]
          },
          "colorway": [
           "#636efa",
           "#EF553B",
           "#00cc96",
           "#ab63fa",
           "#FFA15A",
           "#19d3f3",
           "#FF6692",
           "#B6E880",
           "#FF97FF",
           "#FECB52"
          ],
          "font": {
           "color": "#f2f5fa"
          },
          "geo": {
           "bgcolor": "rgb(17,17,17)",
           "lakecolor": "rgb(17,17,17)",
           "landcolor": "rgb(17,17,17)",
           "showlakes": true,
           "showland": true,
           "subunitcolor": "#506784"
          },
          "hoverlabel": {
           "align": "left"
          },
          "hovermode": "closest",
          "mapbox": {
           "style": "dark"
          },
          "paper_bgcolor": "rgb(17,17,17)",
          "plot_bgcolor": "rgb(17,17,17)",
          "polar": {
           "angularaxis": {
            "gridcolor": "#506784",
            "linecolor": "#506784",
            "ticks": ""
           },
           "bgcolor": "rgb(17,17,17)",
           "radialaxis": {
            "gridcolor": "#506784",
            "linecolor": "#506784",
            "ticks": ""
           }
          },
          "scene": {
           "xaxis": {
            "backgroundcolor": "rgb(17,17,17)",
            "gridcolor": "#506784",
            "gridwidth": 2,
            "linecolor": "#506784",
            "showbackground": true,
            "ticks": "",
            "zerolinecolor": "#C8D4E3"
           },
           "yaxis": {
            "backgroundcolor": "rgb(17,17,17)",
            "gridcolor": "#506784",
            "gridwidth": 2,
            "linecolor": "#506784",
            "showbackground": true,
            "ticks": "",
            "zerolinecolor": "#C8D4E3"
           },
           "zaxis": {
            "backgroundcolor": "rgb(17,17,17)",
            "gridcolor": "#506784",
            "gridwidth": 2,
            "linecolor": "#506784",
            "showbackground": true,
            "ticks": "",
            "zerolinecolor": "#C8D4E3"
           }
          },
          "shapedefaults": {
           "line": {
            "color": "#f2f5fa"
           }
          },
          "sliderdefaults": {
           "bgcolor": "#C8D4E3",
           "bordercolor": "rgb(17,17,17)",
           "borderwidth": 1,
           "tickwidth": 0
          },
          "ternary": {
           "aaxis": {
            "gridcolor": "#506784",
            "linecolor": "#506784",
            "ticks": ""
           },
           "baxis": {
            "gridcolor": "#506784",
            "linecolor": "#506784",
            "ticks": ""
           },
           "bgcolor": "rgb(17,17,17)",
           "caxis": {
            "gridcolor": "#506784",
            "linecolor": "#506784",
            "ticks": ""
           }
          },
          "title": {
           "x": 0.05
          },
          "updatemenudefaults": {
           "bgcolor": "#506784",
           "borderwidth": 0
          },
          "xaxis": {
           "automargin": true,
           "gridcolor": "#283442",
           "linecolor": "#506784",
           "ticks": "",
           "title": {
            "standoff": 15
           },
           "zerolinecolor": "#283442",
           "zerolinewidth": 2
          },
          "yaxis": {
           "automargin": true,
           "gridcolor": "#283442",
           "linecolor": "#506784",
           "ticks": "",
           "title": {
            "standoff": 15
           },
           "zerolinecolor": "#283442",
           "zerolinewidth": 2
          }
         }
        }
       },
       "config": {
        "showLink": false,
        "linkText": "Export to plot.ly",
        "plotlyServerURL": "https://plot.ly"
       }
      },
      "text/html": [
       "<div>                            <div id=\"1953d24c-0bce-4b29-afce-d8e1f1fc4510\" class=\"plotly-graph-div\" style=\"height:525px; width:100%;\"></div>            <script type=\"text/javascript\">                require([\"plotly\"], function(Plotly) {                    window.PLOTLYENV=window.PLOTLYENV || {};                                    if (document.getElementById(\"1953d24c-0bce-4b29-afce-d8e1f1fc4510\")) {                    Plotly.newPlot(                        \"1953d24c-0bce-4b29-afce-d8e1f1fc4510\",                        [{\"contours\":{\"coloring\":\"heatmap\"},\"x\":[0.8183767418642214,-0.904632137532501,-0.9052738265850118,-0.1122565066537986,0.37983196869412655,0.9075131629898451,0.9714647702599836,-0.8210426991283154,0.08546032573095717,-1.203683260848751,-1.610510516811745,1.4813992788276373,1.034600648194733,-0.2542376915471831,-0.6112793177155122,0.3718664193140843,0.664849910325608,0.6994178334482352,-0.5758630685070693,1.402203240190303,0.3936109670558614,0.5507839274900883,-1.0139726243708118,-0.24306166236748408,0.8343784650406452,1.1254835498315618,-0.07167218227541314,-0.8028983423391642,1.1231449400664892,0.40559083087484554,-0.25668774377981085,-0.5917308749654944,-0.71102617636189,-0.8842847977280001,0.04399289970291188,1.8136754906370913,0.815628422126326,-2.612250900037809,0.09877644507306549,-1.1649675841713747,-1.0573450399582287,-1.2783242566808035,-0.10735549441626879,-1.1125820646328797,1.2453934698676385,0.7160785216130826,0.3233576884316986,-0.5144131558011664,0.604681117671026,-0.3363372354420574,-1.2718558317244644,0.8364640782603221,0.4104837376988082,-1.3238199654712683,-0.8361422220425716,-1.2440624829566367,1.0451951216104178,-0.18613522635820615,0.1877635471862442,0.5750282501413564,-0.8428788052868292,-0.49013489128663784,1.0966288783103169,-0.6690926056466724,1.4549497354118475,1.9656277910158015,0.03947251719561727,0.6732318983560894,1.1567468023674399,-1.1096322006665105,-0.3239167630600358,-2.3409301482575575,-1.6334218148547106,0.7614711627406886,0.5341059862262472,0.4896280616975065,1.0624639358284607,1.823188928990934,-0.6674626359014727,-1.4538818600509837,-0.36843892689644114,0.08754336235641669,-0.11443129352412039,1.1548672429838485,-0.5301856539057999,0.3675541884666414,-0.11203878488693307,-1.1163640806911348,0.603987238938682,-1.816113815748894,1.4631836769371438,-0.5849627357172635,0.9811769567656998,-0.77376155531462,0.7564212639612904,0.01481213329034058,-0.9088319878853226,0.8005034940226528,0.17620292376554159,0.3262940584197073,0.05917214715595883,-0.4740472591974709,1.2602961000182369,0.8853329670502044,2.725811395414939,1.2084463355289705,-1.3469933000473961,0.4306821121983913,-0.020776011354101908,-0.18119723099432558,-0.7683738144028766,1.1545705303474902,0.41311176435776753,0.7845268457031948,0.2651493242381734,-0.6353059648096492,-0.024303889875740756,0.730283703625377,1.9830342966058523,-0.66016454314517,1.341938661836088,-0.0032652445265887245,1.0808559074120248,1.269052311030781,-0.3247813403987269,1.7855082908202733,-1.1256225376792408,1.379765808233107,1.6590391996168623,-0.1412018359905396,0.6443376297059441,-0.5335014192035361,1.003078156788907,-0.29368788800868334,2.4027308479942566,-0.5846882517975579,0.45692479461989094,-1.0781327556765858,-0.3147157066850079,0.5522384528255205,-0.40871090400245436,0.8944491291192995,-0.507302021043044,-0.14701451762397577,-0.9241150076581672,0.18550479144747906,0.33103300266986946,-0.3507535812333713,-1.4685252215257378,0.2453413490500275,-0.36285335322842166,-1.143544632768679,-0.458019355493733,-0.015299510892446072,-0.6808865459247712,-0.2624393999971806,0.4726594581145756,1.5207800776506346,0.7312351496743599,0.6721719418378236,-0.05493348668113123,0.2564398064284397,0.08816031954134539,0.3640726747125939,1.202874619613393,-0.07645168301305984,-1.3828195928729905,-0.7349109012847399,-1.8920065773250356,0.40150120720349997,1.3445387951602186,-1.5672240603638974,1.544537196123668,1.2326746126406445,-0.49572894200098216,0.2819019911421531,0.42480582152309754,-0.044217835665995193,-0.41654988505237683,-0.302154164966333,3.2058119255438924,0.7643407130321325,-0.7011956079010058,2.562550606546992,0.13094294358699368,1.0503140177200267,0.23715786623355192,-0.2640851497840333,0.8562183518000542,-0.9601737798925608,-2.3686992321985096,0.9976914231017762,0.7756216838272096,-0.9062836389479061,-0.07592957685883983,1.6116315340713354,1.4798916530781345,-0.764182228613587,-0.966579221418806,0.6646874291432587,0.46169161396612685,-0.06956987140211586,-1.0391901697414396,-0.747479812041099,-0.3517646781586577,0.05121673097251431,1.2188452738894768,-0.91972593039404,0.5943430087042074,1.2165131462737475,-0.6827377978165837,-1.2597580892570284,1.777861031983746,0.0683116323730365,0.4516614501479779,0.0088339623040651,-0.1742381498969198,-0.3850106607348161,-0.9042010644494348,1.4426887024318378,0.5203938022895621,-0.44886515494754825,0.6504296620395311,1.4827207250979517,2.8728078598194955,0.962212607301922,0.06357459369017035,-1.0982989128034044,0.20004268644394912,0.4393322229281665,1.0345292414498952,-0.9813023401218742,0.5819939005654123,1.3637954016610583,-0.29037251489072186,-1.0243189341805339,0.9732517929957705,0.9676159502400985,-0.08524014598848204,-0.801636870299914,0.3642576572979748,0.2052032341657319,1.0976958295033474,-0.10899511105674094,0.3920112942830074,1.3981908644004677,-0.12398983376697881,1.2940372377968279,-0.9375633531891666,-0.028831263321174673,0.44429263700614635,1.3500647937234587,-0.5553144189235024,-0.33374571473913933,0.5566869657131639,1.1861764117792981,1.757146544895226,0.079420713161769,0.4527382852811027,-0.8190086633455972,1.5637382850670631,-1.1223125039184654,0.3917069097916516,-0.648577531212409,2.075008964930654,-2.0407821316893795,0.6747376883133572,-2.1811905427631246,-0.4529334828159892,1.688049822250391,-2.1339569996291847,0.24734101565850394,-0.7021457005542784,2.0087677134394863,0.6440325093780901,0.005183174014203155,-0.8963606455453562,-0.4168475093934061,0.039873594480333834,-0.26994591045878225,-1.6170192436407358,1.8414117239145538,-0.9077751663400858,-0.6398845284308511,0.6370242417376824,-1.5563899138038613,0.9985472143481463,-2.809023419683735,-1.862313152759082,0.1945314537471692,-0.31290478216301776,-0.21705518803463067,0.25439298408135386,-0.9058227248819368,0.0959882758772234,-0.6078335449698985,-0.6239643685199143,1.2054261126212764,0.28303908142409384,1.3031522120900483,-0.5795723858507895,-0.2242418748788311,1.0183793765564564,-1.5081231871622094,1.4943752742582783,1.8643640007535192,1.2628087193059447,-0.5996482002827782,0.10212966732669451,0.967073984675713,-1.5816747052452844,-1.1106162593065658,-0.8604942830176076,0.06612488209070666,-0.6368714138647591,0.43859090242804294,-1.811697378023956,-0.4322469614264913,-0.24247715660621422,0.7750531751623976,-0.7764193457726211,0.33546350880228354,-0.19017943459777292,0.2396595761365167,-0.5118934909316057,-1.405634610230818,-0.9885348157211524,0.5202023267246088,-0.4247543181550149,0.4132694736784141,-1.3260722634123239,-0.09892754653209819,-0.19120223698317587,0.5661061447512932,-0.24039365604098548,0.6049814204462193,-0.5369670435229726,-1.6876947472995587,0.5138605259736804,0.5714606173627113,-1.869895873971195,0.23279145944510832,0.8898487765211661,1.165982372047187,-0.6929085285465751,0.030144536181778356,0.16473460838545836,-1.898203776768204,0.5090900777715234,1.435853174081051,0.7876620244168812,0.015502466133066392,-0.3012748665387752,0.0013811933884732618,-1.089902364522226,1.9351594198166469,-1.1733526773619711,1.7328153125076176,0.6035325098881059,-0.4284709043616795,0.25407514881602894,0.8589267177483926,0.6579407726787082,1.8948997972485337,1.538260540989219,0.30566339862761355,-0.3737978544463823,-0.9099496180342703,-2.5512984622785777,0.6886263048213888,-0.5475912953772377,1.4766462681154293,-0.3516308086227499,0.5704693336807554,1.1457260335035264,-0.20628568853218968,0.09245411178610591,-0.24458073043026035,-0.6206367093863251,1.1853285874219839,-1.4082687379488128,0.8472771800159928,-0.9647931217670724,-0.7561776946152076,0.33275295996029614,0.1998378395195374,-0.27474907117515773,2.1171620562621936,-1.5135251027119998,0.2596105073814751,-1.536220169343863,0.3744149817688157,-0.747207453181603,1.105329950067495,-1.513721699211213,-0.8647535714591129,-0.4110786374637257,0.5975148185350236,-1.1012599743698712,-0.10488769368967917,-0.13726453483086556,0.6810209276719938,0.010435410024844901,0.09079427526655236,-1.7861886307643644,0.011021134444087786,1.2361699355639628,0.18871723763488943,-0.574918735197712,-0.038823040283314805,-0.8369530711191724,1.5149813286404656,0.9000423786319194,1.9536085013507922,0.6044246127905651,0.38297266277079056,1.4127048108682518,1.1756149570053023,-0.2631993862578719,0.41773851898111414,-1.9775890923932122,-0.4890405739787727,-0.2404052771281344,-1.0373211219324139,-0.8774473609948341,2.239208457039055,1.1958323883010173,-0.13914721651517298,-0.729927821513757,0.4536965454928725,-0.7189137164049251,0.011786112736705752,1.566650057879409,-0.5705536823232548,0.13339901122791703,1.228059263151269,0.35158966658393975,-0.8623903627502418,-1.4796912917223177,0.7538180231932569,0.7211911789949009,-0.054691046658192084,0.8567913578819996,0.8898310370141715,0.5209853903308123,-1.1368801848707804,-0.6953397621937557,0.9511962493789554,1.2342679569073847,1.699248444909784,1.464888938722906,-0.057371061156215694,0.28058957439990617,1.1400870227801032,0.25323289706390956,1.7914636515565348,-0.486550968875988,-0.07304063091764995,-0.4128817720275725,0.5971914149528095,-0.1080624569728887,1.0692902301652418,0.6780321670056554,1.0604829186068427,-0.5310907552681278,-0.4931777115432904,0.7733806844932617,-0.014689468306795074,-2.0958293895791518,0.15418733650757951,1.6847228891426345,0.35046650164169874,-3.3411283624265735,0.22920586482661034,-1.0694676269620436,0.14003574352308285,1.7043085431317244,0.8612087094700668,-0.01428199462078313,0.6349756929397077,1.147109840357326,0.6416949227161574,0.4200017050720574,-1.2506386294718674,0.09104470288614988,-0.1412726732582315,1.171919716691683,-0.1715596578651143,0.19180277268725754,0.32272234001610917,0.4003162895124687,0.7860990755647796,-2.6256347822003274,0.8015568211270089,0.9415614028358075,0.9832411320881994,0.023162558640103352,-0.47317361645349393,0.2454645809322216,-0.5720474117286738,0.033188603678658786,-0.6049357882835025,1.6027494479789985,0.3148799003643594,-0.06260298590826043,0.74717474614403,-0.5306162381145229,0.9521712177581495,-0.6153206786132969,0.30949161889522886,1.6941641501630416,0.12025003219109691,0.6105826078242348,1.1231796603720645,-0.14273990546714294,0.5293621936400947,-2.1566876574730633,-0.37853407485813423,0.2463476487204739,0.4205757482626188,0.64118303042978,0.29673800161691805,0.24086552690325505,-0.039222501970341675,-0.08192821854588345,-0.7409092771856396,-0.21969767103370963,0.06120264898714527,1.804395602541501,-0.14072914756013397,-0.17594653704523763,-0.2125036382619405,-2.2725950460927513,-0.6956687195745307,-0.530206169895819,0.0467840891568003,-1.7779369679987762,1.937203728827786,1.001393978509251,-0.676019526474157,-0.7693365288200146,-0.9586337798407456,-1.2448523952735346,0.9682410638665176,-0.06143995284911356,-0.3940594948460579,-0.9499570555662463,0.2345446032458739,0.5921268703483801,0.9584762647986094,0.42029430379203614,1.2351462359505787,-1.4463333917478955,-2.1461179067129237,-1.50912058151522,0.056168113839525614,-0.23771846053229806,-0.5854836694078351,1.6017451935160045,0.7765292598489579,-1.4017327110223028,1.141597208105219,-1.9482083609940717,0.030343602044078467,1.0454381169798994,-0.7867271198594183,0.5544353046811948,-0.7108494415269389,0.5970835405521008,-0.1902509683254913,0.5811884690229864,-0.5246477650212542,-0.2774385791604429,1.0436610448957988,-2.042307566450464,1.1796044758054962,1.1249921295435847,-0.4165246430945581,0.30969756400993903,-0.14737665148959772,1.4734318569800002,0.1841856666625654,0.1466860723274363,-1.3466213961955948,-1.159780246913309,-0.7195534405220176,0.42436381925804506,-0.7929334250825423,-0.48497537038310623,0.24247892457996625,-0.5538596554885981,0.9363538525802063,0.3181520241123855,-0.11579412154952382,-0.45144892313083124,1.2237630623807512,0.5936148788717068,0.46867415212097857,0.023385187395280674,-0.221571759209523,-0.5739073141477734,1.255699656399125,-1.3869181380681326,-1.3554748129457042,0.5243679173017446,-0.4169727643984386,-0.8620116039041159,0.11127935148563677,0.07857219856980373,-0.4292506693350768,0.2563563685315494,-0.7682842454586732,1.7380409342914453,-0.9611319153426526,0.5356925725783718,-1.5953410415764209,0.10926295255755804,1.6786692083561592,-0.22078656333202462,-0.41577548562551936,-0.7138178966257277,0.2575194186599579,-0.2420814820416194,0.6420859706237393,-0.8039305479318286,2.2317689286894113,0.27968320527994145,-2.4846835515422367,-1.4557373804338987,0.8822486864614429,-0.3677697256188221,-0.7678008251972223,1.575132134092297,2.000516022329388,-0.19484029579711493,-1.2020671311708808,0.5916627298073512,0.17242282612022738,0.23061890768185256,-0.24860352501953872,-1.8822341342519389,-0.09665323808035026,2.120670012150519,1.8060034642609415,0.610789775038754,-0.2756231717840071,-2.090981132271045,-1.2373804611720873,-0.2042908024776001,0.6826206784997569,1.582251336542477,2.5180504614554926,0.3981454240587477,0.9706975179496613,-0.9510461823180318,0.777839589160646,0.31565672771843006,0.9674358727327573,-1.5733850865737524,-0.36641687524467,1.388615789262303,-0.5003803167547828,-0.6842018352900783,0.8780211313497773,1.1834203125269624,0.21802727644978415,1.470022495905428,0.433073239685941,-0.01627944740312335,-0.9818152257734138,1.256770659845766,0.7197111676898515,1.0815168346196362,-0.41752895034122156,0.07558973321053927,0.9808777513467694,0.5757743360493786,0.3420643049114192,-0.7011387708772893,0.5356187942205289,-0.43998492186422355,-0.19008965081534435,0.12030439803434226,0.5067136010485475,0.4058777246225931,0.7465327768807644,1.7048161687642116,-0.29969762238467146,-0.3714856194171236,1.391331948992246,-0.21796221119850287,-0.44733136091630016,-1.3107280722396188,0.0175986871630621,0.33972315136016207,0.32830627519037686,1.3315391665322436,0.15782492239340778,-0.12399518750087306,-0.6685414575334134,-1.549257401606623,-1.3361680800078233,1.2145767980765831,0.07069661107854754,-1.7686372709397609,0.11852446595127566,1.0042143864444217,0.36081303584417895,0.11950327245007343,-0.4946790684966181,-0.0813693284784447,-0.9116531182224039,0.8029765551528104,0.43360632609878824,0.5836999156343946,-0.15604290700816895,-0.9789589229885675,0.6660922474355191,-1.3158166083569884,-1.1200329193275238,-1.110484993343083,0.901356757237866,0.7058290654315102,0.10869974110220981,-1.0932208653040245,0.14599940259629637,-0.6295515649487564,-2.464910979797669,0.5633245294945507,-0.11192528010754044,-0.07306507381536213,1.6945706162084855,-0.9264764521836198,0.47396013301895523,0.3113191326233906,1.3069218549352057,-1.5553804356204737,-0.07569407392902502,-0.84938425646213,0.027318905187247465,1.0876013342075466,0.46007163196953504,0.333496155939723,0.8659188166566721,0.25373284494940096,0.5916201328606289,-0.4784579069296663,0.4671351617753888,0.7574777556893182,-0.26852758335773314,-0.6561595211052726,-1.1461602839328167,-2.338906922990229,0.9262773150622714,0.9091901495349674,-0.30073249039805966,1.145827111339423,-0.846276650016837,-0.5706377868530095,1.2784372818060108,0.2667568293039213,1.6854380083663854,-0.022038389593226907,0.9224851541517965,-0.21117684490486013,-0.6051021662599859,-2.34566547147648,-0.21505364978664,2.475725592319553,-0.3705498159954561,2.038197738499054,-0.16797022683932805,-0.8948788642912373,-0.46169895198028127,-1.158381002530012,-0.14564792933450083,-1.1105938807095397,-0.9816765051871441,1.5185668845592675,-0.977736489574859,-0.06250985307103347,0.703474651288776,0.4318968356808007,-0.9137761202998996,-1.6941256401808944,-0.6634006430444603,-0.7045759071200473,0.7900907838989584,-0.8039604358489678,1.4695775955525796,0.0496662979929106,-0.15219547342990503,-1.58605145080772,0.9362687541251528,1.0896497836580576,1.6719408749035436,-0.35673301510324745,-0.9152984838060324,-1.156191322846413,-0.4186590572362273,0.7238602759044849,1.0987888717473853,0.6688369474213792,-0.8547958187935323,0.6576824458026849,0.5334113582745675,-0.5356899035179324,0.3319581232880187,0.721332211142646,0.12255762205673887,2.4596695381249485,1.9367926088945777,0.044691612664665856,-0.3719606403634157,-0.6537082513782306,-0.4054086654884587,0.4119286086925009,-0.49053202336833757,-0.08395414045865214,0.0058779570684939,0.38358941201637736,0.623058971126672,0.07201559150153446,0.5571772733722206,-0.2106768984960501,0.5643500303631103,-0.3506433802134231,1.494176945732363,-1.7090054784465296,0.8015697427354365,-0.8834125171450128,1.0419325685032843,-1.7888925618979536,-0.14224501026395056,-0.35365760514321243,0.034053949232714965,1.3963148695592063,-2.0506495691954263,-0.3869401453342958,0.12887820157048577,-0.787393555810629,0.9216457758829352,0.8402177094563933,0.5167592102199501,0.6054975079748695,-0.42097714564899585,-1.4203918856556808,0.6457958761414575,1.4830526221860862,-0.3602793871461031,0.9919830642130284,-0.27397256054020575,0.09893517521822623,-1.3004672376580066,0.18010625953378895,-0.07003681324280309,0.8357757871386988,1.9509515894063483,-1.165607062685746,1.1922442858762212,0.4226563180926341,-0.9299169091009072,-0.49370041244467233,-0.6840657164287544,0.12975018514530712,0.20256655678100888,-1.0927509307136276,-0.7195418972788782,-1.18188304584993,-2.0872809998224557,1.1665301330632736,-0.1315887828029183,1.9189064329565402,-0.614832024990322,0.8938102262199435,-0.3669892143607835,-0.842330738352714,-0.9377926054354787,-1.9107281818903803,-1.4554982849168971,0.010151605646460933,0.21782245317734125,-0.05790049166335385,1.6911485618614173,0.5318326858640485,-0.009076388728396386,0.026538816189919188,-1.261434648286671,0.890888400264452,-0.46341706483062084,-1.1979388108734865,0.9786469406187857,-0.5947667165976644,0.33446925966538227,-0.7864668892853991,0.4735323157745096,-0.37287553164189224,-0.9931620821325099,-1.1736494149145902,1.29450641739442,-0.0015433594743733989,-1.8708614531308057,-1.0886068330780383,0.5160379191768563,0.2644740286814375,-0.6553557197545535,1.8327940773873481,0.900330636415273,0.4792890502717675,-1.0263932806515335,-0.4583522704064492,-0.2786958522545884,0.649610917007562,-0.5278793182923832,1.305323646985029,0.8660665402492083,-1.1286920997989172,-0.3440382718024146,-0.21833405366141562,-1.1172453688154595,0.8884871935419246,0.5642515520948287,-0.5738766922666044,-0.7139556576163714,-0.6384890578416648,0.6778873279189529,-0.301179280601092,0.2512236688070458,0.8346901445151946,-1.6080728561330757,-2.1461552750241992,-0.20934597583217068,1.5555220091129858,2.176591536726978,0.9101186089849616,0.29594926096366847,-1.1510751662588483,-0.5568223364140349,0.23856823692712717,0.5542084346349797,-0.6378516638877466,0.04358032508881485,1.9009763797992758,-0.08954683406852748,-0.3177954727448387,1.3524126103830367,1.1135686225904189,-0.26399924625524424,0.27066825154801477,-1.1572462273440391,0.4087678829356423,0.16742013001786524,0.07602199242095349,1.0029392637415726,-0.4093353150076279,-0.4599706769691494,-0.7406317865045895,-1.6120038933315157,-0.4668009849718624,-0.5416937721015166,0.1763438821778448,-0.677373096819784,0.2987227221763854,-0.6206863621171886,-0.6471390995293053,0.5977323059211186,1.549476411298454,-0.07933400661076109,-0.588725593935225,0.4915719974781649,-0.5220807250076578,-0.2564066630750713,-0.6585722962666186,1.2252903227864276,0.37840610795613705,-0.5519870885858994,-0.4615161486782769,0.6998824061514047,-1.928352217911727,1.3031686412846812,0.5605534750330587,-0.7340819397375926,-1.850142566027814,0.025907449159111525,1.5969884670376275,-1.0333661340052467,-0.9499668510877817,1.5362963806520717,-0.0263321781628739,0.24004011461487038,-0.16159704969889743,-1.4153065768660331,0.8539043191754562,0.10473983121654445,0.8393138640976241,-0.38781482946878276,0.12256237328051071,0.3991502043268965,-0.17139082547409948,-1.7093285922130073,1.1736124759237667,-1.468329660582022,1.369378215459843,1.0973659900754478,-0.24935877668183393,-0.8007321246211229,-1.7024231970484416,1.1439598520934566,0.6220533232616785,0.8281221829354797,-0.1637424153011318,1.150324606656476,0.18082985023565148,0.16299124278675203,-0.34761553161250797,0.5509331417171669,-0.9507531637851874,0.49987022360421307,-0.6865777382316314,-2.857238271624099,0.737629329338438,-0.8360508063695867,-2.458853275930166,0.4512309620528133,-0.6800446351781027,0.8147920613508679,1.7238373516398418,0.7160052572546597,0.9952173872579624,-0.32204642406803424,-0.868715767216681,0.9215150691719436,0.4875787532724101,-0.13500743568242224,0.9545993185424912,-0.6321203931064331,0.981085222178803,1.6293250816657472,0.8791818160253031,-1.1704120496780988,1.337727166678439,-1.3040876000934025,1.50804446717375,-1.5996553197394634,-0.45701110537586986,0.923642889276649,2.5643577743413384,-0.18035210033311985,0.9604093548100197,-1.3392458072771825,-0.3998489791309894,0.4079565327240594,0.15887462357263826,0.18582454289013084,0.03884573921205932,-0.21775591914594228,-0.49925756528026244,0.8272605237541469,0.60972568539915,1.0079588215538435,0.32302188721412384,0.11243439869833556,1.4410743864415472,0.1647665527547031,-0.5868864843945426,-0.05530353092472993,0.6621585049781015,-0.5186407866705371,0.5348704133216935,0.0595884697527733,1.0947373483176883,-2.045196602384083,-0.7199867009661185,0.24282822856497033,-0.31877259085577553,-0.4846842908742281,0.9118294165763078,0.34797145776218924,0.022740347006596474,0.31762062901323584,-0.6809350494582804,-0.35376219346166876,-0.2955992300943294,2.0161414282058905,0.5250300648010279,0.30153326284781246,0.8949651298326755,-0.3463029596340668,0.0319132906458177,1.0914840360804094,-0.9760539759378869,1.7815156375804055,-0.5667147189548842,-0.6669576556105672,-0.7613130877950095,-0.5454563441504942,0.8410981708429117,0.12394759697703932,0.8243332688239793,-0.7021658218877836,0.8624455077627871,-0.22040198744991413,0.2404070932840441,0.365920148969975,1.9180863299571314,-0.2287306429915951,0.038418342358140414,0.7462979058542079,1.0592868301215295,1.1814170212258945,-0.27612809909698355,0.1580999473986819,0.26284932448022236,0.8751408332224524,0.16631562324728344,0.7533027210819265,1.3160131355321618,0.33400489594558985,0.35846007479498354,0.03597802689162634,0.47079410959530843,0.4453558078456415,-0.034295781379434044,0.8309946664100243,-0.5716442389831806,1.0884824677994098,0.07799338065522292,-0.4592200490635677,-1.0304639893082048,0.2711468520802762,-0.1802876357543979,1.0621728171407714,2.9132061037011097,0.8549754349703542,1.4845776873840122,1.9101635445292438,0.006082620192125023,0.3676120707474988,-1.2716861149162235,0.4263882686192512,1.3380468771175904,-0.7829706307624308,-0.5891194142118725,-0.28884837003768,-2.675919069351076,0.30345963434539996,1.6474236814770076,0.46691695274580425,1.5699008564065988,-0.29891172743711886,-0.3261959076571825,0.7043380139057795,1.653362462112757,1.492580498816348,-0.9902043689112808,-1.933908265384813,-0.3054506352641244,1.3156637238860434,1.1515135576020488,0.9061662448623473,-0.9904536873141447,0.4284796863663686,1.1078405936079847,1.0100892302028566,0.18698181602239863,-0.0647007923647756,0.6171866516406219,0.3298337457881262,0.5601152508239198,0.11893994867584244,-0.07320716974241533,0.01372179953065922,0.4319580733339452,-0.6428360833303158,1.9612673602962927,-1.0930825246776,-1.6448318215769342,-1.0099127302125581,0.15451698632056782,0.21961364592038116,1.3066776758774323,-0.6890374235029341,0.6086431011396404,1.0535609094782892,0.1428250132612812,-0.05978859693185771,-0.8412121447083246,0.7391638065108648,-1.102578578289345,-0.42905984774360684,-0.3578474399876029,-1.4916518711721407,1.367933531447935,0.08077564739175143,-0.48944117862504155,-0.8204756765453877,-1.5248912495843678,-1.1229270683941144,0.15321939536304888,-0.417277998926906,0.07695293028588639,-0.0617542617194571,-0.18469046880672083,0.005708215224674415,1.1703339552350878,0.12826400080824,-1.229888629845502,0.43574141458623394,-1.1007296588796447,-1.7529493340850808,-0.3954056004254396,0.417924945187886,-0.1621673079782557,-0.9548404622130181,-1.165286089084461,2.1443839429001477,-0.09142742715477419,-1.2655828940140534,-1.2122114067668117,-1.2127356232651203,-0.14476703847403163,1.327479184330564,2.6099096120676046,0.3067647085814626,0.016188283185045373,0.11302966895024895,2.099626785101761,-0.46492130939323745,-0.9510682553832965,0.1371358574487453,-1.5979292750827203,0.6270022069650841,-0.39055367767191457,-0.3999476254106718,-1.3040800220921303,0.4080140252037286,-0.20597524970251083,0.6204622970412728,0.1765909051763221,0.614997681860459,0.6120343554114412,0.08673710942726053,2.6047985394086575,0.7797278925600206,-1.0133903156215955,-0.7753071140189292,0.615339437106879,-0.6027783114319756,0.5895858638028085,-0.19740989420874305,0.25026077508823447,-1.7490762564187832,0.39099455598868404,0.9216882136229179,0.7937783229534985,-0.8466552700556749,-0.46041354412203317,-0.7050853644069583,-0.24776427702463866,0.4746405840639194,1.8015139753211944,0.2624238810433535,-0.8692840809529239,-0.3443830057637477,0.04889357052543875,-1.1547854895078151,-0.6527620684931577,-0.6838975668502939,-0.2873097416800264,-0.3855305122814716,0.23993764117796165,0.5930563740226202,1.0311559734413984,-0.3996566132095019,0.4534468894996605,1.469832230594126,-2.7634430838587067,1.0046181574433843,-1.8548080282400774,-0.742171725928069,0.874492405870071,1.6885665594927055,-0.4413437023251299,-0.6388217661867461,0.33883616272046874,1.3037707945996408,-1.5236283422224217,0.6297507058661238,1.9240236122045489,-0.4560467476939952,-0.7543022659651958,1.9220704590652216,0.4845832393304567,1.021181558695436,1.900416219286375,0.11623388628371595,-0.5309694478921376,-1.1195907437974646,0.08098796655206554,-0.20755010182545652,1.8097725288191953,1.4147749594979726,1.443980362503277,-0.6617160779851591,-0.582874828448966,-0.13533001571930975,1.737435722507186,0.30743549655677754,-0.7735358115438918,2.1272855526086083,1.197122994506877,-0.2935002710106467,-1.0204125943470828,0.20131698431358763,0.2593043364811785,0.5056084732738445,0.47822499399220614,0.8321996567041603,-0.746441017597339,-0.021444931466788723,-0.5464501060247777,-0.1975372616769076,-0.21353344338046973,-1.1120275994078805,-0.9262540398954786,0.9005961253413927,0.7412276609100763,0.3714989517837426,-1.0483294365616438,-0.5602046235257289,-1.3124766627787434,-0.13909027215616024,-0.29906970475987904,0.3825937370281807,0.025454210154518132,0.6821420851127892,-1.1889169174823229,-0.25591987901675645,0.826505069772817,1.4796528774158333,-0.9377014466388963,-0.6075132576097408,-1.4192007503824469,1.9766519461128829,0.0661188182651184,-2.234858024437459,1.369702004413947,0.4010555989448251,0.4345511468372239,0.2855351255140726,0.511512127891109,0.9829365805256627,-0.043628335020331845,-0.8514458689258614,-0.6042134612681291,0.5778383416315216,0.011241639870466499,-0.6936211580750263,0.5235415304579569,-1.0699746589592287,-1.134697356122416,-0.7687148702578516,-0.5029337927136683,0.1860479029959951,0.35650140032603705,-0.19673173705988062,-0.10430304565907489,-1.0087641425937848,-0.14624930825909854,0.26109822598452653,0.2863043150239143,-0.4851163300611216,0.9035820745372101,0.26829519409029196,0.11484069215881165,0.2849965811326413,1.158540155827536,0.23494831543594236,0.9436449359398579,-1.9577445568738303,-0.09192042914844407,-1.4019406335312057,0.10085345308759819,-0.5687107794439299,-1.7234727005416768,1.9547665152932445,0.11224532299528481,0.8381745058793904,0.8658579477686846,0.4855607802896385,0.09987058850674087,0.3330227733265742,-0.2415672357484315,0.030516165284316568,-1.124750605499003,0.4962549476805582,-0.571759786735856,0.2032926196320629,-0.6334643702767061,-0.7332382802658104,1.3620054434993163,-0.23542842230249944,-1.5763788888997534,0.8207976184715824,1.35235682672863,-1.0038047353243922,1.179539224644645,1.3790186562301088,-0.26952641770435004,1.9959508938992463,0.6444399910217946,0.6945503003313463,0.3167575811172884,0.6091773142829351,-0.0640747274228036,-0.4997218587387198,-1.3113985453929973,-1.0698346066853266,-0.4977143222330345,-0.494150888114294,-1.154695726891835,-2.1237139227971924,0.7049408808973748,-0.6575270073933634,-0.037868754745048964,-0.17115696301932232,0.7693678758256446,0.25120778740209987,0.05665813252451871,-0.7341796805084138,0.15516365186145412,1.6013363884413638,0.593768902414357,-0.582133873883208,-1.3846457907588312,0.14523604110935528,0.7156480118893636,-0.8868367083522594,2.026753986806863,-0.22138336115058146,0.034397595774648335,-0.9534095663972516,-1.2192675044097423,-0.8064841053115517,-2.0652255471321888,0.7834397069082545,1.0075759705625702,1.0711401963866272,-0.7002065600158883,-0.2525152263941168,-1.0007604138533408,-0.5596032727929209,1.0429656831347989,-1.4089286579789129,-0.09284796051202342,0.2985379649340494,-2.6316391106615455,-0.5349508336826462,-0.23290524907116716,-0.33251870909235254,-0.8831061028735983,-0.6652898933187674,-1.5223996958267547,0.5863906419723568,-0.05361207892733568,1.553169172095347,-0.20728284356943066,-1.0755866512349097,1.697357757476165,-1.2536777615380446,-1.9160371370920042,-1.1608332058538668,0.5044009741859043,1.1932532742645046,-0.10004632403967442,-1.1442405156135407,-0.32591627226948383,1.4734535311923307,0.26386154590796695,0.5634066093663129,1.341410282585341,-1.3034303206123894,0.31627751276003946,0.4578451206122118,-0.24086861418368244,0.2200783159036365,-0.36709275937305624,-0.13271319718363286,0.536340296879977,0.5851003101548564,1.047771117651857,-2.237945937529692,0.4354197046836851,-0.4780049610503694,-0.9720839674229693,-2.030452465194817,-0.35904308741953417,-0.15345179905989953,0.5229626173048881,0.8289847375749471,-0.8234317389097179,0.07398726034563333,0.27601059679873424,-0.6314856747007146,-0.6321743474466933,-0.20004550883756786,0.1232312746359758,0.5553918897168015,-0.7312573837530957,-1.0423692882462765,-0.8959552935431834,1.2866741987117563,0.27858081752209907,0.9337806722331731,-1.0262687526889929,1.1764934445174047,-0.20822299998502708,1.150379187253254,-0.787244173685121,-0.47999981808504294,-0.16148308992637184,-1.7137627789794583,1.1377799567577958,-0.05511228603370407,0.7967145435992463,-0.7307920928812159,0.44985325608320853,0.05635659251241051,1.315330694974713,-0.22874372806824292,0.09834078184500947,0.3006834797702368,-1.7085804616186746,1.4350466340535484,-0.8787939903600603,-0.5371833703804808,-0.22385265889789124,-0.8962029649286339,-0.7881720462393011,0.17981631323534508,-0.1824740406710834,-1.4367749483448256,-0.2144984338372505,-0.40829450402408646,-1.09200861762908,-1.4024984835056158,0.39387145631974874,-0.14293838464979097,2.0719945979132213,-1.4044066349554103,-0.3984217610828383,-0.07925040618393364,0.5964905677605798,-0.839657759664009,2.506992572279868,-0.32217673844266803,-0.76296426562482,-1.2905266350679034,-0.6761690895629854,1.3007070042776825,-0.44538936443020605,-0.1504890068445204,-0.678132316483577,-1.7016038385102565,1.44376348818266,-0.7106810800055384,1.1475925026379044,-0.2809011206293351,-0.10107439226966478,1.6370867299303806,-0.22291258375028558,0.47495270942050494,-1.774580471183596,-0.586526241542251,0.364680002815513,0.7018344986039504,-0.511400560683771,-0.6907082363971773,-1.3898669828311137,1.7540965673706785,1.3077761088449158,0.3820179590170616,1.020242056121743,-1.4084196896549743,-0.6869031007489854,0.8593920885072593,-2.084696003702122,-0.6820392485641267,-0.22884343541395802,0.11552225191027485,0.11053745834581576,1.5988099703947658,-1.265440678019791,0.45340297683325304,-0.6139675105981132,0.37665180544288945,-0.11647529795290289,0.9356071682941469,-2.155449105531072,0.21165271299658267,0.4082963360473591,-0.3372315074962779,1.5673790261437055,1.4935166240908393,-0.7430651653543807,0.11649754413639248,0.07466248865314841,-0.9687998894497774,1.9125316737962457,-2.114742325334127,0.755988368304696,-0.6811260141530389,-0.292035325038255,-0.7482183431126613,-0.31522118148736766,-0.4230245518417627,-1.9332629417588973,-0.8638843109099228,-0.33939471260734766,-0.6172979002369684,-0.6715344696250286,0.8788998205671219,0.15656619886502438,-0.7363594140587397,0.6160345589234624,0.6962036993478066,-0.3183467562690302,-2.568292652972008,-0.43701643276639557,0.13154897180443348,-0.3369678612844289,0.419709788325883,0.9951957737422454,0.24986705410405058,0.6921811891475402,-0.7197329330249448,-0.10713937190003424,-0.7618517138939468,1.3894422073442154,-1.4679013210092329,-1.7947364850123935,0.632818699738033,-0.8409277357130174,0.9899356587237872,-2.2071526152347216,0.5469141718246889,0.058112161401981714,0.281336900493633,-0.23300018710708773,1.004467198158206,-0.2040038309518576,-0.8112372705870591,-0.4742620383070538,1.5843892265445687,1.240426608900151,0.1467649327448839,1.1235948393478763,-0.6227902621323059,-1.3075617604041625,-0.8808785731419619,0.6109335708135897,1.4931768047967122,0.25012382239903846,1.4270149099753495,0.9198181546379772,0.3381244931335454,1.2092903414926068,-1.3451839748454641,1.4574564816887514,0.15900216453630764,0.5050943189370936,-1.287269144875931,1.4810375421149187,-1.0963281974187549,0.026457838581111982,-0.6367510950876145,-1.0419782431450844,-0.8320446570925812,-1.4375999326947875,-0.6434721163357823,0.09244454730902829,-0.5719264728357545,0.7871710251977266,1.0627915428783206,-0.4694822562350079,-0.05048627546942882,-0.8693331865902336,-0.7320611113282116,0.5694997616506734,-1.134304215236341,0.6476461034308943,-0.7222474731907352,0.5467989516330236,-0.16017455353578383,2.017735251503749,0.6015851492294754,0.11797323363242035,2.10751143710673,0.7688243109578753,-0.33799458752919875,-0.9059717356325719,0.5554222687663798,0.038498992911683634,-0.0896055594332062,-0.7757569465002706,0.4059023415400387,0.010481936179908398,0.9995838229451343,-0.3898561951939272,-1.2185134238437796,0.3361734085359072,0.47086555283823633,-0.7334566797960992,0.09938155744398822,1.1883053932769498,0.710758370979131,0.6846833981140504,0.27449086509841225,-0.9863979868766944,-0.7429001099434901,0.9532912824838539,0.5339477961677156,0.8129707127876835,-1.880052050795554,-1.7854300794723321,-0.3172582498279827,-0.6294971727493108,-1.0472051267461302,-0.599387208421141,1.0962368030609737,-0.044803782790095364,0.4380489436685633,-0.5325187951294588,0.6298285234379689,0.630171095334989,0.9302131303711659,-0.9827443150143733,-2.2372873138682396,0.5962110935032121,-0.4849469254650963,-1.1534871304876608,0.10520768456096655,1.5263374729251658,-1.3780144099463207,-0.7200765587748941,0.0551539497129977,0.5545161134418779,-0.9873471055047867,1.6829612421318139,0.5339792383771905,-1.076526525438403,-0.7972219240704097,0.6380894169546353,1.3483526220217585,0.9603910813927328,-0.11678204106448652,0.317859884271089,0.6537245190208754,-0.6573311595573303,0.06790920966263841,0.48676723280015255,0.8465285601775142,0.26997485939449467,0.47998528121628503,-0.38920416351672826,0.1288322479549278,-2.98505503436591,-0.04796103794822307,-0.21878099872880885,-0.020701624143153022,-0.9362628017337934,0.15799296308633695,-0.2634921051880338,-0.639086957340322,0.20234906931526742,0.2709296796888627,1.314442375560927,-0.7850317006093248,-0.6642893518160675,-1.9859369502772606,0.29905309574181366,0.5940380954049947,-0.11723507325117563,-1.4663844619877717,-1.4775710251952339,0.745289320369611,-0.7770717425786428,0.63495784054775,-0.6423461870171885,1.7556811575799225,0.25350510228445355,-1.6628940521099111,-1.4969035736862804,1.2375551673664866,-0.8517210302593786,-0.9627902750672842,1.7536158953982581,-0.1767046724719851,-0.5971397603649234,0.6688732249138578,0.9591430166293005,0.09769873045702035,1.0919826547023144,-0.8627958368472124,-0.3741936672032248,1.6176384088364588,0.3651339874479183,-0.30359416983673626,0.4416930496776868,0.23348586838626978,-0.0931215954904188,0.7340238958015425,0.6538673070060534,1.2815224869231419,-0.03435841552020093,-0.37109847761514514,0.1611081835369367,-1.1455528286846308,0.8085936716204916,1.5470278027734718,-0.4670863957545627,-0.6188974663253156,0.33087517106192893,0.5772872039774596,-0.7399804244921754,-0.668629523027817,1.3398859531456897,-0.6200778034643298,0.0032123160211170697,0.001802945013849694,0.1035991086347217,0.35058848799078823,0.1987087819238513,-1.656924316949533,1.421491090078848,0.1282426242001262,0.13243626631245267,-0.012459106515961863,0.31145898980401643,0.10915004696977722,-0.4447121327886365,1.6006362184857807,-1.0212038266868675,-3.0784715323772933,0.8853506685462347,-0.3149980129229866,0.015125723324167534,-1.8165783160439641,-0.2926505170800037,-1.036212502347319,0.7483152944023626,0.05158216237945027,0.09502909797198963,0.5445337731836806,0.6978803231586925,0.308243483583185,1.124646499352191,-0.9300028829456694,-1.748784756700256,0.05787976952421548,-0.5800284125400081,-0.7867173609093073,0.2686632744823778,-2.1926763119683312,-0.9189053965114147,0.9295193920490009,-0.9236208490191492,0.4694273010856197,1.9613482724466773,0.7551284609274787,1.0605657716659747,-0.5745985507268063,0.05055671745239344,0.14427663338869373,-1.031555615878662,-0.9972923143693536,-2.1470682482795884,1.2446501722283514,-1.1612487442285484,-0.2831506594987311,-1.7769202450148078,-1.6831831979522494,0.43988379925234194,0.6260323627865629,0.04638682549923703,0.05799773613565565,-0.5331432539023657,-0.3233499179857586,0.28483749166751354,-0.06815073379557532,-1.3271259679833936,-0.13390438711602853,0.845168418734274,-0.6012000586090785,0.38482964447767376,-0.08378877290542346,-0.7174903068237065,0.9711044488375481,-1.8409856338141923,-1.3010940749124416,0.6056214604854466,0.26068748833670047,0.8283318290753261,-1.5835704942148807,0.14825301020101447,0.42660734613341916,0.8535367664732031,0.6637448096805438,-0.24187938460079975,-0.48415314672714116,1.6082170754736995,2.0297493266478224,-0.11222837633127164,-0.6333486857400965,-0.8023809425292536,0.27529258073734214,-0.22657469602011138,-0.09020507978750551,-0.48193932159724207,-0.9251817080915974,-1.5599105406637646,1.9868240937549275,1.8262964226110712,0.16809557928903368,0.2521654945361544,1.5139658705445136,-0.5558488378148364,-0.6325948214187472,0.6343162097344502,0.9052883430135645,2.1040664950304513,1.154727005124736,1.4388424441473346,0.5942765634384741,0.19626479081842982,-1.1061771663571474,2.314806082168074,-1.203896907192434,0.49081749843530537,0.805157222058241,0.12003052925468836,0.7648887620398254,-0.8736819456784775,-0.8957343229957698,-0.7205802415254927,0.1790936357398359,-0.21234439573530378,-0.6485949332849897,-0.4516994937147761,-1.3595199635491406,-1.3235845848076389,0.980543960134917,0.3649476339770272,-2.037749926812055,0.5222420875513167,0.7782844068559986,-0.8182258058329434,1.3012564883218727,0.0644060343115089,-0.00033341715869483323,-0.050324777922867686,1.259351112625028,1.0215993709685935,-0.22608177674320568,0.09237971934658157,0.6567622220509499,-1.185113871713112,-0.091013144220472,1.0684940084255603,0.2395614792191904,-0.17737906333261302,-1.65779771309791,-0.6874760403732589,-0.49436444860305806,-0.45524753413708746,-0.2416880674490538,-2.0386172899161457,-0.38298539565454076,1.8944387555345652,0.5744708866565245,0.20106416294651988,0.5893619371234382,-0.5183354285773891,0.03794233307112121,0.3220828830478416,0.10908200514743521,0.04778039669204081,0.7781927764201252,-0.8275064655224573,-0.11111846101429128,-1.5648490021046195,1.5992120267601233,-1.4758722098127997,-1.9454958892581944,-0.9343110626749805,0.7687903189637285,-1.3211666070089978,0.5574989273413042,1.027193544610335,0.030734960328428748],\"y\":[-0.9190838198604627,1.3208421614135264,-0.4128026982370254,-0.09805950262092199,0.22783659232671127,-0.12826667903611572,0.7307578719737915,-0.12185368479077767,-0.7421189389761077,-1.2885479454233053,0.7363897981214784,-2.703582135752486,1.542266735638156,1.0879408844601044,-1.126332313387995,-1.5274376137785437,-0.8757186237795989,0.8553501600820327,-0.6478269524800769,0.06604108036550099,0.5692068075414385,0.29331448766878904,-0.00043148798337731744,0.2069239111382321,-0.8840690830823442,-1.3388497270250426,1.4061584919717285,0.5531940540834531,-0.10423188560386669,0.43968239495170175,0.5079542874015871,1.2163533831470819,-1.0919120854494349,0.06961338234592111,0.2949371853125892,-2.1064593525180584,-0.11382598555632704,1.023168960080993,-0.2213412340361104,-1.056470761287061,0.5133718141176054,-1.0882696717046747,0.19079289175176045,-0.2968754041142897,-0.1471281360238286,-0.33918431264713783,0.47699230235028633,0.24207632713272792,0.3897632664876892,1.5304340031829236,0.2918511922918235,0.0634194801645915,1.4241529257259655,0.5952517093764562,0.8788087113802158,-0.8793303713840498,0.5851648687100494,0.612533673873765,1.2274941629735912,0.5802340801383263,-0.7528915035905865,2.116800603474077,-0.15059547102093526,-1.3600907719679367,2.5125323669657984,0.443649309591613,0.7795996807030765,0.8415799362623042,-0.15010904789209922,-0.36828775747348746,0.3150050849227244,-0.7693772514183709,-0.6149625773965189,-0.4118058143422926,-2.6202593296323577,1.0281496266264813,0.06704839909682678,1.209200652105284,-0.18037889828320264,0.6224029376557116,-1.1254808274343442,-0.2503690699092278,2.644155534135086,1.3091229103539432,0.26172574747055743,-0.891116328412359,0.5991102029598001,0.6771904960724978,-0.020988822546128962,0.15930001950365028,-0.38183850937775915,0.2964300040220997,0.5131183422819414,0.33496771802022957,2.811659054844461,1.3184237387625066,-0.13347522257569527,-1.9749139978518606,-2.6588578459056205,-0.5354320233414213,1.7266417181865499,0.6150079501402652,0.3244258116179008,0.8505954507702873,-1.6025322951897487,-0.03902651669024044,-0.5134957953724266,0.8809101431772557,-0.08779389297783288,1.4813539635909139,-1.7436810199809039,0.03178895597149376,0.368132768709492,0.4535212345013096,0.10261705362852844,-1.0201267888688992,-0.5636742672058126,-0.19596326059150454,0.17347681865198453,-0.23847836460906094,-0.4007972899672026,0.13195240100612718,-0.1027961432187651,1.7305739697302651,-1.0636758617864104,0.9911592540718106,0.6388542525554676,1.0951037234858731,0.044277161766582286,0.08865233302369406,1.3145031104598877,0.1468046638791238,2.252954483340205,-0.2889736993443624,-0.2902652939780682,1.3905806399963354,0.3453882891089486,-1.1730568845035256,0.0987691441687299,-0.5495910596726385,-0.28303155697323584,-0.39964009723442095,0.5107595403469506,-0.4795924495974069,-0.575796556906175,-0.862272797755453,0.552687838743211,-0.8448372690541104,-0.1599682755144104,-0.6891933007452617,0.3468941129649909,-0.775309154191228,0.9229043163449177,1.4413234270070179,0.6021573175082413,-0.4428181714200917,-0.7774278612191078,0.9653353226580325,-0.4841241878236618,1.6037764598213193,0.7547891451214592,-0.12007891717127486,0.6032210944839003,-0.9925203380046574,-1.469904367309593,-1.2314695513821272,0.4430255589118849,-1.3970289250981305,-2.180360594608714,0.6695336663966711,0.022192202852247368,0.334533719462524,0.3534591280592279,-1.5261106607400778,-1.446927428374595,1.0314787580057254,-1.3992253338698508,-0.7689853086203323,-0.14480325787851475,0.18476007213427367,-2.371186451959899,-0.6973000549745526,1.2584205023613355,0.5790468202934219,1.7391791803271415,-0.5056965574648841,0.6420596528428021,1.0337691467507597,-0.2990396672439388,-0.2941923804075905,-0.6771055054207792,0.5252841447872568,-1.726065249170485,-1.765557747555495,0.3061181588659005,-0.6207856486570416,1.8077872769451029,-1.1419897244937076,0.8436106015753999,-0.3959149221851877,1.1049120497088898,0.11587714478147093,-0.43031053725774476,1.4067279909332617,-0.5710948223128953,0.9590823106828312,1.145444380603691,-1.0936307262214235,0.9142808882595049,-0.7991942837620366,0.9485661634097291,0.8178082938789536,-0.03919239288807832,0.8676899395602234,0.4121600599536054,-0.7229526379323878,0.22666608202430008,-1.676717584964369,-1.9641527504528773,-0.4499825647771574,0.08851908423956194,-0.28857126492669744,-0.9875462678829983,0.22021103055022787,-0.423420082103694,-1.1898755252482807,-0.05706190738107156,1.2134768548711712,-0.009350637255166532,0.26848066081817606,0.0035595288021151496,1.7065412716581165,0.003778101473982306,-0.5829228888327331,0.7251138691438007,1.479127012217987,-0.29430713306023354,0.8493228275755248,0.11162165694391979,-1.1419274506254986,-0.5336924536882639,1.0258682259985012,-0.37721827096926125,-0.46257251475585115,0.5064545815743492,-0.8997359191334501,-0.25207627929674,0.41441711956586896,-1.6185043262513517,1.0949647992450877,-1.2604758781630034,1.7222285523277816,-0.10846918195684149,0.1892466934220958,2.026931948758712,0.07395147479160152,0.10185753756285938,-0.4315318027179303,-0.38594958760562814,-1.3219597873819473,0.5683441163567255,-0.7367657669223198,-0.6996308687616174,1.9243511381165932,1.6237443943871945,0.6578950842178866,0.7349231890581664,-1.1133568403377414,-1.4508224422529497,-0.31104376974601705,-0.5019988787340817,1.1052654773638482,0.7672283608642183,-1.1144301098806086,-0.6227892873223291,-1.282472414536918,0.5081435673790563,0.2802909630020107,0.38648671684393177,-0.180609410578509,0.9749438395102497,-1.1349578919328402,0.09025355479105375,0.5726349660132358,-0.12616393125181186,1.3715964052142553,0.8265089761707926,-0.33798352883728605,-0.5889942235635908,1.784651311888104,0.45188261807942437,1.4081148492415212,-1.1031199763152448,-2.3175429073963913,-1.909993352960287,0.7222121935832364,1.251994430879749,0.046524725970339804,0.8866198195390603,-1.7959422810181522,-0.7196838940382011,-0.960395760034302,-0.8485904139091682,-0.9095024712971806,0.49953606317335747,-0.46720463896374054,0.1056017946392871,-1.2631783463960564,1.5887396419861926,-0.6011194193551176,-1.5478430384162694,1.7100826651898537,-1.0826637701756565,2.534569342982177,0.004139302195490077,-0.7158859056827457,-0.3123537449348961,-0.5191856154548136,0.32368842815531684,-0.8509136207024323,-1.6936924312137853,0.7959894078451144,0.28787593856180055,0.07451948565838941,-0.8617578301333116,-0.6149294302758135,1.067652260589054,0.9955749857998706,0.6589302507121261,1.5545178564224027,-0.8943615952668982,1.253492424138465,0.10406917222314199,-2.1193933354436583,-1.294801173194879,-0.9053353659417995,-1.850901168801077,0.8867327314921124,0.7211543537842108,-0.19286196825064197,-0.8885648184296939,1.3290258783640045,-0.3083245551154958,0.10153709253383189,-1.269836900083992,-0.8582965855701333,0.07858225933440682,0.1273421232209127,1.0838430413107143,0.31545948509382704,-0.5708318827141802,-0.714365423920485,0.8474873963505086,-0.16885664068030154,-0.5714586807663435,-0.6257144409836634,-0.7115508949781875,0.10445116642841663,0.31705455185710757,0.15987403723600827,0.4129758761795959,1.8062729333103495,0.2657486951162724,0.6684438475551082,-1.4257012563476097,0.15073041123632389,0.6864356281975015,-1.6154665881600703,-0.213201845307358,2.355659862013952,-0.4253480226750238,-0.5761169360925111,-0.8602308033952698,0.7516786218886614,0.49414644043254013,-1.4715142331806816,0.9998022703200812,0.18204466450342455,1.4943065310194477,0.0699299901533018,-0.792990821714386,0.3417485719773871,-1.423976337284603,1.0797859146302573,0.5897872705561874,-0.5991460944536937,-1.3046433014007777,-0.8440935613983778,-0.24683059851521255,-1.2362560064997716,1.8332028206396291,-0.453607417095177,-0.8025444975759223,-0.5417832679501302,0.5777742054653972,-0.12080485912038126,-1.5917005619887314,0.6040841333868657,0.40730869944573994,-1.5836683518248873,-1.481159318516843,0.209620924022113,-0.4983717876852801,-1.4506712685398169,-0.11719363893880139,0.6946168770407505,1.3393264840742112,0.8946522335005045,0.34437876271366313,0.4826670327581724,0.6352078469529134,0.0047934710429133704,-0.24232302040612172,-1.1367677115398533,0.2655214564185806,0.057926035300451366,1.7709323469721525,-1.2409033111923469,0.19500975927052885,0.25573010914355127,2.2553081596775777,-0.3905226571677062,-1.357343632011541,-0.9903120150724437,0.5154069827048464,0.9279237730362255,0.7351947496087168,-0.6012306280713811,-0.3886139131915235,0.14214964116848502,-1.4578436457836026,-0.3207435767448378,-0.8556872975540849,-0.3349077777040119,-0.5200357494405969,0.10544061647848334,-0.2609224946974617,0.1094958055263628,-0.5617364396369902,0.2915744804435018,-0.014223956079919773,-1.4463439936071203,0.8810956580696584,1.442344125009558,0.7854817618813718,-0.0856032052460315,0.305091145964979,0.5090417450671306,-0.7256326637634312,-0.42754512554043617,-0.7707859833806974,0.017188152479012248,-0.5124902307681036,-0.4658906399781594,-1.7036847560674035,0.05646908963882141,-0.21673243197648231,-0.3459406321085718,0.10928927333688823,-1.681897777471505,-1.4954265431875824,-0.7750865063565662,-1.7351796870992897,2.148632041429172,1.7821321685278335,-1.0125153059415497,0.9700054365278958,1.2927064092233536,0.045097978875855906,0.6337421924053852,0.08628796033904579,-0.45701767885787764,-0.5295748857585934,0.19527537130427408,-0.7147667205232406,1.073734104388608,-0.3613684057301627,-0.9584422215593563,1.1027610522146705,0.5342940351878437,-1.0404103856110758,0.9859499994037985,1.5232240767865286,0.05252742618661555,0.15853601359746003,-0.3542370013071206,-0.6017117164139001,0.23131347861708215,-2.906762848799527,-0.983038608591725,0.49026307182762435,0.002858913563669518,-1.938848161963451,-0.9556384255402529,2.253694177285718,-1.1007225965577512,-0.4708937258191323,2.4765723404547293,1.1061849021974302,-0.6659709739070409,-1.4248388153682354,0.8096886456390897,0.5776460525858258,1.3253494098318197,1.8497207409175995,0.8250992654579072,0.2827936309370265,-0.07191512810826352,-1.5095030810645296,-1.2787884853804306,-1.4689091681097868,0.8932036880682473,-0.6351972963819915,-0.4790343677682761,-0.22914538917645685,-1.80938888963836,0.384478019290561,-0.4038422061364838,-1.0967726871681347,-0.13958477717897702,-2.5460830542973474,-1.2795766787621448,0.9846395658704735,0.9905890440952596,-1.0420886637593518,-1.177368349939541,-0.6303332410963604,-0.35454261676198945,-0.11177217085202276,0.3616427303242198,-0.22408640505862032,0.6547052258497151,0.02496679990372069,-0.19774555210993264,1.0789517365198518,-0.036990844437467287,0.46234388532028436,-1.4512970133881324,-2.4588631871867155,-0.2549800390788698,0.9892466474994661,-0.37404177375887077,-0.9523645866975897,-0.9033756445028812,0.40194729957225345,0.40212208807738586,-0.03829723129043385,0.892192246186004,0.6870237827592334,-0.9427874886131811,-0.5357366860066874,-0.4470017266512514,-0.356733300044032,1.1104057492575918,0.9579306509076397,0.3514129549527874,-0.3889098091079763,0.057617516853668345,0.9599319791751196,-0.589609178020985,-0.46250881320034587,-0.6533992640001011,0.45851556314121655,-0.41292018851897705,-0.489750360248884,0.712539515475177,0.7827401560898991,-0.4965657784278938,-0.3715692763947017,0.3432344229217201,1.107611862716346,0.9195823089824388,-0.8277864720110776,-2.4003262428655083,-1.5439311962907838,0.9883750463388749,0.4024263342383215,1.7712908761894484,0.6342192252882459,1.205828646054021,-0.5528116238310439,0.03131483558776788,0.22258760703850067,-0.19805723165706757,1.0829295643705483,-1.4043369380267239,-1.8553818115153446,0.48859801478603115,-0.15553551214941083,0.27897404848085544,1.3538032436126153,-0.916830878579308,0.8447626420301168,-1.357348477341707,-1.2466696884514392,0.8644654686742806,0.0749486928832397,1.3109200007092692,0.02398349450405295,-1.040576304745086,0.5554697210227029,0.14560278626053783,0.2949855827965243,0.2229334307777606,-0.541470857589659,-0.39898723422741317,-0.40169481601627516,-1.9001931906945841,0.4743132122509133,-0.5484773572230562,-0.2881761393618988,0.8347570057207555,0.5703902523580898,0.6920429238943301,-0.969811519114877,0.46128375228422525,1.2835687295541685,1.8792524414126515,-0.1461013023123789,1.2428043364620536,-0.37258198334141607,-0.5434868802208276,-1.4373071049775914,-0.005447148548775546,0.2687360366124685,-0.05542184013087273,-1.1502088606254184,-0.8026997798970874,-1.2635050511545924,0.364715506253113,0.8933330161569839,-1.7003623580068103,-0.4461170266603634,-1.0283359658778533,-0.7718428879871304,0.0764021413100514,-0.7058931871810455,1.6035507207398345,-1.116604735165188,0.45862208463146564,1.5577897767306923,-1.5264539524572776,0.035921816604453004,0.8314806839939125,-0.7836286889819074,-1.1957461231271251,-2.7182665788141813,-1.2107192270793572,-0.48902927114681705,0.8749051793587835,-0.6446122967109112,1.0454590894944809,0.8838705603705096,0.3765940952544159,-0.3114530000318667,-0.08111223229582874,0.23768764770891143,-0.11780774533349218,-1.5020739826955085,0.4570967179792009,0.6047121427630515,-1.5773641345829148,0.4948151728521615,-0.3068774652475723,0.41014791507813453,0.9709433116245071,-0.3247723240842189,-0.061985415774728575,1.1393876278415127,-1.7245076469871818,1.4455298550914393,0.6939784470407242,0.5177170624092512,0.7982038333779933,1.7553488961419113,1.0442599964728791,-0.27084272992086245,-1.8943442552675571,0.35194095861884084,0.6519203358246544,-0.4471294484024219,0.7431766185560358,0.985165394515105,-0.3005573117989929,0.9666851189213064,-0.40960164196783816,-1.3838429060908775,0.7638370587565299,0.11428040781426321,-1.034437599023973,-0.41035429846548166,0.35655970043528984,0.7122032712465804,-0.8504106730729503,-1.169400946791193,1.5692595316495763,0.3658220411374863,0.32301910474313583,-0.43766650802757684,-0.05376274489619832,-0.1766545772332382,-0.049174221025238475,2.512777244879293,-0.4744110676849834,0.2788752493741063,0.22492055773831973,-1.6604878995165007,0.5153450520537233,0.43180450764416806,-0.7933676061535674,0.6832917106504947,0.5545874522949156,0.3642373517061653,0.6522482261539073,1.488592366697961,-1.1821577737174425,-0.8424929902554137,-1.0476749093434243,-2.2040522233629125,0.571657843877597,1.0564067144286269,-0.7465901276496598,0.38393543654018875,-1.5725926441474396,0.2273723347611945,-0.0879688575777503,0.3850256418536166,0.10769288254658015,-1.4656375912714004,0.43130569284371517,1.2837245273307296,-0.007040050126154018,0.4501803787591195,1.0739588979671044,2.0293264130109185,0.2594437166071403,-0.22545789737420704,-0.825891508919521,0.5974953086540744,0.24100413759274625,-1.0923811659588947,1.06501495534091,0.5851615259383297,0.7006406428647016,1.9250307545696348,-1.631865297971302,0.6656756798147743,0.5828618503978498,1.598299263122417,-0.4229091405101068,0.045829157234919225,0.06360284395236657,0.8915520432363577,-0.93517781724799,-1.0543990421113847,0.8053591690337374,0.3180421858448654,0.5673445952386696,0.34849231611750403,0.8222775080193253,2.3388142268531578,0.3371316929477436,1.0363513081481759,-0.1496241901613579,-0.20413836388575693,-0.8471228185638777,-0.7760827421436415,-0.3218223385211875,1.0091578149774816,-0.25834833583199207,0.2661188374595707,-1.1548300538220972,0.7508880563459432,-1.1503662019416756,0.7451633533914122,1.0524924220179368,-1.5485893756575455,-1.2922505495424588,2.6281483703467656,-0.5839490370365567,-0.35785797082255344,1.0402376533827982,0.42354859293729524,-1.817128806738012,1.166061268238308,0.4165507853566917,0.8221920026653967,-0.5888119796713812,1.4762559182896213,0.932302872332593,-0.2735223410667564,-0.26480895789133707,0.6888939054894949,0.1260646795370393,-0.4488500919277051,-2.2019659953984188,-0.11349646953888876,0.013461083938828854,0.04231148257093233,-0.05818491430589912,-0.0695807473212561,1.4886601359767981,-0.06962296869816101,-1.1086159826225772,-0.46091703672558737,-0.6497905526109407,1.0962745982786115,-0.4576623053621756,1.4654451578115748,0.2507942125573935,-1.4330840758798122,0.6803057765056542,-0.08743861881141839,1.0781711853987546,2.0309550932493665,-0.5712851574856919,0.945201339919042,-0.0999643304495272,-1.0327288798924492,0.318618328393027,0.8759372045985067,0.6155570633493237,0.6284415345280924,1.4880737483640445,-0.39732118805852046,0.144131098629642,-0.2809742938942254,0.65418058318633,0.8266132287619544,-1.0009005372304325,0.39046207601102734,2.2755876462678386,-1.2083742142192018,1.047128992732105,-0.1425865211428286,0.20302013689642454,0.2654175120886378,-1.8057745367496159,-1.9691893280859836,0.06371335244625882,0.6002101689222247,0.6340152140340594,-0.6364847132229654,1.2979265220611487,-0.7518976571417426,-0.21637483911048483,0.7701314136195875,0.6979609516494675,-1.2582000276018925,-0.6037957738043507,-1.3997136486008135,-3.5404119731800376,0.4039694493724574,1.1849462196995513,0.624908492941061,0.016494047772423064,0.2790805813885961,-1.33043614303372,0.23119423062849548,-0.1478152045461757,-0.7615528453872643,0.6360614954483269,-0.21536177044083274,-0.9397368027691114,0.21458028039722424,-0.11515224616222937,-1.2478050527242532,1.1918007406106514,-1.1249877984056262,-0.1379401931109072,-0.28238374159025564,0.4079441467460013,0.02774708600048291,0.9919496245143339,0.1723627109390814,0.3671230304774893,0.08450869628628245,-0.0762492166093508,0.5062734685475629,-0.7647906431974482,-0.8852482416235058,-0.7644952736887067,0.8832248587847001,-0.0014810385041499929,0.5631416566946356,-1.4290122407970849,-0.16480188405883517,-0.5329329158799481,-0.806673976053208,0.5689473276441708,-1.225951882782016,1.9189751895859914,0.6813205999383121,-1.1976835213176276,-0.45549334698222,-1.1866662182676353,-1.2802388674091891,2.131038636708258,0.6694674373297702,0.012990348447588538,-0.6561058807221581,1.248318595426435,0.6552772623224052,0.6700588367809979,-2.762558130884367,1.511126878780515,-0.67319369074023,1.2462297003148122,-0.2430793759137185,-1.9610058419635312,0.6979963327084523,1.89716395639147,-0.29424116735508465,-1.5033187528531318,-1.454242724289921,-0.7304006274150527,0.02810977127831086,1.0295595351220383,0.925016965365241,0.14867734837211424,2.7540147006019575,0.6447431051000309,0.48707951121997317,0.9343008647922484,1.0775665343501852,1.6607137076568659,0.07553068081186605,-1.5976024219384162,1.3366070110162804,-0.3566927910572487,1.0588513505192516,-0.107085317506338,0.17600261320367644,0.8692087362393793,-0.4287231928028051,-1.222430115237249,-0.585995212013645,-1.3424441614563032,0.9806855438279289,-1.5991001016154451,0.18896286681191976,-0.8822983353930014,0.7115238294946147,0.4032703192624475,0.27160930054932386,-0.5411915655108741,-1.0813426661545043,1.323945189962163,-0.20270268623992332,0.17049856859682214,-0.40752273774067854,-0.5404017074391128,0.7956952389316572,0.022402119770925284,1.2478053314519193,-0.13768116848580422,-0.28692905502648036,-0.996021846170004,-0.8720639976637142,-0.5232088502923492,-0.0337488082097837,-0.7423882386179099,0.25005681443933675,-1.064574605707507,1.1243926159516657,0.02992748259830223,0.11621203264293686,-1.6451023725749252,0.49735571810256857,0.3869604755186404,0.07198045620655504,1.7623730267299893,-1.0499643862803925,0.7486211845686301,-0.3954388751664263,0.23883666621563016,0.5909202641873934,0.5799533349531607,1.327450617819819,-0.03883420153819895,-0.10999122269710226,1.3375054631598848,0.2084412048005676,0.360463706221893,-0.29671329857646,0.551346247866094,-1.4727241808051565,-0.42452768995775597,-1.637955364456447,-0.24840606690466588,-0.9860822858150037,-0.5634573310767677,0.46819196905988875,-1.066164957190505,0.8224024972963371,-0.19639260610504441,-0.03978045841442449,-0.19271931087071054,0.01974378474698242,-0.3268837356281862,-1.3716759046857208,-0.5685498565631283,-0.45013827026332276,0.49749097351926524,-0.38375620122043974,-1.2262510803403623,0.579447080200313,0.8359102016028573,0.9152510284464866,2.0941864447953136,0.024141768721826634,0.11092521301443721,-0.5160157711865384,-0.4992101251597045,-1.057382477647116,-0.9785038907518596,0.5937975324442611,-0.06232187016268903,0.238428353282157,1.07633677733881,-0.6904392395091069,-0.2700807964007605,-0.8368326629788155,0.16856031903234323,-1.8700698882650142,0.29753789116175805,-0.061709318277751966,-0.5172133079452155,1.6544954399655796,1.8559681533761174,0.18241678059783967,-1.1701332266036744,0.48780915567974314,0.015207353741148531,1.216802334548999,0.28793309477911405,-0.8378158839789726,0.6302109316931845,-0.18103027527987314,1.584299443054854,-0.3045563558345789,0.295482643312569,0.727971061332374,0.1530384618120578,0.07176418230072486,-0.12741508529147785,1.0566060284381482,-0.2889011054501259,1.2242844841659566,-1.465107339600731,-0.20016150096964974,-1.9778316005274397,1.7458534710897746,3.1822025367922007,0.22628042098591838,1.3500752710189363,0.9052834773534703,-0.3388086352751587,-0.5606463530616672,-2.0680816810539993,0.06788347429866178,1.018813756824033,-0.4274676686725206,1.3980746508150645,-1.47121686418231,-2.338254637920864,1.046621701523665,1.3217650569622883,-1.8862869566841902,0.44709287568447015,1.9509829185803562,0.10847068998941178,0.5686797907168198,0.4595523842051956,-1.064359869075884,-1.4077586088761298,-0.32725377596195804,0.8590272102266283,0.6547664439059764,0.7463511611078468,-0.27988425626379265,-0.5277101978416918,0.2478495577624007,1.405778722430837,1.1770642137818628,0.07256416036394003,1.044179821066277,-1.9721182371534223,1.1383607059394154,-0.19210823824298628,0.14782734107348158,0.8997612861156681,0.2871980762796133,-0.8006082079748861,0.15511107544308442,-0.8627969231074532,1.1598712029267808,1.352549651873356,0.1362059927358401,-1.652568847451319,0.383663958237778,-0.5312894082237718,-0.0882672058092996,-0.6662286355172073,-0.2623043065427486,-1.6195941214789662,-1.6127222890261077,-1.394057378609335,0.038291502579429454,-0.4101142237461424,-0.36671099402146823,0.46370310495590455,1.8645668279207486,0.5854828609041931,-0.42757937930446593,-0.8524991709003977,-0.11163427159190524,-0.49418853645220717,-0.16019117105498354,-0.4495784687760963,-0.9906218808287001,0.12432862270476779,0.6157896761690493,-0.3002710216334505,-1.2374209868749595,-1.0703486529116852,-0.585974047937012,-1.1359917543751419,-0.5333051675680712,-0.153416688700053,0.5381575454368479,0.8345581959227805,-0.767018462388328,-1.537313741019269,1.5790387175165284,-0.8977033199996987,-2.2955312364255955,0.703191245819965,-0.7955305142501717,0.19185868181185864,-0.5283130398930556,0.6873776356353567,-1.1376618459721106,0.2158462877285708,-0.7406606913991296,0.08166007535828562,1.2912126449811667,0.8651554807159405,1.2608177197390047,0.197535234516562,0.19942319482281776,-0.21420646581891783,0.11872410708402067,0.3555878905907472,0.5304652014965914,-0.35723653234747055,-0.4819848910137972,1.0811535586965064,1.1870645268577606,-0.043411783676667835,2.2879482243975473,1.2316395380770306,0.9127830757683028,0.09908484200027597,-0.45603647966077404,-2.4328439357930653,-0.3777198150368638,-0.377334950089107,-1.159753200804004,-0.13886158340269167,1.4165777918321698,0.7541774532617415,-0.19745678983455947,-0.4531621929288135,1.0286967054122556,-0.42025201515089666,1.1193712111310319,-0.013579296436470914,0.03332375617796069,-0.08960929773937572,-0.43857791958460784,-0.8081858472257779,-1.24632922123619,0.14087858573389556,1.1638406728308526,0.0544653270095516,1.8431102411909925,-1.1378229678288854,-0.8549734849626828,-0.3343282856659249,-1.3382815367460494,0.8156217638114952,-1.5372492638051554,-0.9239137663934769,1.0624187581236164,-0.010491924240471422,-0.8968345202800773,-0.5895057971122615,0.3950612740757721,-0.2017182335945794,0.13235856968211474,-0.16227695476170892,-0.8784557653330104,0.41009306495617415,-0.4444664942416288,-1.0199198395804723,-0.9853389514684586,-0.17443564160303013,0.7273875290181456,0.6482677276274367,-1.6912310344417154,-0.26883065577762316,-0.1101761839011304,0.5347307858078547,-0.7108935535183962,0.2417167665809351,-1.4910466594966743,-0.7547504917208469,0.6478490266419618,-0.8148007911198529,-0.2286298854893602,0.12928327189151662,0.09768009344221958,-0.059318227787946064,-1.2279034985299258,1.427709180258051,0.5454007857558769,0.2807516899663241,0.031811246732839006,-2.517582897942963,-0.37169776120132864,1.1683969028366554,-0.5002566806002757,-1.4496474860253084,-0.011970399076508762,1.1518792936454731,0.13648136963329496,0.45686741334382147,-0.871066664070265,0.3005131019560846,1.5047585823559928,-0.29459769656407453,1.0986429161309124,1.2403022035010762,-0.672144268289416,-0.02585406106101689,-0.08263078754596602,-0.3240285248179066,0.6797162751697114,1.014254521068074,2.018235247808883,1.337095301533968,0.7747953453716127,-0.6101765762785164,-1.0065320651144758,-2.14664575021958,1.3987789799363384,0.3776091062053355,0.47226150300868047,1.7642122303802121,-2.9881958827111923,0.07674552725191519,-3.018284635904598,1.3157118192929016,-1.0158011132094888,-0.44806532415538025,-0.40979631725809246,-0.10604090214440666,-0.15377662185425342,-0.6113739513429872,-0.2525170057680976,1.198099422010153,-2.420715455383342,0.05736985280675883,0.8524247365454044,-0.9361248636804387,-0.27815162171618035,0.1473474927482495,-0.3249765981028664,0.4940282568531022,0.2557091931621439,1.3294064021249525,-0.06435786162145622,0.1980932492675745,0.423813351672523,-0.5932777527547431,0.9100223747429432,0.026495844266443764,-0.23828251847194465,0.8082253637802638,0.6934870270778067,0.8634196766139736,-1.2179010676002897,0.2834309002876337,0.8948956744877656,-1.30356487252695,-1.2968330274118995,0.699827405044098,-0.5331209298057771,0.20338286413444792,-0.09483256367543029,0.14487478677465992,-1.145956468906865,-1.0096489331342522,2.7235810478288496,0.7230798762210167,0.36637828092645586,0.3824751444012189,-0.4771753148293888,-0.23880788152758672,-0.23675212947117918,0.35450495900878654,1.3821257998586214,-0.21801087105219963,-0.23892188708736517,-1.0820963995637012,1.0353922554972796,-1.6753925619126213,-0.14586308505643314,-2.6932600334091004,-0.3966076514227479,-0.018171523206488415,1.2982766268916575,0.7977117418471062,1.4796251459723333,1.5804102390628305,-0.32566714943985337,0.7505371939330214,-0.9676034039161822,0.4547238158524972,-0.9912449985687016,0.05649351754155199,-0.31264221355266264,0.12439089321526037,0.41215756303026274,0.5310076219750527,-0.9260673713953751,1.922537315499645,-0.9148390912502061,-0.7522921431990193,-0.4062041221624942,0.47152002365519685,-1.4769332918988862,0.5869056511492168,-1.6605351458110913,0.6709769880285684,0.8718040345163046,0.9855255065536371,-2.088038722408449,0.3190891545528441,0.20903181242053206,0.945422707389203,-0.3501446073833473,-0.09154883444674115,2.12346888729147,-0.3351270960328092,0.7462405177150161,-0.36930048550444405,-0.2798185861142901,0.9079362331477797,1.1054251822796346,-1.0485748590921795,1.068617672045287,-2.468951667910874,0.5258409661781563,-0.4625587366913264,-1.0413152672007193,0.024813044674829244,0.6868064855978327,0.6277295452076832,0.27567176630746476,2.0877729810932837,1.0425996429059985,1.7217841884667608,-0.5366654966063733,-0.19581923950357494,-0.23866576704590703,-0.05784077101888566,-0.9435487477342211,1.4426515707431526,0.9951322946771781,-0.36406404128696335,0.4415320488567082,-0.7881163641659811,-0.8141730837136472,-1.1718480763681731,-0.6643078461282697,-0.11733264045572266,-0.29061381793034946,-1.7228143300980678,0.7934230028875502,0.43867826335344506,-0.6051760563097341,1.0222469289762326,-0.3590358266065542,0.6029898216266133,0.58834540267267,-0.5801792495615153,0.5133984566568032,-0.5153840616567436,-1.2622263599582197,1.649597881496929,0.3881510792077216,-0.9575780211474415,-0.8939624270717299,-0.16457063543567355,-1.7893767977147026,0.06507411063282174,-1.8025418119814671,-0.3845359307528859,-0.729618113050469,-0.7648288385828927,0.6705221959606151,1.058661733061116,1.4781451681681277,-0.07667306205752887,-0.03123248711665538,1.7623392524895678,-1.4414653605825212,-0.16321372779559354,-0.07618430293113614,0.40647997283127024,0.130631013653203,0.1412683164846294,-0.9454678485895891,-0.865314198323327,-0.2736292804155548,-2.3366121461734335,0.014769255692546546,0.14481575590245874,-0.24469743133561733,-1.086427634816239,0.2955953775757649,-0.6995019150584614,-0.8604472478866654,-1.741050926342162,-0.3388796173368562,-1.540069325496402,-2.02787082525411,-0.3324249869316638,0.9203942886570539,-1.1366796452181982,-1.2452711274407107,0.0006520532636549648,0.01504875922487291,1.059145727866162,0.7762855957362111,-0.36253642215984094,3.00385873729103,1.1123871261755174,-0.820516357128807,1.5439679652032468,-0.5554339314828479,1.1509472927009865,0.4667558783306509,0.39448232280282536,0.7288443550849253,1.2422362143422627,0.5573006874833207,1.4451520579821087,0.6477289415419428,0.5303052398992534,-0.20627868041452035,1.0852079544596696,-0.11758888739497139,2.0710890789675536,0.8917822633743847,1.0899248289432053,0.3540083049129394,0.9282122798472323,0.02865672495855394,-1.0058956138737485,-1.1237709738760522,1.0619807975238094,-0.03827497216950371,-1.2921167368719535,0.41840610349712354,0.24814237919549154,0.6797805962211205,0.11144893666066132,-0.7906836702283669,0.22164622176480214,0.6394430440757211,1.2411997974313007,0.42444111384412153,-0.21835153040523594,-0.043422788517753025,2.4127660496483623,2.2279703863208646,-1.0188109861730144,-1.5145927934645405,1.2249630386162071,-0.0893860335959736,-0.6320540125563787,0.20254469056977834,0.022586580004581375,-0.5243610568303415,0.4818453622373488,-1.818257561727649,-1.0707243909997135,1.6968133318820793,0.33720913309035466,0.9000673515602935,-0.2152696875763765,0.6785610547951081,0.41729511421917415,0.17110126745244184,-0.7576757467931131,0.6879334611124126,-0.45983576214690014,1.7200359673199308,0.4883687215660006,-0.2992335920157859,-0.3806539164536784,0.7956197664196519,1.473372125373202,-0.24988466418268568,-0.7416900905218365,-0.8009027816397831,-0.6177135224953085,0.03764642560100799,-0.0793794115301828,-0.6415348749009123,-0.9337066416328765,-0.8886144270593828,1.013687296671459,0.518101497290956,1.053095716178292,-0.4793046989333108,-0.52303421818226,-0.20397210955979628,-0.8912648384610851,-0.7610292850453448,-0.07233713911549328,-2.1779557919587766,0.7540145064329692,-2.3952079560729542,-1.557477274393798,-0.502860203595678,-0.7714820366389086,-0.6368147910938273,0.6318045110592021,0.12816783099637666,0.11756364654559202,-1.0804221872349196,0.8550219136763243,-0.249344409167404,-0.44081425484276976,1.1369420256959961,-1.100784246902189,-0.9117025052569999,-1.0552884196993262,2.0642621132985712,0.12386573719287677,-0.4238814759623262,-0.5995193570340916,1.537654266898892,1.2343167212352395,2.519816136513974,-1.4282939131519876,-0.5194194639988508,-1.3716560617631608,1.0498666884355818,-0.03129516050859914,-0.015152988481458523,-0.6393602445613116,1.0064754888186922,-1.0855812088101455,-0.20577457746611566,0.020745779421440715,-0.9648979391287349,0.08636095506858055,-0.4713232620442721,-0.2116929818884058,0.3762900942065543,0.5161170554455505,0.5724845539367599,0.8189132556559467,0.6982524046595566,-1.447324888540125,-0.7024977873690387,-0.894038138976911,-1.6935893079408322,-1.0543169686856073,-0.4561975729323769,1.7187761478349315,-2.390467922354969,0.696973888374147,-0.07592491929435641,-1.1526784446417149,-0.17378625767910869,-0.8482797412748987,0.5227824357395531,0.9525671494546794,1.6023983960463748,-0.4096752162102867,-1.4033909742353932,-0.9649027927822695,-1.4727951564869444,-1.1103781777160806,-0.4748280506920923,-0.44464445874463165,-1.7217992022509079,0.034544742458897035,0.9386810926936371,-0.8434960500415332,0.5405408008693879,-2.36575957205908,-0.21253300776565776,-0.9220246766252007,0.31635447753489715,-1.2833128680556845,-0.03611226992135713,-0.5034807072906776,1.4320044230573934,-0.26730960258752956,0.34457727242828695,0.009709703440878579,0.3587208036644048,-0.6728878662321977,1.5178224070225865,1.4454113713559733,-0.31426783227779237,0.3591922506437417,0.6598433257170686,0.497301892296288,1.3051410132296457,-1.042690423169446,-0.2970379821086623,-1.381106388002623,-0.17047672053199373,-0.9204266691044205,0.9245476558133714,0.28199660509657715,0.059900653720408384,0.29446622612577306,1.3778209798632504,1.066065112035847,0.37844960415651435,0.36435211087697794,0.011744087254896639,-0.19202151864308722,0.2294170231365576,1.0381983042636365,2.2167308854718852,-2.247052964715862,1.0374044150962787,0.38287830046628707,-0.9680508272612783,1.0547006629388957,1.2890226944748258,0.8273580085283452,-0.2061636454674416,-0.979075466193238,-0.8713020761796477,0.12213704890551941,-0.3746903629452642,1.264929640533172,-0.6830819704594638,0.6175498952238551,0.8022505904892878,1.565418527001438,-0.19711300401269202,-0.6576877687120064,-1.5024549449194384,-2.3725362716036846,0.0812137624025922,0.6381418515135018,0.42111259622561514,0.7121869298538384,1.5818808366043657,-0.11736411268335468,-0.39020123247005506,-0.902768251549054,0.7779432915696638,0.6537669102497505,2.0194608917821997,-0.39286139351498534,0.7712755637547347,0.26786319528271496,-1.2490630879873297,0.9180627037421818,-0.27194859296127605,1.3407490423845638,0.23556226172283967,0.5825492501880999,-1.3165207595914727,0.313268045719396,-0.897776812061626,-1.1674660699838701,0.12145962846947306,0.04641529229996417,-0.5745655137665586,-0.3972241940473,-0.1733960821169999,-0.8163136302409,-1.0495613204635557,-0.9336404745166367,-0.29719970197603374,-1.7856857483292525,-0.549409416624984,0.9659626895449634,1.840663142272621,0.38867763745704936,-0.8628738145553394,1.3095100747057868,-0.8353751300320285,-0.05250803383050579,-0.8770432289793753,-0.5224835170879161,-1.3093212373740615,0.40070773724453074,-0.5215981160393366,0.2512936874885431,-1.0840949810461527,0.08780400023379809,0.4818607001666043,0.724165624196415,2.170372178224528,1.9360443970106969,-0.15672508422765605,-0.3285943639227735,-0.07484725516272416,-0.5831973889874679,-0.21832571831229308,-1.8091901196138114,2.089186733401834,-2.129215329852196,0.9177371720076535,0.023866629049282374,-0.2987913281626994,-0.24292098340796045,0.46406972100524946,-0.7662039339751593,1.5805573573239735,-0.19077875351310403,-0.22395721535218813,-0.7022232569577145,-1.3910512735783787,-0.4028508766093123,0.6474273825385669,0.029673170205336195,-1.2645943012344052,0.23897616359630233,-0.8030224180189948,-1.5629054181697521,-1.957866973836427,-0.2343872648864634,-1.0977412869210792,0.24285300742113283,1.729594687594331,0.988064591903751,0.46263142235612525,-2.3841448290654585,-0.1988532022157612,0.28538904487805294,1.3026027489156382,0.3654737740987931,-0.3577236680282056,0.24874598011307714,1.07712086375942,0.1625470868940437,1.2308498156288759,-1.4311015010699777,2.330775095973659,0.16696227817198986,-0.4552646282872465,1.5568375268293946,-0.6489772037874912,0.7383766114342262,0.10423947663712109,1.8381627907217029,1.3339773771265813,1.7678806398492848,2.9735561213342634,-0.600079812220367,-0.34238435245999116,0.020041147690400024,-0.25010392632307843,0.8633374985788366,2.640429639299448,-0.9717292267777936,-0.9658210276640046,2.066591478782952,1.9705467125042753,0.1292489716872637,2.0836054964596653,-0.6039853764395454,0.6165296751574006,0.5399800116993207,-0.09823399283167189,0.2584633261786241,-0.09738383187438977,-2.3060699133868425,0.8736160305425749,0.5103657050597528,-0.7957880297577715,1.540236007914707,0.42805392971162787,0.2435180422315857,-0.31146150392047733,0.8095268986024129,-0.8396973387132768,-1.4758431775900809,-1.0965517749231843,-0.16277225160205658,0.7141835023081088,1.0180308491692671,0.46561717219010584,0.40036578607102424,0.8463216623784025,-1.0986270209482545,0.7455545471932248,0.23979330206800145,1.2894773499470176,1.0738360588934357,0.2237187914866292,0.749519050051599,0.7908752034621632,-2.0386502482138678,2.098082102144056,2.1814839934165495,0.02472332534499268,-0.24085757443771785,0.764641436819659,-0.03785423207577485,1.2587624168979201,-0.5107450673313391,-1.5272121356613935,0.7036554218597163,0.5583822516029906,-1.5393439558347637,1.169735146213016,-0.25840880359371926,0.6621302750468522,-0.3625336424218688,-0.3918697583092604,0.3542261676635382,0.8032199692263007,-0.44912669644351627,-0.26908310084901627,-1.228198218517266,-1.5766393652481794,0.42198484115200946,-1.2613080757560786,0.6333056998684345,1.0829365919138394,-0.4010399895780338,1.6145847593994873,-0.9638945046470484,-1.289268124866735,1.302434188481903,0.26162707849566513,1.9846255689648704,1.3196160873189566,1.3622508330584762,-0.4766246850437113,-1.0559045222298267,0.2851746558027198,-0.13482434895600215,1.4127000504611211,2.3410058415435437,1.3436404647612032,-0.8744686915142215,-0.7397074757791368,-1.1647498553205622,2.4109749580412454,-1.6120763501966564,-0.8553362667929906,-1.3330064871518075,-0.35044564666323963,-0.5776284141198976,-1.7655425138770717,0.15148163367363202,-0.3111135161250492,-1.0933077810748224,0.6670855572900339,-1.757932984881405,-1.3879952712614705,0.017463264087910796,-0.8212619188940323,-2.9675820161454673,0.9080983839227028,0.5573314660957208,-0.8761477596108432,-0.9032993826139767,1.2602275681123298,0.07451146292337643,-0.28843419924114,0.15869450510855554,-0.12205613247976832,-0.11719334589922413,-0.13481483528955726,-0.8747839018029182,-1.5060406347253046,0.9502117713525976,-0.4831550770297156,-1.4147806501693923,0.7281967283441438,-0.6653801895252196,-0.06995752307106584,-0.1514120224659725,0.9673892141531186,1.085635580291791,0.9806767651070125,-0.7819294128508731,0.34056589212576466,0.725282677772755,0.07930553799592421,0.8858399678296554,-0.348908001631651,-0.5350980221080694,2.052630453496609,-0.6738517712255732,-0.7654367339624668,-1.2529899364002106,-0.9191544235623437,2.362882001089888,-1.7085635662658274,0.46166978743885084,1.9783343264088373,0.14766460802151082,1.7680253582617016,-0.5575573639905074,0.7241711261332836,0.13181018839906342,-2.4903672405246793,-1.2407600357344648,-0.47534582582895485,-0.16829646161925943,1.0874079861174326,-0.657346828552294,-0.9514835781498506,0.05963078729949551,0.127409166345389,0.48459647805977757,0.7922260757463543,0.9774765220100644,-0.735467631679118,-0.2413237216290448,0.45532007062056684,-1.4445401490316516,0.3080782508884654,-0.14688542727005102,-0.3813439971010816,0.14792032049665527,1.3708439350645498,-1.3791134791514834,-0.5810987807348368,1.314672956353295,0.5280860902352292,1.7883556559900176,0.7822501117875937,-0.5692944994787109,-2.070423923731955,-0.9293488584800355,0.7010359971615093,0.9615589876844971,0.35298882718757546,-0.8215554870930506,0.3484897885673781,0.7125421533275365,0.8267049008190679,0.064336730315617,-0.0013897561279067334,-1.5492561073503512,0.07601714632640219,-1.1639599330451014,-0.11229094921902398,-0.5639422078989877,-0.078930649389571,-0.7876694555976117,1.1946657618976955,0.5591817085586722,-0.061540524592334014,0.7693622558547917,-1.129045700626107,0.8630667453568127,-1.6470442721592466,-1.4964298384178014,0.3815816501970968,1.0806027299644207,0.7114052202583124,-2.026285772441306,-0.12314446918236581,0.47806801921570546,0.44891408066684313,0.9136181074717837,-1.2183574041130776,0.3115542192223112,-0.7676023686192129,1.9445234399051088,1.786384802149813,0.7680695917286238,-0.4796907158341781,-0.1926927412079232,1.250371992393799,-1.2749086343102967,-0.7180140987346126,-0.6313401910674521],\"type\":\"histogram2dcontour\"},{\"marker\":{\"color\":\"white\",\"opacity\":0.3,\"size\":3},\"mode\":\"markers\",\"x\":[0.8183767418642214,-0.904632137532501,-0.9052738265850118,-0.1122565066537986,0.37983196869412655,0.9075131629898451,0.9714647702599836,-0.8210426991283154,0.08546032573095717,-1.203683260848751,-1.610510516811745,1.4813992788276373,1.034600648194733,-0.2542376915471831,-0.6112793177155122,0.3718664193140843,0.664849910325608,0.6994178334482352,-0.5758630685070693,1.402203240190303,0.3936109670558614,0.5507839274900883,-1.0139726243708118,-0.24306166236748408,0.8343784650406452,1.1254835498315618,-0.07167218227541314,-0.8028983423391642,1.1231449400664892,0.40559083087484554,-0.25668774377981085,-0.5917308749654944,-0.71102617636189,-0.8842847977280001,0.04399289970291188,1.8136754906370913,0.815628422126326,-2.612250900037809,0.09877644507306549,-1.1649675841713747,-1.0573450399582287,-1.2783242566808035,-0.10735549441626879,-1.1125820646328797,1.2453934698676385,0.7160785216130826,0.3233576884316986,-0.5144131558011664,0.604681117671026,-0.3363372354420574,-1.2718558317244644,0.8364640782603221,0.4104837376988082,-1.3238199654712683,-0.8361422220425716,-1.2440624829566367,1.0451951216104178,-0.18613522635820615,0.1877635471862442,0.5750282501413564,-0.8428788052868292,-0.49013489128663784,1.0966288783103169,-0.6690926056466724,1.4549497354118475,1.9656277910158015,0.03947251719561727,0.6732318983560894,1.1567468023674399,-1.1096322006665105,-0.3239167630600358,-2.3409301482575575,-1.6334218148547106,0.7614711627406886,0.5341059862262472,0.4896280616975065,1.0624639358284607,1.823188928990934,-0.6674626359014727,-1.4538818600509837,-0.36843892689644114,0.08754336235641669,-0.11443129352412039,1.1548672429838485,-0.5301856539057999,0.3675541884666414,-0.11203878488693307,-1.1163640806911348,0.603987238938682,-1.816113815748894,1.4631836769371438,-0.5849627357172635,0.9811769567656998,-0.77376155531462,0.7564212639612904,0.01481213329034058,-0.9088319878853226,0.8005034940226528,0.17620292376554159,0.3262940584197073,0.05917214715595883,-0.4740472591974709,1.2602961000182369,0.8853329670502044,2.725811395414939,1.2084463355289705,-1.3469933000473961,0.4306821121983913,-0.020776011354101908,-0.18119723099432558,-0.7683738144028766,1.1545705303474902,0.41311176435776753,0.7845268457031948,0.2651493242381734,-0.6353059648096492,-0.024303889875740756,0.730283703625377,1.9830342966058523,-0.66016454314517,1.341938661836088,-0.0032652445265887245,1.0808559074120248,1.269052311030781,-0.3247813403987269,1.7855082908202733,-1.1256225376792408,1.379765808233107,1.6590391996168623,-0.1412018359905396,0.6443376297059441,-0.5335014192035361,1.003078156788907,-0.29368788800868334,2.4027308479942566,-0.5846882517975579,0.45692479461989094,-1.0781327556765858,-0.3147157066850079,0.5522384528255205,-0.40871090400245436,0.8944491291192995,-0.507302021043044,-0.14701451762397577,-0.9241150076581672,0.18550479144747906,0.33103300266986946,-0.3507535812333713,-1.4685252215257378,0.2453413490500275,-0.36285335322842166,-1.143544632768679,-0.458019355493733,-0.015299510892446072,-0.6808865459247712,-0.2624393999971806,0.4726594581145756,1.5207800776506346,0.7312351496743599,0.6721719418378236,-0.05493348668113123,0.2564398064284397,0.08816031954134539,0.3640726747125939,1.202874619613393,-0.07645168301305984,-1.3828195928729905,-0.7349109012847399,-1.8920065773250356,0.40150120720349997,1.3445387951602186,-1.5672240603638974,1.544537196123668,1.2326746126406445,-0.49572894200098216,0.2819019911421531,0.42480582152309754,-0.044217835665995193,-0.41654988505237683,-0.302154164966333,3.2058119255438924,0.7643407130321325,-0.7011956079010058,2.562550606546992,0.13094294358699368,1.0503140177200267,0.23715786623355192,-0.2640851497840333,0.8562183518000542,-0.9601737798925608,-2.3686992321985096,0.9976914231017762,0.7756216838272096,-0.9062836389479061,-0.07592957685883983,1.6116315340713354,1.4798916530781345,-0.764182228613587,-0.966579221418806,0.6646874291432587,0.46169161396612685,-0.06956987140211586,-1.0391901697414396,-0.747479812041099,-0.3517646781586577,0.05121673097251431,1.2188452738894768,-0.91972593039404,0.5943430087042074,1.2165131462737475,-0.6827377978165837,-1.2597580892570284,1.777861031983746,0.0683116323730365,0.4516614501479779,0.0088339623040651,-0.1742381498969198,-0.3850106607348161,-0.9042010644494348,1.4426887024318378,0.5203938022895621,-0.44886515494754825,0.6504296620395311,1.4827207250979517,2.8728078598194955,0.962212607301922,0.06357459369017035,-1.0982989128034044,0.20004268644394912,0.4393322229281665,1.0345292414498952,-0.9813023401218742,0.5819939005654123,1.3637954016610583,-0.29037251489072186,-1.0243189341805339,0.9732517929957705,0.9676159502400985,-0.08524014598848204,-0.801636870299914,0.3642576572979748,0.2052032341657319,1.0976958295033474,-0.10899511105674094,0.3920112942830074,1.3981908644004677,-0.12398983376697881,1.2940372377968279,-0.9375633531891666,-0.028831263321174673,0.44429263700614635,1.3500647937234587,-0.5553144189235024,-0.33374571473913933,0.5566869657131639,1.1861764117792981,1.757146544895226,0.079420713161769,0.4527382852811027,-0.8190086633455972,1.5637382850670631,-1.1223125039184654,0.3917069097916516,-0.648577531212409,2.075008964930654,-2.0407821316893795,0.6747376883133572,-2.1811905427631246,-0.4529334828159892,1.688049822250391,-2.1339569996291847,0.24734101565850394,-0.7021457005542784,2.0087677134394863,0.6440325093780901,0.005183174014203155,-0.8963606455453562,-0.4168475093934061,0.039873594480333834,-0.26994591045878225,-1.6170192436407358,1.8414117239145538,-0.9077751663400858,-0.6398845284308511,0.6370242417376824,-1.5563899138038613,0.9985472143481463,-2.809023419683735,-1.862313152759082,0.1945314537471692,-0.31290478216301776,-0.21705518803463067,0.25439298408135386,-0.9058227248819368,0.0959882758772234,-0.6078335449698985,-0.6239643685199143,1.2054261126212764,0.28303908142409384,1.3031522120900483,-0.5795723858507895,-0.2242418748788311,1.0183793765564564,-1.5081231871622094,1.4943752742582783,1.8643640007535192,1.2628087193059447,-0.5996482002827782,0.10212966732669451,0.967073984675713,-1.5816747052452844,-1.1106162593065658,-0.8604942830176076,0.06612488209070666,-0.6368714138647591,0.43859090242804294,-1.811697378023956,-0.4322469614264913,-0.24247715660621422,0.7750531751623976,-0.7764193457726211,0.33546350880228354,-0.19017943459777292,0.2396595761365167,-0.5118934909316057,-1.405634610230818,-0.9885348157211524,0.5202023267246088,-0.4247543181550149,0.4132694736784141,-1.3260722634123239,-0.09892754653209819,-0.19120223698317587,0.5661061447512932,-0.24039365604098548,0.6049814204462193,-0.5369670435229726,-1.6876947472995587,0.5138605259736804,0.5714606173627113,-1.869895873971195,0.23279145944510832,0.8898487765211661,1.165982372047187,-0.6929085285465751,0.030144536181778356,0.16473460838545836,-1.898203776768204,0.5090900777715234,1.435853174081051,0.7876620244168812,0.015502466133066392,-0.3012748665387752,0.0013811933884732618,-1.089902364522226,1.9351594198166469,-1.1733526773619711,1.7328153125076176,0.6035325098881059,-0.4284709043616795,0.25407514881602894,0.8589267177483926,0.6579407726787082,1.8948997972485337,1.538260540989219,0.30566339862761355,-0.3737978544463823,-0.9099496180342703,-2.5512984622785777,0.6886263048213888,-0.5475912953772377,1.4766462681154293,-0.3516308086227499,0.5704693336807554,1.1457260335035264,-0.20628568853218968,0.09245411178610591,-0.24458073043026035,-0.6206367093863251,1.1853285874219839,-1.4082687379488128,0.8472771800159928,-0.9647931217670724,-0.7561776946152076,0.33275295996029614,0.1998378395195374,-0.27474907117515773,2.1171620562621936,-1.5135251027119998,0.2596105073814751,-1.536220169343863,0.3744149817688157,-0.747207453181603,1.105329950067495,-1.513721699211213,-0.8647535714591129,-0.4110786374637257,0.5975148185350236,-1.1012599743698712,-0.10488769368967917,-0.13726453483086556,0.6810209276719938,0.010435410024844901,0.09079427526655236,-1.7861886307643644,0.011021134444087786,1.2361699355639628,0.18871723763488943,-0.574918735197712,-0.038823040283314805,-0.8369530711191724,1.5149813286404656,0.9000423786319194,1.9536085013507922,0.6044246127905651,0.38297266277079056,1.4127048108682518,1.1756149570053023,-0.2631993862578719,0.41773851898111414,-1.9775890923932122,-0.4890405739787727,-0.2404052771281344,-1.0373211219324139,-0.8774473609948341,2.239208457039055,1.1958323883010173,-0.13914721651517298,-0.729927821513757,0.4536965454928725,-0.7189137164049251,0.011786112736705752,1.566650057879409,-0.5705536823232548,0.13339901122791703,1.228059263151269,0.35158966658393975,-0.8623903627502418,-1.4796912917223177,0.7538180231932569,0.7211911789949009,-0.054691046658192084,0.8567913578819996,0.8898310370141715,0.5209853903308123,-1.1368801848707804,-0.6953397621937557,0.9511962493789554,1.2342679569073847,1.699248444909784,1.464888938722906,-0.057371061156215694,0.28058957439990617,1.1400870227801032,0.25323289706390956,1.7914636515565348,-0.486550968875988,-0.07304063091764995,-0.4128817720275725,0.5971914149528095,-0.1080624569728887,1.0692902301652418,0.6780321670056554,1.0604829186068427,-0.5310907552681278,-0.4931777115432904,0.7733806844932617,-0.014689468306795074,-2.0958293895791518,0.15418733650757951,1.6847228891426345,0.35046650164169874,-3.3411283624265735,0.22920586482661034,-1.0694676269620436,0.14003574352308285,1.7043085431317244,0.8612087094700668,-0.01428199462078313,0.6349756929397077,1.147109840357326,0.6416949227161574,0.4200017050720574,-1.2506386294718674,0.09104470288614988,-0.1412726732582315,1.171919716691683,-0.1715596578651143,0.19180277268725754,0.32272234001610917,0.4003162895124687,0.7860990755647796,-2.6256347822003274,0.8015568211270089,0.9415614028358075,0.9832411320881994,0.023162558640103352,-0.47317361645349393,0.2454645809322216,-0.5720474117286738,0.033188603678658786,-0.6049357882835025,1.6027494479789985,0.3148799003643594,-0.06260298590826043,0.74717474614403,-0.5306162381145229,0.9521712177581495,-0.6153206786132969,0.30949161889522886,1.6941641501630416,0.12025003219109691,0.6105826078242348,1.1231796603720645,-0.14273990546714294,0.5293621936400947,-2.1566876574730633,-0.37853407485813423,0.2463476487204739,0.4205757482626188,0.64118303042978,0.29673800161691805,0.24086552690325505,-0.039222501970341675,-0.08192821854588345,-0.7409092771856396,-0.21969767103370963,0.06120264898714527,1.804395602541501,-0.14072914756013397,-0.17594653704523763,-0.2125036382619405,-2.2725950460927513,-0.6956687195745307,-0.530206169895819,0.0467840891568003,-1.7779369679987762,1.937203728827786,1.001393978509251,-0.676019526474157,-0.7693365288200146,-0.9586337798407456,-1.2448523952735346,0.9682410638665176,-0.06143995284911356,-0.3940594948460579,-0.9499570555662463,0.2345446032458739,0.5921268703483801,0.9584762647986094,0.42029430379203614,1.2351462359505787,-1.4463333917478955,-2.1461179067129237,-1.50912058151522,0.056168113839525614,-0.23771846053229806,-0.5854836694078351,1.6017451935160045,0.7765292598489579,-1.4017327110223028,1.141597208105219,-1.9482083609940717,0.030343602044078467,1.0454381169798994,-0.7867271198594183,0.5544353046811948,-0.7108494415269389,0.5970835405521008,-0.1902509683254913,0.5811884690229864,-0.5246477650212542,-0.2774385791604429,1.0436610448957988,-2.042307566450464,1.1796044758054962,1.1249921295435847,-0.4165246430945581,0.30969756400993903,-0.14737665148959772,1.4734318569800002,0.1841856666625654,0.1466860723274363,-1.3466213961955948,-1.159780246913309,-0.7195534405220176,0.42436381925804506,-0.7929334250825423,-0.48497537038310623,0.24247892457996625,-0.5538596554885981,0.9363538525802063,0.3181520241123855,-0.11579412154952382,-0.45144892313083124,1.2237630623807512,0.5936148788717068,0.46867415212097857,0.023385187395280674,-0.221571759209523,-0.5739073141477734,1.255699656399125,-1.3869181380681326,-1.3554748129457042,0.5243679173017446,-0.4169727643984386,-0.8620116039041159,0.11127935148563677,0.07857219856980373,-0.4292506693350768,0.2563563685315494,-0.7682842454586732,1.7380409342914453,-0.9611319153426526,0.5356925725783718,-1.5953410415764209,0.10926295255755804,1.6786692083561592,-0.22078656333202462,-0.41577548562551936,-0.7138178966257277,0.2575194186599579,-0.2420814820416194,0.6420859706237393,-0.8039305479318286,2.2317689286894113,0.27968320527994145,-2.4846835515422367,-1.4557373804338987,0.8822486864614429,-0.3677697256188221,-0.7678008251972223,1.575132134092297,2.000516022329388,-0.19484029579711493,-1.2020671311708808,0.5916627298073512,0.17242282612022738,0.23061890768185256,-0.24860352501953872,-1.8822341342519389,-0.09665323808035026,2.120670012150519,1.8060034642609415,0.610789775038754,-0.2756231717840071,-2.090981132271045,-1.2373804611720873,-0.2042908024776001,0.6826206784997569,1.582251336542477,2.5180504614554926,0.3981454240587477,0.9706975179496613,-0.9510461823180318,0.777839589160646,0.31565672771843006,0.9674358727327573,-1.5733850865737524,-0.36641687524467,1.388615789262303,-0.5003803167547828,-0.6842018352900783,0.8780211313497773,1.1834203125269624,0.21802727644978415,1.470022495905428,0.433073239685941,-0.01627944740312335,-0.9818152257734138,1.256770659845766,0.7197111676898515,1.0815168346196362,-0.41752895034122156,0.07558973321053927,0.9808777513467694,0.5757743360493786,0.3420643049114192,-0.7011387708772893,0.5356187942205289,-0.43998492186422355,-0.19008965081534435,0.12030439803434226,0.5067136010485475,0.4058777246225931,0.7465327768807644,1.7048161687642116,-0.29969762238467146,-0.3714856194171236,1.391331948992246,-0.21796221119850287,-0.44733136091630016,-1.3107280722396188,0.0175986871630621,0.33972315136016207,0.32830627519037686,1.3315391665322436,0.15782492239340778,-0.12399518750087306,-0.6685414575334134,-1.549257401606623,-1.3361680800078233,1.2145767980765831,0.07069661107854754,-1.7686372709397609,0.11852446595127566,1.0042143864444217,0.36081303584417895,0.11950327245007343,-0.4946790684966181,-0.0813693284784447,-0.9116531182224039,0.8029765551528104,0.43360632609878824,0.5836999156343946,-0.15604290700816895,-0.9789589229885675,0.6660922474355191,-1.3158166083569884,-1.1200329193275238,-1.110484993343083,0.901356757237866,0.7058290654315102,0.10869974110220981,-1.0932208653040245,0.14599940259629637,-0.6295515649487564,-2.464910979797669,0.5633245294945507,-0.11192528010754044,-0.07306507381536213,1.6945706162084855,-0.9264764521836198,0.47396013301895523,0.3113191326233906,1.3069218549352057,-1.5553804356204737,-0.07569407392902502,-0.84938425646213,0.027318905187247465,1.0876013342075466,0.46007163196953504,0.333496155939723,0.8659188166566721,0.25373284494940096,0.5916201328606289,-0.4784579069296663,0.4671351617753888,0.7574777556893182,-0.26852758335773314,-0.6561595211052726,-1.1461602839328167,-2.338906922990229,0.9262773150622714,0.9091901495349674,-0.30073249039805966,1.145827111339423,-0.846276650016837,-0.5706377868530095,1.2784372818060108,0.2667568293039213,1.6854380083663854,-0.022038389593226907,0.9224851541517965,-0.21117684490486013,-0.6051021662599859,-2.34566547147648,-0.21505364978664,2.475725592319553,-0.3705498159954561,2.038197738499054,-0.16797022683932805,-0.8948788642912373,-0.46169895198028127,-1.158381002530012,-0.14564792933450083,-1.1105938807095397,-0.9816765051871441,1.5185668845592675,-0.977736489574859,-0.06250985307103347,0.703474651288776,0.4318968356808007,-0.9137761202998996,-1.6941256401808944,-0.6634006430444603,-0.7045759071200473,0.7900907838989584,-0.8039604358489678,1.4695775955525796,0.0496662979929106,-0.15219547342990503,-1.58605145080772,0.9362687541251528,1.0896497836580576,1.6719408749035436,-0.35673301510324745,-0.9152984838060324,-1.156191322846413,-0.4186590572362273,0.7238602759044849,1.0987888717473853,0.6688369474213792,-0.8547958187935323,0.6576824458026849,0.5334113582745675,-0.5356899035179324,0.3319581232880187,0.721332211142646,0.12255762205673887,2.4596695381249485,1.9367926088945777,0.044691612664665856,-0.3719606403634157,-0.6537082513782306,-0.4054086654884587,0.4119286086925009,-0.49053202336833757,-0.08395414045865214,0.0058779570684939,0.38358941201637736,0.623058971126672,0.07201559150153446,0.5571772733722206,-0.2106768984960501,0.5643500303631103,-0.3506433802134231,1.494176945732363,-1.7090054784465296,0.8015697427354365,-0.8834125171450128,1.0419325685032843,-1.7888925618979536,-0.14224501026395056,-0.35365760514321243,0.034053949232714965,1.3963148695592063,-2.0506495691954263,-0.3869401453342958,0.12887820157048577,-0.787393555810629,0.9216457758829352,0.8402177094563933,0.5167592102199501,0.6054975079748695,-0.42097714564899585,-1.4203918856556808,0.6457958761414575,1.4830526221860862,-0.3602793871461031,0.9919830642130284,-0.27397256054020575,0.09893517521822623,-1.3004672376580066,0.18010625953378895,-0.07003681324280309,0.8357757871386988,1.9509515894063483,-1.165607062685746,1.1922442858762212,0.4226563180926341,-0.9299169091009072,-0.49370041244467233,-0.6840657164287544,0.12975018514530712,0.20256655678100888,-1.0927509307136276,-0.7195418972788782,-1.18188304584993,-2.0872809998224557,1.1665301330632736,-0.1315887828029183,1.9189064329565402,-0.614832024990322,0.8938102262199435,-0.3669892143607835,-0.842330738352714,-0.9377926054354787,-1.9107281818903803,-1.4554982849168971,0.010151605646460933,0.21782245317734125,-0.05790049166335385,1.6911485618614173,0.5318326858640485,-0.009076388728396386,0.026538816189919188,-1.261434648286671,0.890888400264452,-0.46341706483062084,-1.1979388108734865,0.9786469406187857,-0.5947667165976644,0.33446925966538227,-0.7864668892853991,0.4735323157745096,-0.37287553164189224,-0.9931620821325099,-1.1736494149145902,1.29450641739442,-0.0015433594743733989,-1.8708614531308057,-1.0886068330780383,0.5160379191768563,0.2644740286814375,-0.6553557197545535,1.8327940773873481,0.900330636415273,0.4792890502717675,-1.0263932806515335,-0.4583522704064492,-0.2786958522545884,0.649610917007562,-0.5278793182923832,1.305323646985029,0.8660665402492083,-1.1286920997989172,-0.3440382718024146,-0.21833405366141562,-1.1172453688154595,0.8884871935419246,0.5642515520948287,-0.5738766922666044,-0.7139556576163714,-0.6384890578416648,0.6778873279189529,-0.301179280601092,0.2512236688070458,0.8346901445151946,-1.6080728561330757,-2.1461552750241992,-0.20934597583217068,1.5555220091129858,2.176591536726978,0.9101186089849616,0.29594926096366847,-1.1510751662588483,-0.5568223364140349,0.23856823692712717,0.5542084346349797,-0.6378516638877466,0.04358032508881485,1.9009763797992758,-0.08954683406852748,-0.3177954727448387,1.3524126103830367,1.1135686225904189,-0.26399924625524424,0.27066825154801477,-1.1572462273440391,0.4087678829356423,0.16742013001786524,0.07602199242095349,1.0029392637415726,-0.4093353150076279,-0.4599706769691494,-0.7406317865045895,-1.6120038933315157,-0.4668009849718624,-0.5416937721015166,0.1763438821778448,-0.677373096819784,0.2987227221763854,-0.6206863621171886,-0.6471390995293053,0.5977323059211186,1.549476411298454,-0.07933400661076109,-0.588725593935225,0.4915719974781649,-0.5220807250076578,-0.2564066630750713,-0.6585722962666186,1.2252903227864276,0.37840610795613705,-0.5519870885858994,-0.4615161486782769,0.6998824061514047,-1.928352217911727,1.3031686412846812,0.5605534750330587,-0.7340819397375926,-1.850142566027814,0.025907449159111525,1.5969884670376275,-1.0333661340052467,-0.9499668510877817,1.5362963806520717,-0.0263321781628739,0.24004011461487038,-0.16159704969889743,-1.4153065768660331,0.8539043191754562,0.10473983121654445,0.8393138640976241,-0.38781482946878276,0.12256237328051071,0.3991502043268965,-0.17139082547409948,-1.7093285922130073,1.1736124759237667,-1.468329660582022,1.369378215459843,1.0973659900754478,-0.24935877668183393,-0.8007321246211229,-1.7024231970484416,1.1439598520934566,0.6220533232616785,0.8281221829354797,-0.1637424153011318,1.150324606656476,0.18082985023565148,0.16299124278675203,-0.34761553161250797,0.5509331417171669,-0.9507531637851874,0.49987022360421307,-0.6865777382316314,-2.857238271624099,0.737629329338438,-0.8360508063695867,-2.458853275930166,0.4512309620528133,-0.6800446351781027,0.8147920613508679,1.7238373516398418,0.7160052572546597,0.9952173872579624,-0.32204642406803424,-0.868715767216681,0.9215150691719436,0.4875787532724101,-0.13500743568242224,0.9545993185424912,-0.6321203931064331,0.981085222178803,1.6293250816657472,0.8791818160253031,-1.1704120496780988,1.337727166678439,-1.3040876000934025,1.50804446717375,-1.5996553197394634,-0.45701110537586986,0.923642889276649,2.5643577743413384,-0.18035210033311985,0.9604093548100197,-1.3392458072771825,-0.3998489791309894,0.4079565327240594,0.15887462357263826,0.18582454289013084,0.03884573921205932,-0.21775591914594228,-0.49925756528026244,0.8272605237541469,0.60972568539915,1.0079588215538435,0.32302188721412384,0.11243439869833556,1.4410743864415472,0.1647665527547031,-0.5868864843945426,-0.05530353092472993,0.6621585049781015,-0.5186407866705371,0.5348704133216935,0.0595884697527733,1.0947373483176883,-2.045196602384083,-0.7199867009661185,0.24282822856497033,-0.31877259085577553,-0.4846842908742281,0.9118294165763078,0.34797145776218924,0.022740347006596474,0.31762062901323584,-0.6809350494582804,-0.35376219346166876,-0.2955992300943294,2.0161414282058905,0.5250300648010279,0.30153326284781246,0.8949651298326755,-0.3463029596340668,0.0319132906458177,1.0914840360804094,-0.9760539759378869,1.7815156375804055,-0.5667147189548842,-0.6669576556105672,-0.7613130877950095,-0.5454563441504942,0.8410981708429117,0.12394759697703932,0.8243332688239793,-0.7021658218877836,0.8624455077627871,-0.22040198744991413,0.2404070932840441,0.365920148969975,1.9180863299571314,-0.2287306429915951,0.038418342358140414,0.7462979058542079,1.0592868301215295,1.1814170212258945,-0.27612809909698355,0.1580999473986819,0.26284932448022236,0.8751408332224524,0.16631562324728344,0.7533027210819265,1.3160131355321618,0.33400489594558985,0.35846007479498354,0.03597802689162634,0.47079410959530843,0.4453558078456415,-0.034295781379434044,0.8309946664100243,-0.5716442389831806,1.0884824677994098,0.07799338065522292,-0.4592200490635677,-1.0304639893082048,0.2711468520802762,-0.1802876357543979,1.0621728171407714,2.9132061037011097,0.8549754349703542,1.4845776873840122,1.9101635445292438,0.006082620192125023,0.3676120707474988,-1.2716861149162235,0.4263882686192512,1.3380468771175904,-0.7829706307624308,-0.5891194142118725,-0.28884837003768,-2.675919069351076,0.30345963434539996,1.6474236814770076,0.46691695274580425,1.5699008564065988,-0.29891172743711886,-0.3261959076571825,0.7043380139057795,1.653362462112757,1.492580498816348,-0.9902043689112808,-1.933908265384813,-0.3054506352641244,1.3156637238860434,1.1515135576020488,0.9061662448623473,-0.9904536873141447,0.4284796863663686,1.1078405936079847,1.0100892302028566,0.18698181602239863,-0.0647007923647756,0.6171866516406219,0.3298337457881262,0.5601152508239198,0.11893994867584244,-0.07320716974241533,0.01372179953065922,0.4319580733339452,-0.6428360833303158,1.9612673602962927,-1.0930825246776,-1.6448318215769342,-1.0099127302125581,0.15451698632056782,0.21961364592038116,1.3066776758774323,-0.6890374235029341,0.6086431011396404,1.0535609094782892,0.1428250132612812,-0.05978859693185771,-0.8412121447083246,0.7391638065108648,-1.102578578289345,-0.42905984774360684,-0.3578474399876029,-1.4916518711721407,1.367933531447935,0.08077564739175143,-0.48944117862504155,-0.8204756765453877,-1.5248912495843678,-1.1229270683941144,0.15321939536304888,-0.417277998926906,0.07695293028588639,-0.0617542617194571,-0.18469046880672083,0.005708215224674415,1.1703339552350878,0.12826400080824,-1.229888629845502,0.43574141458623394,-1.1007296588796447,-1.7529493340850808,-0.3954056004254396,0.417924945187886,-0.1621673079782557,-0.9548404622130181,-1.165286089084461,2.1443839429001477,-0.09142742715477419,-1.2655828940140534,-1.2122114067668117,-1.2127356232651203,-0.14476703847403163,1.327479184330564,2.6099096120676046,0.3067647085814626,0.016188283185045373,0.11302966895024895,2.099626785101761,-0.46492130939323745,-0.9510682553832965,0.1371358574487453,-1.5979292750827203,0.6270022069650841,-0.39055367767191457,-0.3999476254106718,-1.3040800220921303,0.4080140252037286,-0.20597524970251083,0.6204622970412728,0.1765909051763221,0.614997681860459,0.6120343554114412,0.08673710942726053,2.6047985394086575,0.7797278925600206,-1.0133903156215955,-0.7753071140189292,0.615339437106879,-0.6027783114319756,0.5895858638028085,-0.19740989420874305,0.25026077508823447,-1.7490762564187832,0.39099455598868404,0.9216882136229179,0.7937783229534985,-0.8466552700556749,-0.46041354412203317,-0.7050853644069583,-0.24776427702463866,0.4746405840639194,1.8015139753211944,0.2624238810433535,-0.8692840809529239,-0.3443830057637477,0.04889357052543875,-1.1547854895078151,-0.6527620684931577,-0.6838975668502939,-0.2873097416800264,-0.3855305122814716,0.23993764117796165,0.5930563740226202,1.0311559734413984,-0.3996566132095019,0.4534468894996605,1.469832230594126,-2.7634430838587067,1.0046181574433843,-1.8548080282400774,-0.742171725928069,0.874492405870071,1.6885665594927055,-0.4413437023251299,-0.6388217661867461,0.33883616272046874,1.3037707945996408,-1.5236283422224217,0.6297507058661238,1.9240236122045489,-0.4560467476939952,-0.7543022659651958,1.9220704590652216,0.4845832393304567,1.021181558695436,1.900416219286375,0.11623388628371595,-0.5309694478921376,-1.1195907437974646,0.08098796655206554,-0.20755010182545652,1.8097725288191953,1.4147749594979726,1.443980362503277,-0.6617160779851591,-0.582874828448966,-0.13533001571930975,1.737435722507186,0.30743549655677754,-0.7735358115438918,2.1272855526086083,1.197122994506877,-0.2935002710106467,-1.0204125943470828,0.20131698431358763,0.2593043364811785,0.5056084732738445,0.47822499399220614,0.8321996567041603,-0.746441017597339,-0.021444931466788723,-0.5464501060247777,-0.1975372616769076,-0.21353344338046973,-1.1120275994078805,-0.9262540398954786,0.9005961253413927,0.7412276609100763,0.3714989517837426,-1.0483294365616438,-0.5602046235257289,-1.3124766627787434,-0.13909027215616024,-0.29906970475987904,0.3825937370281807,0.025454210154518132,0.6821420851127892,-1.1889169174823229,-0.25591987901675645,0.826505069772817,1.4796528774158333,-0.9377014466388963,-0.6075132576097408,-1.4192007503824469,1.9766519461128829,0.0661188182651184,-2.234858024437459,1.369702004413947,0.4010555989448251,0.4345511468372239,0.2855351255140726,0.511512127891109,0.9829365805256627,-0.043628335020331845,-0.8514458689258614,-0.6042134612681291,0.5778383416315216,0.011241639870466499,-0.6936211580750263,0.5235415304579569,-1.0699746589592287,-1.134697356122416,-0.7687148702578516,-0.5029337927136683,0.1860479029959951,0.35650140032603705,-0.19673173705988062,-0.10430304565907489,-1.0087641425937848,-0.14624930825909854,0.26109822598452653,0.2863043150239143,-0.4851163300611216,0.9035820745372101,0.26829519409029196,0.11484069215881165,0.2849965811326413,1.158540155827536,0.23494831543594236,0.9436449359398579,-1.9577445568738303,-0.09192042914844407,-1.4019406335312057,0.10085345308759819,-0.5687107794439299,-1.7234727005416768,1.9547665152932445,0.11224532299528481,0.8381745058793904,0.8658579477686846,0.4855607802896385,0.09987058850674087,0.3330227733265742,-0.2415672357484315,0.030516165284316568,-1.124750605499003,0.4962549476805582,-0.571759786735856,0.2032926196320629,-0.6334643702767061,-0.7332382802658104,1.3620054434993163,-0.23542842230249944,-1.5763788888997534,0.8207976184715824,1.35235682672863,-1.0038047353243922,1.179539224644645,1.3790186562301088,-0.26952641770435004,1.9959508938992463,0.6444399910217946,0.6945503003313463,0.3167575811172884,0.6091773142829351,-0.0640747274228036,-0.4997218587387198,-1.3113985453929973,-1.0698346066853266,-0.4977143222330345,-0.494150888114294,-1.154695726891835,-2.1237139227971924,0.7049408808973748,-0.6575270073933634,-0.037868754745048964,-0.17115696301932232,0.7693678758256446,0.25120778740209987,0.05665813252451871,-0.7341796805084138,0.15516365186145412,1.6013363884413638,0.593768902414357,-0.582133873883208,-1.3846457907588312,0.14523604110935528,0.7156480118893636,-0.8868367083522594,2.026753986806863,-0.22138336115058146,0.034397595774648335,-0.9534095663972516,-1.2192675044097423,-0.8064841053115517,-2.0652255471321888,0.7834397069082545,1.0075759705625702,1.0711401963866272,-0.7002065600158883,-0.2525152263941168,-1.0007604138533408,-0.5596032727929209,1.0429656831347989,-1.4089286579789129,-0.09284796051202342,0.2985379649340494,-2.6316391106615455,-0.5349508336826462,-0.23290524907116716,-0.33251870909235254,-0.8831061028735983,-0.6652898933187674,-1.5223996958267547,0.5863906419723568,-0.05361207892733568,1.553169172095347,-0.20728284356943066,-1.0755866512349097,1.697357757476165,-1.2536777615380446,-1.9160371370920042,-1.1608332058538668,0.5044009741859043,1.1932532742645046,-0.10004632403967442,-1.1442405156135407,-0.32591627226948383,1.4734535311923307,0.26386154590796695,0.5634066093663129,1.341410282585341,-1.3034303206123894,0.31627751276003946,0.4578451206122118,-0.24086861418368244,0.2200783159036365,-0.36709275937305624,-0.13271319718363286,0.536340296879977,0.5851003101548564,1.047771117651857,-2.237945937529692,0.4354197046836851,-0.4780049610503694,-0.9720839674229693,-2.030452465194817,-0.35904308741953417,-0.15345179905989953,0.5229626173048881,0.8289847375749471,-0.8234317389097179,0.07398726034563333,0.27601059679873424,-0.6314856747007146,-0.6321743474466933,-0.20004550883756786,0.1232312746359758,0.5553918897168015,-0.7312573837530957,-1.0423692882462765,-0.8959552935431834,1.2866741987117563,0.27858081752209907,0.9337806722331731,-1.0262687526889929,1.1764934445174047,-0.20822299998502708,1.150379187253254,-0.787244173685121,-0.47999981808504294,-0.16148308992637184,-1.7137627789794583,1.1377799567577958,-0.05511228603370407,0.7967145435992463,-0.7307920928812159,0.44985325608320853,0.05635659251241051,1.315330694974713,-0.22874372806824292,0.09834078184500947,0.3006834797702368,-1.7085804616186746,1.4350466340535484,-0.8787939903600603,-0.5371833703804808,-0.22385265889789124,-0.8962029649286339,-0.7881720462393011,0.17981631323534508,-0.1824740406710834,-1.4367749483448256,-0.2144984338372505,-0.40829450402408646,-1.09200861762908,-1.4024984835056158,0.39387145631974874,-0.14293838464979097,2.0719945979132213,-1.4044066349554103,-0.3984217610828383,-0.07925040618393364,0.5964905677605798,-0.839657759664009,2.506992572279868,-0.32217673844266803,-0.76296426562482,-1.2905266350679034,-0.6761690895629854,1.3007070042776825,-0.44538936443020605,-0.1504890068445204,-0.678132316483577,-1.7016038385102565,1.44376348818266,-0.7106810800055384,1.1475925026379044,-0.2809011206293351,-0.10107439226966478,1.6370867299303806,-0.22291258375028558,0.47495270942050494,-1.774580471183596,-0.586526241542251,0.364680002815513,0.7018344986039504,-0.511400560683771,-0.6907082363971773,-1.3898669828311137,1.7540965673706785,1.3077761088449158,0.3820179590170616,1.020242056121743,-1.4084196896549743,-0.6869031007489854,0.8593920885072593,-2.084696003702122,-0.6820392485641267,-0.22884343541395802,0.11552225191027485,0.11053745834581576,1.5988099703947658,-1.265440678019791,0.45340297683325304,-0.6139675105981132,0.37665180544288945,-0.11647529795290289,0.9356071682941469,-2.155449105531072,0.21165271299658267,0.4082963360473591,-0.3372315074962779,1.5673790261437055,1.4935166240908393,-0.7430651653543807,0.11649754413639248,0.07466248865314841,-0.9687998894497774,1.9125316737962457,-2.114742325334127,0.755988368304696,-0.6811260141530389,-0.292035325038255,-0.7482183431126613,-0.31522118148736766,-0.4230245518417627,-1.9332629417588973,-0.8638843109099228,-0.33939471260734766,-0.6172979002369684,-0.6715344696250286,0.8788998205671219,0.15656619886502438,-0.7363594140587397,0.6160345589234624,0.6962036993478066,-0.3183467562690302,-2.568292652972008,-0.43701643276639557,0.13154897180443348,-0.3369678612844289,0.419709788325883,0.9951957737422454,0.24986705410405058,0.6921811891475402,-0.7197329330249448,-0.10713937190003424,-0.7618517138939468,1.3894422073442154,-1.4679013210092329,-1.7947364850123935,0.632818699738033,-0.8409277357130174,0.9899356587237872,-2.2071526152347216,0.5469141718246889,0.058112161401981714,0.281336900493633,-0.23300018710708773,1.004467198158206,-0.2040038309518576,-0.8112372705870591,-0.4742620383070538,1.5843892265445687,1.240426608900151,0.1467649327448839,1.1235948393478763,-0.6227902621323059,-1.3075617604041625,-0.8808785731419619,0.6109335708135897,1.4931768047967122,0.25012382239903846,1.4270149099753495,0.9198181546379772,0.3381244931335454,1.2092903414926068,-1.3451839748454641,1.4574564816887514,0.15900216453630764,0.5050943189370936,-1.287269144875931,1.4810375421149187,-1.0963281974187549,0.026457838581111982,-0.6367510950876145,-1.0419782431450844,-0.8320446570925812,-1.4375999326947875,-0.6434721163357823,0.09244454730902829,-0.5719264728357545,0.7871710251977266,1.0627915428783206,-0.4694822562350079,-0.05048627546942882,-0.8693331865902336,-0.7320611113282116,0.5694997616506734,-1.134304215236341,0.6476461034308943,-0.7222474731907352,0.5467989516330236,-0.16017455353578383,2.017735251503749,0.6015851492294754,0.11797323363242035,2.10751143710673,0.7688243109578753,-0.33799458752919875,-0.9059717356325719,0.5554222687663798,0.038498992911683634,-0.0896055594332062,-0.7757569465002706,0.4059023415400387,0.010481936179908398,0.9995838229451343,-0.3898561951939272,-1.2185134238437796,0.3361734085359072,0.47086555283823633,-0.7334566797960992,0.09938155744398822,1.1883053932769498,0.710758370979131,0.6846833981140504,0.27449086509841225,-0.9863979868766944,-0.7429001099434901,0.9532912824838539,0.5339477961677156,0.8129707127876835,-1.880052050795554,-1.7854300794723321,-0.3172582498279827,-0.6294971727493108,-1.0472051267461302,-0.599387208421141,1.0962368030609737,-0.044803782790095364,0.4380489436685633,-0.5325187951294588,0.6298285234379689,0.630171095334989,0.9302131303711659,-0.9827443150143733,-2.2372873138682396,0.5962110935032121,-0.4849469254650963,-1.1534871304876608,0.10520768456096655,1.5263374729251658,-1.3780144099463207,-0.7200765587748941,0.0551539497129977,0.5545161134418779,-0.9873471055047867,1.6829612421318139,0.5339792383771905,-1.076526525438403,-0.7972219240704097,0.6380894169546353,1.3483526220217585,0.9603910813927328,-0.11678204106448652,0.317859884271089,0.6537245190208754,-0.6573311595573303,0.06790920966263841,0.48676723280015255,0.8465285601775142,0.26997485939449467,0.47998528121628503,-0.38920416351672826,0.1288322479549278,-2.98505503436591,-0.04796103794822307,-0.21878099872880885,-0.020701624143153022,-0.9362628017337934,0.15799296308633695,-0.2634921051880338,-0.639086957340322,0.20234906931526742,0.2709296796888627,1.314442375560927,-0.7850317006093248,-0.6642893518160675,-1.9859369502772606,0.29905309574181366,0.5940380954049947,-0.11723507325117563,-1.4663844619877717,-1.4775710251952339,0.745289320369611,-0.7770717425786428,0.63495784054775,-0.6423461870171885,1.7556811575799225,0.25350510228445355,-1.6628940521099111,-1.4969035736862804,1.2375551673664866,-0.8517210302593786,-0.9627902750672842,1.7536158953982581,-0.1767046724719851,-0.5971397603649234,0.6688732249138578,0.9591430166293005,0.09769873045702035,1.0919826547023144,-0.8627958368472124,-0.3741936672032248,1.6176384088364588,0.3651339874479183,-0.30359416983673626,0.4416930496776868,0.23348586838626978,-0.0931215954904188,0.7340238958015425,0.6538673070060534,1.2815224869231419,-0.03435841552020093,-0.37109847761514514,0.1611081835369367,-1.1455528286846308,0.8085936716204916,1.5470278027734718,-0.4670863957545627,-0.6188974663253156,0.33087517106192893,0.5772872039774596,-0.7399804244921754,-0.668629523027817,1.3398859531456897,-0.6200778034643298,0.0032123160211170697,0.001802945013849694,0.1035991086347217,0.35058848799078823,0.1987087819238513,-1.656924316949533,1.421491090078848,0.1282426242001262,0.13243626631245267,-0.012459106515961863,0.31145898980401643,0.10915004696977722,-0.4447121327886365,1.6006362184857807,-1.0212038266868675,-3.0784715323772933,0.8853506685462347,-0.3149980129229866,0.015125723324167534,-1.8165783160439641,-0.2926505170800037,-1.036212502347319,0.7483152944023626,0.05158216237945027,0.09502909797198963,0.5445337731836806,0.6978803231586925,0.308243483583185,1.124646499352191,-0.9300028829456694,-1.748784756700256,0.05787976952421548,-0.5800284125400081,-0.7867173609093073,0.2686632744823778,-2.1926763119683312,-0.9189053965114147,0.9295193920490009,-0.9236208490191492,0.4694273010856197,1.9613482724466773,0.7551284609274787,1.0605657716659747,-0.5745985507268063,0.05055671745239344,0.14427663338869373,-1.031555615878662,-0.9972923143693536,-2.1470682482795884,1.2446501722283514,-1.1612487442285484,-0.2831506594987311,-1.7769202450148078,-1.6831831979522494,0.43988379925234194,0.6260323627865629,0.04638682549923703,0.05799773613565565,-0.5331432539023657,-0.3233499179857586,0.28483749166751354,-0.06815073379557532,-1.3271259679833936,-0.13390438711602853,0.845168418734274,-0.6012000586090785,0.38482964447767376,-0.08378877290542346,-0.7174903068237065,0.9711044488375481,-1.8409856338141923,-1.3010940749124416,0.6056214604854466,0.26068748833670047,0.8283318290753261,-1.5835704942148807,0.14825301020101447,0.42660734613341916,0.8535367664732031,0.6637448096805438,-0.24187938460079975,-0.48415314672714116,1.6082170754736995,2.0297493266478224,-0.11222837633127164,-0.6333486857400965,-0.8023809425292536,0.27529258073734214,-0.22657469602011138,-0.09020507978750551,-0.48193932159724207,-0.9251817080915974,-1.5599105406637646,1.9868240937549275,1.8262964226110712,0.16809557928903368,0.2521654945361544,1.5139658705445136,-0.5558488378148364,-0.6325948214187472,0.6343162097344502,0.9052883430135645,2.1040664950304513,1.154727005124736,1.4388424441473346,0.5942765634384741,0.19626479081842982,-1.1061771663571474,2.314806082168074,-1.203896907192434,0.49081749843530537,0.805157222058241,0.12003052925468836,0.7648887620398254,-0.8736819456784775,-0.8957343229957698,-0.7205802415254927,0.1790936357398359,-0.21234439573530378,-0.6485949332849897,-0.4516994937147761,-1.3595199635491406,-1.3235845848076389,0.980543960134917,0.3649476339770272,-2.037749926812055,0.5222420875513167,0.7782844068559986,-0.8182258058329434,1.3012564883218727,0.0644060343115089,-0.00033341715869483323,-0.050324777922867686,1.259351112625028,1.0215993709685935,-0.22608177674320568,0.09237971934658157,0.6567622220509499,-1.185113871713112,-0.091013144220472,1.0684940084255603,0.2395614792191904,-0.17737906333261302,-1.65779771309791,-0.6874760403732589,-0.49436444860305806,-0.45524753413708746,-0.2416880674490538,-2.0386172899161457,-0.38298539565454076,1.8944387555345652,0.5744708866565245,0.20106416294651988,0.5893619371234382,-0.5183354285773891,0.03794233307112121,0.3220828830478416,0.10908200514743521,0.04778039669204081,0.7781927764201252,-0.8275064655224573,-0.11111846101429128,-1.5648490021046195,1.5992120267601233,-1.4758722098127997,-1.9454958892581944,-0.9343110626749805,0.7687903189637285,-1.3211666070089978,0.5574989273413042,1.027193544610335,0.030734960328428748],\"y\":[-0.9190838198604627,1.3208421614135264,-0.4128026982370254,-0.09805950262092199,0.22783659232671127,-0.12826667903611572,0.7307578719737915,-0.12185368479077767,-0.7421189389761077,-1.2885479454233053,0.7363897981214784,-2.703582135752486,1.542266735638156,1.0879408844601044,-1.126332313387995,-1.5274376137785437,-0.8757186237795989,0.8553501600820327,-0.6478269524800769,0.06604108036550099,0.5692068075414385,0.29331448766878904,-0.00043148798337731744,0.2069239111382321,-0.8840690830823442,-1.3388497270250426,1.4061584919717285,0.5531940540834531,-0.10423188560386669,0.43968239495170175,0.5079542874015871,1.2163533831470819,-1.0919120854494349,0.06961338234592111,0.2949371853125892,-2.1064593525180584,-0.11382598555632704,1.023168960080993,-0.2213412340361104,-1.056470761287061,0.5133718141176054,-1.0882696717046747,0.19079289175176045,-0.2968754041142897,-0.1471281360238286,-0.33918431264713783,0.47699230235028633,0.24207632713272792,0.3897632664876892,1.5304340031829236,0.2918511922918235,0.0634194801645915,1.4241529257259655,0.5952517093764562,0.8788087113802158,-0.8793303713840498,0.5851648687100494,0.612533673873765,1.2274941629735912,0.5802340801383263,-0.7528915035905865,2.116800603474077,-0.15059547102093526,-1.3600907719679367,2.5125323669657984,0.443649309591613,0.7795996807030765,0.8415799362623042,-0.15010904789209922,-0.36828775747348746,0.3150050849227244,-0.7693772514183709,-0.6149625773965189,-0.4118058143422926,-2.6202593296323577,1.0281496266264813,0.06704839909682678,1.209200652105284,-0.18037889828320264,0.6224029376557116,-1.1254808274343442,-0.2503690699092278,2.644155534135086,1.3091229103539432,0.26172574747055743,-0.891116328412359,0.5991102029598001,0.6771904960724978,-0.020988822546128962,0.15930001950365028,-0.38183850937775915,0.2964300040220997,0.5131183422819414,0.33496771802022957,2.811659054844461,1.3184237387625066,-0.13347522257569527,-1.9749139978518606,-2.6588578459056205,-0.5354320233414213,1.7266417181865499,0.6150079501402652,0.3244258116179008,0.8505954507702873,-1.6025322951897487,-0.03902651669024044,-0.5134957953724266,0.8809101431772557,-0.08779389297783288,1.4813539635909139,-1.7436810199809039,0.03178895597149376,0.368132768709492,0.4535212345013096,0.10261705362852844,-1.0201267888688992,-0.5636742672058126,-0.19596326059150454,0.17347681865198453,-0.23847836460906094,-0.4007972899672026,0.13195240100612718,-0.1027961432187651,1.7305739697302651,-1.0636758617864104,0.9911592540718106,0.6388542525554676,1.0951037234858731,0.044277161766582286,0.08865233302369406,1.3145031104598877,0.1468046638791238,2.252954483340205,-0.2889736993443624,-0.2902652939780682,1.3905806399963354,0.3453882891089486,-1.1730568845035256,0.0987691441687299,-0.5495910596726385,-0.28303155697323584,-0.39964009723442095,0.5107595403469506,-0.4795924495974069,-0.575796556906175,-0.862272797755453,0.552687838743211,-0.8448372690541104,-0.1599682755144104,-0.6891933007452617,0.3468941129649909,-0.775309154191228,0.9229043163449177,1.4413234270070179,0.6021573175082413,-0.4428181714200917,-0.7774278612191078,0.9653353226580325,-0.4841241878236618,1.6037764598213193,0.7547891451214592,-0.12007891717127486,0.6032210944839003,-0.9925203380046574,-1.469904367309593,-1.2314695513821272,0.4430255589118849,-1.3970289250981305,-2.180360594608714,0.6695336663966711,0.022192202852247368,0.334533719462524,0.3534591280592279,-1.5261106607400778,-1.446927428374595,1.0314787580057254,-1.3992253338698508,-0.7689853086203323,-0.14480325787851475,0.18476007213427367,-2.371186451959899,-0.6973000549745526,1.2584205023613355,0.5790468202934219,1.7391791803271415,-0.5056965574648841,0.6420596528428021,1.0337691467507597,-0.2990396672439388,-0.2941923804075905,-0.6771055054207792,0.5252841447872568,-1.726065249170485,-1.765557747555495,0.3061181588659005,-0.6207856486570416,1.8077872769451029,-1.1419897244937076,0.8436106015753999,-0.3959149221851877,1.1049120497088898,0.11587714478147093,-0.43031053725774476,1.4067279909332617,-0.5710948223128953,0.9590823106828312,1.145444380603691,-1.0936307262214235,0.9142808882595049,-0.7991942837620366,0.9485661634097291,0.8178082938789536,-0.03919239288807832,0.8676899395602234,0.4121600599536054,-0.7229526379323878,0.22666608202430008,-1.676717584964369,-1.9641527504528773,-0.4499825647771574,0.08851908423956194,-0.28857126492669744,-0.9875462678829983,0.22021103055022787,-0.423420082103694,-1.1898755252482807,-0.05706190738107156,1.2134768548711712,-0.009350637255166532,0.26848066081817606,0.0035595288021151496,1.7065412716581165,0.003778101473982306,-0.5829228888327331,0.7251138691438007,1.479127012217987,-0.29430713306023354,0.8493228275755248,0.11162165694391979,-1.1419274506254986,-0.5336924536882639,1.0258682259985012,-0.37721827096926125,-0.46257251475585115,0.5064545815743492,-0.8997359191334501,-0.25207627929674,0.41441711956586896,-1.6185043262513517,1.0949647992450877,-1.2604758781630034,1.7222285523277816,-0.10846918195684149,0.1892466934220958,2.026931948758712,0.07395147479160152,0.10185753756285938,-0.4315318027179303,-0.38594958760562814,-1.3219597873819473,0.5683441163567255,-0.7367657669223198,-0.6996308687616174,1.9243511381165932,1.6237443943871945,0.6578950842178866,0.7349231890581664,-1.1133568403377414,-1.4508224422529497,-0.31104376974601705,-0.5019988787340817,1.1052654773638482,0.7672283608642183,-1.1144301098806086,-0.6227892873223291,-1.282472414536918,0.5081435673790563,0.2802909630020107,0.38648671684393177,-0.180609410578509,0.9749438395102497,-1.1349578919328402,0.09025355479105375,0.5726349660132358,-0.12616393125181186,1.3715964052142553,0.8265089761707926,-0.33798352883728605,-0.5889942235635908,1.784651311888104,0.45188261807942437,1.4081148492415212,-1.1031199763152448,-2.3175429073963913,-1.909993352960287,0.7222121935832364,1.251994430879749,0.046524725970339804,0.8866198195390603,-1.7959422810181522,-0.7196838940382011,-0.960395760034302,-0.8485904139091682,-0.9095024712971806,0.49953606317335747,-0.46720463896374054,0.1056017946392871,-1.2631783463960564,1.5887396419861926,-0.6011194193551176,-1.5478430384162694,1.7100826651898537,-1.0826637701756565,2.534569342982177,0.004139302195490077,-0.7158859056827457,-0.3123537449348961,-0.5191856154548136,0.32368842815531684,-0.8509136207024323,-1.6936924312137853,0.7959894078451144,0.28787593856180055,0.07451948565838941,-0.8617578301333116,-0.6149294302758135,1.067652260589054,0.9955749857998706,0.6589302507121261,1.5545178564224027,-0.8943615952668982,1.253492424138465,0.10406917222314199,-2.1193933354436583,-1.294801173194879,-0.9053353659417995,-1.850901168801077,0.8867327314921124,0.7211543537842108,-0.19286196825064197,-0.8885648184296939,1.3290258783640045,-0.3083245551154958,0.10153709253383189,-1.269836900083992,-0.8582965855701333,0.07858225933440682,0.1273421232209127,1.0838430413107143,0.31545948509382704,-0.5708318827141802,-0.714365423920485,0.8474873963505086,-0.16885664068030154,-0.5714586807663435,-0.6257144409836634,-0.7115508949781875,0.10445116642841663,0.31705455185710757,0.15987403723600827,0.4129758761795959,1.8062729333103495,0.2657486951162724,0.6684438475551082,-1.4257012563476097,0.15073041123632389,0.6864356281975015,-1.6154665881600703,-0.213201845307358,2.355659862013952,-0.4253480226750238,-0.5761169360925111,-0.8602308033952698,0.7516786218886614,0.49414644043254013,-1.4715142331806816,0.9998022703200812,0.18204466450342455,1.4943065310194477,0.0699299901533018,-0.792990821714386,0.3417485719773871,-1.423976337284603,1.0797859146302573,0.5897872705561874,-0.5991460944536937,-1.3046433014007777,-0.8440935613983778,-0.24683059851521255,-1.2362560064997716,1.8332028206396291,-0.453607417095177,-0.8025444975759223,-0.5417832679501302,0.5777742054653972,-0.12080485912038126,-1.5917005619887314,0.6040841333868657,0.40730869944573994,-1.5836683518248873,-1.481159318516843,0.209620924022113,-0.4983717876852801,-1.4506712685398169,-0.11719363893880139,0.6946168770407505,1.3393264840742112,0.8946522335005045,0.34437876271366313,0.4826670327581724,0.6352078469529134,0.0047934710429133704,-0.24232302040612172,-1.1367677115398533,0.2655214564185806,0.057926035300451366,1.7709323469721525,-1.2409033111923469,0.19500975927052885,0.25573010914355127,2.2553081596775777,-0.3905226571677062,-1.357343632011541,-0.9903120150724437,0.5154069827048464,0.9279237730362255,0.7351947496087168,-0.6012306280713811,-0.3886139131915235,0.14214964116848502,-1.4578436457836026,-0.3207435767448378,-0.8556872975540849,-0.3349077777040119,-0.5200357494405969,0.10544061647848334,-0.2609224946974617,0.1094958055263628,-0.5617364396369902,0.2915744804435018,-0.014223956079919773,-1.4463439936071203,0.8810956580696584,1.442344125009558,0.7854817618813718,-0.0856032052460315,0.305091145964979,0.5090417450671306,-0.7256326637634312,-0.42754512554043617,-0.7707859833806974,0.017188152479012248,-0.5124902307681036,-0.4658906399781594,-1.7036847560674035,0.05646908963882141,-0.21673243197648231,-0.3459406321085718,0.10928927333688823,-1.681897777471505,-1.4954265431875824,-0.7750865063565662,-1.7351796870992897,2.148632041429172,1.7821321685278335,-1.0125153059415497,0.9700054365278958,1.2927064092233536,0.045097978875855906,0.6337421924053852,0.08628796033904579,-0.45701767885787764,-0.5295748857585934,0.19527537130427408,-0.7147667205232406,1.073734104388608,-0.3613684057301627,-0.9584422215593563,1.1027610522146705,0.5342940351878437,-1.0404103856110758,0.9859499994037985,1.5232240767865286,0.05252742618661555,0.15853601359746003,-0.3542370013071206,-0.6017117164139001,0.23131347861708215,-2.906762848799527,-0.983038608591725,0.49026307182762435,0.002858913563669518,-1.938848161963451,-0.9556384255402529,2.253694177285718,-1.1007225965577512,-0.4708937258191323,2.4765723404547293,1.1061849021974302,-0.6659709739070409,-1.4248388153682354,0.8096886456390897,0.5776460525858258,1.3253494098318197,1.8497207409175995,0.8250992654579072,0.2827936309370265,-0.07191512810826352,-1.5095030810645296,-1.2787884853804306,-1.4689091681097868,0.8932036880682473,-0.6351972963819915,-0.4790343677682761,-0.22914538917645685,-1.80938888963836,0.384478019290561,-0.4038422061364838,-1.0967726871681347,-0.13958477717897702,-2.5460830542973474,-1.2795766787621448,0.9846395658704735,0.9905890440952596,-1.0420886637593518,-1.177368349939541,-0.6303332410963604,-0.35454261676198945,-0.11177217085202276,0.3616427303242198,-0.22408640505862032,0.6547052258497151,0.02496679990372069,-0.19774555210993264,1.0789517365198518,-0.036990844437467287,0.46234388532028436,-1.4512970133881324,-2.4588631871867155,-0.2549800390788698,0.9892466474994661,-0.37404177375887077,-0.9523645866975897,-0.9033756445028812,0.40194729957225345,0.40212208807738586,-0.03829723129043385,0.892192246186004,0.6870237827592334,-0.9427874886131811,-0.5357366860066874,-0.4470017266512514,-0.356733300044032,1.1104057492575918,0.9579306509076397,0.3514129549527874,-0.3889098091079763,0.057617516853668345,0.9599319791751196,-0.589609178020985,-0.46250881320034587,-0.6533992640001011,0.45851556314121655,-0.41292018851897705,-0.489750360248884,0.712539515475177,0.7827401560898991,-0.4965657784278938,-0.3715692763947017,0.3432344229217201,1.107611862716346,0.9195823089824388,-0.8277864720110776,-2.4003262428655083,-1.5439311962907838,0.9883750463388749,0.4024263342383215,1.7712908761894484,0.6342192252882459,1.205828646054021,-0.5528116238310439,0.03131483558776788,0.22258760703850067,-0.19805723165706757,1.0829295643705483,-1.4043369380267239,-1.8553818115153446,0.48859801478603115,-0.15553551214941083,0.27897404848085544,1.3538032436126153,-0.916830878579308,0.8447626420301168,-1.357348477341707,-1.2466696884514392,0.8644654686742806,0.0749486928832397,1.3109200007092692,0.02398349450405295,-1.040576304745086,0.5554697210227029,0.14560278626053783,0.2949855827965243,0.2229334307777606,-0.541470857589659,-0.39898723422741317,-0.40169481601627516,-1.9001931906945841,0.4743132122509133,-0.5484773572230562,-0.2881761393618988,0.8347570057207555,0.5703902523580898,0.6920429238943301,-0.969811519114877,0.46128375228422525,1.2835687295541685,1.8792524414126515,-0.1461013023123789,1.2428043364620536,-0.37258198334141607,-0.5434868802208276,-1.4373071049775914,-0.005447148548775546,0.2687360366124685,-0.05542184013087273,-1.1502088606254184,-0.8026997798970874,-1.2635050511545924,0.364715506253113,0.8933330161569839,-1.7003623580068103,-0.4461170266603634,-1.0283359658778533,-0.7718428879871304,0.0764021413100514,-0.7058931871810455,1.6035507207398345,-1.116604735165188,0.45862208463146564,1.5577897767306923,-1.5264539524572776,0.035921816604453004,0.8314806839939125,-0.7836286889819074,-1.1957461231271251,-2.7182665788141813,-1.2107192270793572,-0.48902927114681705,0.8749051793587835,-0.6446122967109112,1.0454590894944809,0.8838705603705096,0.3765940952544159,-0.3114530000318667,-0.08111223229582874,0.23768764770891143,-0.11780774533349218,-1.5020739826955085,0.4570967179792009,0.6047121427630515,-1.5773641345829148,0.4948151728521615,-0.3068774652475723,0.41014791507813453,0.9709433116245071,-0.3247723240842189,-0.061985415774728575,1.1393876278415127,-1.7245076469871818,1.4455298550914393,0.6939784470407242,0.5177170624092512,0.7982038333779933,1.7553488961419113,1.0442599964728791,-0.27084272992086245,-1.8943442552675571,0.35194095861884084,0.6519203358246544,-0.4471294484024219,0.7431766185560358,0.985165394515105,-0.3005573117989929,0.9666851189213064,-0.40960164196783816,-1.3838429060908775,0.7638370587565299,0.11428040781426321,-1.034437599023973,-0.41035429846548166,0.35655970043528984,0.7122032712465804,-0.8504106730729503,-1.169400946791193,1.5692595316495763,0.3658220411374863,0.32301910474313583,-0.43766650802757684,-0.05376274489619832,-0.1766545772332382,-0.049174221025238475,2.512777244879293,-0.4744110676849834,0.2788752493741063,0.22492055773831973,-1.6604878995165007,0.5153450520537233,0.43180450764416806,-0.7933676061535674,0.6832917106504947,0.5545874522949156,0.3642373517061653,0.6522482261539073,1.488592366697961,-1.1821577737174425,-0.8424929902554137,-1.0476749093434243,-2.2040522233629125,0.571657843877597,1.0564067144286269,-0.7465901276496598,0.38393543654018875,-1.5725926441474396,0.2273723347611945,-0.0879688575777503,0.3850256418536166,0.10769288254658015,-1.4656375912714004,0.43130569284371517,1.2837245273307296,-0.007040050126154018,0.4501803787591195,1.0739588979671044,2.0293264130109185,0.2594437166071403,-0.22545789737420704,-0.825891508919521,0.5974953086540744,0.24100413759274625,-1.0923811659588947,1.06501495534091,0.5851615259383297,0.7006406428647016,1.9250307545696348,-1.631865297971302,0.6656756798147743,0.5828618503978498,1.598299263122417,-0.4229091405101068,0.045829157234919225,0.06360284395236657,0.8915520432363577,-0.93517781724799,-1.0543990421113847,0.8053591690337374,0.3180421858448654,0.5673445952386696,0.34849231611750403,0.8222775080193253,2.3388142268531578,0.3371316929477436,1.0363513081481759,-0.1496241901613579,-0.20413836388575693,-0.8471228185638777,-0.7760827421436415,-0.3218223385211875,1.0091578149774816,-0.25834833583199207,0.2661188374595707,-1.1548300538220972,0.7508880563459432,-1.1503662019416756,0.7451633533914122,1.0524924220179368,-1.5485893756575455,-1.2922505495424588,2.6281483703467656,-0.5839490370365567,-0.35785797082255344,1.0402376533827982,0.42354859293729524,-1.817128806738012,1.166061268238308,0.4165507853566917,0.8221920026653967,-0.5888119796713812,1.4762559182896213,0.932302872332593,-0.2735223410667564,-0.26480895789133707,0.6888939054894949,0.1260646795370393,-0.4488500919277051,-2.2019659953984188,-0.11349646953888876,0.013461083938828854,0.04231148257093233,-0.05818491430589912,-0.0695807473212561,1.4886601359767981,-0.06962296869816101,-1.1086159826225772,-0.46091703672558737,-0.6497905526109407,1.0962745982786115,-0.4576623053621756,1.4654451578115748,0.2507942125573935,-1.4330840758798122,0.6803057765056542,-0.08743861881141839,1.0781711853987546,2.0309550932493665,-0.5712851574856919,0.945201339919042,-0.0999643304495272,-1.0327288798924492,0.318618328393027,0.8759372045985067,0.6155570633493237,0.6284415345280924,1.4880737483640445,-0.39732118805852046,0.144131098629642,-0.2809742938942254,0.65418058318633,0.8266132287619544,-1.0009005372304325,0.39046207601102734,2.2755876462678386,-1.2083742142192018,1.047128992732105,-0.1425865211428286,0.20302013689642454,0.2654175120886378,-1.8057745367496159,-1.9691893280859836,0.06371335244625882,0.6002101689222247,0.6340152140340594,-0.6364847132229654,1.2979265220611487,-0.7518976571417426,-0.21637483911048483,0.7701314136195875,0.6979609516494675,-1.2582000276018925,-0.6037957738043507,-1.3997136486008135,-3.5404119731800376,0.4039694493724574,1.1849462196995513,0.624908492941061,0.016494047772423064,0.2790805813885961,-1.33043614303372,0.23119423062849548,-0.1478152045461757,-0.7615528453872643,0.6360614954483269,-0.21536177044083274,-0.9397368027691114,0.21458028039722424,-0.11515224616222937,-1.2478050527242532,1.1918007406106514,-1.1249877984056262,-0.1379401931109072,-0.28238374159025564,0.4079441467460013,0.02774708600048291,0.9919496245143339,0.1723627109390814,0.3671230304774893,0.08450869628628245,-0.0762492166093508,0.5062734685475629,-0.7647906431974482,-0.8852482416235058,-0.7644952736887067,0.8832248587847001,-0.0014810385041499929,0.5631416566946356,-1.4290122407970849,-0.16480188405883517,-0.5329329158799481,-0.806673976053208,0.5689473276441708,-1.225951882782016,1.9189751895859914,0.6813205999383121,-1.1976835213176276,-0.45549334698222,-1.1866662182676353,-1.2802388674091891,2.131038636708258,0.6694674373297702,0.012990348447588538,-0.6561058807221581,1.248318595426435,0.6552772623224052,0.6700588367809979,-2.762558130884367,1.511126878780515,-0.67319369074023,1.2462297003148122,-0.2430793759137185,-1.9610058419635312,0.6979963327084523,1.89716395639147,-0.29424116735508465,-1.5033187528531318,-1.454242724289921,-0.7304006274150527,0.02810977127831086,1.0295595351220383,0.925016965365241,0.14867734837211424,2.7540147006019575,0.6447431051000309,0.48707951121997317,0.9343008647922484,1.0775665343501852,1.6607137076568659,0.07553068081186605,-1.5976024219384162,1.3366070110162804,-0.3566927910572487,1.0588513505192516,-0.107085317506338,0.17600261320367644,0.8692087362393793,-0.4287231928028051,-1.222430115237249,-0.585995212013645,-1.3424441614563032,0.9806855438279289,-1.5991001016154451,0.18896286681191976,-0.8822983353930014,0.7115238294946147,0.4032703192624475,0.27160930054932386,-0.5411915655108741,-1.0813426661545043,1.323945189962163,-0.20270268623992332,0.17049856859682214,-0.40752273774067854,-0.5404017074391128,0.7956952389316572,0.022402119770925284,1.2478053314519193,-0.13768116848580422,-0.28692905502648036,-0.996021846170004,-0.8720639976637142,-0.5232088502923492,-0.0337488082097837,-0.7423882386179099,0.25005681443933675,-1.064574605707507,1.1243926159516657,0.02992748259830223,0.11621203264293686,-1.6451023725749252,0.49735571810256857,0.3869604755186404,0.07198045620655504,1.7623730267299893,-1.0499643862803925,0.7486211845686301,-0.3954388751664263,0.23883666621563016,0.5909202641873934,0.5799533349531607,1.327450617819819,-0.03883420153819895,-0.10999122269710226,1.3375054631598848,0.2084412048005676,0.360463706221893,-0.29671329857646,0.551346247866094,-1.4727241808051565,-0.42452768995775597,-1.637955364456447,-0.24840606690466588,-0.9860822858150037,-0.5634573310767677,0.46819196905988875,-1.066164957190505,0.8224024972963371,-0.19639260610504441,-0.03978045841442449,-0.19271931087071054,0.01974378474698242,-0.3268837356281862,-1.3716759046857208,-0.5685498565631283,-0.45013827026332276,0.49749097351926524,-0.38375620122043974,-1.2262510803403623,0.579447080200313,0.8359102016028573,0.9152510284464866,2.0941864447953136,0.024141768721826634,0.11092521301443721,-0.5160157711865384,-0.4992101251597045,-1.057382477647116,-0.9785038907518596,0.5937975324442611,-0.06232187016268903,0.238428353282157,1.07633677733881,-0.6904392395091069,-0.2700807964007605,-0.8368326629788155,0.16856031903234323,-1.8700698882650142,0.29753789116175805,-0.061709318277751966,-0.5172133079452155,1.6544954399655796,1.8559681533761174,0.18241678059783967,-1.1701332266036744,0.48780915567974314,0.015207353741148531,1.216802334548999,0.28793309477911405,-0.8378158839789726,0.6302109316931845,-0.18103027527987314,1.584299443054854,-0.3045563558345789,0.295482643312569,0.727971061332374,0.1530384618120578,0.07176418230072486,-0.12741508529147785,1.0566060284381482,-0.2889011054501259,1.2242844841659566,-1.465107339600731,-0.20016150096964974,-1.9778316005274397,1.7458534710897746,3.1822025367922007,0.22628042098591838,1.3500752710189363,0.9052834773534703,-0.3388086352751587,-0.5606463530616672,-2.0680816810539993,0.06788347429866178,1.018813756824033,-0.4274676686725206,1.3980746508150645,-1.47121686418231,-2.338254637920864,1.046621701523665,1.3217650569622883,-1.8862869566841902,0.44709287568447015,1.9509829185803562,0.10847068998941178,0.5686797907168198,0.4595523842051956,-1.064359869075884,-1.4077586088761298,-0.32725377596195804,0.8590272102266283,0.6547664439059764,0.7463511611078468,-0.27988425626379265,-0.5277101978416918,0.2478495577624007,1.405778722430837,1.1770642137818628,0.07256416036394003,1.044179821066277,-1.9721182371534223,1.1383607059394154,-0.19210823824298628,0.14782734107348158,0.8997612861156681,0.2871980762796133,-0.8006082079748861,0.15511107544308442,-0.8627969231074532,1.1598712029267808,1.352549651873356,0.1362059927358401,-1.652568847451319,0.383663958237778,-0.5312894082237718,-0.0882672058092996,-0.6662286355172073,-0.2623043065427486,-1.6195941214789662,-1.6127222890261077,-1.394057378609335,0.038291502579429454,-0.4101142237461424,-0.36671099402146823,0.46370310495590455,1.8645668279207486,0.5854828609041931,-0.42757937930446593,-0.8524991709003977,-0.11163427159190524,-0.49418853645220717,-0.16019117105498354,-0.4495784687760963,-0.9906218808287001,0.12432862270476779,0.6157896761690493,-0.3002710216334505,-1.2374209868749595,-1.0703486529116852,-0.585974047937012,-1.1359917543751419,-0.5333051675680712,-0.153416688700053,0.5381575454368479,0.8345581959227805,-0.767018462388328,-1.537313741019269,1.5790387175165284,-0.8977033199996987,-2.2955312364255955,0.703191245819965,-0.7955305142501717,0.19185868181185864,-0.5283130398930556,0.6873776356353567,-1.1376618459721106,0.2158462877285708,-0.7406606913991296,0.08166007535828562,1.2912126449811667,0.8651554807159405,1.2608177197390047,0.197535234516562,0.19942319482281776,-0.21420646581891783,0.11872410708402067,0.3555878905907472,0.5304652014965914,-0.35723653234747055,-0.4819848910137972,1.0811535586965064,1.1870645268577606,-0.043411783676667835,2.2879482243975473,1.2316395380770306,0.9127830757683028,0.09908484200027597,-0.45603647966077404,-2.4328439357930653,-0.3777198150368638,-0.377334950089107,-1.159753200804004,-0.13886158340269167,1.4165777918321698,0.7541774532617415,-0.19745678983455947,-0.4531621929288135,1.0286967054122556,-0.42025201515089666,1.1193712111310319,-0.013579296436470914,0.03332375617796069,-0.08960929773937572,-0.43857791958460784,-0.8081858472257779,-1.24632922123619,0.14087858573389556,1.1638406728308526,0.0544653270095516,1.8431102411909925,-1.1378229678288854,-0.8549734849626828,-0.3343282856659249,-1.3382815367460494,0.8156217638114952,-1.5372492638051554,-0.9239137663934769,1.0624187581236164,-0.010491924240471422,-0.8968345202800773,-0.5895057971122615,0.3950612740757721,-0.2017182335945794,0.13235856968211474,-0.16227695476170892,-0.8784557653330104,0.41009306495617415,-0.4444664942416288,-1.0199198395804723,-0.9853389514684586,-0.17443564160303013,0.7273875290181456,0.6482677276274367,-1.6912310344417154,-0.26883065577762316,-0.1101761839011304,0.5347307858078547,-0.7108935535183962,0.2417167665809351,-1.4910466594966743,-0.7547504917208469,0.6478490266419618,-0.8148007911198529,-0.2286298854893602,0.12928327189151662,0.09768009344221958,-0.059318227787946064,-1.2279034985299258,1.427709180258051,0.5454007857558769,0.2807516899663241,0.031811246732839006,-2.517582897942963,-0.37169776120132864,1.1683969028366554,-0.5002566806002757,-1.4496474860253084,-0.011970399076508762,1.1518792936454731,0.13648136963329496,0.45686741334382147,-0.871066664070265,0.3005131019560846,1.5047585823559928,-0.29459769656407453,1.0986429161309124,1.2403022035010762,-0.672144268289416,-0.02585406106101689,-0.08263078754596602,-0.3240285248179066,0.6797162751697114,1.014254521068074,2.018235247808883,1.337095301533968,0.7747953453716127,-0.6101765762785164,-1.0065320651144758,-2.14664575021958,1.3987789799363384,0.3776091062053355,0.47226150300868047,1.7642122303802121,-2.9881958827111923,0.07674552725191519,-3.018284635904598,1.3157118192929016,-1.0158011132094888,-0.44806532415538025,-0.40979631725809246,-0.10604090214440666,-0.15377662185425342,-0.6113739513429872,-0.2525170057680976,1.198099422010153,-2.420715455383342,0.05736985280675883,0.8524247365454044,-0.9361248636804387,-0.27815162171618035,0.1473474927482495,-0.3249765981028664,0.4940282568531022,0.2557091931621439,1.3294064021249525,-0.06435786162145622,0.1980932492675745,0.423813351672523,-0.5932777527547431,0.9100223747429432,0.026495844266443764,-0.23828251847194465,0.8082253637802638,0.6934870270778067,0.8634196766139736,-1.2179010676002897,0.2834309002876337,0.8948956744877656,-1.30356487252695,-1.2968330274118995,0.699827405044098,-0.5331209298057771,0.20338286413444792,-0.09483256367543029,0.14487478677465992,-1.145956468906865,-1.0096489331342522,2.7235810478288496,0.7230798762210167,0.36637828092645586,0.3824751444012189,-0.4771753148293888,-0.23880788152758672,-0.23675212947117918,0.35450495900878654,1.3821257998586214,-0.21801087105219963,-0.23892188708736517,-1.0820963995637012,1.0353922554972796,-1.6753925619126213,-0.14586308505643314,-2.6932600334091004,-0.3966076514227479,-0.018171523206488415,1.2982766268916575,0.7977117418471062,1.4796251459723333,1.5804102390628305,-0.32566714943985337,0.7505371939330214,-0.9676034039161822,0.4547238158524972,-0.9912449985687016,0.05649351754155199,-0.31264221355266264,0.12439089321526037,0.41215756303026274,0.5310076219750527,-0.9260673713953751,1.922537315499645,-0.9148390912502061,-0.7522921431990193,-0.4062041221624942,0.47152002365519685,-1.4769332918988862,0.5869056511492168,-1.6605351458110913,0.6709769880285684,0.8718040345163046,0.9855255065536371,-2.088038722408449,0.3190891545528441,0.20903181242053206,0.945422707389203,-0.3501446073833473,-0.09154883444674115,2.12346888729147,-0.3351270960328092,0.7462405177150161,-0.36930048550444405,-0.2798185861142901,0.9079362331477797,1.1054251822796346,-1.0485748590921795,1.068617672045287,-2.468951667910874,0.5258409661781563,-0.4625587366913264,-1.0413152672007193,0.024813044674829244,0.6868064855978327,0.6277295452076832,0.27567176630746476,2.0877729810932837,1.0425996429059985,1.7217841884667608,-0.5366654966063733,-0.19581923950357494,-0.23866576704590703,-0.05784077101888566,-0.9435487477342211,1.4426515707431526,0.9951322946771781,-0.36406404128696335,0.4415320488567082,-0.7881163641659811,-0.8141730837136472,-1.1718480763681731,-0.6643078461282697,-0.11733264045572266,-0.29061381793034946,-1.7228143300980678,0.7934230028875502,0.43867826335344506,-0.6051760563097341,1.0222469289762326,-0.3590358266065542,0.6029898216266133,0.58834540267267,-0.5801792495615153,0.5133984566568032,-0.5153840616567436,-1.2622263599582197,1.649597881496929,0.3881510792077216,-0.9575780211474415,-0.8939624270717299,-0.16457063543567355,-1.7893767977147026,0.06507411063282174,-1.8025418119814671,-0.3845359307528859,-0.729618113050469,-0.7648288385828927,0.6705221959606151,1.058661733061116,1.4781451681681277,-0.07667306205752887,-0.03123248711665538,1.7623392524895678,-1.4414653605825212,-0.16321372779559354,-0.07618430293113614,0.40647997283127024,0.130631013653203,0.1412683164846294,-0.9454678485895891,-0.865314198323327,-0.2736292804155548,-2.3366121461734335,0.014769255692546546,0.14481575590245874,-0.24469743133561733,-1.086427634816239,0.2955953775757649,-0.6995019150584614,-0.8604472478866654,-1.741050926342162,-0.3388796173368562,-1.540069325496402,-2.02787082525411,-0.3324249869316638,0.9203942886570539,-1.1366796452181982,-1.2452711274407107,0.0006520532636549648,0.01504875922487291,1.059145727866162,0.7762855957362111,-0.36253642215984094,3.00385873729103,1.1123871261755174,-0.820516357128807,1.5439679652032468,-0.5554339314828479,1.1509472927009865,0.4667558783306509,0.39448232280282536,0.7288443550849253,1.2422362143422627,0.5573006874833207,1.4451520579821087,0.6477289415419428,0.5303052398992534,-0.20627868041452035,1.0852079544596696,-0.11758888739497139,2.0710890789675536,0.8917822633743847,1.0899248289432053,0.3540083049129394,0.9282122798472323,0.02865672495855394,-1.0058956138737485,-1.1237709738760522,1.0619807975238094,-0.03827497216950371,-1.2921167368719535,0.41840610349712354,0.24814237919549154,0.6797805962211205,0.11144893666066132,-0.7906836702283669,0.22164622176480214,0.6394430440757211,1.2411997974313007,0.42444111384412153,-0.21835153040523594,-0.043422788517753025,2.4127660496483623,2.2279703863208646,-1.0188109861730144,-1.5145927934645405,1.2249630386162071,-0.0893860335959736,-0.6320540125563787,0.20254469056977834,0.022586580004581375,-0.5243610568303415,0.4818453622373488,-1.818257561727649,-1.0707243909997135,1.6968133318820793,0.33720913309035466,0.9000673515602935,-0.2152696875763765,0.6785610547951081,0.41729511421917415,0.17110126745244184,-0.7576757467931131,0.6879334611124126,-0.45983576214690014,1.7200359673199308,0.4883687215660006,-0.2992335920157859,-0.3806539164536784,0.7956197664196519,1.473372125373202,-0.24988466418268568,-0.7416900905218365,-0.8009027816397831,-0.6177135224953085,0.03764642560100799,-0.0793794115301828,-0.6415348749009123,-0.9337066416328765,-0.8886144270593828,1.013687296671459,0.518101497290956,1.053095716178292,-0.4793046989333108,-0.52303421818226,-0.20397210955979628,-0.8912648384610851,-0.7610292850453448,-0.07233713911549328,-2.1779557919587766,0.7540145064329692,-2.3952079560729542,-1.557477274393798,-0.502860203595678,-0.7714820366389086,-0.6368147910938273,0.6318045110592021,0.12816783099637666,0.11756364654559202,-1.0804221872349196,0.8550219136763243,-0.249344409167404,-0.44081425484276976,1.1369420256959961,-1.100784246902189,-0.9117025052569999,-1.0552884196993262,2.0642621132985712,0.12386573719287677,-0.4238814759623262,-0.5995193570340916,1.537654266898892,1.2343167212352395,2.519816136513974,-1.4282939131519876,-0.5194194639988508,-1.3716560617631608,1.0498666884355818,-0.03129516050859914,-0.015152988481458523,-0.6393602445613116,1.0064754888186922,-1.0855812088101455,-0.20577457746611566,0.020745779421440715,-0.9648979391287349,0.08636095506858055,-0.4713232620442721,-0.2116929818884058,0.3762900942065543,0.5161170554455505,0.5724845539367599,0.8189132556559467,0.6982524046595566,-1.447324888540125,-0.7024977873690387,-0.894038138976911,-1.6935893079408322,-1.0543169686856073,-0.4561975729323769,1.7187761478349315,-2.390467922354969,0.696973888374147,-0.07592491929435641,-1.1526784446417149,-0.17378625767910869,-0.8482797412748987,0.5227824357395531,0.9525671494546794,1.6023983960463748,-0.4096752162102867,-1.4033909742353932,-0.9649027927822695,-1.4727951564869444,-1.1103781777160806,-0.4748280506920923,-0.44464445874463165,-1.7217992022509079,0.034544742458897035,0.9386810926936371,-0.8434960500415332,0.5405408008693879,-2.36575957205908,-0.21253300776565776,-0.9220246766252007,0.31635447753489715,-1.2833128680556845,-0.03611226992135713,-0.5034807072906776,1.4320044230573934,-0.26730960258752956,0.34457727242828695,0.009709703440878579,0.3587208036644048,-0.6728878662321977,1.5178224070225865,1.4454113713559733,-0.31426783227779237,0.3591922506437417,0.6598433257170686,0.497301892296288,1.3051410132296457,-1.042690423169446,-0.2970379821086623,-1.381106388002623,-0.17047672053199373,-0.9204266691044205,0.9245476558133714,0.28199660509657715,0.059900653720408384,0.29446622612577306,1.3778209798632504,1.066065112035847,0.37844960415651435,0.36435211087697794,0.011744087254896639,-0.19202151864308722,0.2294170231365576,1.0381983042636365,2.2167308854718852,-2.247052964715862,1.0374044150962787,0.38287830046628707,-0.9680508272612783,1.0547006629388957,1.2890226944748258,0.8273580085283452,-0.2061636454674416,-0.979075466193238,-0.8713020761796477,0.12213704890551941,-0.3746903629452642,1.264929640533172,-0.6830819704594638,0.6175498952238551,0.8022505904892878,1.565418527001438,-0.19711300401269202,-0.6576877687120064,-1.5024549449194384,-2.3725362716036846,0.0812137624025922,0.6381418515135018,0.42111259622561514,0.7121869298538384,1.5818808366043657,-0.11736411268335468,-0.39020123247005506,-0.902768251549054,0.7779432915696638,0.6537669102497505,2.0194608917821997,-0.39286139351498534,0.7712755637547347,0.26786319528271496,-1.2490630879873297,0.9180627037421818,-0.27194859296127605,1.3407490423845638,0.23556226172283967,0.5825492501880999,-1.3165207595914727,0.313268045719396,-0.897776812061626,-1.1674660699838701,0.12145962846947306,0.04641529229996417,-0.5745655137665586,-0.3972241940473,-0.1733960821169999,-0.8163136302409,-1.0495613204635557,-0.9336404745166367,-0.29719970197603374,-1.7856857483292525,-0.549409416624984,0.9659626895449634,1.840663142272621,0.38867763745704936,-0.8628738145553394,1.3095100747057868,-0.8353751300320285,-0.05250803383050579,-0.8770432289793753,-0.5224835170879161,-1.3093212373740615,0.40070773724453074,-0.5215981160393366,0.2512936874885431,-1.0840949810461527,0.08780400023379809,0.4818607001666043,0.724165624196415,2.170372178224528,1.9360443970106969,-0.15672508422765605,-0.3285943639227735,-0.07484725516272416,-0.5831973889874679,-0.21832571831229308,-1.8091901196138114,2.089186733401834,-2.129215329852196,0.9177371720076535,0.023866629049282374,-0.2987913281626994,-0.24292098340796045,0.46406972100524946,-0.7662039339751593,1.5805573573239735,-0.19077875351310403,-0.22395721535218813,-0.7022232569577145,-1.3910512735783787,-0.4028508766093123,0.6474273825385669,0.029673170205336195,-1.2645943012344052,0.23897616359630233,-0.8030224180189948,-1.5629054181697521,-1.957866973836427,-0.2343872648864634,-1.0977412869210792,0.24285300742113283,1.729594687594331,0.988064591903751,0.46263142235612525,-2.3841448290654585,-0.1988532022157612,0.28538904487805294,1.3026027489156382,0.3654737740987931,-0.3577236680282056,0.24874598011307714,1.07712086375942,0.1625470868940437,1.2308498156288759,-1.4311015010699777,2.330775095973659,0.16696227817198986,-0.4552646282872465,1.5568375268293946,-0.6489772037874912,0.7383766114342262,0.10423947663712109,1.8381627907217029,1.3339773771265813,1.7678806398492848,2.9735561213342634,-0.600079812220367,-0.34238435245999116,0.020041147690400024,-0.25010392632307843,0.8633374985788366,2.640429639299448,-0.9717292267777936,-0.9658210276640046,2.066591478782952,1.9705467125042753,0.1292489716872637,2.0836054964596653,-0.6039853764395454,0.6165296751574006,0.5399800116993207,-0.09823399283167189,0.2584633261786241,-0.09738383187438977,-2.3060699133868425,0.8736160305425749,0.5103657050597528,-0.7957880297577715,1.540236007914707,0.42805392971162787,0.2435180422315857,-0.31146150392047733,0.8095268986024129,-0.8396973387132768,-1.4758431775900809,-1.0965517749231843,-0.16277225160205658,0.7141835023081088,1.0180308491692671,0.46561717219010584,0.40036578607102424,0.8463216623784025,-1.0986270209482545,0.7455545471932248,0.23979330206800145,1.2894773499470176,1.0738360588934357,0.2237187914866292,0.749519050051599,0.7908752034621632,-2.0386502482138678,2.098082102144056,2.1814839934165495,0.02472332534499268,-0.24085757443771785,0.764641436819659,-0.03785423207577485,1.2587624168979201,-0.5107450673313391,-1.5272121356613935,0.7036554218597163,0.5583822516029906,-1.5393439558347637,1.169735146213016,-0.25840880359371926,0.6621302750468522,-0.3625336424218688,-0.3918697583092604,0.3542261676635382,0.8032199692263007,-0.44912669644351627,-0.26908310084901627,-1.228198218517266,-1.5766393652481794,0.42198484115200946,-1.2613080757560786,0.6333056998684345,1.0829365919138394,-0.4010399895780338,1.6145847593994873,-0.9638945046470484,-1.289268124866735,1.302434188481903,0.26162707849566513,1.9846255689648704,1.3196160873189566,1.3622508330584762,-0.4766246850437113,-1.0559045222298267,0.2851746558027198,-0.13482434895600215,1.4127000504611211,2.3410058415435437,1.3436404647612032,-0.8744686915142215,-0.7397074757791368,-1.1647498553205622,2.4109749580412454,-1.6120763501966564,-0.8553362667929906,-1.3330064871518075,-0.35044564666323963,-0.5776284141198976,-1.7655425138770717,0.15148163367363202,-0.3111135161250492,-1.0933077810748224,0.6670855572900339,-1.757932984881405,-1.3879952712614705,0.017463264087910796,-0.8212619188940323,-2.9675820161454673,0.9080983839227028,0.5573314660957208,-0.8761477596108432,-0.9032993826139767,1.2602275681123298,0.07451146292337643,-0.28843419924114,0.15869450510855554,-0.12205613247976832,-0.11719334589922413,-0.13481483528955726,-0.8747839018029182,-1.5060406347253046,0.9502117713525976,-0.4831550770297156,-1.4147806501693923,0.7281967283441438,-0.6653801895252196,-0.06995752307106584,-0.1514120224659725,0.9673892141531186,1.085635580291791,0.9806767651070125,-0.7819294128508731,0.34056589212576466,0.725282677772755,0.07930553799592421,0.8858399678296554,-0.348908001631651,-0.5350980221080694,2.052630453496609,-0.6738517712255732,-0.7654367339624668,-1.2529899364002106,-0.9191544235623437,2.362882001089888,-1.7085635662658274,0.46166978743885084,1.9783343264088373,0.14766460802151082,1.7680253582617016,-0.5575573639905074,0.7241711261332836,0.13181018839906342,-2.4903672405246793,-1.2407600357344648,-0.47534582582895485,-0.16829646161925943,1.0874079861174326,-0.657346828552294,-0.9514835781498506,0.05963078729949551,0.127409166345389,0.48459647805977757,0.7922260757463543,0.9774765220100644,-0.735467631679118,-0.2413237216290448,0.45532007062056684,-1.4445401490316516,0.3080782508884654,-0.14688542727005102,-0.3813439971010816,0.14792032049665527,1.3708439350645498,-1.3791134791514834,-0.5810987807348368,1.314672956353295,0.5280860902352292,1.7883556559900176,0.7822501117875937,-0.5692944994787109,-2.070423923731955,-0.9293488584800355,0.7010359971615093,0.9615589876844971,0.35298882718757546,-0.8215554870930506,0.3484897885673781,0.7125421533275365,0.8267049008190679,0.064336730315617,-0.0013897561279067334,-1.5492561073503512,0.07601714632640219,-1.1639599330451014,-0.11229094921902398,-0.5639422078989877,-0.078930649389571,-0.7876694555976117,1.1946657618976955,0.5591817085586722,-0.061540524592334014,0.7693622558547917,-1.129045700626107,0.8630667453568127,-1.6470442721592466,-1.4964298384178014,0.3815816501970968,1.0806027299644207,0.7114052202583124,-2.026285772441306,-0.12314446918236581,0.47806801921570546,0.44891408066684313,0.9136181074717837,-1.2183574041130776,0.3115542192223112,-0.7676023686192129,1.9445234399051088,1.786384802149813,0.7680695917286238,-0.4796907158341781,-0.1926927412079232,1.250371992393799,-1.2749086343102967,-0.7180140987346126,-0.6313401910674521],\"type\":\"scatter\"}],                        {\"template\":{\"data\":{\"barpolar\":[{\"marker\":{\"line\":{\"color\":\"rgb(17,17,17)\",\"width\":0.5},\"pattern\":{\"fillmode\":\"overlay\",\"size\":10,\"solidity\":0.2}},\"type\":\"barpolar\"}],\"bar\":[{\"error_x\":{\"color\":\"#f2f5fa\"},\"error_y\":{\"color\":\"#f2f5fa\"},\"marker\":{\"line\":{\"color\":\"rgb(17,17,17)\",\"width\":0.5},\"pattern\":{\"fillmode\":\"overlay\",\"size\":10,\"solidity\":0.2}},\"type\":\"bar\"}],\"carpet\":[{\"aaxis\":{\"endlinecolor\":\"#A2B1C6\",\"gridcolor\":\"#506784\",\"linecolor\":\"#506784\",\"minorgridcolor\":\"#506784\",\"startlinecolor\":\"#A2B1C6\"},\"baxis\":{\"endlinecolor\":\"#A2B1C6\",\"gridcolor\":\"#506784\",\"linecolor\":\"#506784\",\"minorgridcolor\":\"#506784\",\"startlinecolor\":\"#A2B1C6\"},\"type\":\"carpet\"}],\"choropleth\":[{\"colorbar\":{\"outlinewidth\":0,\"ticks\":\"\"},\"type\":\"choropleth\"}],\"contourcarpet\":[{\"colorbar\":{\"outlinewidth\":0,\"ticks\":\"\"},\"type\":\"contourcarpet\"}],\"contour\":[{\"colorbar\":{\"outlinewidth\":0,\"ticks\":\"\"},\"colorscale\":[[0.0,\"#0d0887\"],[0.1111111111111111,\"#46039f\"],[0.2222222222222222,\"#7201a8\"],[0.3333333333333333,\"#9c179e\"],[0.4444444444444444,\"#bd3786\"],[0.5555555555555556,\"#d8576b\"],[0.6666666666666666,\"#ed7953\"],[0.7777777777777778,\"#fb9f3a\"],[0.8888888888888888,\"#fdca26\"],[1.0,\"#f0f921\"]],\"type\":\"contour\"}],\"heatmapgl\":[{\"colorbar\":{\"outlinewidth\":0,\"ticks\":\"\"},\"colorscale\":[[0.0,\"#0d0887\"],[0.1111111111111111,\"#46039f\"],[0.2222222222222222,\"#7201a8\"],[0.3333333333333333,\"#9c179e\"],[0.4444444444444444,\"#bd3786\"],[0.5555555555555556,\"#d8576b\"],[0.6666666666666666,\"#ed7953\"],[0.7777777777777778,\"#fb9f3a\"],[0.8888888888888888,\"#fdca26\"],[1.0,\"#f0f921\"]],\"type\":\"heatmapgl\"}],\"heatmap\":[{\"colorbar\":{\"outlinewidth\":0,\"ticks\":\"\"},\"colorscale\":[[0.0,\"#0d0887\"],[0.1111111111111111,\"#46039f\"],[0.2222222222222222,\"#7201a8\"],[0.3333333333333333,\"#9c179e\"],[0.4444444444444444,\"#bd3786\"],[0.5555555555555556,\"#d8576b\"],[0.6666666666666666,\"#ed7953\"],[0.7777777777777778,\"#fb9f3a\"],[0.8888888888888888,\"#fdca26\"],[1.0,\"#f0f921\"]],\"type\":\"heatmap\"}],\"histogram2dcontour\":[{\"colorbar\":{\"outlinewidth\":0,\"ticks\":\"\"},\"colorscale\":[[0.0,\"#0d0887\"],[0.1111111111111111,\"#46039f\"],[0.2222222222222222,\"#7201a8\"],[0.3333333333333333,\"#9c179e\"],[0.4444444444444444,\"#bd3786\"],[0.5555555555555556,\"#d8576b\"],[0.6666666666666666,\"#ed7953\"],[0.7777777777777778,\"#fb9f3a\"],[0.8888888888888888,\"#fdca26\"],[1.0,\"#f0f921\"]],\"type\":\"histogram2dcontour\"}],\"histogram2d\":[{\"colorbar\":{\"outlinewidth\":0,\"ticks\":\"\"},\"colorscale\":[[0.0,\"#0d0887\"],[0.1111111111111111,\"#46039f\"],[0.2222222222222222,\"#7201a8\"],[0.3333333333333333,\"#9c179e\"],[0.4444444444444444,\"#bd3786\"],[0.5555555555555556,\"#d8576b\"],[0.6666666666666666,\"#ed7953\"],[0.7777777777777778,\"#fb9f3a\"],[0.8888888888888888,\"#fdca26\"],[1.0,\"#f0f921\"]],\"type\":\"histogram2d\"}],\"histogram\":[{\"marker\":{\"pattern\":{\"fillmode\":\"overlay\",\"size\":10,\"solidity\":0.2}},\"type\":\"histogram\"}],\"mesh3d\":[{\"colorbar\":{\"outlinewidth\":0,\"ticks\":\"\"},\"type\":\"mesh3d\"}],\"parcoords\":[{\"line\":{\"colorbar\":{\"outlinewidth\":0,\"ticks\":\"\"}},\"type\":\"parcoords\"}],\"pie\":[{\"automargin\":true,\"type\":\"pie\"}],\"scatter3d\":[{\"line\":{\"colorbar\":{\"outlinewidth\":0,\"ticks\":\"\"}},\"marker\":{\"colorbar\":{\"outlinewidth\":0,\"ticks\":\"\"}},\"type\":\"scatter3d\"}],\"scattercarpet\":[{\"marker\":{\"colorbar\":{\"outlinewidth\":0,\"ticks\":\"\"}},\"type\":\"scattercarpet\"}],\"scattergeo\":[{\"marker\":{\"colorbar\":{\"outlinewidth\":0,\"ticks\":\"\"}},\"type\":\"scattergeo\"}],\"scattergl\":[{\"marker\":{\"line\":{\"color\":\"#283442\"}},\"type\":\"scattergl\"}],\"scattermapbox\":[{\"marker\":{\"colorbar\":{\"outlinewidth\":0,\"ticks\":\"\"}},\"type\":\"scattermapbox\"}],\"scatterpolargl\":[{\"marker\":{\"colorbar\":{\"outlinewidth\":0,\"ticks\":\"\"}},\"type\":\"scatterpolargl\"}],\"scatterpolar\":[{\"marker\":{\"colorbar\":{\"outlinewidth\":0,\"ticks\":\"\"}},\"type\":\"scatterpolar\"}],\"scatter\":[{\"marker\":{\"line\":{\"color\":\"#283442\"}},\"type\":\"scatter\"}],\"scatterternary\":[{\"marker\":{\"colorbar\":{\"outlinewidth\":0,\"ticks\":\"\"}},\"type\":\"scatterternary\"}],\"surface\":[{\"colorbar\":{\"outlinewidth\":0,\"ticks\":\"\"},\"colorscale\":[[0.0,\"#0d0887\"],[0.1111111111111111,\"#46039f\"],[0.2222222222222222,\"#7201a8\"],[0.3333333333333333,\"#9c179e\"],[0.4444444444444444,\"#bd3786\"],[0.5555555555555556,\"#d8576b\"],[0.6666666666666666,\"#ed7953\"],[0.7777777777777778,\"#fb9f3a\"],[0.8888888888888888,\"#fdca26\"],[1.0,\"#f0f921\"]],\"type\":\"surface\"}],\"table\":[{\"cells\":{\"fill\":{\"color\":\"#506784\"},\"line\":{\"color\":\"rgb(17,17,17)\"}},\"header\":{\"fill\":{\"color\":\"#2a3f5f\"},\"line\":{\"color\":\"rgb(17,17,17)\"}},\"type\":\"table\"}]},\"layout\":{\"annotationdefaults\":{\"arrowcolor\":\"#f2f5fa\",\"arrowhead\":0,\"arrowwidth\":1},\"autotypenumbers\":\"strict\",\"coloraxis\":{\"colorbar\":{\"outlinewidth\":0,\"ticks\":\"\"}},\"colorscale\":{\"diverging\":[[0,\"#8e0152\"],[0.1,\"#c51b7d\"],[0.2,\"#de77ae\"],[0.3,\"#f1b6da\"],[0.4,\"#fde0ef\"],[0.5,\"#f7f7f7\"],[0.6,\"#e6f5d0\"],[0.7,\"#b8e186\"],[0.8,\"#7fbc41\"],[0.9,\"#4d9221\"],[1,\"#276419\"]],\"sequential\":[[0.0,\"#0d0887\"],[0.1111111111111111,\"#46039f\"],[0.2222222222222222,\"#7201a8\"],[0.3333333333333333,\"#9c179e\"],[0.4444444444444444,\"#bd3786\"],[0.5555555555555556,\"#d8576b\"],[0.6666666666666666,\"#ed7953\"],[0.7777777777777778,\"#fb9f3a\"],[0.8888888888888888,\"#fdca26\"],[1.0,\"#f0f921\"]],\"sequentialminus\":[[0.0,\"#0d0887\"],[0.1111111111111111,\"#46039f\"],[0.2222222222222222,\"#7201a8\"],[0.3333333333333333,\"#9c179e\"],[0.4444444444444444,\"#bd3786\"],[0.5555555555555556,\"#d8576b\"],[0.6666666666666666,\"#ed7953\"],[0.7777777777777778,\"#fb9f3a\"],[0.8888888888888888,\"#fdca26\"],[1.0,\"#f0f921\"]]},\"colorway\":[\"#636efa\",\"#EF553B\",\"#00cc96\",\"#ab63fa\",\"#FFA15A\",\"#19d3f3\",\"#FF6692\",\"#B6E880\",\"#FF97FF\",\"#FECB52\"],\"font\":{\"color\":\"#f2f5fa\"},\"geo\":{\"bgcolor\":\"rgb(17,17,17)\",\"lakecolor\":\"rgb(17,17,17)\",\"landcolor\":\"rgb(17,17,17)\",\"showlakes\":true,\"showland\":true,\"subunitcolor\":\"#506784\"},\"hoverlabel\":{\"align\":\"left\"},\"hovermode\":\"closest\",\"mapbox\":{\"style\":\"dark\"},\"paper_bgcolor\":\"rgb(17,17,17)\",\"plot_bgcolor\":\"rgb(17,17,17)\",\"polar\":{\"angularaxis\":{\"gridcolor\":\"#506784\",\"linecolor\":\"#506784\",\"ticks\":\"\"},\"bgcolor\":\"rgb(17,17,17)\",\"radialaxis\":{\"gridcolor\":\"#506784\",\"linecolor\":\"#506784\",\"ticks\":\"\"}},\"scene\":{\"xaxis\":{\"backgroundcolor\":\"rgb(17,17,17)\",\"gridcolor\":\"#506784\",\"gridwidth\":2,\"linecolor\":\"#506784\",\"showbackground\":true,\"ticks\":\"\",\"zerolinecolor\":\"#C8D4E3\"},\"yaxis\":{\"backgroundcolor\":\"rgb(17,17,17)\",\"gridcolor\":\"#506784\",\"gridwidth\":2,\"linecolor\":\"#506784\",\"showbackground\":true,\"ticks\":\"\",\"zerolinecolor\":\"#C8D4E3\"},\"zaxis\":{\"backgroundcolor\":\"rgb(17,17,17)\",\"gridcolor\":\"#506784\",\"gridwidth\":2,\"linecolor\":\"#506784\",\"showbackground\":true,\"ticks\":\"\",\"zerolinecolor\":\"#C8D4E3\"}},\"shapedefaults\":{\"line\":{\"color\":\"#f2f5fa\"}},\"sliderdefaults\":{\"bgcolor\":\"#C8D4E3\",\"bordercolor\":\"rgb(17,17,17)\",\"borderwidth\":1,\"tickwidth\":0},\"ternary\":{\"aaxis\":{\"gridcolor\":\"#506784\",\"linecolor\":\"#506784\",\"ticks\":\"\"},\"baxis\":{\"gridcolor\":\"#506784\",\"linecolor\":\"#506784\",\"ticks\":\"\"},\"bgcolor\":\"rgb(17,17,17)\",\"caxis\":{\"gridcolor\":\"#506784\",\"linecolor\":\"#506784\",\"ticks\":\"\"}},\"title\":{\"x\":0.05},\"updatemenudefaults\":{\"bgcolor\":\"#506784\",\"borderwidth\":0},\"xaxis\":{\"automargin\":true,\"gridcolor\":\"#283442\",\"linecolor\":\"#506784\",\"ticks\":\"\",\"title\":{\"standoff\":15},\"zerolinecolor\":\"#283442\",\"zerolinewidth\":2},\"yaxis\":{\"automargin\":true,\"gridcolor\":\"#283442\",\"linecolor\":\"#506784\",\"ticks\":\"\",\"title\":{\"standoff\":15},\"zerolinecolor\":\"#283442\",\"zerolinewidth\":2}}}},                        {\"responsive\": true}                    ).then(function(){\n",
       "                            \n",
       "var gd = document.getElementById('1953d24c-0bce-4b29-afce-d8e1f1fc4510');\n",
       "var x = new MutationObserver(function (mutations, observer) {{\n",
       "        var display = window.getComputedStyle(gd).display;\n",
       "        if (!display || display === 'none') {{\n",
       "            console.log([gd, 'removed!']);\n",
       "            Plotly.purge(gd);\n",
       "            observer.disconnect();\n",
       "        }}\n",
       "}});\n",
       "\n",
       "// Listen for the removal of the full notebook cells\n",
       "var notebookContainer = gd.closest('#notebook-container');\n",
       "if (notebookContainer) {{\n",
       "    x.observe(notebookContainer, {childList: true});\n",
       "}}\n",
       "\n",
       "// Listen for the clearing of the current output cell\n",
       "var outputEl = gd.closest('.output');\n",
       "if (outputEl) {{\n",
       "    x.observe(outputEl, {childList: true});\n",
       "}}\n",
       "\n",
       "                        })                };                });            </script>        </div>"
      ]
     },
     "metadata": {},
     "output_type": "display_data"
    }
   ],
   "execution_count": 4
  },
  {
   "cell_type": "markdown",
   "metadata": {
    "id": "7aGDgn2z25LD"
   },
   "source": [
    "# Bài 2"
   ]
  },
  {
   "cell_type": "code",
   "metadata": {
    "id": "PODavPyE25LG",
    "ExecuteTime": {
     "end_time": "2024-06-11T14:47:18.241477Z",
     "start_time": "2024-06-11T14:47:17.265924Z"
    }
   },
   "source": [
    "\n",
    "import plotly.graph_objs as go\n",
    "import numpy as np"
   ],
   "outputs": [],
   "execution_count": 5
  },
  {
   "cell_type": "code",
   "metadata": {
    "id": "h7TUtfxK25LH",
    "ExecuteTime": {
     "end_time": "2024-06-11T14:47:24.939752Z",
     "start_time": "2024-06-11T14:47:24.933754Z"
    }
   },
   "source": [
    "N = 100\n",
    "example_x = np.random.rand(N)\n",
    "example_y = np.random.rand(N)\n",
    "\n",
    "\n"
   ],
   "outputs": [],
   "execution_count": 6
  },
  {
   "cell_type": "code",
   "metadata": {
    "id": "WApQwKjO25LH",
    "ExecuteTime": {
     "end_time": "2024-06-11T14:47:27.795989Z",
     "start_time": "2024-06-11T14:47:27.792288Z"
    }
   },
   "source": [
    "trace = go.Scatter(\n",
    "\tx = example_x,\n",
    "\ty = example_y,\n",
    "\tmode = 'markers')"
   ],
   "outputs": [],
   "execution_count": 7
  },
  {
   "cell_type": "code",
   "metadata": {
    "id": "GOUk1k2n25LH",
    "outputId": "2da8b8ec-ee0c-4777-e304-d5a37e7208bc",
    "ExecuteTime": {
     "end_time": "2024-06-11T14:47:30.732219Z",
     "start_time": "2024-06-11T14:47:30.705509Z"
    }
   },
   "source": [
    "data = [trace]\n",
    "iplot(data)"
   ],
   "outputs": [
    {
     "data": {
      "application/vnd.plotly.v1+json": {
       "data": [
        {
         "mode": "markers",
         "x": [
          0.44252092564803314,
          0.8680940898186922,
          0.7757694275525316,
          0.4367645557135579,
          0.7068396618081239,
          0.8357163693599647,
          0.19012448450315966,
          0.6563544744665519,
          0.5749282829580353,
          0.6856547050855486,
          0.8750405323687689,
          0.03404921301829922,
          0.2969360547312395,
          0.6897134398387644,
          0.4678125015392025,
          0.9911840591817097,
          0.2839324460200724,
          0.7108994379889745,
          0.5457421364892461,
          0.12008814643765264,
          0.5730435454175714,
          0.15134488168194993,
          0.4952412941231745,
          0.2434521337552783,
          0.8448243604323926,
          0.6302274486880797,
          0.972141505922102,
          0.8691038388409711,
          0.7042267348932643,
          0.18755197204346974,
          0.8050436737642227,
          0.7803293603315482,
          0.3937180520012328,
          0.1561483365121359,
          0.6748490515673021,
          0.5911773478458308,
          0.45147929952844623,
          0.7725108626613848,
          0.6377045006849099,
          0.48191785612268445,
          0.36711510647743173,
          0.3970490017216939,
          0.8332286961302308,
          0.8643893253829606,
          0.8034298882423561,
          0.37816784799180847,
          0.38983919369806574,
          0.46151474924542957,
          0.6882302481846126,
          0.1347968228139742,
          0.7969042444456775,
          0.5531383953030065,
          0.46952108371791235,
          0.5919397990147879,
          0.7212741514944424,
          0.8719914159196841,
          0.834578862655746,
          0.4434543095751382,
          0.5343474633893167,
          0.04452883860371193,
          0.6965707683153397,
          0.6056436159815298,
          0.508748555468819,
          0.512696256952354,
          0.9218404439492413,
          0.014267179727070811,
          0.25049120464430585,
          0.2950808127421891,
          0.7733914166171859,
          0.8779271742777437,
          0.33704809410881686,
          0.2911389464504571,
          0.21056530597327971,
          0.9499914386891555,
          0.4389153708353658,
          0.5644360930439819,
          0.5564361792191451,
          0.8280876752571201,
          0.2372664709632335,
          0.03615619545907067,
          0.7561225226802019,
          0.6922241211378483,
          0.9985848923174397,
          0.14438716940112917,
          0.7751021868041165,
          0.5945463047855266,
          0.3882143055680598,
          0.9768797163681193,
          0.8811378994688783,
          0.5070626595886597,
          0.7786819597932446,
          0.7819739475363058,
          0.020467281496894474,
          0.5156621253627716,
          0.08779605255273615,
          0.13281650753966046,
          0.6790102540328375,
          0.6371017262563827,
          0.6585475333942727,
          0.3493774427123473
         ],
         "y": [
          0.24347033645013016,
          0.40067735287792783,
          0.20801915694290418,
          0.3677317922150626,
          0.05129920276613953,
          0.9583118576779335,
          0.3326945604626146,
          0.3475113407788566,
          0.27374201596110526,
          0.7618753224811143,
          0.30136707875460056,
          0.14205862827394644,
          0.8892782715966528,
          0.749337959035974,
          0.4599227832632554,
          0.8906779405202417,
          0.23652051594368306,
          0.5603837765971875,
          0.8695700185060586,
          0.0603390078681888,
          0.03371947470249392,
          0.5107595106494306,
          0.44899808494819027,
          0.5836912062546735,
          0.15675198855521844,
          0.20961779047502815,
          0.863862453230081,
          0.20901300551391078,
          0.5930263680397869,
          0.1964073327926379,
          0.945826579098825,
          0.018370651320490317,
          0.24081559900664462,
          0.6963742684077326,
          0.0289831537923555,
          0.19297006734802835,
          0.059635912813039926,
          0.09354930390154115,
          0.4874142595045933,
          0.46383417641526026,
          0.6134881993486762,
          0.6914417209133478,
          0.640486260299998,
          0.023438231186947323,
          0.5653431908209059,
          0.14410293616784753,
          0.35035846770845647,
          0.24399088016781667,
          0.9889229846898572,
          0.2687356627058961,
          0.5631121561724575,
          0.5018037523530637,
          0.4666083406712801,
          0.842680031149828,
          0.6941433462414696,
          0.5060850762939629,
          0.28804685218805004,
          0.9521642923507848,
          0.4305738123487052,
          0.5872141660772742,
          0.8443097726545837,
          0.5484152306081435,
          0.1739169196997693,
          0.9805300815865081,
          0.86255155059618,
          0.972649244528403,
          0.35302308530064486,
          0.9513463340779118,
          0.2521440126914052,
          0.9232253534024031,
          0.28234706280009403,
          0.018655915975134718,
          0.6299463204407222,
          0.3403360070132111,
          0.7512933512314129,
          0.3465842692528628,
          0.6977358703264466,
          0.18645960250720217,
          0.013782417777802092,
          0.02750710104041365,
          0.2932707722053367,
          0.2438663033393732,
          0.2992380833423248,
          0.5366107660468138,
          0.5863900815713219,
          0.8923390145343205,
          0.2941423629436474,
          0.5019250910616121,
          0.8874982495981205,
          0.27075878883892956,
          0.5113458504744144,
          0.4142204056888972,
          0.49840522360678674,
          0.179296383874876,
          0.7564710436587965,
          0.36889454241506814,
          0.061239226885814735,
          0.1966037824543293,
          0.8184112950832031,
          0.9272535066107238
         ],
         "type": "scatter"
        }
       ],
       "layout": {
        "template": {
         "data": {
          "barpolar": [
           {
            "marker": {
             "line": {
              "color": "rgb(17,17,17)",
              "width": 0.5
             },
             "pattern": {
              "fillmode": "overlay",
              "size": 10,
              "solidity": 0.2
             }
            },
            "type": "barpolar"
           }
          ],
          "bar": [
           {
            "error_x": {
             "color": "#f2f5fa"
            },
            "error_y": {
             "color": "#f2f5fa"
            },
            "marker": {
             "line": {
              "color": "rgb(17,17,17)",
              "width": 0.5
             },
             "pattern": {
              "fillmode": "overlay",
              "size": 10,
              "solidity": 0.2
             }
            },
            "type": "bar"
           }
          ],
          "carpet": [
           {
            "aaxis": {
             "endlinecolor": "#A2B1C6",
             "gridcolor": "#506784",
             "linecolor": "#506784",
             "minorgridcolor": "#506784",
             "startlinecolor": "#A2B1C6"
            },
            "baxis": {
             "endlinecolor": "#A2B1C6",
             "gridcolor": "#506784",
             "linecolor": "#506784",
             "minorgridcolor": "#506784",
             "startlinecolor": "#A2B1C6"
            },
            "type": "carpet"
           }
          ],
          "choropleth": [
           {
            "colorbar": {
             "outlinewidth": 0,
             "ticks": ""
            },
            "type": "choropleth"
           }
          ],
          "contourcarpet": [
           {
            "colorbar": {
             "outlinewidth": 0,
             "ticks": ""
            },
            "type": "contourcarpet"
           }
          ],
          "contour": [
           {
            "colorbar": {
             "outlinewidth": 0,
             "ticks": ""
            },
            "colorscale": [
             [
              0.0,
              "#0d0887"
             ],
             [
              0.1111111111111111,
              "#46039f"
             ],
             [
              0.2222222222222222,
              "#7201a8"
             ],
             [
              0.3333333333333333,
              "#9c179e"
             ],
             [
              0.4444444444444444,
              "#bd3786"
             ],
             [
              0.5555555555555556,
              "#d8576b"
             ],
             [
              0.6666666666666666,
              "#ed7953"
             ],
             [
              0.7777777777777778,
              "#fb9f3a"
             ],
             [
              0.8888888888888888,
              "#fdca26"
             ],
             [
              1.0,
              "#f0f921"
             ]
            ],
            "type": "contour"
           }
          ],
          "heatmapgl": [
           {
            "colorbar": {
             "outlinewidth": 0,
             "ticks": ""
            },
            "colorscale": [
             [
              0.0,
              "#0d0887"
             ],
             [
              0.1111111111111111,
              "#46039f"
             ],
             [
              0.2222222222222222,
              "#7201a8"
             ],
             [
              0.3333333333333333,
              "#9c179e"
             ],
             [
              0.4444444444444444,
              "#bd3786"
             ],
             [
              0.5555555555555556,
              "#d8576b"
             ],
             [
              0.6666666666666666,
              "#ed7953"
             ],
             [
              0.7777777777777778,
              "#fb9f3a"
             ],
             [
              0.8888888888888888,
              "#fdca26"
             ],
             [
              1.0,
              "#f0f921"
             ]
            ],
            "type": "heatmapgl"
           }
          ],
          "heatmap": [
           {
            "colorbar": {
             "outlinewidth": 0,
             "ticks": ""
            },
            "colorscale": [
             [
              0.0,
              "#0d0887"
             ],
             [
              0.1111111111111111,
              "#46039f"
             ],
             [
              0.2222222222222222,
              "#7201a8"
             ],
             [
              0.3333333333333333,
              "#9c179e"
             ],
             [
              0.4444444444444444,
              "#bd3786"
             ],
             [
              0.5555555555555556,
              "#d8576b"
             ],
             [
              0.6666666666666666,
              "#ed7953"
             ],
             [
              0.7777777777777778,
              "#fb9f3a"
             ],
             [
              0.8888888888888888,
              "#fdca26"
             ],
             [
              1.0,
              "#f0f921"
             ]
            ],
            "type": "heatmap"
           }
          ],
          "histogram2dcontour": [
           {
            "colorbar": {
             "outlinewidth": 0,
             "ticks": ""
            },
            "colorscale": [
             [
              0.0,
              "#0d0887"
             ],
             [
              0.1111111111111111,
              "#46039f"
             ],
             [
              0.2222222222222222,
              "#7201a8"
             ],
             [
              0.3333333333333333,
              "#9c179e"
             ],
             [
              0.4444444444444444,
              "#bd3786"
             ],
             [
              0.5555555555555556,
              "#d8576b"
             ],
             [
              0.6666666666666666,
              "#ed7953"
             ],
             [
              0.7777777777777778,
              "#fb9f3a"
             ],
             [
              0.8888888888888888,
              "#fdca26"
             ],
             [
              1.0,
              "#f0f921"
             ]
            ],
            "type": "histogram2dcontour"
           }
          ],
          "histogram2d": [
           {
            "colorbar": {
             "outlinewidth": 0,
             "ticks": ""
            },
            "colorscale": [
             [
              0.0,
              "#0d0887"
             ],
             [
              0.1111111111111111,
              "#46039f"
             ],
             [
              0.2222222222222222,
              "#7201a8"
             ],
             [
              0.3333333333333333,
              "#9c179e"
             ],
             [
              0.4444444444444444,
              "#bd3786"
             ],
             [
              0.5555555555555556,
              "#d8576b"
             ],
             [
              0.6666666666666666,
              "#ed7953"
             ],
             [
              0.7777777777777778,
              "#fb9f3a"
             ],
             [
              0.8888888888888888,
              "#fdca26"
             ],
             [
              1.0,
              "#f0f921"
             ]
            ],
            "type": "histogram2d"
           }
          ],
          "histogram": [
           {
            "marker": {
             "pattern": {
              "fillmode": "overlay",
              "size": 10,
              "solidity": 0.2
             }
            },
            "type": "histogram"
           }
          ],
          "mesh3d": [
           {
            "colorbar": {
             "outlinewidth": 0,
             "ticks": ""
            },
            "type": "mesh3d"
           }
          ],
          "parcoords": [
           {
            "line": {
             "colorbar": {
              "outlinewidth": 0,
              "ticks": ""
             }
            },
            "type": "parcoords"
           }
          ],
          "pie": [
           {
            "automargin": true,
            "type": "pie"
           }
          ],
          "scatter3d": [
           {
            "line": {
             "colorbar": {
              "outlinewidth": 0,
              "ticks": ""
             }
            },
            "marker": {
             "colorbar": {
              "outlinewidth": 0,
              "ticks": ""
             }
            },
            "type": "scatter3d"
           }
          ],
          "scattercarpet": [
           {
            "marker": {
             "colorbar": {
              "outlinewidth": 0,
              "ticks": ""
             }
            },
            "type": "scattercarpet"
           }
          ],
          "scattergeo": [
           {
            "marker": {
             "colorbar": {
              "outlinewidth": 0,
              "ticks": ""
             }
            },
            "type": "scattergeo"
           }
          ],
          "scattergl": [
           {
            "marker": {
             "line": {
              "color": "#283442"
             }
            },
            "type": "scattergl"
           }
          ],
          "scattermapbox": [
           {
            "marker": {
             "colorbar": {
              "outlinewidth": 0,
              "ticks": ""
             }
            },
            "type": "scattermapbox"
           }
          ],
          "scatterpolargl": [
           {
            "marker": {
             "colorbar": {
              "outlinewidth": 0,
              "ticks": ""
             }
            },
            "type": "scatterpolargl"
           }
          ],
          "scatterpolar": [
           {
            "marker": {
             "colorbar": {
              "outlinewidth": 0,
              "ticks": ""
             }
            },
            "type": "scatterpolar"
           }
          ],
          "scatter": [
           {
            "marker": {
             "line": {
              "color": "#283442"
             }
            },
            "type": "scatter"
           }
          ],
          "scatterternary": [
           {
            "marker": {
             "colorbar": {
              "outlinewidth": 0,
              "ticks": ""
             }
            },
            "type": "scatterternary"
           }
          ],
          "surface": [
           {
            "colorbar": {
             "outlinewidth": 0,
             "ticks": ""
            },
            "colorscale": [
             [
              0.0,
              "#0d0887"
             ],
             [
              0.1111111111111111,
              "#46039f"
             ],
             [
              0.2222222222222222,
              "#7201a8"
             ],
             [
              0.3333333333333333,
              "#9c179e"
             ],
             [
              0.4444444444444444,
              "#bd3786"
             ],
             [
              0.5555555555555556,
              "#d8576b"
             ],
             [
              0.6666666666666666,
              "#ed7953"
             ],
             [
              0.7777777777777778,
              "#fb9f3a"
             ],
             [
              0.8888888888888888,
              "#fdca26"
             ],
             [
              1.0,
              "#f0f921"
             ]
            ],
            "type": "surface"
           }
          ],
          "table": [
           {
            "cells": {
             "fill": {
              "color": "#506784"
             },
             "line": {
              "color": "rgb(17,17,17)"
             }
            },
            "header": {
             "fill": {
              "color": "#2a3f5f"
             },
             "line": {
              "color": "rgb(17,17,17)"
             }
            },
            "type": "table"
           }
          ]
         },
         "layout": {
          "annotationdefaults": {
           "arrowcolor": "#f2f5fa",
           "arrowhead": 0,
           "arrowwidth": 1
          },
          "autotypenumbers": "strict",
          "coloraxis": {
           "colorbar": {
            "outlinewidth": 0,
            "ticks": ""
           }
          },
          "colorscale": {
           "diverging": [
            [
             0,
             "#8e0152"
            ],
            [
             0.1,
             "#c51b7d"
            ],
            [
             0.2,
             "#de77ae"
            ],
            [
             0.3,
             "#f1b6da"
            ],
            [
             0.4,
             "#fde0ef"
            ],
            [
             0.5,
             "#f7f7f7"
            ],
            [
             0.6,
             "#e6f5d0"
            ],
            [
             0.7,
             "#b8e186"
            ],
            [
             0.8,
             "#7fbc41"
            ],
            [
             0.9,
             "#4d9221"
            ],
            [
             1,
             "#276419"
            ]
           ],
           "sequential": [
            [
             0.0,
             "#0d0887"
            ],
            [
             0.1111111111111111,
             "#46039f"
            ],
            [
             0.2222222222222222,
             "#7201a8"
            ],
            [
             0.3333333333333333,
             "#9c179e"
            ],
            [
             0.4444444444444444,
             "#bd3786"
            ],
            [
             0.5555555555555556,
             "#d8576b"
            ],
            [
             0.6666666666666666,
             "#ed7953"
            ],
            [
             0.7777777777777778,
             "#fb9f3a"
            ],
            [
             0.8888888888888888,
             "#fdca26"
            ],
            [
             1.0,
             "#f0f921"
            ]
           ],
           "sequentialminus": [
            [
             0.0,
             "#0d0887"
            ],
            [
             0.1111111111111111,
             "#46039f"
            ],
            [
             0.2222222222222222,
             "#7201a8"
            ],
            [
             0.3333333333333333,
             "#9c179e"
            ],
            [
             0.4444444444444444,
             "#bd3786"
            ],
            [
             0.5555555555555556,
             "#d8576b"
            ],
            [
             0.6666666666666666,
             "#ed7953"
            ],
            [
             0.7777777777777778,
             "#fb9f3a"
            ],
            [
             0.8888888888888888,
             "#fdca26"
            ],
            [
             1.0,
             "#f0f921"
            ]
           ]
          },
          "colorway": [
           "#636efa",
           "#EF553B",
           "#00cc96",
           "#ab63fa",
           "#FFA15A",
           "#19d3f3",
           "#FF6692",
           "#B6E880",
           "#FF97FF",
           "#FECB52"
          ],
          "font": {
           "color": "#f2f5fa"
          },
          "geo": {
           "bgcolor": "rgb(17,17,17)",
           "lakecolor": "rgb(17,17,17)",
           "landcolor": "rgb(17,17,17)",
           "showlakes": true,
           "showland": true,
           "subunitcolor": "#506784"
          },
          "hoverlabel": {
           "align": "left"
          },
          "hovermode": "closest",
          "mapbox": {
           "style": "dark"
          },
          "paper_bgcolor": "rgb(17,17,17)",
          "plot_bgcolor": "rgb(17,17,17)",
          "polar": {
           "angularaxis": {
            "gridcolor": "#506784",
            "linecolor": "#506784",
            "ticks": ""
           },
           "bgcolor": "rgb(17,17,17)",
           "radialaxis": {
            "gridcolor": "#506784",
            "linecolor": "#506784",
            "ticks": ""
           }
          },
          "scene": {
           "xaxis": {
            "backgroundcolor": "rgb(17,17,17)",
            "gridcolor": "#506784",
            "gridwidth": 2,
            "linecolor": "#506784",
            "showbackground": true,
            "ticks": "",
            "zerolinecolor": "#C8D4E3"
           },
           "yaxis": {
            "backgroundcolor": "rgb(17,17,17)",
            "gridcolor": "#506784",
            "gridwidth": 2,
            "linecolor": "#506784",
            "showbackground": true,
            "ticks": "",
            "zerolinecolor": "#C8D4E3"
           },
           "zaxis": {
            "backgroundcolor": "rgb(17,17,17)",
            "gridcolor": "#506784",
            "gridwidth": 2,
            "linecolor": "#506784",
            "showbackground": true,
            "ticks": "",
            "zerolinecolor": "#C8D4E3"
           }
          },
          "shapedefaults": {
           "line": {
            "color": "#f2f5fa"
           }
          },
          "sliderdefaults": {
           "bgcolor": "#C8D4E3",
           "bordercolor": "rgb(17,17,17)",
           "borderwidth": 1,
           "tickwidth": 0
          },
          "ternary": {
           "aaxis": {
            "gridcolor": "#506784",
            "linecolor": "#506784",
            "ticks": ""
           },
           "baxis": {
            "gridcolor": "#506784",
            "linecolor": "#506784",
            "ticks": ""
           },
           "bgcolor": "rgb(17,17,17)",
           "caxis": {
            "gridcolor": "#506784",
            "linecolor": "#506784",
            "ticks": ""
           }
          },
          "title": {
           "x": 0.05
          },
          "updatemenudefaults": {
           "bgcolor": "#506784",
           "borderwidth": 0
          },
          "xaxis": {
           "automargin": true,
           "gridcolor": "#283442",
           "linecolor": "#506784",
           "ticks": "",
           "title": {
            "standoff": 15
           },
           "zerolinecolor": "#283442",
           "zerolinewidth": 2
          },
          "yaxis": {
           "automargin": true,
           "gridcolor": "#283442",
           "linecolor": "#506784",
           "ticks": "",
           "title": {
            "standoff": 15
           },
           "zerolinecolor": "#283442",
           "zerolinewidth": 2
          }
         }
        }
       },
       "config": {
        "showLink": false,
        "linkText": "Export to plot.ly",
        "plotlyServerURL": "https://plot.ly"
       }
      },
      "text/html": [
       "<div>                            <div id=\"e10a0b39-8ff0-4732-8460-b150967667b3\" class=\"plotly-graph-div\" style=\"height:525px; width:100%;\"></div>            <script type=\"text/javascript\">                require([\"plotly\"], function(Plotly) {                    window.PLOTLYENV=window.PLOTLYENV || {};                                    if (document.getElementById(\"e10a0b39-8ff0-4732-8460-b150967667b3\")) {                    Plotly.newPlot(                        \"e10a0b39-8ff0-4732-8460-b150967667b3\",                        [{\"mode\":\"markers\",\"x\":[0.44252092564803314,0.8680940898186922,0.7757694275525316,0.4367645557135579,0.7068396618081239,0.8357163693599647,0.19012448450315966,0.6563544744665519,0.5749282829580353,0.6856547050855486,0.8750405323687689,0.03404921301829922,0.2969360547312395,0.6897134398387644,0.4678125015392025,0.9911840591817097,0.2839324460200724,0.7108994379889745,0.5457421364892461,0.12008814643765264,0.5730435454175714,0.15134488168194993,0.4952412941231745,0.2434521337552783,0.8448243604323926,0.6302274486880797,0.972141505922102,0.8691038388409711,0.7042267348932643,0.18755197204346974,0.8050436737642227,0.7803293603315482,0.3937180520012328,0.1561483365121359,0.6748490515673021,0.5911773478458308,0.45147929952844623,0.7725108626613848,0.6377045006849099,0.48191785612268445,0.36711510647743173,0.3970490017216939,0.8332286961302308,0.8643893253829606,0.8034298882423561,0.37816784799180847,0.38983919369806574,0.46151474924542957,0.6882302481846126,0.1347968228139742,0.7969042444456775,0.5531383953030065,0.46952108371791235,0.5919397990147879,0.7212741514944424,0.8719914159196841,0.834578862655746,0.4434543095751382,0.5343474633893167,0.04452883860371193,0.6965707683153397,0.6056436159815298,0.508748555468819,0.512696256952354,0.9218404439492413,0.014267179727070811,0.25049120464430585,0.2950808127421891,0.7733914166171859,0.8779271742777437,0.33704809410881686,0.2911389464504571,0.21056530597327971,0.9499914386891555,0.4389153708353658,0.5644360930439819,0.5564361792191451,0.8280876752571201,0.2372664709632335,0.03615619545907067,0.7561225226802019,0.6922241211378483,0.9985848923174397,0.14438716940112917,0.7751021868041165,0.5945463047855266,0.3882143055680598,0.9768797163681193,0.8811378994688783,0.5070626595886597,0.7786819597932446,0.7819739475363058,0.020467281496894474,0.5156621253627716,0.08779605255273615,0.13281650753966046,0.6790102540328375,0.6371017262563827,0.6585475333942727,0.3493774427123473],\"y\":[0.24347033645013016,0.40067735287792783,0.20801915694290418,0.3677317922150626,0.05129920276613953,0.9583118576779335,0.3326945604626146,0.3475113407788566,0.27374201596110526,0.7618753224811143,0.30136707875460056,0.14205862827394644,0.8892782715966528,0.749337959035974,0.4599227832632554,0.8906779405202417,0.23652051594368306,0.5603837765971875,0.8695700185060586,0.0603390078681888,0.03371947470249392,0.5107595106494306,0.44899808494819027,0.5836912062546735,0.15675198855521844,0.20961779047502815,0.863862453230081,0.20901300551391078,0.5930263680397869,0.1964073327926379,0.945826579098825,0.018370651320490317,0.24081559900664462,0.6963742684077326,0.0289831537923555,0.19297006734802835,0.059635912813039926,0.09354930390154115,0.4874142595045933,0.46383417641526026,0.6134881993486762,0.6914417209133478,0.640486260299998,0.023438231186947323,0.5653431908209059,0.14410293616784753,0.35035846770845647,0.24399088016781667,0.9889229846898572,0.2687356627058961,0.5631121561724575,0.5018037523530637,0.4666083406712801,0.842680031149828,0.6941433462414696,0.5060850762939629,0.28804685218805004,0.9521642923507848,0.4305738123487052,0.5872141660772742,0.8443097726545837,0.5484152306081435,0.1739169196997693,0.9805300815865081,0.86255155059618,0.972649244528403,0.35302308530064486,0.9513463340779118,0.2521440126914052,0.9232253534024031,0.28234706280009403,0.018655915975134718,0.6299463204407222,0.3403360070132111,0.7512933512314129,0.3465842692528628,0.6977358703264466,0.18645960250720217,0.013782417777802092,0.02750710104041365,0.2932707722053367,0.2438663033393732,0.2992380833423248,0.5366107660468138,0.5863900815713219,0.8923390145343205,0.2941423629436474,0.5019250910616121,0.8874982495981205,0.27075878883892956,0.5113458504744144,0.4142204056888972,0.49840522360678674,0.179296383874876,0.7564710436587965,0.36889454241506814,0.061239226885814735,0.1966037824543293,0.8184112950832031,0.9272535066107238],\"type\":\"scatter\"}],                        {\"template\":{\"data\":{\"barpolar\":[{\"marker\":{\"line\":{\"color\":\"rgb(17,17,17)\",\"width\":0.5},\"pattern\":{\"fillmode\":\"overlay\",\"size\":10,\"solidity\":0.2}},\"type\":\"barpolar\"}],\"bar\":[{\"error_x\":{\"color\":\"#f2f5fa\"},\"error_y\":{\"color\":\"#f2f5fa\"},\"marker\":{\"line\":{\"color\":\"rgb(17,17,17)\",\"width\":0.5},\"pattern\":{\"fillmode\":\"overlay\",\"size\":10,\"solidity\":0.2}},\"type\":\"bar\"}],\"carpet\":[{\"aaxis\":{\"endlinecolor\":\"#A2B1C6\",\"gridcolor\":\"#506784\",\"linecolor\":\"#506784\",\"minorgridcolor\":\"#506784\",\"startlinecolor\":\"#A2B1C6\"},\"baxis\":{\"endlinecolor\":\"#A2B1C6\",\"gridcolor\":\"#506784\",\"linecolor\":\"#506784\",\"minorgridcolor\":\"#506784\",\"startlinecolor\":\"#A2B1C6\"},\"type\":\"carpet\"}],\"choropleth\":[{\"colorbar\":{\"outlinewidth\":0,\"ticks\":\"\"},\"type\":\"choropleth\"}],\"contourcarpet\":[{\"colorbar\":{\"outlinewidth\":0,\"ticks\":\"\"},\"type\":\"contourcarpet\"}],\"contour\":[{\"colorbar\":{\"outlinewidth\":0,\"ticks\":\"\"},\"colorscale\":[[0.0,\"#0d0887\"],[0.1111111111111111,\"#46039f\"],[0.2222222222222222,\"#7201a8\"],[0.3333333333333333,\"#9c179e\"],[0.4444444444444444,\"#bd3786\"],[0.5555555555555556,\"#d8576b\"],[0.6666666666666666,\"#ed7953\"],[0.7777777777777778,\"#fb9f3a\"],[0.8888888888888888,\"#fdca26\"],[1.0,\"#f0f921\"]],\"type\":\"contour\"}],\"heatmapgl\":[{\"colorbar\":{\"outlinewidth\":0,\"ticks\":\"\"},\"colorscale\":[[0.0,\"#0d0887\"],[0.1111111111111111,\"#46039f\"],[0.2222222222222222,\"#7201a8\"],[0.3333333333333333,\"#9c179e\"],[0.4444444444444444,\"#bd3786\"],[0.5555555555555556,\"#d8576b\"],[0.6666666666666666,\"#ed7953\"],[0.7777777777777778,\"#fb9f3a\"],[0.8888888888888888,\"#fdca26\"],[1.0,\"#f0f921\"]],\"type\":\"heatmapgl\"}],\"heatmap\":[{\"colorbar\":{\"outlinewidth\":0,\"ticks\":\"\"},\"colorscale\":[[0.0,\"#0d0887\"],[0.1111111111111111,\"#46039f\"],[0.2222222222222222,\"#7201a8\"],[0.3333333333333333,\"#9c179e\"],[0.4444444444444444,\"#bd3786\"],[0.5555555555555556,\"#d8576b\"],[0.6666666666666666,\"#ed7953\"],[0.7777777777777778,\"#fb9f3a\"],[0.8888888888888888,\"#fdca26\"],[1.0,\"#f0f921\"]],\"type\":\"heatmap\"}],\"histogram2dcontour\":[{\"colorbar\":{\"outlinewidth\":0,\"ticks\":\"\"},\"colorscale\":[[0.0,\"#0d0887\"],[0.1111111111111111,\"#46039f\"],[0.2222222222222222,\"#7201a8\"],[0.3333333333333333,\"#9c179e\"],[0.4444444444444444,\"#bd3786\"],[0.5555555555555556,\"#d8576b\"],[0.6666666666666666,\"#ed7953\"],[0.7777777777777778,\"#fb9f3a\"],[0.8888888888888888,\"#fdca26\"],[1.0,\"#f0f921\"]],\"type\":\"histogram2dcontour\"}],\"histogram2d\":[{\"colorbar\":{\"outlinewidth\":0,\"ticks\":\"\"},\"colorscale\":[[0.0,\"#0d0887\"],[0.1111111111111111,\"#46039f\"],[0.2222222222222222,\"#7201a8\"],[0.3333333333333333,\"#9c179e\"],[0.4444444444444444,\"#bd3786\"],[0.5555555555555556,\"#d8576b\"],[0.6666666666666666,\"#ed7953\"],[0.7777777777777778,\"#fb9f3a\"],[0.8888888888888888,\"#fdca26\"],[1.0,\"#f0f921\"]],\"type\":\"histogram2d\"}],\"histogram\":[{\"marker\":{\"pattern\":{\"fillmode\":\"overlay\",\"size\":10,\"solidity\":0.2}},\"type\":\"histogram\"}],\"mesh3d\":[{\"colorbar\":{\"outlinewidth\":0,\"ticks\":\"\"},\"type\":\"mesh3d\"}],\"parcoords\":[{\"line\":{\"colorbar\":{\"outlinewidth\":0,\"ticks\":\"\"}},\"type\":\"parcoords\"}],\"pie\":[{\"automargin\":true,\"type\":\"pie\"}],\"scatter3d\":[{\"line\":{\"colorbar\":{\"outlinewidth\":0,\"ticks\":\"\"}},\"marker\":{\"colorbar\":{\"outlinewidth\":0,\"ticks\":\"\"}},\"type\":\"scatter3d\"}],\"scattercarpet\":[{\"marker\":{\"colorbar\":{\"outlinewidth\":0,\"ticks\":\"\"}},\"type\":\"scattercarpet\"}],\"scattergeo\":[{\"marker\":{\"colorbar\":{\"outlinewidth\":0,\"ticks\":\"\"}},\"type\":\"scattergeo\"}],\"scattergl\":[{\"marker\":{\"line\":{\"color\":\"#283442\"}},\"type\":\"scattergl\"}],\"scattermapbox\":[{\"marker\":{\"colorbar\":{\"outlinewidth\":0,\"ticks\":\"\"}},\"type\":\"scattermapbox\"}],\"scatterpolargl\":[{\"marker\":{\"colorbar\":{\"outlinewidth\":0,\"ticks\":\"\"}},\"type\":\"scatterpolargl\"}],\"scatterpolar\":[{\"marker\":{\"colorbar\":{\"outlinewidth\":0,\"ticks\":\"\"}},\"type\":\"scatterpolar\"}],\"scatter\":[{\"marker\":{\"line\":{\"color\":\"#283442\"}},\"type\":\"scatter\"}],\"scatterternary\":[{\"marker\":{\"colorbar\":{\"outlinewidth\":0,\"ticks\":\"\"}},\"type\":\"scatterternary\"}],\"surface\":[{\"colorbar\":{\"outlinewidth\":0,\"ticks\":\"\"},\"colorscale\":[[0.0,\"#0d0887\"],[0.1111111111111111,\"#46039f\"],[0.2222222222222222,\"#7201a8\"],[0.3333333333333333,\"#9c179e\"],[0.4444444444444444,\"#bd3786\"],[0.5555555555555556,\"#d8576b\"],[0.6666666666666666,\"#ed7953\"],[0.7777777777777778,\"#fb9f3a\"],[0.8888888888888888,\"#fdca26\"],[1.0,\"#f0f921\"]],\"type\":\"surface\"}],\"table\":[{\"cells\":{\"fill\":{\"color\":\"#506784\"},\"line\":{\"color\":\"rgb(17,17,17)\"}},\"header\":{\"fill\":{\"color\":\"#2a3f5f\"},\"line\":{\"color\":\"rgb(17,17,17)\"}},\"type\":\"table\"}]},\"layout\":{\"annotationdefaults\":{\"arrowcolor\":\"#f2f5fa\",\"arrowhead\":0,\"arrowwidth\":1},\"autotypenumbers\":\"strict\",\"coloraxis\":{\"colorbar\":{\"outlinewidth\":0,\"ticks\":\"\"}},\"colorscale\":{\"diverging\":[[0,\"#8e0152\"],[0.1,\"#c51b7d\"],[0.2,\"#de77ae\"],[0.3,\"#f1b6da\"],[0.4,\"#fde0ef\"],[0.5,\"#f7f7f7\"],[0.6,\"#e6f5d0\"],[0.7,\"#b8e186\"],[0.8,\"#7fbc41\"],[0.9,\"#4d9221\"],[1,\"#276419\"]],\"sequential\":[[0.0,\"#0d0887\"],[0.1111111111111111,\"#46039f\"],[0.2222222222222222,\"#7201a8\"],[0.3333333333333333,\"#9c179e\"],[0.4444444444444444,\"#bd3786\"],[0.5555555555555556,\"#d8576b\"],[0.6666666666666666,\"#ed7953\"],[0.7777777777777778,\"#fb9f3a\"],[0.8888888888888888,\"#fdca26\"],[1.0,\"#f0f921\"]],\"sequentialminus\":[[0.0,\"#0d0887\"],[0.1111111111111111,\"#46039f\"],[0.2222222222222222,\"#7201a8\"],[0.3333333333333333,\"#9c179e\"],[0.4444444444444444,\"#bd3786\"],[0.5555555555555556,\"#d8576b\"],[0.6666666666666666,\"#ed7953\"],[0.7777777777777778,\"#fb9f3a\"],[0.8888888888888888,\"#fdca26\"],[1.0,\"#f0f921\"]]},\"colorway\":[\"#636efa\",\"#EF553B\",\"#00cc96\",\"#ab63fa\",\"#FFA15A\",\"#19d3f3\",\"#FF6692\",\"#B6E880\",\"#FF97FF\",\"#FECB52\"],\"font\":{\"color\":\"#f2f5fa\"},\"geo\":{\"bgcolor\":\"rgb(17,17,17)\",\"lakecolor\":\"rgb(17,17,17)\",\"landcolor\":\"rgb(17,17,17)\",\"showlakes\":true,\"showland\":true,\"subunitcolor\":\"#506784\"},\"hoverlabel\":{\"align\":\"left\"},\"hovermode\":\"closest\",\"mapbox\":{\"style\":\"dark\"},\"paper_bgcolor\":\"rgb(17,17,17)\",\"plot_bgcolor\":\"rgb(17,17,17)\",\"polar\":{\"angularaxis\":{\"gridcolor\":\"#506784\",\"linecolor\":\"#506784\",\"ticks\":\"\"},\"bgcolor\":\"rgb(17,17,17)\",\"radialaxis\":{\"gridcolor\":\"#506784\",\"linecolor\":\"#506784\",\"ticks\":\"\"}},\"scene\":{\"xaxis\":{\"backgroundcolor\":\"rgb(17,17,17)\",\"gridcolor\":\"#506784\",\"gridwidth\":2,\"linecolor\":\"#506784\",\"showbackground\":true,\"ticks\":\"\",\"zerolinecolor\":\"#C8D4E3\"},\"yaxis\":{\"backgroundcolor\":\"rgb(17,17,17)\",\"gridcolor\":\"#506784\",\"gridwidth\":2,\"linecolor\":\"#506784\",\"showbackground\":true,\"ticks\":\"\",\"zerolinecolor\":\"#C8D4E3\"},\"zaxis\":{\"backgroundcolor\":\"rgb(17,17,17)\",\"gridcolor\":\"#506784\",\"gridwidth\":2,\"linecolor\":\"#506784\",\"showbackground\":true,\"ticks\":\"\",\"zerolinecolor\":\"#C8D4E3\"}},\"shapedefaults\":{\"line\":{\"color\":\"#f2f5fa\"}},\"sliderdefaults\":{\"bgcolor\":\"#C8D4E3\",\"bordercolor\":\"rgb(17,17,17)\",\"borderwidth\":1,\"tickwidth\":0},\"ternary\":{\"aaxis\":{\"gridcolor\":\"#506784\",\"linecolor\":\"#506784\",\"ticks\":\"\"},\"baxis\":{\"gridcolor\":\"#506784\",\"linecolor\":\"#506784\",\"ticks\":\"\"},\"bgcolor\":\"rgb(17,17,17)\",\"caxis\":{\"gridcolor\":\"#506784\",\"linecolor\":\"#506784\",\"ticks\":\"\"}},\"title\":{\"x\":0.05},\"updatemenudefaults\":{\"bgcolor\":\"#506784\",\"borderwidth\":0},\"xaxis\":{\"automargin\":true,\"gridcolor\":\"#283442\",\"linecolor\":\"#506784\",\"ticks\":\"\",\"title\":{\"standoff\":15},\"zerolinecolor\":\"#283442\",\"zerolinewidth\":2},\"yaxis\":{\"automargin\":true,\"gridcolor\":\"#283442\",\"linecolor\":\"#506784\",\"ticks\":\"\",\"title\":{\"standoff\":15},\"zerolinecolor\":\"#283442\",\"zerolinewidth\":2}}}},                        {\"responsive\": true}                    ).then(function(){\n",
       "                            \n",
       "var gd = document.getElementById('e10a0b39-8ff0-4732-8460-b150967667b3');\n",
       "var x = new MutationObserver(function (mutations, observer) {{\n",
       "        var display = window.getComputedStyle(gd).display;\n",
       "        if (!display || display === 'none') {{\n",
       "            console.log([gd, 'removed!']);\n",
       "            Plotly.purge(gd);\n",
       "            observer.disconnect();\n",
       "        }}\n",
       "}});\n",
       "\n",
       "// Listen for the removal of the full notebook cells\n",
       "var notebookContainer = gd.closest('#notebook-container');\n",
       "if (notebookContainer) {{\n",
       "    x.observe(notebookContainer, {childList: true});\n",
       "}}\n",
       "\n",
       "// Listen for the clearing of the current output cell\n",
       "var outputEl = gd.closest('.output');\n",
       "if (outputEl) {{\n",
       "    x.observe(outputEl, {childList: true});\n",
       "}}\n",
       "\n",
       "                        })                };                });            </script>        </div>"
      ]
     },
     "metadata": {},
     "output_type": "display_data"
    }
   ],
   "execution_count": 8
  },
  {
   "cell_type": "code",
   "metadata": {
    "id": "_uKtcVqq25LI",
    "outputId": "5a2c4478-9e7c-40f8-d0ff-0f92645591f7",
    "ExecuteTime": {
     "end_time": "2024-06-11T14:49:45.169329Z",
     "start_time": "2024-06-11T14:49:45.080282Z"
    }
   },
   "source": [
    "#Expenses\n",
    "\n",
    "#breakdown each category \n",
    "groups = ['Rent', 'Food', 'Bills', 'Miscellaneous']\n",
    "#create amount\n",
    "amount = [1000, 518, 331, 277]\n",
    "#style\n",
    "colors = ['#d32c58', '#f9b1ee', '#b7f9b1', '#b1f5f9']\n",
    "\n",
    "trace = go.Pie(labels = groups, values = amount,\n",
    "               hoverinfo = 'label+percent', textinfo = 'value',\n",
    "               textfont = dict(size = 25),\n",
    "               marker = dict(colors = colors,\n",
    "                             line = dict(color = '#000000', width = 3)))\n",
    "\n",
    "#plot - \n",
    "iplot([trace])"
   ],
   "outputs": [
    {
     "data": {
      "application/vnd.plotly.v1+json": {
       "data": [
        {
         "hoverinfo": "label+percent",
         "labels": [
          "Rent",
          "Food",
          "Bills",
          "Miscellaneous"
         ],
         "marker": {
          "colors": [
           "#d32c58",
           "#f9b1ee",
           "#b7f9b1",
           "#b1f5f9"
          ],
          "line": {
           "color": "#000000",
           "width": 3
          }
         },
         "textfont": {
          "size": 25
         },
         "textinfo": "value",
         "values": [
          1000,
          518,
          331,
          277
         ],
         "type": "pie"
        }
       ],
       "layout": {
        "template": {
         "data": {
          "barpolar": [
           {
            "marker": {
             "line": {
              "color": "rgb(17,17,17)",
              "width": 0.5
             },
             "pattern": {
              "fillmode": "overlay",
              "size": 10,
              "solidity": 0.2
             }
            },
            "type": "barpolar"
           }
          ],
          "bar": [
           {
            "error_x": {
             "color": "#f2f5fa"
            },
            "error_y": {
             "color": "#f2f5fa"
            },
            "marker": {
             "line": {
              "color": "rgb(17,17,17)",
              "width": 0.5
             },
             "pattern": {
              "fillmode": "overlay",
              "size": 10,
              "solidity": 0.2
             }
            },
            "type": "bar"
           }
          ],
          "carpet": [
           {
            "aaxis": {
             "endlinecolor": "#A2B1C6",
             "gridcolor": "#506784",
             "linecolor": "#506784",
             "minorgridcolor": "#506784",
             "startlinecolor": "#A2B1C6"
            },
            "baxis": {
             "endlinecolor": "#A2B1C6",
             "gridcolor": "#506784",
             "linecolor": "#506784",
             "minorgridcolor": "#506784",
             "startlinecolor": "#A2B1C6"
            },
            "type": "carpet"
           }
          ],
          "choropleth": [
           {
            "colorbar": {
             "outlinewidth": 0,
             "ticks": ""
            },
            "type": "choropleth"
           }
          ],
          "contourcarpet": [
           {
            "colorbar": {
             "outlinewidth": 0,
             "ticks": ""
            },
            "type": "contourcarpet"
           }
          ],
          "contour": [
           {
            "colorbar": {
             "outlinewidth": 0,
             "ticks": ""
            },
            "colorscale": [
             [
              0.0,
              "#0d0887"
             ],
             [
              0.1111111111111111,
              "#46039f"
             ],
             [
              0.2222222222222222,
              "#7201a8"
             ],
             [
              0.3333333333333333,
              "#9c179e"
             ],
             [
              0.4444444444444444,
              "#bd3786"
             ],
             [
              0.5555555555555556,
              "#d8576b"
             ],
             [
              0.6666666666666666,
              "#ed7953"
             ],
             [
              0.7777777777777778,
              "#fb9f3a"
             ],
             [
              0.8888888888888888,
              "#fdca26"
             ],
             [
              1.0,
              "#f0f921"
             ]
            ],
            "type": "contour"
           }
          ],
          "heatmapgl": [
           {
            "colorbar": {
             "outlinewidth": 0,
             "ticks": ""
            },
            "colorscale": [
             [
              0.0,
              "#0d0887"
             ],
             [
              0.1111111111111111,
              "#46039f"
             ],
             [
              0.2222222222222222,
              "#7201a8"
             ],
             [
              0.3333333333333333,
              "#9c179e"
             ],
             [
              0.4444444444444444,
              "#bd3786"
             ],
             [
              0.5555555555555556,
              "#d8576b"
             ],
             [
              0.6666666666666666,
              "#ed7953"
             ],
             [
              0.7777777777777778,
              "#fb9f3a"
             ],
             [
              0.8888888888888888,
              "#fdca26"
             ],
             [
              1.0,
              "#f0f921"
             ]
            ],
            "type": "heatmapgl"
           }
          ],
          "heatmap": [
           {
            "colorbar": {
             "outlinewidth": 0,
             "ticks": ""
            },
            "colorscale": [
             [
              0.0,
              "#0d0887"
             ],
             [
              0.1111111111111111,
              "#46039f"
             ],
             [
              0.2222222222222222,
              "#7201a8"
             ],
             [
              0.3333333333333333,
              "#9c179e"
             ],
             [
              0.4444444444444444,
              "#bd3786"
             ],
             [
              0.5555555555555556,
              "#d8576b"
             ],
             [
              0.6666666666666666,
              "#ed7953"
             ],
             [
              0.7777777777777778,
              "#fb9f3a"
             ],
             [
              0.8888888888888888,
              "#fdca26"
             ],
             [
              1.0,
              "#f0f921"
             ]
            ],
            "type": "heatmap"
           }
          ],
          "histogram2dcontour": [
           {
            "colorbar": {
             "outlinewidth": 0,
             "ticks": ""
            },
            "colorscale": [
             [
              0.0,
              "#0d0887"
             ],
             [
              0.1111111111111111,
              "#46039f"
             ],
             [
              0.2222222222222222,
              "#7201a8"
             ],
             [
              0.3333333333333333,
              "#9c179e"
             ],
             [
              0.4444444444444444,
              "#bd3786"
             ],
             [
              0.5555555555555556,
              "#d8576b"
             ],
             [
              0.6666666666666666,
              "#ed7953"
             ],
             [
              0.7777777777777778,
              "#fb9f3a"
             ],
             [
              0.8888888888888888,
              "#fdca26"
             ],
             [
              1.0,
              "#f0f921"
             ]
            ],
            "type": "histogram2dcontour"
           }
          ],
          "histogram2d": [
           {
            "colorbar": {
             "outlinewidth": 0,
             "ticks": ""
            },
            "colorscale": [
             [
              0.0,
              "#0d0887"
             ],
             [
              0.1111111111111111,
              "#46039f"
             ],
             [
              0.2222222222222222,
              "#7201a8"
             ],
             [
              0.3333333333333333,
              "#9c179e"
             ],
             [
              0.4444444444444444,
              "#bd3786"
             ],
             [
              0.5555555555555556,
              "#d8576b"
             ],
             [
              0.6666666666666666,
              "#ed7953"
             ],
             [
              0.7777777777777778,
              "#fb9f3a"
             ],
             [
              0.8888888888888888,
              "#fdca26"
             ],
             [
              1.0,
              "#f0f921"
             ]
            ],
            "type": "histogram2d"
           }
          ],
          "histogram": [
           {
            "marker": {
             "pattern": {
              "fillmode": "overlay",
              "size": 10,
              "solidity": 0.2
             }
            },
            "type": "histogram"
           }
          ],
          "mesh3d": [
           {
            "colorbar": {
             "outlinewidth": 0,
             "ticks": ""
            },
            "type": "mesh3d"
           }
          ],
          "parcoords": [
           {
            "line": {
             "colorbar": {
              "outlinewidth": 0,
              "ticks": ""
             }
            },
            "type": "parcoords"
           }
          ],
          "pie": [
           {
            "automargin": true,
            "type": "pie"
           }
          ],
          "scatter3d": [
           {
            "line": {
             "colorbar": {
              "outlinewidth": 0,
              "ticks": ""
             }
            },
            "marker": {
             "colorbar": {
              "outlinewidth": 0,
              "ticks": ""
             }
            },
            "type": "scatter3d"
           }
          ],
          "scattercarpet": [
           {
            "marker": {
             "colorbar": {
              "outlinewidth": 0,
              "ticks": ""
             }
            },
            "type": "scattercarpet"
           }
          ],
          "scattergeo": [
           {
            "marker": {
             "colorbar": {
              "outlinewidth": 0,
              "ticks": ""
             }
            },
            "type": "scattergeo"
           }
          ],
          "scattergl": [
           {
            "marker": {
             "line": {
              "color": "#283442"
             }
            },
            "type": "scattergl"
           }
          ],
          "scattermapbox": [
           {
            "marker": {
             "colorbar": {
              "outlinewidth": 0,
              "ticks": ""
             }
            },
            "type": "scattermapbox"
           }
          ],
          "scatterpolargl": [
           {
            "marker": {
             "colorbar": {
              "outlinewidth": 0,
              "ticks": ""
             }
            },
            "type": "scatterpolargl"
           }
          ],
          "scatterpolar": [
           {
            "marker": {
             "colorbar": {
              "outlinewidth": 0,
              "ticks": ""
             }
            },
            "type": "scatterpolar"
           }
          ],
          "scatter": [
           {
            "marker": {
             "line": {
              "color": "#283442"
             }
            },
            "type": "scatter"
           }
          ],
          "scatterternary": [
           {
            "marker": {
             "colorbar": {
              "outlinewidth": 0,
              "ticks": ""
             }
            },
            "type": "scatterternary"
           }
          ],
          "surface": [
           {
            "colorbar": {
             "outlinewidth": 0,
             "ticks": ""
            },
            "colorscale": [
             [
              0.0,
              "#0d0887"
             ],
             [
              0.1111111111111111,
              "#46039f"
             ],
             [
              0.2222222222222222,
              "#7201a8"
             ],
             [
              0.3333333333333333,
              "#9c179e"
             ],
             [
              0.4444444444444444,
              "#bd3786"
             ],
             [
              0.5555555555555556,
              "#d8576b"
             ],
             [
              0.6666666666666666,
              "#ed7953"
             ],
             [
              0.7777777777777778,
              "#fb9f3a"
             ],
             [
              0.8888888888888888,
              "#fdca26"
             ],
             [
              1.0,
              "#f0f921"
             ]
            ],
            "type": "surface"
           }
          ],
          "table": [
           {
            "cells": {
             "fill": {
              "color": "#506784"
             },
             "line": {
              "color": "rgb(17,17,17)"
             }
            },
            "header": {
             "fill": {
              "color": "#2a3f5f"
             },
             "line": {
              "color": "rgb(17,17,17)"
             }
            },
            "type": "table"
           }
          ]
         },
         "layout": {
          "annotationdefaults": {
           "arrowcolor": "#f2f5fa",
           "arrowhead": 0,
           "arrowwidth": 1
          },
          "autotypenumbers": "strict",
          "coloraxis": {
           "colorbar": {
            "outlinewidth": 0,
            "ticks": ""
           }
          },
          "colorscale": {
           "diverging": [
            [
             0,
             "#8e0152"
            ],
            [
             0.1,
             "#c51b7d"
            ],
            [
             0.2,
             "#de77ae"
            ],
            [
             0.3,
             "#f1b6da"
            ],
            [
             0.4,
             "#fde0ef"
            ],
            [
             0.5,
             "#f7f7f7"
            ],
            [
             0.6,
             "#e6f5d0"
            ],
            [
             0.7,
             "#b8e186"
            ],
            [
             0.8,
             "#7fbc41"
            ],
            [
             0.9,
             "#4d9221"
            ],
            [
             1,
             "#276419"
            ]
           ],
           "sequential": [
            [
             0.0,
             "#0d0887"
            ],
            [
             0.1111111111111111,
             "#46039f"
            ],
            [
             0.2222222222222222,
             "#7201a8"
            ],
            [
             0.3333333333333333,
             "#9c179e"
            ],
            [
             0.4444444444444444,
             "#bd3786"
            ],
            [
             0.5555555555555556,
             "#d8576b"
            ],
            [
             0.6666666666666666,
             "#ed7953"
            ],
            [
             0.7777777777777778,
             "#fb9f3a"
            ],
            [
             0.8888888888888888,
             "#fdca26"
            ],
            [
             1.0,
             "#f0f921"
            ]
           ],
           "sequentialminus": [
            [
             0.0,
             "#0d0887"
            ],
            [
             0.1111111111111111,
             "#46039f"
            ],
            [
             0.2222222222222222,
             "#7201a8"
            ],
            [
             0.3333333333333333,
             "#9c179e"
            ],
            [
             0.4444444444444444,
             "#bd3786"
            ],
            [
             0.5555555555555556,
             "#d8576b"
            ],
            [
             0.6666666666666666,
             "#ed7953"
            ],
            [
             0.7777777777777778,
             "#fb9f3a"
            ],
            [
             0.8888888888888888,
             "#fdca26"
            ],
            [
             1.0,
             "#f0f921"
            ]
           ]
          },
          "colorway": [
           "#636efa",
           "#EF553B",
           "#00cc96",
           "#ab63fa",
           "#FFA15A",
           "#19d3f3",
           "#FF6692",
           "#B6E880",
           "#FF97FF",
           "#FECB52"
          ],
          "font": {
           "color": "#f2f5fa"
          },
          "geo": {
           "bgcolor": "rgb(17,17,17)",
           "lakecolor": "rgb(17,17,17)",
           "landcolor": "rgb(17,17,17)",
           "showlakes": true,
           "showland": true,
           "subunitcolor": "#506784"
          },
          "hoverlabel": {
           "align": "left"
          },
          "hovermode": "closest",
          "mapbox": {
           "style": "dark"
          },
          "paper_bgcolor": "rgb(17,17,17)",
          "plot_bgcolor": "rgb(17,17,17)",
          "polar": {
           "angularaxis": {
            "gridcolor": "#506784",
            "linecolor": "#506784",
            "ticks": ""
           },
           "bgcolor": "rgb(17,17,17)",
           "radialaxis": {
            "gridcolor": "#506784",
            "linecolor": "#506784",
            "ticks": ""
           }
          },
          "scene": {
           "xaxis": {
            "backgroundcolor": "rgb(17,17,17)",
            "gridcolor": "#506784",
            "gridwidth": 2,
            "linecolor": "#506784",
            "showbackground": true,
            "ticks": "",
            "zerolinecolor": "#C8D4E3"
           },
           "yaxis": {
            "backgroundcolor": "rgb(17,17,17)",
            "gridcolor": "#506784",
            "gridwidth": 2,
            "linecolor": "#506784",
            "showbackground": true,
            "ticks": "",
            "zerolinecolor": "#C8D4E3"
           },
           "zaxis": {
            "backgroundcolor": "rgb(17,17,17)",
            "gridcolor": "#506784",
            "gridwidth": 2,
            "linecolor": "#506784",
            "showbackground": true,
            "ticks": "",
            "zerolinecolor": "#C8D4E3"
           }
          },
          "shapedefaults": {
           "line": {
            "color": "#f2f5fa"
           }
          },
          "sliderdefaults": {
           "bgcolor": "#C8D4E3",
           "bordercolor": "rgb(17,17,17)",
           "borderwidth": 1,
           "tickwidth": 0
          },
          "ternary": {
           "aaxis": {
            "gridcolor": "#506784",
            "linecolor": "#506784",
            "ticks": ""
           },
           "baxis": {
            "gridcolor": "#506784",
            "linecolor": "#506784",
            "ticks": ""
           },
           "bgcolor": "rgb(17,17,17)",
           "caxis": {
            "gridcolor": "#506784",
            "linecolor": "#506784",
            "ticks": ""
           }
          },
          "title": {
           "x": 0.05
          },
          "updatemenudefaults": {
           "bgcolor": "#506784",
           "borderwidth": 0
          },
          "xaxis": {
           "automargin": true,
           "gridcolor": "#283442",
           "linecolor": "#506784",
           "ticks": "",
           "title": {
            "standoff": 15
           },
           "zerolinecolor": "#283442",
           "zerolinewidth": 2
          },
          "yaxis": {
           "automargin": true,
           "gridcolor": "#283442",
           "linecolor": "#506784",
           "ticks": "",
           "title": {
            "standoff": 15
           },
           "zerolinecolor": "#283442",
           "zerolinewidth": 2
          }
         }
        }
       },
       "config": {
        "showLink": false,
        "linkText": "Export to plot.ly",
        "plotlyServerURL": "https://plot.ly"
       }
      },
      "text/html": [
       "<div>                            <div id=\"64bbc2f6-9dd7-4b95-992f-edf268b8088b\" class=\"plotly-graph-div\" style=\"height:525px; width:100%;\"></div>            <script type=\"text/javascript\">                require([\"plotly\"], function(Plotly) {                    window.PLOTLYENV=window.PLOTLYENV || {};                                    if (document.getElementById(\"64bbc2f6-9dd7-4b95-992f-edf268b8088b\")) {                    Plotly.newPlot(                        \"64bbc2f6-9dd7-4b95-992f-edf268b8088b\",                        [{\"hoverinfo\":\"label+percent\",\"labels\":[\"Rent\",\"Food\",\"Bills\",\"Miscellaneous\"],\"marker\":{\"colors\":[\"#d32c58\",\"#f9b1ee\",\"#b7f9b1\",\"#b1f5f9\"],\"line\":{\"color\":\"#000000\",\"width\":3}},\"textfont\":{\"size\":25},\"textinfo\":\"value\",\"values\":[1000,518,331,277],\"type\":\"pie\"}],                        {\"template\":{\"data\":{\"barpolar\":[{\"marker\":{\"line\":{\"color\":\"rgb(17,17,17)\",\"width\":0.5},\"pattern\":{\"fillmode\":\"overlay\",\"size\":10,\"solidity\":0.2}},\"type\":\"barpolar\"}],\"bar\":[{\"error_x\":{\"color\":\"#f2f5fa\"},\"error_y\":{\"color\":\"#f2f5fa\"},\"marker\":{\"line\":{\"color\":\"rgb(17,17,17)\",\"width\":0.5},\"pattern\":{\"fillmode\":\"overlay\",\"size\":10,\"solidity\":0.2}},\"type\":\"bar\"}],\"carpet\":[{\"aaxis\":{\"endlinecolor\":\"#A2B1C6\",\"gridcolor\":\"#506784\",\"linecolor\":\"#506784\",\"minorgridcolor\":\"#506784\",\"startlinecolor\":\"#A2B1C6\"},\"baxis\":{\"endlinecolor\":\"#A2B1C6\",\"gridcolor\":\"#506784\",\"linecolor\":\"#506784\",\"minorgridcolor\":\"#506784\",\"startlinecolor\":\"#A2B1C6\"},\"type\":\"carpet\"}],\"choropleth\":[{\"colorbar\":{\"outlinewidth\":0,\"ticks\":\"\"},\"type\":\"choropleth\"}],\"contourcarpet\":[{\"colorbar\":{\"outlinewidth\":0,\"ticks\":\"\"},\"type\":\"contourcarpet\"}],\"contour\":[{\"colorbar\":{\"outlinewidth\":0,\"ticks\":\"\"},\"colorscale\":[[0.0,\"#0d0887\"],[0.1111111111111111,\"#46039f\"],[0.2222222222222222,\"#7201a8\"],[0.3333333333333333,\"#9c179e\"],[0.4444444444444444,\"#bd3786\"],[0.5555555555555556,\"#d8576b\"],[0.6666666666666666,\"#ed7953\"],[0.7777777777777778,\"#fb9f3a\"],[0.8888888888888888,\"#fdca26\"],[1.0,\"#f0f921\"]],\"type\":\"contour\"}],\"heatmapgl\":[{\"colorbar\":{\"outlinewidth\":0,\"ticks\":\"\"},\"colorscale\":[[0.0,\"#0d0887\"],[0.1111111111111111,\"#46039f\"],[0.2222222222222222,\"#7201a8\"],[0.3333333333333333,\"#9c179e\"],[0.4444444444444444,\"#bd3786\"],[0.5555555555555556,\"#d8576b\"],[0.6666666666666666,\"#ed7953\"],[0.7777777777777778,\"#fb9f3a\"],[0.8888888888888888,\"#fdca26\"],[1.0,\"#f0f921\"]],\"type\":\"heatmapgl\"}],\"heatmap\":[{\"colorbar\":{\"outlinewidth\":0,\"ticks\":\"\"},\"colorscale\":[[0.0,\"#0d0887\"],[0.1111111111111111,\"#46039f\"],[0.2222222222222222,\"#7201a8\"],[0.3333333333333333,\"#9c179e\"],[0.4444444444444444,\"#bd3786\"],[0.5555555555555556,\"#d8576b\"],[0.6666666666666666,\"#ed7953\"],[0.7777777777777778,\"#fb9f3a\"],[0.8888888888888888,\"#fdca26\"],[1.0,\"#f0f921\"]],\"type\":\"heatmap\"}],\"histogram2dcontour\":[{\"colorbar\":{\"outlinewidth\":0,\"ticks\":\"\"},\"colorscale\":[[0.0,\"#0d0887\"],[0.1111111111111111,\"#46039f\"],[0.2222222222222222,\"#7201a8\"],[0.3333333333333333,\"#9c179e\"],[0.4444444444444444,\"#bd3786\"],[0.5555555555555556,\"#d8576b\"],[0.6666666666666666,\"#ed7953\"],[0.7777777777777778,\"#fb9f3a\"],[0.8888888888888888,\"#fdca26\"],[1.0,\"#f0f921\"]],\"type\":\"histogram2dcontour\"}],\"histogram2d\":[{\"colorbar\":{\"outlinewidth\":0,\"ticks\":\"\"},\"colorscale\":[[0.0,\"#0d0887\"],[0.1111111111111111,\"#46039f\"],[0.2222222222222222,\"#7201a8\"],[0.3333333333333333,\"#9c179e\"],[0.4444444444444444,\"#bd3786\"],[0.5555555555555556,\"#d8576b\"],[0.6666666666666666,\"#ed7953\"],[0.7777777777777778,\"#fb9f3a\"],[0.8888888888888888,\"#fdca26\"],[1.0,\"#f0f921\"]],\"type\":\"histogram2d\"}],\"histogram\":[{\"marker\":{\"pattern\":{\"fillmode\":\"overlay\",\"size\":10,\"solidity\":0.2}},\"type\":\"histogram\"}],\"mesh3d\":[{\"colorbar\":{\"outlinewidth\":0,\"ticks\":\"\"},\"type\":\"mesh3d\"}],\"parcoords\":[{\"line\":{\"colorbar\":{\"outlinewidth\":0,\"ticks\":\"\"}},\"type\":\"parcoords\"}],\"pie\":[{\"automargin\":true,\"type\":\"pie\"}],\"scatter3d\":[{\"line\":{\"colorbar\":{\"outlinewidth\":0,\"ticks\":\"\"}},\"marker\":{\"colorbar\":{\"outlinewidth\":0,\"ticks\":\"\"}},\"type\":\"scatter3d\"}],\"scattercarpet\":[{\"marker\":{\"colorbar\":{\"outlinewidth\":0,\"ticks\":\"\"}},\"type\":\"scattercarpet\"}],\"scattergeo\":[{\"marker\":{\"colorbar\":{\"outlinewidth\":0,\"ticks\":\"\"}},\"type\":\"scattergeo\"}],\"scattergl\":[{\"marker\":{\"line\":{\"color\":\"#283442\"}},\"type\":\"scattergl\"}],\"scattermapbox\":[{\"marker\":{\"colorbar\":{\"outlinewidth\":0,\"ticks\":\"\"}},\"type\":\"scattermapbox\"}],\"scatterpolargl\":[{\"marker\":{\"colorbar\":{\"outlinewidth\":0,\"ticks\":\"\"}},\"type\":\"scatterpolargl\"}],\"scatterpolar\":[{\"marker\":{\"colorbar\":{\"outlinewidth\":0,\"ticks\":\"\"}},\"type\":\"scatterpolar\"}],\"scatter\":[{\"marker\":{\"line\":{\"color\":\"#283442\"}},\"type\":\"scatter\"}],\"scatterternary\":[{\"marker\":{\"colorbar\":{\"outlinewidth\":0,\"ticks\":\"\"}},\"type\":\"scatterternary\"}],\"surface\":[{\"colorbar\":{\"outlinewidth\":0,\"ticks\":\"\"},\"colorscale\":[[0.0,\"#0d0887\"],[0.1111111111111111,\"#46039f\"],[0.2222222222222222,\"#7201a8\"],[0.3333333333333333,\"#9c179e\"],[0.4444444444444444,\"#bd3786\"],[0.5555555555555556,\"#d8576b\"],[0.6666666666666666,\"#ed7953\"],[0.7777777777777778,\"#fb9f3a\"],[0.8888888888888888,\"#fdca26\"],[1.0,\"#f0f921\"]],\"type\":\"surface\"}],\"table\":[{\"cells\":{\"fill\":{\"color\":\"#506784\"},\"line\":{\"color\":\"rgb(17,17,17)\"}},\"header\":{\"fill\":{\"color\":\"#2a3f5f\"},\"line\":{\"color\":\"rgb(17,17,17)\"}},\"type\":\"table\"}]},\"layout\":{\"annotationdefaults\":{\"arrowcolor\":\"#f2f5fa\",\"arrowhead\":0,\"arrowwidth\":1},\"autotypenumbers\":\"strict\",\"coloraxis\":{\"colorbar\":{\"outlinewidth\":0,\"ticks\":\"\"}},\"colorscale\":{\"diverging\":[[0,\"#8e0152\"],[0.1,\"#c51b7d\"],[0.2,\"#de77ae\"],[0.3,\"#f1b6da\"],[0.4,\"#fde0ef\"],[0.5,\"#f7f7f7\"],[0.6,\"#e6f5d0\"],[0.7,\"#b8e186\"],[0.8,\"#7fbc41\"],[0.9,\"#4d9221\"],[1,\"#276419\"]],\"sequential\":[[0.0,\"#0d0887\"],[0.1111111111111111,\"#46039f\"],[0.2222222222222222,\"#7201a8\"],[0.3333333333333333,\"#9c179e\"],[0.4444444444444444,\"#bd3786\"],[0.5555555555555556,\"#d8576b\"],[0.6666666666666666,\"#ed7953\"],[0.7777777777777778,\"#fb9f3a\"],[0.8888888888888888,\"#fdca26\"],[1.0,\"#f0f921\"]],\"sequentialminus\":[[0.0,\"#0d0887\"],[0.1111111111111111,\"#46039f\"],[0.2222222222222222,\"#7201a8\"],[0.3333333333333333,\"#9c179e\"],[0.4444444444444444,\"#bd3786\"],[0.5555555555555556,\"#d8576b\"],[0.6666666666666666,\"#ed7953\"],[0.7777777777777778,\"#fb9f3a\"],[0.8888888888888888,\"#fdca26\"],[1.0,\"#f0f921\"]]},\"colorway\":[\"#636efa\",\"#EF553B\",\"#00cc96\",\"#ab63fa\",\"#FFA15A\",\"#19d3f3\",\"#FF6692\",\"#B6E880\",\"#FF97FF\",\"#FECB52\"],\"font\":{\"color\":\"#f2f5fa\"},\"geo\":{\"bgcolor\":\"rgb(17,17,17)\",\"lakecolor\":\"rgb(17,17,17)\",\"landcolor\":\"rgb(17,17,17)\",\"showlakes\":true,\"showland\":true,\"subunitcolor\":\"#506784\"},\"hoverlabel\":{\"align\":\"left\"},\"hovermode\":\"closest\",\"mapbox\":{\"style\":\"dark\"},\"paper_bgcolor\":\"rgb(17,17,17)\",\"plot_bgcolor\":\"rgb(17,17,17)\",\"polar\":{\"angularaxis\":{\"gridcolor\":\"#506784\",\"linecolor\":\"#506784\",\"ticks\":\"\"},\"bgcolor\":\"rgb(17,17,17)\",\"radialaxis\":{\"gridcolor\":\"#506784\",\"linecolor\":\"#506784\",\"ticks\":\"\"}},\"scene\":{\"xaxis\":{\"backgroundcolor\":\"rgb(17,17,17)\",\"gridcolor\":\"#506784\",\"gridwidth\":2,\"linecolor\":\"#506784\",\"showbackground\":true,\"ticks\":\"\",\"zerolinecolor\":\"#C8D4E3\"},\"yaxis\":{\"backgroundcolor\":\"rgb(17,17,17)\",\"gridcolor\":\"#506784\",\"gridwidth\":2,\"linecolor\":\"#506784\",\"showbackground\":true,\"ticks\":\"\",\"zerolinecolor\":\"#C8D4E3\"},\"zaxis\":{\"backgroundcolor\":\"rgb(17,17,17)\",\"gridcolor\":\"#506784\",\"gridwidth\":2,\"linecolor\":\"#506784\",\"showbackground\":true,\"ticks\":\"\",\"zerolinecolor\":\"#C8D4E3\"}},\"shapedefaults\":{\"line\":{\"color\":\"#f2f5fa\"}},\"sliderdefaults\":{\"bgcolor\":\"#C8D4E3\",\"bordercolor\":\"rgb(17,17,17)\",\"borderwidth\":1,\"tickwidth\":0},\"ternary\":{\"aaxis\":{\"gridcolor\":\"#506784\",\"linecolor\":\"#506784\",\"ticks\":\"\"},\"baxis\":{\"gridcolor\":\"#506784\",\"linecolor\":\"#506784\",\"ticks\":\"\"},\"bgcolor\":\"rgb(17,17,17)\",\"caxis\":{\"gridcolor\":\"#506784\",\"linecolor\":\"#506784\",\"ticks\":\"\"}},\"title\":{\"x\":0.05},\"updatemenudefaults\":{\"bgcolor\":\"#506784\",\"borderwidth\":0},\"xaxis\":{\"automargin\":true,\"gridcolor\":\"#283442\",\"linecolor\":\"#506784\",\"ticks\":\"\",\"title\":{\"standoff\":15},\"zerolinecolor\":\"#283442\",\"zerolinewidth\":2},\"yaxis\":{\"automargin\":true,\"gridcolor\":\"#283442\",\"linecolor\":\"#506784\",\"ticks\":\"\",\"title\":{\"standoff\":15},\"zerolinecolor\":\"#283442\",\"zerolinewidth\":2}}}},                        {\"responsive\": true}                    ).then(function(){\n",
       "                            \n",
       "var gd = document.getElementById('64bbc2f6-9dd7-4b95-992f-edf268b8088b');\n",
       "var x = new MutationObserver(function (mutations, observer) {{\n",
       "        var display = window.getComputedStyle(gd).display;\n",
       "        if (!display || display === 'none') {{\n",
       "            console.log([gd, 'removed!']);\n",
       "            Plotly.purge(gd);\n",
       "            observer.disconnect();\n",
       "        }}\n",
       "}});\n",
       "\n",
       "// Listen for the removal of the full notebook cells\n",
       "var notebookContainer = gd.closest('#notebook-container');\n",
       "if (notebookContainer) {{\n",
       "    x.observe(notebookContainer, {childList: true});\n",
       "}}\n",
       "\n",
       "// Listen for the clearing of the current output cell\n",
       "var outputEl = gd.closest('.output');\n",
       "if (outputEl) {{\n",
       "    x.observe(outputEl, {childList: true});\n",
       "}}\n",
       "\n",
       "                        })                };                });            </script>        </div>"
      ]
     },
     "metadata": {},
     "output_type": "display_data"
    }
   ],
   "execution_count": 9
  },
  {
   "cell_type": "markdown",
   "metadata": {
    "id": "NFEcu4h025LI"
   },
   "source": [
    "## Bài 3"
   ]
  },
  {
   "cell_type": "code",
   "metadata": {
    "id": "zx-qE1h925LI",
    "ExecuteTime": {
     "end_time": "2024-06-11T14:50:46.562843Z",
     "start_time": "2024-06-11T14:50:46.558956Z"
    }
   },
   "source": [
    "import pandas as pd"
   ],
   "outputs": [],
   "execution_count": 11
  },
  {
   "cell_type": "code",
   "metadata": {
    "id": "DWKdazXS25LI",
    "ExecuteTime": {
     "end_time": "2024-06-11T15:11:41.018697Z",
     "start_time": "2024-06-11T15:11:38.260259Z"
    }
   },
   "source": [
    "pubg = pd.read_csv('P48-Custom-Data-PUBG.csv')\n",
    "pubg.loc[:, pubg.columns != 'player_name'] = pubg.loc[:, pubg.columns != 'player_name'].apply(pd.to_numeric)\n",
    "\n",
    "df_pubg = pubg\n",
    "df_new_pubg = df_pubg.head(10)"
   ],
   "outputs": [],
   "execution_count": 25
  },
  {
   "cell_type": "code",
   "metadata": {
    "id": "6QOi68IX25LJ",
    "outputId": "685be8c1-a819-4056-b2d6-e1add08c0e9d",
    "ExecuteTime": {
     "end_time": "2024-06-11T15:11:47.203040Z",
     "start_time": "2024-06-11T15:11:47.181043Z"
    }
   },
   "source": [
    "df_new_pubg.head(10)"
   ],
   "outputs": [
    {
     "data": {
      "text/plain": [
       "     player_name  tracker_id  solo_KillDeathRatio  solo_WinRatio  \\\n",
       "0      BreakNeck        4405                 3.14          17.65   \n",
       "1      Blackwalk        8199                 4.41          18.18   \n",
       "2  mercedes_benz        4454                 3.60           0.00   \n",
       "3           DORA        7729                14.00          50.00   \n",
       "4        n2tstar           0                10.50          33.33   \n",
       "5     coldoxygen       33313                 5.73          31.25   \n",
       "6          Giken       15585                 2.45           8.45   \n",
       "7       KoreaNo1        9454                 2.71          26.32   \n",
       "8          undor       24029                 3.68          13.64   \n",
       "9        Fordune       11289                 4.17          25.00   \n",
       "\n",
       "   solo_TimeSurvived  solo_RoundsPlayed  solo_Wins  solo_WinTop10Ratio  \\\n",
       "0           18469.14                 17          3                0.83   \n",
       "1           33014.86                 33          6                0.36   \n",
       "2            4330.44                  5          0                0.00   \n",
       "3           13421.82                  8          4                0.67   \n",
       "4            9841.04                  6          2                0.40   \n",
       "5           22003.22                 16          5                0.50   \n",
       "6          148051.25                142         12                0.18   \n",
       "7           26091.14                 19          5                0.50   \n",
       "8           49282.41                 44          6                0.23   \n",
       "9           10280.77                  8          2                0.25   \n",
       "\n",
       "   solo_Top10s  solo_Top10Ratio  ...  squad_RideDistance  squad_MoveDistance  \\\n",
       "0            4             23.5  ...          3751590.99          5194786.58   \n",
       "1           11             33.3  ...          4295917.30          6051783.67   \n",
       "2            1             20.0  ...          3935265.63          5589608.74   \n",
       "3            6             75.0  ...          2738998.00          3796916.00   \n",
       "4            5             83.3  ...          2347295.00          3220260.00   \n",
       "5           10             62.5  ...          3218436.00          4733977.00   \n",
       "6           34             23.9  ...          2057423.12          2883099.31   \n",
       "7           10             52.6  ...          3586593.00          4854387.00   \n",
       "8           13             29.5  ...          1054263.00          1550975.00   \n",
       "9            4             50.0  ...          2793909.91          4071039.87   \n",
       "\n",
       "   squad_AvgWalkDistance  squad_AvgRideDistance  squad_LongestKill  \\\n",
       "0                2626.97                4372.64             536.98   \n",
       "1                2422.48                6009.73             734.85   \n",
       "2                1871.89                3011.87             725.44   \n",
       "3                2154.62                5578.41             587.28   \n",
       "4                2098.47                5642.54             546.10   \n",
       "5                2078.93                4414.86            1212.76   \n",
       "6                1664.77                3022.51             564.20   \n",
       "7                1635.86                4627.86             806.24   \n",
       "8                2207.61                4685.61             455.67   \n",
       "9                1981.29                3635.28             546.95   \n",
       "\n",
       "   squad_Heals  squad_Revives  squad_Boosts  squad_DamageDealt  squad_DBNOs  \n",
       "0         2186            234          1884          242132.73         1448  \n",
       "1         2041            276          2340          269795.75         1724  \n",
       "2         1766            210          2193          292977.07         1897  \n",
       "3         1214            142          1252          181106.90         1057  \n",
       "4         1245            120           923          160029.80         1077  \n",
       "5         2023            195          2307          238640.00         1450  \n",
       "6         1274            133          1320          132008.88          775  \n",
       "7         2199            163          1864          201659.00         1287  \n",
       "8          617             61           585           80498.73          513  \n",
       "9         1320            220          1338          123573.74          675  \n",
       "\n",
       "[10 rows x 152 columns]"
      ],
      "text/html": [
       "<div>\n",
       "<style scoped>\n",
       "    .dataframe tbody tr th:only-of-type {\n",
       "        vertical-align: middle;\n",
       "    }\n",
       "\n",
       "    .dataframe tbody tr th {\n",
       "        vertical-align: top;\n",
       "    }\n",
       "\n",
       "    .dataframe thead th {\n",
       "        text-align: right;\n",
       "    }\n",
       "</style>\n",
       "<table border=\"1\" class=\"dataframe\">\n",
       "  <thead>\n",
       "    <tr style=\"text-align: right;\">\n",
       "      <th></th>\n",
       "      <th>player_name</th>\n",
       "      <th>tracker_id</th>\n",
       "      <th>solo_KillDeathRatio</th>\n",
       "      <th>solo_WinRatio</th>\n",
       "      <th>solo_TimeSurvived</th>\n",
       "      <th>solo_RoundsPlayed</th>\n",
       "      <th>solo_Wins</th>\n",
       "      <th>solo_WinTop10Ratio</th>\n",
       "      <th>solo_Top10s</th>\n",
       "      <th>solo_Top10Ratio</th>\n",
       "      <th>...</th>\n",
       "      <th>squad_RideDistance</th>\n",
       "      <th>squad_MoveDistance</th>\n",
       "      <th>squad_AvgWalkDistance</th>\n",
       "      <th>squad_AvgRideDistance</th>\n",
       "      <th>squad_LongestKill</th>\n",
       "      <th>squad_Heals</th>\n",
       "      <th>squad_Revives</th>\n",
       "      <th>squad_Boosts</th>\n",
       "      <th>squad_DamageDealt</th>\n",
       "      <th>squad_DBNOs</th>\n",
       "    </tr>\n",
       "  </thead>\n",
       "  <tbody>\n",
       "    <tr>\n",
       "      <th>0</th>\n",
       "      <td>BreakNeck</td>\n",
       "      <td>4405</td>\n",
       "      <td>3.14</td>\n",
       "      <td>17.65</td>\n",
       "      <td>18469.14</td>\n",
       "      <td>17</td>\n",
       "      <td>3</td>\n",
       "      <td>0.83</td>\n",
       "      <td>4</td>\n",
       "      <td>23.5</td>\n",
       "      <td>...</td>\n",
       "      <td>3751590.99</td>\n",
       "      <td>5194786.58</td>\n",
       "      <td>2626.97</td>\n",
       "      <td>4372.64</td>\n",
       "      <td>536.98</td>\n",
       "      <td>2186</td>\n",
       "      <td>234</td>\n",
       "      <td>1884</td>\n",
       "      <td>242132.73</td>\n",
       "      <td>1448</td>\n",
       "    </tr>\n",
       "    <tr>\n",
       "      <th>1</th>\n",
       "      <td>Blackwalk</td>\n",
       "      <td>8199</td>\n",
       "      <td>4.41</td>\n",
       "      <td>18.18</td>\n",
       "      <td>33014.86</td>\n",
       "      <td>33</td>\n",
       "      <td>6</td>\n",
       "      <td>0.36</td>\n",
       "      <td>11</td>\n",
       "      <td>33.3</td>\n",
       "      <td>...</td>\n",
       "      <td>4295917.30</td>\n",
       "      <td>6051783.67</td>\n",
       "      <td>2422.48</td>\n",
       "      <td>6009.73</td>\n",
       "      <td>734.85</td>\n",
       "      <td>2041</td>\n",
       "      <td>276</td>\n",
       "      <td>2340</td>\n",
       "      <td>269795.75</td>\n",
       "      <td>1724</td>\n",
       "    </tr>\n",
       "    <tr>\n",
       "      <th>2</th>\n",
       "      <td>mercedes_benz</td>\n",
       "      <td>4454</td>\n",
       "      <td>3.60</td>\n",
       "      <td>0.00</td>\n",
       "      <td>4330.44</td>\n",
       "      <td>5</td>\n",
       "      <td>0</td>\n",
       "      <td>0.00</td>\n",
       "      <td>1</td>\n",
       "      <td>20.0</td>\n",
       "      <td>...</td>\n",
       "      <td>3935265.63</td>\n",
       "      <td>5589608.74</td>\n",
       "      <td>1871.89</td>\n",
       "      <td>3011.87</td>\n",
       "      <td>725.44</td>\n",
       "      <td>1766</td>\n",
       "      <td>210</td>\n",
       "      <td>2193</td>\n",
       "      <td>292977.07</td>\n",
       "      <td>1897</td>\n",
       "    </tr>\n",
       "    <tr>\n",
       "      <th>3</th>\n",
       "      <td>DORA</td>\n",
       "      <td>7729</td>\n",
       "      <td>14.00</td>\n",
       "      <td>50.00</td>\n",
       "      <td>13421.82</td>\n",
       "      <td>8</td>\n",
       "      <td>4</td>\n",
       "      <td>0.67</td>\n",
       "      <td>6</td>\n",
       "      <td>75.0</td>\n",
       "      <td>...</td>\n",
       "      <td>2738998.00</td>\n",
       "      <td>3796916.00</td>\n",
       "      <td>2154.62</td>\n",
       "      <td>5578.41</td>\n",
       "      <td>587.28</td>\n",
       "      <td>1214</td>\n",
       "      <td>142</td>\n",
       "      <td>1252</td>\n",
       "      <td>181106.90</td>\n",
       "      <td>1057</td>\n",
       "    </tr>\n",
       "    <tr>\n",
       "      <th>4</th>\n",
       "      <td>n2tstar</td>\n",
       "      <td>0</td>\n",
       "      <td>10.50</td>\n",
       "      <td>33.33</td>\n",
       "      <td>9841.04</td>\n",
       "      <td>6</td>\n",
       "      <td>2</td>\n",
       "      <td>0.40</td>\n",
       "      <td>5</td>\n",
       "      <td>83.3</td>\n",
       "      <td>...</td>\n",
       "      <td>2347295.00</td>\n",
       "      <td>3220260.00</td>\n",
       "      <td>2098.47</td>\n",
       "      <td>5642.54</td>\n",
       "      <td>546.10</td>\n",
       "      <td>1245</td>\n",
       "      <td>120</td>\n",
       "      <td>923</td>\n",
       "      <td>160029.80</td>\n",
       "      <td>1077</td>\n",
       "    </tr>\n",
       "    <tr>\n",
       "      <th>5</th>\n",
       "      <td>coldoxygen</td>\n",
       "      <td>33313</td>\n",
       "      <td>5.73</td>\n",
       "      <td>31.25</td>\n",
       "      <td>22003.22</td>\n",
       "      <td>16</td>\n",
       "      <td>5</td>\n",
       "      <td>0.50</td>\n",
       "      <td>10</td>\n",
       "      <td>62.5</td>\n",
       "      <td>...</td>\n",
       "      <td>3218436.00</td>\n",
       "      <td>4733977.00</td>\n",
       "      <td>2078.93</td>\n",
       "      <td>4414.86</td>\n",
       "      <td>1212.76</td>\n",
       "      <td>2023</td>\n",
       "      <td>195</td>\n",
       "      <td>2307</td>\n",
       "      <td>238640.00</td>\n",
       "      <td>1450</td>\n",
       "    </tr>\n",
       "    <tr>\n",
       "      <th>6</th>\n",
       "      <td>Giken</td>\n",
       "      <td>15585</td>\n",
       "      <td>2.45</td>\n",
       "      <td>8.45</td>\n",
       "      <td>148051.25</td>\n",
       "      <td>142</td>\n",
       "      <td>12</td>\n",
       "      <td>0.18</td>\n",
       "      <td>34</td>\n",
       "      <td>23.9</td>\n",
       "      <td>...</td>\n",
       "      <td>2057423.12</td>\n",
       "      <td>2883099.31</td>\n",
       "      <td>1664.77</td>\n",
       "      <td>3022.51</td>\n",
       "      <td>564.20</td>\n",
       "      <td>1274</td>\n",
       "      <td>133</td>\n",
       "      <td>1320</td>\n",
       "      <td>132008.88</td>\n",
       "      <td>775</td>\n",
       "    </tr>\n",
       "    <tr>\n",
       "      <th>7</th>\n",
       "      <td>KoreaNo1</td>\n",
       "      <td>9454</td>\n",
       "      <td>2.71</td>\n",
       "      <td>26.32</td>\n",
       "      <td>26091.14</td>\n",
       "      <td>19</td>\n",
       "      <td>5</td>\n",
       "      <td>0.50</td>\n",
       "      <td>10</td>\n",
       "      <td>52.6</td>\n",
       "      <td>...</td>\n",
       "      <td>3586593.00</td>\n",
       "      <td>4854387.00</td>\n",
       "      <td>1635.86</td>\n",
       "      <td>4627.86</td>\n",
       "      <td>806.24</td>\n",
       "      <td>2199</td>\n",
       "      <td>163</td>\n",
       "      <td>1864</td>\n",
       "      <td>201659.00</td>\n",
       "      <td>1287</td>\n",
       "    </tr>\n",
       "    <tr>\n",
       "      <th>8</th>\n",
       "      <td>undor</td>\n",
       "      <td>24029</td>\n",
       "      <td>3.68</td>\n",
       "      <td>13.64</td>\n",
       "      <td>49282.41</td>\n",
       "      <td>44</td>\n",
       "      <td>6</td>\n",
       "      <td>0.23</td>\n",
       "      <td>13</td>\n",
       "      <td>29.5</td>\n",
       "      <td>...</td>\n",
       "      <td>1054263.00</td>\n",
       "      <td>1550975.00</td>\n",
       "      <td>2207.61</td>\n",
       "      <td>4685.61</td>\n",
       "      <td>455.67</td>\n",
       "      <td>617</td>\n",
       "      <td>61</td>\n",
       "      <td>585</td>\n",
       "      <td>80498.73</td>\n",
       "      <td>513</td>\n",
       "    </tr>\n",
       "    <tr>\n",
       "      <th>9</th>\n",
       "      <td>Fordune</td>\n",
       "      <td>11289</td>\n",
       "      <td>4.17</td>\n",
       "      <td>25.00</td>\n",
       "      <td>10280.77</td>\n",
       "      <td>8</td>\n",
       "      <td>2</td>\n",
       "      <td>0.25</td>\n",
       "      <td>4</td>\n",
       "      <td>50.0</td>\n",
       "      <td>...</td>\n",
       "      <td>2793909.91</td>\n",
       "      <td>4071039.87</td>\n",
       "      <td>1981.29</td>\n",
       "      <td>3635.28</td>\n",
       "      <td>546.95</td>\n",
       "      <td>1320</td>\n",
       "      <td>220</td>\n",
       "      <td>1338</td>\n",
       "      <td>123573.74</td>\n",
       "      <td>675</td>\n",
       "    </tr>\n",
       "  </tbody>\n",
       "</table>\n",
       "<p>10 rows × 152 columns</p>\n",
       "</div>"
      ]
     },
     "execution_count": 26,
     "metadata": {},
     "output_type": "execute_result"
    }
   ],
   "execution_count": 26
  },
  {
   "cell_type": "code",
   "metadata": {
    "id": "6wAvFhLU25LJ",
    "outputId": "e5303658-4a5a-47f8-eccb-e385628a8295",
    "ExecuteTime": {
     "end_time": "2024-06-11T15:11:51.915060Z",
     "start_time": "2024-06-11T15:11:51.814346Z"
    }
   },
   "source": [
    "\n",
    "trace = go.Scatter(x = df_new_pubg['solo_RoundsPlayed'], y = df_new_pubg['solo_Wins'],\n",
    "                   name = 'Rounds Won')\n",
    "layout = go.Layout(title = 'PUBG Wins vs Rounds Played',\n",
    "                   plot_bgcolor = 'rgb(230, 230,230)',\n",
    "                   showlegend = True)\n",
    "fig = go.Figure(data = [trace], layout = layout)\n",
    "\n",
    "iplot(fig, filename = 'test')"
   ],
   "outputs": [
    {
     "data": {
      "application/vnd.plotly.v1+json": {
       "data": [
        {
         "name": "Rounds Won",
         "x": [
          17,
          33,
          5,
          8,
          6,
          16,
          142,
          19,
          44,
          8
         ],
         "y": [
          3,
          6,
          0,
          4,
          2,
          5,
          12,
          5,
          6,
          2
         ],
         "type": "scatter"
        }
       ],
       "layout": {
        "plot_bgcolor": "rgb(230, 230,230)",
        "showlegend": true,
        "template": {
         "data": {
          "barpolar": [
           {
            "marker": {
             "line": {
              "color": "rgb(17,17,17)",
              "width": 0.5
             },
             "pattern": {
              "fillmode": "overlay",
              "size": 10,
              "solidity": 0.2
             }
            },
            "type": "barpolar"
           }
          ],
          "bar": [
           {
            "error_x": {
             "color": "#f2f5fa"
            },
            "error_y": {
             "color": "#f2f5fa"
            },
            "marker": {
             "line": {
              "color": "rgb(17,17,17)",
              "width": 0.5
             },
             "pattern": {
              "fillmode": "overlay",
              "size": 10,
              "solidity": 0.2
             }
            },
            "type": "bar"
           }
          ],
          "carpet": [
           {
            "aaxis": {
             "endlinecolor": "#A2B1C6",
             "gridcolor": "#506784",
             "linecolor": "#506784",
             "minorgridcolor": "#506784",
             "startlinecolor": "#A2B1C6"
            },
            "baxis": {
             "endlinecolor": "#A2B1C6",
             "gridcolor": "#506784",
             "linecolor": "#506784",
             "minorgridcolor": "#506784",
             "startlinecolor": "#A2B1C6"
            },
            "type": "carpet"
           }
          ],
          "choropleth": [
           {
            "colorbar": {
             "outlinewidth": 0,
             "ticks": ""
            },
            "type": "choropleth"
           }
          ],
          "contourcarpet": [
           {
            "colorbar": {
             "outlinewidth": 0,
             "ticks": ""
            },
            "type": "contourcarpet"
           }
          ],
          "contour": [
           {
            "colorbar": {
             "outlinewidth": 0,
             "ticks": ""
            },
            "colorscale": [
             [
              0.0,
              "#0d0887"
             ],
             [
              0.1111111111111111,
              "#46039f"
             ],
             [
              0.2222222222222222,
              "#7201a8"
             ],
             [
              0.3333333333333333,
              "#9c179e"
             ],
             [
              0.4444444444444444,
              "#bd3786"
             ],
             [
              0.5555555555555556,
              "#d8576b"
             ],
             [
              0.6666666666666666,
              "#ed7953"
             ],
             [
              0.7777777777777778,
              "#fb9f3a"
             ],
             [
              0.8888888888888888,
              "#fdca26"
             ],
             [
              1.0,
              "#f0f921"
             ]
            ],
            "type": "contour"
           }
          ],
          "heatmapgl": [
           {
            "colorbar": {
             "outlinewidth": 0,
             "ticks": ""
            },
            "colorscale": [
             [
              0.0,
              "#0d0887"
             ],
             [
              0.1111111111111111,
              "#46039f"
             ],
             [
              0.2222222222222222,
              "#7201a8"
             ],
             [
              0.3333333333333333,
              "#9c179e"
             ],
             [
              0.4444444444444444,
              "#bd3786"
             ],
             [
              0.5555555555555556,
              "#d8576b"
             ],
             [
              0.6666666666666666,
              "#ed7953"
             ],
             [
              0.7777777777777778,
              "#fb9f3a"
             ],
             [
              0.8888888888888888,
              "#fdca26"
             ],
             [
              1.0,
              "#f0f921"
             ]
            ],
            "type": "heatmapgl"
           }
          ],
          "heatmap": [
           {
            "colorbar": {
             "outlinewidth": 0,
             "ticks": ""
            },
            "colorscale": [
             [
              0.0,
              "#0d0887"
             ],
             [
              0.1111111111111111,
              "#46039f"
             ],
             [
              0.2222222222222222,
              "#7201a8"
             ],
             [
              0.3333333333333333,
              "#9c179e"
             ],
             [
              0.4444444444444444,
              "#bd3786"
             ],
             [
              0.5555555555555556,
              "#d8576b"
             ],
             [
              0.6666666666666666,
              "#ed7953"
             ],
             [
              0.7777777777777778,
              "#fb9f3a"
             ],
             [
              0.8888888888888888,
              "#fdca26"
             ],
             [
              1.0,
              "#f0f921"
             ]
            ],
            "type": "heatmap"
           }
          ],
          "histogram2dcontour": [
           {
            "colorbar": {
             "outlinewidth": 0,
             "ticks": ""
            },
            "colorscale": [
             [
              0.0,
              "#0d0887"
             ],
             [
              0.1111111111111111,
              "#46039f"
             ],
             [
              0.2222222222222222,
              "#7201a8"
             ],
             [
              0.3333333333333333,
              "#9c179e"
             ],
             [
              0.4444444444444444,
              "#bd3786"
             ],
             [
              0.5555555555555556,
              "#d8576b"
             ],
             [
              0.6666666666666666,
              "#ed7953"
             ],
             [
              0.7777777777777778,
              "#fb9f3a"
             ],
             [
              0.8888888888888888,
              "#fdca26"
             ],
             [
              1.0,
              "#f0f921"
             ]
            ],
            "type": "histogram2dcontour"
           }
          ],
          "histogram2d": [
           {
            "colorbar": {
             "outlinewidth": 0,
             "ticks": ""
            },
            "colorscale": [
             [
              0.0,
              "#0d0887"
             ],
             [
              0.1111111111111111,
              "#46039f"
             ],
             [
              0.2222222222222222,
              "#7201a8"
             ],
             [
              0.3333333333333333,
              "#9c179e"
             ],
             [
              0.4444444444444444,
              "#bd3786"
             ],
             [
              0.5555555555555556,
              "#d8576b"
             ],
             [
              0.6666666666666666,
              "#ed7953"
             ],
             [
              0.7777777777777778,
              "#fb9f3a"
             ],
             [
              0.8888888888888888,
              "#fdca26"
             ],
             [
              1.0,
              "#f0f921"
             ]
            ],
            "type": "histogram2d"
           }
          ],
          "histogram": [
           {
            "marker": {
             "pattern": {
              "fillmode": "overlay",
              "size": 10,
              "solidity": 0.2
             }
            },
            "type": "histogram"
           }
          ],
          "mesh3d": [
           {
            "colorbar": {
             "outlinewidth": 0,
             "ticks": ""
            },
            "type": "mesh3d"
           }
          ],
          "parcoords": [
           {
            "line": {
             "colorbar": {
              "outlinewidth": 0,
              "ticks": ""
             }
            },
            "type": "parcoords"
           }
          ],
          "pie": [
           {
            "automargin": true,
            "type": "pie"
           }
          ],
          "scatter3d": [
           {
            "line": {
             "colorbar": {
              "outlinewidth": 0,
              "ticks": ""
             }
            },
            "marker": {
             "colorbar": {
              "outlinewidth": 0,
              "ticks": ""
             }
            },
            "type": "scatter3d"
           }
          ],
          "scattercarpet": [
           {
            "marker": {
             "colorbar": {
              "outlinewidth": 0,
              "ticks": ""
             }
            },
            "type": "scattercarpet"
           }
          ],
          "scattergeo": [
           {
            "marker": {
             "colorbar": {
              "outlinewidth": 0,
              "ticks": ""
             }
            },
            "type": "scattergeo"
           }
          ],
          "scattergl": [
           {
            "marker": {
             "line": {
              "color": "#283442"
             }
            },
            "type": "scattergl"
           }
          ],
          "scattermapbox": [
           {
            "marker": {
             "colorbar": {
              "outlinewidth": 0,
              "ticks": ""
             }
            },
            "type": "scattermapbox"
           }
          ],
          "scatterpolargl": [
           {
            "marker": {
             "colorbar": {
              "outlinewidth": 0,
              "ticks": ""
             }
            },
            "type": "scatterpolargl"
           }
          ],
          "scatterpolar": [
           {
            "marker": {
             "colorbar": {
              "outlinewidth": 0,
              "ticks": ""
             }
            },
            "type": "scatterpolar"
           }
          ],
          "scatter": [
           {
            "marker": {
             "line": {
              "color": "#283442"
             }
            },
            "type": "scatter"
           }
          ],
          "scatterternary": [
           {
            "marker": {
             "colorbar": {
              "outlinewidth": 0,
              "ticks": ""
             }
            },
            "type": "scatterternary"
           }
          ],
          "surface": [
           {
            "colorbar": {
             "outlinewidth": 0,
             "ticks": ""
            },
            "colorscale": [
             [
              0.0,
              "#0d0887"
             ],
             [
              0.1111111111111111,
              "#46039f"
             ],
             [
              0.2222222222222222,
              "#7201a8"
             ],
             [
              0.3333333333333333,
              "#9c179e"
             ],
             [
              0.4444444444444444,
              "#bd3786"
             ],
             [
              0.5555555555555556,
              "#d8576b"
             ],
             [
              0.6666666666666666,
              "#ed7953"
             ],
             [
              0.7777777777777778,
              "#fb9f3a"
             ],
             [
              0.8888888888888888,
              "#fdca26"
             ],
             [
              1.0,
              "#f0f921"
             ]
            ],
            "type": "surface"
           }
          ],
          "table": [
           {
            "cells": {
             "fill": {
              "color": "#506784"
             },
             "line": {
              "color": "rgb(17,17,17)"
             }
            },
            "header": {
             "fill": {
              "color": "#2a3f5f"
             },
             "line": {
              "color": "rgb(17,17,17)"
             }
            },
            "type": "table"
           }
          ]
         },
         "layout": {
          "annotationdefaults": {
           "arrowcolor": "#f2f5fa",
           "arrowhead": 0,
           "arrowwidth": 1
          },
          "autotypenumbers": "strict",
          "coloraxis": {
           "colorbar": {
            "outlinewidth": 0,
            "ticks": ""
           }
          },
          "colorscale": {
           "diverging": [
            [
             0,
             "#8e0152"
            ],
            [
             0.1,
             "#c51b7d"
            ],
            [
             0.2,
             "#de77ae"
            ],
            [
             0.3,
             "#f1b6da"
            ],
            [
             0.4,
             "#fde0ef"
            ],
            [
             0.5,
             "#f7f7f7"
            ],
            [
             0.6,
             "#e6f5d0"
            ],
            [
             0.7,
             "#b8e186"
            ],
            [
             0.8,
             "#7fbc41"
            ],
            [
             0.9,
             "#4d9221"
            ],
            [
             1,
             "#276419"
            ]
           ],
           "sequential": [
            [
             0.0,
             "#0d0887"
            ],
            [
             0.1111111111111111,
             "#46039f"
            ],
            [
             0.2222222222222222,
             "#7201a8"
            ],
            [
             0.3333333333333333,
             "#9c179e"
            ],
            [
             0.4444444444444444,
             "#bd3786"
            ],
            [
             0.5555555555555556,
             "#d8576b"
            ],
            [
             0.6666666666666666,
             "#ed7953"
            ],
            [
             0.7777777777777778,
             "#fb9f3a"
            ],
            [
             0.8888888888888888,
             "#fdca26"
            ],
            [
             1.0,
             "#f0f921"
            ]
           ],
           "sequentialminus": [
            [
             0.0,
             "#0d0887"
            ],
            [
             0.1111111111111111,
             "#46039f"
            ],
            [
             0.2222222222222222,
             "#7201a8"
            ],
            [
             0.3333333333333333,
             "#9c179e"
            ],
            [
             0.4444444444444444,
             "#bd3786"
            ],
            [
             0.5555555555555556,
             "#d8576b"
            ],
            [
             0.6666666666666666,
             "#ed7953"
            ],
            [
             0.7777777777777778,
             "#fb9f3a"
            ],
            [
             0.8888888888888888,
             "#fdca26"
            ],
            [
             1.0,
             "#f0f921"
            ]
           ]
          },
          "colorway": [
           "#636efa",
           "#EF553B",
           "#00cc96",
           "#ab63fa",
           "#FFA15A",
           "#19d3f3",
           "#FF6692",
           "#B6E880",
           "#FF97FF",
           "#FECB52"
          ],
          "font": {
           "color": "#f2f5fa"
          },
          "geo": {
           "bgcolor": "rgb(17,17,17)",
           "lakecolor": "rgb(17,17,17)",
           "landcolor": "rgb(17,17,17)",
           "showlakes": true,
           "showland": true,
           "subunitcolor": "#506784"
          },
          "hoverlabel": {
           "align": "left"
          },
          "hovermode": "closest",
          "mapbox": {
           "style": "dark"
          },
          "paper_bgcolor": "rgb(17,17,17)",
          "plot_bgcolor": "rgb(17,17,17)",
          "polar": {
           "angularaxis": {
            "gridcolor": "#506784",
            "linecolor": "#506784",
            "ticks": ""
           },
           "bgcolor": "rgb(17,17,17)",
           "radialaxis": {
            "gridcolor": "#506784",
            "linecolor": "#506784",
            "ticks": ""
           }
          },
          "scene": {
           "xaxis": {
            "backgroundcolor": "rgb(17,17,17)",
            "gridcolor": "#506784",
            "gridwidth": 2,
            "linecolor": "#506784",
            "showbackground": true,
            "ticks": "",
            "zerolinecolor": "#C8D4E3"
           },
           "yaxis": {
            "backgroundcolor": "rgb(17,17,17)",
            "gridcolor": "#506784",
            "gridwidth": 2,
            "linecolor": "#506784",
            "showbackground": true,
            "ticks": "",
            "zerolinecolor": "#C8D4E3"
           },
           "zaxis": {
            "backgroundcolor": "rgb(17,17,17)",
            "gridcolor": "#506784",
            "gridwidth": 2,
            "linecolor": "#506784",
            "showbackground": true,
            "ticks": "",
            "zerolinecolor": "#C8D4E3"
           }
          },
          "shapedefaults": {
           "line": {
            "color": "#f2f5fa"
           }
          },
          "sliderdefaults": {
           "bgcolor": "#C8D4E3",
           "bordercolor": "rgb(17,17,17)",
           "borderwidth": 1,
           "tickwidth": 0
          },
          "ternary": {
           "aaxis": {
            "gridcolor": "#506784",
            "linecolor": "#506784",
            "ticks": ""
           },
           "baxis": {
            "gridcolor": "#506784",
            "linecolor": "#506784",
            "ticks": ""
           },
           "bgcolor": "rgb(17,17,17)",
           "caxis": {
            "gridcolor": "#506784",
            "linecolor": "#506784",
            "ticks": ""
           }
          },
          "title": {
           "x": 0.05
          },
          "updatemenudefaults": {
           "bgcolor": "#506784",
           "borderwidth": 0
          },
          "xaxis": {
           "automargin": true,
           "gridcolor": "#283442",
           "linecolor": "#506784",
           "ticks": "",
           "title": {
            "standoff": 15
           },
           "zerolinecolor": "#283442",
           "zerolinewidth": 2
          },
          "yaxis": {
           "automargin": true,
           "gridcolor": "#283442",
           "linecolor": "#506784",
           "ticks": "",
           "title": {
            "standoff": 15
           },
           "zerolinecolor": "#283442",
           "zerolinewidth": 2
          }
         }
        },
        "title": {
         "text": "PUBG Wins vs Rounds Played"
        }
       },
       "config": {
        "showLink": false,
        "linkText": "Export to plot.ly",
        "plotlyServerURL": "https://plot.ly"
       }
      },
      "text/html": [
       "<div>                            <div id=\"0794a059-7d74-485d-a07e-14463a47b5f8\" class=\"plotly-graph-div\" style=\"height:525px; width:100%;\"></div>            <script type=\"text/javascript\">                require([\"plotly\"], function(Plotly) {                    window.PLOTLYENV=window.PLOTLYENV || {};                                    if (document.getElementById(\"0794a059-7d74-485d-a07e-14463a47b5f8\")) {                    Plotly.newPlot(                        \"0794a059-7d74-485d-a07e-14463a47b5f8\",                        [{\"name\":\"Rounds Won\",\"x\":[17,33,5,8,6,16,142,19,44,8],\"y\":[3,6,0,4,2,5,12,5,6,2],\"type\":\"scatter\"}],                        {\"plot_bgcolor\":\"rgb(230, 230,230)\",\"showlegend\":true,\"template\":{\"data\":{\"barpolar\":[{\"marker\":{\"line\":{\"color\":\"rgb(17,17,17)\",\"width\":0.5},\"pattern\":{\"fillmode\":\"overlay\",\"size\":10,\"solidity\":0.2}},\"type\":\"barpolar\"}],\"bar\":[{\"error_x\":{\"color\":\"#f2f5fa\"},\"error_y\":{\"color\":\"#f2f5fa\"},\"marker\":{\"line\":{\"color\":\"rgb(17,17,17)\",\"width\":0.5},\"pattern\":{\"fillmode\":\"overlay\",\"size\":10,\"solidity\":0.2}},\"type\":\"bar\"}],\"carpet\":[{\"aaxis\":{\"endlinecolor\":\"#A2B1C6\",\"gridcolor\":\"#506784\",\"linecolor\":\"#506784\",\"minorgridcolor\":\"#506784\",\"startlinecolor\":\"#A2B1C6\"},\"baxis\":{\"endlinecolor\":\"#A2B1C6\",\"gridcolor\":\"#506784\",\"linecolor\":\"#506784\",\"minorgridcolor\":\"#506784\",\"startlinecolor\":\"#A2B1C6\"},\"type\":\"carpet\"}],\"choropleth\":[{\"colorbar\":{\"outlinewidth\":0,\"ticks\":\"\"},\"type\":\"choropleth\"}],\"contourcarpet\":[{\"colorbar\":{\"outlinewidth\":0,\"ticks\":\"\"},\"type\":\"contourcarpet\"}],\"contour\":[{\"colorbar\":{\"outlinewidth\":0,\"ticks\":\"\"},\"colorscale\":[[0.0,\"#0d0887\"],[0.1111111111111111,\"#46039f\"],[0.2222222222222222,\"#7201a8\"],[0.3333333333333333,\"#9c179e\"],[0.4444444444444444,\"#bd3786\"],[0.5555555555555556,\"#d8576b\"],[0.6666666666666666,\"#ed7953\"],[0.7777777777777778,\"#fb9f3a\"],[0.8888888888888888,\"#fdca26\"],[1.0,\"#f0f921\"]],\"type\":\"contour\"}],\"heatmapgl\":[{\"colorbar\":{\"outlinewidth\":0,\"ticks\":\"\"},\"colorscale\":[[0.0,\"#0d0887\"],[0.1111111111111111,\"#46039f\"],[0.2222222222222222,\"#7201a8\"],[0.3333333333333333,\"#9c179e\"],[0.4444444444444444,\"#bd3786\"],[0.5555555555555556,\"#d8576b\"],[0.6666666666666666,\"#ed7953\"],[0.7777777777777778,\"#fb9f3a\"],[0.8888888888888888,\"#fdca26\"],[1.0,\"#f0f921\"]],\"type\":\"heatmapgl\"}],\"heatmap\":[{\"colorbar\":{\"outlinewidth\":0,\"ticks\":\"\"},\"colorscale\":[[0.0,\"#0d0887\"],[0.1111111111111111,\"#46039f\"],[0.2222222222222222,\"#7201a8\"],[0.3333333333333333,\"#9c179e\"],[0.4444444444444444,\"#bd3786\"],[0.5555555555555556,\"#d8576b\"],[0.6666666666666666,\"#ed7953\"],[0.7777777777777778,\"#fb9f3a\"],[0.8888888888888888,\"#fdca26\"],[1.0,\"#f0f921\"]],\"type\":\"heatmap\"}],\"histogram2dcontour\":[{\"colorbar\":{\"outlinewidth\":0,\"ticks\":\"\"},\"colorscale\":[[0.0,\"#0d0887\"],[0.1111111111111111,\"#46039f\"],[0.2222222222222222,\"#7201a8\"],[0.3333333333333333,\"#9c179e\"],[0.4444444444444444,\"#bd3786\"],[0.5555555555555556,\"#d8576b\"],[0.6666666666666666,\"#ed7953\"],[0.7777777777777778,\"#fb9f3a\"],[0.8888888888888888,\"#fdca26\"],[1.0,\"#f0f921\"]],\"type\":\"histogram2dcontour\"}],\"histogram2d\":[{\"colorbar\":{\"outlinewidth\":0,\"ticks\":\"\"},\"colorscale\":[[0.0,\"#0d0887\"],[0.1111111111111111,\"#46039f\"],[0.2222222222222222,\"#7201a8\"],[0.3333333333333333,\"#9c179e\"],[0.4444444444444444,\"#bd3786\"],[0.5555555555555556,\"#d8576b\"],[0.6666666666666666,\"#ed7953\"],[0.7777777777777778,\"#fb9f3a\"],[0.8888888888888888,\"#fdca26\"],[1.0,\"#f0f921\"]],\"type\":\"histogram2d\"}],\"histogram\":[{\"marker\":{\"pattern\":{\"fillmode\":\"overlay\",\"size\":10,\"solidity\":0.2}},\"type\":\"histogram\"}],\"mesh3d\":[{\"colorbar\":{\"outlinewidth\":0,\"ticks\":\"\"},\"type\":\"mesh3d\"}],\"parcoords\":[{\"line\":{\"colorbar\":{\"outlinewidth\":0,\"ticks\":\"\"}},\"type\":\"parcoords\"}],\"pie\":[{\"automargin\":true,\"type\":\"pie\"}],\"scatter3d\":[{\"line\":{\"colorbar\":{\"outlinewidth\":0,\"ticks\":\"\"}},\"marker\":{\"colorbar\":{\"outlinewidth\":0,\"ticks\":\"\"}},\"type\":\"scatter3d\"}],\"scattercarpet\":[{\"marker\":{\"colorbar\":{\"outlinewidth\":0,\"ticks\":\"\"}},\"type\":\"scattercarpet\"}],\"scattergeo\":[{\"marker\":{\"colorbar\":{\"outlinewidth\":0,\"ticks\":\"\"}},\"type\":\"scattergeo\"}],\"scattergl\":[{\"marker\":{\"line\":{\"color\":\"#283442\"}},\"type\":\"scattergl\"}],\"scattermapbox\":[{\"marker\":{\"colorbar\":{\"outlinewidth\":0,\"ticks\":\"\"}},\"type\":\"scattermapbox\"}],\"scatterpolargl\":[{\"marker\":{\"colorbar\":{\"outlinewidth\":0,\"ticks\":\"\"}},\"type\":\"scatterpolargl\"}],\"scatterpolar\":[{\"marker\":{\"colorbar\":{\"outlinewidth\":0,\"ticks\":\"\"}},\"type\":\"scatterpolar\"}],\"scatter\":[{\"marker\":{\"line\":{\"color\":\"#283442\"}},\"type\":\"scatter\"}],\"scatterternary\":[{\"marker\":{\"colorbar\":{\"outlinewidth\":0,\"ticks\":\"\"}},\"type\":\"scatterternary\"}],\"surface\":[{\"colorbar\":{\"outlinewidth\":0,\"ticks\":\"\"},\"colorscale\":[[0.0,\"#0d0887\"],[0.1111111111111111,\"#46039f\"],[0.2222222222222222,\"#7201a8\"],[0.3333333333333333,\"#9c179e\"],[0.4444444444444444,\"#bd3786\"],[0.5555555555555556,\"#d8576b\"],[0.6666666666666666,\"#ed7953\"],[0.7777777777777778,\"#fb9f3a\"],[0.8888888888888888,\"#fdca26\"],[1.0,\"#f0f921\"]],\"type\":\"surface\"}],\"table\":[{\"cells\":{\"fill\":{\"color\":\"#506784\"},\"line\":{\"color\":\"rgb(17,17,17)\"}},\"header\":{\"fill\":{\"color\":\"#2a3f5f\"},\"line\":{\"color\":\"rgb(17,17,17)\"}},\"type\":\"table\"}]},\"layout\":{\"annotationdefaults\":{\"arrowcolor\":\"#f2f5fa\",\"arrowhead\":0,\"arrowwidth\":1},\"autotypenumbers\":\"strict\",\"coloraxis\":{\"colorbar\":{\"outlinewidth\":0,\"ticks\":\"\"}},\"colorscale\":{\"diverging\":[[0,\"#8e0152\"],[0.1,\"#c51b7d\"],[0.2,\"#de77ae\"],[0.3,\"#f1b6da\"],[0.4,\"#fde0ef\"],[0.5,\"#f7f7f7\"],[0.6,\"#e6f5d0\"],[0.7,\"#b8e186\"],[0.8,\"#7fbc41\"],[0.9,\"#4d9221\"],[1,\"#276419\"]],\"sequential\":[[0.0,\"#0d0887\"],[0.1111111111111111,\"#46039f\"],[0.2222222222222222,\"#7201a8\"],[0.3333333333333333,\"#9c179e\"],[0.4444444444444444,\"#bd3786\"],[0.5555555555555556,\"#d8576b\"],[0.6666666666666666,\"#ed7953\"],[0.7777777777777778,\"#fb9f3a\"],[0.8888888888888888,\"#fdca26\"],[1.0,\"#f0f921\"]],\"sequentialminus\":[[0.0,\"#0d0887\"],[0.1111111111111111,\"#46039f\"],[0.2222222222222222,\"#7201a8\"],[0.3333333333333333,\"#9c179e\"],[0.4444444444444444,\"#bd3786\"],[0.5555555555555556,\"#d8576b\"],[0.6666666666666666,\"#ed7953\"],[0.7777777777777778,\"#fb9f3a\"],[0.8888888888888888,\"#fdca26\"],[1.0,\"#f0f921\"]]},\"colorway\":[\"#636efa\",\"#EF553B\",\"#00cc96\",\"#ab63fa\",\"#FFA15A\",\"#19d3f3\",\"#FF6692\",\"#B6E880\",\"#FF97FF\",\"#FECB52\"],\"font\":{\"color\":\"#f2f5fa\"},\"geo\":{\"bgcolor\":\"rgb(17,17,17)\",\"lakecolor\":\"rgb(17,17,17)\",\"landcolor\":\"rgb(17,17,17)\",\"showlakes\":true,\"showland\":true,\"subunitcolor\":\"#506784\"},\"hoverlabel\":{\"align\":\"left\"},\"hovermode\":\"closest\",\"mapbox\":{\"style\":\"dark\"},\"paper_bgcolor\":\"rgb(17,17,17)\",\"plot_bgcolor\":\"rgb(17,17,17)\",\"polar\":{\"angularaxis\":{\"gridcolor\":\"#506784\",\"linecolor\":\"#506784\",\"ticks\":\"\"},\"bgcolor\":\"rgb(17,17,17)\",\"radialaxis\":{\"gridcolor\":\"#506784\",\"linecolor\":\"#506784\",\"ticks\":\"\"}},\"scene\":{\"xaxis\":{\"backgroundcolor\":\"rgb(17,17,17)\",\"gridcolor\":\"#506784\",\"gridwidth\":2,\"linecolor\":\"#506784\",\"showbackground\":true,\"ticks\":\"\",\"zerolinecolor\":\"#C8D4E3\"},\"yaxis\":{\"backgroundcolor\":\"rgb(17,17,17)\",\"gridcolor\":\"#506784\",\"gridwidth\":2,\"linecolor\":\"#506784\",\"showbackground\":true,\"ticks\":\"\",\"zerolinecolor\":\"#C8D4E3\"},\"zaxis\":{\"backgroundcolor\":\"rgb(17,17,17)\",\"gridcolor\":\"#506784\",\"gridwidth\":2,\"linecolor\":\"#506784\",\"showbackground\":true,\"ticks\":\"\",\"zerolinecolor\":\"#C8D4E3\"}},\"shapedefaults\":{\"line\":{\"color\":\"#f2f5fa\"}},\"sliderdefaults\":{\"bgcolor\":\"#C8D4E3\",\"bordercolor\":\"rgb(17,17,17)\",\"borderwidth\":1,\"tickwidth\":0},\"ternary\":{\"aaxis\":{\"gridcolor\":\"#506784\",\"linecolor\":\"#506784\",\"ticks\":\"\"},\"baxis\":{\"gridcolor\":\"#506784\",\"linecolor\":\"#506784\",\"ticks\":\"\"},\"bgcolor\":\"rgb(17,17,17)\",\"caxis\":{\"gridcolor\":\"#506784\",\"linecolor\":\"#506784\",\"ticks\":\"\"}},\"title\":{\"x\":0.05},\"updatemenudefaults\":{\"bgcolor\":\"#506784\",\"borderwidth\":0},\"xaxis\":{\"automargin\":true,\"gridcolor\":\"#283442\",\"linecolor\":\"#506784\",\"ticks\":\"\",\"title\":{\"standoff\":15},\"zerolinecolor\":\"#283442\",\"zerolinewidth\":2},\"yaxis\":{\"automargin\":true,\"gridcolor\":\"#283442\",\"linecolor\":\"#506784\",\"ticks\":\"\",\"title\":{\"standoff\":15},\"zerolinecolor\":\"#283442\",\"zerolinewidth\":2}}},\"title\":{\"text\":\"PUBG Wins vs Rounds Played\"}},                        {\"responsive\": true}                    ).then(function(){\n",
       "                            \n",
       "var gd = document.getElementById('0794a059-7d74-485d-a07e-14463a47b5f8');\n",
       "var x = new MutationObserver(function (mutations, observer) {{\n",
       "        var display = window.getComputedStyle(gd).display;\n",
       "        if (!display || display === 'none') {{\n",
       "            console.log([gd, 'removed!']);\n",
       "            Plotly.purge(gd);\n",
       "            observer.disconnect();\n",
       "        }}\n",
       "}});\n",
       "\n",
       "// Listen for the removal of the full notebook cells\n",
       "var notebookContainer = gd.closest('#notebook-container');\n",
       "if (notebookContainer) {{\n",
       "    x.observe(notebookContainer, {childList: true});\n",
       "}}\n",
       "\n",
       "// Listen for the clearing of the current output cell\n",
       "var outputEl = gd.closest('.output');\n",
       "if (outputEl) {{\n",
       "    x.observe(outputEl, {childList: true});\n",
       "}}\n",
       "\n",
       "                        })                };                });            </script>        </div>"
      ]
     },
     "metadata": {},
     "output_type": "display_data"
    }
   ],
   "execution_count": 27
  },
  {
   "cell_type": "code",
   "metadata": {
    "id": "AHqeef1L25LJ",
    "ExecuteTime": {
     "end_time": "2024-06-11T15:11:58.178253Z",
     "start_time": "2024-06-11T15:11:58.174222Z"
    }
   },
   "source": [
    "df_bar_pubg = df_pubg.head(30)"
   ],
   "outputs": [],
   "execution_count": 28
  },
  {
   "cell_type": "code",
   "metadata": {
    "id": "KGtpD0AZ25LJ",
    "ExecuteTime": {
     "end_time": "2024-06-11T15:12:00.904486Z",
     "start_time": "2024-06-11T15:12:00.868932Z"
    }
   },
   "source": [
    "trace1 = go.Bar(\n",
    "\tx = df_bar_pubg['player_name'],\n",
    "\ty = df_bar_pubg['solo_RoundsPlayed'],\n",
    "\tname = 'Rounds Played')\n",
    "\n",
    "trace2 = go.Bar(\n",
    "\tx = df_bar_pubg['player_name'],\n",
    "\ty = df_bar_pubg['solo_Wins'],\n",
    "\tname = 'Wins')\n",
    "\n"
   ],
   "outputs": [],
   "execution_count": 29
  },
  {
   "cell_type": "code",
   "metadata": {
    "id": "3qrNb6nq25LK",
    "outputId": "8ff324c0-948b-4469-9a94-f13f1cccc2fd",
    "ExecuteTime": {
     "end_time": "2024-06-11T15:12:03.754003Z",
     "start_time": "2024-06-11T15:12:03.611080Z"
    }
   },
   "source": [
    "data = [trace1, trace2]\n",
    "layout = go.Layout(barmode = 'group')\n",
    "\n",
    "fig = go.Figure(data = data, layout = layout)\n",
    "iplot(fig, filename = 'grouped-bar')"
   ],
   "outputs": [
    {
     "data": {
      "application/vnd.plotly.v1+json": {
       "data": [
        {
         "name": "Rounds Played",
         "x": [
          "BreakNeck",
          "Blackwalk",
          "mercedes_benz",
          "DORA",
          "n2tstar",
          "coldoxygen",
          "Giken",
          "KoreaNo1",
          "undor",
          "Fordune",
          "PandaTV-Tongk",
          "Benny-_-",
          "PanDaTV_Karl",
          "homeboye",
          "YUPPIEE",
          "Doomhammer",
          "DinghisKhan",
          "YoonRoot",
          "3N1GmA",
          "synthtail",
          "SevenWolf",
          "FZTEAMLDS",
          "1125",
          "BombBurst",
          "SILPHTV",
          "SexyPIG",
          "TOP_94",
          "zeggi",
          "baoli6666666",
          "Toadoo1"
         ],
         "y": [
          17,
          33,
          5,
          8,
          6,
          16,
          142,
          19,
          44,
          8,
          116,
          335,
          87,
          72,
          23,
          3,
          165,
          65,
          16,
          45,
          55,
          45,
          9,
          14,
          277,
          265,
          77,
          52,
          56,
          22
         ],
         "type": "bar"
        },
        {
         "name": "Wins",
         "x": [
          "BreakNeck",
          "Blackwalk",
          "mercedes_benz",
          "DORA",
          "n2tstar",
          "coldoxygen",
          "Giken",
          "KoreaNo1",
          "undor",
          "Fordune",
          "PandaTV-Tongk",
          "Benny-_-",
          "PanDaTV_Karl",
          "homeboye",
          "YUPPIEE",
          "Doomhammer",
          "DinghisKhan",
          "YoonRoot",
          "3N1GmA",
          "synthtail",
          "SevenWolf",
          "FZTEAMLDS",
          "1125",
          "BombBurst",
          "SILPHTV",
          "SexyPIG",
          "TOP_94",
          "zeggi",
          "baoli6666666",
          "Toadoo1"
         ],
         "y": [
          3,
          6,
          0,
          4,
          2,
          5,
          12,
          5,
          6,
          2,
          7,
          4,
          9,
          4,
          3,
          1,
          38,
          12,
          6,
          2,
          7,
          4,
          3,
          2,
          48,
          63,
          4,
          3,
          3,
          2
         ],
         "type": "bar"
        }
       ],
       "layout": {
        "barmode": "group",
        "template": {
         "data": {
          "barpolar": [
           {
            "marker": {
             "line": {
              "color": "rgb(17,17,17)",
              "width": 0.5
             },
             "pattern": {
              "fillmode": "overlay",
              "size": 10,
              "solidity": 0.2
             }
            },
            "type": "barpolar"
           }
          ],
          "bar": [
           {
            "error_x": {
             "color": "#f2f5fa"
            },
            "error_y": {
             "color": "#f2f5fa"
            },
            "marker": {
             "line": {
              "color": "rgb(17,17,17)",
              "width": 0.5
             },
             "pattern": {
              "fillmode": "overlay",
              "size": 10,
              "solidity": 0.2
             }
            },
            "type": "bar"
           }
          ],
          "carpet": [
           {
            "aaxis": {
             "endlinecolor": "#A2B1C6",
             "gridcolor": "#506784",
             "linecolor": "#506784",
             "minorgridcolor": "#506784",
             "startlinecolor": "#A2B1C6"
            },
            "baxis": {
             "endlinecolor": "#A2B1C6",
             "gridcolor": "#506784",
             "linecolor": "#506784",
             "minorgridcolor": "#506784",
             "startlinecolor": "#A2B1C6"
            },
            "type": "carpet"
           }
          ],
          "choropleth": [
           {
            "colorbar": {
             "outlinewidth": 0,
             "ticks": ""
            },
            "type": "choropleth"
           }
          ],
          "contourcarpet": [
           {
            "colorbar": {
             "outlinewidth": 0,
             "ticks": ""
            },
            "type": "contourcarpet"
           }
          ],
          "contour": [
           {
            "colorbar": {
             "outlinewidth": 0,
             "ticks": ""
            },
            "colorscale": [
             [
              0.0,
              "#0d0887"
             ],
             [
              0.1111111111111111,
              "#46039f"
             ],
             [
              0.2222222222222222,
              "#7201a8"
             ],
             [
              0.3333333333333333,
              "#9c179e"
             ],
             [
              0.4444444444444444,
              "#bd3786"
             ],
             [
              0.5555555555555556,
              "#d8576b"
             ],
             [
              0.6666666666666666,
              "#ed7953"
             ],
             [
              0.7777777777777778,
              "#fb9f3a"
             ],
             [
              0.8888888888888888,
              "#fdca26"
             ],
             [
              1.0,
              "#f0f921"
             ]
            ],
            "type": "contour"
           }
          ],
          "heatmapgl": [
           {
            "colorbar": {
             "outlinewidth": 0,
             "ticks": ""
            },
            "colorscale": [
             [
              0.0,
              "#0d0887"
             ],
             [
              0.1111111111111111,
              "#46039f"
             ],
             [
              0.2222222222222222,
              "#7201a8"
             ],
             [
              0.3333333333333333,
              "#9c179e"
             ],
             [
              0.4444444444444444,
              "#bd3786"
             ],
             [
              0.5555555555555556,
              "#d8576b"
             ],
             [
              0.6666666666666666,
              "#ed7953"
             ],
             [
              0.7777777777777778,
              "#fb9f3a"
             ],
             [
              0.8888888888888888,
              "#fdca26"
             ],
             [
              1.0,
              "#f0f921"
             ]
            ],
            "type": "heatmapgl"
           }
          ],
          "heatmap": [
           {
            "colorbar": {
             "outlinewidth": 0,
             "ticks": ""
            },
            "colorscale": [
             [
              0.0,
              "#0d0887"
             ],
             [
              0.1111111111111111,
              "#46039f"
             ],
             [
              0.2222222222222222,
              "#7201a8"
             ],
             [
              0.3333333333333333,
              "#9c179e"
             ],
             [
              0.4444444444444444,
              "#bd3786"
             ],
             [
              0.5555555555555556,
              "#d8576b"
             ],
             [
              0.6666666666666666,
              "#ed7953"
             ],
             [
              0.7777777777777778,
              "#fb9f3a"
             ],
             [
              0.8888888888888888,
              "#fdca26"
             ],
             [
              1.0,
              "#f0f921"
             ]
            ],
            "type": "heatmap"
           }
          ],
          "histogram2dcontour": [
           {
            "colorbar": {
             "outlinewidth": 0,
             "ticks": ""
            },
            "colorscale": [
             [
              0.0,
              "#0d0887"
             ],
             [
              0.1111111111111111,
              "#46039f"
             ],
             [
              0.2222222222222222,
              "#7201a8"
             ],
             [
              0.3333333333333333,
              "#9c179e"
             ],
             [
              0.4444444444444444,
              "#bd3786"
             ],
             [
              0.5555555555555556,
              "#d8576b"
             ],
             [
              0.6666666666666666,
              "#ed7953"
             ],
             [
              0.7777777777777778,
              "#fb9f3a"
             ],
             [
              0.8888888888888888,
              "#fdca26"
             ],
             [
              1.0,
              "#f0f921"
             ]
            ],
            "type": "histogram2dcontour"
           }
          ],
          "histogram2d": [
           {
            "colorbar": {
             "outlinewidth": 0,
             "ticks": ""
            },
            "colorscale": [
             [
              0.0,
              "#0d0887"
             ],
             [
              0.1111111111111111,
              "#46039f"
             ],
             [
              0.2222222222222222,
              "#7201a8"
             ],
             [
              0.3333333333333333,
              "#9c179e"
             ],
             [
              0.4444444444444444,
              "#bd3786"
             ],
             [
              0.5555555555555556,
              "#d8576b"
             ],
             [
              0.6666666666666666,
              "#ed7953"
             ],
             [
              0.7777777777777778,
              "#fb9f3a"
             ],
             [
              0.8888888888888888,
              "#fdca26"
             ],
             [
              1.0,
              "#f0f921"
             ]
            ],
            "type": "histogram2d"
           }
          ],
          "histogram": [
           {
            "marker": {
             "pattern": {
              "fillmode": "overlay",
              "size": 10,
              "solidity": 0.2
             }
            },
            "type": "histogram"
           }
          ],
          "mesh3d": [
           {
            "colorbar": {
             "outlinewidth": 0,
             "ticks": ""
            },
            "type": "mesh3d"
           }
          ],
          "parcoords": [
           {
            "line": {
             "colorbar": {
              "outlinewidth": 0,
              "ticks": ""
             }
            },
            "type": "parcoords"
           }
          ],
          "pie": [
           {
            "automargin": true,
            "type": "pie"
           }
          ],
          "scatter3d": [
           {
            "line": {
             "colorbar": {
              "outlinewidth": 0,
              "ticks": ""
             }
            },
            "marker": {
             "colorbar": {
              "outlinewidth": 0,
              "ticks": ""
             }
            },
            "type": "scatter3d"
           }
          ],
          "scattercarpet": [
           {
            "marker": {
             "colorbar": {
              "outlinewidth": 0,
              "ticks": ""
             }
            },
            "type": "scattercarpet"
           }
          ],
          "scattergeo": [
           {
            "marker": {
             "colorbar": {
              "outlinewidth": 0,
              "ticks": ""
             }
            },
            "type": "scattergeo"
           }
          ],
          "scattergl": [
           {
            "marker": {
             "line": {
              "color": "#283442"
             }
            },
            "type": "scattergl"
           }
          ],
          "scattermapbox": [
           {
            "marker": {
             "colorbar": {
              "outlinewidth": 0,
              "ticks": ""
             }
            },
            "type": "scattermapbox"
           }
          ],
          "scatterpolargl": [
           {
            "marker": {
             "colorbar": {
              "outlinewidth": 0,
              "ticks": ""
             }
            },
            "type": "scatterpolargl"
           }
          ],
          "scatterpolar": [
           {
            "marker": {
             "colorbar": {
              "outlinewidth": 0,
              "ticks": ""
             }
            },
            "type": "scatterpolar"
           }
          ],
          "scatter": [
           {
            "marker": {
             "line": {
              "color": "#283442"
             }
            },
            "type": "scatter"
           }
          ],
          "scatterternary": [
           {
            "marker": {
             "colorbar": {
              "outlinewidth": 0,
              "ticks": ""
             }
            },
            "type": "scatterternary"
           }
          ],
          "surface": [
           {
            "colorbar": {
             "outlinewidth": 0,
             "ticks": ""
            },
            "colorscale": [
             [
              0.0,
              "#0d0887"
             ],
             [
              0.1111111111111111,
              "#46039f"
             ],
             [
              0.2222222222222222,
              "#7201a8"
             ],
             [
              0.3333333333333333,
              "#9c179e"
             ],
             [
              0.4444444444444444,
              "#bd3786"
             ],
             [
              0.5555555555555556,
              "#d8576b"
             ],
             [
              0.6666666666666666,
              "#ed7953"
             ],
             [
              0.7777777777777778,
              "#fb9f3a"
             ],
             [
              0.8888888888888888,
              "#fdca26"
             ],
             [
              1.0,
              "#f0f921"
             ]
            ],
            "type": "surface"
           }
          ],
          "table": [
           {
            "cells": {
             "fill": {
              "color": "#506784"
             },
             "line": {
              "color": "rgb(17,17,17)"
             }
            },
            "header": {
             "fill": {
              "color": "#2a3f5f"
             },
             "line": {
              "color": "rgb(17,17,17)"
             }
            },
            "type": "table"
           }
          ]
         },
         "layout": {
          "annotationdefaults": {
           "arrowcolor": "#f2f5fa",
           "arrowhead": 0,
           "arrowwidth": 1
          },
          "autotypenumbers": "strict",
          "coloraxis": {
           "colorbar": {
            "outlinewidth": 0,
            "ticks": ""
           }
          },
          "colorscale": {
           "diverging": [
            [
             0,
             "#8e0152"
            ],
            [
             0.1,
             "#c51b7d"
            ],
            [
             0.2,
             "#de77ae"
            ],
            [
             0.3,
             "#f1b6da"
            ],
            [
             0.4,
             "#fde0ef"
            ],
            [
             0.5,
             "#f7f7f7"
            ],
            [
             0.6,
             "#e6f5d0"
            ],
            [
             0.7,
             "#b8e186"
            ],
            [
             0.8,
             "#7fbc41"
            ],
            [
             0.9,
             "#4d9221"
            ],
            [
             1,
             "#276419"
            ]
           ],
           "sequential": [
            [
             0.0,
             "#0d0887"
            ],
            [
             0.1111111111111111,
             "#46039f"
            ],
            [
             0.2222222222222222,
             "#7201a8"
            ],
            [
             0.3333333333333333,
             "#9c179e"
            ],
            [
             0.4444444444444444,
             "#bd3786"
            ],
            [
             0.5555555555555556,
             "#d8576b"
            ],
            [
             0.6666666666666666,
             "#ed7953"
            ],
            [
             0.7777777777777778,
             "#fb9f3a"
            ],
            [
             0.8888888888888888,
             "#fdca26"
            ],
            [
             1.0,
             "#f0f921"
            ]
           ],
           "sequentialminus": [
            [
             0.0,
             "#0d0887"
            ],
            [
             0.1111111111111111,
             "#46039f"
            ],
            [
             0.2222222222222222,
             "#7201a8"
            ],
            [
             0.3333333333333333,
             "#9c179e"
            ],
            [
             0.4444444444444444,
             "#bd3786"
            ],
            [
             0.5555555555555556,
             "#d8576b"
            ],
            [
             0.6666666666666666,
             "#ed7953"
            ],
            [
             0.7777777777777778,
             "#fb9f3a"
            ],
            [
             0.8888888888888888,
             "#fdca26"
            ],
            [
             1.0,
             "#f0f921"
            ]
           ]
          },
          "colorway": [
           "#636efa",
           "#EF553B",
           "#00cc96",
           "#ab63fa",
           "#FFA15A",
           "#19d3f3",
           "#FF6692",
           "#B6E880",
           "#FF97FF",
           "#FECB52"
          ],
          "font": {
           "color": "#f2f5fa"
          },
          "geo": {
           "bgcolor": "rgb(17,17,17)",
           "lakecolor": "rgb(17,17,17)",
           "landcolor": "rgb(17,17,17)",
           "showlakes": true,
           "showland": true,
           "subunitcolor": "#506784"
          },
          "hoverlabel": {
           "align": "left"
          },
          "hovermode": "closest",
          "mapbox": {
           "style": "dark"
          },
          "paper_bgcolor": "rgb(17,17,17)",
          "plot_bgcolor": "rgb(17,17,17)",
          "polar": {
           "angularaxis": {
            "gridcolor": "#506784",
            "linecolor": "#506784",
            "ticks": ""
           },
           "bgcolor": "rgb(17,17,17)",
           "radialaxis": {
            "gridcolor": "#506784",
            "linecolor": "#506784",
            "ticks": ""
           }
          },
          "scene": {
           "xaxis": {
            "backgroundcolor": "rgb(17,17,17)",
            "gridcolor": "#506784",
            "gridwidth": 2,
            "linecolor": "#506784",
            "showbackground": true,
            "ticks": "",
            "zerolinecolor": "#C8D4E3"
           },
           "yaxis": {
            "backgroundcolor": "rgb(17,17,17)",
            "gridcolor": "#506784",
            "gridwidth": 2,
            "linecolor": "#506784",
            "showbackground": true,
            "ticks": "",
            "zerolinecolor": "#C8D4E3"
           },
           "zaxis": {
            "backgroundcolor": "rgb(17,17,17)",
            "gridcolor": "#506784",
            "gridwidth": 2,
            "linecolor": "#506784",
            "showbackground": true,
            "ticks": "",
            "zerolinecolor": "#C8D4E3"
           }
          },
          "shapedefaults": {
           "line": {
            "color": "#f2f5fa"
           }
          },
          "sliderdefaults": {
           "bgcolor": "#C8D4E3",
           "bordercolor": "rgb(17,17,17)",
           "borderwidth": 1,
           "tickwidth": 0
          },
          "ternary": {
           "aaxis": {
            "gridcolor": "#506784",
            "linecolor": "#506784",
            "ticks": ""
           },
           "baxis": {
            "gridcolor": "#506784",
            "linecolor": "#506784",
            "ticks": ""
           },
           "bgcolor": "rgb(17,17,17)",
           "caxis": {
            "gridcolor": "#506784",
            "linecolor": "#506784",
            "ticks": ""
           }
          },
          "title": {
           "x": 0.05
          },
          "updatemenudefaults": {
           "bgcolor": "#506784",
           "borderwidth": 0
          },
          "xaxis": {
           "automargin": true,
           "gridcolor": "#283442",
           "linecolor": "#506784",
           "ticks": "",
           "title": {
            "standoff": 15
           },
           "zerolinecolor": "#283442",
           "zerolinewidth": 2
          },
          "yaxis": {
           "automargin": true,
           "gridcolor": "#283442",
           "linecolor": "#506784",
           "ticks": "",
           "title": {
            "standoff": 15
           },
           "zerolinecolor": "#283442",
           "zerolinewidth": 2
          }
         }
        }
       },
       "config": {
        "showLink": false,
        "linkText": "Export to plot.ly",
        "plotlyServerURL": "https://plot.ly"
       }
      },
      "text/html": [
       "<div>                            <div id=\"af28c636-2e9a-438a-ad69-d61b79142095\" class=\"plotly-graph-div\" style=\"height:525px; width:100%;\"></div>            <script type=\"text/javascript\">                require([\"plotly\"], function(Plotly) {                    window.PLOTLYENV=window.PLOTLYENV || {};                                    if (document.getElementById(\"af28c636-2e9a-438a-ad69-d61b79142095\")) {                    Plotly.newPlot(                        \"af28c636-2e9a-438a-ad69-d61b79142095\",                        [{\"name\":\"Rounds Played\",\"x\":[\"BreakNeck\",\"Blackwalk\",\"mercedes_benz\",\"DORA\",\"n2tstar\",\"coldoxygen\",\"Giken\",\"KoreaNo1\",\"undor\",\"Fordune\",\"PandaTV-Tongk\",\"Benny-_-\",\"PanDaTV_Karl\",\"homeboye\",\"YUPPIEE\",\"Doomhammer\",\"DinghisKhan\",\"YoonRoot\",\"3N1GmA\",\"synthtail\",\"SevenWolf\",\"FZTEAMLDS\",\"1125\",\"BombBurst\",\"SILPHTV\",\"SexyPIG\",\"TOP_94\",\"zeggi\",\"baoli6666666\",\"Toadoo1\"],\"y\":[17,33,5,8,6,16,142,19,44,8,116,335,87,72,23,3,165,65,16,45,55,45,9,14,277,265,77,52,56,22],\"type\":\"bar\"},{\"name\":\"Wins\",\"x\":[\"BreakNeck\",\"Blackwalk\",\"mercedes_benz\",\"DORA\",\"n2tstar\",\"coldoxygen\",\"Giken\",\"KoreaNo1\",\"undor\",\"Fordune\",\"PandaTV-Tongk\",\"Benny-_-\",\"PanDaTV_Karl\",\"homeboye\",\"YUPPIEE\",\"Doomhammer\",\"DinghisKhan\",\"YoonRoot\",\"3N1GmA\",\"synthtail\",\"SevenWolf\",\"FZTEAMLDS\",\"1125\",\"BombBurst\",\"SILPHTV\",\"SexyPIG\",\"TOP_94\",\"zeggi\",\"baoli6666666\",\"Toadoo1\"],\"y\":[3,6,0,4,2,5,12,5,6,2,7,4,9,4,3,1,38,12,6,2,7,4,3,2,48,63,4,3,3,2],\"type\":\"bar\"}],                        {\"barmode\":\"group\",\"template\":{\"data\":{\"barpolar\":[{\"marker\":{\"line\":{\"color\":\"rgb(17,17,17)\",\"width\":0.5},\"pattern\":{\"fillmode\":\"overlay\",\"size\":10,\"solidity\":0.2}},\"type\":\"barpolar\"}],\"bar\":[{\"error_x\":{\"color\":\"#f2f5fa\"},\"error_y\":{\"color\":\"#f2f5fa\"},\"marker\":{\"line\":{\"color\":\"rgb(17,17,17)\",\"width\":0.5},\"pattern\":{\"fillmode\":\"overlay\",\"size\":10,\"solidity\":0.2}},\"type\":\"bar\"}],\"carpet\":[{\"aaxis\":{\"endlinecolor\":\"#A2B1C6\",\"gridcolor\":\"#506784\",\"linecolor\":\"#506784\",\"minorgridcolor\":\"#506784\",\"startlinecolor\":\"#A2B1C6\"},\"baxis\":{\"endlinecolor\":\"#A2B1C6\",\"gridcolor\":\"#506784\",\"linecolor\":\"#506784\",\"minorgridcolor\":\"#506784\",\"startlinecolor\":\"#A2B1C6\"},\"type\":\"carpet\"}],\"choropleth\":[{\"colorbar\":{\"outlinewidth\":0,\"ticks\":\"\"},\"type\":\"choropleth\"}],\"contourcarpet\":[{\"colorbar\":{\"outlinewidth\":0,\"ticks\":\"\"},\"type\":\"contourcarpet\"}],\"contour\":[{\"colorbar\":{\"outlinewidth\":0,\"ticks\":\"\"},\"colorscale\":[[0.0,\"#0d0887\"],[0.1111111111111111,\"#46039f\"],[0.2222222222222222,\"#7201a8\"],[0.3333333333333333,\"#9c179e\"],[0.4444444444444444,\"#bd3786\"],[0.5555555555555556,\"#d8576b\"],[0.6666666666666666,\"#ed7953\"],[0.7777777777777778,\"#fb9f3a\"],[0.8888888888888888,\"#fdca26\"],[1.0,\"#f0f921\"]],\"type\":\"contour\"}],\"heatmapgl\":[{\"colorbar\":{\"outlinewidth\":0,\"ticks\":\"\"},\"colorscale\":[[0.0,\"#0d0887\"],[0.1111111111111111,\"#46039f\"],[0.2222222222222222,\"#7201a8\"],[0.3333333333333333,\"#9c179e\"],[0.4444444444444444,\"#bd3786\"],[0.5555555555555556,\"#d8576b\"],[0.6666666666666666,\"#ed7953\"],[0.7777777777777778,\"#fb9f3a\"],[0.8888888888888888,\"#fdca26\"],[1.0,\"#f0f921\"]],\"type\":\"heatmapgl\"}],\"heatmap\":[{\"colorbar\":{\"outlinewidth\":0,\"ticks\":\"\"},\"colorscale\":[[0.0,\"#0d0887\"],[0.1111111111111111,\"#46039f\"],[0.2222222222222222,\"#7201a8\"],[0.3333333333333333,\"#9c179e\"],[0.4444444444444444,\"#bd3786\"],[0.5555555555555556,\"#d8576b\"],[0.6666666666666666,\"#ed7953\"],[0.7777777777777778,\"#fb9f3a\"],[0.8888888888888888,\"#fdca26\"],[1.0,\"#f0f921\"]],\"type\":\"heatmap\"}],\"histogram2dcontour\":[{\"colorbar\":{\"outlinewidth\":0,\"ticks\":\"\"},\"colorscale\":[[0.0,\"#0d0887\"],[0.1111111111111111,\"#46039f\"],[0.2222222222222222,\"#7201a8\"],[0.3333333333333333,\"#9c179e\"],[0.4444444444444444,\"#bd3786\"],[0.5555555555555556,\"#d8576b\"],[0.6666666666666666,\"#ed7953\"],[0.7777777777777778,\"#fb9f3a\"],[0.8888888888888888,\"#fdca26\"],[1.0,\"#f0f921\"]],\"type\":\"histogram2dcontour\"}],\"histogram2d\":[{\"colorbar\":{\"outlinewidth\":0,\"ticks\":\"\"},\"colorscale\":[[0.0,\"#0d0887\"],[0.1111111111111111,\"#46039f\"],[0.2222222222222222,\"#7201a8\"],[0.3333333333333333,\"#9c179e\"],[0.4444444444444444,\"#bd3786\"],[0.5555555555555556,\"#d8576b\"],[0.6666666666666666,\"#ed7953\"],[0.7777777777777778,\"#fb9f3a\"],[0.8888888888888888,\"#fdca26\"],[1.0,\"#f0f921\"]],\"type\":\"histogram2d\"}],\"histogram\":[{\"marker\":{\"pattern\":{\"fillmode\":\"overlay\",\"size\":10,\"solidity\":0.2}},\"type\":\"histogram\"}],\"mesh3d\":[{\"colorbar\":{\"outlinewidth\":0,\"ticks\":\"\"},\"type\":\"mesh3d\"}],\"parcoords\":[{\"line\":{\"colorbar\":{\"outlinewidth\":0,\"ticks\":\"\"}},\"type\":\"parcoords\"}],\"pie\":[{\"automargin\":true,\"type\":\"pie\"}],\"scatter3d\":[{\"line\":{\"colorbar\":{\"outlinewidth\":0,\"ticks\":\"\"}},\"marker\":{\"colorbar\":{\"outlinewidth\":0,\"ticks\":\"\"}},\"type\":\"scatter3d\"}],\"scattercarpet\":[{\"marker\":{\"colorbar\":{\"outlinewidth\":0,\"ticks\":\"\"}},\"type\":\"scattercarpet\"}],\"scattergeo\":[{\"marker\":{\"colorbar\":{\"outlinewidth\":0,\"ticks\":\"\"}},\"type\":\"scattergeo\"}],\"scattergl\":[{\"marker\":{\"line\":{\"color\":\"#283442\"}},\"type\":\"scattergl\"}],\"scattermapbox\":[{\"marker\":{\"colorbar\":{\"outlinewidth\":0,\"ticks\":\"\"}},\"type\":\"scattermapbox\"}],\"scatterpolargl\":[{\"marker\":{\"colorbar\":{\"outlinewidth\":0,\"ticks\":\"\"}},\"type\":\"scatterpolargl\"}],\"scatterpolar\":[{\"marker\":{\"colorbar\":{\"outlinewidth\":0,\"ticks\":\"\"}},\"type\":\"scatterpolar\"}],\"scatter\":[{\"marker\":{\"line\":{\"color\":\"#283442\"}},\"type\":\"scatter\"}],\"scatterternary\":[{\"marker\":{\"colorbar\":{\"outlinewidth\":0,\"ticks\":\"\"}},\"type\":\"scatterternary\"}],\"surface\":[{\"colorbar\":{\"outlinewidth\":0,\"ticks\":\"\"},\"colorscale\":[[0.0,\"#0d0887\"],[0.1111111111111111,\"#46039f\"],[0.2222222222222222,\"#7201a8\"],[0.3333333333333333,\"#9c179e\"],[0.4444444444444444,\"#bd3786\"],[0.5555555555555556,\"#d8576b\"],[0.6666666666666666,\"#ed7953\"],[0.7777777777777778,\"#fb9f3a\"],[0.8888888888888888,\"#fdca26\"],[1.0,\"#f0f921\"]],\"type\":\"surface\"}],\"table\":[{\"cells\":{\"fill\":{\"color\":\"#506784\"},\"line\":{\"color\":\"rgb(17,17,17)\"}},\"header\":{\"fill\":{\"color\":\"#2a3f5f\"},\"line\":{\"color\":\"rgb(17,17,17)\"}},\"type\":\"table\"}]},\"layout\":{\"annotationdefaults\":{\"arrowcolor\":\"#f2f5fa\",\"arrowhead\":0,\"arrowwidth\":1},\"autotypenumbers\":\"strict\",\"coloraxis\":{\"colorbar\":{\"outlinewidth\":0,\"ticks\":\"\"}},\"colorscale\":{\"diverging\":[[0,\"#8e0152\"],[0.1,\"#c51b7d\"],[0.2,\"#de77ae\"],[0.3,\"#f1b6da\"],[0.4,\"#fde0ef\"],[0.5,\"#f7f7f7\"],[0.6,\"#e6f5d0\"],[0.7,\"#b8e186\"],[0.8,\"#7fbc41\"],[0.9,\"#4d9221\"],[1,\"#276419\"]],\"sequential\":[[0.0,\"#0d0887\"],[0.1111111111111111,\"#46039f\"],[0.2222222222222222,\"#7201a8\"],[0.3333333333333333,\"#9c179e\"],[0.4444444444444444,\"#bd3786\"],[0.5555555555555556,\"#d8576b\"],[0.6666666666666666,\"#ed7953\"],[0.7777777777777778,\"#fb9f3a\"],[0.8888888888888888,\"#fdca26\"],[1.0,\"#f0f921\"]],\"sequentialminus\":[[0.0,\"#0d0887\"],[0.1111111111111111,\"#46039f\"],[0.2222222222222222,\"#7201a8\"],[0.3333333333333333,\"#9c179e\"],[0.4444444444444444,\"#bd3786\"],[0.5555555555555556,\"#d8576b\"],[0.6666666666666666,\"#ed7953\"],[0.7777777777777778,\"#fb9f3a\"],[0.8888888888888888,\"#fdca26\"],[1.0,\"#f0f921\"]]},\"colorway\":[\"#636efa\",\"#EF553B\",\"#00cc96\",\"#ab63fa\",\"#FFA15A\",\"#19d3f3\",\"#FF6692\",\"#B6E880\",\"#FF97FF\",\"#FECB52\"],\"font\":{\"color\":\"#f2f5fa\"},\"geo\":{\"bgcolor\":\"rgb(17,17,17)\",\"lakecolor\":\"rgb(17,17,17)\",\"landcolor\":\"rgb(17,17,17)\",\"showlakes\":true,\"showland\":true,\"subunitcolor\":\"#506784\"},\"hoverlabel\":{\"align\":\"left\"},\"hovermode\":\"closest\",\"mapbox\":{\"style\":\"dark\"},\"paper_bgcolor\":\"rgb(17,17,17)\",\"plot_bgcolor\":\"rgb(17,17,17)\",\"polar\":{\"angularaxis\":{\"gridcolor\":\"#506784\",\"linecolor\":\"#506784\",\"ticks\":\"\"},\"bgcolor\":\"rgb(17,17,17)\",\"radialaxis\":{\"gridcolor\":\"#506784\",\"linecolor\":\"#506784\",\"ticks\":\"\"}},\"scene\":{\"xaxis\":{\"backgroundcolor\":\"rgb(17,17,17)\",\"gridcolor\":\"#506784\",\"gridwidth\":2,\"linecolor\":\"#506784\",\"showbackground\":true,\"ticks\":\"\",\"zerolinecolor\":\"#C8D4E3\"},\"yaxis\":{\"backgroundcolor\":\"rgb(17,17,17)\",\"gridcolor\":\"#506784\",\"gridwidth\":2,\"linecolor\":\"#506784\",\"showbackground\":true,\"ticks\":\"\",\"zerolinecolor\":\"#C8D4E3\"},\"zaxis\":{\"backgroundcolor\":\"rgb(17,17,17)\",\"gridcolor\":\"#506784\",\"gridwidth\":2,\"linecolor\":\"#506784\",\"showbackground\":true,\"ticks\":\"\",\"zerolinecolor\":\"#C8D4E3\"}},\"shapedefaults\":{\"line\":{\"color\":\"#f2f5fa\"}},\"sliderdefaults\":{\"bgcolor\":\"#C8D4E3\",\"bordercolor\":\"rgb(17,17,17)\",\"borderwidth\":1,\"tickwidth\":0},\"ternary\":{\"aaxis\":{\"gridcolor\":\"#506784\",\"linecolor\":\"#506784\",\"ticks\":\"\"},\"baxis\":{\"gridcolor\":\"#506784\",\"linecolor\":\"#506784\",\"ticks\":\"\"},\"bgcolor\":\"rgb(17,17,17)\",\"caxis\":{\"gridcolor\":\"#506784\",\"linecolor\":\"#506784\",\"ticks\":\"\"}},\"title\":{\"x\":0.05},\"updatemenudefaults\":{\"bgcolor\":\"#506784\",\"borderwidth\":0},\"xaxis\":{\"automargin\":true,\"gridcolor\":\"#283442\",\"linecolor\":\"#506784\",\"ticks\":\"\",\"title\":{\"standoff\":15},\"zerolinecolor\":\"#283442\",\"zerolinewidth\":2},\"yaxis\":{\"automargin\":true,\"gridcolor\":\"#283442\",\"linecolor\":\"#506784\",\"ticks\":\"\",\"title\":{\"standoff\":15},\"zerolinecolor\":\"#283442\",\"zerolinewidth\":2}}}},                        {\"responsive\": true}                    ).then(function(){\n",
       "                            \n",
       "var gd = document.getElementById('af28c636-2e9a-438a-ad69-d61b79142095');\n",
       "var x = new MutationObserver(function (mutations, observer) {{\n",
       "        var display = window.getComputedStyle(gd).display;\n",
       "        if (!display || display === 'none') {{\n",
       "            console.log([gd, 'removed!']);\n",
       "            Plotly.purge(gd);\n",
       "            observer.disconnect();\n",
       "        }}\n",
       "}});\n",
       "\n",
       "// Listen for the removal of the full notebook cells\n",
       "var notebookContainer = gd.closest('#notebook-container');\n",
       "if (notebookContainer) {{\n",
       "    x.observe(notebookContainer, {childList: true});\n",
       "}}\n",
       "\n",
       "// Listen for the clearing of the current output cell\n",
       "var outputEl = gd.closest('.output');\n",
       "if (outputEl) {{\n",
       "    x.observe(outputEl, {childList: true});\n",
       "}}\n",
       "\n",
       "                        })                };                });            </script>        </div>"
      ]
     },
     "metadata": {},
     "output_type": "display_data"
    }
   ],
   "execution_count": 30
  },
  {
   "cell_type": "markdown",
   "metadata": {
    "id": "BiQbXlrs25LK"
   },
   "source": [
    "## <center> Bài 4 </center>"
   ]
  },
  {
   "cell_type": "code",
   "metadata": {
    "scrolled": true,
    "id": "417l8IEQ25LK",
    "outputId": "46520350-3e6a-497a-fc4e-13dff49c49b2",
    "ExecuteTime": {
     "end_time": "2024-06-11T15:12:11.773197Z",
     "start_time": "2024-06-11T15:12:11.751385Z"
    }
   },
   "source": [
    "df_bar_pubg.head(10)"
   ],
   "outputs": [
    {
     "data": {
      "text/plain": [
       "     player_name  tracker_id  solo_KillDeathRatio  solo_WinRatio  \\\n",
       "0      BreakNeck        4405                 3.14          17.65   \n",
       "1      Blackwalk        8199                 4.41          18.18   \n",
       "2  mercedes_benz        4454                 3.60           0.00   \n",
       "3           DORA        7729                14.00          50.00   \n",
       "4        n2tstar           0                10.50          33.33   \n",
       "5     coldoxygen       33313                 5.73          31.25   \n",
       "6          Giken       15585                 2.45           8.45   \n",
       "7       KoreaNo1        9454                 2.71          26.32   \n",
       "8          undor       24029                 3.68          13.64   \n",
       "9        Fordune       11289                 4.17          25.00   \n",
       "\n",
       "   solo_TimeSurvived  solo_RoundsPlayed  solo_Wins  solo_WinTop10Ratio  \\\n",
       "0           18469.14                 17          3                0.83   \n",
       "1           33014.86                 33          6                0.36   \n",
       "2            4330.44                  5          0                0.00   \n",
       "3           13421.82                  8          4                0.67   \n",
       "4            9841.04                  6          2                0.40   \n",
       "5           22003.22                 16          5                0.50   \n",
       "6          148051.25                142         12                0.18   \n",
       "7           26091.14                 19          5                0.50   \n",
       "8           49282.41                 44          6                0.23   \n",
       "9           10280.77                  8          2                0.25   \n",
       "\n",
       "   solo_Top10s  solo_Top10Ratio  ...  squad_RideDistance  squad_MoveDistance  \\\n",
       "0            4             23.5  ...          3751590.99          5194786.58   \n",
       "1           11             33.3  ...          4295917.30          6051783.67   \n",
       "2            1             20.0  ...          3935265.63          5589608.74   \n",
       "3            6             75.0  ...          2738998.00          3796916.00   \n",
       "4            5             83.3  ...          2347295.00          3220260.00   \n",
       "5           10             62.5  ...          3218436.00          4733977.00   \n",
       "6           34             23.9  ...          2057423.12          2883099.31   \n",
       "7           10             52.6  ...          3586593.00          4854387.00   \n",
       "8           13             29.5  ...          1054263.00          1550975.00   \n",
       "9            4             50.0  ...          2793909.91          4071039.87   \n",
       "\n",
       "   squad_AvgWalkDistance  squad_AvgRideDistance  squad_LongestKill  \\\n",
       "0                2626.97                4372.64             536.98   \n",
       "1                2422.48                6009.73             734.85   \n",
       "2                1871.89                3011.87             725.44   \n",
       "3                2154.62                5578.41             587.28   \n",
       "4                2098.47                5642.54             546.10   \n",
       "5                2078.93                4414.86            1212.76   \n",
       "6                1664.77                3022.51             564.20   \n",
       "7                1635.86                4627.86             806.24   \n",
       "8                2207.61                4685.61             455.67   \n",
       "9                1981.29                3635.28             546.95   \n",
       "\n",
       "   squad_Heals  squad_Revives  squad_Boosts  squad_DamageDealt  squad_DBNOs  \n",
       "0         2186            234          1884          242132.73         1448  \n",
       "1         2041            276          2340          269795.75         1724  \n",
       "2         1766            210          2193          292977.07         1897  \n",
       "3         1214            142          1252          181106.90         1057  \n",
       "4         1245            120           923          160029.80         1077  \n",
       "5         2023            195          2307          238640.00         1450  \n",
       "6         1274            133          1320          132008.88          775  \n",
       "7         2199            163          1864          201659.00         1287  \n",
       "8          617             61           585           80498.73          513  \n",
       "9         1320            220          1338          123573.74          675  \n",
       "\n",
       "[10 rows x 152 columns]"
      ],
      "text/html": [
       "<div>\n",
       "<style scoped>\n",
       "    .dataframe tbody tr th:only-of-type {\n",
       "        vertical-align: middle;\n",
       "    }\n",
       "\n",
       "    .dataframe tbody tr th {\n",
       "        vertical-align: top;\n",
       "    }\n",
       "\n",
       "    .dataframe thead th {\n",
       "        text-align: right;\n",
       "    }\n",
       "</style>\n",
       "<table border=\"1\" class=\"dataframe\">\n",
       "  <thead>\n",
       "    <tr style=\"text-align: right;\">\n",
       "      <th></th>\n",
       "      <th>player_name</th>\n",
       "      <th>tracker_id</th>\n",
       "      <th>solo_KillDeathRatio</th>\n",
       "      <th>solo_WinRatio</th>\n",
       "      <th>solo_TimeSurvived</th>\n",
       "      <th>solo_RoundsPlayed</th>\n",
       "      <th>solo_Wins</th>\n",
       "      <th>solo_WinTop10Ratio</th>\n",
       "      <th>solo_Top10s</th>\n",
       "      <th>solo_Top10Ratio</th>\n",
       "      <th>...</th>\n",
       "      <th>squad_RideDistance</th>\n",
       "      <th>squad_MoveDistance</th>\n",
       "      <th>squad_AvgWalkDistance</th>\n",
       "      <th>squad_AvgRideDistance</th>\n",
       "      <th>squad_LongestKill</th>\n",
       "      <th>squad_Heals</th>\n",
       "      <th>squad_Revives</th>\n",
       "      <th>squad_Boosts</th>\n",
       "      <th>squad_DamageDealt</th>\n",
       "      <th>squad_DBNOs</th>\n",
       "    </tr>\n",
       "  </thead>\n",
       "  <tbody>\n",
       "    <tr>\n",
       "      <th>0</th>\n",
       "      <td>BreakNeck</td>\n",
       "      <td>4405</td>\n",
       "      <td>3.14</td>\n",
       "      <td>17.65</td>\n",
       "      <td>18469.14</td>\n",
       "      <td>17</td>\n",
       "      <td>3</td>\n",
       "      <td>0.83</td>\n",
       "      <td>4</td>\n",
       "      <td>23.5</td>\n",
       "      <td>...</td>\n",
       "      <td>3751590.99</td>\n",
       "      <td>5194786.58</td>\n",
       "      <td>2626.97</td>\n",
       "      <td>4372.64</td>\n",
       "      <td>536.98</td>\n",
       "      <td>2186</td>\n",
       "      <td>234</td>\n",
       "      <td>1884</td>\n",
       "      <td>242132.73</td>\n",
       "      <td>1448</td>\n",
       "    </tr>\n",
       "    <tr>\n",
       "      <th>1</th>\n",
       "      <td>Blackwalk</td>\n",
       "      <td>8199</td>\n",
       "      <td>4.41</td>\n",
       "      <td>18.18</td>\n",
       "      <td>33014.86</td>\n",
       "      <td>33</td>\n",
       "      <td>6</td>\n",
       "      <td>0.36</td>\n",
       "      <td>11</td>\n",
       "      <td>33.3</td>\n",
       "      <td>...</td>\n",
       "      <td>4295917.30</td>\n",
       "      <td>6051783.67</td>\n",
       "      <td>2422.48</td>\n",
       "      <td>6009.73</td>\n",
       "      <td>734.85</td>\n",
       "      <td>2041</td>\n",
       "      <td>276</td>\n",
       "      <td>2340</td>\n",
       "      <td>269795.75</td>\n",
       "      <td>1724</td>\n",
       "    </tr>\n",
       "    <tr>\n",
       "      <th>2</th>\n",
       "      <td>mercedes_benz</td>\n",
       "      <td>4454</td>\n",
       "      <td>3.60</td>\n",
       "      <td>0.00</td>\n",
       "      <td>4330.44</td>\n",
       "      <td>5</td>\n",
       "      <td>0</td>\n",
       "      <td>0.00</td>\n",
       "      <td>1</td>\n",
       "      <td>20.0</td>\n",
       "      <td>...</td>\n",
       "      <td>3935265.63</td>\n",
       "      <td>5589608.74</td>\n",
       "      <td>1871.89</td>\n",
       "      <td>3011.87</td>\n",
       "      <td>725.44</td>\n",
       "      <td>1766</td>\n",
       "      <td>210</td>\n",
       "      <td>2193</td>\n",
       "      <td>292977.07</td>\n",
       "      <td>1897</td>\n",
       "    </tr>\n",
       "    <tr>\n",
       "      <th>3</th>\n",
       "      <td>DORA</td>\n",
       "      <td>7729</td>\n",
       "      <td>14.00</td>\n",
       "      <td>50.00</td>\n",
       "      <td>13421.82</td>\n",
       "      <td>8</td>\n",
       "      <td>4</td>\n",
       "      <td>0.67</td>\n",
       "      <td>6</td>\n",
       "      <td>75.0</td>\n",
       "      <td>...</td>\n",
       "      <td>2738998.00</td>\n",
       "      <td>3796916.00</td>\n",
       "      <td>2154.62</td>\n",
       "      <td>5578.41</td>\n",
       "      <td>587.28</td>\n",
       "      <td>1214</td>\n",
       "      <td>142</td>\n",
       "      <td>1252</td>\n",
       "      <td>181106.90</td>\n",
       "      <td>1057</td>\n",
       "    </tr>\n",
       "    <tr>\n",
       "      <th>4</th>\n",
       "      <td>n2tstar</td>\n",
       "      <td>0</td>\n",
       "      <td>10.50</td>\n",
       "      <td>33.33</td>\n",
       "      <td>9841.04</td>\n",
       "      <td>6</td>\n",
       "      <td>2</td>\n",
       "      <td>0.40</td>\n",
       "      <td>5</td>\n",
       "      <td>83.3</td>\n",
       "      <td>...</td>\n",
       "      <td>2347295.00</td>\n",
       "      <td>3220260.00</td>\n",
       "      <td>2098.47</td>\n",
       "      <td>5642.54</td>\n",
       "      <td>546.10</td>\n",
       "      <td>1245</td>\n",
       "      <td>120</td>\n",
       "      <td>923</td>\n",
       "      <td>160029.80</td>\n",
       "      <td>1077</td>\n",
       "    </tr>\n",
       "    <tr>\n",
       "      <th>5</th>\n",
       "      <td>coldoxygen</td>\n",
       "      <td>33313</td>\n",
       "      <td>5.73</td>\n",
       "      <td>31.25</td>\n",
       "      <td>22003.22</td>\n",
       "      <td>16</td>\n",
       "      <td>5</td>\n",
       "      <td>0.50</td>\n",
       "      <td>10</td>\n",
       "      <td>62.5</td>\n",
       "      <td>...</td>\n",
       "      <td>3218436.00</td>\n",
       "      <td>4733977.00</td>\n",
       "      <td>2078.93</td>\n",
       "      <td>4414.86</td>\n",
       "      <td>1212.76</td>\n",
       "      <td>2023</td>\n",
       "      <td>195</td>\n",
       "      <td>2307</td>\n",
       "      <td>238640.00</td>\n",
       "      <td>1450</td>\n",
       "    </tr>\n",
       "    <tr>\n",
       "      <th>6</th>\n",
       "      <td>Giken</td>\n",
       "      <td>15585</td>\n",
       "      <td>2.45</td>\n",
       "      <td>8.45</td>\n",
       "      <td>148051.25</td>\n",
       "      <td>142</td>\n",
       "      <td>12</td>\n",
       "      <td>0.18</td>\n",
       "      <td>34</td>\n",
       "      <td>23.9</td>\n",
       "      <td>...</td>\n",
       "      <td>2057423.12</td>\n",
       "      <td>2883099.31</td>\n",
       "      <td>1664.77</td>\n",
       "      <td>3022.51</td>\n",
       "      <td>564.20</td>\n",
       "      <td>1274</td>\n",
       "      <td>133</td>\n",
       "      <td>1320</td>\n",
       "      <td>132008.88</td>\n",
       "      <td>775</td>\n",
       "    </tr>\n",
       "    <tr>\n",
       "      <th>7</th>\n",
       "      <td>KoreaNo1</td>\n",
       "      <td>9454</td>\n",
       "      <td>2.71</td>\n",
       "      <td>26.32</td>\n",
       "      <td>26091.14</td>\n",
       "      <td>19</td>\n",
       "      <td>5</td>\n",
       "      <td>0.50</td>\n",
       "      <td>10</td>\n",
       "      <td>52.6</td>\n",
       "      <td>...</td>\n",
       "      <td>3586593.00</td>\n",
       "      <td>4854387.00</td>\n",
       "      <td>1635.86</td>\n",
       "      <td>4627.86</td>\n",
       "      <td>806.24</td>\n",
       "      <td>2199</td>\n",
       "      <td>163</td>\n",
       "      <td>1864</td>\n",
       "      <td>201659.00</td>\n",
       "      <td>1287</td>\n",
       "    </tr>\n",
       "    <tr>\n",
       "      <th>8</th>\n",
       "      <td>undor</td>\n",
       "      <td>24029</td>\n",
       "      <td>3.68</td>\n",
       "      <td>13.64</td>\n",
       "      <td>49282.41</td>\n",
       "      <td>44</td>\n",
       "      <td>6</td>\n",
       "      <td>0.23</td>\n",
       "      <td>13</td>\n",
       "      <td>29.5</td>\n",
       "      <td>...</td>\n",
       "      <td>1054263.00</td>\n",
       "      <td>1550975.00</td>\n",
       "      <td>2207.61</td>\n",
       "      <td>4685.61</td>\n",
       "      <td>455.67</td>\n",
       "      <td>617</td>\n",
       "      <td>61</td>\n",
       "      <td>585</td>\n",
       "      <td>80498.73</td>\n",
       "      <td>513</td>\n",
       "    </tr>\n",
       "    <tr>\n",
       "      <th>9</th>\n",
       "      <td>Fordune</td>\n",
       "      <td>11289</td>\n",
       "      <td>4.17</td>\n",
       "      <td>25.00</td>\n",
       "      <td>10280.77</td>\n",
       "      <td>8</td>\n",
       "      <td>2</td>\n",
       "      <td>0.25</td>\n",
       "      <td>4</td>\n",
       "      <td>50.0</td>\n",
       "      <td>...</td>\n",
       "      <td>2793909.91</td>\n",
       "      <td>4071039.87</td>\n",
       "      <td>1981.29</td>\n",
       "      <td>3635.28</td>\n",
       "      <td>546.95</td>\n",
       "      <td>1320</td>\n",
       "      <td>220</td>\n",
       "      <td>1338</td>\n",
       "      <td>123573.74</td>\n",
       "      <td>675</td>\n",
       "    </tr>\n",
       "  </tbody>\n",
       "</table>\n",
       "<p>10 rows × 152 columns</p>\n",
       "</div>"
      ]
     },
     "execution_count": 31,
     "metadata": {},
     "output_type": "execute_result"
    }
   ],
   "execution_count": 31
  },
  {
   "cell_type": "code",
   "metadata": {
    "id": "TFnb4X_B25LK",
    "outputId": "7c68048c-668b-4537-ac9b-74fbd9b9e62b",
    "ExecuteTime": {
     "end_time": "2024-06-11T15:12:19.054181Z",
     "start_time": "2024-06-11T15:12:18.368098Z"
    }
   },
   "source": [
    "import plotly.figure_factory as ff\n",
    "\n",
    "x = df_bar_pubg['solo_Wins']\n",
    "y = df_bar_pubg['solo_TimeSurvived']\n",
    "#z = df_bar_pubg['squad_Heals']\n",
    "\n",
    "colorscale = ['#7A4579', '#D56073', 'rgb(236,158,105)', (1, 1, 0.2), (0.98, 0.98, 0.98)]\n",
    "\n",
    "fig = ff.create_2d_density(\n",
    "\tx, y, colorscale = colorscale,\n",
    "\thist_color = 'rgb(255, 237, 222)', point_size = 3\n",
    ")\n",
    "\n",
    "iplot(fig, filename = 'histogram_subplots')"
   ],
   "outputs": [
    {
     "data": {
      "application/vnd.plotly.v1+json": {
       "data": [
        {
         "marker": {
          "color": "rgb(0, 0, 128)",
          "opacity": 0.4,
          "size": 3
         },
         "mode": "markers",
         "name": "points",
         "x": [
          3,
          6,
          0,
          4,
          2,
          5,
          12,
          5,
          6,
          2,
          7,
          4,
          9,
          4,
          3,
          1,
          38,
          12,
          6,
          2,
          7,
          4,
          3,
          2,
          48,
          63,
          4,
          3,
          3,
          2
         ],
         "y": [
          18469.14,
          33014.86,
          4330.44,
          13421.82,
          9841.04,
          22003.22,
          148051.25,
          26091.14,
          49282.41,
          10280.77,
          106330.23,
          232995.54,
          91380.4,
          71910.46,
          30996.86,
          3638.01,
          246771.12,
          87214.43,
          20927.23,
          45916.37,
          62763.42,
          43124.07,
          11733.19,
          18488.62,
          331173.26,
          397022.2,
          87514.41,
          53548.14,
          47966.09,
          25094.18
         ],
         "type": "scatter"
        },
        {
         "colorscale": [
          [
           0.0,
           "rgb(122, 69, 121)"
          ],
          [
           0.25,
           "rgb(213, 96, 115)"
          ],
          [
           0.5,
           "rgb(236, 158, 105)"
          ],
          [
           0.75,
           "rgb(255, 255, 51)"
          ],
          [
           1.0,
           "rgb(250, 250, 250)"
          ]
         ],
         "name": "density",
         "ncontours": 20,
         "reversescale": true,
         "showscale": false,
         "x": [
          3,
          6,
          0,
          4,
          2,
          5,
          12,
          5,
          6,
          2,
          7,
          4,
          9,
          4,
          3,
          1,
          38,
          12,
          6,
          2,
          7,
          4,
          3,
          2,
          48,
          63,
          4,
          3,
          3,
          2
         ],
         "y": [
          18469.14,
          33014.86,
          4330.44,
          13421.82,
          9841.04,
          22003.22,
          148051.25,
          26091.14,
          49282.41,
          10280.77,
          106330.23,
          232995.54,
          91380.4,
          71910.46,
          30996.86,
          3638.01,
          246771.12,
          87214.43,
          20927.23,
          45916.37,
          62763.42,
          43124.07,
          11733.19,
          18488.62,
          331173.26,
          397022.2,
          87514.41,
          53548.14,
          47966.09,
          25094.18
         ],
         "type": "histogram2dcontour"
        },
        {
         "marker": {
          "color": "rgb(255, 237, 222)"
         },
         "name": "x density",
         "x": [
          3,
          6,
          0,
          4,
          2,
          5,
          12,
          5,
          6,
          2,
          7,
          4,
          9,
          4,
          3,
          1,
          38,
          12,
          6,
          2,
          7,
          4,
          3,
          2,
          48,
          63,
          4,
          3,
          3,
          2
         ],
         "yaxis": "y2",
         "type": "histogram"
        },
        {
         "marker": {
          "color": "rgb(255, 237, 222)"
         },
         "name": "y density",
         "xaxis": "x2",
         "y": [
          18469.14,
          33014.86,
          4330.44,
          13421.82,
          9841.04,
          22003.22,
          148051.25,
          26091.14,
          49282.41,
          10280.77,
          106330.23,
          232995.54,
          91380.4,
          71910.46,
          30996.86,
          3638.01,
          246771.12,
          87214.43,
          20927.23,
          45916.37,
          62763.42,
          43124.07,
          11733.19,
          18488.62,
          331173.26,
          397022.2,
          87514.41,
          53548.14,
          47966.09,
          25094.18
         ],
         "type": "histogram"
        }
       ],
       "layout": {
        "autosize": false,
        "bargap": 0,
        "height": 600,
        "hovermode": "closest",
        "margin": {
         "t": 50
        },
        "showlegend": false,
        "template": {
         "data": {
          "barpolar": [
           {
            "marker": {
             "line": {
              "color": "rgb(17,17,17)",
              "width": 0.5
             },
             "pattern": {
              "fillmode": "overlay",
              "size": 10,
              "solidity": 0.2
             }
            },
            "type": "barpolar"
           }
          ],
          "bar": [
           {
            "error_x": {
             "color": "#f2f5fa"
            },
            "error_y": {
             "color": "#f2f5fa"
            },
            "marker": {
             "line": {
              "color": "rgb(17,17,17)",
              "width": 0.5
             },
             "pattern": {
              "fillmode": "overlay",
              "size": 10,
              "solidity": 0.2
             }
            },
            "type": "bar"
           }
          ],
          "carpet": [
           {
            "aaxis": {
             "endlinecolor": "#A2B1C6",
             "gridcolor": "#506784",
             "linecolor": "#506784",
             "minorgridcolor": "#506784",
             "startlinecolor": "#A2B1C6"
            },
            "baxis": {
             "endlinecolor": "#A2B1C6",
             "gridcolor": "#506784",
             "linecolor": "#506784",
             "minorgridcolor": "#506784",
             "startlinecolor": "#A2B1C6"
            },
            "type": "carpet"
           }
          ],
          "choropleth": [
           {
            "colorbar": {
             "outlinewidth": 0,
             "ticks": ""
            },
            "type": "choropleth"
           }
          ],
          "contourcarpet": [
           {
            "colorbar": {
             "outlinewidth": 0,
             "ticks": ""
            },
            "type": "contourcarpet"
           }
          ],
          "contour": [
           {
            "colorbar": {
             "outlinewidth": 0,
             "ticks": ""
            },
            "colorscale": [
             [
              0.0,
              "#0d0887"
             ],
             [
              0.1111111111111111,
              "#46039f"
             ],
             [
              0.2222222222222222,
              "#7201a8"
             ],
             [
              0.3333333333333333,
              "#9c179e"
             ],
             [
              0.4444444444444444,
              "#bd3786"
             ],
             [
              0.5555555555555556,
              "#d8576b"
             ],
             [
              0.6666666666666666,
              "#ed7953"
             ],
             [
              0.7777777777777778,
              "#fb9f3a"
             ],
             [
              0.8888888888888888,
              "#fdca26"
             ],
             [
              1.0,
              "#f0f921"
             ]
            ],
            "type": "contour"
           }
          ],
          "heatmapgl": [
           {
            "colorbar": {
             "outlinewidth": 0,
             "ticks": ""
            },
            "colorscale": [
             [
              0.0,
              "#0d0887"
             ],
             [
              0.1111111111111111,
              "#46039f"
             ],
             [
              0.2222222222222222,
              "#7201a8"
             ],
             [
              0.3333333333333333,
              "#9c179e"
             ],
             [
              0.4444444444444444,
              "#bd3786"
             ],
             [
              0.5555555555555556,
              "#d8576b"
             ],
             [
              0.6666666666666666,
              "#ed7953"
             ],
             [
              0.7777777777777778,
              "#fb9f3a"
             ],
             [
              0.8888888888888888,
              "#fdca26"
             ],
             [
              1.0,
              "#f0f921"
             ]
            ],
            "type": "heatmapgl"
           }
          ],
          "heatmap": [
           {
            "colorbar": {
             "outlinewidth": 0,
             "ticks": ""
            },
            "colorscale": [
             [
              0.0,
              "#0d0887"
             ],
             [
              0.1111111111111111,
              "#46039f"
             ],
             [
              0.2222222222222222,
              "#7201a8"
             ],
             [
              0.3333333333333333,
              "#9c179e"
             ],
             [
              0.4444444444444444,
              "#bd3786"
             ],
             [
              0.5555555555555556,
              "#d8576b"
             ],
             [
              0.6666666666666666,
              "#ed7953"
             ],
             [
              0.7777777777777778,
              "#fb9f3a"
             ],
             [
              0.8888888888888888,
              "#fdca26"
             ],
             [
              1.0,
              "#f0f921"
             ]
            ],
            "type": "heatmap"
           }
          ],
          "histogram2dcontour": [
           {
            "colorbar": {
             "outlinewidth": 0,
             "ticks": ""
            },
            "colorscale": [
             [
              0.0,
              "#0d0887"
             ],
             [
              0.1111111111111111,
              "#46039f"
             ],
             [
              0.2222222222222222,
              "#7201a8"
             ],
             [
              0.3333333333333333,
              "#9c179e"
             ],
             [
              0.4444444444444444,
              "#bd3786"
             ],
             [
              0.5555555555555556,
              "#d8576b"
             ],
             [
              0.6666666666666666,
              "#ed7953"
             ],
             [
              0.7777777777777778,
              "#fb9f3a"
             ],
             [
              0.8888888888888888,
              "#fdca26"
             ],
             [
              1.0,
              "#f0f921"
             ]
            ],
            "type": "histogram2dcontour"
           }
          ],
          "histogram2d": [
           {
            "colorbar": {
             "outlinewidth": 0,
             "ticks": ""
            },
            "colorscale": [
             [
              0.0,
              "#0d0887"
             ],
             [
              0.1111111111111111,
              "#46039f"
             ],
             [
              0.2222222222222222,
              "#7201a8"
             ],
             [
              0.3333333333333333,
              "#9c179e"
             ],
             [
              0.4444444444444444,
              "#bd3786"
             ],
             [
              0.5555555555555556,
              "#d8576b"
             ],
             [
              0.6666666666666666,
              "#ed7953"
             ],
             [
              0.7777777777777778,
              "#fb9f3a"
             ],
             [
              0.8888888888888888,
              "#fdca26"
             ],
             [
              1.0,
              "#f0f921"
             ]
            ],
            "type": "histogram2d"
           }
          ],
          "histogram": [
           {
            "marker": {
             "pattern": {
              "fillmode": "overlay",
              "size": 10,
              "solidity": 0.2
             }
            },
            "type": "histogram"
           }
          ],
          "mesh3d": [
           {
            "colorbar": {
             "outlinewidth": 0,
             "ticks": ""
            },
            "type": "mesh3d"
           }
          ],
          "parcoords": [
           {
            "line": {
             "colorbar": {
              "outlinewidth": 0,
              "ticks": ""
             }
            },
            "type": "parcoords"
           }
          ],
          "pie": [
           {
            "automargin": true,
            "type": "pie"
           }
          ],
          "scatter3d": [
           {
            "line": {
             "colorbar": {
              "outlinewidth": 0,
              "ticks": ""
             }
            },
            "marker": {
             "colorbar": {
              "outlinewidth": 0,
              "ticks": ""
             }
            },
            "type": "scatter3d"
           }
          ],
          "scattercarpet": [
           {
            "marker": {
             "colorbar": {
              "outlinewidth": 0,
              "ticks": ""
             }
            },
            "type": "scattercarpet"
           }
          ],
          "scattergeo": [
           {
            "marker": {
             "colorbar": {
              "outlinewidth": 0,
              "ticks": ""
             }
            },
            "type": "scattergeo"
           }
          ],
          "scattergl": [
           {
            "marker": {
             "line": {
              "color": "#283442"
             }
            },
            "type": "scattergl"
           }
          ],
          "scattermapbox": [
           {
            "marker": {
             "colorbar": {
              "outlinewidth": 0,
              "ticks": ""
             }
            },
            "type": "scattermapbox"
           }
          ],
          "scatterpolargl": [
           {
            "marker": {
             "colorbar": {
              "outlinewidth": 0,
              "ticks": ""
             }
            },
            "type": "scatterpolargl"
           }
          ],
          "scatterpolar": [
           {
            "marker": {
             "colorbar": {
              "outlinewidth": 0,
              "ticks": ""
             }
            },
            "type": "scatterpolar"
           }
          ],
          "scatter": [
           {
            "marker": {
             "line": {
              "color": "#283442"
             }
            },
            "type": "scatter"
           }
          ],
          "scatterternary": [
           {
            "marker": {
             "colorbar": {
              "outlinewidth": 0,
              "ticks": ""
             }
            },
            "type": "scatterternary"
           }
          ],
          "surface": [
           {
            "colorbar": {
             "outlinewidth": 0,
             "ticks": ""
            },
            "colorscale": [
             [
              0.0,
              "#0d0887"
             ],
             [
              0.1111111111111111,
              "#46039f"
             ],
             [
              0.2222222222222222,
              "#7201a8"
             ],
             [
              0.3333333333333333,
              "#9c179e"
             ],
             [
              0.4444444444444444,
              "#bd3786"
             ],
             [
              0.5555555555555556,
              "#d8576b"
             ],
             [
              0.6666666666666666,
              "#ed7953"
             ],
             [
              0.7777777777777778,
              "#fb9f3a"
             ],
             [
              0.8888888888888888,
              "#fdca26"
             ],
             [
              1.0,
              "#f0f921"
             ]
            ],
            "type": "surface"
           }
          ],
          "table": [
           {
            "cells": {
             "fill": {
              "color": "#506784"
             },
             "line": {
              "color": "rgb(17,17,17)"
             }
            },
            "header": {
             "fill": {
              "color": "#2a3f5f"
             },
             "line": {
              "color": "rgb(17,17,17)"
             }
            },
            "type": "table"
           }
          ]
         },
         "layout": {
          "annotationdefaults": {
           "arrowcolor": "#f2f5fa",
           "arrowhead": 0,
           "arrowwidth": 1
          },
          "autotypenumbers": "strict",
          "coloraxis": {
           "colorbar": {
            "outlinewidth": 0,
            "ticks": ""
           }
          },
          "colorscale": {
           "diverging": [
            [
             0,
             "#8e0152"
            ],
            [
             0.1,
             "#c51b7d"
            ],
            [
             0.2,
             "#de77ae"
            ],
            [
             0.3,
             "#f1b6da"
            ],
            [
             0.4,
             "#fde0ef"
            ],
            [
             0.5,
             "#f7f7f7"
            ],
            [
             0.6,
             "#e6f5d0"
            ],
            [
             0.7,
             "#b8e186"
            ],
            [
             0.8,
             "#7fbc41"
            ],
            [
             0.9,
             "#4d9221"
            ],
            [
             1,
             "#276419"
            ]
           ],
           "sequential": [
            [
             0.0,
             "#0d0887"
            ],
            [
             0.1111111111111111,
             "#46039f"
            ],
            [
             0.2222222222222222,
             "#7201a8"
            ],
            [
             0.3333333333333333,
             "#9c179e"
            ],
            [
             0.4444444444444444,
             "#bd3786"
            ],
            [
             0.5555555555555556,
             "#d8576b"
            ],
            [
             0.6666666666666666,
             "#ed7953"
            ],
            [
             0.7777777777777778,
             "#fb9f3a"
            ],
            [
             0.8888888888888888,
             "#fdca26"
            ],
            [
             1.0,
             "#f0f921"
            ]
           ],
           "sequentialminus": [
            [
             0.0,
             "#0d0887"
            ],
            [
             0.1111111111111111,
             "#46039f"
            ],
            [
             0.2222222222222222,
             "#7201a8"
            ],
            [
             0.3333333333333333,
             "#9c179e"
            ],
            [
             0.4444444444444444,
             "#bd3786"
            ],
            [
             0.5555555555555556,
             "#d8576b"
            ],
            [
             0.6666666666666666,
             "#ed7953"
            ],
            [
             0.7777777777777778,
             "#fb9f3a"
            ],
            [
             0.8888888888888888,
             "#fdca26"
            ],
            [
             1.0,
             "#f0f921"
            ]
           ]
          },
          "colorway": [
           "#636efa",
           "#EF553B",
           "#00cc96",
           "#ab63fa",
           "#FFA15A",
           "#19d3f3",
           "#FF6692",
           "#B6E880",
           "#FF97FF",
           "#FECB52"
          ],
          "font": {
           "color": "#f2f5fa"
          },
          "geo": {
           "bgcolor": "rgb(17,17,17)",
           "lakecolor": "rgb(17,17,17)",
           "landcolor": "rgb(17,17,17)",
           "showlakes": true,
           "showland": true,
           "subunitcolor": "#506784"
          },
          "hoverlabel": {
           "align": "left"
          },
          "hovermode": "closest",
          "mapbox": {
           "style": "dark"
          },
          "paper_bgcolor": "rgb(17,17,17)",
          "plot_bgcolor": "rgb(17,17,17)",
          "polar": {
           "angularaxis": {
            "gridcolor": "#506784",
            "linecolor": "#506784",
            "ticks": ""
           },
           "bgcolor": "rgb(17,17,17)",
           "radialaxis": {
            "gridcolor": "#506784",
            "linecolor": "#506784",
            "ticks": ""
           }
          },
          "scene": {
           "xaxis": {
            "backgroundcolor": "rgb(17,17,17)",
            "gridcolor": "#506784",
            "gridwidth": 2,
            "linecolor": "#506784",
            "showbackground": true,
            "ticks": "",
            "zerolinecolor": "#C8D4E3"
           },
           "yaxis": {
            "backgroundcolor": "rgb(17,17,17)",
            "gridcolor": "#506784",
            "gridwidth": 2,
            "linecolor": "#506784",
            "showbackground": true,
            "ticks": "",
            "zerolinecolor": "#C8D4E3"
           },
           "zaxis": {
            "backgroundcolor": "rgb(17,17,17)",
            "gridcolor": "#506784",
            "gridwidth": 2,
            "linecolor": "#506784",
            "showbackground": true,
            "ticks": "",
            "zerolinecolor": "#C8D4E3"
           }
          },
          "shapedefaults": {
           "line": {
            "color": "#f2f5fa"
           }
          },
          "sliderdefaults": {
           "bgcolor": "#C8D4E3",
           "bordercolor": "rgb(17,17,17)",
           "borderwidth": 1,
           "tickwidth": 0
          },
          "ternary": {
           "aaxis": {
            "gridcolor": "#506784",
            "linecolor": "#506784",
            "ticks": ""
           },
           "baxis": {
            "gridcolor": "#506784",
            "linecolor": "#506784",
            "ticks": ""
           },
           "bgcolor": "rgb(17,17,17)",
           "caxis": {
            "gridcolor": "#506784",
            "linecolor": "#506784",
            "ticks": ""
           }
          },
          "title": {
           "x": 0.05
          },
          "updatemenudefaults": {
           "bgcolor": "#506784",
           "borderwidth": 0
          },
          "xaxis": {
           "automargin": true,
           "gridcolor": "#283442",
           "linecolor": "#506784",
           "ticks": "",
           "title": {
            "standoff": 15
           },
           "zerolinecolor": "#283442",
           "zerolinewidth": 2
          },
          "yaxis": {
           "automargin": true,
           "gridcolor": "#283442",
           "linecolor": "#506784",
           "ticks": "",
           "title": {
            "standoff": 15
           },
           "zerolinecolor": "#283442",
           "zerolinewidth": 2
          }
         }
        },
        "title": {
         "text": "2D Density Plot"
        },
        "width": 600,
        "xaxis": {
         "domain": [
          0,
          0.85
         ],
         "showgrid": false,
         "zeroline": false
        },
        "yaxis": {
         "domain": [
          0,
          0.85
         ],
         "showgrid": false,
         "zeroline": false
        },
        "xaxis2": {
         "domain": [
          0.85,
          1
         ],
         "showgrid": false,
         "zeroline": false
        },
        "yaxis2": {
         "domain": [
          0.85,
          1
         ],
         "showgrid": false,
         "zeroline": false
        }
       },
       "config": {
        "showLink": false,
        "linkText": "Export to plot.ly",
        "plotlyServerURL": "https://plot.ly"
       }
      },
      "text/html": [
       "<div>                            <div id=\"bcfed3ba-d885-423a-8514-6d6237b5e4c1\" class=\"plotly-graph-div\" style=\"height:600px; width:600px;\"></div>            <script type=\"text/javascript\">                require([\"plotly\"], function(Plotly) {                    window.PLOTLYENV=window.PLOTLYENV || {};                                    if (document.getElementById(\"bcfed3ba-d885-423a-8514-6d6237b5e4c1\")) {                    Plotly.newPlot(                        \"bcfed3ba-d885-423a-8514-6d6237b5e4c1\",                        [{\"marker\":{\"color\":\"rgb(0, 0, 128)\",\"opacity\":0.4,\"size\":3},\"mode\":\"markers\",\"name\":\"points\",\"x\":[3,6,0,4,2,5,12,5,6,2,7,4,9,4,3,1,38,12,6,2,7,4,3,2,48,63,4,3,3,2],\"y\":[18469.14,33014.86,4330.44,13421.82,9841.04,22003.22,148051.25,26091.14,49282.41,10280.77,106330.23,232995.54,91380.4,71910.46,30996.86,3638.01,246771.12,87214.43,20927.23,45916.37,62763.42,43124.07,11733.19,18488.62,331173.26,397022.2,87514.41,53548.14,47966.09,25094.18],\"type\":\"scatter\"},{\"colorscale\":[[0.0,\"rgb(122, 69, 121)\"],[0.25,\"rgb(213, 96, 115)\"],[0.5,\"rgb(236, 158, 105)\"],[0.75,\"rgb(255, 255, 51)\"],[1.0,\"rgb(250, 250, 250)\"]],\"name\":\"density\",\"ncontours\":20,\"reversescale\":true,\"showscale\":false,\"x\":[3,6,0,4,2,5,12,5,6,2,7,4,9,4,3,1,38,12,6,2,7,4,3,2,48,63,4,3,3,2],\"y\":[18469.14,33014.86,4330.44,13421.82,9841.04,22003.22,148051.25,26091.14,49282.41,10280.77,106330.23,232995.54,91380.4,71910.46,30996.86,3638.01,246771.12,87214.43,20927.23,45916.37,62763.42,43124.07,11733.19,18488.62,331173.26,397022.2,87514.41,53548.14,47966.09,25094.18],\"type\":\"histogram2dcontour\"},{\"marker\":{\"color\":\"rgb(255, 237, 222)\"},\"name\":\"x density\",\"x\":[3,6,0,4,2,5,12,5,6,2,7,4,9,4,3,1,38,12,6,2,7,4,3,2,48,63,4,3,3,2],\"yaxis\":\"y2\",\"type\":\"histogram\"},{\"marker\":{\"color\":\"rgb(255, 237, 222)\"},\"name\":\"y density\",\"xaxis\":\"x2\",\"y\":[18469.14,33014.86,4330.44,13421.82,9841.04,22003.22,148051.25,26091.14,49282.41,10280.77,106330.23,232995.54,91380.4,71910.46,30996.86,3638.01,246771.12,87214.43,20927.23,45916.37,62763.42,43124.07,11733.19,18488.62,331173.26,397022.2,87514.41,53548.14,47966.09,25094.18],\"type\":\"histogram\"}],                        {\"autosize\":false,\"bargap\":0,\"height\":600,\"hovermode\":\"closest\",\"margin\":{\"t\":50},\"showlegend\":false,\"template\":{\"data\":{\"barpolar\":[{\"marker\":{\"line\":{\"color\":\"rgb(17,17,17)\",\"width\":0.5},\"pattern\":{\"fillmode\":\"overlay\",\"size\":10,\"solidity\":0.2}},\"type\":\"barpolar\"}],\"bar\":[{\"error_x\":{\"color\":\"#f2f5fa\"},\"error_y\":{\"color\":\"#f2f5fa\"},\"marker\":{\"line\":{\"color\":\"rgb(17,17,17)\",\"width\":0.5},\"pattern\":{\"fillmode\":\"overlay\",\"size\":10,\"solidity\":0.2}},\"type\":\"bar\"}],\"carpet\":[{\"aaxis\":{\"endlinecolor\":\"#A2B1C6\",\"gridcolor\":\"#506784\",\"linecolor\":\"#506784\",\"minorgridcolor\":\"#506784\",\"startlinecolor\":\"#A2B1C6\"},\"baxis\":{\"endlinecolor\":\"#A2B1C6\",\"gridcolor\":\"#506784\",\"linecolor\":\"#506784\",\"minorgridcolor\":\"#506784\",\"startlinecolor\":\"#A2B1C6\"},\"type\":\"carpet\"}],\"choropleth\":[{\"colorbar\":{\"outlinewidth\":0,\"ticks\":\"\"},\"type\":\"choropleth\"}],\"contourcarpet\":[{\"colorbar\":{\"outlinewidth\":0,\"ticks\":\"\"},\"type\":\"contourcarpet\"}],\"contour\":[{\"colorbar\":{\"outlinewidth\":0,\"ticks\":\"\"},\"colorscale\":[[0.0,\"#0d0887\"],[0.1111111111111111,\"#46039f\"],[0.2222222222222222,\"#7201a8\"],[0.3333333333333333,\"#9c179e\"],[0.4444444444444444,\"#bd3786\"],[0.5555555555555556,\"#d8576b\"],[0.6666666666666666,\"#ed7953\"],[0.7777777777777778,\"#fb9f3a\"],[0.8888888888888888,\"#fdca26\"],[1.0,\"#f0f921\"]],\"type\":\"contour\"}],\"heatmapgl\":[{\"colorbar\":{\"outlinewidth\":0,\"ticks\":\"\"},\"colorscale\":[[0.0,\"#0d0887\"],[0.1111111111111111,\"#46039f\"],[0.2222222222222222,\"#7201a8\"],[0.3333333333333333,\"#9c179e\"],[0.4444444444444444,\"#bd3786\"],[0.5555555555555556,\"#d8576b\"],[0.6666666666666666,\"#ed7953\"],[0.7777777777777778,\"#fb9f3a\"],[0.8888888888888888,\"#fdca26\"],[1.0,\"#f0f921\"]],\"type\":\"heatmapgl\"}],\"heatmap\":[{\"colorbar\":{\"outlinewidth\":0,\"ticks\":\"\"},\"colorscale\":[[0.0,\"#0d0887\"],[0.1111111111111111,\"#46039f\"],[0.2222222222222222,\"#7201a8\"],[0.3333333333333333,\"#9c179e\"],[0.4444444444444444,\"#bd3786\"],[0.5555555555555556,\"#d8576b\"],[0.6666666666666666,\"#ed7953\"],[0.7777777777777778,\"#fb9f3a\"],[0.8888888888888888,\"#fdca26\"],[1.0,\"#f0f921\"]],\"type\":\"heatmap\"}],\"histogram2dcontour\":[{\"colorbar\":{\"outlinewidth\":0,\"ticks\":\"\"},\"colorscale\":[[0.0,\"#0d0887\"],[0.1111111111111111,\"#46039f\"],[0.2222222222222222,\"#7201a8\"],[0.3333333333333333,\"#9c179e\"],[0.4444444444444444,\"#bd3786\"],[0.5555555555555556,\"#d8576b\"],[0.6666666666666666,\"#ed7953\"],[0.7777777777777778,\"#fb9f3a\"],[0.8888888888888888,\"#fdca26\"],[1.0,\"#f0f921\"]],\"type\":\"histogram2dcontour\"}],\"histogram2d\":[{\"colorbar\":{\"outlinewidth\":0,\"ticks\":\"\"},\"colorscale\":[[0.0,\"#0d0887\"],[0.1111111111111111,\"#46039f\"],[0.2222222222222222,\"#7201a8\"],[0.3333333333333333,\"#9c179e\"],[0.4444444444444444,\"#bd3786\"],[0.5555555555555556,\"#d8576b\"],[0.6666666666666666,\"#ed7953\"],[0.7777777777777778,\"#fb9f3a\"],[0.8888888888888888,\"#fdca26\"],[1.0,\"#f0f921\"]],\"type\":\"histogram2d\"}],\"histogram\":[{\"marker\":{\"pattern\":{\"fillmode\":\"overlay\",\"size\":10,\"solidity\":0.2}},\"type\":\"histogram\"}],\"mesh3d\":[{\"colorbar\":{\"outlinewidth\":0,\"ticks\":\"\"},\"type\":\"mesh3d\"}],\"parcoords\":[{\"line\":{\"colorbar\":{\"outlinewidth\":0,\"ticks\":\"\"}},\"type\":\"parcoords\"}],\"pie\":[{\"automargin\":true,\"type\":\"pie\"}],\"scatter3d\":[{\"line\":{\"colorbar\":{\"outlinewidth\":0,\"ticks\":\"\"}},\"marker\":{\"colorbar\":{\"outlinewidth\":0,\"ticks\":\"\"}},\"type\":\"scatter3d\"}],\"scattercarpet\":[{\"marker\":{\"colorbar\":{\"outlinewidth\":0,\"ticks\":\"\"}},\"type\":\"scattercarpet\"}],\"scattergeo\":[{\"marker\":{\"colorbar\":{\"outlinewidth\":0,\"ticks\":\"\"}},\"type\":\"scattergeo\"}],\"scattergl\":[{\"marker\":{\"line\":{\"color\":\"#283442\"}},\"type\":\"scattergl\"}],\"scattermapbox\":[{\"marker\":{\"colorbar\":{\"outlinewidth\":0,\"ticks\":\"\"}},\"type\":\"scattermapbox\"}],\"scatterpolargl\":[{\"marker\":{\"colorbar\":{\"outlinewidth\":0,\"ticks\":\"\"}},\"type\":\"scatterpolargl\"}],\"scatterpolar\":[{\"marker\":{\"colorbar\":{\"outlinewidth\":0,\"ticks\":\"\"}},\"type\":\"scatterpolar\"}],\"scatter\":[{\"marker\":{\"line\":{\"color\":\"#283442\"}},\"type\":\"scatter\"}],\"scatterternary\":[{\"marker\":{\"colorbar\":{\"outlinewidth\":0,\"ticks\":\"\"}},\"type\":\"scatterternary\"}],\"surface\":[{\"colorbar\":{\"outlinewidth\":0,\"ticks\":\"\"},\"colorscale\":[[0.0,\"#0d0887\"],[0.1111111111111111,\"#46039f\"],[0.2222222222222222,\"#7201a8\"],[0.3333333333333333,\"#9c179e\"],[0.4444444444444444,\"#bd3786\"],[0.5555555555555556,\"#d8576b\"],[0.6666666666666666,\"#ed7953\"],[0.7777777777777778,\"#fb9f3a\"],[0.8888888888888888,\"#fdca26\"],[1.0,\"#f0f921\"]],\"type\":\"surface\"}],\"table\":[{\"cells\":{\"fill\":{\"color\":\"#506784\"},\"line\":{\"color\":\"rgb(17,17,17)\"}},\"header\":{\"fill\":{\"color\":\"#2a3f5f\"},\"line\":{\"color\":\"rgb(17,17,17)\"}},\"type\":\"table\"}]},\"layout\":{\"annotationdefaults\":{\"arrowcolor\":\"#f2f5fa\",\"arrowhead\":0,\"arrowwidth\":1},\"autotypenumbers\":\"strict\",\"coloraxis\":{\"colorbar\":{\"outlinewidth\":0,\"ticks\":\"\"}},\"colorscale\":{\"diverging\":[[0,\"#8e0152\"],[0.1,\"#c51b7d\"],[0.2,\"#de77ae\"],[0.3,\"#f1b6da\"],[0.4,\"#fde0ef\"],[0.5,\"#f7f7f7\"],[0.6,\"#e6f5d0\"],[0.7,\"#b8e186\"],[0.8,\"#7fbc41\"],[0.9,\"#4d9221\"],[1,\"#276419\"]],\"sequential\":[[0.0,\"#0d0887\"],[0.1111111111111111,\"#46039f\"],[0.2222222222222222,\"#7201a8\"],[0.3333333333333333,\"#9c179e\"],[0.4444444444444444,\"#bd3786\"],[0.5555555555555556,\"#d8576b\"],[0.6666666666666666,\"#ed7953\"],[0.7777777777777778,\"#fb9f3a\"],[0.8888888888888888,\"#fdca26\"],[1.0,\"#f0f921\"]],\"sequentialminus\":[[0.0,\"#0d0887\"],[0.1111111111111111,\"#46039f\"],[0.2222222222222222,\"#7201a8\"],[0.3333333333333333,\"#9c179e\"],[0.4444444444444444,\"#bd3786\"],[0.5555555555555556,\"#d8576b\"],[0.6666666666666666,\"#ed7953\"],[0.7777777777777778,\"#fb9f3a\"],[0.8888888888888888,\"#fdca26\"],[1.0,\"#f0f921\"]]},\"colorway\":[\"#636efa\",\"#EF553B\",\"#00cc96\",\"#ab63fa\",\"#FFA15A\",\"#19d3f3\",\"#FF6692\",\"#B6E880\",\"#FF97FF\",\"#FECB52\"],\"font\":{\"color\":\"#f2f5fa\"},\"geo\":{\"bgcolor\":\"rgb(17,17,17)\",\"lakecolor\":\"rgb(17,17,17)\",\"landcolor\":\"rgb(17,17,17)\",\"showlakes\":true,\"showland\":true,\"subunitcolor\":\"#506784\"},\"hoverlabel\":{\"align\":\"left\"},\"hovermode\":\"closest\",\"mapbox\":{\"style\":\"dark\"},\"paper_bgcolor\":\"rgb(17,17,17)\",\"plot_bgcolor\":\"rgb(17,17,17)\",\"polar\":{\"angularaxis\":{\"gridcolor\":\"#506784\",\"linecolor\":\"#506784\",\"ticks\":\"\"},\"bgcolor\":\"rgb(17,17,17)\",\"radialaxis\":{\"gridcolor\":\"#506784\",\"linecolor\":\"#506784\",\"ticks\":\"\"}},\"scene\":{\"xaxis\":{\"backgroundcolor\":\"rgb(17,17,17)\",\"gridcolor\":\"#506784\",\"gridwidth\":2,\"linecolor\":\"#506784\",\"showbackground\":true,\"ticks\":\"\",\"zerolinecolor\":\"#C8D4E3\"},\"yaxis\":{\"backgroundcolor\":\"rgb(17,17,17)\",\"gridcolor\":\"#506784\",\"gridwidth\":2,\"linecolor\":\"#506784\",\"showbackground\":true,\"ticks\":\"\",\"zerolinecolor\":\"#C8D4E3\"},\"zaxis\":{\"backgroundcolor\":\"rgb(17,17,17)\",\"gridcolor\":\"#506784\",\"gridwidth\":2,\"linecolor\":\"#506784\",\"showbackground\":true,\"ticks\":\"\",\"zerolinecolor\":\"#C8D4E3\"}},\"shapedefaults\":{\"line\":{\"color\":\"#f2f5fa\"}},\"sliderdefaults\":{\"bgcolor\":\"#C8D4E3\",\"bordercolor\":\"rgb(17,17,17)\",\"borderwidth\":1,\"tickwidth\":0},\"ternary\":{\"aaxis\":{\"gridcolor\":\"#506784\",\"linecolor\":\"#506784\",\"ticks\":\"\"},\"baxis\":{\"gridcolor\":\"#506784\",\"linecolor\":\"#506784\",\"ticks\":\"\"},\"bgcolor\":\"rgb(17,17,17)\",\"caxis\":{\"gridcolor\":\"#506784\",\"linecolor\":\"#506784\",\"ticks\":\"\"}},\"title\":{\"x\":0.05},\"updatemenudefaults\":{\"bgcolor\":\"#506784\",\"borderwidth\":0},\"xaxis\":{\"automargin\":true,\"gridcolor\":\"#283442\",\"linecolor\":\"#506784\",\"ticks\":\"\",\"title\":{\"standoff\":15},\"zerolinecolor\":\"#283442\",\"zerolinewidth\":2},\"yaxis\":{\"automargin\":true,\"gridcolor\":\"#283442\",\"linecolor\":\"#506784\",\"ticks\":\"\",\"title\":{\"standoff\":15},\"zerolinecolor\":\"#283442\",\"zerolinewidth\":2}}},\"title\":{\"text\":\"2D Density Plot\"},\"width\":600,\"xaxis\":{\"domain\":[0,0.85],\"showgrid\":false,\"zeroline\":false},\"yaxis\":{\"domain\":[0,0.85],\"showgrid\":false,\"zeroline\":false},\"xaxis2\":{\"domain\":[0.85,1],\"showgrid\":false,\"zeroline\":false},\"yaxis2\":{\"domain\":[0.85,1],\"showgrid\":false,\"zeroline\":false}},                        {\"responsive\": true}                    ).then(function(){\n",
       "                            \n",
       "var gd = document.getElementById('bcfed3ba-d885-423a-8514-6d6237b5e4c1');\n",
       "var x = new MutationObserver(function (mutations, observer) {{\n",
       "        var display = window.getComputedStyle(gd).display;\n",
       "        if (!display || display === 'none') {{\n",
       "            console.log([gd, 'removed!']);\n",
       "            Plotly.purge(gd);\n",
       "            observer.disconnect();\n",
       "        }}\n",
       "}});\n",
       "\n",
       "// Listen for the removal of the full notebook cells\n",
       "var notebookContainer = gd.closest('#notebook-container');\n",
       "if (notebookContainer) {{\n",
       "    x.observe(notebookContainer, {childList: true});\n",
       "}}\n",
       "\n",
       "// Listen for the clearing of the current output cell\n",
       "var outputEl = gd.closest('.output');\n",
       "if (outputEl) {{\n",
       "    x.observe(outputEl, {childList: true});\n",
       "}}\n",
       "\n",
       "                        })                };                });            </script>        </div>"
      ]
     },
     "metadata": {},
     "output_type": "display_data"
    }
   ],
   "execution_count": 32
  },
  {
   "cell_type": "code",
   "metadata": {
    "id": "ua1URH4H25LL",
    "outputId": "6f0d95e7-c4ed-442a-8c0f-93b60f8a891e",
    "ExecuteTime": {
     "end_time": "2024-06-11T15:12:28.693352Z",
     "start_time": "2024-06-11T15:12:28.678131Z"
    }
   },
   "source": [
    "df_bar_pubg.head(1)"
   ],
   "outputs": [
    {
     "data": {
      "text/plain": [
       "  player_name  tracker_id  solo_KillDeathRatio  solo_WinRatio  \\\n",
       "0   BreakNeck        4405                 3.14          17.65   \n",
       "\n",
       "   solo_TimeSurvived  solo_RoundsPlayed  solo_Wins  solo_WinTop10Ratio  \\\n",
       "0           18469.14                 17          3                0.83   \n",
       "\n",
       "   solo_Top10s  solo_Top10Ratio  ...  squad_RideDistance  squad_MoveDistance  \\\n",
       "0            4             23.5  ...          3751590.99          5194786.58   \n",
       "\n",
       "   squad_AvgWalkDistance  squad_AvgRideDistance  squad_LongestKill  \\\n",
       "0                2626.97                4372.64             536.98   \n",
       "\n",
       "   squad_Heals  squad_Revives  squad_Boosts  squad_DamageDealt  squad_DBNOs  \n",
       "0         2186            234          1884          242132.73         1448  \n",
       "\n",
       "[1 rows x 152 columns]"
      ],
      "text/html": [
       "<div>\n",
       "<style scoped>\n",
       "    .dataframe tbody tr th:only-of-type {\n",
       "        vertical-align: middle;\n",
       "    }\n",
       "\n",
       "    .dataframe tbody tr th {\n",
       "        vertical-align: top;\n",
       "    }\n",
       "\n",
       "    .dataframe thead th {\n",
       "        text-align: right;\n",
       "    }\n",
       "</style>\n",
       "<table border=\"1\" class=\"dataframe\">\n",
       "  <thead>\n",
       "    <tr style=\"text-align: right;\">\n",
       "      <th></th>\n",
       "      <th>player_name</th>\n",
       "      <th>tracker_id</th>\n",
       "      <th>solo_KillDeathRatio</th>\n",
       "      <th>solo_WinRatio</th>\n",
       "      <th>solo_TimeSurvived</th>\n",
       "      <th>solo_RoundsPlayed</th>\n",
       "      <th>solo_Wins</th>\n",
       "      <th>solo_WinTop10Ratio</th>\n",
       "      <th>solo_Top10s</th>\n",
       "      <th>solo_Top10Ratio</th>\n",
       "      <th>...</th>\n",
       "      <th>squad_RideDistance</th>\n",
       "      <th>squad_MoveDistance</th>\n",
       "      <th>squad_AvgWalkDistance</th>\n",
       "      <th>squad_AvgRideDistance</th>\n",
       "      <th>squad_LongestKill</th>\n",
       "      <th>squad_Heals</th>\n",
       "      <th>squad_Revives</th>\n",
       "      <th>squad_Boosts</th>\n",
       "      <th>squad_DamageDealt</th>\n",
       "      <th>squad_DBNOs</th>\n",
       "    </tr>\n",
       "  </thead>\n",
       "  <tbody>\n",
       "    <tr>\n",
       "      <th>0</th>\n",
       "      <td>BreakNeck</td>\n",
       "      <td>4405</td>\n",
       "      <td>3.14</td>\n",
       "      <td>17.65</td>\n",
       "      <td>18469.14</td>\n",
       "      <td>17</td>\n",
       "      <td>3</td>\n",
       "      <td>0.83</td>\n",
       "      <td>4</td>\n",
       "      <td>23.5</td>\n",
       "      <td>...</td>\n",
       "      <td>3751590.99</td>\n",
       "      <td>5194786.58</td>\n",
       "      <td>2626.97</td>\n",
       "      <td>4372.64</td>\n",
       "      <td>536.98</td>\n",
       "      <td>2186</td>\n",
       "      <td>234</td>\n",
       "      <td>1884</td>\n",
       "      <td>242132.73</td>\n",
       "      <td>1448</td>\n",
       "    </tr>\n",
       "  </tbody>\n",
       "</table>\n",
       "<p>1 rows × 152 columns</p>\n",
       "</div>"
      ]
     },
     "execution_count": 33,
     "metadata": {},
     "output_type": "execute_result"
    }
   ],
   "execution_count": 33
  },
  {
   "cell_type": "code",
   "metadata": {
    "id": "WHbW9jhT25LL",
    "outputId": "d1d281fd-afbd-4f43-d1c1-36ab3420abe4",
    "ExecuteTime": {
     "end_time": "2024-06-11T15:12:32.205276Z",
     "start_time": "2024-06-11T15:12:32.138609Z"
    }
   },
   "source": [
    "#3D Plotly visualization\n",
    "import chart_studio\n",
    "\n",
    "chart_studio.tools.set_credentials_file(username = 'DemoAccount', api_key = 'lr1c37zw81')\n",
    "\n",
    "x = df_bar_pubg['solo_Wins']\n",
    "y = df_bar_pubg['solo_TimeSurvived']\n",
    "z = df_bar_pubg['solo_RoundsPlayed']\n",
    "\n",
    "trace1 = go.Scatter3d(\n",
    "\tx = x,\n",
    "\ty = y,\n",
    "\tz = z,\n",
    "\tmode = 'markers',\n",
    "\tmarker = dict(\n",
    "\t\tsize = 12,\n",
    "\t\tcolor = z,\n",
    "\t\tcolorscale = 'Viridis',\n",
    "\t\topacity = 0.8))\n",
    "\n",
    "data = [trace1]\n",
    "layout = go.Layout(\n",
    "\tmargin = dict(\n",
    "\t\tl = 0,\n",
    "\t\tr = 0,\n",
    "\t\tb = 0,\n",
    "\t\tt = 0)\n",
    ")\n",
    "\n",
    "fig = go.Figure(data = data, layout = layout)\n",
    "iplot(fig, filename = '3d-pubg-plot')"
   ],
   "outputs": [
    {
     "data": {
      "application/vnd.plotly.v1+json": {
       "data": [
        {
         "marker": {
          "color": [
           17,
           33,
           5,
           8,
           6,
           16,
           142,
           19,
           44,
           8,
           116,
           335,
           87,
           72,
           23,
           3,
           165,
           65,
           16,
           45,
           55,
           45,
           9,
           14,
           277,
           265,
           77,
           52,
           56,
           22
          ],
          "colorscale": [
           [
            0.0,
            "#440154"
           ],
           [
            0.1111111111111111,
            "#482878"
           ],
           [
            0.2222222222222222,
            "#3e4989"
           ],
           [
            0.3333333333333333,
            "#31688e"
           ],
           [
            0.4444444444444444,
            "#26828e"
           ],
           [
            0.5555555555555556,
            "#1f9e89"
           ],
           [
            0.6666666666666666,
            "#35b779"
           ],
           [
            0.7777777777777778,
            "#6ece58"
           ],
           [
            0.8888888888888888,
            "#b5de2b"
           ],
           [
            1.0,
            "#fde725"
           ]
          ],
          "opacity": 0.8,
          "size": 12
         },
         "mode": "markers",
         "x": [
          3,
          6,
          0,
          4,
          2,
          5,
          12,
          5,
          6,
          2,
          7,
          4,
          9,
          4,
          3,
          1,
          38,
          12,
          6,
          2,
          7,
          4,
          3,
          2,
          48,
          63,
          4,
          3,
          3,
          2
         ],
         "y": [
          18469.14,
          33014.86,
          4330.44,
          13421.82,
          9841.04,
          22003.22,
          148051.25,
          26091.14,
          49282.41,
          10280.77,
          106330.23,
          232995.54,
          91380.4,
          71910.46,
          30996.86,
          3638.01,
          246771.12,
          87214.43,
          20927.23,
          45916.37,
          62763.42,
          43124.07,
          11733.19,
          18488.62,
          331173.26,
          397022.2,
          87514.41,
          53548.14,
          47966.09,
          25094.18
         ],
         "z": [
          17,
          33,
          5,
          8,
          6,
          16,
          142,
          19,
          44,
          8,
          116,
          335,
          87,
          72,
          23,
          3,
          165,
          65,
          16,
          45,
          55,
          45,
          9,
          14,
          277,
          265,
          77,
          52,
          56,
          22
         ],
         "type": "scatter3d"
        }
       ],
       "layout": {
        "margin": {
         "b": 0,
         "l": 0,
         "r": 0,
         "t": 0
        },
        "template": {
         "data": {
          "barpolar": [
           {
            "marker": {
             "line": {
              "color": "rgb(17,17,17)",
              "width": 0.5
             },
             "pattern": {
              "fillmode": "overlay",
              "size": 10,
              "solidity": 0.2
             }
            },
            "type": "barpolar"
           }
          ],
          "bar": [
           {
            "error_x": {
             "color": "#f2f5fa"
            },
            "error_y": {
             "color": "#f2f5fa"
            },
            "marker": {
             "line": {
              "color": "rgb(17,17,17)",
              "width": 0.5
             },
             "pattern": {
              "fillmode": "overlay",
              "size": 10,
              "solidity": 0.2
             }
            },
            "type": "bar"
           }
          ],
          "carpet": [
           {
            "aaxis": {
             "endlinecolor": "#A2B1C6",
             "gridcolor": "#506784",
             "linecolor": "#506784",
             "minorgridcolor": "#506784",
             "startlinecolor": "#A2B1C6"
            },
            "baxis": {
             "endlinecolor": "#A2B1C6",
             "gridcolor": "#506784",
             "linecolor": "#506784",
             "minorgridcolor": "#506784",
             "startlinecolor": "#A2B1C6"
            },
            "type": "carpet"
           }
          ],
          "choropleth": [
           {
            "colorbar": {
             "outlinewidth": 0,
             "ticks": ""
            },
            "type": "choropleth"
           }
          ],
          "contourcarpet": [
           {
            "colorbar": {
             "outlinewidth": 0,
             "ticks": ""
            },
            "type": "contourcarpet"
           }
          ],
          "contour": [
           {
            "colorbar": {
             "outlinewidth": 0,
             "ticks": ""
            },
            "colorscale": [
             [
              0.0,
              "#0d0887"
             ],
             [
              0.1111111111111111,
              "#46039f"
             ],
             [
              0.2222222222222222,
              "#7201a8"
             ],
             [
              0.3333333333333333,
              "#9c179e"
             ],
             [
              0.4444444444444444,
              "#bd3786"
             ],
             [
              0.5555555555555556,
              "#d8576b"
             ],
             [
              0.6666666666666666,
              "#ed7953"
             ],
             [
              0.7777777777777778,
              "#fb9f3a"
             ],
             [
              0.8888888888888888,
              "#fdca26"
             ],
             [
              1.0,
              "#f0f921"
             ]
            ],
            "type": "contour"
           }
          ],
          "heatmapgl": [
           {
            "colorbar": {
             "outlinewidth": 0,
             "ticks": ""
            },
            "colorscale": [
             [
              0.0,
              "#0d0887"
             ],
             [
              0.1111111111111111,
              "#46039f"
             ],
             [
              0.2222222222222222,
              "#7201a8"
             ],
             [
              0.3333333333333333,
              "#9c179e"
             ],
             [
              0.4444444444444444,
              "#bd3786"
             ],
             [
              0.5555555555555556,
              "#d8576b"
             ],
             [
              0.6666666666666666,
              "#ed7953"
             ],
             [
              0.7777777777777778,
              "#fb9f3a"
             ],
             [
              0.8888888888888888,
              "#fdca26"
             ],
             [
              1.0,
              "#f0f921"
             ]
            ],
            "type": "heatmapgl"
           }
          ],
          "heatmap": [
           {
            "colorbar": {
             "outlinewidth": 0,
             "ticks": ""
            },
            "colorscale": [
             [
              0.0,
              "#0d0887"
             ],
             [
              0.1111111111111111,
              "#46039f"
             ],
             [
              0.2222222222222222,
              "#7201a8"
             ],
             [
              0.3333333333333333,
              "#9c179e"
             ],
             [
              0.4444444444444444,
              "#bd3786"
             ],
             [
              0.5555555555555556,
              "#d8576b"
             ],
             [
              0.6666666666666666,
              "#ed7953"
             ],
             [
              0.7777777777777778,
              "#fb9f3a"
             ],
             [
              0.8888888888888888,
              "#fdca26"
             ],
             [
              1.0,
              "#f0f921"
             ]
            ],
            "type": "heatmap"
           }
          ],
          "histogram2dcontour": [
           {
            "colorbar": {
             "outlinewidth": 0,
             "ticks": ""
            },
            "colorscale": [
             [
              0.0,
              "#0d0887"
             ],
             [
              0.1111111111111111,
              "#46039f"
             ],
             [
              0.2222222222222222,
              "#7201a8"
             ],
             [
              0.3333333333333333,
              "#9c179e"
             ],
             [
              0.4444444444444444,
              "#bd3786"
             ],
             [
              0.5555555555555556,
              "#d8576b"
             ],
             [
              0.6666666666666666,
              "#ed7953"
             ],
             [
              0.7777777777777778,
              "#fb9f3a"
             ],
             [
              0.8888888888888888,
              "#fdca26"
             ],
             [
              1.0,
              "#f0f921"
             ]
            ],
            "type": "histogram2dcontour"
           }
          ],
          "histogram2d": [
           {
            "colorbar": {
             "outlinewidth": 0,
             "ticks": ""
            },
            "colorscale": [
             [
              0.0,
              "#0d0887"
             ],
             [
              0.1111111111111111,
              "#46039f"
             ],
             [
              0.2222222222222222,
              "#7201a8"
             ],
             [
              0.3333333333333333,
              "#9c179e"
             ],
             [
              0.4444444444444444,
              "#bd3786"
             ],
             [
              0.5555555555555556,
              "#d8576b"
             ],
             [
              0.6666666666666666,
              "#ed7953"
             ],
             [
              0.7777777777777778,
              "#fb9f3a"
             ],
             [
              0.8888888888888888,
              "#fdca26"
             ],
             [
              1.0,
              "#f0f921"
             ]
            ],
            "type": "histogram2d"
           }
          ],
          "histogram": [
           {
            "marker": {
             "pattern": {
              "fillmode": "overlay",
              "size": 10,
              "solidity": 0.2
             }
            },
            "type": "histogram"
           }
          ],
          "mesh3d": [
           {
            "colorbar": {
             "outlinewidth": 0,
             "ticks": ""
            },
            "type": "mesh3d"
           }
          ],
          "parcoords": [
           {
            "line": {
             "colorbar": {
              "outlinewidth": 0,
              "ticks": ""
             }
            },
            "type": "parcoords"
           }
          ],
          "pie": [
           {
            "automargin": true,
            "type": "pie"
           }
          ],
          "scatter3d": [
           {
            "line": {
             "colorbar": {
              "outlinewidth": 0,
              "ticks": ""
             }
            },
            "marker": {
             "colorbar": {
              "outlinewidth": 0,
              "ticks": ""
             }
            },
            "type": "scatter3d"
           }
          ],
          "scattercarpet": [
           {
            "marker": {
             "colorbar": {
              "outlinewidth": 0,
              "ticks": ""
             }
            },
            "type": "scattercarpet"
           }
          ],
          "scattergeo": [
           {
            "marker": {
             "colorbar": {
              "outlinewidth": 0,
              "ticks": ""
             }
            },
            "type": "scattergeo"
           }
          ],
          "scattergl": [
           {
            "marker": {
             "line": {
              "color": "#283442"
             }
            },
            "type": "scattergl"
           }
          ],
          "scattermapbox": [
           {
            "marker": {
             "colorbar": {
              "outlinewidth": 0,
              "ticks": ""
             }
            },
            "type": "scattermapbox"
           }
          ],
          "scatterpolargl": [
           {
            "marker": {
             "colorbar": {
              "outlinewidth": 0,
              "ticks": ""
             }
            },
            "type": "scatterpolargl"
           }
          ],
          "scatterpolar": [
           {
            "marker": {
             "colorbar": {
              "outlinewidth": 0,
              "ticks": ""
             }
            },
            "type": "scatterpolar"
           }
          ],
          "scatter": [
           {
            "marker": {
             "line": {
              "color": "#283442"
             }
            },
            "type": "scatter"
           }
          ],
          "scatterternary": [
           {
            "marker": {
             "colorbar": {
              "outlinewidth": 0,
              "ticks": ""
             }
            },
            "type": "scatterternary"
           }
          ],
          "surface": [
           {
            "colorbar": {
             "outlinewidth": 0,
             "ticks": ""
            },
            "colorscale": [
             [
              0.0,
              "#0d0887"
             ],
             [
              0.1111111111111111,
              "#46039f"
             ],
             [
              0.2222222222222222,
              "#7201a8"
             ],
             [
              0.3333333333333333,
              "#9c179e"
             ],
             [
              0.4444444444444444,
              "#bd3786"
             ],
             [
              0.5555555555555556,
              "#d8576b"
             ],
             [
              0.6666666666666666,
              "#ed7953"
             ],
             [
              0.7777777777777778,
              "#fb9f3a"
             ],
             [
              0.8888888888888888,
              "#fdca26"
             ],
             [
              1.0,
              "#f0f921"
             ]
            ],
            "type": "surface"
           }
          ],
          "table": [
           {
            "cells": {
             "fill": {
              "color": "#506784"
             },
             "line": {
              "color": "rgb(17,17,17)"
             }
            },
            "header": {
             "fill": {
              "color": "#2a3f5f"
             },
             "line": {
              "color": "rgb(17,17,17)"
             }
            },
            "type": "table"
           }
          ]
         },
         "layout": {
          "annotationdefaults": {
           "arrowcolor": "#f2f5fa",
           "arrowhead": 0,
           "arrowwidth": 1
          },
          "autotypenumbers": "strict",
          "coloraxis": {
           "colorbar": {
            "outlinewidth": 0,
            "ticks": ""
           }
          },
          "colorscale": {
           "diverging": [
            [
             0,
             "#8e0152"
            ],
            [
             0.1,
             "#c51b7d"
            ],
            [
             0.2,
             "#de77ae"
            ],
            [
             0.3,
             "#f1b6da"
            ],
            [
             0.4,
             "#fde0ef"
            ],
            [
             0.5,
             "#f7f7f7"
            ],
            [
             0.6,
             "#e6f5d0"
            ],
            [
             0.7,
             "#b8e186"
            ],
            [
             0.8,
             "#7fbc41"
            ],
            [
             0.9,
             "#4d9221"
            ],
            [
             1,
             "#276419"
            ]
           ],
           "sequential": [
            [
             0.0,
             "#0d0887"
            ],
            [
             0.1111111111111111,
             "#46039f"
            ],
            [
             0.2222222222222222,
             "#7201a8"
            ],
            [
             0.3333333333333333,
             "#9c179e"
            ],
            [
             0.4444444444444444,
             "#bd3786"
            ],
            [
             0.5555555555555556,
             "#d8576b"
            ],
            [
             0.6666666666666666,
             "#ed7953"
            ],
            [
             0.7777777777777778,
             "#fb9f3a"
            ],
            [
             0.8888888888888888,
             "#fdca26"
            ],
            [
             1.0,
             "#f0f921"
            ]
           ],
           "sequentialminus": [
            [
             0.0,
             "#0d0887"
            ],
            [
             0.1111111111111111,
             "#46039f"
            ],
            [
             0.2222222222222222,
             "#7201a8"
            ],
            [
             0.3333333333333333,
             "#9c179e"
            ],
            [
             0.4444444444444444,
             "#bd3786"
            ],
            [
             0.5555555555555556,
             "#d8576b"
            ],
            [
             0.6666666666666666,
             "#ed7953"
            ],
            [
             0.7777777777777778,
             "#fb9f3a"
            ],
            [
             0.8888888888888888,
             "#fdca26"
            ],
            [
             1.0,
             "#f0f921"
            ]
           ]
          },
          "colorway": [
           "#636efa",
           "#EF553B",
           "#00cc96",
           "#ab63fa",
           "#FFA15A",
           "#19d3f3",
           "#FF6692",
           "#B6E880",
           "#FF97FF",
           "#FECB52"
          ],
          "font": {
           "color": "#f2f5fa"
          },
          "geo": {
           "bgcolor": "rgb(17,17,17)",
           "lakecolor": "rgb(17,17,17)",
           "landcolor": "rgb(17,17,17)",
           "showlakes": true,
           "showland": true,
           "subunitcolor": "#506784"
          },
          "hoverlabel": {
           "align": "left"
          },
          "hovermode": "closest",
          "mapbox": {
           "style": "dark"
          },
          "paper_bgcolor": "rgb(17,17,17)",
          "plot_bgcolor": "rgb(17,17,17)",
          "polar": {
           "angularaxis": {
            "gridcolor": "#506784",
            "linecolor": "#506784",
            "ticks": ""
           },
           "bgcolor": "rgb(17,17,17)",
           "radialaxis": {
            "gridcolor": "#506784",
            "linecolor": "#506784",
            "ticks": ""
           }
          },
          "scene": {
           "xaxis": {
            "backgroundcolor": "rgb(17,17,17)",
            "gridcolor": "#506784",
            "gridwidth": 2,
            "linecolor": "#506784",
            "showbackground": true,
            "ticks": "",
            "zerolinecolor": "#C8D4E3"
           },
           "yaxis": {
            "backgroundcolor": "rgb(17,17,17)",
            "gridcolor": "#506784",
            "gridwidth": 2,
            "linecolor": "#506784",
            "showbackground": true,
            "ticks": "",
            "zerolinecolor": "#C8D4E3"
           },
           "zaxis": {
            "backgroundcolor": "rgb(17,17,17)",
            "gridcolor": "#506784",
            "gridwidth": 2,
            "linecolor": "#506784",
            "showbackground": true,
            "ticks": "",
            "zerolinecolor": "#C8D4E3"
           }
          },
          "shapedefaults": {
           "line": {
            "color": "#f2f5fa"
           }
          },
          "sliderdefaults": {
           "bgcolor": "#C8D4E3",
           "bordercolor": "rgb(17,17,17)",
           "borderwidth": 1,
           "tickwidth": 0
          },
          "ternary": {
           "aaxis": {
            "gridcolor": "#506784",
            "linecolor": "#506784",
            "ticks": ""
           },
           "baxis": {
            "gridcolor": "#506784",
            "linecolor": "#506784",
            "ticks": ""
           },
           "bgcolor": "rgb(17,17,17)",
           "caxis": {
            "gridcolor": "#506784",
            "linecolor": "#506784",
            "ticks": ""
           }
          },
          "title": {
           "x": 0.05
          },
          "updatemenudefaults": {
           "bgcolor": "#506784",
           "borderwidth": 0
          },
          "xaxis": {
           "automargin": true,
           "gridcolor": "#283442",
           "linecolor": "#506784",
           "ticks": "",
           "title": {
            "standoff": 15
           },
           "zerolinecolor": "#283442",
           "zerolinewidth": 2
          },
          "yaxis": {
           "automargin": true,
           "gridcolor": "#283442",
           "linecolor": "#506784",
           "ticks": "",
           "title": {
            "standoff": 15
           },
           "zerolinecolor": "#283442",
           "zerolinewidth": 2
          }
         }
        }
       },
       "config": {
        "showLink": false,
        "linkText": "Export to plotly.com",
        "plotlyServerURL": "https://plotly.com"
       }
      },
      "text/html": [
       "<div>                            <div id=\"ab6819d3-8671-4421-9661-957d6f6d09f4\" class=\"plotly-graph-div\" style=\"height:525px; width:100%;\"></div>            <script type=\"text/javascript\">                require([\"plotly\"], function(Plotly) {                    window.PLOTLYENV=window.PLOTLYENV || {};                                    if (document.getElementById(\"ab6819d3-8671-4421-9661-957d6f6d09f4\")) {                    Plotly.newPlot(                        \"ab6819d3-8671-4421-9661-957d6f6d09f4\",                        [{\"marker\":{\"color\":[17,33,5,8,6,16,142,19,44,8,116,335,87,72,23,3,165,65,16,45,55,45,9,14,277,265,77,52,56,22],\"colorscale\":[[0.0,\"#440154\"],[0.1111111111111111,\"#482878\"],[0.2222222222222222,\"#3e4989\"],[0.3333333333333333,\"#31688e\"],[0.4444444444444444,\"#26828e\"],[0.5555555555555556,\"#1f9e89\"],[0.6666666666666666,\"#35b779\"],[0.7777777777777778,\"#6ece58\"],[0.8888888888888888,\"#b5de2b\"],[1.0,\"#fde725\"]],\"opacity\":0.8,\"size\":12},\"mode\":\"markers\",\"x\":[3,6,0,4,2,5,12,5,6,2,7,4,9,4,3,1,38,12,6,2,7,4,3,2,48,63,4,3,3,2],\"y\":[18469.14,33014.86,4330.44,13421.82,9841.04,22003.22,148051.25,26091.14,49282.41,10280.77,106330.23,232995.54,91380.4,71910.46,30996.86,3638.01,246771.12,87214.43,20927.23,45916.37,62763.42,43124.07,11733.19,18488.62,331173.26,397022.2,87514.41,53548.14,47966.09,25094.18],\"z\":[17,33,5,8,6,16,142,19,44,8,116,335,87,72,23,3,165,65,16,45,55,45,9,14,277,265,77,52,56,22],\"type\":\"scatter3d\"}],                        {\"margin\":{\"b\":0,\"l\":0,\"r\":0,\"t\":0},\"template\":{\"data\":{\"barpolar\":[{\"marker\":{\"line\":{\"color\":\"rgb(17,17,17)\",\"width\":0.5},\"pattern\":{\"fillmode\":\"overlay\",\"size\":10,\"solidity\":0.2}},\"type\":\"barpolar\"}],\"bar\":[{\"error_x\":{\"color\":\"#f2f5fa\"},\"error_y\":{\"color\":\"#f2f5fa\"},\"marker\":{\"line\":{\"color\":\"rgb(17,17,17)\",\"width\":0.5},\"pattern\":{\"fillmode\":\"overlay\",\"size\":10,\"solidity\":0.2}},\"type\":\"bar\"}],\"carpet\":[{\"aaxis\":{\"endlinecolor\":\"#A2B1C6\",\"gridcolor\":\"#506784\",\"linecolor\":\"#506784\",\"minorgridcolor\":\"#506784\",\"startlinecolor\":\"#A2B1C6\"},\"baxis\":{\"endlinecolor\":\"#A2B1C6\",\"gridcolor\":\"#506784\",\"linecolor\":\"#506784\",\"minorgridcolor\":\"#506784\",\"startlinecolor\":\"#A2B1C6\"},\"type\":\"carpet\"}],\"choropleth\":[{\"colorbar\":{\"outlinewidth\":0,\"ticks\":\"\"},\"type\":\"choropleth\"}],\"contourcarpet\":[{\"colorbar\":{\"outlinewidth\":0,\"ticks\":\"\"},\"type\":\"contourcarpet\"}],\"contour\":[{\"colorbar\":{\"outlinewidth\":0,\"ticks\":\"\"},\"colorscale\":[[0.0,\"#0d0887\"],[0.1111111111111111,\"#46039f\"],[0.2222222222222222,\"#7201a8\"],[0.3333333333333333,\"#9c179e\"],[0.4444444444444444,\"#bd3786\"],[0.5555555555555556,\"#d8576b\"],[0.6666666666666666,\"#ed7953\"],[0.7777777777777778,\"#fb9f3a\"],[0.8888888888888888,\"#fdca26\"],[1.0,\"#f0f921\"]],\"type\":\"contour\"}],\"heatmapgl\":[{\"colorbar\":{\"outlinewidth\":0,\"ticks\":\"\"},\"colorscale\":[[0.0,\"#0d0887\"],[0.1111111111111111,\"#46039f\"],[0.2222222222222222,\"#7201a8\"],[0.3333333333333333,\"#9c179e\"],[0.4444444444444444,\"#bd3786\"],[0.5555555555555556,\"#d8576b\"],[0.6666666666666666,\"#ed7953\"],[0.7777777777777778,\"#fb9f3a\"],[0.8888888888888888,\"#fdca26\"],[1.0,\"#f0f921\"]],\"type\":\"heatmapgl\"}],\"heatmap\":[{\"colorbar\":{\"outlinewidth\":0,\"ticks\":\"\"},\"colorscale\":[[0.0,\"#0d0887\"],[0.1111111111111111,\"#46039f\"],[0.2222222222222222,\"#7201a8\"],[0.3333333333333333,\"#9c179e\"],[0.4444444444444444,\"#bd3786\"],[0.5555555555555556,\"#d8576b\"],[0.6666666666666666,\"#ed7953\"],[0.7777777777777778,\"#fb9f3a\"],[0.8888888888888888,\"#fdca26\"],[1.0,\"#f0f921\"]],\"type\":\"heatmap\"}],\"histogram2dcontour\":[{\"colorbar\":{\"outlinewidth\":0,\"ticks\":\"\"},\"colorscale\":[[0.0,\"#0d0887\"],[0.1111111111111111,\"#46039f\"],[0.2222222222222222,\"#7201a8\"],[0.3333333333333333,\"#9c179e\"],[0.4444444444444444,\"#bd3786\"],[0.5555555555555556,\"#d8576b\"],[0.6666666666666666,\"#ed7953\"],[0.7777777777777778,\"#fb9f3a\"],[0.8888888888888888,\"#fdca26\"],[1.0,\"#f0f921\"]],\"type\":\"histogram2dcontour\"}],\"histogram2d\":[{\"colorbar\":{\"outlinewidth\":0,\"ticks\":\"\"},\"colorscale\":[[0.0,\"#0d0887\"],[0.1111111111111111,\"#46039f\"],[0.2222222222222222,\"#7201a8\"],[0.3333333333333333,\"#9c179e\"],[0.4444444444444444,\"#bd3786\"],[0.5555555555555556,\"#d8576b\"],[0.6666666666666666,\"#ed7953\"],[0.7777777777777778,\"#fb9f3a\"],[0.8888888888888888,\"#fdca26\"],[1.0,\"#f0f921\"]],\"type\":\"histogram2d\"}],\"histogram\":[{\"marker\":{\"pattern\":{\"fillmode\":\"overlay\",\"size\":10,\"solidity\":0.2}},\"type\":\"histogram\"}],\"mesh3d\":[{\"colorbar\":{\"outlinewidth\":0,\"ticks\":\"\"},\"type\":\"mesh3d\"}],\"parcoords\":[{\"line\":{\"colorbar\":{\"outlinewidth\":0,\"ticks\":\"\"}},\"type\":\"parcoords\"}],\"pie\":[{\"automargin\":true,\"type\":\"pie\"}],\"scatter3d\":[{\"line\":{\"colorbar\":{\"outlinewidth\":0,\"ticks\":\"\"}},\"marker\":{\"colorbar\":{\"outlinewidth\":0,\"ticks\":\"\"}},\"type\":\"scatter3d\"}],\"scattercarpet\":[{\"marker\":{\"colorbar\":{\"outlinewidth\":0,\"ticks\":\"\"}},\"type\":\"scattercarpet\"}],\"scattergeo\":[{\"marker\":{\"colorbar\":{\"outlinewidth\":0,\"ticks\":\"\"}},\"type\":\"scattergeo\"}],\"scattergl\":[{\"marker\":{\"line\":{\"color\":\"#283442\"}},\"type\":\"scattergl\"}],\"scattermapbox\":[{\"marker\":{\"colorbar\":{\"outlinewidth\":0,\"ticks\":\"\"}},\"type\":\"scattermapbox\"}],\"scatterpolargl\":[{\"marker\":{\"colorbar\":{\"outlinewidth\":0,\"ticks\":\"\"}},\"type\":\"scatterpolargl\"}],\"scatterpolar\":[{\"marker\":{\"colorbar\":{\"outlinewidth\":0,\"ticks\":\"\"}},\"type\":\"scatterpolar\"}],\"scatter\":[{\"marker\":{\"line\":{\"color\":\"#283442\"}},\"type\":\"scatter\"}],\"scatterternary\":[{\"marker\":{\"colorbar\":{\"outlinewidth\":0,\"ticks\":\"\"}},\"type\":\"scatterternary\"}],\"surface\":[{\"colorbar\":{\"outlinewidth\":0,\"ticks\":\"\"},\"colorscale\":[[0.0,\"#0d0887\"],[0.1111111111111111,\"#46039f\"],[0.2222222222222222,\"#7201a8\"],[0.3333333333333333,\"#9c179e\"],[0.4444444444444444,\"#bd3786\"],[0.5555555555555556,\"#d8576b\"],[0.6666666666666666,\"#ed7953\"],[0.7777777777777778,\"#fb9f3a\"],[0.8888888888888888,\"#fdca26\"],[1.0,\"#f0f921\"]],\"type\":\"surface\"}],\"table\":[{\"cells\":{\"fill\":{\"color\":\"#506784\"},\"line\":{\"color\":\"rgb(17,17,17)\"}},\"header\":{\"fill\":{\"color\":\"#2a3f5f\"},\"line\":{\"color\":\"rgb(17,17,17)\"}},\"type\":\"table\"}]},\"layout\":{\"annotationdefaults\":{\"arrowcolor\":\"#f2f5fa\",\"arrowhead\":0,\"arrowwidth\":1},\"autotypenumbers\":\"strict\",\"coloraxis\":{\"colorbar\":{\"outlinewidth\":0,\"ticks\":\"\"}},\"colorscale\":{\"diverging\":[[0,\"#8e0152\"],[0.1,\"#c51b7d\"],[0.2,\"#de77ae\"],[0.3,\"#f1b6da\"],[0.4,\"#fde0ef\"],[0.5,\"#f7f7f7\"],[0.6,\"#e6f5d0\"],[0.7,\"#b8e186\"],[0.8,\"#7fbc41\"],[0.9,\"#4d9221\"],[1,\"#276419\"]],\"sequential\":[[0.0,\"#0d0887\"],[0.1111111111111111,\"#46039f\"],[0.2222222222222222,\"#7201a8\"],[0.3333333333333333,\"#9c179e\"],[0.4444444444444444,\"#bd3786\"],[0.5555555555555556,\"#d8576b\"],[0.6666666666666666,\"#ed7953\"],[0.7777777777777778,\"#fb9f3a\"],[0.8888888888888888,\"#fdca26\"],[1.0,\"#f0f921\"]],\"sequentialminus\":[[0.0,\"#0d0887\"],[0.1111111111111111,\"#46039f\"],[0.2222222222222222,\"#7201a8\"],[0.3333333333333333,\"#9c179e\"],[0.4444444444444444,\"#bd3786\"],[0.5555555555555556,\"#d8576b\"],[0.6666666666666666,\"#ed7953\"],[0.7777777777777778,\"#fb9f3a\"],[0.8888888888888888,\"#fdca26\"],[1.0,\"#f0f921\"]]},\"colorway\":[\"#636efa\",\"#EF553B\",\"#00cc96\",\"#ab63fa\",\"#FFA15A\",\"#19d3f3\",\"#FF6692\",\"#B6E880\",\"#FF97FF\",\"#FECB52\"],\"font\":{\"color\":\"#f2f5fa\"},\"geo\":{\"bgcolor\":\"rgb(17,17,17)\",\"lakecolor\":\"rgb(17,17,17)\",\"landcolor\":\"rgb(17,17,17)\",\"showlakes\":true,\"showland\":true,\"subunitcolor\":\"#506784\"},\"hoverlabel\":{\"align\":\"left\"},\"hovermode\":\"closest\",\"mapbox\":{\"style\":\"dark\"},\"paper_bgcolor\":\"rgb(17,17,17)\",\"plot_bgcolor\":\"rgb(17,17,17)\",\"polar\":{\"angularaxis\":{\"gridcolor\":\"#506784\",\"linecolor\":\"#506784\",\"ticks\":\"\"},\"bgcolor\":\"rgb(17,17,17)\",\"radialaxis\":{\"gridcolor\":\"#506784\",\"linecolor\":\"#506784\",\"ticks\":\"\"}},\"scene\":{\"xaxis\":{\"backgroundcolor\":\"rgb(17,17,17)\",\"gridcolor\":\"#506784\",\"gridwidth\":2,\"linecolor\":\"#506784\",\"showbackground\":true,\"ticks\":\"\",\"zerolinecolor\":\"#C8D4E3\"},\"yaxis\":{\"backgroundcolor\":\"rgb(17,17,17)\",\"gridcolor\":\"#506784\",\"gridwidth\":2,\"linecolor\":\"#506784\",\"showbackground\":true,\"ticks\":\"\",\"zerolinecolor\":\"#C8D4E3\"},\"zaxis\":{\"backgroundcolor\":\"rgb(17,17,17)\",\"gridcolor\":\"#506784\",\"gridwidth\":2,\"linecolor\":\"#506784\",\"showbackground\":true,\"ticks\":\"\",\"zerolinecolor\":\"#C8D4E3\"}},\"shapedefaults\":{\"line\":{\"color\":\"#f2f5fa\"}},\"sliderdefaults\":{\"bgcolor\":\"#C8D4E3\",\"bordercolor\":\"rgb(17,17,17)\",\"borderwidth\":1,\"tickwidth\":0},\"ternary\":{\"aaxis\":{\"gridcolor\":\"#506784\",\"linecolor\":\"#506784\",\"ticks\":\"\"},\"baxis\":{\"gridcolor\":\"#506784\",\"linecolor\":\"#506784\",\"ticks\":\"\"},\"bgcolor\":\"rgb(17,17,17)\",\"caxis\":{\"gridcolor\":\"#506784\",\"linecolor\":\"#506784\",\"ticks\":\"\"}},\"title\":{\"x\":0.05},\"updatemenudefaults\":{\"bgcolor\":\"#506784\",\"borderwidth\":0},\"xaxis\":{\"automargin\":true,\"gridcolor\":\"#283442\",\"linecolor\":\"#506784\",\"ticks\":\"\",\"title\":{\"standoff\":15},\"zerolinecolor\":\"#283442\",\"zerolinewidth\":2},\"yaxis\":{\"automargin\":true,\"gridcolor\":\"#283442\",\"linecolor\":\"#506784\",\"ticks\":\"\",\"title\":{\"standoff\":15},\"zerolinecolor\":\"#283442\",\"zerolinewidth\":2}}}},                        {\"responsive\": true}                    ).then(function(){\n",
       "                            \n",
       "var gd = document.getElementById('ab6819d3-8671-4421-9661-957d6f6d09f4');\n",
       "var x = new MutationObserver(function (mutations, observer) {{\n",
       "        var display = window.getComputedStyle(gd).display;\n",
       "        if (!display || display === 'none') {{\n",
       "            console.log([gd, 'removed!']);\n",
       "            Plotly.purge(gd);\n",
       "            observer.disconnect();\n",
       "        }}\n",
       "}});\n",
       "\n",
       "// Listen for the removal of the full notebook cells\n",
       "var notebookContainer = gd.closest('#notebook-container');\n",
       "if (notebookContainer) {{\n",
       "    x.observe(notebookContainer, {childList: true});\n",
       "}}\n",
       "\n",
       "// Listen for the clearing of the current output cell\n",
       "var outputEl = gd.closest('.output');\n",
       "if (outputEl) {{\n",
       "    x.observe(outputEl, {childList: true});\n",
       "}}\n",
       "\n",
       "                        })                };                });            </script>        </div>"
      ]
     },
     "metadata": {},
     "output_type": "display_data"
    }
   ],
   "execution_count": 34
  },
  {
   "cell_type": "code",
   "metadata": {
    "id": "mGWSk0eL25LM",
    "outputId": "4337eb81-c84b-4d17-c186-2bcd5d1fadd2",
    "ExecuteTime": {
     "end_time": "2024-06-11T15:12:46.514197Z",
     "start_time": "2024-06-11T15:12:46.424301Z"
    }
   },
   "source": [
    "# https://plot.ly/python/box-plots/\n",
    "\n",
    "import plotly.graph_objs as go\n",
    "import numpy as np\n",
    "\n",
    "x_data = ['Carmelo Anthony', 'Dwyane Wade',\n",
    "          'Deron Williams', 'Brook Lopez',\n",
    "          'Damian Lillard', 'David West', ]\n",
    "\n",
    "y0 = np.random.randn(50) - 1\n",
    "y1 = np.random.randn(50) + 1\n",
    "y2 = np.random.randn(50)\n",
    "y3 = np.random.randn(50) + 2\n",
    "y4 = np.random.randn(50) - 2\n",
    "y5 = np.random.randn(50) + 3\n",
    "\n",
    "y_data = [y0, y1, y2, y3, y4, y5]\n",
    "\n",
    "colors = ['rgba(93, 164, 214, 0.5)', 'rgba(255, 144, 14, 0.5)', 'rgba(44, 160, 101, 0.5)', 'rgba(255, 65, 54, 0.5)',\n",
    "          'rgba(207, 114, 255, 0.5)', 'rgba(127, 96, 0, 0.5)']\n",
    "\n",
    "traces = []\n",
    "\n",
    "for xd, yd, cls in zip(x_data, y_data, colors):\n",
    "\ttraces.append(go.Box(\n",
    "\t\ty = yd,\n",
    "\t\tname = xd,\n",
    "\t\tboxpoints = 'all',\n",
    "\t\tjitter = 0.5,\n",
    "\t\twhiskerwidth = 0.2,\n",
    "\t\tfillcolor = cls,\n",
    "\t\tmarker = dict(\n",
    "\t\t\tsize = 2,\n",
    "\t\t),\n",
    "\t\tline = dict(width = 1),\n",
    "\t))\n",
    "\n",
    "layout = go.Layout(\n",
    "\ttitle = 'Points Scored by the Top 9 Scoring NBA Players in 2012',\n",
    "\tyaxis = dict(\n",
    "\t\tautorange = True,\n",
    "\t\tshowgrid = True,\n",
    "\t\tzeroline = True,\n",
    "\t\tdtick = 5,\n",
    "\t\tgridcolor = 'rgb(255, 255, 255)',\n",
    "\t\tgridwidth = 1,\n",
    "\t\tzerolinecolor = 'rgb(255, 255, 255)',\n",
    "\t\tzerolinewidth = 2,\n",
    "\t),\n",
    "\tmargin = dict(\n",
    "\t\tl = 40,\n",
    "\t\tr = 30,\n",
    "\t\tb = 80,\n",
    "\t\tt = 100,\n",
    "\t),\n",
    "\tpaper_bgcolor = 'rgb(243, 243, 243)',\n",
    "\tplot_bgcolor = 'rgb(243, 243, 243)',\n",
    "\tshowlegend = False\n",
    ")\n",
    "\n",
    "fig = go.Figure(data = traces, layout = layout)\n",
    "iplot(fig)"
   ],
   "outputs": [
    {
     "data": {
      "application/vnd.plotly.v1+json": {
       "data": [
        {
         "boxpoints": "all",
         "fillcolor": "rgba(93, 164, 214, 0.5)",
         "jitter": 0.5,
         "line": {
          "width": 1
         },
         "marker": {
          "size": 2
         },
         "name": "Carmelo Anthony",
         "whiskerwidth": 0.2,
         "y": [
          -1.0991455164600796,
          -3.163162391156052,
          -0.3405702407841943,
          -1.3964652107438476,
          -0.2625444472174452,
          0.34784468200208685,
          -1.1365386669230317,
          -1.4812245349949658,
          -2.0587123133298295,
          -1.5536361459831918,
          0.5657769556274908,
          -2.193118875275453,
          0.6279787100527188,
          0.36393518133276337,
          -2.7433390328930107,
          -1.7609696062750593,
          -2.167588893701489,
          -0.764964196947785,
          -0.43809447036807314,
          0.5472462671947038,
          -1.3464486604108792,
          -1.5398624644763848,
          -1.0393552405852327,
          -2.473838368330939,
          -1.2501369874948272,
          -1.6194625425356914,
          -1.2400287671183141,
          -0.521948868859893,
          -0.9232608657407235,
          0.06815939052821851,
          -0.8562778520184026,
          0.3648697366817093,
          -1.210584122838454,
          -0.9050804505680675,
          -1.3772250651547528,
          -0.06098799276123901,
          -0.6203426943151825,
          -2.1489008214968752,
          -0.9023541743616298,
          -2.047829589585962,
          -1.901201734195452,
          -1.6305724607123209,
          -1.2823647766560051,
          -1.1339655130185695,
          -1.390984881216102,
          -0.19458348096217737,
          0.7021225279424581,
          0.6163974705132595,
          1.1596017106530407,
          -1.2239715758848098
         ],
         "type": "box"
        },
        {
         "boxpoints": "all",
         "fillcolor": "rgba(255, 144, 14, 0.5)",
         "jitter": 0.5,
         "line": {
          "width": 1
         },
         "marker": {
          "size": 2
         },
         "name": "Dwyane Wade",
         "whiskerwidth": 0.2,
         "y": [
          -0.5221185786602829,
          -0.22276624802565692,
          1.1161617361005591,
          0.670699397720512,
          1.643953547225336,
          1.4054297823860775,
          0.0287831255972536,
          -0.651849493832344,
          -0.07881168539452132,
          0.20061039628678434,
          2.8744076625274806,
          0.7445247161789449,
          0.8557220545381367,
          -0.774661314449437,
          -0.6525608962265508,
          1.7733393475382573,
          -0.42627019482834516,
          2.379493939348131,
          1.6266678124838343,
          0.9812833979605272,
          1.0699645886343943,
          0.6136544642966593,
          1.2527022271534345,
          1.6433759913294228,
          -0.6876246393909646,
          2.2558117039709433,
          2.6941509858399315,
          0.8633359699272314,
          0.5811043097870994,
          -0.04984026243497719,
          -0.04390627780285539,
          1.3021092822038063,
          0.5172137217234716,
          1.4725357112571797,
          0.6496676422913918,
          1.0770139786403876,
          0.5384678944705799,
          1.3261738891861428,
          0.9301138607444001,
          1.403078581115038,
          0.9089071415649292,
          1.1453636530373932,
          0.3963086324936509,
          1.428743625224076,
          -0.013225610145144895,
          0.3046676798248177,
          2.2364718058458797,
          1.0888173184241579,
          1.0244265045531218,
          0.09366478612336426
         ],
         "type": "box"
        },
        {
         "boxpoints": "all",
         "fillcolor": "rgba(44, 160, 101, 0.5)",
         "jitter": 0.5,
         "line": {
          "width": 1
         },
         "marker": {
          "size": 2
         },
         "name": "Deron Williams",
         "whiskerwidth": 0.2,
         "y": [
          -0.39072607006765425,
          -0.7492557349355385,
          1.273104926014865,
          -0.35908362524334747,
          -0.992669954290696,
          -0.7683429064637178,
          0.11773002615634257,
          -0.16892208492046637,
          -0.20350786274503632,
          1.3304028753104624,
          0.5688914650510701,
          -0.41846851610070934,
          -0.9517682008480043,
          -0.10532218944451952,
          -0.7965666680591529,
          0.6395129237769395,
          0.7520914646060777,
          2.074534513517737,
          0.8681687947676984,
          -0.2978430465508321,
          -2.057037354482657,
          -0.18265671806096814,
          -0.2540223032116487,
          -0.06053337240746506,
          2.8829707723901663,
          0.7344030977691326,
          -0.4095612557578905,
          1.04209771841419,
          0.23794071973532008,
          1.0338960399477801,
          -0.8438204972723886,
          -0.15163378631071592,
          -0.26677493928949797,
          -0.9588158945702395,
          0.7549542475803146,
          0.8752681209951036,
          -0.8301720289805793,
          2.1699791424033354,
          0.723018930713584,
          1.7286450227029904,
          0.37108919729127177,
          -0.3948982885781766,
          -0.6518722941190226,
          -0.7109147746319228,
          -1.1058538207215822,
          -0.5595734059739393,
          -0.1348516358974464,
          0.1382821218247731,
          2.579697235871257,
          0.37702408410195126
         ],
         "type": "box"
        },
        {
         "boxpoints": "all",
         "fillcolor": "rgba(255, 65, 54, 0.5)",
         "jitter": 0.5,
         "line": {
          "width": 1
         },
         "marker": {
          "size": 2
         },
         "name": "Brook Lopez",
         "whiskerwidth": 0.2,
         "y": [
          3.1663199347100797,
          2.404171328647265,
          2.881167564397146,
          2.6559679210144354,
          2.395197057642962,
          1.9794221883203011,
          1.373832564744236,
          4.327260233522644,
          1.1847064580209719,
          2.136611246505783,
          3.1273397453874034,
          1.3600259890596815,
          1.6498246676878003,
          0.34614327937446143,
          1.1288509194993317,
          2.436490028201722,
          1.1078523400038067,
          2.049043431843891,
          3.0159085449030876,
          2.6997169393078377,
          2.476973198992206,
          0.7435060543299907,
          2.442394265502405,
          -0.04005501264222833,
          2.2745380333994936,
          0.9555359401413568,
          1.9882745920055598,
          1.48239608811669,
          3.128404616046711,
          2.0906002362315013,
          1.7171597223551307,
          2.449100154622808,
          1.0153781980091285,
          0.7549817239277863,
          3.448441187592689,
          1.4704941007026053,
          2.182346986763818,
          0.11866804945400866,
          2.00118665719313,
          2.6608480358367688,
          1.8827818971449706,
          4.08065406318298,
          2.807659323574256,
          1.6412113020733,
          1.5306310079951566,
          3.8816449322797455,
          1.9367734642317078,
          3.2539332439337456,
          1.3845346820550959,
          2.055569533004461
         ],
         "type": "box"
        },
        {
         "boxpoints": "all",
         "fillcolor": "rgba(207, 114, 255, 0.5)",
         "jitter": 0.5,
         "line": {
          "width": 1
         },
         "marker": {
          "size": 2
         },
         "name": "Damian Lillard",
         "whiskerwidth": 0.2,
         "y": [
          -0.09133707708876737,
          -2.4524102295834385,
          -1.838161686395135,
          -2.022175903950642,
          -0.5118150680678868,
          -2.226892815648996,
          -3.6873006234199766,
          -2.1467903642209776,
          -1.2123444007329593,
          -0.995297691960217,
          -2.371782816727853,
          -2.597470969096418,
          -5.105281809885448,
          -3.0329867089638474,
          -1.60589006691248,
          -1.9316248594455605,
          -2.6942915039309523,
          -1.1504598602509215,
          -3.314184379776111,
          -1.8121658233916784,
          -2.8114174284507447,
          -2.7571057243066153,
          0.5524553429751156,
          -1.719936566034049,
          -4.1317278928774215,
          -3.195299140375199,
          -3.095454685603039,
          -2.586962798103131,
          -2.268399968394371,
          -2.07662045704657,
          -1.310628873244979,
          -1.2904103401965883,
          -1.9016758107107168,
          -1.2752794536793728,
          -2.93669415966494,
          -2.3186666196744765,
          -2.1128969057640417,
          -2.72783898737912,
          -1.6633334479887916,
          -2.6076601542426867,
          -3.208787259401406,
          -1.1563634964587148,
          -2.2342578227595644,
          -4.028111216204065,
          -1.7023936818327041,
          -1.1858765436712928,
          -1.8438278863862652,
          -1.2360004368266222,
          -1.9365512272966106,
          -1.8116951035024185
         ],
         "type": "box"
        },
        {
         "boxpoints": "all",
         "fillcolor": "rgba(127, 96, 0, 0.5)",
         "jitter": 0.5,
         "line": {
          "width": 1
         },
         "marker": {
          "size": 2
         },
         "name": "David West",
         "whiskerwidth": 0.2,
         "y": [
          3.0153236210891654,
          3.8916731684142167,
          2.9846200946895722,
          3.0667602292111096,
          2.161832753219069,
          1.9652998132241277,
          4.758755682914245,
          3.167034337184363,
          3.5774878175596996,
          3.7505127475851094,
          3.842870126149545,
          2.5531818605686016,
          3.817310720849627,
          4.494641594495046,
          2.2770930045265154,
          2.3967142975494315,
          3.366385843623229,
          2.276992788317589,
          2.2498523857149904,
          2.9968946384423405,
          0.6582040302691974,
          2.921264881002182,
          2.067980227465968,
          2.748055504037981,
          2.12089254270837,
          2.820905901388555,
          3.3721139160208526,
          4.1161772043851865,
          3.1421123971586162,
          1.9765326127305194,
          2.6083167119671646,
          2.6765709062557153,
          4.181006759881491,
          4.051074943269355,
          1.1043785867395919,
          2.758355645712227,
          2.072515674016393,
          2.690204150311627,
          3.2892618904788833,
          3.358043839230648,
          2.203303002144973,
          1.9021480729343803,
          2.6203411731090904,
          2.5391777063007432,
          3.7761214431631793,
          1.5386326000085246,
          4.1620079616919075,
          2.5680370461304523,
          1.9043410907714342,
          0.9191377127346874
         ],
         "type": "box"
        }
       ],
       "layout": {
        "margin": {
         "b": 80,
         "l": 40,
         "r": 30,
         "t": 100
        },
        "paper_bgcolor": "rgb(243, 243, 243)",
        "plot_bgcolor": "rgb(243, 243, 243)",
        "showlegend": false,
        "template": {
         "data": {
          "barpolar": [
           {
            "marker": {
             "line": {
              "color": "rgb(17,17,17)",
              "width": 0.5
             },
             "pattern": {
              "fillmode": "overlay",
              "size": 10,
              "solidity": 0.2
             }
            },
            "type": "barpolar"
           }
          ],
          "bar": [
           {
            "error_x": {
             "color": "#f2f5fa"
            },
            "error_y": {
             "color": "#f2f5fa"
            },
            "marker": {
             "line": {
              "color": "rgb(17,17,17)",
              "width": 0.5
             },
             "pattern": {
              "fillmode": "overlay",
              "size": 10,
              "solidity": 0.2
             }
            },
            "type": "bar"
           }
          ],
          "carpet": [
           {
            "aaxis": {
             "endlinecolor": "#A2B1C6",
             "gridcolor": "#506784",
             "linecolor": "#506784",
             "minorgridcolor": "#506784",
             "startlinecolor": "#A2B1C6"
            },
            "baxis": {
             "endlinecolor": "#A2B1C6",
             "gridcolor": "#506784",
             "linecolor": "#506784",
             "minorgridcolor": "#506784",
             "startlinecolor": "#A2B1C6"
            },
            "type": "carpet"
           }
          ],
          "choropleth": [
           {
            "colorbar": {
             "outlinewidth": 0,
             "ticks": ""
            },
            "type": "choropleth"
           }
          ],
          "contourcarpet": [
           {
            "colorbar": {
             "outlinewidth": 0,
             "ticks": ""
            },
            "type": "contourcarpet"
           }
          ],
          "contour": [
           {
            "colorbar": {
             "outlinewidth": 0,
             "ticks": ""
            },
            "colorscale": [
             [
              0.0,
              "#0d0887"
             ],
             [
              0.1111111111111111,
              "#46039f"
             ],
             [
              0.2222222222222222,
              "#7201a8"
             ],
             [
              0.3333333333333333,
              "#9c179e"
             ],
             [
              0.4444444444444444,
              "#bd3786"
             ],
             [
              0.5555555555555556,
              "#d8576b"
             ],
             [
              0.6666666666666666,
              "#ed7953"
             ],
             [
              0.7777777777777778,
              "#fb9f3a"
             ],
             [
              0.8888888888888888,
              "#fdca26"
             ],
             [
              1.0,
              "#f0f921"
             ]
            ],
            "type": "contour"
           }
          ],
          "heatmapgl": [
           {
            "colorbar": {
             "outlinewidth": 0,
             "ticks": ""
            },
            "colorscale": [
             [
              0.0,
              "#0d0887"
             ],
             [
              0.1111111111111111,
              "#46039f"
             ],
             [
              0.2222222222222222,
              "#7201a8"
             ],
             [
              0.3333333333333333,
              "#9c179e"
             ],
             [
              0.4444444444444444,
              "#bd3786"
             ],
             [
              0.5555555555555556,
              "#d8576b"
             ],
             [
              0.6666666666666666,
              "#ed7953"
             ],
             [
              0.7777777777777778,
              "#fb9f3a"
             ],
             [
              0.8888888888888888,
              "#fdca26"
             ],
             [
              1.0,
              "#f0f921"
             ]
            ],
            "type": "heatmapgl"
           }
          ],
          "heatmap": [
           {
            "colorbar": {
             "outlinewidth": 0,
             "ticks": ""
            },
            "colorscale": [
             [
              0.0,
              "#0d0887"
             ],
             [
              0.1111111111111111,
              "#46039f"
             ],
             [
              0.2222222222222222,
              "#7201a8"
             ],
             [
              0.3333333333333333,
              "#9c179e"
             ],
             [
              0.4444444444444444,
              "#bd3786"
             ],
             [
              0.5555555555555556,
              "#d8576b"
             ],
             [
              0.6666666666666666,
              "#ed7953"
             ],
             [
              0.7777777777777778,
              "#fb9f3a"
             ],
             [
              0.8888888888888888,
              "#fdca26"
             ],
             [
              1.0,
              "#f0f921"
             ]
            ],
            "type": "heatmap"
           }
          ],
          "histogram2dcontour": [
           {
            "colorbar": {
             "outlinewidth": 0,
             "ticks": ""
            },
            "colorscale": [
             [
              0.0,
              "#0d0887"
             ],
             [
              0.1111111111111111,
              "#46039f"
             ],
             [
              0.2222222222222222,
              "#7201a8"
             ],
             [
              0.3333333333333333,
              "#9c179e"
             ],
             [
              0.4444444444444444,
              "#bd3786"
             ],
             [
              0.5555555555555556,
              "#d8576b"
             ],
             [
              0.6666666666666666,
              "#ed7953"
             ],
             [
              0.7777777777777778,
              "#fb9f3a"
             ],
             [
              0.8888888888888888,
              "#fdca26"
             ],
             [
              1.0,
              "#f0f921"
             ]
            ],
            "type": "histogram2dcontour"
           }
          ],
          "histogram2d": [
           {
            "colorbar": {
             "outlinewidth": 0,
             "ticks": ""
            },
            "colorscale": [
             [
              0.0,
              "#0d0887"
             ],
             [
              0.1111111111111111,
              "#46039f"
             ],
             [
              0.2222222222222222,
              "#7201a8"
             ],
             [
              0.3333333333333333,
              "#9c179e"
             ],
             [
              0.4444444444444444,
              "#bd3786"
             ],
             [
              0.5555555555555556,
              "#d8576b"
             ],
             [
              0.6666666666666666,
              "#ed7953"
             ],
             [
              0.7777777777777778,
              "#fb9f3a"
             ],
             [
              0.8888888888888888,
              "#fdca26"
             ],
             [
              1.0,
              "#f0f921"
             ]
            ],
            "type": "histogram2d"
           }
          ],
          "histogram": [
           {
            "marker": {
             "pattern": {
              "fillmode": "overlay",
              "size": 10,
              "solidity": 0.2
             }
            },
            "type": "histogram"
           }
          ],
          "mesh3d": [
           {
            "colorbar": {
             "outlinewidth": 0,
             "ticks": ""
            },
            "type": "mesh3d"
           }
          ],
          "parcoords": [
           {
            "line": {
             "colorbar": {
              "outlinewidth": 0,
              "ticks": ""
             }
            },
            "type": "parcoords"
           }
          ],
          "pie": [
           {
            "automargin": true,
            "type": "pie"
           }
          ],
          "scatter3d": [
           {
            "line": {
             "colorbar": {
              "outlinewidth": 0,
              "ticks": ""
             }
            },
            "marker": {
             "colorbar": {
              "outlinewidth": 0,
              "ticks": ""
             }
            },
            "type": "scatter3d"
           }
          ],
          "scattercarpet": [
           {
            "marker": {
             "colorbar": {
              "outlinewidth": 0,
              "ticks": ""
             }
            },
            "type": "scattercarpet"
           }
          ],
          "scattergeo": [
           {
            "marker": {
             "colorbar": {
              "outlinewidth": 0,
              "ticks": ""
             }
            },
            "type": "scattergeo"
           }
          ],
          "scattergl": [
           {
            "marker": {
             "line": {
              "color": "#283442"
             }
            },
            "type": "scattergl"
           }
          ],
          "scattermapbox": [
           {
            "marker": {
             "colorbar": {
              "outlinewidth": 0,
              "ticks": ""
             }
            },
            "type": "scattermapbox"
           }
          ],
          "scatterpolargl": [
           {
            "marker": {
             "colorbar": {
              "outlinewidth": 0,
              "ticks": ""
             }
            },
            "type": "scatterpolargl"
           }
          ],
          "scatterpolar": [
           {
            "marker": {
             "colorbar": {
              "outlinewidth": 0,
              "ticks": ""
             }
            },
            "type": "scatterpolar"
           }
          ],
          "scatter": [
           {
            "marker": {
             "line": {
              "color": "#283442"
             }
            },
            "type": "scatter"
           }
          ],
          "scatterternary": [
           {
            "marker": {
             "colorbar": {
              "outlinewidth": 0,
              "ticks": ""
             }
            },
            "type": "scatterternary"
           }
          ],
          "surface": [
           {
            "colorbar": {
             "outlinewidth": 0,
             "ticks": ""
            },
            "colorscale": [
             [
              0.0,
              "#0d0887"
             ],
             [
              0.1111111111111111,
              "#46039f"
             ],
             [
              0.2222222222222222,
              "#7201a8"
             ],
             [
              0.3333333333333333,
              "#9c179e"
             ],
             [
              0.4444444444444444,
              "#bd3786"
             ],
             [
              0.5555555555555556,
              "#d8576b"
             ],
             [
              0.6666666666666666,
              "#ed7953"
             ],
             [
              0.7777777777777778,
              "#fb9f3a"
             ],
             [
              0.8888888888888888,
              "#fdca26"
             ],
             [
              1.0,
              "#f0f921"
             ]
            ],
            "type": "surface"
           }
          ],
          "table": [
           {
            "cells": {
             "fill": {
              "color": "#506784"
             },
             "line": {
              "color": "rgb(17,17,17)"
             }
            },
            "header": {
             "fill": {
              "color": "#2a3f5f"
             },
             "line": {
              "color": "rgb(17,17,17)"
             }
            },
            "type": "table"
           }
          ]
         },
         "layout": {
          "annotationdefaults": {
           "arrowcolor": "#f2f5fa",
           "arrowhead": 0,
           "arrowwidth": 1
          },
          "autotypenumbers": "strict",
          "coloraxis": {
           "colorbar": {
            "outlinewidth": 0,
            "ticks": ""
           }
          },
          "colorscale": {
           "diverging": [
            [
             0,
             "#8e0152"
            ],
            [
             0.1,
             "#c51b7d"
            ],
            [
             0.2,
             "#de77ae"
            ],
            [
             0.3,
             "#f1b6da"
            ],
            [
             0.4,
             "#fde0ef"
            ],
            [
             0.5,
             "#f7f7f7"
            ],
            [
             0.6,
             "#e6f5d0"
            ],
            [
             0.7,
             "#b8e186"
            ],
            [
             0.8,
             "#7fbc41"
            ],
            [
             0.9,
             "#4d9221"
            ],
            [
             1,
             "#276419"
            ]
           ],
           "sequential": [
            [
             0.0,
             "#0d0887"
            ],
            [
             0.1111111111111111,
             "#46039f"
            ],
            [
             0.2222222222222222,
             "#7201a8"
            ],
            [
             0.3333333333333333,
             "#9c179e"
            ],
            [
             0.4444444444444444,
             "#bd3786"
            ],
            [
             0.5555555555555556,
             "#d8576b"
            ],
            [
             0.6666666666666666,
             "#ed7953"
            ],
            [
             0.7777777777777778,
             "#fb9f3a"
            ],
            [
             0.8888888888888888,
             "#fdca26"
            ],
            [
             1.0,
             "#f0f921"
            ]
           ],
           "sequentialminus": [
            [
             0.0,
             "#0d0887"
            ],
            [
             0.1111111111111111,
             "#46039f"
            ],
            [
             0.2222222222222222,
             "#7201a8"
            ],
            [
             0.3333333333333333,
             "#9c179e"
            ],
            [
             0.4444444444444444,
             "#bd3786"
            ],
            [
             0.5555555555555556,
             "#d8576b"
            ],
            [
             0.6666666666666666,
             "#ed7953"
            ],
            [
             0.7777777777777778,
             "#fb9f3a"
            ],
            [
             0.8888888888888888,
             "#fdca26"
            ],
            [
             1.0,
             "#f0f921"
            ]
           ]
          },
          "colorway": [
           "#636efa",
           "#EF553B",
           "#00cc96",
           "#ab63fa",
           "#FFA15A",
           "#19d3f3",
           "#FF6692",
           "#B6E880",
           "#FF97FF",
           "#FECB52"
          ],
          "font": {
           "color": "#f2f5fa"
          },
          "geo": {
           "bgcolor": "rgb(17,17,17)",
           "lakecolor": "rgb(17,17,17)",
           "landcolor": "rgb(17,17,17)",
           "showlakes": true,
           "showland": true,
           "subunitcolor": "#506784"
          },
          "hoverlabel": {
           "align": "left"
          },
          "hovermode": "closest",
          "mapbox": {
           "style": "dark"
          },
          "paper_bgcolor": "rgb(17,17,17)",
          "plot_bgcolor": "rgb(17,17,17)",
          "polar": {
           "angularaxis": {
            "gridcolor": "#506784",
            "linecolor": "#506784",
            "ticks": ""
           },
           "bgcolor": "rgb(17,17,17)",
           "radialaxis": {
            "gridcolor": "#506784",
            "linecolor": "#506784",
            "ticks": ""
           }
          },
          "scene": {
           "xaxis": {
            "backgroundcolor": "rgb(17,17,17)",
            "gridcolor": "#506784",
            "gridwidth": 2,
            "linecolor": "#506784",
            "showbackground": true,
            "ticks": "",
            "zerolinecolor": "#C8D4E3"
           },
           "yaxis": {
            "backgroundcolor": "rgb(17,17,17)",
            "gridcolor": "#506784",
            "gridwidth": 2,
            "linecolor": "#506784",
            "showbackground": true,
            "ticks": "",
            "zerolinecolor": "#C8D4E3"
           },
           "zaxis": {
            "backgroundcolor": "rgb(17,17,17)",
            "gridcolor": "#506784",
            "gridwidth": 2,
            "linecolor": "#506784",
            "showbackground": true,
            "ticks": "",
            "zerolinecolor": "#C8D4E3"
           }
          },
          "shapedefaults": {
           "line": {
            "color": "#f2f5fa"
           }
          },
          "sliderdefaults": {
           "bgcolor": "#C8D4E3",
           "bordercolor": "rgb(17,17,17)",
           "borderwidth": 1,
           "tickwidth": 0
          },
          "ternary": {
           "aaxis": {
            "gridcolor": "#506784",
            "linecolor": "#506784",
            "ticks": ""
           },
           "baxis": {
            "gridcolor": "#506784",
            "linecolor": "#506784",
            "ticks": ""
           },
           "bgcolor": "rgb(17,17,17)",
           "caxis": {
            "gridcolor": "#506784",
            "linecolor": "#506784",
            "ticks": ""
           }
          },
          "title": {
           "x": 0.05
          },
          "updatemenudefaults": {
           "bgcolor": "#506784",
           "borderwidth": 0
          },
          "xaxis": {
           "automargin": true,
           "gridcolor": "#283442",
           "linecolor": "#506784",
           "ticks": "",
           "title": {
            "standoff": 15
           },
           "zerolinecolor": "#283442",
           "zerolinewidth": 2
          },
          "yaxis": {
           "automargin": true,
           "gridcolor": "#283442",
           "linecolor": "#506784",
           "ticks": "",
           "title": {
            "standoff": 15
           },
           "zerolinecolor": "#283442",
           "zerolinewidth": 2
          }
         }
        },
        "title": {
         "text": "Points Scored by the Top 9 Scoring NBA Players in 2012"
        },
        "yaxis": {
         "autorange": true,
         "dtick": 5,
         "gridcolor": "rgb(255, 255, 255)",
         "gridwidth": 1,
         "showgrid": true,
         "zeroline": true,
         "zerolinecolor": "rgb(255, 255, 255)",
         "zerolinewidth": 2
        }
       },
       "config": {
        "showLink": false,
        "linkText": "Export to plotly.com",
        "plotlyServerURL": "https://plotly.com"
       }
      },
      "text/html": [
       "<div>                            <div id=\"793fd073-c832-430c-8993-f6dac94ca441\" class=\"plotly-graph-div\" style=\"height:525px; width:100%;\"></div>            <script type=\"text/javascript\">                require([\"plotly\"], function(Plotly) {                    window.PLOTLYENV=window.PLOTLYENV || {};                                    if (document.getElementById(\"793fd073-c832-430c-8993-f6dac94ca441\")) {                    Plotly.newPlot(                        \"793fd073-c832-430c-8993-f6dac94ca441\",                        [{\"boxpoints\":\"all\",\"fillcolor\":\"rgba(93, 164, 214, 0.5)\",\"jitter\":0.5,\"line\":{\"width\":1},\"marker\":{\"size\":2},\"name\":\"Carmelo Anthony\",\"whiskerwidth\":0.2,\"y\":[-1.0991455164600796,-3.163162391156052,-0.3405702407841943,-1.3964652107438476,-0.2625444472174452,0.34784468200208685,-1.1365386669230317,-1.4812245349949658,-2.0587123133298295,-1.5536361459831918,0.5657769556274908,-2.193118875275453,0.6279787100527188,0.36393518133276337,-2.7433390328930107,-1.7609696062750593,-2.167588893701489,-0.764964196947785,-0.43809447036807314,0.5472462671947038,-1.3464486604108792,-1.5398624644763848,-1.0393552405852327,-2.473838368330939,-1.2501369874948272,-1.6194625425356914,-1.2400287671183141,-0.521948868859893,-0.9232608657407235,0.06815939052821851,-0.8562778520184026,0.3648697366817093,-1.210584122838454,-0.9050804505680675,-1.3772250651547528,-0.06098799276123901,-0.6203426943151825,-2.1489008214968752,-0.9023541743616298,-2.047829589585962,-1.901201734195452,-1.6305724607123209,-1.2823647766560051,-1.1339655130185695,-1.390984881216102,-0.19458348096217737,0.7021225279424581,0.6163974705132595,1.1596017106530407,-1.2239715758848098],\"type\":\"box\"},{\"boxpoints\":\"all\",\"fillcolor\":\"rgba(255, 144, 14, 0.5)\",\"jitter\":0.5,\"line\":{\"width\":1},\"marker\":{\"size\":2},\"name\":\"Dwyane Wade\",\"whiskerwidth\":0.2,\"y\":[-0.5221185786602829,-0.22276624802565692,1.1161617361005591,0.670699397720512,1.643953547225336,1.4054297823860775,0.0287831255972536,-0.651849493832344,-0.07881168539452132,0.20061039628678434,2.8744076625274806,0.7445247161789449,0.8557220545381367,-0.774661314449437,-0.6525608962265508,1.7733393475382573,-0.42627019482834516,2.379493939348131,1.6266678124838343,0.9812833979605272,1.0699645886343943,0.6136544642966593,1.2527022271534345,1.6433759913294228,-0.6876246393909646,2.2558117039709433,2.6941509858399315,0.8633359699272314,0.5811043097870994,-0.04984026243497719,-0.04390627780285539,1.3021092822038063,0.5172137217234716,1.4725357112571797,0.6496676422913918,1.0770139786403876,0.5384678944705799,1.3261738891861428,0.9301138607444001,1.403078581115038,0.9089071415649292,1.1453636530373932,0.3963086324936509,1.428743625224076,-0.013225610145144895,0.3046676798248177,2.2364718058458797,1.0888173184241579,1.0244265045531218,0.09366478612336426],\"type\":\"box\"},{\"boxpoints\":\"all\",\"fillcolor\":\"rgba(44, 160, 101, 0.5)\",\"jitter\":0.5,\"line\":{\"width\":1},\"marker\":{\"size\":2},\"name\":\"Deron Williams\",\"whiskerwidth\":0.2,\"y\":[-0.39072607006765425,-0.7492557349355385,1.273104926014865,-0.35908362524334747,-0.992669954290696,-0.7683429064637178,0.11773002615634257,-0.16892208492046637,-0.20350786274503632,1.3304028753104624,0.5688914650510701,-0.41846851610070934,-0.9517682008480043,-0.10532218944451952,-0.7965666680591529,0.6395129237769395,0.7520914646060777,2.074534513517737,0.8681687947676984,-0.2978430465508321,-2.057037354482657,-0.18265671806096814,-0.2540223032116487,-0.06053337240746506,2.8829707723901663,0.7344030977691326,-0.4095612557578905,1.04209771841419,0.23794071973532008,1.0338960399477801,-0.8438204972723886,-0.15163378631071592,-0.26677493928949797,-0.9588158945702395,0.7549542475803146,0.8752681209951036,-0.8301720289805793,2.1699791424033354,0.723018930713584,1.7286450227029904,0.37108919729127177,-0.3948982885781766,-0.6518722941190226,-0.7109147746319228,-1.1058538207215822,-0.5595734059739393,-0.1348516358974464,0.1382821218247731,2.579697235871257,0.37702408410195126],\"type\":\"box\"},{\"boxpoints\":\"all\",\"fillcolor\":\"rgba(255, 65, 54, 0.5)\",\"jitter\":0.5,\"line\":{\"width\":1},\"marker\":{\"size\":2},\"name\":\"Brook Lopez\",\"whiskerwidth\":0.2,\"y\":[3.1663199347100797,2.404171328647265,2.881167564397146,2.6559679210144354,2.395197057642962,1.9794221883203011,1.373832564744236,4.327260233522644,1.1847064580209719,2.136611246505783,3.1273397453874034,1.3600259890596815,1.6498246676878003,0.34614327937446143,1.1288509194993317,2.436490028201722,1.1078523400038067,2.049043431843891,3.0159085449030876,2.6997169393078377,2.476973198992206,0.7435060543299907,2.442394265502405,-0.04005501264222833,2.2745380333994936,0.9555359401413568,1.9882745920055598,1.48239608811669,3.128404616046711,2.0906002362315013,1.7171597223551307,2.449100154622808,1.0153781980091285,0.7549817239277863,3.448441187592689,1.4704941007026053,2.182346986763818,0.11866804945400866,2.00118665719313,2.6608480358367688,1.8827818971449706,4.08065406318298,2.807659323574256,1.6412113020733,1.5306310079951566,3.8816449322797455,1.9367734642317078,3.2539332439337456,1.3845346820550959,2.055569533004461],\"type\":\"box\"},{\"boxpoints\":\"all\",\"fillcolor\":\"rgba(207, 114, 255, 0.5)\",\"jitter\":0.5,\"line\":{\"width\":1},\"marker\":{\"size\":2},\"name\":\"Damian Lillard\",\"whiskerwidth\":0.2,\"y\":[-0.09133707708876737,-2.4524102295834385,-1.838161686395135,-2.022175903950642,-0.5118150680678868,-2.226892815648996,-3.6873006234199766,-2.1467903642209776,-1.2123444007329593,-0.995297691960217,-2.371782816727853,-2.597470969096418,-5.105281809885448,-3.0329867089638474,-1.60589006691248,-1.9316248594455605,-2.6942915039309523,-1.1504598602509215,-3.314184379776111,-1.8121658233916784,-2.8114174284507447,-2.7571057243066153,0.5524553429751156,-1.719936566034049,-4.1317278928774215,-3.195299140375199,-3.095454685603039,-2.586962798103131,-2.268399968394371,-2.07662045704657,-1.310628873244979,-1.2904103401965883,-1.9016758107107168,-1.2752794536793728,-2.93669415966494,-2.3186666196744765,-2.1128969057640417,-2.72783898737912,-1.6633334479887916,-2.6076601542426867,-3.208787259401406,-1.1563634964587148,-2.2342578227595644,-4.028111216204065,-1.7023936818327041,-1.1858765436712928,-1.8438278863862652,-1.2360004368266222,-1.9365512272966106,-1.8116951035024185],\"type\":\"box\"},{\"boxpoints\":\"all\",\"fillcolor\":\"rgba(127, 96, 0, 0.5)\",\"jitter\":0.5,\"line\":{\"width\":1},\"marker\":{\"size\":2},\"name\":\"David West\",\"whiskerwidth\":0.2,\"y\":[3.0153236210891654,3.8916731684142167,2.9846200946895722,3.0667602292111096,2.161832753219069,1.9652998132241277,4.758755682914245,3.167034337184363,3.5774878175596996,3.7505127475851094,3.842870126149545,2.5531818605686016,3.817310720849627,4.494641594495046,2.2770930045265154,2.3967142975494315,3.366385843623229,2.276992788317589,2.2498523857149904,2.9968946384423405,0.6582040302691974,2.921264881002182,2.067980227465968,2.748055504037981,2.12089254270837,2.820905901388555,3.3721139160208526,4.1161772043851865,3.1421123971586162,1.9765326127305194,2.6083167119671646,2.6765709062557153,4.181006759881491,4.051074943269355,1.1043785867395919,2.758355645712227,2.072515674016393,2.690204150311627,3.2892618904788833,3.358043839230648,2.203303002144973,1.9021480729343803,2.6203411731090904,2.5391777063007432,3.7761214431631793,1.5386326000085246,4.1620079616919075,2.5680370461304523,1.9043410907714342,0.9191377127346874],\"type\":\"box\"}],                        {\"margin\":{\"b\":80,\"l\":40,\"r\":30,\"t\":100},\"paper_bgcolor\":\"rgb(243, 243, 243)\",\"plot_bgcolor\":\"rgb(243, 243, 243)\",\"showlegend\":false,\"template\":{\"data\":{\"barpolar\":[{\"marker\":{\"line\":{\"color\":\"rgb(17,17,17)\",\"width\":0.5},\"pattern\":{\"fillmode\":\"overlay\",\"size\":10,\"solidity\":0.2}},\"type\":\"barpolar\"}],\"bar\":[{\"error_x\":{\"color\":\"#f2f5fa\"},\"error_y\":{\"color\":\"#f2f5fa\"},\"marker\":{\"line\":{\"color\":\"rgb(17,17,17)\",\"width\":0.5},\"pattern\":{\"fillmode\":\"overlay\",\"size\":10,\"solidity\":0.2}},\"type\":\"bar\"}],\"carpet\":[{\"aaxis\":{\"endlinecolor\":\"#A2B1C6\",\"gridcolor\":\"#506784\",\"linecolor\":\"#506784\",\"minorgridcolor\":\"#506784\",\"startlinecolor\":\"#A2B1C6\"},\"baxis\":{\"endlinecolor\":\"#A2B1C6\",\"gridcolor\":\"#506784\",\"linecolor\":\"#506784\",\"minorgridcolor\":\"#506784\",\"startlinecolor\":\"#A2B1C6\"},\"type\":\"carpet\"}],\"choropleth\":[{\"colorbar\":{\"outlinewidth\":0,\"ticks\":\"\"},\"type\":\"choropleth\"}],\"contourcarpet\":[{\"colorbar\":{\"outlinewidth\":0,\"ticks\":\"\"},\"type\":\"contourcarpet\"}],\"contour\":[{\"colorbar\":{\"outlinewidth\":0,\"ticks\":\"\"},\"colorscale\":[[0.0,\"#0d0887\"],[0.1111111111111111,\"#46039f\"],[0.2222222222222222,\"#7201a8\"],[0.3333333333333333,\"#9c179e\"],[0.4444444444444444,\"#bd3786\"],[0.5555555555555556,\"#d8576b\"],[0.6666666666666666,\"#ed7953\"],[0.7777777777777778,\"#fb9f3a\"],[0.8888888888888888,\"#fdca26\"],[1.0,\"#f0f921\"]],\"type\":\"contour\"}],\"heatmapgl\":[{\"colorbar\":{\"outlinewidth\":0,\"ticks\":\"\"},\"colorscale\":[[0.0,\"#0d0887\"],[0.1111111111111111,\"#46039f\"],[0.2222222222222222,\"#7201a8\"],[0.3333333333333333,\"#9c179e\"],[0.4444444444444444,\"#bd3786\"],[0.5555555555555556,\"#d8576b\"],[0.6666666666666666,\"#ed7953\"],[0.7777777777777778,\"#fb9f3a\"],[0.8888888888888888,\"#fdca26\"],[1.0,\"#f0f921\"]],\"type\":\"heatmapgl\"}],\"heatmap\":[{\"colorbar\":{\"outlinewidth\":0,\"ticks\":\"\"},\"colorscale\":[[0.0,\"#0d0887\"],[0.1111111111111111,\"#46039f\"],[0.2222222222222222,\"#7201a8\"],[0.3333333333333333,\"#9c179e\"],[0.4444444444444444,\"#bd3786\"],[0.5555555555555556,\"#d8576b\"],[0.6666666666666666,\"#ed7953\"],[0.7777777777777778,\"#fb9f3a\"],[0.8888888888888888,\"#fdca26\"],[1.0,\"#f0f921\"]],\"type\":\"heatmap\"}],\"histogram2dcontour\":[{\"colorbar\":{\"outlinewidth\":0,\"ticks\":\"\"},\"colorscale\":[[0.0,\"#0d0887\"],[0.1111111111111111,\"#46039f\"],[0.2222222222222222,\"#7201a8\"],[0.3333333333333333,\"#9c179e\"],[0.4444444444444444,\"#bd3786\"],[0.5555555555555556,\"#d8576b\"],[0.6666666666666666,\"#ed7953\"],[0.7777777777777778,\"#fb9f3a\"],[0.8888888888888888,\"#fdca26\"],[1.0,\"#f0f921\"]],\"type\":\"histogram2dcontour\"}],\"histogram2d\":[{\"colorbar\":{\"outlinewidth\":0,\"ticks\":\"\"},\"colorscale\":[[0.0,\"#0d0887\"],[0.1111111111111111,\"#46039f\"],[0.2222222222222222,\"#7201a8\"],[0.3333333333333333,\"#9c179e\"],[0.4444444444444444,\"#bd3786\"],[0.5555555555555556,\"#d8576b\"],[0.6666666666666666,\"#ed7953\"],[0.7777777777777778,\"#fb9f3a\"],[0.8888888888888888,\"#fdca26\"],[1.0,\"#f0f921\"]],\"type\":\"histogram2d\"}],\"histogram\":[{\"marker\":{\"pattern\":{\"fillmode\":\"overlay\",\"size\":10,\"solidity\":0.2}},\"type\":\"histogram\"}],\"mesh3d\":[{\"colorbar\":{\"outlinewidth\":0,\"ticks\":\"\"},\"type\":\"mesh3d\"}],\"parcoords\":[{\"line\":{\"colorbar\":{\"outlinewidth\":0,\"ticks\":\"\"}},\"type\":\"parcoords\"}],\"pie\":[{\"automargin\":true,\"type\":\"pie\"}],\"scatter3d\":[{\"line\":{\"colorbar\":{\"outlinewidth\":0,\"ticks\":\"\"}},\"marker\":{\"colorbar\":{\"outlinewidth\":0,\"ticks\":\"\"}},\"type\":\"scatter3d\"}],\"scattercarpet\":[{\"marker\":{\"colorbar\":{\"outlinewidth\":0,\"ticks\":\"\"}},\"type\":\"scattercarpet\"}],\"scattergeo\":[{\"marker\":{\"colorbar\":{\"outlinewidth\":0,\"ticks\":\"\"}},\"type\":\"scattergeo\"}],\"scattergl\":[{\"marker\":{\"line\":{\"color\":\"#283442\"}},\"type\":\"scattergl\"}],\"scattermapbox\":[{\"marker\":{\"colorbar\":{\"outlinewidth\":0,\"ticks\":\"\"}},\"type\":\"scattermapbox\"}],\"scatterpolargl\":[{\"marker\":{\"colorbar\":{\"outlinewidth\":0,\"ticks\":\"\"}},\"type\":\"scatterpolargl\"}],\"scatterpolar\":[{\"marker\":{\"colorbar\":{\"outlinewidth\":0,\"ticks\":\"\"}},\"type\":\"scatterpolar\"}],\"scatter\":[{\"marker\":{\"line\":{\"color\":\"#283442\"}},\"type\":\"scatter\"}],\"scatterternary\":[{\"marker\":{\"colorbar\":{\"outlinewidth\":0,\"ticks\":\"\"}},\"type\":\"scatterternary\"}],\"surface\":[{\"colorbar\":{\"outlinewidth\":0,\"ticks\":\"\"},\"colorscale\":[[0.0,\"#0d0887\"],[0.1111111111111111,\"#46039f\"],[0.2222222222222222,\"#7201a8\"],[0.3333333333333333,\"#9c179e\"],[0.4444444444444444,\"#bd3786\"],[0.5555555555555556,\"#d8576b\"],[0.6666666666666666,\"#ed7953\"],[0.7777777777777778,\"#fb9f3a\"],[0.8888888888888888,\"#fdca26\"],[1.0,\"#f0f921\"]],\"type\":\"surface\"}],\"table\":[{\"cells\":{\"fill\":{\"color\":\"#506784\"},\"line\":{\"color\":\"rgb(17,17,17)\"}},\"header\":{\"fill\":{\"color\":\"#2a3f5f\"},\"line\":{\"color\":\"rgb(17,17,17)\"}},\"type\":\"table\"}]},\"layout\":{\"annotationdefaults\":{\"arrowcolor\":\"#f2f5fa\",\"arrowhead\":0,\"arrowwidth\":1},\"autotypenumbers\":\"strict\",\"coloraxis\":{\"colorbar\":{\"outlinewidth\":0,\"ticks\":\"\"}},\"colorscale\":{\"diverging\":[[0,\"#8e0152\"],[0.1,\"#c51b7d\"],[0.2,\"#de77ae\"],[0.3,\"#f1b6da\"],[0.4,\"#fde0ef\"],[0.5,\"#f7f7f7\"],[0.6,\"#e6f5d0\"],[0.7,\"#b8e186\"],[0.8,\"#7fbc41\"],[0.9,\"#4d9221\"],[1,\"#276419\"]],\"sequential\":[[0.0,\"#0d0887\"],[0.1111111111111111,\"#46039f\"],[0.2222222222222222,\"#7201a8\"],[0.3333333333333333,\"#9c179e\"],[0.4444444444444444,\"#bd3786\"],[0.5555555555555556,\"#d8576b\"],[0.6666666666666666,\"#ed7953\"],[0.7777777777777778,\"#fb9f3a\"],[0.8888888888888888,\"#fdca26\"],[1.0,\"#f0f921\"]],\"sequentialminus\":[[0.0,\"#0d0887\"],[0.1111111111111111,\"#46039f\"],[0.2222222222222222,\"#7201a8\"],[0.3333333333333333,\"#9c179e\"],[0.4444444444444444,\"#bd3786\"],[0.5555555555555556,\"#d8576b\"],[0.6666666666666666,\"#ed7953\"],[0.7777777777777778,\"#fb9f3a\"],[0.8888888888888888,\"#fdca26\"],[1.0,\"#f0f921\"]]},\"colorway\":[\"#636efa\",\"#EF553B\",\"#00cc96\",\"#ab63fa\",\"#FFA15A\",\"#19d3f3\",\"#FF6692\",\"#B6E880\",\"#FF97FF\",\"#FECB52\"],\"font\":{\"color\":\"#f2f5fa\"},\"geo\":{\"bgcolor\":\"rgb(17,17,17)\",\"lakecolor\":\"rgb(17,17,17)\",\"landcolor\":\"rgb(17,17,17)\",\"showlakes\":true,\"showland\":true,\"subunitcolor\":\"#506784\"},\"hoverlabel\":{\"align\":\"left\"},\"hovermode\":\"closest\",\"mapbox\":{\"style\":\"dark\"},\"paper_bgcolor\":\"rgb(17,17,17)\",\"plot_bgcolor\":\"rgb(17,17,17)\",\"polar\":{\"angularaxis\":{\"gridcolor\":\"#506784\",\"linecolor\":\"#506784\",\"ticks\":\"\"},\"bgcolor\":\"rgb(17,17,17)\",\"radialaxis\":{\"gridcolor\":\"#506784\",\"linecolor\":\"#506784\",\"ticks\":\"\"}},\"scene\":{\"xaxis\":{\"backgroundcolor\":\"rgb(17,17,17)\",\"gridcolor\":\"#506784\",\"gridwidth\":2,\"linecolor\":\"#506784\",\"showbackground\":true,\"ticks\":\"\",\"zerolinecolor\":\"#C8D4E3\"},\"yaxis\":{\"backgroundcolor\":\"rgb(17,17,17)\",\"gridcolor\":\"#506784\",\"gridwidth\":2,\"linecolor\":\"#506784\",\"showbackground\":true,\"ticks\":\"\",\"zerolinecolor\":\"#C8D4E3\"},\"zaxis\":{\"backgroundcolor\":\"rgb(17,17,17)\",\"gridcolor\":\"#506784\",\"gridwidth\":2,\"linecolor\":\"#506784\",\"showbackground\":true,\"ticks\":\"\",\"zerolinecolor\":\"#C8D4E3\"}},\"shapedefaults\":{\"line\":{\"color\":\"#f2f5fa\"}},\"sliderdefaults\":{\"bgcolor\":\"#C8D4E3\",\"bordercolor\":\"rgb(17,17,17)\",\"borderwidth\":1,\"tickwidth\":0},\"ternary\":{\"aaxis\":{\"gridcolor\":\"#506784\",\"linecolor\":\"#506784\",\"ticks\":\"\"},\"baxis\":{\"gridcolor\":\"#506784\",\"linecolor\":\"#506784\",\"ticks\":\"\"},\"bgcolor\":\"rgb(17,17,17)\",\"caxis\":{\"gridcolor\":\"#506784\",\"linecolor\":\"#506784\",\"ticks\":\"\"}},\"title\":{\"x\":0.05},\"updatemenudefaults\":{\"bgcolor\":\"#506784\",\"borderwidth\":0},\"xaxis\":{\"automargin\":true,\"gridcolor\":\"#283442\",\"linecolor\":\"#506784\",\"ticks\":\"\",\"title\":{\"standoff\":15},\"zerolinecolor\":\"#283442\",\"zerolinewidth\":2},\"yaxis\":{\"automargin\":true,\"gridcolor\":\"#283442\",\"linecolor\":\"#506784\",\"ticks\":\"\",\"title\":{\"standoff\":15},\"zerolinecolor\":\"#283442\",\"zerolinewidth\":2}}},\"title\":{\"text\":\"Points Scored by the Top 9 Scoring NBA Players in 2012\"},\"yaxis\":{\"autorange\":true,\"dtick\":5,\"gridcolor\":\"rgb(255, 255, 255)\",\"gridwidth\":1,\"showgrid\":true,\"zeroline\":true,\"zerolinecolor\":\"rgb(255, 255, 255)\",\"zerolinewidth\":2}},                        {\"responsive\": true}                    ).then(function(){\n",
       "                            \n",
       "var gd = document.getElementById('793fd073-c832-430c-8993-f6dac94ca441');\n",
       "var x = new MutationObserver(function (mutations, observer) {{\n",
       "        var display = window.getComputedStyle(gd).display;\n",
       "        if (!display || display === 'none') {{\n",
       "            console.log([gd, 'removed!']);\n",
       "            Plotly.purge(gd);\n",
       "            observer.disconnect();\n",
       "        }}\n",
       "}});\n",
       "\n",
       "// Listen for the removal of the full notebook cells\n",
       "var notebookContainer = gd.closest('#notebook-container');\n",
       "if (notebookContainer) {{\n",
       "    x.observe(notebookContainer, {childList: true});\n",
       "}}\n",
       "\n",
       "// Listen for the clearing of the current output cell\n",
       "var outputEl = gd.closest('.output');\n",
       "if (outputEl) {{\n",
       "    x.observe(outputEl, {childList: true});\n",
       "}}\n",
       "\n",
       "                        })                };                });            </script>        </div>"
      ]
     },
     "metadata": {},
     "output_type": "display_data"
    }
   ],
   "execution_count": 35
  },
  {
   "cell_type": "code",
   "metadata": {
    "id": "rSsKOqKO25LM",
    "outputId": "1474f234-7a58-4355-9e89-c5e54e5b5ed1"
   },
   "source": [
    "#NOTE\n",
    "\n",
    "trace = go.Heatmap(z = df_bar_pubg['solo_Wins'],\n",
    "                   x = df_bar_pubg['player_name'],\n",
    "                   y = df_bar_pubg['solo_RoundsPlayed'])\n",
    "data = [trace]\n",
    "iplot(data, filename = 'labelled-heatmap')"
   ],
   "execution_count": null,
   "outputs": [
    {
     "output_type": "display_data",
     "data": {
      "application/vnd.plotly.v1+json": {
       "config": {
        "linkText": "Export to plotly.com",
        "plotlyServerURL": "https://plotly.com",
        "showLink": false
       },
       "data": [
        {
         "type": "heatmap",
         "x": [
          "BreakNeck",
          "Blackwalk",
          "mercedes_benz",
          "DORA",
          "n2tstar",
          "coldoxygen",
          "Giken",
          "KoreaNo1",
          "undor",
          "Fordune",
          "PandaTV-Tongk",
          "Benny-_-",
          "PanDaTV_Karl",
          "homeboye",
          "YUPPIEE",
          "Doomhammer",
          "DinghisKhan",
          "YoonRoot",
          "3N1GmA",
          "synthtail",
          "SevenWolf",
          "FZTEAMLDS",
          "1125",
          "BombBurst",
          "SILPHTV",
          "SexyPIG",
          "TOP_94",
          "zeggi",
          "baoli6666666",
          "Toadoo1"
         ],
         "y": [
          17,
          33,
          5,
          8,
          6,
          16,
          142,
          19,
          44,
          8,
          116,
          335,
          87,
          72,
          23,
          3,
          165,
          65,
          16,
          45,
          55,
          45,
          9,
          14,
          277,
          265,
          77,
          52,
          56,
          22
         ],
         "z": [
          3,
          6,
          0,
          4,
          2,
          5,
          12,
          5,
          6,
          2,
          7,
          4,
          9,
          4,
          3,
          1,
          38,
          12,
          6,
          2,
          7,
          4,
          3,
          2,
          48,
          63,
          4,
          3,
          3,
          2
         ]
        }
       ],
       "layout": {
        "template": {
         "data": {
          "bar": [
           {
            "error_x": {
             "color": "#2a3f5f"
            },
            "error_y": {
             "color": "#2a3f5f"
            },
            "marker": {
             "line": {
              "color": "#E5ECF6",
              "width": 0.5
             }
            },
            "type": "bar"
           }
          ],
          "barpolar": [
           {
            "marker": {
             "line": {
              "color": "#E5ECF6",
              "width": 0.5
             }
            },
            "type": "barpolar"
           }
          ],
          "carpet": [
           {
            "aaxis": {
             "endlinecolor": "#2a3f5f",
             "gridcolor": "white",
             "linecolor": "white",
             "minorgridcolor": "white",
             "startlinecolor": "#2a3f5f"
            },
            "baxis": {
             "endlinecolor": "#2a3f5f",
             "gridcolor": "white",
             "linecolor": "white",
             "minorgridcolor": "white",
             "startlinecolor": "#2a3f5f"
            },
            "type": "carpet"
           }
          ],
          "choropleth": [
           {
            "colorbar": {
             "outlinewidth": 0,
             "ticks": ""
            },
            "type": "choropleth"
           }
          ],
          "contour": [
           {
            "colorbar": {
             "outlinewidth": 0,
             "ticks": ""
            },
            "colorscale": [
             [
              0,
              "#0d0887"
             ],
             [
              0.1111111111111111,
              "#46039f"
             ],
             [
              0.2222222222222222,
              "#7201a8"
             ],
             [
              0.3333333333333333,
              "#9c179e"
             ],
             [
              0.4444444444444444,
              "#bd3786"
             ],
             [
              0.5555555555555556,
              "#d8576b"
             ],
             [
              0.6666666666666666,
              "#ed7953"
             ],
             [
              0.7777777777777778,
              "#fb9f3a"
             ],
             [
              0.8888888888888888,
              "#fdca26"
             ],
             [
              1,
              "#f0f921"
             ]
            ],
            "type": "contour"
           }
          ],
          "contourcarpet": [
           {
            "colorbar": {
             "outlinewidth": 0,
             "ticks": ""
            },
            "type": "contourcarpet"
           }
          ],
          "heatmap": [
           {
            "colorbar": {
             "outlinewidth": 0,
             "ticks": ""
            },
            "colorscale": [
             [
              0,
              "#0d0887"
             ],
             [
              0.1111111111111111,
              "#46039f"
             ],
             [
              0.2222222222222222,
              "#7201a8"
             ],
             [
              0.3333333333333333,
              "#9c179e"
             ],
             [
              0.4444444444444444,
              "#bd3786"
             ],
             [
              0.5555555555555556,
              "#d8576b"
             ],
             [
              0.6666666666666666,
              "#ed7953"
             ],
             [
              0.7777777777777778,
              "#fb9f3a"
             ],
             [
              0.8888888888888888,
              "#fdca26"
             ],
             [
              1,
              "#f0f921"
             ]
            ],
            "type": "heatmap"
           }
          ],
          "heatmapgl": [
           {
            "colorbar": {
             "outlinewidth": 0,
             "ticks": ""
            },
            "colorscale": [
             [
              0,
              "#0d0887"
             ],
             [
              0.1111111111111111,
              "#46039f"
             ],
             [
              0.2222222222222222,
              "#7201a8"
             ],
             [
              0.3333333333333333,
              "#9c179e"
             ],
             [
              0.4444444444444444,
              "#bd3786"
             ],
             [
              0.5555555555555556,
              "#d8576b"
             ],
             [
              0.6666666666666666,
              "#ed7953"
             ],
             [
              0.7777777777777778,
              "#fb9f3a"
             ],
             [
              0.8888888888888888,
              "#fdca26"
             ],
             [
              1,
              "#f0f921"
             ]
            ],
            "type": "heatmapgl"
           }
          ],
          "histogram": [
           {
            "marker": {
             "colorbar": {
              "outlinewidth": 0,
              "ticks": ""
             }
            },
            "type": "histogram"
           }
          ],
          "histogram2d": [
           {
            "colorbar": {
             "outlinewidth": 0,
             "ticks": ""
            },
            "colorscale": [
             [
              0,
              "#0d0887"
             ],
             [
              0.1111111111111111,
              "#46039f"
             ],
             [
              0.2222222222222222,
              "#7201a8"
             ],
             [
              0.3333333333333333,
              "#9c179e"
             ],
             [
              0.4444444444444444,
              "#bd3786"
             ],
             [
              0.5555555555555556,
              "#d8576b"
             ],
             [
              0.6666666666666666,
              "#ed7953"
             ],
             [
              0.7777777777777778,
              "#fb9f3a"
             ],
             [
              0.8888888888888888,
              "#fdca26"
             ],
             [
              1,
              "#f0f921"
             ]
            ],
            "type": "histogram2d"
           }
          ],
          "histogram2dcontour": [
           {
            "colorbar": {
             "outlinewidth": 0,
             "ticks": ""
            },
            "colorscale": [
             [
              0,
              "#0d0887"
             ],
             [
              0.1111111111111111,
              "#46039f"
             ],
             [
              0.2222222222222222,
              "#7201a8"
             ],
             [
              0.3333333333333333,
              "#9c179e"
             ],
             [
              0.4444444444444444,
              "#bd3786"
             ],
             [
              0.5555555555555556,
              "#d8576b"
             ],
             [
              0.6666666666666666,
              "#ed7953"
             ],
             [
              0.7777777777777778,
              "#fb9f3a"
             ],
             [
              0.8888888888888888,
              "#fdca26"
             ],
             [
              1,
              "#f0f921"
             ]
            ],
            "type": "histogram2dcontour"
           }
          ],
          "mesh3d": [
           {
            "colorbar": {
             "outlinewidth": 0,
             "ticks": ""
            },
            "type": "mesh3d"
           }
          ],
          "parcoords": [
           {
            "line": {
             "colorbar": {
              "outlinewidth": 0,
              "ticks": ""
             }
            },
            "type": "parcoords"
           }
          ],
          "pie": [
           {
            "automargin": true,
            "type": "pie"
           }
          ],
          "scatter": [
           {
            "marker": {
             "colorbar": {
              "outlinewidth": 0,
              "ticks": ""
             }
            },
            "type": "scatter"
           }
          ],
          "scatter3d": [
           {
            "line": {
             "colorbar": {
              "outlinewidth": 0,
              "ticks": ""
             }
            },
            "marker": {
             "colorbar": {
              "outlinewidth": 0,
              "ticks": ""
             }
            },
            "type": "scatter3d"
           }
          ],
          "scattercarpet": [
           {
            "marker": {
             "colorbar": {
              "outlinewidth": 0,
              "ticks": ""
             }
            },
            "type": "scattercarpet"
           }
          ],
          "scattergeo": [
           {
            "marker": {
             "colorbar": {
              "outlinewidth": 0,
              "ticks": ""
             }
            },
            "type": "scattergeo"
           }
          ],
          "scattergl": [
           {
            "marker": {
             "colorbar": {
              "outlinewidth": 0,
              "ticks": ""
             }
            },
            "type": "scattergl"
           }
          ],
          "scattermapbox": [
           {
            "marker": {
             "colorbar": {
              "outlinewidth": 0,
              "ticks": ""
             }
            },
            "type": "scattermapbox"
           }
          ],
          "scatterpolar": [
           {
            "marker": {
             "colorbar": {
              "outlinewidth": 0,
              "ticks": ""
             }
            },
            "type": "scatterpolar"
           }
          ],
          "scatterpolargl": [
           {
            "marker": {
             "colorbar": {
              "outlinewidth": 0,
              "ticks": ""
             }
            },
            "type": "scatterpolargl"
           }
          ],
          "scatterternary": [
           {
            "marker": {
             "colorbar": {
              "outlinewidth": 0,
              "ticks": ""
             }
            },
            "type": "scatterternary"
           }
          ],
          "surface": [
           {
            "colorbar": {
             "outlinewidth": 0,
             "ticks": ""
            },
            "colorscale": [
             [
              0,
              "#0d0887"
             ],
             [
              0.1111111111111111,
              "#46039f"
             ],
             [
              0.2222222222222222,
              "#7201a8"
             ],
             [
              0.3333333333333333,
              "#9c179e"
             ],
             [
              0.4444444444444444,
              "#bd3786"
             ],
             [
              0.5555555555555556,
              "#d8576b"
             ],
             [
              0.6666666666666666,
              "#ed7953"
             ],
             [
              0.7777777777777778,
              "#fb9f3a"
             ],
             [
              0.8888888888888888,
              "#fdca26"
             ],
             [
              1,
              "#f0f921"
             ]
            ],
            "type": "surface"
           }
          ],
          "table": [
           {
            "cells": {
             "fill": {
              "color": "#EBF0F8"
             },
             "line": {
              "color": "white"
             }
            },
            "header": {
             "fill": {
              "color": "#C8D4E3"
             },
             "line": {
              "color": "white"
             }
            },
            "type": "table"
           }
          ]
         },
         "layout": {
          "annotationdefaults": {
           "arrowcolor": "#2a3f5f",
           "arrowhead": 0,
           "arrowwidth": 1
          },
          "coloraxis": {
           "colorbar": {
            "outlinewidth": 0,
            "ticks": ""
           }
          },
          "colorscale": {
           "diverging": [
            [
             0,
             "#8e0152"
            ],
            [
             0.1,
             "#c51b7d"
            ],
            [
             0.2,
             "#de77ae"
            ],
            [
             0.3,
             "#f1b6da"
            ],
            [
             0.4,
             "#fde0ef"
            ],
            [
             0.5,
             "#f7f7f7"
            ],
            [
             0.6,
             "#e6f5d0"
            ],
            [
             0.7,
             "#b8e186"
            ],
            [
             0.8,
             "#7fbc41"
            ],
            [
             0.9,
             "#4d9221"
            ],
            [
             1,
             "#276419"
            ]
           ],
           "sequential": [
            [
             0,
             "#0d0887"
            ],
            [
             0.1111111111111111,
             "#46039f"
            ],
            [
             0.2222222222222222,
             "#7201a8"
            ],
            [
             0.3333333333333333,
             "#9c179e"
            ],
            [
             0.4444444444444444,
             "#bd3786"
            ],
            [
             0.5555555555555556,
             "#d8576b"
            ],
            [
             0.6666666666666666,
             "#ed7953"
            ],
            [
             0.7777777777777778,
             "#fb9f3a"
            ],
            [
             0.8888888888888888,
             "#fdca26"
            ],
            [
             1,
             "#f0f921"
            ]
           ],
           "sequentialminus": [
            [
             0,
             "#0d0887"
            ],
            [
             0.1111111111111111,
             "#46039f"
            ],
            [
             0.2222222222222222,
             "#7201a8"
            ],
            [
             0.3333333333333333,
             "#9c179e"
            ],
            [
             0.4444444444444444,
             "#bd3786"
            ],
            [
             0.5555555555555556,
             "#d8576b"
            ],
            [
             0.6666666666666666,
             "#ed7953"
            ],
            [
             0.7777777777777778,
             "#fb9f3a"
            ],
            [
             0.8888888888888888,
             "#fdca26"
            ],
            [
             1,
             "#f0f921"
            ]
           ]
          },
          "colorway": [
           "#636efa",
           "#EF553B",
           "#00cc96",
           "#ab63fa",
           "#FFA15A",
           "#19d3f3",
           "#FF6692",
           "#B6E880",
           "#FF97FF",
           "#FECB52"
          ],
          "font": {
           "color": "#2a3f5f"
          },
          "geo": {
           "bgcolor": "white",
           "lakecolor": "white",
           "landcolor": "#E5ECF6",
           "showlakes": true,
           "showland": true,
           "subunitcolor": "white"
          },
          "hoverlabel": {
           "align": "left"
          },
          "hovermode": "closest",
          "mapbox": {
           "style": "light"
          },
          "paper_bgcolor": "white",
          "plot_bgcolor": "#E5ECF6",
          "polar": {
           "angularaxis": {
            "gridcolor": "white",
            "linecolor": "white",
            "ticks": ""
           },
           "bgcolor": "#E5ECF6",
           "radialaxis": {
            "gridcolor": "white",
            "linecolor": "white",
            "ticks": ""
           }
          },
          "scene": {
           "xaxis": {
            "backgroundcolor": "#E5ECF6",
            "gridcolor": "white",
            "gridwidth": 2,
            "linecolor": "white",
            "showbackground": true,
            "ticks": "",
            "zerolinecolor": "white"
           },
           "yaxis": {
            "backgroundcolor": "#E5ECF6",
            "gridcolor": "white",
            "gridwidth": 2,
            "linecolor": "white",
            "showbackground": true,
            "ticks": "",
            "zerolinecolor": "white"
           },
           "zaxis": {
            "backgroundcolor": "#E5ECF6",
            "gridcolor": "white",
            "gridwidth": 2,
            "linecolor": "white",
            "showbackground": true,
            "ticks": "",
            "zerolinecolor": "white"
           }
          },
          "shapedefaults": {
           "line": {
            "color": "#2a3f5f"
           }
          },
          "ternary": {
           "aaxis": {
            "gridcolor": "white",
            "linecolor": "white",
            "ticks": ""
           },
           "baxis": {
            "gridcolor": "white",
            "linecolor": "white",
            "ticks": ""
           },
           "bgcolor": "#E5ECF6",
           "caxis": {
            "gridcolor": "white",
            "linecolor": "white",
            "ticks": ""
           }
          },
          "title": {
           "x": 0.05
          },
          "xaxis": {
           "automargin": true,
           "gridcolor": "white",
           "linecolor": "white",
           "ticks": "",
           "title": {
            "standoff": 15
           },
           "zerolinecolor": "white",
           "zerolinewidth": 2
          },
          "yaxis": {
           "automargin": true,
           "gridcolor": "white",
           "linecolor": "white",
           "ticks": "",
           "title": {
            "standoff": 15
           },
           "zerolinecolor": "white",
           "zerolinewidth": 2
          }
         }
        }
       }
      },
      "text/html": [
       "<div>\n",
       "        \n",
       "        \n",
       "            <div id=\"4bdf37d2-53bb-4112-9dba-74770a2d5b58\" class=\"plotly-graph-div\" style=\"height:525px; width:100%;\"></div>\n",
       "            <script type=\"text/javascript\">\n",
       "                require([\"plotly\"], function(Plotly) {\n",
       "                    window.PLOTLYENV=window.PLOTLYENV || {};\n",
       "                    \n",
       "                if (document.getElementById(\"4bdf37d2-53bb-4112-9dba-74770a2d5b58\")) {\n",
       "                    Plotly.newPlot(\n",
       "                        '4bdf37d2-53bb-4112-9dba-74770a2d5b58',\n",
       "                        [{\"type\": \"heatmap\", \"x\": [\"BreakNeck\", \"Blackwalk\", \"mercedes_benz\", \"DORA\", \"n2tstar\", \"coldoxygen\", \"Giken\", \"KoreaNo1\", \"undor\", \"Fordune\", \"PandaTV-Tongk\", \"Benny-_-\", \"PanDaTV_Karl\", \"homeboye\", \"YUPPIEE\", \"Doomhammer\", \"DinghisKhan\", \"YoonRoot\", \"3N1GmA\", \"synthtail\", \"SevenWolf\", \"FZTEAMLDS\", \"1125\", \"BombBurst\", \"SILPHTV\", \"SexyPIG\", \"TOP_94\", \"zeggi\", \"baoli6666666\", \"Toadoo1\"], \"y\": [17, 33, 5, 8, 6, 16, 142, 19, 44, 8, 116, 335, 87, 72, 23, 3, 165, 65, 16, 45, 55, 45, 9, 14, 277, 265, 77, 52, 56, 22], \"z\": [3, 6, 0, 4, 2, 5, 12, 5, 6, 2, 7, 4, 9, 4, 3, 1, 38, 12, 6, 2, 7, 4, 3, 2, 48, 63, 4, 3, 3, 2]}],\n",
       "                        {\"template\": {\"data\": {\"bar\": [{\"error_x\": {\"color\": \"#2a3f5f\"}, \"error_y\": {\"color\": \"#2a3f5f\"}, \"marker\": {\"line\": {\"color\": \"#E5ECF6\", \"width\": 0.5}}, \"type\": \"bar\"}], \"barpolar\": [{\"marker\": {\"line\": {\"color\": \"#E5ECF6\", \"width\": 0.5}}, \"type\": \"barpolar\"}], \"carpet\": [{\"aaxis\": {\"endlinecolor\": \"#2a3f5f\", \"gridcolor\": \"white\", \"linecolor\": \"white\", \"minorgridcolor\": \"white\", \"startlinecolor\": \"#2a3f5f\"}, \"baxis\": {\"endlinecolor\": \"#2a3f5f\", \"gridcolor\": \"white\", \"linecolor\": \"white\", \"minorgridcolor\": \"white\", \"startlinecolor\": \"#2a3f5f\"}, \"type\": \"carpet\"}], \"choropleth\": [{\"colorbar\": {\"outlinewidth\": 0, \"ticks\": \"\"}, \"type\": \"choropleth\"}], \"contour\": [{\"colorbar\": {\"outlinewidth\": 0, \"ticks\": \"\"}, \"colorscale\": [[0.0, \"#0d0887\"], [0.1111111111111111, \"#46039f\"], [0.2222222222222222, \"#7201a8\"], [0.3333333333333333, \"#9c179e\"], [0.4444444444444444, \"#bd3786\"], [0.5555555555555556, \"#d8576b\"], [0.6666666666666666, \"#ed7953\"], [0.7777777777777778, \"#fb9f3a\"], [0.8888888888888888, \"#fdca26\"], [1.0, \"#f0f921\"]], \"type\": \"contour\"}], \"contourcarpet\": [{\"colorbar\": {\"outlinewidth\": 0, \"ticks\": \"\"}, \"type\": \"contourcarpet\"}], \"heatmap\": [{\"colorbar\": {\"outlinewidth\": 0, \"ticks\": \"\"}, \"colorscale\": [[0.0, \"#0d0887\"], [0.1111111111111111, \"#46039f\"], [0.2222222222222222, \"#7201a8\"], [0.3333333333333333, \"#9c179e\"], [0.4444444444444444, \"#bd3786\"], [0.5555555555555556, \"#d8576b\"], [0.6666666666666666, \"#ed7953\"], [0.7777777777777778, \"#fb9f3a\"], [0.8888888888888888, \"#fdca26\"], [1.0, \"#f0f921\"]], \"type\": \"heatmap\"}], \"heatmapgl\": [{\"colorbar\": {\"outlinewidth\": 0, \"ticks\": \"\"}, \"colorscale\": [[0.0, \"#0d0887\"], [0.1111111111111111, \"#46039f\"], [0.2222222222222222, \"#7201a8\"], [0.3333333333333333, \"#9c179e\"], [0.4444444444444444, \"#bd3786\"], [0.5555555555555556, \"#d8576b\"], [0.6666666666666666, \"#ed7953\"], [0.7777777777777778, \"#fb9f3a\"], [0.8888888888888888, \"#fdca26\"], [1.0, \"#f0f921\"]], \"type\": \"heatmapgl\"}], \"histogram\": [{\"marker\": {\"colorbar\": {\"outlinewidth\": 0, \"ticks\": \"\"}}, \"type\": \"histogram\"}], \"histogram2d\": [{\"colorbar\": {\"outlinewidth\": 0, \"ticks\": \"\"}, \"colorscale\": [[0.0, \"#0d0887\"], [0.1111111111111111, \"#46039f\"], [0.2222222222222222, \"#7201a8\"], [0.3333333333333333, \"#9c179e\"], [0.4444444444444444, \"#bd3786\"], [0.5555555555555556, \"#d8576b\"], [0.6666666666666666, \"#ed7953\"], [0.7777777777777778, \"#fb9f3a\"], [0.8888888888888888, \"#fdca26\"], [1.0, \"#f0f921\"]], \"type\": \"histogram2d\"}], \"histogram2dcontour\": [{\"colorbar\": {\"outlinewidth\": 0, \"ticks\": \"\"}, \"colorscale\": [[0.0, \"#0d0887\"], [0.1111111111111111, \"#46039f\"], [0.2222222222222222, \"#7201a8\"], [0.3333333333333333, \"#9c179e\"], [0.4444444444444444, \"#bd3786\"], [0.5555555555555556, \"#d8576b\"], [0.6666666666666666, \"#ed7953\"], [0.7777777777777778, \"#fb9f3a\"], [0.8888888888888888, \"#fdca26\"], [1.0, \"#f0f921\"]], \"type\": \"histogram2dcontour\"}], \"mesh3d\": [{\"colorbar\": {\"outlinewidth\": 0, \"ticks\": \"\"}, \"type\": \"mesh3d\"}], \"parcoords\": [{\"line\": {\"colorbar\": {\"outlinewidth\": 0, \"ticks\": \"\"}}, \"type\": \"parcoords\"}], \"pie\": [{\"automargin\": true, \"type\": \"pie\"}], \"scatter\": [{\"marker\": {\"colorbar\": {\"outlinewidth\": 0, \"ticks\": \"\"}}, \"type\": \"scatter\"}], \"scatter3d\": [{\"line\": {\"colorbar\": {\"outlinewidth\": 0, \"ticks\": \"\"}}, \"marker\": {\"colorbar\": {\"outlinewidth\": 0, \"ticks\": \"\"}}, \"type\": \"scatter3d\"}], \"scattercarpet\": [{\"marker\": {\"colorbar\": {\"outlinewidth\": 0, \"ticks\": \"\"}}, \"type\": \"scattercarpet\"}], \"scattergeo\": [{\"marker\": {\"colorbar\": {\"outlinewidth\": 0, \"ticks\": \"\"}}, \"type\": \"scattergeo\"}], \"scattergl\": [{\"marker\": {\"colorbar\": {\"outlinewidth\": 0, \"ticks\": \"\"}}, \"type\": \"scattergl\"}], \"scattermapbox\": [{\"marker\": {\"colorbar\": {\"outlinewidth\": 0, \"ticks\": \"\"}}, \"type\": \"scattermapbox\"}], \"scatterpolar\": [{\"marker\": {\"colorbar\": {\"outlinewidth\": 0, \"ticks\": \"\"}}, \"type\": \"scatterpolar\"}], \"scatterpolargl\": [{\"marker\": {\"colorbar\": {\"outlinewidth\": 0, \"ticks\": \"\"}}, \"type\": \"scatterpolargl\"}], \"scatterternary\": [{\"marker\": {\"colorbar\": {\"outlinewidth\": 0, \"ticks\": \"\"}}, \"type\": \"scatterternary\"}], \"surface\": [{\"colorbar\": {\"outlinewidth\": 0, \"ticks\": \"\"}, \"colorscale\": [[0.0, \"#0d0887\"], [0.1111111111111111, \"#46039f\"], [0.2222222222222222, \"#7201a8\"], [0.3333333333333333, \"#9c179e\"], [0.4444444444444444, \"#bd3786\"], [0.5555555555555556, \"#d8576b\"], [0.6666666666666666, \"#ed7953\"], [0.7777777777777778, \"#fb9f3a\"], [0.8888888888888888, \"#fdca26\"], [1.0, \"#f0f921\"]], \"type\": \"surface\"}], \"table\": [{\"cells\": {\"fill\": {\"color\": \"#EBF0F8\"}, \"line\": {\"color\": \"white\"}}, \"header\": {\"fill\": {\"color\": \"#C8D4E3\"}, \"line\": {\"color\": \"white\"}}, \"type\": \"table\"}]}, \"layout\": {\"annotationdefaults\": {\"arrowcolor\": \"#2a3f5f\", \"arrowhead\": 0, \"arrowwidth\": 1}, \"coloraxis\": {\"colorbar\": {\"outlinewidth\": 0, \"ticks\": \"\"}}, \"colorscale\": {\"diverging\": [[0, \"#8e0152\"], [0.1, \"#c51b7d\"], [0.2, \"#de77ae\"], [0.3, \"#f1b6da\"], [0.4, \"#fde0ef\"], [0.5, \"#f7f7f7\"], [0.6, \"#e6f5d0\"], [0.7, \"#b8e186\"], [0.8, \"#7fbc41\"], [0.9, \"#4d9221\"], [1, \"#276419\"]], \"sequential\": [[0.0, \"#0d0887\"], [0.1111111111111111, \"#46039f\"], [0.2222222222222222, \"#7201a8\"], [0.3333333333333333, \"#9c179e\"], [0.4444444444444444, \"#bd3786\"], [0.5555555555555556, \"#d8576b\"], [0.6666666666666666, \"#ed7953\"], [0.7777777777777778, \"#fb9f3a\"], [0.8888888888888888, \"#fdca26\"], [1.0, \"#f0f921\"]], \"sequentialminus\": [[0.0, \"#0d0887\"], [0.1111111111111111, \"#46039f\"], [0.2222222222222222, \"#7201a8\"], [0.3333333333333333, \"#9c179e\"], [0.4444444444444444, \"#bd3786\"], [0.5555555555555556, \"#d8576b\"], [0.6666666666666666, \"#ed7953\"], [0.7777777777777778, \"#fb9f3a\"], [0.8888888888888888, \"#fdca26\"], [1.0, \"#f0f921\"]]}, \"colorway\": [\"#636efa\", \"#EF553B\", \"#00cc96\", \"#ab63fa\", \"#FFA15A\", \"#19d3f3\", \"#FF6692\", \"#B6E880\", \"#FF97FF\", \"#FECB52\"], \"font\": {\"color\": \"#2a3f5f\"}, \"geo\": {\"bgcolor\": \"white\", \"lakecolor\": \"white\", \"landcolor\": \"#E5ECF6\", \"showlakes\": true, \"showland\": true, \"subunitcolor\": \"white\"}, \"hoverlabel\": {\"align\": \"left\"}, \"hovermode\": \"closest\", \"mapbox\": {\"style\": \"light\"}, \"paper_bgcolor\": \"white\", \"plot_bgcolor\": \"#E5ECF6\", \"polar\": {\"angularaxis\": {\"gridcolor\": \"white\", \"linecolor\": \"white\", \"ticks\": \"\"}, \"bgcolor\": \"#E5ECF6\", \"radialaxis\": {\"gridcolor\": \"white\", \"linecolor\": \"white\", \"ticks\": \"\"}}, \"scene\": {\"xaxis\": {\"backgroundcolor\": \"#E5ECF6\", \"gridcolor\": \"white\", \"gridwidth\": 2, \"linecolor\": \"white\", \"showbackground\": true, \"ticks\": \"\", \"zerolinecolor\": \"white\"}, \"yaxis\": {\"backgroundcolor\": \"#E5ECF6\", \"gridcolor\": \"white\", \"gridwidth\": 2, \"linecolor\": \"white\", \"showbackground\": true, \"ticks\": \"\", \"zerolinecolor\": \"white\"}, \"zaxis\": {\"backgroundcolor\": \"#E5ECF6\", \"gridcolor\": \"white\", \"gridwidth\": 2, \"linecolor\": \"white\", \"showbackground\": true, \"ticks\": \"\", \"zerolinecolor\": \"white\"}}, \"shapedefaults\": {\"line\": {\"color\": \"#2a3f5f\"}}, \"ternary\": {\"aaxis\": {\"gridcolor\": \"white\", \"linecolor\": \"white\", \"ticks\": \"\"}, \"baxis\": {\"gridcolor\": \"white\", \"linecolor\": \"white\", \"ticks\": \"\"}, \"bgcolor\": \"#E5ECF6\", \"caxis\": {\"gridcolor\": \"white\", \"linecolor\": \"white\", \"ticks\": \"\"}}, \"title\": {\"x\": 0.05}, \"xaxis\": {\"automargin\": true, \"gridcolor\": \"white\", \"linecolor\": \"white\", \"ticks\": \"\", \"title\": {\"standoff\": 15}, \"zerolinecolor\": \"white\", \"zerolinewidth\": 2}, \"yaxis\": {\"automargin\": true, \"gridcolor\": \"white\", \"linecolor\": \"white\", \"ticks\": \"\", \"title\": {\"standoff\": 15}, \"zerolinecolor\": \"white\", \"zerolinewidth\": 2}}}},\n",
       "                        {\"responsive\": true}\n",
       "                    ).then(function(){\n",
       "                            \n",
       "var gd = document.getElementById('4bdf37d2-53bb-4112-9dba-74770a2d5b58');\n",
       "var x = new MutationObserver(function (mutations, observer) {{\n",
       "        var display = window.getComputedStyle(gd).display;\n",
       "        if (!display || display === 'none') {{\n",
       "            console.log([gd, 'removed!']);\n",
       "            Plotly.purge(gd);\n",
       "            observer.disconnect();\n",
       "        }}\n",
       "}});\n",
       "\n",
       "// Listen for the removal of the full notebook cells\n",
       "var notebookContainer = gd.closest('#notebook-container');\n",
       "if (notebookContainer) {{\n",
       "    x.observe(notebookContainer, {childList: true});\n",
       "}}\n",
       "\n",
       "// Listen for the clearing of the current output cell\n",
       "var outputEl = gd.closest('.output');\n",
       "if (outputEl) {{\n",
       "    x.observe(outputEl, {childList: true});\n",
       "}}\n",
       "\n",
       "                        })\n",
       "                };\n",
       "                });\n",
       "            </script>\n",
       "        </div>"
      ]
     },
     "metadata": {
      "tags": []
     }
    }
   ]
  }
 ]
}
