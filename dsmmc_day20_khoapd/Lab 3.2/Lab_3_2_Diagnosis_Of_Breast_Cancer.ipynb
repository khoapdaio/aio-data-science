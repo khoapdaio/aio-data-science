{
 "nbformat": 4,
 "nbformat_minor": 0,
 "metadata": {
  "anaconda-cloud": {},
  "kernelspec": {
   "display_name": "Python [default]",
   "language": "python",
   "name": "python3"
  },
  "language_info": {
   "codemirror_mode": {
    "name": "ipython",
    "version": 3
   },
   "file_extension": ".py",
   "mimetype": "text/x-python",
   "name": "python",
   "nbconvert_exporter": "python",
   "pygments_lexer": "ipython3",
   "version": "3.5.2"
  },
  "toc": {
   "colors": {
    "hover_highlight": "#DAA520",
    "running_highlight": "#FF0000",
    "selected_highlight": "#FFD700"
   },
   "moveMenuLeft": true,
   "nav_menu": {
    "height": "58px",
    "width": "252px"
   },
   "navigate_menu": true,
   "number_sections": true,
   "sideBar": true,
   "threshold": 4,
   "toc_cell": false,
   "toc_section_display": "block",
   "toc_window_display": false,
   "widenNotebook": false
  },
  "colab": {
   "provenance": []
  }
 },
 "cells": [
  {
   "cell_type": "markdown",
   "metadata": {
    "id": "qsQxbvputRtY"
   },
   "source": [
    "# Diagnosis Of Breast Cancer\n",
    "\n",
    "Thời lượng ước tính: **120** phút\n",
    "\n",
    "## Giới thiệu Lab\n",
    "Ung thư vú thường bắt nguồn từ sự phát triển không kiểm soát của các tế bào tạo nên các ống dẫn sữa. Mặc dù khá hiếm gặp ở nam giới (ít hơn 0,1% mắc bệnh này), nhưng theo BreastCancer.org, 1/8 phụ nữ (12%) mắc phải một dạng ung thư vú ác tính trong suốt cuộc đời của họ. Những tế bào xâm lấn này tạo thành khối u phá hủy mô lân cận, có thể lây lan sang các bộ phận khác của cơ thể, và nếu không được điều trị thích hợp thì có thể dẫn đến tử vong. Nói một cách dễ hiểu, ở Mỹ mỗi năm  có khoảng 600 phụ nữ chết do các biến chứng liên quan đến thai nghén ... nhưng có tới hơn 40.000 người chết do ung thư vú.\n",
    "\n",
    "Ung thư vú không phát triển trong chốc lát và giống như bất kỳ bệnh ung thư nào khác, nó có thể được điều trị cực kỳ hiệu quả nếu được phát hiện ở giai đoạn sớm hơn. Một phần kiến thức về bệnh ung thư là biết rằng không phải tất cả các tế bào phát triển không đều đều là ác tính; một số là sự phát triển lành tính, hoặc không nguy hiểm, không phải ung thư. Khối u lành tính không có nghĩa là không tăng kích thước, mà nó chỉ không gây ra mối đe dọa cho các mô lân cận, cũng như không có khả năng lây lan sang các bộ phận khác của cơ thể. Nó chỉ đơn giản ở đó để phát triển. Các khối u lành tính thực sự khá phổ biến, chẳng hạn như nốt ruồi và một số mụn cóc. Do đó, có thể đánh giá chính xác xem một khối u là lành tính hay ác tính, có thể bỏ qua được hay rất đáng báo động; và đây là một bài toán có thể giải quyết được thông qua dữ liệu và machine learning (học máy).\n",
    "\n",
    "Trong lab này, bạn sẽ sử dụng tập dữ liệu **[Breast Cancer Wisconsin Original](https://archive.ics.uci.edu/ml/datasets/Breast+Cancer+Wisconsin+(Original))**, được cung cấp với sự hỗ trợ của Machine Learning Repository từ UCI. Dưới đây là tên cột, bạn có thể đọc thêm chi tiết trên trang thông tin của tập dữ liệu:\n",
    "\n",
    "**['sample', 'thickness', 'size', 'shape', 'adhesion', 'epithelial', 'nuclei', 'chromatin', 'nucleoli', 'mitoses', 'status']**"
   ]
  },
  {
   "cell_type": "code",
   "metadata": {
    "id": "ybrJc_3xtRtd",
    "executionInfo": {
     "status": "ok",
     "timestamp": 1714792226161,
     "user_tz": -420,
     "elapsed": 877,
     "user": {
      "displayName": "Nam Lê Hoàng",
      "userId": "04706170583322624514"
     }
    },
    "ExecuteTime": {
     "end_time": "2024-07-02T07:37:40.681523Z",
     "start_time": "2024-07-02T07:37:37.879767Z"
    }
   },
   "source": [
    "\n",
    "import matplotlib.pyplot as plt\n",
    "import numpy as np\n",
    "import pandas as pd\n",
    "\n",
    "plt.style.use('ggplot')  # Look Pretty\n",
    "\n",
    "# Leave this alone until indicated:\n",
    "Test_PCA = False"
   ],
   "outputs": [],
   "execution_count": 1
  },
  {
   "cell_type": "markdown",
   "metadata": {
    "id": "3qD4KY8ztRtm"
   },
   "source": [
    "### Hàm hữu ích"
   ]
  },
  {
   "cell_type": "markdown",
   "metadata": {
    "id": "AsStrakJtRto"
   },
   "source": [
    "Phương pháp này chỉ nhằm mục đích thuận tiện cho việc trực quan hóa. Bạn không nên tự kết hợp điều này với nhau, dù bây giờ bạn có thể làm theo code:"
   ]
  },
  {
   "cell_type": "code",
   "metadata": {
    "id": "jcJlMLSRtRtq",
    "executionInfo": {
     "status": "ok",
     "timestamp": 1714792225294,
     "user_tz": -420,
     "elapsed": 14,
     "user": {
      "displayName": "Nam Lê Hoàng",
      "userId": "04706170583322624514"
     }
    },
    "ExecuteTime": {
     "end_time": "2024-07-02T07:37:43.195826Z",
     "start_time": "2024-07-02T07:37:43.186415Z"
    }
   },
   "source": [
    "def plotDecisionBoundary(model, X, y):\n",
    "\tprint(\"Plotting...\")\n",
    "\n",
    "\tfig = plt.figure()\n",
    "\tax = fig.add_subplot(111)\n",
    "\n",
    "\tpadding = 0.1\n",
    "\tresolution = 0.1\n",
    "\n",
    "\t#(2 for benign, 4 for malignant)\n",
    "\tcolors = {2: 'royalblue', 4: 'lightsalmon'}\n",
    "\n",
    "\t# Calculate the boundaris\n",
    "\tx_min, x_max = X[:, 0].min(), X[:, 0].max()\n",
    "\ty_min, y_max = X[:, 1].min(), X[:, 1].max()\n",
    "\tx_range = x_max - x_min\n",
    "\ty_range = y_max - y_min\n",
    "\tx_min -= x_range * padding\n",
    "\ty_min -= y_range * padding\n",
    "\tx_max += x_range * padding\n",
    "\ty_max += y_range * padding\n",
    "\n",
    "\t# Create a 2D Grid Matrix. The values stored in the matrix\n",
    "\t# are the predictions of the class at at said location\n",
    "\txx, yy = np.meshgrid(np.arange(x_min, x_max, resolution),\n",
    "\t                     np.arange(y_min, y_max, resolution))\n",
    "\n",
    "\t# What class does the classifier say?\n",
    "\tZ = model.predict(np.c_[xx.ravel(), yy.ravel()])\n",
    "\tZ = Z.reshape(xx.shape)\n",
    "\n",
    "\t# Plot the contour map\n",
    "\tplt.contourf(xx, yy, Z, cmap = plt.cm.seismic)\n",
    "\tplt.axis('tight')\n",
    "\n",
    "\t# Plot your testing points as well...\n",
    "\tfor label in np.unique(y):\n",
    "\t\tindices = np.where(y == label)\n",
    "\t\tplt.scatter(X[indices, 0], X[indices, 1], c = colors[label], alpha = 0.8)\n",
    "\n",
    "\tp = model.get_params()\n",
    "\tplt.title('K = ' + str(p['n_neighbors']))\n",
    "\tplt.show()"
   ],
   "outputs": [],
   "execution_count": 2
  },
  {
   "cell_type": "markdown",
   "metadata": {
    "collapsed": true,
    "id": "U7_wk7wftRtx"
   },
   "source": [
    "## 1. Chuẩn bị dữ liệu"
   ]
  },
  {
   "cell_type": "markdown",
   "metadata": {
    "collapsed": true,
    "id": "UvBzWvYvtRty"
   },
   "source": [
    "Load trong tập dữ liệu (**breast-cancer-wisconsin.data**), xác định nans, và đặt đúng header (tiêu đề). Đảm bảo xác minh các hàng đã sắp xếp bằng cách xem tệp trong trình soạn thảo văn bản."
   ]
  },
  {
   "cell_type": "code",
   "metadata": {
    "id": "y-_pz4s8tRt0",
    "ExecuteTime": {
     "end_time": "2024-07-02T07:55:22.054104Z",
     "start_time": "2024-07-02T07:55:22.037685Z"
    }
   },
   "source": [
    "# .. Nhập code của bạn ở đây ..\n",
    "data_frame = pd.read_csv(\"breast_cancer_wisconsin.data\", delimiter = \",\")\n",
    "data_frame.columns = ['sample', 'thickness', 'size', 'shape', 'adhesion', 'epithelial', 'nuclei', 'chromatin',\n",
    "                      'nucleoli',\n",
    "                      'mitoses', 'status']\n",
    "\n",
    "data_frame"
   ],
   "outputs": [
    {
     "data": {
      "text/plain": [
       "      sample  thickness  size  shape  adhesion  epithelial nuclei  chromatin  \\\n",
       "0    1002945          5     4      4         5           7     10          3   \n",
       "1    1015425          3     1      1         1           2      2          3   \n",
       "2    1016277          6     8      8         1           3      4          3   \n",
       "3    1017023          4     1      1         3           2      1          3   \n",
       "4    1017122          8    10     10         8           7     10          9   \n",
       "..       ...        ...   ...    ...       ...         ...    ...        ...   \n",
       "693   776715          3     1      1         1           3      2          1   \n",
       "694   841769          2     1      1         1           2      1          1   \n",
       "695   888820          5    10     10         3           7      3          8   \n",
       "696   897471          4     8      6         4           3      4         10   \n",
       "697   897471          4     8      8         5           4      5         10   \n",
       "\n",
       "     nucleoli  mitoses  status  \n",
       "0           2        1       2  \n",
       "1           1        1       2  \n",
       "2           7        1       2  \n",
       "3           1        1       2  \n",
       "4           7        1       4  \n",
       "..        ...      ...     ...  \n",
       "693         1        1       2  \n",
       "694         1        1       2  \n",
       "695        10        2       4  \n",
       "696         6        1       4  \n",
       "697         4        1       4  \n",
       "\n",
       "[698 rows x 11 columns]"
      ],
      "text/html": [
       "<div>\n",
       "<style scoped>\n",
       "    .dataframe tbody tr th:only-of-type {\n",
       "        vertical-align: middle;\n",
       "    }\n",
       "\n",
       "    .dataframe tbody tr th {\n",
       "        vertical-align: top;\n",
       "    }\n",
       "\n",
       "    .dataframe thead th {\n",
       "        text-align: right;\n",
       "    }\n",
       "</style>\n",
       "<table border=\"1\" class=\"dataframe\">\n",
       "  <thead>\n",
       "    <tr style=\"text-align: right;\">\n",
       "      <th></th>\n",
       "      <th>sample</th>\n",
       "      <th>thickness</th>\n",
       "      <th>size</th>\n",
       "      <th>shape</th>\n",
       "      <th>adhesion</th>\n",
       "      <th>epithelial</th>\n",
       "      <th>nuclei</th>\n",
       "      <th>chromatin</th>\n",
       "      <th>nucleoli</th>\n",
       "      <th>mitoses</th>\n",
       "      <th>status</th>\n",
       "    </tr>\n",
       "  </thead>\n",
       "  <tbody>\n",
       "    <tr>\n",
       "      <th>0</th>\n",
       "      <td>1002945</td>\n",
       "      <td>5</td>\n",
       "      <td>4</td>\n",
       "      <td>4</td>\n",
       "      <td>5</td>\n",
       "      <td>7</td>\n",
       "      <td>10</td>\n",
       "      <td>3</td>\n",
       "      <td>2</td>\n",
       "      <td>1</td>\n",
       "      <td>2</td>\n",
       "    </tr>\n",
       "    <tr>\n",
       "      <th>1</th>\n",
       "      <td>1015425</td>\n",
       "      <td>3</td>\n",
       "      <td>1</td>\n",
       "      <td>1</td>\n",
       "      <td>1</td>\n",
       "      <td>2</td>\n",
       "      <td>2</td>\n",
       "      <td>3</td>\n",
       "      <td>1</td>\n",
       "      <td>1</td>\n",
       "      <td>2</td>\n",
       "    </tr>\n",
       "    <tr>\n",
       "      <th>2</th>\n",
       "      <td>1016277</td>\n",
       "      <td>6</td>\n",
       "      <td>8</td>\n",
       "      <td>8</td>\n",
       "      <td>1</td>\n",
       "      <td>3</td>\n",
       "      <td>4</td>\n",
       "      <td>3</td>\n",
       "      <td>7</td>\n",
       "      <td>1</td>\n",
       "      <td>2</td>\n",
       "    </tr>\n",
       "    <tr>\n",
       "      <th>3</th>\n",
       "      <td>1017023</td>\n",
       "      <td>4</td>\n",
       "      <td>1</td>\n",
       "      <td>1</td>\n",
       "      <td>3</td>\n",
       "      <td>2</td>\n",
       "      <td>1</td>\n",
       "      <td>3</td>\n",
       "      <td>1</td>\n",
       "      <td>1</td>\n",
       "      <td>2</td>\n",
       "    </tr>\n",
       "    <tr>\n",
       "      <th>4</th>\n",
       "      <td>1017122</td>\n",
       "      <td>8</td>\n",
       "      <td>10</td>\n",
       "      <td>10</td>\n",
       "      <td>8</td>\n",
       "      <td>7</td>\n",
       "      <td>10</td>\n",
       "      <td>9</td>\n",
       "      <td>7</td>\n",
       "      <td>1</td>\n",
       "      <td>4</td>\n",
       "    </tr>\n",
       "    <tr>\n",
       "      <th>...</th>\n",
       "      <td>...</td>\n",
       "      <td>...</td>\n",
       "      <td>...</td>\n",
       "      <td>...</td>\n",
       "      <td>...</td>\n",
       "      <td>...</td>\n",
       "      <td>...</td>\n",
       "      <td>...</td>\n",
       "      <td>...</td>\n",
       "      <td>...</td>\n",
       "      <td>...</td>\n",
       "    </tr>\n",
       "    <tr>\n",
       "      <th>693</th>\n",
       "      <td>776715</td>\n",
       "      <td>3</td>\n",
       "      <td>1</td>\n",
       "      <td>1</td>\n",
       "      <td>1</td>\n",
       "      <td>3</td>\n",
       "      <td>2</td>\n",
       "      <td>1</td>\n",
       "      <td>1</td>\n",
       "      <td>1</td>\n",
       "      <td>2</td>\n",
       "    </tr>\n",
       "    <tr>\n",
       "      <th>694</th>\n",
       "      <td>841769</td>\n",
       "      <td>2</td>\n",
       "      <td>1</td>\n",
       "      <td>1</td>\n",
       "      <td>1</td>\n",
       "      <td>2</td>\n",
       "      <td>1</td>\n",
       "      <td>1</td>\n",
       "      <td>1</td>\n",
       "      <td>1</td>\n",
       "      <td>2</td>\n",
       "    </tr>\n",
       "    <tr>\n",
       "      <th>695</th>\n",
       "      <td>888820</td>\n",
       "      <td>5</td>\n",
       "      <td>10</td>\n",
       "      <td>10</td>\n",
       "      <td>3</td>\n",
       "      <td>7</td>\n",
       "      <td>3</td>\n",
       "      <td>8</td>\n",
       "      <td>10</td>\n",
       "      <td>2</td>\n",
       "      <td>4</td>\n",
       "    </tr>\n",
       "    <tr>\n",
       "      <th>696</th>\n",
       "      <td>897471</td>\n",
       "      <td>4</td>\n",
       "      <td>8</td>\n",
       "      <td>6</td>\n",
       "      <td>4</td>\n",
       "      <td>3</td>\n",
       "      <td>4</td>\n",
       "      <td>10</td>\n",
       "      <td>6</td>\n",
       "      <td>1</td>\n",
       "      <td>4</td>\n",
       "    </tr>\n",
       "    <tr>\n",
       "      <th>697</th>\n",
       "      <td>897471</td>\n",
       "      <td>4</td>\n",
       "      <td>8</td>\n",
       "      <td>8</td>\n",
       "      <td>5</td>\n",
       "      <td>4</td>\n",
       "      <td>5</td>\n",
       "      <td>10</td>\n",
       "      <td>4</td>\n",
       "      <td>1</td>\n",
       "      <td>4</td>\n",
       "    </tr>\n",
       "  </tbody>\n",
       "</table>\n",
       "<p>698 rows × 11 columns</p>\n",
       "</div>"
      ]
     },
     "execution_count": 14,
     "metadata": {},
     "output_type": "execute_result"
    }
   ],
   "execution_count": 14
  },
  {
   "cell_type": "markdown",
   "metadata": {
    "id": "oSmvSbGjtRt7"
   },
   "source": [
    "Sao chép cột trạng thái vào một slice, sau đó thả cột đó khỏi khung dữ liệu chính. Luôn xác minh rằng bạn đã thực hiện thả đúng cách bằng cách kiểm tra kỹ (in ra kết quả hoạt động)! Nhiều người quên đặt trục bên phải ở đây.\n",
    "\n",
    "Nếu bạn cảm thấy khó chịu khi load tập dữ liệu và nhận thấy rằng bạn có cột `sample`, bạn cũng nên bỏ qua nó nếu bạn chưa có."
   ]
  },
  {
   "cell_type": "code",
   "metadata": {
    "id": "Pc8PoOVttRt9",
    "ExecuteTime": {
     "end_time": "2024-07-02T07:55:25.659457Z",
     "start_time": "2024-07-02T07:55:25.654022Z"
    }
   },
   "source": [
    "# .. Nhập code của bạn ở đây ..\n",
    "status_series = data_frame['status'].copy()\n",
    "data_frame.drop('status', axis = 1, inplace = True)\n"
   ],
   "outputs": [],
   "execution_count": 15
  },
  {
   "metadata": {
    "ExecuteTime": {
     "end_time": "2024-07-02T07:55:27.666553Z",
     "start_time": "2024-07-02T07:55:27.661244Z"
    }
   },
   "cell_type": "code",
   "source": "print(status_series.head())",
   "outputs": [
    {
     "name": "stdout",
     "output_type": "stream",
     "text": [
      "0    2\n",
      "1    2\n",
      "2    2\n",
      "3    2\n",
      "4    4\n",
      "Name: status, dtype: int64\n"
     ]
    }
   ],
   "execution_count": 16
  },
  {
   "cell_type": "markdown",
   "metadata": {
    "collapsed": false,
    "id": "C-3Lo9TKtRuG"
   },
   "source": [
    "Sau khi các nhãn được xuất an toàn từ tập dữ liệu, hãy thay thế bất kỳ giá trị nan nào bằng giá trị cột/thuộc tính trung bình:"
   ]
  },
  {
   "cell_type": "code",
   "metadata": {
    "id": "UjiufhQqtRuH",
    "ExecuteTime": {
     "end_time": "2024-07-02T07:55:30.208699Z",
     "start_time": "2024-07-02T07:55:30.201809Z"
    }
   },
   "source": [
    "# .. Nhập code của bạn ở đây ..\n",
    "data_frame.dtypes"
   ],
   "outputs": [
    {
     "data": {
      "text/plain": [
       "sample         int64\n",
       "thickness      int64\n",
       "size           int64\n",
       "shape          int64\n",
       "adhesion       int64\n",
       "epithelial     int64\n",
       "nuclei        object\n",
       "chromatin      int64\n",
       "nucleoli       int64\n",
       "mitoses        int64\n",
       "dtype: object"
      ]
     },
     "execution_count": 17,
     "metadata": {},
     "output_type": "execute_result"
    }
   ],
   "execution_count": 17
  },
  {
   "metadata": {
    "ExecuteTime": {
     "end_time": "2024-07-02T07:55:32.918270Z",
     "start_time": "2024-07-02T07:55:32.913667Z"
    }
   },
   "cell_type": "code",
   "source": "print(data_frame['nuclei'].unique())",
   "outputs": [
    {
     "name": "stdout",
     "output_type": "stream",
     "text": [
      "['10' '2' '4' '1' '3' '9' '7' '?' '5' '8' '6']\n"
     ]
    }
   ],
   "execution_count": 18
  },
  {
   "metadata": {
    "ExecuteTime": {
     "end_time": "2024-07-02T07:55:34.221877Z",
     "start_time": "2024-07-02T07:55:34.215278Z"
    }
   },
   "cell_type": "code",
   "source": [
    "avg_nuclei = data_frame['nuclei'].replace('?', np.nan).astype(float).mean()\n",
    "print(int(avg_nuclei))\n",
    "data_frame['nuclei'] = data_frame['nuclei'].replace('?', int(avg_nuclei)).astype(np.int64)"
   ],
   "outputs": [
    {
     "name": "stdout",
     "output_type": "stream",
     "text": [
      "3\n"
     ]
    }
   ],
   "execution_count": 19
  },
  {
   "metadata": {
    "ExecuteTime": {
     "end_time": "2024-07-02T07:55:35.135667Z",
     "start_time": "2024-07-02T07:55:35.129169Z"
    }
   },
   "cell_type": "code",
   "source": "data_frame['nuclei'].unique()",
   "outputs": [
    {
     "data": {
      "text/plain": [
       "array([10,  2,  4,  1,  3,  9,  7,  5,  8,  6], dtype=int64)"
      ]
     },
     "execution_count": 20,
     "metadata": {},
     "output_type": "execute_result"
    }
   ],
   "execution_count": 20
  },
  {
   "cell_type": "markdown",
   "metadata": {
    "id": "elH_BYtEtRuO"
   },
   "source": [
    "Triển khai train_test_split. Sử dụng các tên biến tương tự như trên nền tảng EdX trong tài liệu đọc, nhưng đặt random_state = 7 cho khả năng tái lập và giữ test_size ở 0,5 (50%)."
   ]
  },
  {
   "cell_type": "code",
   "metadata": {
    "id": "G6l5zha1tRuP",
    "ExecuteTime": {
     "end_time": "2024-07-02T07:55:37.864983Z",
     "start_time": "2024-07-02T07:55:37.853022Z"
    }
   },
   "source": [
    "# .. Nhập code của bạn ở đây ..\n",
    "from sklearn.model_selection import train_test_split\n",
    "\n",
    "X_train, X_test, y_train, y_test = train_test_split(data_frame, status_series, test_size = 0.5, random_state = 7)\n",
    "\n",
    "print(X_train[:5])\n",
    "print(len(X_train), len(X_test))\n",
    "print('-' * 25)\n",
    "print(y_train[:5])\n",
    "print(len(y_train), len(y_test))"
   ],
   "outputs": [
    {
     "name": "stdout",
     "output_type": "stream",
     "text": [
      "      sample  thickness  size  shape  adhesion  epithelial  nuclei  chromatin  \\\n",
      "467  1105524          4     1      1         1           2       1          1   \n",
      "28   1070935          1     1      3         1           2       1          1   \n",
      "376   654244          1     1      1         1           1       1          2   \n",
      "453  1238410          2     3      1         1           3       1          1   \n",
      "401  1223003          5     3      3         1           2       1          2   \n",
      "\n",
      "     nucleoli  mitoses  \n",
      "467         1        1  \n",
      "28          1        1  \n",
      "376         1        1  \n",
      "453         1        1  \n",
      "401         1        1  \n",
      "349 349\n",
      "-------------------------\n",
      "467    2\n",
      "28     2\n",
      "376    2\n",
      "453    2\n",
      "401    2\n",
      "Name: status, dtype: int64\n",
      "349 349\n"
     ]
    }
   ],
   "execution_count": 21
  },
  {
   "cell_type": "markdown",
   "metadata": {
    "id": "daokpc-8tRuV"
   },
   "source": [
    "Thử nghiệm với các bộ chia tỷ lệ tiền xử lý SKLearn cơ bản. Chúng ta biết rằng các thuộc tính gồm các đơn vị khác nhau được trộn lẫn với nhau, do đó khá hợp lý khi cho rằng việc mở rộng thuộc tính là cần thiết. In ra mô tả của tập dữ liệu, chuyển đổi sau đó. Nhớ lại: khi tiền xử lý, mô hình được huấn luyện dựa trên phần nào của tập dữ liệu? Ngoài ra (các) phần nào của tập dữ liệu thực sự được chuyển đổi?"
   ]
  },
  {
   "cell_type": "code",
   "metadata": {
    "id": "WmOgVKtGtRuW",
    "ExecuteTime": {
     "end_time": "2024-07-02T07:57:33.976982Z",
     "start_time": "2024-07-02T07:57:33.966394Z"
    }
   },
   "source": [
    "# .. Nhập code của bạn ở đây ..\n",
    "from sklearn.preprocessing import MinMaxScaler\n",
    "\n",
    "scaler = MinMaxScaler()\n",
    "\n",
    "X_train = scaler.fit_transform(X_train)\n",
    "X_test = scaler.transform(X_test)\n",
    "\n",
    "print(X_train[:5])\n",
    "print('-' * 25)\n",
    "print(X_test[:5])\n"
   ],
   "outputs": [
    {
     "name": "stdout",
     "output_type": "stream",
     "text": [
      "[[0.12755288 0.33333333 0.         0.         0.         0.11111111\n",
      "  0.         0.         0.         0.        ]\n",
      " [0.12331939 0.         0.         0.22222222 0.         0.11111111\n",
      "  0.         0.         0.         0.        ]\n",
      " [0.07231887 0.         0.         0.         0.         0.\n",
      "  0.         0.11111111 0.         0.        ]\n",
      " [0.14381734 0.11111111 0.22222222 0.         0.         0.22222222\n",
      "  0.         0.         0.         0.        ]\n",
      " [0.14193162 0.44444444 0.22222222 0.22222222 0.         0.11111111\n",
      "  0.         0.11111111 0.         0.        ]]\n",
      "-------------------------\n",
      "[[0.07010183 0.         0.         0.         0.         0.11111111\n",
      "  0.         0.22222222 0.         0.        ]\n",
      " [0.1352336  0.22222222 0.         0.         0.         0.11111111\n",
      "  0.         0.11111111 0.         0.        ]\n",
      " [0.04260269 0.         0.         0.         0.         0.11111111\n",
      "  0.         0.         0.         0.        ]\n",
      " [0.05263888 0.33333333 0.         0.11111111 0.         0.11111111\n",
      "  0.         0.11111111 0.         0.        ]\n",
      " [0.13372681 0.44444444 0.         0.11111111 1.         0.33333333\n",
      "  0.44444444 0.11111111 0.         0.        ]]\n"
     ]
    }
   ],
   "execution_count": 22
  },
  {
   "cell_type": "markdown",
   "metadata": {
    "id": "yq7ZY--PtRud"
   },
   "source": [
    "### Giảm kích thước chiều"
   ]
  },
  {
   "metadata": {
    "ExecuteTime": {
     "end_time": "2024-07-02T07:57:47.451051Z",
     "start_time": "2024-07-02T07:57:47.444050Z"
    }
   },
   "cell_type": "code",
   "source": "X_train.shape",
   "outputs": [
    {
     "data": {
      "text/plain": [
       "(349, 10)"
      ]
     },
     "execution_count": 23,
     "metadata": {},
     "output_type": "execute_result"
    }
   ],
   "execution_count": 23
  },
  {
   "cell_type": "markdown",
   "metadata": {
    "id": "YPONsL9-tRue"
   },
   "source": [
    "[PCA](https://blog.paperspace.com/dimension-reduction-with-principal-component-analysis/) và [Isomap](https://https://blog.paperspace.com/dimension-reduction-with-isomap/) là trợ thủ đắc lực cho bạn"
   ]
  },
  {
   "cell_type": "code",
   "metadata": {
    "id": "UDt5EqiAtRuf",
    "ExecuteTime": {
     "end_time": "2024-07-02T07:59:16.579543Z",
     "start_time": "2024-07-02T07:59:16.572275Z"
    }
   },
   "source": [
    "from sklearn.manifold import Isomap\n",
    "from sklearn.decomposition import PCA\n",
    "\n",
    "model_pca = PCA(n_components = 2)\n",
    "model_isomap = Isomap(n_neighbors = 5, n_components = 2)\n",
    "\n",
    "model_isomap, model_pca"
   ],
   "outputs": [
    {
     "data": {
      "text/plain": [
       "(Isomap(), PCA(n_components=2))"
      ]
     },
     "execution_count": 25,
     "metadata": {},
     "output_type": "execute_result"
    }
   ],
   "execution_count": 25
  },
  {
   "cell_type": "markdown",
   "metadata": {
    "id": "FPKg-N2jvUry"
   },
   "source": [
    "## 2. Huấn luyện mô hình"
   ]
  },
  {
   "cell_type": "markdown",
   "metadata": {
    "id": "yQJILS-StRum"
   },
   "source": [
    "Huấn luyện mô hình của bạn dựa trên data_train, sau đó chuyển đổi cả `data_train` và` data_test` bằng mô hình của bạn. Bạn có thể lưu lại kết quả vào chính các biến."
   ]
  },
  {
   "cell_type": "code",
   "metadata": {
    "id": "QiaqyS7qtRun",
    "ExecuteTime": {
     "end_time": "2024-07-02T08:01:39.925535Z",
     "start_time": "2024-07-02T08:01:39.803282Z"
    }
   },
   "source": [
    "# .. Nhập code của bạn ở đây ..\n",
    "X_train_pca = model_pca.fit_transform(X_train)\n",
    "X_test_pca = model_pca.transform(X_test)\n",
    "\n",
    "X_train_iso = model_isomap.fit_transform(X_train)\n",
    "X_test_iso = model_isomap.transform(X_test)\n",
    "\n",
    "print('PCA:')\n",
    "print(X_train_pca.shape)\n",
    "print(X_train_pca[:5])\n",
    "print('-' * 25)\n",
    "print(X_test_pca[:5])\n",
    "\n",
    "print('Isomap:')\n",
    "print(X_train_iso.shape)\n",
    "print(X_train_iso[:5])\n",
    "print('-' * 25)\n",
    "print(X_test_iso[:5])"
   ],
   "outputs": [
    {
     "name": "stdout",
     "output_type": "stream",
     "text": [
      "PCA:\n",
      "(349, 2)\n",
      "[[-0.51703379  0.00306632]\n",
      " [-0.52790953 -0.08252705]\n",
      " [-0.61606549 -0.02579139]\n",
      " [-0.46693896 -0.10944955]\n",
      " [-0.27228685 -0.06710197]]\n",
      "-------------------------\n",
      "[[-0.55640718 -0.06366204]\n",
      " [-0.51997789 -0.02203837]\n",
      " [-0.6182024  -0.04830575]\n",
      " [-0.44030057 -0.01996804]\n",
      " [ 0.16447985  0.27351475]]\n",
      "Isomap:\n",
      "(349, 2)\n",
      "[[-0.76486893  0.17837208]\n",
      " [-1.37388332 -0.23413045]\n",
      " [-1.19323598 -0.51353521]\n",
      " [-1.17509338  0.21897617]\n",
      " [-0.44694327  0.23574668]]\n",
      "-------------------------\n",
      "[[-1.28302724 -0.34504093]\n",
      " [-0.79950184  0.20725892]\n",
      " [-1.12173661 -0.00195614]\n",
      " [-0.6222211   0.17209859]\n",
      " [-0.38074672 -0.01837818]]\n"
     ]
    }
   ],
   "execution_count": 26
  },
  {
   "cell_type": "markdown",
   "metadata": {
    "id": "SJ2MFLPUtRuv"
   },
   "source": [
    "Triển khai và huấn luyện `KNeighborsClassifier` trên dữ liệu huấn luyện 2D dự kiến tại đây. Bạn có thể đặt tên biến của mình là `knmodel`. Bạn có thể sử dụng bất kỳ giá trị `K` nào từ 1 - 15, vậy hãy thử với nó và xem được kết quả nào. Mục tiêu của bạn là tìm sự cân bằng tốt, trong đó bạn không quá cụ thể (K thấp), cũng không quá chung chung (K cao). Bạn cũng nên thử nghiệm xem việc thay đổi tham số trọng số ảnh hưởng đến kết quả ra sao."
   ]
  },
  {
   "cell_type": "code",
   "metadata": {
    "id": "1aPRKB-vtRuw",
    "ExecuteTime": {
     "end_time": "2024-07-02T08:21:40.228708Z",
     "start_time": "2024-07-02T08:21:38.480289Z"
    }
   },
   "source": [
    "# .. Nhập code của bạn ở đây ..\n",
    "from sklearn.neighbors import KNeighborsClassifier\n",
    "import matplotlib.pyplot as plt\n",
    "\n",
    "k_values = range(1, 16)\n",
    "scores_iso = []\n",
    "scores_pca = []\n",
    "\n",
    "for i in k_values: \n",
    "\tknmodel = KNeighborsClassifier(n_neighbors = i, weights = 'uniform')\n",
    "\tknmodel.fit(X_train_iso, y_train)\n",
    "\tprint(f\"score iso: {knmodel.score(X_test_iso, y_test)}\")\n",
    "\tscores_iso.append(knmodel.score(X_test_iso, y_test))\n",
    "\t\n",
    "\t\n",
    "for i in k_values: \n",
    "\tknmodel = KNeighborsClassifier(n_neighbors = i, weights = 'uniform')\n",
    "\tknmodel.fit(X_train_pca, y_train)\n",
    "\tprint(f\"score pca: {knmodel.score(X_test_pca, y_test)}\")\n",
    "\tscores_pca.append(knmodel.score(X_test_pca, y_test))\n",
    "\t\n",
    "\n",
    "plt.plot(k_values, scores_iso)\n",
    "plt.xlabel('k')\n",
    "plt.ylabel('Score ISO')\n",
    "plt.show()\n",
    "\n",
    "\t\n",
    "plt.plot(k_values, scores_pca)\n",
    "plt.xlabel('k')\n",
    "plt.ylabel('Score PCA')\n",
    "plt.show()"
   ],
   "outputs": [
    {
     "name": "stdout",
     "output_type": "stream",
     "text": [
      "score iso: 0.9283667621776505\n",
      "score iso: 0.9140401146131805\n",
      "score iso: 0.9684813753581661\n",
      "score iso: 0.9598853868194842\n",
      "score iso: 0.9684813753581661\n",
      "score iso: 0.9598853868194842\n",
      "score iso: 0.9598853868194842\n",
      "score iso: 0.9598853868194842\n",
      "score iso: 0.9598853868194842\n",
      "score iso: 0.9570200573065902\n",
      "score iso: 0.9598853868194842\n",
      "score iso: 0.9570200573065902\n",
      "score iso: 0.9541547277936963\n",
      "score iso: 0.9541547277936963\n",
      "score iso: 0.9598853868194842\n",
      "score pca: 0.9340974212034384\n",
      "score pca: 0.9226361031518625\n",
      "score pca: 0.9656160458452722\n",
      "score pca: 0.9627507163323782\n",
      "score pca: 0.9742120343839542\n",
      "score pca: 0.9742120343839542\n",
      "score pca: 0.9713467048710601\n",
      "score pca: 0.9742120343839542\n",
      "score pca: 0.9770773638968482\n",
      "score pca: 0.9770773638968482\n",
      "score pca: 0.9799426934097422\n",
      "score pca: 0.9828080229226361\n",
      "score pca: 0.9799426934097422\n",
      "score pca: 0.9770773638968482\n",
      "score pca: 0.9799426934097422\n"
     ]
    },
    {
     "data": {
      "text/plain": [
       "<Figure size 640x480 with 1 Axes>"
      ],
      "image/png": "[encoded data removed]"
     },
     "metadata": {},
     "output_type": "display_data"
    },
    {
     "data": {
      "text/plain": [
       "<Figure size 640x480 with 1 Axes>"
      ],
      "image/png": "[encoded data removed]"
     },
     "metadata": {},
     "output_type": "display_data"
    }
   ],
   "execution_count": 40
  },
  {
   "metadata": {
    "ExecuteTime": {
     "end_time": "2024-07-02T08:23:21.385152Z",
     "start_time": "2024-07-02T08:23:21.375434Z"
    }
   },
   "cell_type": "code",
   "source": [
    "knmodel = KNeighborsClassifier(n_neighbors =3, weights = 'uniform')\n",
    "knmodel.fit(X_train_pca, y_train)"
   ],
   "outputs": [
    {
     "data": {
      "text/plain": [
       "KNeighborsClassifier(n_neighbors=3)"
      ],
      "text/html": [
       "<style>#sk-container-id-5 {\n",
       "  /* Definition of color scheme common for light and dark mode */\n",
       "  --sklearn-color-text: black;\n",
       "  --sklearn-color-line: gray;\n",
       "  /* Definition of color scheme for unfitted estimators */\n",
       "  --sklearn-color-unfitted-level-0: #fff5e6;\n",
       "  --sklearn-color-unfitted-level-1: #f6e4d2;\n",
       "  --sklearn-color-unfitted-level-2: #ffe0b3;\n",
       "  --sklearn-color-unfitted-level-3: chocolate;\n",
       "  /* Definition of color scheme for fitted estimators */\n",
       "  --sklearn-color-fitted-level-0: #f0f8ff;\n",
       "  --sklearn-color-fitted-level-1: #d4ebff;\n",
       "  --sklearn-color-fitted-level-2: #b3dbfd;\n",
       "  --sklearn-color-fitted-level-3: cornflowerblue;\n",
       "\n",
       "  /* Specific color for light theme */\n",
       "  --sklearn-color-text-on-default-background: var(--sg-text-color, var(--theme-code-foreground, var(--jp-content-font-color1, black)));\n",
       "  --sklearn-color-background: var(--sg-background-color, var(--theme-background, var(--jp-layout-color0, white)));\n",
       "  --sklearn-color-border-box: var(--sg-text-color, var(--theme-code-foreground, var(--jp-content-font-color1, black)));\n",
       "  --sklearn-color-icon: #696969;\n",
       "\n",
       "  @media (prefers-color-scheme: dark) {\n",
       "    /* Redefinition of color scheme for dark theme */\n",
       "    --sklearn-color-text-on-default-background: var(--sg-text-color, var(--theme-code-foreground, var(--jp-content-font-color1, white)));\n",
       "    --sklearn-color-background: var(--sg-background-color, var(--theme-background, var(--jp-layout-color0, #111)));\n",
       "    --sklearn-color-border-box: var(--sg-text-color, var(--theme-code-foreground, var(--jp-content-font-color1, white)));\n",
       "    --sklearn-color-icon: #878787;\n",
       "  }\n",
       "}\n",
       "\n",
       "#sk-container-id-5 {\n",
       "  color: var(--sklearn-color-text);\n",
       "}\n",
       "\n",
       "#sk-container-id-5 pre {\n",
       "  padding: 0;\n",
       "}\n",
       "\n",
       "#sk-container-id-5 input.sk-hidden--visually {\n",
       "  border: 0;\n",
       "  clip: rect(1px 1px 1px 1px);\n",
       "  clip: rect(1px, 1px, 1px, 1px);\n",
       "  height: 1px;\n",
       "  margin: -1px;\n",
       "  overflow: hidden;\n",
       "  padding: 0;\n",
       "  position: absolute;\n",
       "  width: 1px;\n",
       "}\n",
       "\n",
       "#sk-container-id-5 div.sk-dashed-wrapped {\n",
       "  border: 1px dashed var(--sklearn-color-line);\n",
       "  margin: 0 0.4em 0.5em 0.4em;\n",
       "  box-sizing: border-box;\n",
       "  padding-bottom: 0.4em;\n",
       "  background-color: var(--sklearn-color-background);\n",
       "}\n",
       "\n",
       "#sk-container-id-5 div.sk-container {\n",
       "  /* jupyter's `normalize.less` sets `[hidden] { display: none; }`\n",
       "     but bootstrap.min.css set `[hidden] { display: none !important; }`\n",
       "     so we also need the `!important` here to be able to override the\n",
       "     default hidden behavior on the sphinx rendered scikit-learn.org.\n",
       "     See: https://github.com/scikit-learn/scikit-learn/issues/21755 */\n",
       "  display: inline-block !important;\n",
       "  position: relative;\n",
       "}\n",
       "\n",
       "#sk-container-id-5 div.sk-text-repr-fallback {\n",
       "  display: none;\n",
       "}\n",
       "\n",
       "div.sk-parallel-item,\n",
       "div.sk-serial,\n",
       "div.sk-item {\n",
       "  /* draw centered vertical line to link estimators */\n",
       "  background-image: linear-gradient(var(--sklearn-color-text-on-default-background), var(--sklearn-color-text-on-default-background));\n",
       "  background-size: 2px 100%;\n",
       "  background-repeat: no-repeat;\n",
       "  background-position: center center;\n",
       "}\n",
       "\n",
       "/* Parallel-specific style estimator block */\n",
       "\n",
       "#sk-container-id-5 div.sk-parallel-item::after {\n",
       "  content: \"\";\n",
       "  width: 100%;\n",
       "  border-bottom: 2px solid var(--sklearn-color-text-on-default-background);\n",
       "  flex-grow: 1;\n",
       "}\n",
       "\n",
       "#sk-container-id-5 div.sk-parallel {\n",
       "  display: flex;\n",
       "  align-items: stretch;\n",
       "  justify-content: center;\n",
       "  background-color: var(--sklearn-color-background);\n",
       "  position: relative;\n",
       "}\n",
       "\n",
       "#sk-container-id-5 div.sk-parallel-item {\n",
       "  display: flex;\n",
       "  flex-direction: column;\n",
       "}\n",
       "\n",
       "#sk-container-id-5 div.sk-parallel-item:first-child::after {\n",
       "  align-self: flex-end;\n",
       "  width: 50%;\n",
       "}\n",
       "\n",
       "#sk-container-id-5 div.sk-parallel-item:last-child::after {\n",
       "  align-self: flex-start;\n",
       "  width: 50%;\n",
       "}\n",
       "\n",
       "#sk-container-id-5 div.sk-parallel-item:only-child::after {\n",
       "  width: 0;\n",
       "}\n",
       "\n",
       "/* Serial-specific style estimator block */\n",
       "\n",
       "#sk-container-id-5 div.sk-serial {\n",
       "  display: flex;\n",
       "  flex-direction: column;\n",
       "  align-items: center;\n",
       "  background-color: var(--sklearn-color-background);\n",
       "  padding-right: 1em;\n",
       "  padding-left: 1em;\n",
       "}\n",
       "\n",
       "\n",
       "/* Toggleable style: style used for estimator/Pipeline/ColumnTransformer box that is\n",
       "clickable and can be expanded/collapsed.\n",
       "- Pipeline and ColumnTransformer use this feature and define the default style\n",
       "- Estimators will overwrite some part of the style using the `sk-estimator` class\n",
       "*/\n",
       "\n",
       "/* Pipeline and ColumnTransformer style (default) */\n",
       "\n",
       "#sk-container-id-5 div.sk-toggleable {\n",
       "  /* Default theme specific background. It is overwritten whether we have a\n",
       "  specific estimator or a Pipeline/ColumnTransformer */\n",
       "  background-color: var(--sklearn-color-background);\n",
       "}\n",
       "\n",
       "/* Toggleable label */\n",
       "#sk-container-id-5 label.sk-toggleable__label {\n",
       "  cursor: pointer;\n",
       "  display: block;\n",
       "  width: 100%;\n",
       "  margin-bottom: 0;\n",
       "  padding: 0.5em;\n",
       "  box-sizing: border-box;\n",
       "  text-align: center;\n",
       "}\n",
       "\n",
       "#sk-container-id-5 label.sk-toggleable__label-arrow:before {\n",
       "  /* Arrow on the left of the label */\n",
       "  content: \"▸\";\n",
       "  float: left;\n",
       "  margin-right: 0.25em;\n",
       "  color: var(--sklearn-color-icon);\n",
       "}\n",
       "\n",
       "#sk-container-id-5 label.sk-toggleable__label-arrow:hover:before {\n",
       "  color: var(--sklearn-color-text);\n",
       "}\n",
       "\n",
       "/* Toggleable content - dropdown */\n",
       "\n",
       "#sk-container-id-5 div.sk-toggleable__content {\n",
       "  max-height: 0;\n",
       "  max-width: 0;\n",
       "  overflow: hidden;\n",
       "  text-align: left;\n",
       "  /* unfitted */\n",
       "  background-color: var(--sklearn-color-unfitted-level-0);\n",
       "}\n",
       "\n",
       "#sk-container-id-5 div.sk-toggleable__content.fitted {\n",
       "  /* fitted */\n",
       "  background-color: var(--sklearn-color-fitted-level-0);\n",
       "}\n",
       "\n",
       "#sk-container-id-5 div.sk-toggleable__content pre {\n",
       "  margin: 0.2em;\n",
       "  border-radius: 0.25em;\n",
       "  color: var(--sklearn-color-text);\n",
       "  /* unfitted */\n",
       "  background-color: var(--sklearn-color-unfitted-level-0);\n",
       "}\n",
       "\n",
       "#sk-container-id-5 div.sk-toggleable__content.fitted pre {\n",
       "  /* unfitted */\n",
       "  background-color: var(--sklearn-color-fitted-level-0);\n",
       "}\n",
       "\n",
       "#sk-container-id-5 input.sk-toggleable__control:checked~div.sk-toggleable__content {\n",
       "  /* Expand drop-down */\n",
       "  max-height: 200px;\n",
       "  max-width: 100%;\n",
       "  overflow: auto;\n",
       "}\n",
       "\n",
       "#sk-container-id-5 input.sk-toggleable__control:checked~label.sk-toggleable__label-arrow:before {\n",
       "  content: \"▾\";\n",
       "}\n",
       "\n",
       "/* Pipeline/ColumnTransformer-specific style */\n",
       "\n",
       "#sk-container-id-5 div.sk-label input.sk-toggleable__control:checked~label.sk-toggleable__label {\n",
       "  color: var(--sklearn-color-text);\n",
       "  background-color: var(--sklearn-color-unfitted-level-2);\n",
       "}\n",
       "\n",
       "#sk-container-id-5 div.sk-label.fitted input.sk-toggleable__control:checked~label.sk-toggleable__label {\n",
       "  background-color: var(--sklearn-color-fitted-level-2);\n",
       "}\n",
       "\n",
       "/* Estimator-specific style */\n",
       "\n",
       "/* Colorize estimator box */\n",
       "#sk-container-id-5 div.sk-estimator input.sk-toggleable__control:checked~label.sk-toggleable__label {\n",
       "  /* unfitted */\n",
       "  background-color: var(--sklearn-color-unfitted-level-2);\n",
       "}\n",
       "\n",
       "#sk-container-id-5 div.sk-estimator.fitted input.sk-toggleable__control:checked~label.sk-toggleable__label {\n",
       "  /* fitted */\n",
       "  background-color: var(--sklearn-color-fitted-level-2);\n",
       "}\n",
       "\n",
       "#sk-container-id-5 div.sk-label label.sk-toggleable__label,\n",
       "#sk-container-id-5 div.sk-label label {\n",
       "  /* The background is the default theme color */\n",
       "  color: var(--sklearn-color-text-on-default-background);\n",
       "}\n",
       "\n",
       "/* On hover, darken the color of the background */\n",
       "#sk-container-id-5 div.sk-label:hover label.sk-toggleable__label {\n",
       "  color: var(--sklearn-color-text);\n",
       "  background-color: var(--sklearn-color-unfitted-level-2);\n",
       "}\n",
       "\n",
       "/* Label box, darken color on hover, fitted */\n",
       "#sk-container-id-5 div.sk-label.fitted:hover label.sk-toggleable__label.fitted {\n",
       "  color: var(--sklearn-color-text);\n",
       "  background-color: var(--sklearn-color-fitted-level-2);\n",
       "}\n",
       "\n",
       "/* Estimator label */\n",
       "\n",
       "#sk-container-id-5 div.sk-label label {\n",
       "  font-family: monospace;\n",
       "  font-weight: bold;\n",
       "  display: inline-block;\n",
       "  line-height: 1.2em;\n",
       "}\n",
       "\n",
       "#sk-container-id-5 div.sk-label-container {\n",
       "  text-align: center;\n",
       "}\n",
       "\n",
       "/* Estimator-specific */\n",
       "#sk-container-id-5 div.sk-estimator {\n",
       "  font-family: monospace;\n",
       "  border: 1px dotted var(--sklearn-color-border-box);\n",
       "  border-radius: 0.25em;\n",
       "  box-sizing: border-box;\n",
       "  margin-bottom: 0.5em;\n",
       "  /* unfitted */\n",
       "  background-color: var(--sklearn-color-unfitted-level-0);\n",
       "}\n",
       "\n",
       "#sk-container-id-5 div.sk-estimator.fitted {\n",
       "  /* fitted */\n",
       "  background-color: var(--sklearn-color-fitted-level-0);\n",
       "}\n",
       "\n",
       "/* on hover */\n",
       "#sk-container-id-5 div.sk-estimator:hover {\n",
       "  /* unfitted */\n",
       "  background-color: var(--sklearn-color-unfitted-level-2);\n",
       "}\n",
       "\n",
       "#sk-container-id-5 div.sk-estimator.fitted:hover {\n",
       "  /* fitted */\n",
       "  background-color: var(--sklearn-color-fitted-level-2);\n",
       "}\n",
       "\n",
       "/* Specification for estimator info (e.g. \"i\" and \"?\") */\n",
       "\n",
       "/* Common style for \"i\" and \"?\" */\n",
       "\n",
       ".sk-estimator-doc-link,\n",
       "a:link.sk-estimator-doc-link,\n",
       "a:visited.sk-estimator-doc-link {\n",
       "  float: right;\n",
       "  font-size: smaller;\n",
       "  line-height: 1em;\n",
       "  font-family: monospace;\n",
       "  background-color: var(--sklearn-color-background);\n",
       "  border-radius: 1em;\n",
       "  height: 1em;\n",
       "  width: 1em;\n",
       "  text-decoration: none !important;\n",
       "  margin-left: 1ex;\n",
       "  /* unfitted */\n",
       "  border: var(--sklearn-color-unfitted-level-1) 1pt solid;\n",
       "  color: var(--sklearn-color-unfitted-level-1);\n",
       "}\n",
       "\n",
       ".sk-estimator-doc-link.fitted,\n",
       "a:link.sk-estimator-doc-link.fitted,\n",
       "a:visited.sk-estimator-doc-link.fitted {\n",
       "  /* fitted */\n",
       "  border: var(--sklearn-color-fitted-level-1) 1pt solid;\n",
       "  color: var(--sklearn-color-fitted-level-1);\n",
       "}\n",
       "\n",
       "/* On hover */\n",
       "div.sk-estimator:hover .sk-estimator-doc-link:hover,\n",
       ".sk-estimator-doc-link:hover,\n",
       "div.sk-label-container:hover .sk-estimator-doc-link:hover,\n",
       ".sk-estimator-doc-link:hover {\n",
       "  /* unfitted */\n",
       "  background-color: var(--sklearn-color-unfitted-level-3);\n",
       "  color: var(--sklearn-color-background);\n",
       "  text-decoration: none;\n",
       "}\n",
       "\n",
       "div.sk-estimator.fitted:hover .sk-estimator-doc-link.fitted:hover,\n",
       ".sk-estimator-doc-link.fitted:hover,\n",
       "div.sk-label-container:hover .sk-estimator-doc-link.fitted:hover,\n",
       ".sk-estimator-doc-link.fitted:hover {\n",
       "  /* fitted */\n",
       "  background-color: var(--sklearn-color-fitted-level-3);\n",
       "  color: var(--sklearn-color-background);\n",
       "  text-decoration: none;\n",
       "}\n",
       "\n",
       "/* Span, style for the box shown on hovering the info icon */\n",
       ".sk-estimator-doc-link span {\n",
       "  display: none;\n",
       "  z-index: 9999;\n",
       "  position: relative;\n",
       "  font-weight: normal;\n",
       "  right: .2ex;\n",
       "  padding: .5ex;\n",
       "  margin: .5ex;\n",
       "  width: min-content;\n",
       "  min-width: 20ex;\n",
       "  max-width: 50ex;\n",
       "  color: var(--sklearn-color-text);\n",
       "  box-shadow: 2pt 2pt 4pt #999;\n",
       "  /* unfitted */\n",
       "  background: var(--sklearn-color-unfitted-level-0);\n",
       "  border: .5pt solid var(--sklearn-color-unfitted-level-3);\n",
       "}\n",
       "\n",
       ".sk-estimator-doc-link.fitted span {\n",
       "  /* fitted */\n",
       "  background: var(--sklearn-color-fitted-level-0);\n",
       "  border: var(--sklearn-color-fitted-level-3);\n",
       "}\n",
       "\n",
       ".sk-estimator-doc-link:hover span {\n",
       "  display: block;\n",
       "}\n",
       "\n",
       "/* \"?\"-specific style due to the `<a>` HTML tag */\n",
       "\n",
       "#sk-container-id-5 a.estimator_doc_link {\n",
       "  float: right;\n",
       "  font-size: 1rem;\n",
       "  line-height: 1em;\n",
       "  font-family: monospace;\n",
       "  background-color: var(--sklearn-color-background);\n",
       "  border-radius: 1rem;\n",
       "  height: 1rem;\n",
       "  width: 1rem;\n",
       "  text-decoration: none;\n",
       "  /* unfitted */\n",
       "  color: var(--sklearn-color-unfitted-level-1);\n",
       "  border: var(--sklearn-color-unfitted-level-1) 1pt solid;\n",
       "}\n",
       "\n",
       "#sk-container-id-5 a.estimator_doc_link.fitted {\n",
       "  /* fitted */\n",
       "  border: var(--sklearn-color-fitted-level-1) 1pt solid;\n",
       "  color: var(--sklearn-color-fitted-level-1);\n",
       "}\n",
       "\n",
       "/* On hover */\n",
       "#sk-container-id-5 a.estimator_doc_link:hover {\n",
       "  /* unfitted */\n",
       "  background-color: var(--sklearn-color-unfitted-level-3);\n",
       "  color: var(--sklearn-color-background);\n",
       "  text-decoration: none;\n",
       "}\n",
       "\n",
       "#sk-container-id-5 a.estimator_doc_link.fitted:hover {\n",
       "  /* fitted */\n",
       "  background-color: var(--sklearn-color-fitted-level-3);\n",
       "}\n",
       "</style><div id=\"sk-container-id-5\" class=\"sk-top-container\"><div class=\"sk-text-repr-fallback\"><pre>KNeighborsClassifier(n_neighbors=3)</pre><b>In a Jupyter environment, please rerun this cell to show the HTML representation or trust the notebook. <br />On GitHub, the HTML representation is unable to render, please try loading this page with nbviewer.org.</b></div><div class=\"sk-container\" hidden><div class=\"sk-item\"><div class=\"sk-estimator fitted sk-toggleable\"><input class=\"sk-toggleable__control sk-hidden--visually\" id=\"sk-estimator-id-5\" type=\"checkbox\" checked><label for=\"sk-estimator-id-5\" class=\"sk-toggleable__label fitted sk-toggleable__label-arrow fitted\">&nbsp;&nbsp;KNeighborsClassifier<a class=\"sk-estimator-doc-link fitted\" rel=\"noreferrer\" target=\"_blank\" href=\"https://scikit-learn.org/1.5/modules/generated/sklearn.neighbors.KNeighborsClassifier.html\">?<span>Documentation for KNeighborsClassifier</span></a><span class=\"sk-estimator-doc-link fitted\">i<span>Fitted</span></span></label><div class=\"sk-toggleable__content fitted\"><pre>KNeighborsClassifier(n_neighbors=3)</pre></div> </div></div></div></div>"
      ]
     },
     "execution_count": 44,
     "metadata": {},
     "output_type": "execute_result"
    }
   ],
   "execution_count": 44
  },
  {
   "cell_type": "markdown",
   "metadata": {
    "collapsed": false,
    "id": "8_fUw8XTtRu2"
   },
   "source": [
    "Hãy luôn ghi nhớ miền của bài toán! Điều quan trọng hơn là phải phân loại sai một khối u lành tính là ác tính và loại bỏ nó hơn là để lại một khối u ác tính một cách không chính xác, tin rằng nó là lành tính, và sau đó ung thư phát triển. Vì trọng số UDF không cung cấp cho bạn bất kỳ thông tin lớp nào, nên cách duy nhất để đưa dữ liệu này vào Bộ phân loại KNN (KNN Classifier) của SKLearn là \"kết tụ\" nó vào dữ liệu của bạn. Ví dụ, giảm ngẫu nhiên tỷ lệ mẫu lành tính so với mẫu ác tính từ training set."
   ]
  },
  {
   "cell_type": "markdown",
   "metadata": {
    "id": "MxOOC1ksvZXc"
   },
   "source": [
    "## 3. Đánh giá mô hình"
   ]
  },
  {
   "cell_type": "markdown",
   "metadata": {
    "collapsed": true,
    "id": "K3Jio_zStRu3"
   },
   "source": [
    "Tính toán và hiển thị độ chính xác và F1 score của testing set:"
   ]
  },
  {
   "cell_type": "code",
   "metadata": {
    "id": "VrCku8-MtRu4",
    "ExecuteTime": {
     "end_time": "2024-07-02T08:15:51.033114Z",
     "start_time": "2024-07-02T08:15:51.027114Z"
    }
   },
   "source": [
    "# .. Nhập code của bạn ở đây ..\n",
    "print(status_series.unique())"
   ],
   "outputs": [
    {
     "name": "stdout",
     "output_type": "stream",
     "text": [
      "[2 4]\n"
     ]
    }
   ],
   "execution_count": 33
  },
  {
   "metadata": {
    "ExecuteTime": {
     "end_time": "2024-07-02T08:23:24.523943Z",
     "start_time": "2024-07-02T08:23:24.492438Z"
    }
   },
   "cell_type": "code",
   "source": [
    "from sklearn.metrics import f1_score, accuracy_score\n",
    "\n",
    "y_pred_pca = knmodel.predict(X_test_pca)\n",
    "f1_score_pca = f1_score(y_test, y_pred_pca, pos_label = 4)\n",
    "accuracy_score_pca = accuracy_score(y_test, y_pred_pca)\n",
    "\n",
    "print(f'F1 Score: {f1_score_pca}, Accuracy: {accuracy_score_pca}')"
   ],
   "outputs": [
    {
     "name": "stdout",
     "output_type": "stream",
     "text": [
      "F1 Score: 0.9562043795620438, Accuracy: 0.9656160458452722\n"
     ]
    }
   ],
   "execution_count": 45
  },
  {
   "cell_type": "code",
   "metadata": {
    "id": "9OxSR4GHtRu9",
    "ExecuteTime": {
     "end_time": "2024-07-02T08:23:28.517466Z",
     "start_time": "2024-07-02T08:23:28.296464Z"
    }
   },
   "source": [
    "plotDecisionBoundary(knmodel, X_test, y_test)"
   ],
   "outputs": [
    {
     "name": "stdout",
     "output_type": "stream",
     "text": [
      "Plotting...\n"
     ]
    },
    {
     "data": {
      "text/plain": [
       "<Figure size 640x480 with 1 Axes>"
      ],
      "image/png": "[encoded data removed]"
     },
     "metadata": {},
     "output_type": "display_data"
    }
   ],
   "execution_count": 46
  },
  {
   "metadata": {},
   "cell_type": "code",
   "outputs": [],
   "execution_count": null,
   "source": ""
  }
 ]
}
